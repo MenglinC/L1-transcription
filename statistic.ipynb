{
 "cells": [
  {
   "cell_type": "markdown",
   "id": "ba3e0867-c3f4-4fc5-ad96-14001d30e3d4",
   "metadata": {},
   "source": [
    "> 这一个脚本的主要目的是，对L1的表达特征进行计数；即具有怎样性质的L1是表达出来的；\n",
    "> 我们前面已经对L1的结构进行了一个基本的分类，现在就是去看这个东西；"
   ]
  },
  {
   "cell_type": "code",
   "execution_count": 88,
   "id": "b349ec54-a9ab-41a3-bd2d-1406c67dd791",
   "metadata": {},
   "outputs": [],
   "source": [
    "gtf<-read.table(\"/home/xxzhang/data/Genome_reference/GTF/TE_gtf/hg38_rmsk_TE.gtf.locInd.locations\",header=T)"
   ]
  },
  {
   "cell_type": "code",
   "execution_count": 89,
   "id": "73b7977f-ea01-4970-a575-7399de465de1",
   "metadata": {},
   "outputs": [
    {
     "data": {
      "text/html": [
       "<table class=\"dataframe\">\n",
       "<caption>A data.frame: 6 × 2</caption>\n",
       "<thead>\n",
       "\t<tr><th></th><th scope=col>TE</th><th scope=col>chromsome.start.stop.strand</th></tr>\n",
       "\t<tr><th></th><th scope=col>&lt;chr&gt;</th><th scope=col>&lt;chr&gt;</th></tr>\n",
       "</thead>\n",
       "<tbody>\n",
       "\t<tr><th scope=row>1</th><td>L1M2_dup229  </td><td>chr1:100000001-100000637:-</td></tr>\n",
       "\t<tr><th scope=row>2</th><td>AluSx3_dup157</td><td>chr1:10000002-10000239:+  </td></tr>\n",
       "\t<tr><th scope=row>3</th><td>L1M2_dup230  </td><td>chr1:100000744-100002612:-</td></tr>\n",
       "\t<tr><th scope=row>4</th><td>AluSx_dup700 </td><td>chr1:10000251-10000566:+  </td></tr>\n",
       "\t<tr><th scope=row>5</th><td>AluJr_dup3513</td><td>chr1:100002613-100002913:-</td></tr>\n",
       "\t<tr><th scope=row>6</th><td>L1M2_dup231  </td><td>chr1:100002914-100003133:-</td></tr>\n",
       "</tbody>\n",
       "</table>\n"
      ],
      "text/latex": [
       "A data.frame: 6 × 2\n",
       "\\begin{tabular}{r|ll}\n",
       "  & TE & chromsome.start.stop.strand\\\\\n",
       "  & <chr> & <chr>\\\\\n",
       "\\hline\n",
       "\t1 & L1M2\\_dup229   & chr1:100000001-100000637:-\\\\\n",
       "\t2 & AluSx3\\_dup157 & chr1:10000002-10000239:+  \\\\\n",
       "\t3 & L1M2\\_dup230   & chr1:100000744-100002612:-\\\\\n",
       "\t4 & AluSx\\_dup700  & chr1:10000251-10000566:+  \\\\\n",
       "\t5 & AluJr\\_dup3513 & chr1:100002613-100002913:-\\\\\n",
       "\t6 & L1M2\\_dup231   & chr1:100002914-100003133:-\\\\\n",
       "\\end{tabular}\n"
      ],
      "text/markdown": [
       "\n",
       "A data.frame: 6 × 2\n",
       "\n",
       "| <!--/--> | TE &lt;chr&gt; | chromsome.start.stop.strand &lt;chr&gt; |\n",
       "|---|---|---|\n",
       "| 1 | L1M2_dup229   | chr1:100000001-100000637:- |\n",
       "| 2 | AluSx3_dup157 | chr1:10000002-10000239:+   |\n",
       "| 3 | L1M2_dup230   | chr1:100000744-100002612:- |\n",
       "| 4 | AluSx_dup700  | chr1:10000251-10000566:+   |\n",
       "| 5 | AluJr_dup3513 | chr1:100002613-100002913:- |\n",
       "| 6 | L1M2_dup231   | chr1:100002914-100003133:- |\n",
       "\n"
      ],
      "text/plain": [
       "  TE            chromsome.start.stop.strand\n",
       "1 L1M2_dup229   chr1:100000001-100000637:- \n",
       "2 AluSx3_dup157 chr1:10000002-10000239:+   \n",
       "3 L1M2_dup230   chr1:100000744-100002612:- \n",
       "4 AluSx_dup700  chr1:10000251-10000566:+   \n",
       "5 AluJr_dup3513 chr1:100002613-100002913:- \n",
       "6 L1M2_dup231   chr1:100002914-100003133:- "
      ]
     },
     "metadata": {},
     "output_type": "display_data"
    }
   ],
   "source": [
    "head(gtf)"
   ]
  },
  {
   "cell_type": "code",
   "execution_count": 90,
   "id": "ef224fdf-3249-4443-a7e8-e48bd81df11e",
   "metadata": {},
   "outputs": [],
   "source": [
    "colnames(gtf)<-c(\"transcriptID\",\"location\")"
   ]
  },
  {
   "cell_type": "code",
   "execution_count": 91,
   "id": "507385a0-c920-4c5e-8eb9-c8c8a6619f4f",
   "metadata": {},
   "outputs": [],
   "source": [
    "structure<-read.table(\"/home/xxzhang/workplace/software/ORFFinder/data_ext8_ordered.final.txt\",header=T)"
   ]
  },
  {
   "cell_type": "code",
   "execution_count": 92,
   "id": "5cf97ced-589f-48c2-a7de-8440fa27cce8",
   "metadata": {},
   "outputs": [
    {
     "data": {
      "text/html": [
       "<style>\n",
       ".list-inline {list-style: none; margin:0; padding: 0}\n",
       ".list-inline>li {display: inline-block}\n",
       ".list-inline>li:not(:last-child)::after {content: \"\\00b7\"; padding: 0 .5ex}\n",
       "</style>\n",
       "<ol class=list-inline><li>12175</li><li>20</li></ol>\n"
      ],
      "text/latex": [
       "\\begin{enumerate*}\n",
       "\\item 12175\n",
       "\\item 20\n",
       "\\end{enumerate*}\n"
      ],
      "text/markdown": [
       "1. 12175\n",
       "2. 20\n",
       "\n",
       "\n"
      ],
      "text/plain": [
       "[1] 12175    20"
      ]
     },
     "metadata": {},
     "output_type": "display_data"
    }
   ],
   "source": [
    "dim(structure)"
   ]
  },
  {
   "cell_type": "code",
   "execution_count": 93,
   "id": "88bf0eb2-3d4b-4e7b-8a4a-8c3396a414c7",
   "metadata": {},
   "outputs": [
    {
     "data": {
      "text/html": [
       "<table class=\"dataframe\">\n",
       "<caption>A data.frame: 6 × 20</caption>\n",
       "<thead>\n",
       "\t<tr><th></th><th scope=col>subfamily</th><th scope=col>chromsome</th><th scope=col>start</th><th scope=col>stop</th><th scope=col>strand</th><th scope=col>Length</th><th scope=col>orf.start</th><th scope=col>orf.end</th><th scope=col>X.identity</th><th scope=col>alignment.length</th><th scope=col>mismatches</th><th scope=col>gap.opens</th><th scope=col>q.start</th><th scope=col>q.end</th><th scope=col>s.start</th><th scope=col>s..end</th><th scope=col>ORF</th><th scope=col>label</th><th scope=col>class</th><th scope=col>label2</th></tr>\n",
       "\t<tr><th></th><th scope=col>&lt;chr&gt;</th><th scope=col>&lt;chr&gt;</th><th scope=col>&lt;int&gt;</th><th scope=col>&lt;int&gt;</th><th scope=col>&lt;chr&gt;</th><th scope=col>&lt;int&gt;</th><th scope=col>&lt;int&gt;</th><th scope=col>&lt;chr&gt;</th><th scope=col>&lt;dbl&gt;</th><th scope=col>&lt;int&gt;</th><th scope=col>&lt;int&gt;</th><th scope=col>&lt;int&gt;</th><th scope=col>&lt;int&gt;</th><th scope=col>&lt;int&gt;</th><th scope=col>&lt;int&gt;</th><th scope=col>&lt;int&gt;</th><th scope=col>&lt;chr&gt;</th><th scope=col>&lt;chr&gt;</th><th scope=col>&lt;chr&gt;</th><th scope=col>&lt;chr&gt;</th></tr>\n",
       "</thead>\n",
       "<tbody>\n",
       "\t<tr><th scope=row>1</th><td>L1HS</td><td>chr1</td><td>103922066</td><td>103925398</td><td>+</td><td>3332</td><td> 420</td><td>1334</td><td>96.831</td><td> 915</td><td>29</td><td> 0</td><td> 1</td><td> 915</td><td>103</td><td>1017</td><td>ORF1</td><td>chr1:103922066-103925398(+)</td><td>ORF1     </td><td>chr1:103922066-103925398:+</td></tr>\n",
       "\t<tr><th scope=row>2</th><td>L1HS</td><td>chr1</td><td>104770248</td><td>104776278</td><td>-</td><td>6030</td><td> 907</td><td>1923</td><td>98.230</td><td>1017</td><td>18</td><td> 0</td><td> 1</td><td>1017</td><td>  1</td><td>1017</td><td>ORF1</td><td>chr1:104770248-104776278(-)</td><td>ORF1-ORF2</td><td>chr1:104770248-104776278:-</td></tr>\n",
       "\t<tr><th scope=row>3</th><td>L1HS</td><td>chr1</td><td>104770248</td><td>104776278</td><td>-</td><td>6030</td><td>2281</td><td>5814</td><td>98.387</td><td>3534</td><td>57</td><td> 0</td><td> 1</td><td>3534</td><td>295</td><td>3828</td><td>ORF2</td><td>chr1:104770248-104776278(-)</td><td>ORF1-ORF2</td><td>chr1:104770248-104776278:-</td></tr>\n",
       "\t<tr><th scope=row>4</th><td>L1HS</td><td>chr1</td><td>104843834</td><td>104849864</td><td>-</td><td>6030</td><td>1986</td><td>5813</td><td>    NA</td><td>  NA</td><td>NA</td><td>NA</td><td>NA</td><td>  NA</td><td> NA</td><td>  NA</td><td>ORF2</td><td>chr1:104843834-104849864(-)</td><td>ORF2     </td><td>chr1:104843834-104849864:-</td></tr>\n",
       "\t<tr><th scope=row>5</th><td>L1HS</td><td>chr1</td><td>113341608</td><td>113345790</td><td>+</td><td>4182</td><td>1150</td><td>3962</td><td>    NA</td><td>  NA</td><td>NA</td><td>NA</td><td>NA</td><td>  NA</td><td> NA</td><td>  NA</td><td>ORF2</td><td>chr1:113341608-113345790(+)</td><td>ORF2     </td><td>chr1:113341608-113345790:+</td></tr>\n",
       "\t<tr><th scope=row>6</th><td>L1HS</td><td>chr1</td><td>113497221</td><td>113500000</td><td>+</td><td>2779</td><td> 885</td><td>1901</td><td>97.837</td><td>1017</td><td>22</td><td> 0</td><td> 1</td><td>1017</td><td>  1</td><td>1017</td><td>ORF1</td><td>chr1:113497221-113500000(+)</td><td>ORF1-ORF2</td><td>chr1:113497221-113500000:+</td></tr>\n",
       "</tbody>\n",
       "</table>\n"
      ],
      "text/latex": [
       "A data.frame: 6 × 20\n",
       "\\begin{tabular}{r|llllllllllllllllllll}\n",
       "  & subfamily & chromsome & start & stop & strand & Length & orf.start & orf.end & X.identity & alignment.length & mismatches & gap.opens & q.start & q.end & s.start & s..end & ORF & label & class & label2\\\\\n",
       "  & <chr> & <chr> & <int> & <int> & <chr> & <int> & <int> & <chr> & <dbl> & <int> & <int> & <int> & <int> & <int> & <int> & <int> & <chr> & <chr> & <chr> & <chr>\\\\\n",
       "\\hline\n",
       "\t1 & L1HS & chr1 & 103922066 & 103925398 & + & 3332 &  420 & 1334 & 96.831 &  915 & 29 &  0 &  1 &  915 & 103 & 1017 & ORF1 & chr1:103922066-103925398(+) & ORF1      & chr1:103922066-103925398:+\\\\\n",
       "\t2 & L1HS & chr1 & 104770248 & 104776278 & - & 6030 &  907 & 1923 & 98.230 & 1017 & 18 &  0 &  1 & 1017 &   1 & 1017 & ORF1 & chr1:104770248-104776278(-) & ORF1-ORF2 & chr1:104770248-104776278:-\\\\\n",
       "\t3 & L1HS & chr1 & 104770248 & 104776278 & - & 6030 & 2281 & 5814 & 98.387 & 3534 & 57 &  0 &  1 & 3534 & 295 & 3828 & ORF2 & chr1:104770248-104776278(-) & ORF1-ORF2 & chr1:104770248-104776278:-\\\\\n",
       "\t4 & L1HS & chr1 & 104843834 & 104849864 & - & 6030 & 1986 & 5813 &     NA &   NA & NA & NA & NA &   NA &  NA &   NA & ORF2 & chr1:104843834-104849864(-) & ORF2      & chr1:104843834-104849864:-\\\\\n",
       "\t5 & L1HS & chr1 & 113341608 & 113345790 & + & 4182 & 1150 & 3962 &     NA &   NA & NA & NA & NA &   NA &  NA &   NA & ORF2 & chr1:113341608-113345790(+) & ORF2      & chr1:113341608-113345790:+\\\\\n",
       "\t6 & L1HS & chr1 & 113497221 & 113500000 & + & 2779 &  885 & 1901 & 97.837 & 1017 & 22 &  0 &  1 & 1017 &   1 & 1017 & ORF1 & chr1:113497221-113500000(+) & ORF1-ORF2 & chr1:113497221-113500000:+\\\\\n",
       "\\end{tabular}\n"
      ],
      "text/markdown": [
       "\n",
       "A data.frame: 6 × 20\n",
       "\n",
       "| <!--/--> | subfamily &lt;chr&gt; | chromsome &lt;chr&gt; | start &lt;int&gt; | stop &lt;int&gt; | strand &lt;chr&gt; | Length &lt;int&gt; | orf.start &lt;int&gt; | orf.end &lt;chr&gt; | X.identity &lt;dbl&gt; | alignment.length &lt;int&gt; | mismatches &lt;int&gt; | gap.opens &lt;int&gt; | q.start &lt;int&gt; | q.end &lt;int&gt; | s.start &lt;int&gt; | s..end &lt;int&gt; | ORF &lt;chr&gt; | label &lt;chr&gt; | class &lt;chr&gt; | label2 &lt;chr&gt; |\n",
       "|---|---|---|---|---|---|---|---|---|---|---|---|---|---|---|---|---|---|---|---|---|\n",
       "| 1 | L1HS | chr1 | 103922066 | 103925398 | + | 3332 |  420 | 1334 | 96.831 |  915 | 29 |  0 |  1 |  915 | 103 | 1017 | ORF1 | chr1:103922066-103925398(+) | ORF1      | chr1:103922066-103925398:+ |\n",
       "| 2 | L1HS | chr1 | 104770248 | 104776278 | - | 6030 |  907 | 1923 | 98.230 | 1017 | 18 |  0 |  1 | 1017 |   1 | 1017 | ORF1 | chr1:104770248-104776278(-) | ORF1-ORF2 | chr1:104770248-104776278:- |\n",
       "| 3 | L1HS | chr1 | 104770248 | 104776278 | - | 6030 | 2281 | 5814 | 98.387 | 3534 | 57 |  0 |  1 | 3534 | 295 | 3828 | ORF2 | chr1:104770248-104776278(-) | ORF1-ORF2 | chr1:104770248-104776278:- |\n",
       "| 4 | L1HS | chr1 | 104843834 | 104849864 | - | 6030 | 1986 | 5813 |     NA |   NA | NA | NA | NA |   NA |  NA |   NA | ORF2 | chr1:104843834-104849864(-) | ORF2      | chr1:104843834-104849864:- |\n",
       "| 5 | L1HS | chr1 | 113341608 | 113345790 | + | 4182 | 1150 | 3962 |     NA |   NA | NA | NA | NA |   NA |  NA |   NA | ORF2 | chr1:113341608-113345790(+) | ORF2      | chr1:113341608-113345790:+ |\n",
       "| 6 | L1HS | chr1 | 113497221 | 113500000 | + | 2779 |  885 | 1901 | 97.837 | 1017 | 22 |  0 |  1 | 1017 |   1 | 1017 | ORF1 | chr1:113497221-113500000(+) | ORF1-ORF2 | chr1:113497221-113500000:+ |\n",
       "\n"
      ],
      "text/plain": [
       "  subfamily chromsome start     stop      strand Length orf.start orf.end\n",
       "1 L1HS      chr1      103922066 103925398 +      3332    420      1334   \n",
       "2 L1HS      chr1      104770248 104776278 -      6030    907      1923   \n",
       "3 L1HS      chr1      104770248 104776278 -      6030   2281      5814   \n",
       "4 L1HS      chr1      104843834 104849864 -      6030   1986      5813   \n",
       "5 L1HS      chr1      113341608 113345790 +      4182   1150      3962   \n",
       "6 L1HS      chr1      113497221 113500000 +      2779    885      1901   \n",
       "  X.identity alignment.length mismatches gap.opens q.start q.end s.start s..end\n",
       "1 96.831      915             29          0         1       915  103     1017  \n",
       "2 98.230     1017             18          0         1      1017    1     1017  \n",
       "3 98.387     3534             57          0         1      3534  295     3828  \n",
       "4     NA       NA             NA         NA        NA        NA   NA       NA  \n",
       "5     NA       NA             NA         NA        NA        NA   NA       NA  \n",
       "6 97.837     1017             22          0         1      1017    1     1017  \n",
       "  ORF  label                       class     label2                    \n",
       "1 ORF1 chr1:103922066-103925398(+) ORF1      chr1:103922066-103925398:+\n",
       "2 ORF1 chr1:104770248-104776278(-) ORF1-ORF2 chr1:104770248-104776278:-\n",
       "3 ORF2 chr1:104770248-104776278(-) ORF1-ORF2 chr1:104770248-104776278:-\n",
       "4 ORF2 chr1:104843834-104849864(-) ORF2      chr1:104843834-104849864:-\n",
       "5 ORF2 chr1:113341608-113345790(+) ORF2      chr1:113341608-113345790:+\n",
       "6 ORF1 chr1:113497221-113500000(+) ORF1-ORF2 chr1:113497221-113500000:+"
      ]
     },
     "metadata": {},
     "output_type": "display_data"
    }
   ],
   "source": [
    "head(structure)"
   ]
  },
  {
   "cell_type": "code",
   "execution_count": 94,
   "id": "13eeced6-a6ce-456d-8e9d-bf2cb4e79e6e",
   "metadata": {},
   "outputs": [],
   "source": [
    "#现在有点想要删掉，也不用删掉，structure这个数据集中真正对我们有用的两列是最后两列；\n",
    "structure2<-unique(structure[,c(20,1,19)])"
   ]
  },
  {
   "cell_type": "code",
   "execution_count": 95,
   "id": "0b36d9c8-4453-45c7-8037-da8b3698c528",
   "metadata": {},
   "outputs": [
    {
     "data": {
      "text/html": [
       "<style>\n",
       ".list-inline {list-style: none; margin:0; padding: 0}\n",
       ".list-inline>li {display: inline-block}\n",
       ".list-inline>li:not(:last-child)::after {content: \"\\00b7\"; padding: 0 .5ex}\n",
       "</style>\n",
       "<ol class=list-inline><li>11160</li><li>3</li></ol>\n"
      ],
      "text/latex": [
       "\\begin{enumerate*}\n",
       "\\item 11160\n",
       "\\item 3\n",
       "\\end{enumerate*}\n"
      ],
      "text/markdown": [
       "1. 11160\n",
       "2. 3\n",
       "\n",
       "\n"
      ],
      "text/plain": [
       "[1] 11160     3"
      ]
     },
     "metadata": {},
     "output_type": "display_data"
    }
   ],
   "source": [
    "dim(structure2)"
   ]
  },
  {
   "cell_type": "code",
   "execution_count": 96,
   "id": "856e1161-113e-400a-8294-d383b94bc160",
   "metadata": {},
   "outputs": [
    {
     "data": {
      "text/html": [
       "<table class=\"dataframe\">\n",
       "<caption>A data.frame: 6 × 3</caption>\n",
       "<thead>\n",
       "\t<tr><th></th><th scope=col>label2</th><th scope=col>subfamily</th><th scope=col>class</th></tr>\n",
       "\t<tr><th></th><th scope=col>&lt;chr&gt;</th><th scope=col>&lt;chr&gt;</th><th scope=col>&lt;chr&gt;</th></tr>\n",
       "</thead>\n",
       "<tbody>\n",
       "\t<tr><th scope=row>1</th><td>chr1:103922066-103925398:+</td><td>L1HS</td><td>ORF1     </td></tr>\n",
       "\t<tr><th scope=row>2</th><td>chr1:104770248-104776278:-</td><td>L1HS</td><td>ORF1-ORF2</td></tr>\n",
       "\t<tr><th scope=row>4</th><td>chr1:104843834-104849864:-</td><td>L1HS</td><td>ORF2     </td></tr>\n",
       "\t<tr><th scope=row>5</th><td>chr1:113341608-113345790:+</td><td>L1HS</td><td>ORF2     </td></tr>\n",
       "\t<tr><th scope=row>6</th><td>chr1:113497221-113500000:+</td><td>L1HS</td><td>ORF1-ORF2</td></tr>\n",
       "\t<tr><th scope=row>8</th><td>chr1:113500001-113503257:+</td><td>L1HS</td><td>ORF2     </td></tr>\n",
       "</tbody>\n",
       "</table>\n"
      ],
      "text/latex": [
       "A data.frame: 6 × 3\n",
       "\\begin{tabular}{r|lll}\n",
       "  & label2 & subfamily & class\\\\\n",
       "  & <chr> & <chr> & <chr>\\\\\n",
       "\\hline\n",
       "\t1 & chr1:103922066-103925398:+ & L1HS & ORF1     \\\\\n",
       "\t2 & chr1:104770248-104776278:- & L1HS & ORF1-ORF2\\\\\n",
       "\t4 & chr1:104843834-104849864:- & L1HS & ORF2     \\\\\n",
       "\t5 & chr1:113341608-113345790:+ & L1HS & ORF2     \\\\\n",
       "\t6 & chr1:113497221-113500000:+ & L1HS & ORF1-ORF2\\\\\n",
       "\t8 & chr1:113500001-113503257:+ & L1HS & ORF2     \\\\\n",
       "\\end{tabular}\n"
      ],
      "text/markdown": [
       "\n",
       "A data.frame: 6 × 3\n",
       "\n",
       "| <!--/--> | label2 &lt;chr&gt; | subfamily &lt;chr&gt; | class &lt;chr&gt; |\n",
       "|---|---|---|---|\n",
       "| 1 | chr1:103922066-103925398:+ | L1HS | ORF1      |\n",
       "| 2 | chr1:104770248-104776278:- | L1HS | ORF1-ORF2 |\n",
       "| 4 | chr1:104843834-104849864:- | L1HS | ORF2      |\n",
       "| 5 | chr1:113341608-113345790:+ | L1HS | ORF2      |\n",
       "| 6 | chr1:113497221-113500000:+ | L1HS | ORF1-ORF2 |\n",
       "| 8 | chr1:113500001-113503257:+ | L1HS | ORF2      |\n",
       "\n"
      ],
      "text/plain": [
       "  label2                     subfamily class    \n",
       "1 chr1:103922066-103925398:+ L1HS      ORF1     \n",
       "2 chr1:104770248-104776278:- L1HS      ORF1-ORF2\n",
       "4 chr1:104843834-104849864:- L1HS      ORF2     \n",
       "5 chr1:113341608-113345790:+ L1HS      ORF2     \n",
       "6 chr1:113497221-113500000:+ L1HS      ORF1-ORF2\n",
       "8 chr1:113500001-113503257:+ L1HS      ORF2     "
      ]
     },
     "metadata": {},
     "output_type": "display_data"
    }
   ],
   "source": [
    "head(structure2)"
   ]
  },
  {
   "cell_type": "code",
   "execution_count": 97,
   "id": "51216800-38d0-4d09-bfdf-d0f3d1f266c7",
   "metadata": {},
   "outputs": [],
   "source": [
    "colnames(structure2)[1]<-c(\"location\")"
   ]
  },
  {
   "cell_type": "code",
   "execution_count": 98,
   "id": "5b3a93e8-6614-4ae6-8031-d2adf9af68ca",
   "metadata": {},
   "outputs": [],
   "source": [
    "#将两个数据集merge\n",
    "annotationDat<-merge(gtf,structure2,by=\"location\",all=TRUE)"
   ]
  },
  {
   "cell_type": "code",
   "execution_count": 99,
   "id": "395e9c3f-e88a-4dff-adfa-c31a2ba931c2",
   "metadata": {},
   "outputs": [
    {
     "data": {
      "text/html": [
       "<table class=\"dataframe\">\n",
       "<caption>A data.frame: 6 × 4</caption>\n",
       "<thead>\n",
       "\t<tr><th></th><th scope=col>location</th><th scope=col>transcriptID</th><th scope=col>subfamily</th><th scope=col>class</th></tr>\n",
       "\t<tr><th></th><th scope=col>&lt;chr&gt;</th><th scope=col>&lt;chr&gt;</th><th scope=col>&lt;chr&gt;</th><th scope=col>&lt;chr&gt;</th></tr>\n",
       "</thead>\n",
       "<tbody>\n",
       "\t<tr><th scope=row>1</th><td>chr1_GL383518v1_alt:1-100:+        </td><td>AluJo_dup78168 </td><td>NA</td><td>NA</td></tr>\n",
       "\t<tr><th scope=row>2</th><td>chr1_GL383518v1_alt:100662-100869:-</td><td>L1MB7_dup22832 </td><td>NA</td><td>NA</td></tr>\n",
       "\t<tr><th scope=row>3</th><td>chr1_GL383518v1_alt:100870-101167:-</td><td>AluSc8_dup21953</td><td>NA</td><td>NA</td></tr>\n",
       "\t<tr><th scope=row>4</th><td>chr1_GL383518v1_alt:101168-101220:-</td><td>L1MB7_dup22833 </td><td>NA</td><td>NA</td></tr>\n",
       "\t<tr><th scope=row>5</th><td>chr1_GL383518v1_alt:101226-101443:-</td><td>AluJb_dup126187</td><td>NA</td><td>NA</td></tr>\n",
       "\t<tr><th scope=row>6</th><td>chr1_GL383518v1_alt:10134-10440:-  </td><td>AluSq2_dup61023</td><td>NA</td><td>NA</td></tr>\n",
       "</tbody>\n",
       "</table>\n"
      ],
      "text/latex": [
       "A data.frame: 6 × 4\n",
       "\\begin{tabular}{r|llll}\n",
       "  & location & transcriptID & subfamily & class\\\\\n",
       "  & <chr> & <chr> & <chr> & <chr>\\\\\n",
       "\\hline\n",
       "\t1 & chr1\\_GL383518v1\\_alt:1-100:+         & AluJo\\_dup78168  & NA & NA\\\\\n",
       "\t2 & chr1\\_GL383518v1\\_alt:100662-100869:- & L1MB7\\_dup22832  & NA & NA\\\\\n",
       "\t3 & chr1\\_GL383518v1\\_alt:100870-101167:- & AluSc8\\_dup21953 & NA & NA\\\\\n",
       "\t4 & chr1\\_GL383518v1\\_alt:101168-101220:- & L1MB7\\_dup22833  & NA & NA\\\\\n",
       "\t5 & chr1\\_GL383518v1\\_alt:101226-101443:- & AluJb\\_dup126187 & NA & NA\\\\\n",
       "\t6 & chr1\\_GL383518v1\\_alt:10134-10440:-   & AluSq2\\_dup61023 & NA & NA\\\\\n",
       "\\end{tabular}\n"
      ],
      "text/markdown": [
       "\n",
       "A data.frame: 6 × 4\n",
       "\n",
       "| <!--/--> | location &lt;chr&gt; | transcriptID &lt;chr&gt; | subfamily &lt;chr&gt; | class &lt;chr&gt; |\n",
       "|---|---|---|---|---|\n",
       "| 1 | chr1_GL383518v1_alt:1-100:+         | AluJo_dup78168  | NA | NA |\n",
       "| 2 | chr1_GL383518v1_alt:100662-100869:- | L1MB7_dup22832  | NA | NA |\n",
       "| 3 | chr1_GL383518v1_alt:100870-101167:- | AluSc8_dup21953 | NA | NA |\n",
       "| 4 | chr1_GL383518v1_alt:101168-101220:- | L1MB7_dup22833  | NA | NA |\n",
       "| 5 | chr1_GL383518v1_alt:101226-101443:- | AluJb_dup126187 | NA | NA |\n",
       "| 6 | chr1_GL383518v1_alt:10134-10440:-   | AluSq2_dup61023 | NA | NA |\n",
       "\n"
      ],
      "text/plain": [
       "  location                            transcriptID    subfamily class\n",
       "1 chr1_GL383518v1_alt:1-100:+         AluJo_dup78168  NA        NA   \n",
       "2 chr1_GL383518v1_alt:100662-100869:- L1MB7_dup22832  NA        NA   \n",
       "3 chr1_GL383518v1_alt:100870-101167:- AluSc8_dup21953 NA        NA   \n",
       "4 chr1_GL383518v1_alt:101168-101220:- L1MB7_dup22833  NA        NA   \n",
       "5 chr1_GL383518v1_alt:101226-101443:- AluJb_dup126187 NA        NA   \n",
       "6 chr1_GL383518v1_alt:10134-10440:-   AluSq2_dup61023 NA        NA   "
      ]
     },
     "metadata": {},
     "output_type": "display_data"
    }
   ],
   "source": [
    "head(annotationDat)"
   ]
  },
  {
   "cell_type": "code",
   "execution_count": 100,
   "id": "64969bf6-c187-449b-ba7f-d9e3b4526dd1",
   "metadata": {},
   "outputs": [],
   "source": [
    "annotationDat[is.na(annotationDat$class),]$class<-\"not-enough-length\""
   ]
  },
  {
   "cell_type": "code",
   "execution_count": 101,
   "id": "89b923b0-4726-4df6-8b10-d2d162f12cde",
   "metadata": {},
   "outputs": [
    {
     "data": {
      "text/html": [
       "<table class=\"dataframe\">\n",
       "<caption>A data.frame: 6 × 4</caption>\n",
       "<thead>\n",
       "\t<tr><th></th><th scope=col>location</th><th scope=col>transcriptID</th><th scope=col>subfamily</th><th scope=col>class</th></tr>\n",
       "\t<tr><th></th><th scope=col>&lt;chr&gt;</th><th scope=col>&lt;chr&gt;</th><th scope=col>&lt;chr&gt;</th><th scope=col>&lt;chr&gt;</th></tr>\n",
       "</thead>\n",
       "<tbody>\n",
       "\t<tr><th scope=row>1</th><td>chr1_GL383518v1_alt:1-100:+        </td><td>AluJo_dup78168 </td><td>NA</td><td>not-enough-length</td></tr>\n",
       "\t<tr><th scope=row>2</th><td>chr1_GL383518v1_alt:100662-100869:-</td><td>L1MB7_dup22832 </td><td>NA</td><td>not-enough-length</td></tr>\n",
       "\t<tr><th scope=row>3</th><td>chr1_GL383518v1_alt:100870-101167:-</td><td>AluSc8_dup21953</td><td>NA</td><td>not-enough-length</td></tr>\n",
       "\t<tr><th scope=row>4</th><td>chr1_GL383518v1_alt:101168-101220:-</td><td>L1MB7_dup22833 </td><td>NA</td><td>not-enough-length</td></tr>\n",
       "\t<tr><th scope=row>5</th><td>chr1_GL383518v1_alt:101226-101443:-</td><td>AluJb_dup126187</td><td>NA</td><td>not-enough-length</td></tr>\n",
       "\t<tr><th scope=row>6</th><td>chr1_GL383518v1_alt:10134-10440:-  </td><td>AluSq2_dup61023</td><td>NA</td><td>not-enough-length</td></tr>\n",
       "</tbody>\n",
       "</table>\n"
      ],
      "text/latex": [
       "A data.frame: 6 × 4\n",
       "\\begin{tabular}{r|llll}\n",
       "  & location & transcriptID & subfamily & class\\\\\n",
       "  & <chr> & <chr> & <chr> & <chr>\\\\\n",
       "\\hline\n",
       "\t1 & chr1\\_GL383518v1\\_alt:1-100:+         & AluJo\\_dup78168  & NA & not-enough-length\\\\\n",
       "\t2 & chr1\\_GL383518v1\\_alt:100662-100869:- & L1MB7\\_dup22832  & NA & not-enough-length\\\\\n",
       "\t3 & chr1\\_GL383518v1\\_alt:100870-101167:- & AluSc8\\_dup21953 & NA & not-enough-length\\\\\n",
       "\t4 & chr1\\_GL383518v1\\_alt:101168-101220:- & L1MB7\\_dup22833  & NA & not-enough-length\\\\\n",
       "\t5 & chr1\\_GL383518v1\\_alt:101226-101443:- & AluJb\\_dup126187 & NA & not-enough-length\\\\\n",
       "\t6 & chr1\\_GL383518v1\\_alt:10134-10440:-   & AluSq2\\_dup61023 & NA & not-enough-length\\\\\n",
       "\\end{tabular}\n"
      ],
      "text/markdown": [
       "\n",
       "A data.frame: 6 × 4\n",
       "\n",
       "| <!--/--> | location &lt;chr&gt; | transcriptID &lt;chr&gt; | subfamily &lt;chr&gt; | class &lt;chr&gt; |\n",
       "|---|---|---|---|---|\n",
       "| 1 | chr1_GL383518v1_alt:1-100:+         | AluJo_dup78168  | NA | not-enough-length |\n",
       "| 2 | chr1_GL383518v1_alt:100662-100869:- | L1MB7_dup22832  | NA | not-enough-length |\n",
       "| 3 | chr1_GL383518v1_alt:100870-101167:- | AluSc8_dup21953 | NA | not-enough-length |\n",
       "| 4 | chr1_GL383518v1_alt:101168-101220:- | L1MB7_dup22833  | NA | not-enough-length |\n",
       "| 5 | chr1_GL383518v1_alt:101226-101443:- | AluJb_dup126187 | NA | not-enough-length |\n",
       "| 6 | chr1_GL383518v1_alt:10134-10440:-   | AluSq2_dup61023 | NA | not-enough-length |\n",
       "\n"
      ],
      "text/plain": [
       "  location                            transcriptID    subfamily\n",
       "1 chr1_GL383518v1_alt:1-100:+         AluJo_dup78168  NA       \n",
       "2 chr1_GL383518v1_alt:100662-100869:- L1MB7_dup22832  NA       \n",
       "3 chr1_GL383518v1_alt:100870-101167:- AluSc8_dup21953 NA       \n",
       "4 chr1_GL383518v1_alt:101168-101220:- L1MB7_dup22833  NA       \n",
       "5 chr1_GL383518v1_alt:101226-101443:- AluJb_dup126187 NA       \n",
       "6 chr1_GL383518v1_alt:10134-10440:-   AluSq2_dup61023 NA       \n",
       "  class            \n",
       "1 not-enough-length\n",
       "2 not-enough-length\n",
       "3 not-enough-length\n",
       "4 not-enough-length\n",
       "5 not-enough-length\n",
       "6 not-enough-length"
      ]
     },
     "metadata": {},
     "output_type": "display_data"
    }
   ],
   "source": [
    "head(annotationDat) #这个annotationDat就是我们想要的往下去做的结构；"
   ]
  },
  {
   "cell_type": "code",
   "execution_count": 31,
   "id": "4bfefb1c-7b89-43b9-90dd-fc41382df476",
   "metadata": {},
   "outputs": [],
   "source": [
    "expression<-read.table(\"/home/xxzhang/workplace/project/CRISPRa/expression/ESC-div/TElocal/TE.cntTable\",header=T)"
   ]
  },
  {
   "cell_type": "markdown",
   "id": "0733cad7-86ac-435e-9055-ddd2d15fdc06",
   "metadata": {},
   "source": [
    "head(expression)"
   ]
  },
  {
   "cell_type": "code",
   "execution_count": 103,
   "id": "7b1c3261-3c9d-4b7b-a50e-a59fccd0d51a",
   "metadata": {},
   "outputs": [],
   "source": [
    "library(dplyr) #loading packages\n",
    "library(ggplot2)\n",
    "library(tidyr)"
   ]
  },
  {
   "cell_type": "code",
   "execution_count": 34,
   "id": "cb7fb1bd-17ea-4374-aece-8a355fc01224",
   "metadata": {},
   "outputs": [],
   "source": [
    "ExtensionDat<- expression %>% separate(gene.TE, c(\"transcriptID\",\"gene\",\"family\",\"class\"),sep = \":\")\n",
    "FilterDat<-ExtensionDat\n",
    "colnames(FilterDat)[5:13]<-c(\"ESC-1\",\"ESC-2\",\"ESC-3\",\"Neuron-1\",\"Neuron-2\",\n",
    "            \"Neuron-3\",\"Neuron_pro-1\",\"Neuron_pro-2\",\"Neuron_pro-3\")\n"
   ]
  },
  {
   "cell_type": "code",
   "execution_count": 37,
   "id": "95ee306f-a29d-4de6-9c6c-acdfe1393eb1",
   "metadata": {},
   "outputs": [
    {
     "data": {
      "text/html": [
       "<table class=\"dataframe\">\n",
       "<caption>A data.frame: 6 × 4</caption>\n",
       "<thead>\n",
       "\t<tr><th></th><th scope=col>location</th><th scope=col>transcriptID</th><th scope=col>subfamily</th><th scope=col>class</th></tr>\n",
       "\t<tr><th></th><th scope=col>&lt;chr&gt;</th><th scope=col>&lt;chr&gt;</th><th scope=col>&lt;chr&gt;</th><th scope=col>&lt;chr&gt;</th></tr>\n",
       "</thead>\n",
       "<tbody>\n",
       "\t<tr><th scope=row>1</th><td>chr1_GL383518v1_alt:1-100:+        </td><td>AluJo_dup78168 </td><td>NA</td><td>not-enough-length</td></tr>\n",
       "\t<tr><th scope=row>2</th><td>chr1_GL383518v1_alt:100662-100869:-</td><td>L1MB7_dup22832 </td><td>NA</td><td>not-enough-length</td></tr>\n",
       "\t<tr><th scope=row>3</th><td>chr1_GL383518v1_alt:100870-101167:-</td><td>AluSc8_dup21953</td><td>NA</td><td>not-enough-length</td></tr>\n",
       "\t<tr><th scope=row>4</th><td>chr1_GL383518v1_alt:101168-101220:-</td><td>L1MB7_dup22833 </td><td>NA</td><td>not-enough-length</td></tr>\n",
       "\t<tr><th scope=row>5</th><td>chr1_GL383518v1_alt:101226-101443:-</td><td>AluJb_dup126187</td><td>NA</td><td>not-enough-length</td></tr>\n",
       "\t<tr><th scope=row>6</th><td>chr1_GL383518v1_alt:10134-10440:-  </td><td>AluSq2_dup61023</td><td>NA</td><td>not-enough-length</td></tr>\n",
       "</tbody>\n",
       "</table>\n"
      ],
      "text/latex": [
       "A data.frame: 6 × 4\n",
       "\\begin{tabular}{r|llll}\n",
       "  & location & transcriptID & subfamily & class\\\\\n",
       "  & <chr> & <chr> & <chr> & <chr>\\\\\n",
       "\\hline\n",
       "\t1 & chr1\\_GL383518v1\\_alt:1-100:+         & AluJo\\_dup78168  & NA & not-enough-length\\\\\n",
       "\t2 & chr1\\_GL383518v1\\_alt:100662-100869:- & L1MB7\\_dup22832  & NA & not-enough-length\\\\\n",
       "\t3 & chr1\\_GL383518v1\\_alt:100870-101167:- & AluSc8\\_dup21953 & NA & not-enough-length\\\\\n",
       "\t4 & chr1\\_GL383518v1\\_alt:101168-101220:- & L1MB7\\_dup22833  & NA & not-enough-length\\\\\n",
       "\t5 & chr1\\_GL383518v1\\_alt:101226-101443:- & AluJb\\_dup126187 & NA & not-enough-length\\\\\n",
       "\t6 & chr1\\_GL383518v1\\_alt:10134-10440:-   & AluSq2\\_dup61023 & NA & not-enough-length\\\\\n",
       "\\end{tabular}\n"
      ],
      "text/markdown": [
       "\n",
       "A data.frame: 6 × 4\n",
       "\n",
       "| <!--/--> | location &lt;chr&gt; | transcriptID &lt;chr&gt; | subfamily &lt;chr&gt; | class &lt;chr&gt; |\n",
       "|---|---|---|---|---|\n",
       "| 1 | chr1_GL383518v1_alt:1-100:+         | AluJo_dup78168  | NA | not-enough-length |\n",
       "| 2 | chr1_GL383518v1_alt:100662-100869:- | L1MB7_dup22832  | NA | not-enough-length |\n",
       "| 3 | chr1_GL383518v1_alt:100870-101167:- | AluSc8_dup21953 | NA | not-enough-length |\n",
       "| 4 | chr1_GL383518v1_alt:101168-101220:- | L1MB7_dup22833  | NA | not-enough-length |\n",
       "| 5 | chr1_GL383518v1_alt:101226-101443:- | AluJb_dup126187 | NA | not-enough-length |\n",
       "| 6 | chr1_GL383518v1_alt:10134-10440:-   | AluSq2_dup61023 | NA | not-enough-length |\n",
       "\n"
      ],
      "text/plain": [
       "  location                            transcriptID    subfamily\n",
       "1 chr1_GL383518v1_alt:1-100:+         AluJo_dup78168  NA       \n",
       "2 chr1_GL383518v1_alt:100662-100869:- L1MB7_dup22832  NA       \n",
       "3 chr1_GL383518v1_alt:100870-101167:- AluSc8_dup21953 NA       \n",
       "4 chr1_GL383518v1_alt:101168-101220:- L1MB7_dup22833  NA       \n",
       "5 chr1_GL383518v1_alt:101226-101443:- AluJb_dup126187 NA       \n",
       "6 chr1_GL383518v1_alt:10134-10440:-   AluSq2_dup61023 NA       \n",
       "  class            \n",
       "1 not-enough-length\n",
       "2 not-enough-length\n",
       "3 not-enough-length\n",
       "4 not-enough-length\n",
       "5 not-enough-length\n",
       "6 not-enough-length"
      ]
     },
     "metadata": {},
     "output_type": "display_data"
    }
   ],
   "source": [
    "head(annotationDat)"
   ]
  },
  {
   "cell_type": "code",
   "execution_count": 38,
   "id": "aaf3cf53-0188-4c48-8eac-738e8ec83fe7",
   "metadata": {},
   "outputs": [
    {
     "data": {
      "text/html": [
       "<table class=\"dataframe\">\n",
       "<caption>A data.frame: 6 × 13</caption>\n",
       "<thead>\n",
       "\t<tr><th></th><th scope=col>transcriptID</th><th scope=col>gene</th><th scope=col>family</th><th scope=col>class</th><th scope=col>ESC-1</th><th scope=col>ESC-2</th><th scope=col>ESC-3</th><th scope=col>Neuron-1</th><th scope=col>Neuron-2</th><th scope=col>Neuron-3</th><th scope=col>Neuron_pro-1</th><th scope=col>Neuron_pro-2</th><th scope=col>Neuron_pro-3</th></tr>\n",
       "\t<tr><th></th><th scope=col>&lt;chr&gt;</th><th scope=col>&lt;chr&gt;</th><th scope=col>&lt;chr&gt;</th><th scope=col>&lt;chr&gt;</th><th scope=col>&lt;int&gt;</th><th scope=col>&lt;int&gt;</th><th scope=col>&lt;int&gt;</th><th scope=col>&lt;int&gt;</th><th scope=col>&lt;int&gt;</th><th scope=col>&lt;int&gt;</th><th scope=col>&lt;int&gt;</th><th scope=col>&lt;int&gt;</th><th scope=col>&lt;int&gt;</th></tr>\n",
       "</thead>\n",
       "<tbody>\n",
       "\t<tr><th scope=row>1</th><td>(CATTC)n      </td><td>(CATTC)n</td><td>Satellite</td><td>Satellite</td><td>0</td><td>0</td><td>0</td><td>0</td><td>0</td><td>0</td><td>0</td><td>0</td><td>2</td></tr>\n",
       "\t<tr><th scope=row>2</th><td>(CATTC)n_dup10</td><td>(CATTC)n</td><td>Satellite</td><td>Satellite</td><td>0</td><td>0</td><td>0</td><td>0</td><td>0</td><td>0</td><td>0</td><td>0</td><td>0</td></tr>\n",
       "\t<tr><th scope=row>3</th><td>(CATTC)n_dup11</td><td>(CATTC)n</td><td>Satellite</td><td>Satellite</td><td>0</td><td>0</td><td>0</td><td>0</td><td>0</td><td>0</td><td>0</td><td>0</td><td>0</td></tr>\n",
       "\t<tr><th scope=row>4</th><td>(CATTC)n_dup12</td><td>(CATTC)n</td><td>Satellite</td><td>Satellite</td><td>1</td><td>0</td><td>0</td><td>0</td><td>0</td><td>0</td><td>0</td><td>0</td><td>0</td></tr>\n",
       "\t<tr><th scope=row>5</th><td>(CATTC)n_dup13</td><td>(CATTC)n</td><td>Satellite</td><td>Satellite</td><td>0</td><td>0</td><td>0</td><td>0</td><td>0</td><td>0</td><td>0</td><td>0</td><td>0</td></tr>\n",
       "\t<tr><th scope=row>6</th><td>(CATTC)n_dup14</td><td>(CATTC)n</td><td>Satellite</td><td>Satellite</td><td>0</td><td>0</td><td>0</td><td>1</td><td>0</td><td>0</td><td>0</td><td>0</td><td>1</td></tr>\n",
       "</tbody>\n",
       "</table>\n"
      ],
      "text/latex": [
       "A data.frame: 6 × 13\n",
       "\\begin{tabular}{r|lllllllllllll}\n",
       "  & transcriptID & gene & family & class & ESC-1 & ESC-2 & ESC-3 & Neuron-1 & Neuron-2 & Neuron-3 & Neuron\\_pro-1 & Neuron\\_pro-2 & Neuron\\_pro-3\\\\\n",
       "  & <chr> & <chr> & <chr> & <chr> & <int> & <int> & <int> & <int> & <int> & <int> & <int> & <int> & <int>\\\\\n",
       "\\hline\n",
       "\t1 & (CATTC)n       & (CATTC)n & Satellite & Satellite & 0 & 0 & 0 & 0 & 0 & 0 & 0 & 0 & 2\\\\\n",
       "\t2 & (CATTC)n\\_dup10 & (CATTC)n & Satellite & Satellite & 0 & 0 & 0 & 0 & 0 & 0 & 0 & 0 & 0\\\\\n",
       "\t3 & (CATTC)n\\_dup11 & (CATTC)n & Satellite & Satellite & 0 & 0 & 0 & 0 & 0 & 0 & 0 & 0 & 0\\\\\n",
       "\t4 & (CATTC)n\\_dup12 & (CATTC)n & Satellite & Satellite & 1 & 0 & 0 & 0 & 0 & 0 & 0 & 0 & 0\\\\\n",
       "\t5 & (CATTC)n\\_dup13 & (CATTC)n & Satellite & Satellite & 0 & 0 & 0 & 0 & 0 & 0 & 0 & 0 & 0\\\\\n",
       "\t6 & (CATTC)n\\_dup14 & (CATTC)n & Satellite & Satellite & 0 & 0 & 0 & 1 & 0 & 0 & 0 & 0 & 1\\\\\n",
       "\\end{tabular}\n"
      ],
      "text/markdown": [
       "\n",
       "A data.frame: 6 × 13\n",
       "\n",
       "| <!--/--> | transcriptID &lt;chr&gt; | gene &lt;chr&gt; | family &lt;chr&gt; | class &lt;chr&gt; | ESC-1 &lt;int&gt; | ESC-2 &lt;int&gt; | ESC-3 &lt;int&gt; | Neuron-1 &lt;int&gt; | Neuron-2 &lt;int&gt; | Neuron-3 &lt;int&gt; | Neuron_pro-1 &lt;int&gt; | Neuron_pro-2 &lt;int&gt; | Neuron_pro-3 &lt;int&gt; |\n",
       "|---|---|---|---|---|---|---|---|---|---|---|---|---|---|\n",
       "| 1 | (CATTC)n       | (CATTC)n | Satellite | Satellite | 0 | 0 | 0 | 0 | 0 | 0 | 0 | 0 | 2 |\n",
       "| 2 | (CATTC)n_dup10 | (CATTC)n | Satellite | Satellite | 0 | 0 | 0 | 0 | 0 | 0 | 0 | 0 | 0 |\n",
       "| 3 | (CATTC)n_dup11 | (CATTC)n | Satellite | Satellite | 0 | 0 | 0 | 0 | 0 | 0 | 0 | 0 | 0 |\n",
       "| 4 | (CATTC)n_dup12 | (CATTC)n | Satellite | Satellite | 1 | 0 | 0 | 0 | 0 | 0 | 0 | 0 | 0 |\n",
       "| 5 | (CATTC)n_dup13 | (CATTC)n | Satellite | Satellite | 0 | 0 | 0 | 0 | 0 | 0 | 0 | 0 | 0 |\n",
       "| 6 | (CATTC)n_dup14 | (CATTC)n | Satellite | Satellite | 0 | 0 | 0 | 1 | 0 | 0 | 0 | 0 | 1 |\n",
       "\n"
      ],
      "text/plain": [
       "  transcriptID   gene     family    class     ESC-1 ESC-2 ESC-3 Neuron-1\n",
       "1 (CATTC)n       (CATTC)n Satellite Satellite 0     0     0     0       \n",
       "2 (CATTC)n_dup10 (CATTC)n Satellite Satellite 0     0     0     0       \n",
       "3 (CATTC)n_dup11 (CATTC)n Satellite Satellite 0     0     0     0       \n",
       "4 (CATTC)n_dup12 (CATTC)n Satellite Satellite 1     0     0     0       \n",
       "5 (CATTC)n_dup13 (CATTC)n Satellite Satellite 0     0     0     0       \n",
       "6 (CATTC)n_dup14 (CATTC)n Satellite Satellite 0     0     0     1       \n",
       "  Neuron-2 Neuron-3 Neuron_pro-1 Neuron_pro-2 Neuron_pro-3\n",
       "1 0        0        0            0            2           \n",
       "2 0        0        0            0            0           \n",
       "3 0        0        0            0            0           \n",
       "4 0        0        0            0            0           \n",
       "5 0        0        0            0            0           \n",
       "6 0        0        0            0            1           "
      ]
     },
     "metadata": {},
     "output_type": "display_data"
    }
   ],
   "source": [
    "head(FilterDat)"
   ]
  },
  {
   "cell_type": "code",
   "execution_count": 51,
   "id": "7ff8685c-3e94-4416-a4c5-2e951989037d",
   "metadata": {},
   "outputs": [],
   "source": [
    "#table(FilterDat$family)"
   ]
  },
  {
   "cell_type": "code",
   "execution_count": 42,
   "id": "57044cf5-a71a-4c32-a1c3-386d9185797c",
   "metadata": {},
   "outputs": [],
   "source": [
    "FilterDat2<-FilterDat[FilterDat$family==\"L1\",] #表达的结果中仅仅考虑L1"
   ]
  },
  {
   "cell_type": "code",
   "execution_count": 43,
   "id": "5680ce92-6489-41f6-a492-ed7008c1d356",
   "metadata": {},
   "outputs": [],
   "source": [
    "StructureDat<-merge(annotationDat,FilterDat2,by=\"transcriptID\")"
   ]
  },
  {
   "cell_type": "code",
   "execution_count": 44,
   "id": "e5b252b5-7477-4b7f-9814-8a0d35269df7",
   "metadata": {},
   "outputs": [
    {
     "data": {
      "text/html": [
       "<table class=\"dataframe\">\n",
       "<caption>A data.frame: 6 × 16</caption>\n",
       "<thead>\n",
       "\t<tr><th></th><th scope=col>transcriptID</th><th scope=col>location</th><th scope=col>subfamily</th><th scope=col>class.x</th><th scope=col>gene</th><th scope=col>family</th><th scope=col>class.y</th><th scope=col>ESC-1</th><th scope=col>ESC-2</th><th scope=col>ESC-3</th><th scope=col>Neuron-1</th><th scope=col>Neuron-2</th><th scope=col>Neuron-3</th><th scope=col>Neuron_pro-1</th><th scope=col>Neuron_pro-2</th><th scope=col>Neuron_pro-3</th></tr>\n",
       "\t<tr><th></th><th scope=col>&lt;chr&gt;</th><th scope=col>&lt;chr&gt;</th><th scope=col>&lt;chr&gt;</th><th scope=col>&lt;chr&gt;</th><th scope=col>&lt;chr&gt;</th><th scope=col>&lt;chr&gt;</th><th scope=col>&lt;chr&gt;</th><th scope=col>&lt;int&gt;</th><th scope=col>&lt;int&gt;</th><th scope=col>&lt;int&gt;</th><th scope=col>&lt;int&gt;</th><th scope=col>&lt;int&gt;</th><th scope=col>&lt;int&gt;</th><th scope=col>&lt;int&gt;</th><th scope=col>&lt;int&gt;</th><th scope=col>&lt;int&gt;</th></tr>\n",
       "</thead>\n",
       "<tbody>\n",
       "\t<tr><th scope=row>1</th><td>HAL1         </td><td>chr1:50331337-50332274:+  </td><td>NA</td><td>not-enough-length</td><td>HAL1</td><td>L1</td><td>LINE</td><td>0</td><td>0</td><td>0</td><td>0</td><td>0</td><td>0</td><td>0</td><td>0</td><td>0</td></tr>\n",
       "\t<tr><th scope=row>2</th><td>HAL1_dup1    </td><td>chr1:114294733-114297115:+</td><td>NA</td><td>not-enough-length</td><td>HAL1</td><td>L1</td><td>LINE</td><td>0</td><td>0</td><td>0</td><td>0</td><td>0</td><td>0</td><td>0</td><td>0</td><td>0</td></tr>\n",
       "\t<tr><th scope=row>3</th><td>HAL1_dup10   </td><td>chr1:1130956-1131376:-    </td><td>NA</td><td>not-enough-length</td><td>HAL1</td><td>L1</td><td>LINE</td><td>0</td><td>0</td><td>0</td><td>0</td><td>0</td><td>0</td><td>1</td><td>0</td><td>0</td></tr>\n",
       "\t<tr><th scope=row>4</th><td>HAL1_dup100  </td><td>chr1:14842757-14843163:-  </td><td>NA</td><td>not-enough-length</td><td>HAL1</td><td>L1</td><td>LINE</td><td>0</td><td>0</td><td>0</td><td>0</td><td>0</td><td>3</td><td>0</td><td>0</td><td>0</td></tr>\n",
       "\t<tr><th scope=row>5</th><td>HAL1_dup1000 </td><td>chr1:150866514-150866665:+</td><td>NA</td><td>not-enough-length</td><td>HAL1</td><td>L1</td><td>LINE</td><td>0</td><td>0</td><td>0</td><td>0</td><td>0</td><td>0</td><td>0</td><td>0</td><td>0</td></tr>\n",
       "\t<tr><th scope=row>6</th><td>HAL1_dup10000</td><td>chr7:29781941-29781976:+  </td><td>NA</td><td>not-enough-length</td><td>HAL1</td><td>L1</td><td>LINE</td><td>0</td><td>0</td><td>0</td><td>0</td><td>0</td><td>0</td><td>0</td><td>0</td><td>0</td></tr>\n",
       "</tbody>\n",
       "</table>\n"
      ],
      "text/latex": [
       "A data.frame: 6 × 16\n",
       "\\begin{tabular}{r|llllllllllllllll}\n",
       "  & transcriptID & location & subfamily & class.x & gene & family & class.y & ESC-1 & ESC-2 & ESC-3 & Neuron-1 & Neuron-2 & Neuron-3 & Neuron\\_pro-1 & Neuron\\_pro-2 & Neuron\\_pro-3\\\\\n",
       "  & <chr> & <chr> & <chr> & <chr> & <chr> & <chr> & <chr> & <int> & <int> & <int> & <int> & <int> & <int> & <int> & <int> & <int>\\\\\n",
       "\\hline\n",
       "\t1 & HAL1          & chr1:50331337-50332274:+   & NA & not-enough-length & HAL1 & L1 & LINE & 0 & 0 & 0 & 0 & 0 & 0 & 0 & 0 & 0\\\\\n",
       "\t2 & HAL1\\_dup1     & chr1:114294733-114297115:+ & NA & not-enough-length & HAL1 & L1 & LINE & 0 & 0 & 0 & 0 & 0 & 0 & 0 & 0 & 0\\\\\n",
       "\t3 & HAL1\\_dup10    & chr1:1130956-1131376:-     & NA & not-enough-length & HAL1 & L1 & LINE & 0 & 0 & 0 & 0 & 0 & 0 & 1 & 0 & 0\\\\\n",
       "\t4 & HAL1\\_dup100   & chr1:14842757-14843163:-   & NA & not-enough-length & HAL1 & L1 & LINE & 0 & 0 & 0 & 0 & 0 & 3 & 0 & 0 & 0\\\\\n",
       "\t5 & HAL1\\_dup1000  & chr1:150866514-150866665:+ & NA & not-enough-length & HAL1 & L1 & LINE & 0 & 0 & 0 & 0 & 0 & 0 & 0 & 0 & 0\\\\\n",
       "\t6 & HAL1\\_dup10000 & chr7:29781941-29781976:+   & NA & not-enough-length & HAL1 & L1 & LINE & 0 & 0 & 0 & 0 & 0 & 0 & 0 & 0 & 0\\\\\n",
       "\\end{tabular}\n"
      ],
      "text/markdown": [
       "\n",
       "A data.frame: 6 × 16\n",
       "\n",
       "| <!--/--> | transcriptID &lt;chr&gt; | location &lt;chr&gt; | subfamily &lt;chr&gt; | class.x &lt;chr&gt; | gene &lt;chr&gt; | family &lt;chr&gt; | class.y &lt;chr&gt; | ESC-1 &lt;int&gt; | ESC-2 &lt;int&gt; | ESC-3 &lt;int&gt; | Neuron-1 &lt;int&gt; | Neuron-2 &lt;int&gt; | Neuron-3 &lt;int&gt; | Neuron_pro-1 &lt;int&gt; | Neuron_pro-2 &lt;int&gt; | Neuron_pro-3 &lt;int&gt; |\n",
       "|---|---|---|---|---|---|---|---|---|---|---|---|---|---|---|---|---|\n",
       "| 1 | HAL1          | chr1:50331337-50332274:+   | NA | not-enough-length | HAL1 | L1 | LINE | 0 | 0 | 0 | 0 | 0 | 0 | 0 | 0 | 0 |\n",
       "| 2 | HAL1_dup1     | chr1:114294733-114297115:+ | NA | not-enough-length | HAL1 | L1 | LINE | 0 | 0 | 0 | 0 | 0 | 0 | 0 | 0 | 0 |\n",
       "| 3 | HAL1_dup10    | chr1:1130956-1131376:-     | NA | not-enough-length | HAL1 | L1 | LINE | 0 | 0 | 0 | 0 | 0 | 0 | 1 | 0 | 0 |\n",
       "| 4 | HAL1_dup100   | chr1:14842757-14843163:-   | NA | not-enough-length | HAL1 | L1 | LINE | 0 | 0 | 0 | 0 | 0 | 3 | 0 | 0 | 0 |\n",
       "| 5 | HAL1_dup1000  | chr1:150866514-150866665:+ | NA | not-enough-length | HAL1 | L1 | LINE | 0 | 0 | 0 | 0 | 0 | 0 | 0 | 0 | 0 |\n",
       "| 6 | HAL1_dup10000 | chr7:29781941-29781976:+   | NA | not-enough-length | HAL1 | L1 | LINE | 0 | 0 | 0 | 0 | 0 | 0 | 0 | 0 | 0 |\n",
       "\n"
      ],
      "text/plain": [
       "  transcriptID  location                   subfamily class.x           gene\n",
       "1 HAL1          chr1:50331337-50332274:+   NA        not-enough-length HAL1\n",
       "2 HAL1_dup1     chr1:114294733-114297115:+ NA        not-enough-length HAL1\n",
       "3 HAL1_dup10    chr1:1130956-1131376:-     NA        not-enough-length HAL1\n",
       "4 HAL1_dup100   chr1:14842757-14843163:-   NA        not-enough-length HAL1\n",
       "5 HAL1_dup1000  chr1:150866514-150866665:+ NA        not-enough-length HAL1\n",
       "6 HAL1_dup10000 chr7:29781941-29781976:+   NA        not-enough-length HAL1\n",
       "  family class.y ESC-1 ESC-2 ESC-3 Neuron-1 Neuron-2 Neuron-3 Neuron_pro-1\n",
       "1 L1     LINE    0     0     0     0        0        0        0           \n",
       "2 L1     LINE    0     0     0     0        0        0        0           \n",
       "3 L1     LINE    0     0     0     0        0        0        1           \n",
       "4 L1     LINE    0     0     0     0        0        3        0           \n",
       "5 L1     LINE    0     0     0     0        0        0        0           \n",
       "6 L1     LINE    0     0     0     0        0        0        0           \n",
       "  Neuron_pro-2 Neuron_pro-3\n",
       "1 0            0           \n",
       "2 0            0           \n",
       "3 0            0           \n",
       "4 0            0           \n",
       "5 0            0           \n",
       "6 0            0           "
      ]
     },
     "metadata": {},
     "output_type": "display_data"
    }
   ],
   "source": [
    "head(StructureDat)"
   ]
  },
  {
   "cell_type": "code",
   "execution_count": 53,
   "id": "66e8e87d-52a0-4df0-aeac-1603fc961f83",
   "metadata": {},
   "outputs": [],
   "source": [
    "CountTable<-StructureDat%>% count(gene,class.x,name = 'count')"
   ]
  },
  {
   "cell_type": "code",
   "execution_count": 54,
   "id": "408b6ad7-64db-43e0-b172-656b9c90c173",
   "metadata": {},
   "outputs": [
    {
     "data": {
      "text/html": [
       "<table class=\"dataframe\">\n",
       "<caption>A data.frame: 6 × 3</caption>\n",
       "<thead>\n",
       "\t<tr><th></th><th scope=col>gene</th><th scope=col>class.x</th><th scope=col>count</th></tr>\n",
       "\t<tr><th></th><th scope=col>&lt;chr&gt;</th><th scope=col>&lt;chr&gt;</th><th scope=col>&lt;int&gt;</th></tr>\n",
       "</thead>\n",
       "<tbody>\n",
       "\t<tr><th scope=row>1</th><td>HAL1  </td><td>not-enough-length</td><td>23462</td></tr>\n",
       "\t<tr><th scope=row>2</th><td>HAL1M8</td><td>not-enough-length</td><td> 2234</td></tr>\n",
       "\t<tr><th scope=row>3</th><td>HAL1ME</td><td>not-enough-length</td><td> 8923</td></tr>\n",
       "\t<tr><th scope=row>4</th><td>HAL1b </td><td>not-enough-length</td><td> 5511</td></tr>\n",
       "\t<tr><th scope=row>5</th><td>L1HS  </td><td>ORF1             </td><td>   14</td></tr>\n",
       "\t<tr><th scope=row>6</th><td>L1HS  </td><td>ORF1-ORF2        </td><td>  256</td></tr>\n",
       "</tbody>\n",
       "</table>\n"
      ],
      "text/latex": [
       "A data.frame: 6 × 3\n",
       "\\begin{tabular}{r|lll}\n",
       "  & gene & class.x & count\\\\\n",
       "  & <chr> & <chr> & <int>\\\\\n",
       "\\hline\n",
       "\t1 & HAL1   & not-enough-length & 23462\\\\\n",
       "\t2 & HAL1M8 & not-enough-length &  2234\\\\\n",
       "\t3 & HAL1ME & not-enough-length &  8923\\\\\n",
       "\t4 & HAL1b  & not-enough-length &  5511\\\\\n",
       "\t5 & L1HS   & ORF1              &    14\\\\\n",
       "\t6 & L1HS   & ORF1-ORF2         &   256\\\\\n",
       "\\end{tabular}\n"
      ],
      "text/markdown": [
       "\n",
       "A data.frame: 6 × 3\n",
       "\n",
       "| <!--/--> | gene &lt;chr&gt; | class.x &lt;chr&gt; | count &lt;int&gt; |\n",
       "|---|---|---|---|\n",
       "| 1 | HAL1   | not-enough-length | 23462 |\n",
       "| 2 | HAL1M8 | not-enough-length |  2234 |\n",
       "| 3 | HAL1ME | not-enough-length |  8923 |\n",
       "| 4 | HAL1b  | not-enough-length |  5511 |\n",
       "| 5 | L1HS   | ORF1              |    14 |\n",
       "| 6 | L1HS   | ORF1-ORF2         |   256 |\n",
       "\n"
      ],
      "text/plain": [
       "  gene   class.x           count\n",
       "1 HAL1   not-enough-length 23462\n",
       "2 HAL1M8 not-enough-length  2234\n",
       "3 HAL1ME not-enough-length  8923\n",
       "4 HAL1b  not-enough-length  5511\n",
       "5 L1HS   ORF1                 14\n",
       "6 L1HS   ORF1-ORF2           256"
      ]
     },
     "metadata": {},
     "output_type": "display_data"
    }
   ],
   "source": [
    "head(CountTable)"
   ]
  },
  {
   "cell_type": "code",
   "execution_count": 56,
   "id": "20450d3a-886b-4a18-b55e-6778162db307",
   "metadata": {},
   "outputs": [],
   "source": [
    "library(RColorBrewer)\n",
    "colourCount <-  length(unique(CountTable$class.x))"
   ]
  },
  {
   "cell_type": "code",
   "execution_count": 72,
   "id": "29df0884-b0d3-4e4b-a4ba-4ffd8c5d41e2",
   "metadata": {},
   "outputs": [],
   "source": [
    "options(repr.plot.width =7, repr.plot.height =20)"
   ]
  },
  {
   "cell_type": "code",
   "execution_count": 73,
   "id": "7e604574-6600-4e0f-8c4a-a4423d6de47e",
   "metadata": {},
   "outputs": [],
   "source": [
    "p<-ggplot(CountTable, aes(gene,log10(count+1),fill = class.x))+\n",
    "    geom_col(position = 'stack', width = 0.7) +\n",
    "    labs(x = '', y = 'Relative Abundance(%)') +\n",
    "    theme(axis.text = element_text(size = 12), axis.title = element_text(size = 13)) +\n",
    "    theme(legend.text = element_text(size = 11))+\n",
    "    theme_classic()+\n",
    "    scale_fill_manual(values = colorRampPalette(brewer.pal(8, \"Set2\"))(colourCount))+\n",
    "    theme(legend.position = \"bottom\" ,legend.box = \"horizontal\")+\n",
    "    coord_flip()\n",
    "    #scale_fill_manual(values =  rev(c('blue', 'orange', 'green', 'yellow', 'red', 'hotpink', 'cyan','purple', 'burlywood1', 'skyblue', 'gray',\n",
    "    #                                 \"＃A52A2A\",\"＃E9967A\",\"＃FFA07A\",\"＃DAA520\",\"＃F0E68C\",\"＃9ACD32\"))) \n",
    "#problem occurs in the last sentence;"
   ]
  },
  {
   "cell_type": "code",
   "execution_count": 77,
   "id": "e3c4c3cf-faf1-4756-b42b-07a6b1037f99",
   "metadata": {},
   "outputs": [],
   "source": [
    "#p"
   ]
  },
  {
   "cell_type": "code",
   "execution_count": 75,
   "id": "41de7410-cb61-4dd1-8697-9133b0eb280b",
   "metadata": {},
   "outputs": [
    {
     "data": {
      "text/html": [
       "<strong>png:</strong> 2"
      ],
      "text/latex": [
       "\\textbf{png:} 2"
      ],
      "text/markdown": [
       "**png:** 2"
      ],
      "text/plain": [
       "png \n",
       "  2 "
      ]
     },
     "metadata": {},
     "output_type": "display_data"
    }
   ],
   "source": [
    "pdf('L1-count.pdf',width = 7,height = 20)\n",
    "p\n",
    "dev.off()"
   ]
  },
  {
   "cell_type": "code",
   "execution_count": 78,
   "id": "c9b0d3a6-8410-4e9c-b299-942685126eac",
   "metadata": {},
   "outputs": [],
   "source": [
    "CountTable2<-CountTable%>% filter(gene%in%c(\"L1HS\",\"L1PA2\",\"L1PA3\",\"L1PA4\",\"L1PA5\",\"L1PA6\",\"L1PA7\",\"L1PA8\"))"
   ]
  },
  {
   "cell_type": "code",
   "execution_count": 79,
   "id": "4890f483-b027-4819-8da0-6c3684d7d59d",
   "metadata": {},
   "outputs": [],
   "source": [
    "library(RColorBrewer)\n",
    "colourCount <-  length(unique(CountTable2$class.x))"
   ]
  },
  {
   "cell_type": "code",
   "execution_count": 85,
   "id": "b0d7a6a1-4be8-47ff-8c1b-6085feadbc9a",
   "metadata": {},
   "outputs": [],
   "source": [
    "options(repr.plot.width =6, repr.plot.height =3)\n",
    "p<-ggplot(CountTable2, aes(gene,log10(count+1),fill = class.x))+\n",
    "    geom_col(position = 'stack', width = 0.7) +\n",
    "    labs(x = '', y = 'log10(count+1)') +\n",
    "    theme(axis.text = element_text(size = 12), axis.title = element_text(size = 13)) +\n",
    "    theme(legend.text = element_text(size = 11))+\n",
    "    theme_classic()+\n",
    "    scale_fill_manual(values = colorRampPalette(brewer.pal(8, \"Set2\"))(colourCount))+\n",
    "    theme(legend.position = \"bottom\" ,legend.box = \"horizontal\")+\n",
    "    coord_flip()"
   ]
  },
  {
   "cell_type": "code",
   "execution_count": 86,
   "id": "d3d2d95f-8814-48f7-82bb-7799d170c7c0",
   "metadata": {},
   "outputs": [
    {
     "data": {
      "image/png": "[encoded data removed]",
      "text/plain": [
       "plot without title"
      ]
     },
     "metadata": {
      "image/png": {
       "height": 180,
       "width": 360
      }
     },
     "output_type": "display_data"
    }
   ],
   "source": [
    "p"
   ]
  },
  {
   "cell_type": "code",
   "execution_count": 87,
   "id": "b3aec175-7455-4510-8bf6-b477694ec7c3",
   "metadata": {},
   "outputs": [
    {
     "data": {
      "text/html": [
       "<strong>png:</strong> 2"
      ],
      "text/latex": [
       "\\textbf{png:} 2"
      ],
      "text/markdown": [
       "**png:** 2"
      ],
      "text/plain": [
       "png \n",
       "  2 "
      ]
     },
     "metadata": {},
     "output_type": "display_data"
    }
   ],
   "source": [
    "pdf('L1-count-subset.pdf',width = 6,height = 3)\n",
    "p\n",
    "dev.off()"
   ]
  },
  {
   "cell_type": "code",
   "execution_count": 105,
   "id": "1d373da6-c522-4c0f-aa7e-43f3bed37432",
   "metadata": {},
   "outputs": [
    {
     "data": {
      "text/html": [
       "<table class=\"dataframe\">\n",
       "<caption>A data.frame: 6 × 2</caption>\n",
       "<thead>\n",
       "\t<tr><th></th><th scope=col>transcriptID</th><th scope=col>location</th></tr>\n",
       "\t<tr><th></th><th scope=col>&lt;chr&gt;</th><th scope=col>&lt;chr&gt;</th></tr>\n",
       "</thead>\n",
       "<tbody>\n",
       "\t<tr><th scope=row>1</th><td>L1M2_dup229  </td><td>chr1:100000001-100000637:-</td></tr>\n",
       "\t<tr><th scope=row>2</th><td>AluSx3_dup157</td><td>chr1:10000002-10000239:+  </td></tr>\n",
       "\t<tr><th scope=row>3</th><td>L1M2_dup230  </td><td>chr1:100000744-100002612:-</td></tr>\n",
       "\t<tr><th scope=row>4</th><td>AluSx_dup700 </td><td>chr1:10000251-10000566:+  </td></tr>\n",
       "\t<tr><th scope=row>5</th><td>AluJr_dup3513</td><td>chr1:100002613-100002913:-</td></tr>\n",
       "\t<tr><th scope=row>6</th><td>L1M2_dup231  </td><td>chr1:100002914-100003133:-</td></tr>\n",
       "</tbody>\n",
       "</table>\n"
      ],
      "text/latex": [
       "A data.frame: 6 × 2\n",
       "\\begin{tabular}{r|ll}\n",
       "  & transcriptID & location\\\\\n",
       "  & <chr> & <chr>\\\\\n",
       "\\hline\n",
       "\t1 & L1M2\\_dup229   & chr1:100000001-100000637:-\\\\\n",
       "\t2 & AluSx3\\_dup157 & chr1:10000002-10000239:+  \\\\\n",
       "\t3 & L1M2\\_dup230   & chr1:100000744-100002612:-\\\\\n",
       "\t4 & AluSx\\_dup700  & chr1:10000251-10000566:+  \\\\\n",
       "\t5 & AluJr\\_dup3513 & chr1:100002613-100002913:-\\\\\n",
       "\t6 & L1M2\\_dup231   & chr1:100002914-100003133:-\\\\\n",
       "\\end{tabular}\n"
      ],
      "text/markdown": [
       "\n",
       "A data.frame: 6 × 2\n",
       "\n",
       "| <!--/--> | transcriptID &lt;chr&gt; | location &lt;chr&gt; |\n",
       "|---|---|---|\n",
       "| 1 | L1M2_dup229   | chr1:100000001-100000637:- |\n",
       "| 2 | AluSx3_dup157 | chr1:10000002-10000239:+   |\n",
       "| 3 | L1M2_dup230   | chr1:100000744-100002612:- |\n",
       "| 4 | AluSx_dup700  | chr1:10000251-10000566:+   |\n",
       "| 5 | AluJr_dup3513 | chr1:100002613-100002913:- |\n",
       "| 6 | L1M2_dup231   | chr1:100002914-100003133:- |\n",
       "\n"
      ],
      "text/plain": [
       "  transcriptID  location                  \n",
       "1 L1M2_dup229   chr1:100000001-100000637:-\n",
       "2 AluSx3_dup157 chr1:10000002-10000239:+  \n",
       "3 L1M2_dup230   chr1:100000744-100002612:-\n",
       "4 AluSx_dup700  chr1:10000251-10000566:+  \n",
       "5 AluJr_dup3513 chr1:100002613-100002913:-\n",
       "6 L1M2_dup231   chr1:100002914-100003133:-"
      ]
     },
     "metadata": {},
     "output_type": "display_data"
    }
   ],
   "source": [
    "head(gtf)"
   ]
  },
  {
   "cell_type": "code",
   "execution_count": 106,
   "id": "8afb6885-7212-414a-8a7e-557963c463b2",
   "metadata": {},
   "outputs": [
    {
     "name": "stderr",
     "output_type": "stream",
     "text": [
      "Warning message:\n",
      "“\u001b[1m\u001b[22mExpected 4 pieces. Additional pieces discarded in 2351491 rows [1, 3, 5, 6, 8,\n",
      "9, 10, 11, 12, 13, 14, 15, 18, 20, 22, 27, 30, 32, 33, 35, ...].”\n"
     ]
    }
   ],
   "source": [
    "#这里想绘制，具有完整结构的L1s的长度是否具有某种偏好性；\n",
    "#gtf<-read.table(\"/home/xxzhang/data/Genome_reference/GTF/TE_gtf/hg38_rmsk_TE.gtf.locInd.locations\",header=T)\n",
    "gtff<-gtf %>% separate(location, c(\"chromsome\",\"start\",\"stop\",\"strand\"),sep = \"[-|:]\")\n",
    "colnames(gtff)[1]<-\"transcript\"\n",
    "gtff$start<-as.numeric(gtff$start)\n",
    "gtff$stop<-as.numeric(gtff$stop)\n",
    "gtff$length<-gtff$stop-gtff$start"
   ]
  },
  {
   "cell_type": "code",
   "execution_count": 109,
   "id": "4ff95e29-6cc2-42c2-9ac8-45227c68b784",
   "metadata": {},
   "outputs": [],
   "source": [
    "colnames(gtff)[1] <-c(\"transcriptID\")"
   ]
  },
  {
   "cell_type": "code",
   "execution_count": 110,
   "id": "1ebd0f0d-6581-4da9-ba54-bf26b497bc72",
   "metadata": {},
   "outputs": [
    {
     "data": {
      "text/html": [
       "<table class=\"dataframe\">\n",
       "<caption>A data.frame: 6 × 6</caption>\n",
       "<thead>\n",
       "\t<tr><th></th><th scope=col>transcriptID</th><th scope=col>chromsome</th><th scope=col>start</th><th scope=col>stop</th><th scope=col>strand</th><th scope=col>length</th></tr>\n",
       "\t<tr><th></th><th scope=col>&lt;chr&gt;</th><th scope=col>&lt;chr&gt;</th><th scope=col>&lt;dbl&gt;</th><th scope=col>&lt;dbl&gt;</th><th scope=col>&lt;chr&gt;</th><th scope=col>&lt;dbl&gt;</th></tr>\n",
       "</thead>\n",
       "<tbody>\n",
       "\t<tr><th scope=row>1</th><td>L1M2_dup229  </td><td>chr1</td><td>100000001</td><td>100000637</td><td> </td><td> 636</td></tr>\n",
       "\t<tr><th scope=row>2</th><td>AluSx3_dup157</td><td>chr1</td><td> 10000002</td><td> 10000239</td><td>+</td><td> 237</td></tr>\n",
       "\t<tr><th scope=row>3</th><td>L1M2_dup230  </td><td>chr1</td><td>100000744</td><td>100002612</td><td> </td><td>1868</td></tr>\n",
       "\t<tr><th scope=row>4</th><td>AluSx_dup700 </td><td>chr1</td><td> 10000251</td><td> 10000566</td><td>+</td><td> 315</td></tr>\n",
       "\t<tr><th scope=row>5</th><td>AluJr_dup3513</td><td>chr1</td><td>100002613</td><td>100002913</td><td> </td><td> 300</td></tr>\n",
       "\t<tr><th scope=row>6</th><td>L1M2_dup231  </td><td>chr1</td><td>100002914</td><td>100003133</td><td> </td><td> 219</td></tr>\n",
       "</tbody>\n",
       "</table>\n"
      ],
      "text/latex": [
       "A data.frame: 6 × 6\n",
       "\\begin{tabular}{r|llllll}\n",
       "  & transcriptID & chromsome & start & stop & strand & length\\\\\n",
       "  & <chr> & <chr> & <dbl> & <dbl> & <chr> & <dbl>\\\\\n",
       "\\hline\n",
       "\t1 & L1M2\\_dup229   & chr1 & 100000001 & 100000637 &   &  636\\\\\n",
       "\t2 & AluSx3\\_dup157 & chr1 &  10000002 &  10000239 & + &  237\\\\\n",
       "\t3 & L1M2\\_dup230   & chr1 & 100000744 & 100002612 &   & 1868\\\\\n",
       "\t4 & AluSx\\_dup700  & chr1 &  10000251 &  10000566 & + &  315\\\\\n",
       "\t5 & AluJr\\_dup3513 & chr1 & 100002613 & 100002913 &   &  300\\\\\n",
       "\t6 & L1M2\\_dup231   & chr1 & 100002914 & 100003133 &   &  219\\\\\n",
       "\\end{tabular}\n"
      ],
      "text/markdown": [
       "\n",
       "A data.frame: 6 × 6\n",
       "\n",
       "| <!--/--> | transcriptID &lt;chr&gt; | chromsome &lt;chr&gt; | start &lt;dbl&gt; | stop &lt;dbl&gt; | strand &lt;chr&gt; | length &lt;dbl&gt; |\n",
       "|---|---|---|---|---|---|---|\n",
       "| 1 | L1M2_dup229   | chr1 | 100000001 | 100000637 | <!----> |  636 |\n",
       "| 2 | AluSx3_dup157 | chr1 |  10000002 |  10000239 | + |  237 |\n",
       "| 3 | L1M2_dup230   | chr1 | 100000744 | 100002612 | <!----> | 1868 |\n",
       "| 4 | AluSx_dup700  | chr1 |  10000251 |  10000566 | + |  315 |\n",
       "| 5 | AluJr_dup3513 | chr1 | 100002613 | 100002913 | <!----> |  300 |\n",
       "| 6 | L1M2_dup231   | chr1 | 100002914 | 100003133 | <!----> |  219 |\n",
       "\n"
      ],
      "text/plain": [
       "  transcriptID  chromsome start     stop      strand length\n",
       "1 L1M2_dup229   chr1      100000001 100000637         636  \n",
       "2 AluSx3_dup157 chr1       10000002  10000239 +       237  \n",
       "3 L1M2_dup230   chr1      100000744 100002612        1868  \n",
       "4 AluSx_dup700  chr1       10000251  10000566 +       315  \n",
       "5 AluJr_dup3513 chr1      100002613 100002913         300  \n",
       "6 L1M2_dup231   chr1      100002914 100003133         219  "
      ]
     },
     "metadata": {},
     "output_type": "display_data"
    }
   ],
   "source": [
    "head(gtff)"
   ]
  },
  {
   "cell_type": "code",
   "execution_count": 111,
   "id": "8f6c3fe7-55d6-435d-92df-be6d415e1c81",
   "metadata": {},
   "outputs": [],
   "source": [
    "gtff$Length_label[gtff$length>6000] <-\">6k\"\n",
    "gtff$Length_label[gtff$length<=6000 & gtff$length>4000 ] <-\"4k-6k\"\n",
    "gtff$Length_label[gtff$length<=4000 & gtff$length>2000 ] <-\"2k-4k\"\n",
    "#LengthDat_long$Length_label[2000<LengthDat_long$length< 4000] <-\"2k-4k\"\n",
    "gtff$Length_label[gtff$length<= 2000] <-\"<=2k\""
   ]
  },
  {
   "cell_type": "code",
   "execution_count": 112,
   "id": "d0397db6-010a-45d4-821b-26cd590d0cda",
   "metadata": {},
   "outputs": [
    {
     "data": {
      "text/html": [
       "<table class=\"dataframe\">\n",
       "<caption>A data.frame: 6 × 7</caption>\n",
       "<thead>\n",
       "\t<tr><th></th><th scope=col>transcriptID</th><th scope=col>chromsome</th><th scope=col>start</th><th scope=col>stop</th><th scope=col>strand</th><th scope=col>length</th><th scope=col>Length_label</th></tr>\n",
       "\t<tr><th></th><th scope=col>&lt;chr&gt;</th><th scope=col>&lt;chr&gt;</th><th scope=col>&lt;dbl&gt;</th><th scope=col>&lt;dbl&gt;</th><th scope=col>&lt;chr&gt;</th><th scope=col>&lt;dbl&gt;</th><th scope=col>&lt;chr&gt;</th></tr>\n",
       "</thead>\n",
       "<tbody>\n",
       "\t<tr><th scope=row>1</th><td><span style=white-space:pre-wrap>L1M2_dup229  </span></td><td>chr1</td><td>100000001</td><td>100000637</td><td> </td><td> 636</td><td>&lt;=2k</td></tr>\n",
       "\t<tr><th scope=row>2</th><td>AluSx3_dup157</td><td>chr1</td><td> 10000002</td><td> 10000239</td><td>+</td><td> 237</td><td>&lt;=2k</td></tr>\n",
       "\t<tr><th scope=row>3</th><td><span style=white-space:pre-wrap>L1M2_dup230  </span></td><td>chr1</td><td>100000744</td><td>100002612</td><td> </td><td>1868</td><td>&lt;=2k</td></tr>\n",
       "\t<tr><th scope=row>4</th><td>AluSx_dup700 </td><td>chr1</td><td> 10000251</td><td> 10000566</td><td>+</td><td> 315</td><td>&lt;=2k</td></tr>\n",
       "\t<tr><th scope=row>5</th><td>AluJr_dup3513</td><td>chr1</td><td>100002613</td><td>100002913</td><td> </td><td> 300</td><td>&lt;=2k</td></tr>\n",
       "\t<tr><th scope=row>6</th><td><span style=white-space:pre-wrap>L1M2_dup231  </span></td><td>chr1</td><td>100002914</td><td>100003133</td><td> </td><td> 219</td><td>&lt;=2k</td></tr>\n",
       "</tbody>\n",
       "</table>\n"
      ],
      "text/latex": [
       "A data.frame: 6 × 7\n",
       "\\begin{tabular}{r|lllllll}\n",
       "  & transcriptID & chromsome & start & stop & strand & length & Length\\_label\\\\\n",
       "  & <chr> & <chr> & <dbl> & <dbl> & <chr> & <dbl> & <chr>\\\\\n",
       "\\hline\n",
       "\t1 & L1M2\\_dup229   & chr1 & 100000001 & 100000637 &   &  636 & <=2k\\\\\n",
       "\t2 & AluSx3\\_dup157 & chr1 &  10000002 &  10000239 & + &  237 & <=2k\\\\\n",
       "\t3 & L1M2\\_dup230   & chr1 & 100000744 & 100002612 &   & 1868 & <=2k\\\\\n",
       "\t4 & AluSx\\_dup700  & chr1 &  10000251 &  10000566 & + &  315 & <=2k\\\\\n",
       "\t5 & AluJr\\_dup3513 & chr1 & 100002613 & 100002913 &   &  300 & <=2k\\\\\n",
       "\t6 & L1M2\\_dup231   & chr1 & 100002914 & 100003133 &   &  219 & <=2k\\\\\n",
       "\\end{tabular}\n"
      ],
      "text/markdown": [
       "\n",
       "A data.frame: 6 × 7\n",
       "\n",
       "| <!--/--> | transcriptID &lt;chr&gt; | chromsome &lt;chr&gt; | start &lt;dbl&gt; | stop &lt;dbl&gt; | strand &lt;chr&gt; | length &lt;dbl&gt; | Length_label &lt;chr&gt; |\n",
       "|---|---|---|---|---|---|---|---|\n",
       "| 1 | L1M2_dup229   | chr1 | 100000001 | 100000637 | <!----> |  636 | &lt;=2k |\n",
       "| 2 | AluSx3_dup157 | chr1 |  10000002 |  10000239 | + |  237 | &lt;=2k |\n",
       "| 3 | L1M2_dup230   | chr1 | 100000744 | 100002612 | <!----> | 1868 | &lt;=2k |\n",
       "| 4 | AluSx_dup700  | chr1 |  10000251 |  10000566 | + |  315 | &lt;=2k |\n",
       "| 5 | AluJr_dup3513 | chr1 | 100002613 | 100002913 | <!----> |  300 | &lt;=2k |\n",
       "| 6 | L1M2_dup231   | chr1 | 100002914 | 100003133 | <!----> |  219 | &lt;=2k |\n",
       "\n"
      ],
      "text/plain": [
       "  transcriptID  chromsome start     stop      strand length Length_label\n",
       "1 L1M2_dup229   chr1      100000001 100000637         636   <=2k        \n",
       "2 AluSx3_dup157 chr1       10000002  10000239 +       237   <=2k        \n",
       "3 L1M2_dup230   chr1      100000744 100002612        1868   <=2k        \n",
       "4 AluSx_dup700  chr1       10000251  10000566 +       315   <=2k        \n",
       "5 AluJr_dup3513 chr1      100002613 100002913         300   <=2k        \n",
       "6 L1M2_dup231   chr1      100002914 100003133         219   <=2k        "
      ]
     },
     "metadata": {},
     "output_type": "display_data"
    }
   ],
   "source": [
    "head(gtff)"
   ]
  },
  {
   "cell_type": "code",
   "execution_count": 113,
   "id": "a5cd3c65-b7af-4073-a26c-d63460a71d91",
   "metadata": {},
   "outputs": [],
   "source": [
    "LengthGtf<-gtff[,c(1,7)]"
   ]
  },
  {
   "cell_type": "code",
   "execution_count": 114,
   "id": "122f5187-36c2-469d-a4d5-359f3dd04da8",
   "metadata": {},
   "outputs": [
    {
     "data": {
      "text/html": [
       "<table class=\"dataframe\">\n",
       "<caption>A data.frame: 6 × 2</caption>\n",
       "<thead>\n",
       "\t<tr><th></th><th scope=col>transcriptID</th><th scope=col>Length_label</th></tr>\n",
       "\t<tr><th></th><th scope=col>&lt;chr&gt;</th><th scope=col>&lt;chr&gt;</th></tr>\n",
       "</thead>\n",
       "<tbody>\n",
       "\t<tr><th scope=row>1</th><td><span style=white-space:pre-wrap>L1M2_dup229  </span></td><td>&lt;=2k</td></tr>\n",
       "\t<tr><th scope=row>2</th><td>AluSx3_dup157</td><td>&lt;=2k</td></tr>\n",
       "\t<tr><th scope=row>3</th><td><span style=white-space:pre-wrap>L1M2_dup230  </span></td><td>&lt;=2k</td></tr>\n",
       "\t<tr><th scope=row>4</th><td>AluSx_dup700 </td><td>&lt;=2k</td></tr>\n",
       "\t<tr><th scope=row>5</th><td>AluJr_dup3513</td><td>&lt;=2k</td></tr>\n",
       "\t<tr><th scope=row>6</th><td><span style=white-space:pre-wrap>L1M2_dup231  </span></td><td>&lt;=2k</td></tr>\n",
       "</tbody>\n",
       "</table>\n"
      ],
      "text/latex": [
       "A data.frame: 6 × 2\n",
       "\\begin{tabular}{r|ll}\n",
       "  & transcriptID & Length\\_label\\\\\n",
       "  & <chr> & <chr>\\\\\n",
       "\\hline\n",
       "\t1 & L1M2\\_dup229   & <=2k\\\\\n",
       "\t2 & AluSx3\\_dup157 & <=2k\\\\\n",
       "\t3 & L1M2\\_dup230   & <=2k\\\\\n",
       "\t4 & AluSx\\_dup700  & <=2k\\\\\n",
       "\t5 & AluJr\\_dup3513 & <=2k\\\\\n",
       "\t6 & L1M2\\_dup231   & <=2k\\\\\n",
       "\\end{tabular}\n"
      ],
      "text/markdown": [
       "\n",
       "A data.frame: 6 × 2\n",
       "\n",
       "| <!--/--> | transcriptID &lt;chr&gt; | Length_label &lt;chr&gt; |\n",
       "|---|---|---|\n",
       "| 1 | L1M2_dup229   | &lt;=2k |\n",
       "| 2 | AluSx3_dup157 | &lt;=2k |\n",
       "| 3 | L1M2_dup230   | &lt;=2k |\n",
       "| 4 | AluSx_dup700  | &lt;=2k |\n",
       "| 5 | AluJr_dup3513 | &lt;=2k |\n",
       "| 6 | L1M2_dup231   | &lt;=2k |\n",
       "\n"
      ],
      "text/plain": [
       "  transcriptID  Length_label\n",
       "1 L1M2_dup229   <=2k        \n",
       "2 AluSx3_dup157 <=2k        \n",
       "3 L1M2_dup230   <=2k        \n",
       "4 AluSx_dup700  <=2k        \n",
       "5 AluJr_dup3513 <=2k        \n",
       "6 L1M2_dup231   <=2k        "
      ]
     },
     "metadata": {},
     "output_type": "display_data"
    }
   ],
   "source": [
    "head(LengthGtf)"
   ]
  },
  {
   "cell_type": "code",
   "execution_count": 108,
   "id": "939cff86-5e9a-4fea-89f1-69a98f02e197",
   "metadata": {},
   "outputs": [
    {
     "data": {
      "text/html": [
       "<table class=\"dataframe\">\n",
       "<caption>A data.frame: 6 × 4</caption>\n",
       "<thead>\n",
       "\t<tr><th></th><th scope=col>location</th><th scope=col>transcriptID</th><th scope=col>subfamily</th><th scope=col>class</th></tr>\n",
       "\t<tr><th></th><th scope=col>&lt;chr&gt;</th><th scope=col>&lt;chr&gt;</th><th scope=col>&lt;chr&gt;</th><th scope=col>&lt;chr&gt;</th></tr>\n",
       "</thead>\n",
       "<tbody>\n",
       "\t<tr><th scope=row>1</th><td>chr1_GL383518v1_alt:1-100:+        </td><td>AluJo_dup78168 </td><td>NA</td><td>not-enough-length</td></tr>\n",
       "\t<tr><th scope=row>2</th><td>chr1_GL383518v1_alt:100662-100869:-</td><td>L1MB7_dup22832 </td><td>NA</td><td>not-enough-length</td></tr>\n",
       "\t<tr><th scope=row>3</th><td>chr1_GL383518v1_alt:100870-101167:-</td><td>AluSc8_dup21953</td><td>NA</td><td>not-enough-length</td></tr>\n",
       "\t<tr><th scope=row>4</th><td>chr1_GL383518v1_alt:101168-101220:-</td><td>L1MB7_dup22833 </td><td>NA</td><td>not-enough-length</td></tr>\n",
       "\t<tr><th scope=row>5</th><td>chr1_GL383518v1_alt:101226-101443:-</td><td>AluJb_dup126187</td><td>NA</td><td>not-enough-length</td></tr>\n",
       "\t<tr><th scope=row>6</th><td>chr1_GL383518v1_alt:10134-10440:-  </td><td>AluSq2_dup61023</td><td>NA</td><td>not-enough-length</td></tr>\n",
       "</tbody>\n",
       "</table>\n"
      ],
      "text/latex": [
       "A data.frame: 6 × 4\n",
       "\\begin{tabular}{r|llll}\n",
       "  & location & transcriptID & subfamily & class\\\\\n",
       "  & <chr> & <chr> & <chr> & <chr>\\\\\n",
       "\\hline\n",
       "\t1 & chr1\\_GL383518v1\\_alt:1-100:+         & AluJo\\_dup78168  & NA & not-enough-length\\\\\n",
       "\t2 & chr1\\_GL383518v1\\_alt:100662-100869:- & L1MB7\\_dup22832  & NA & not-enough-length\\\\\n",
       "\t3 & chr1\\_GL383518v1\\_alt:100870-101167:- & AluSc8\\_dup21953 & NA & not-enough-length\\\\\n",
       "\t4 & chr1\\_GL383518v1\\_alt:101168-101220:- & L1MB7\\_dup22833  & NA & not-enough-length\\\\\n",
       "\t5 & chr1\\_GL383518v1\\_alt:101226-101443:- & AluJb\\_dup126187 & NA & not-enough-length\\\\\n",
       "\t6 & chr1\\_GL383518v1\\_alt:10134-10440:-   & AluSq2\\_dup61023 & NA & not-enough-length\\\\\n",
       "\\end{tabular}\n"
      ],
      "text/markdown": [
       "\n",
       "A data.frame: 6 × 4\n",
       "\n",
       "| <!--/--> | location &lt;chr&gt; | transcriptID &lt;chr&gt; | subfamily &lt;chr&gt; | class &lt;chr&gt; |\n",
       "|---|---|---|---|---|\n",
       "| 1 | chr1_GL383518v1_alt:1-100:+         | AluJo_dup78168  | NA | not-enough-length |\n",
       "| 2 | chr1_GL383518v1_alt:100662-100869:- | L1MB7_dup22832  | NA | not-enough-length |\n",
       "| 3 | chr1_GL383518v1_alt:100870-101167:- | AluSc8_dup21953 | NA | not-enough-length |\n",
       "| 4 | chr1_GL383518v1_alt:101168-101220:- | L1MB7_dup22833  | NA | not-enough-length |\n",
       "| 5 | chr1_GL383518v1_alt:101226-101443:- | AluJb_dup126187 | NA | not-enough-length |\n",
       "| 6 | chr1_GL383518v1_alt:10134-10440:-   | AluSq2_dup61023 | NA | not-enough-length |\n",
       "\n"
      ],
      "text/plain": [
       "  location                            transcriptID    subfamily\n",
       "1 chr1_GL383518v1_alt:1-100:+         AluJo_dup78168  NA       \n",
       "2 chr1_GL383518v1_alt:100662-100869:- L1MB7_dup22832  NA       \n",
       "3 chr1_GL383518v1_alt:100870-101167:- AluSc8_dup21953 NA       \n",
       "4 chr1_GL383518v1_alt:101168-101220:- L1MB7_dup22833  NA       \n",
       "5 chr1_GL383518v1_alt:101226-101443:- AluJb_dup126187 NA       \n",
       "6 chr1_GL383518v1_alt:10134-10440:-   AluSq2_dup61023 NA       \n",
       "  class            \n",
       "1 not-enough-length\n",
       "2 not-enough-length\n",
       "3 not-enough-length\n",
       "4 not-enough-length\n",
       "5 not-enough-length\n",
       "6 not-enough-length"
      ]
     },
     "metadata": {},
     "output_type": "display_data"
    }
   ],
   "source": [
    "head(annotationDat)"
   ]
  },
  {
   "cell_type": "code",
   "execution_count": 115,
   "id": "dd03517e-e2bf-4f25-b5a4-e3bb01de24db",
   "metadata": {},
   "outputs": [],
   "source": [
    "MergeDat<-merge(annotationDat,LengthGtf,by=\"transcriptID\")"
   ]
  },
  {
   "cell_type": "code",
   "execution_count": 116,
   "id": "dfc90de6-989a-487d-81c2-da8654b93033",
   "metadata": {},
   "outputs": [
    {
     "data": {
      "text/html": [
       "<table class=\"dataframe\">\n",
       "<caption>A data.frame: 6 × 5</caption>\n",
       "<thead>\n",
       "\t<tr><th></th><th scope=col>transcriptID</th><th scope=col>location</th><th scope=col>subfamily</th><th scope=col>class</th><th scope=col>Length_label</th></tr>\n",
       "\t<tr><th></th><th scope=col>&lt;chr&gt;</th><th scope=col>&lt;chr&gt;</th><th scope=col>&lt;chr&gt;</th><th scope=col>&lt;chr&gt;</th><th scope=col>&lt;chr&gt;</th></tr>\n",
       "</thead>\n",
       "<tbody>\n",
       "\t<tr><th scope=row>1</th><td><span style=white-space:pre-wrap>(CATTC)n      </span></td><td>chr4:49091249-49112662:+ </td><td>NA</td><td>not-enough-length</td><td>&gt;6k </td></tr>\n",
       "\t<tr><th scope=row>2</th><td>(CATTC)n_dup1 </td><td>chr5:49666174-49667431:+ </td><td>NA</td><td>not-enough-length</td><td>&lt;=2k</td></tr>\n",
       "\t<tr><th scope=row>3</th><td>(CATTC)n_dup10</td><td>chrY:11003171-11003370:+ </td><td>NA</td><td>not-enough-length</td><td>&lt;=2k</td></tr>\n",
       "\t<tr><th scope=row>4</th><td>(CATTC)n_dup11</td><td>chrY:11014302-11014542:+ </td><td>NA</td><td>not-enough-length</td><td>&lt;=2k</td></tr>\n",
       "\t<tr><th scope=row>5</th><td>(CATTC)n_dup12</td><td>chr18:46546273-46546655:+</td><td>NA</td><td>not-enough-length</td><td>&lt;=2k</td></tr>\n",
       "\t<tr><th scope=row>6</th><td>(CATTC)n_dup13</td><td><span style=white-space:pre-wrap>chr21:7942700-7957766:+  </span></td><td>NA</td><td>not-enough-length</td><td>&gt;6k </td></tr>\n",
       "</tbody>\n",
       "</table>\n"
      ],
      "text/latex": [
       "A data.frame: 6 × 5\n",
       "\\begin{tabular}{r|lllll}\n",
       "  & transcriptID & location & subfamily & class & Length\\_label\\\\\n",
       "  & <chr> & <chr> & <chr> & <chr> & <chr>\\\\\n",
       "\\hline\n",
       "\t1 & (CATTC)n       & chr4:49091249-49112662:+  & NA & not-enough-length & >6k \\\\\n",
       "\t2 & (CATTC)n\\_dup1  & chr5:49666174-49667431:+  & NA & not-enough-length & <=2k\\\\\n",
       "\t3 & (CATTC)n\\_dup10 & chrY:11003171-11003370:+  & NA & not-enough-length & <=2k\\\\\n",
       "\t4 & (CATTC)n\\_dup11 & chrY:11014302-11014542:+  & NA & not-enough-length & <=2k\\\\\n",
       "\t5 & (CATTC)n\\_dup12 & chr18:46546273-46546655:+ & NA & not-enough-length & <=2k\\\\\n",
       "\t6 & (CATTC)n\\_dup13 & chr21:7942700-7957766:+   & NA & not-enough-length & >6k \\\\\n",
       "\\end{tabular}\n"
      ],
      "text/markdown": [
       "\n",
       "A data.frame: 6 × 5\n",
       "\n",
       "| <!--/--> | transcriptID &lt;chr&gt; | location &lt;chr&gt; | subfamily &lt;chr&gt; | class &lt;chr&gt; | Length_label &lt;chr&gt; |\n",
       "|---|---|---|---|---|---|\n",
       "| 1 | (CATTC)n       | chr4:49091249-49112662:+  | NA | not-enough-length | &gt;6k  |\n",
       "| 2 | (CATTC)n_dup1  | chr5:49666174-49667431:+  | NA | not-enough-length | &lt;=2k |\n",
       "| 3 | (CATTC)n_dup10 | chrY:11003171-11003370:+  | NA | not-enough-length | &lt;=2k |\n",
       "| 4 | (CATTC)n_dup11 | chrY:11014302-11014542:+  | NA | not-enough-length | &lt;=2k |\n",
       "| 5 | (CATTC)n_dup12 | chr18:46546273-46546655:+ | NA | not-enough-length | &lt;=2k |\n",
       "| 6 | (CATTC)n_dup13 | chr21:7942700-7957766:+   | NA | not-enough-length | &gt;6k  |\n",
       "\n"
      ],
      "text/plain": [
       "  transcriptID   location                  subfamily class            \n",
       "1 (CATTC)n       chr4:49091249-49112662:+  NA        not-enough-length\n",
       "2 (CATTC)n_dup1  chr5:49666174-49667431:+  NA        not-enough-length\n",
       "3 (CATTC)n_dup10 chrY:11003171-11003370:+  NA        not-enough-length\n",
       "4 (CATTC)n_dup11 chrY:11014302-11014542:+  NA        not-enough-length\n",
       "5 (CATTC)n_dup12 chr18:46546273-46546655:+ NA        not-enough-length\n",
       "6 (CATTC)n_dup13 chr21:7942700-7957766:+   NA        not-enough-length\n",
       "  Length_label\n",
       "1 >6k         \n",
       "2 <=2k        \n",
       "3 <=2k        \n",
       "4 <=2k        \n",
       "5 <=2k        \n",
       "6 >6k         "
      ]
     },
     "metadata": {},
     "output_type": "display_data"
    }
   ],
   "source": [
    "head(MergeDat)"
   ]
  },
  {
   "cell_type": "code",
   "execution_count": 123,
   "id": "a4c20961-b195-45d9-96fe-88845359968b",
   "metadata": {},
   "outputs": [
    {
     "name": "stderr",
     "output_type": "stream",
     "text": [
      "Warning message:\n",
      "“\u001b[1m\u001b[22mExpected 2 pieces. Additional pieces discarded in 123569 rows [1175462,\n",
      "1175463, 1175464, 1175465, 1175466, 1175467, 1175468, 1175469, 1175470,\n",
      "1175471, 1175472, 1175473, 1175474, 1175475, 1175476, 1175477, 1175478,\n",
      "1175479, 1175480, 1175481, ...].”\n",
      "Warning message:\n",
      "“\u001b[1m\u001b[22mExpected 2 pieces. Missing pieces filled with `NA` in 1076 rows [1, 20, 56,\n",
      "760, 846, 2706, 7364, 139123, 220498, 309001, 329967, 366305, 373323, 396351,\n",
      "435032, 442635, 451794, 505603, 525469, 527634, ...].”\n"
     ]
    }
   ],
   "source": [
    "MergeDat2<-MergeDat %>% separate(transcriptID, c(\"subfamily\",\"ID\"),sep = \"_\")"
   ]
  },
  {
   "cell_type": "code",
   "execution_count": 124,
   "id": "81df07dc-420f-479d-a194-1d288ab71a69",
   "metadata": {},
   "outputs": [
    {
     "data": {
      "text/html": [
       "<table class=\"dataframe\">\n",
       "<caption>A data.frame: 6 × 5</caption>\n",
       "<thead>\n",
       "\t<tr><th></th><th scope=col>subfamily</th><th scope=col>ID</th><th scope=col>location</th><th scope=col>class</th><th scope=col>Length_label</th></tr>\n",
       "\t<tr><th></th><th scope=col>&lt;chr&gt;</th><th scope=col>&lt;chr&gt;</th><th scope=col>&lt;chr&gt;</th><th scope=col>&lt;chr&gt;</th><th scope=col>&lt;chr&gt;</th></tr>\n",
       "</thead>\n",
       "<tbody>\n",
       "\t<tr><th scope=row>1</th><td>(CATTC)n</td><td><span style=white-space:pre-wrap>NA   </span></td><td>chr4:49091249-49112662:+ </td><td>not-enough-length</td><td>&gt;6k </td></tr>\n",
       "\t<tr><th scope=row>2</th><td>(CATTC)n</td><td>dup1 </td><td>chr5:49666174-49667431:+ </td><td>not-enough-length</td><td>&lt;=2k</td></tr>\n",
       "\t<tr><th scope=row>3</th><td>(CATTC)n</td><td>dup10</td><td>chrY:11003171-11003370:+ </td><td>not-enough-length</td><td>&lt;=2k</td></tr>\n",
       "\t<tr><th scope=row>4</th><td>(CATTC)n</td><td>dup11</td><td>chrY:11014302-11014542:+ </td><td>not-enough-length</td><td>&lt;=2k</td></tr>\n",
       "\t<tr><th scope=row>5</th><td>(CATTC)n</td><td>dup12</td><td>chr18:46546273-46546655:+</td><td>not-enough-length</td><td>&lt;=2k</td></tr>\n",
       "\t<tr><th scope=row>6</th><td>(CATTC)n</td><td>dup13</td><td><span style=white-space:pre-wrap>chr21:7942700-7957766:+  </span></td><td>not-enough-length</td><td>&gt;6k </td></tr>\n",
       "</tbody>\n",
       "</table>\n"
      ],
      "text/latex": [
       "A data.frame: 6 × 5\n",
       "\\begin{tabular}{r|lllll}\n",
       "  & subfamily & ID & location & class & Length\\_label\\\\\n",
       "  & <chr> & <chr> & <chr> & <chr> & <chr>\\\\\n",
       "\\hline\n",
       "\t1 & (CATTC)n & NA    & chr4:49091249-49112662:+  & not-enough-length & >6k \\\\\n",
       "\t2 & (CATTC)n & dup1  & chr5:49666174-49667431:+  & not-enough-length & <=2k\\\\\n",
       "\t3 & (CATTC)n & dup10 & chrY:11003171-11003370:+  & not-enough-length & <=2k\\\\\n",
       "\t4 & (CATTC)n & dup11 & chrY:11014302-11014542:+  & not-enough-length & <=2k\\\\\n",
       "\t5 & (CATTC)n & dup12 & chr18:46546273-46546655:+ & not-enough-length & <=2k\\\\\n",
       "\t6 & (CATTC)n & dup13 & chr21:7942700-7957766:+   & not-enough-length & >6k \\\\\n",
       "\\end{tabular}\n"
      ],
      "text/markdown": [
       "\n",
       "A data.frame: 6 × 5\n",
       "\n",
       "| <!--/--> | subfamily &lt;chr&gt; | ID &lt;chr&gt; | location &lt;chr&gt; | class &lt;chr&gt; | Length_label &lt;chr&gt; |\n",
       "|---|---|---|---|---|---|\n",
       "| 1 | (CATTC)n | NA    | chr4:49091249-49112662:+  | not-enough-length | &gt;6k  |\n",
       "| 2 | (CATTC)n | dup1  | chr5:49666174-49667431:+  | not-enough-length | &lt;=2k |\n",
       "| 3 | (CATTC)n | dup10 | chrY:11003171-11003370:+  | not-enough-length | &lt;=2k |\n",
       "| 4 | (CATTC)n | dup11 | chrY:11014302-11014542:+  | not-enough-length | &lt;=2k |\n",
       "| 5 | (CATTC)n | dup12 | chr18:46546273-46546655:+ | not-enough-length | &lt;=2k |\n",
       "| 6 | (CATTC)n | dup13 | chr21:7942700-7957766:+   | not-enough-length | &gt;6k  |\n",
       "\n"
      ],
      "text/plain": [
       "  subfamily ID    location                  class             Length_label\n",
       "1 (CATTC)n  NA    chr4:49091249-49112662:+  not-enough-length >6k         \n",
       "2 (CATTC)n  dup1  chr5:49666174-49667431:+  not-enough-length <=2k        \n",
       "3 (CATTC)n  dup10 chrY:11003171-11003370:+  not-enough-length <=2k        \n",
       "4 (CATTC)n  dup11 chrY:11014302-11014542:+  not-enough-length <=2k        \n",
       "5 (CATTC)n  dup12 chr18:46546273-46546655:+ not-enough-length <=2k        \n",
       "6 (CATTC)n  dup13 chr21:7942700-7957766:+   not-enough-length >6k         "
      ]
     },
     "metadata": {},
     "output_type": "display_data"
    }
   ],
   "source": [
    "head(MergeDat2)"
   ]
  },
  {
   "cell_type": "code",
   "execution_count": 125,
   "id": "f13dca7f-3589-4bb8-97e2-ca8c5ee28ca9",
   "metadata": {},
   "outputs": [],
   "source": [
    "MergeDat3<-MergeDat2%>% filter(subfamily%in%c(\"L1HS\",\"L1PA2\",\"L1PA3\",\"L1PA4\",\"L1PA5\",\"L1PA6\",\"L1PA7\",\"L1PA8\"))"
   ]
  },
  {
   "cell_type": "code",
   "execution_count": 126,
   "id": "dd899fc4-feaf-4da0-bc4e-433dcaf30598",
   "metadata": {},
   "outputs": [],
   "source": [
    "MergeDatcount<-MergeDat3%>% count(Length_label,class,name = 'count')"
   ]
  },
  {
   "cell_type": "code",
   "execution_count": 131,
   "id": "f83eb41b-21f0-4449-82ee-aa0e2fd125d9",
   "metadata": {},
   "outputs": [
    {
     "data": {
      "text/html": [
       "<table class=\"dataframe\">\n",
       "<caption>A data.frame: 15 × 3</caption>\n",
       "<thead>\n",
       "\t<tr><th scope=col>Length_label</th><th scope=col>class</th><th scope=col>count</th></tr>\n",
       "\t<tr><th scope=col>&lt;fct&gt;</th><th scope=col>&lt;chr&gt;</th><th scope=col>&lt;int&gt;</th></tr>\n",
       "</thead>\n",
       "<tbody>\n",
       "\t<tr><td>2k-4k</td><td>ORF1             </td><td>   27</td></tr>\n",
       "\t<tr><td>2k-4k</td><td>ORF1-ORF2        </td><td>   17</td></tr>\n",
       "\t<tr><td>2k-4k</td><td>ORF2             </td><td> 2672</td></tr>\n",
       "\t<tr><td>2k-4k</td><td>not-enough-length</td><td> 4779</td></tr>\n",
       "\t<tr><td>4k-6k</td><td>ORF1             </td><td>   12</td></tr>\n",
       "\t<tr><td>4k-6k</td><td>ORF1-ORF2        </td><td>  132</td></tr>\n",
       "\t<tr><td>4k-6k</td><td>ORF2             </td><td> 1331</td></tr>\n",
       "\t<tr><td>4k-6k</td><td>not-enough-length</td><td> 1445</td></tr>\n",
       "\t<tr><td>&lt;=2k </td><td><span style=white-space:pre-wrap>ORF1             </span></td><td><span style=white-space:pre-wrap>   14</span></td></tr>\n",
       "\t<tr><td>&lt;=2k </td><td><span style=white-space:pre-wrap>ORF2             </span></td><td> 2087</td></tr>\n",
       "\t<tr><td>&lt;=2k </td><td>not-enough-length</td><td>50599</td></tr>\n",
       "\t<tr><td><span style=white-space:pre-wrap>&gt;6k  </span></td><td><span style=white-space:pre-wrap>ORF1             </span></td><td><span style=white-space:pre-wrap>   55</span></td></tr>\n",
       "\t<tr><td><span style=white-space:pre-wrap>&gt;6k  </span></td><td><span style=white-space:pre-wrap>ORF1-ORF2        </span></td><td><span style=white-space:pre-wrap>  858</span></td></tr>\n",
       "\t<tr><td><span style=white-space:pre-wrap>&gt;6k  </span></td><td><span style=white-space:pre-wrap>ORF2             </span></td><td> 3504</td></tr>\n",
       "\t<tr><td><span style=white-space:pre-wrap>&gt;6k  </span></td><td>not-enough-length</td><td> 2144</td></tr>\n",
       "</tbody>\n",
       "</table>\n"
      ],
      "text/latex": [
       "A data.frame: 15 × 3\n",
       "\\begin{tabular}{lll}\n",
       " Length\\_label & class & count\\\\\n",
       " <fct> & <chr> & <int>\\\\\n",
       "\\hline\n",
       "\t 2k-4k & ORF1              &    27\\\\\n",
       "\t 2k-4k & ORF1-ORF2         &    17\\\\\n",
       "\t 2k-4k & ORF2              &  2672\\\\\n",
       "\t 2k-4k & not-enough-length &  4779\\\\\n",
       "\t 4k-6k & ORF1              &    12\\\\\n",
       "\t 4k-6k & ORF1-ORF2         &   132\\\\\n",
       "\t 4k-6k & ORF2              &  1331\\\\\n",
       "\t 4k-6k & not-enough-length &  1445\\\\\n",
       "\t <=2k  & ORF1              &    14\\\\\n",
       "\t <=2k  & ORF2              &  2087\\\\\n",
       "\t <=2k  & not-enough-length & 50599\\\\\n",
       "\t >6k   & ORF1              &    55\\\\\n",
       "\t >6k   & ORF1-ORF2         &   858\\\\\n",
       "\t >6k   & ORF2              &  3504\\\\\n",
       "\t >6k   & not-enough-length &  2144\\\\\n",
       "\\end{tabular}\n"
      ],
      "text/markdown": [
       "\n",
       "A data.frame: 15 × 3\n",
       "\n",
       "| Length_label &lt;fct&gt; | class &lt;chr&gt; | count &lt;int&gt; |\n",
       "|---|---|---|\n",
       "| 2k-4k | ORF1              |    27 |\n",
       "| 2k-4k | ORF1-ORF2         |    17 |\n",
       "| 2k-4k | ORF2              |  2672 |\n",
       "| 2k-4k | not-enough-length |  4779 |\n",
       "| 4k-6k | ORF1              |    12 |\n",
       "| 4k-6k | ORF1-ORF2         |   132 |\n",
       "| 4k-6k | ORF2              |  1331 |\n",
       "| 4k-6k | not-enough-length |  1445 |\n",
       "| &lt;=2k  | ORF1              |    14 |\n",
       "| &lt;=2k  | ORF2              |  2087 |\n",
       "| &lt;=2k  | not-enough-length | 50599 |\n",
       "| &gt;6k   | ORF1              |    55 |\n",
       "| &gt;6k   | ORF1-ORF2         |   858 |\n",
       "| &gt;6k   | ORF2              |  3504 |\n",
       "| &gt;6k   | not-enough-length |  2144 |\n",
       "\n"
      ],
      "text/plain": [
       "   Length_label class             count\n",
       "1  2k-4k        ORF1                 27\n",
       "2  2k-4k        ORF1-ORF2            17\n",
       "3  2k-4k        ORF2               2672\n",
       "4  2k-4k        not-enough-length  4779\n",
       "5  4k-6k        ORF1                 12\n",
       "6  4k-6k        ORF1-ORF2           132\n",
       "7  4k-6k        ORF2               1331\n",
       "8  4k-6k        not-enough-length  1445\n",
       "9  <=2k         ORF1                 14\n",
       "10 <=2k         ORF2               2087\n",
       "11 <=2k         not-enough-length 50599\n",
       "12 >6k          ORF1                 55\n",
       "13 >6k          ORF1-ORF2           858\n",
       "14 >6k          ORF2               3504\n",
       "15 >6k          not-enough-length  2144"
      ]
     },
     "metadata": {},
     "output_type": "display_data"
    }
   ],
   "source": [
    "MergeDatcount"
   ]
  },
  {
   "cell_type": "code",
   "execution_count": 134,
   "id": "143ecbcb-319e-4ff1-a490-eafb99c25bdb",
   "metadata": {},
   "outputs": [],
   "source": [
    "#CountTable2<-CountTable%>% filter(gene%in%c(\"L1HS\",\"L1PA2\",\"L1PA3\",\"L1PA4\",\"L1PA5\",\"L1PA6\",\"L1PA7\",\"L1PA8\"))\n",
    "MergeDatcount$Length_label<-factor(MergeDatcount$Length_label,levels=c(\"<=2k\",\"2k-4k\",\"4k-6k\",\">6k\"))\n",
    "library(RColorBrewer)\n",
    "colourCount <-  length(unique(MergeDatcount$class))\n",
    "options(repr.plot.width =6, repr.plot.height =3)\n",
    "p<-ggplot(MergeDatcount, aes(Length_label,count,fill = class))+\n",
    "    geom_col(position = 'stack', width = 0.7) +\n",
    "    labs(x = '', y = 'count') +\n",
    "    theme(axis.text = element_text(size = 12), axis.title = element_text(size = 13)) +\n",
    "    theme(legend.text = element_text(size = 11))+\n",
    "    theme_classic()+\n",
    "    scale_fill_manual(values = colorRampPalette(brewer.pal(8, \"Set2\"))(colourCount))+\n",
    "    theme(legend.position = \"bottom\" ,legend.box = \"horizontal\")+\n",
    "    coord_flip()"
   ]
  },
  {
   "cell_type": "code",
   "execution_count": 135,
   "id": "4848aeb0-2582-4b88-b0d3-35f331567bae",
   "metadata": {},
   "outputs": [
    {
     "data": {
      "image/png": "[encoded data removed]",
      "text/plain": [
       "plot without title"
      ]
     },
     "metadata": {
      "image/png": {
       "height": 180,
       "width": 360
      }
     },
     "output_type": "display_data"
    }
   ],
   "source": [
    "p"
   ]
  },
  {
   "cell_type": "code",
   "execution_count": 136,
   "id": "1075bf2d-4161-49f0-bb08-3b535023242b",
   "metadata": {},
   "outputs": [
    {
     "data": {
      "text/html": [
       "<strong>png:</strong> 2"
      ],
      "text/latex": [
       "\\textbf{png:} 2"
      ],
      "text/markdown": [
       "**png:** 2"
      ],
      "text/plain": [
       "png \n",
       "  2 "
      ]
     },
     "metadata": {},
     "output_type": "display_data"
    }
   ],
   "source": [
    "pdf('L1-count-length-noLog10.pdf',width = 6,height = 3)\n",
    "p\n",
    "dev.off()"
   ]
  },
  {
   "cell_type": "code",
   "execution_count": 130,
   "id": "777104d6-667d-4293-b347-0627bcf9ccd1",
   "metadata": {},
   "outputs": [
    {
     "data": {
      "text/html": [
       "<strong>png:</strong> 2"
      ],
      "text/latex": [
       "\\textbf{png:} 2"
      ],
      "text/markdown": [
       "**png:** 2"
      ],
      "text/plain": [
       "png \n",
       "  2 "
      ]
     },
     "metadata": {},
     "output_type": "display_data"
    }
   ],
   "source": [
    "pdf('L1-count-length.pdf',width = 6,height = 3)\n",
    "p\n",
    "dev.off()"
   ]
  },
  {
   "cell_type": "code",
   "execution_count": 45,
   "id": "92689efd-000c-434f-8f44-34012d3c7078",
   "metadata": {},
   "outputs": [],
   "source": [
    "StructureDat_long <- gather(StructureDat, key = \"sample\", value = \"expression\",\n",
    "                    -`transcriptID`,-`location`, -`subfamily`, -`class.x`, -`gene` ,-`family`, -`class.y`)"
   ]
  },
  {
   "cell_type": "code",
   "execution_count": 46,
   "id": "2efdd858-38d9-45c6-8b79-3924ef3736b4",
   "metadata": {},
   "outputs": [
    {
     "data": {
      "text/html": [
       "<table class=\"dataframe\">\n",
       "<caption>A data.frame: 6 × 9</caption>\n",
       "<thead>\n",
       "\t<tr><th></th><th scope=col>transcriptID</th><th scope=col>location</th><th scope=col>subfamily</th><th scope=col>class.x</th><th scope=col>gene</th><th scope=col>family</th><th scope=col>class.y</th><th scope=col>sample</th><th scope=col>expression</th></tr>\n",
       "\t<tr><th></th><th scope=col>&lt;chr&gt;</th><th scope=col>&lt;chr&gt;</th><th scope=col>&lt;chr&gt;</th><th scope=col>&lt;chr&gt;</th><th scope=col>&lt;chr&gt;</th><th scope=col>&lt;chr&gt;</th><th scope=col>&lt;chr&gt;</th><th scope=col>&lt;chr&gt;</th><th scope=col>&lt;int&gt;</th></tr>\n",
       "</thead>\n",
       "<tbody>\n",
       "\t<tr><th scope=row>1</th><td>HAL1         </td><td>chr1:50331337-50332274:+  </td><td>NA</td><td>not-enough-length</td><td>HAL1</td><td>L1</td><td>LINE</td><td>ESC-1</td><td>0</td></tr>\n",
       "\t<tr><th scope=row>2</th><td>HAL1_dup1    </td><td>chr1:114294733-114297115:+</td><td>NA</td><td>not-enough-length</td><td>HAL1</td><td>L1</td><td>LINE</td><td>ESC-1</td><td>0</td></tr>\n",
       "\t<tr><th scope=row>3</th><td>HAL1_dup10   </td><td>chr1:1130956-1131376:-    </td><td>NA</td><td>not-enough-length</td><td>HAL1</td><td>L1</td><td>LINE</td><td>ESC-1</td><td>0</td></tr>\n",
       "\t<tr><th scope=row>4</th><td>HAL1_dup100  </td><td>chr1:14842757-14843163:-  </td><td>NA</td><td>not-enough-length</td><td>HAL1</td><td>L1</td><td>LINE</td><td>ESC-1</td><td>0</td></tr>\n",
       "\t<tr><th scope=row>5</th><td>HAL1_dup1000 </td><td>chr1:150866514-150866665:+</td><td>NA</td><td>not-enough-length</td><td>HAL1</td><td>L1</td><td>LINE</td><td>ESC-1</td><td>0</td></tr>\n",
       "\t<tr><th scope=row>6</th><td>HAL1_dup10000</td><td>chr7:29781941-29781976:+  </td><td>NA</td><td>not-enough-length</td><td>HAL1</td><td>L1</td><td>LINE</td><td>ESC-1</td><td>0</td></tr>\n",
       "</tbody>\n",
       "</table>\n"
      ],
      "text/latex": [
       "A data.frame: 6 × 9\n",
       "\\begin{tabular}{r|lllllllll}\n",
       "  & transcriptID & location & subfamily & class.x & gene & family & class.y & sample & expression\\\\\n",
       "  & <chr> & <chr> & <chr> & <chr> & <chr> & <chr> & <chr> & <chr> & <int>\\\\\n",
       "\\hline\n",
       "\t1 & HAL1          & chr1:50331337-50332274:+   & NA & not-enough-length & HAL1 & L1 & LINE & ESC-1 & 0\\\\\n",
       "\t2 & HAL1\\_dup1     & chr1:114294733-114297115:+ & NA & not-enough-length & HAL1 & L1 & LINE & ESC-1 & 0\\\\\n",
       "\t3 & HAL1\\_dup10    & chr1:1130956-1131376:-     & NA & not-enough-length & HAL1 & L1 & LINE & ESC-1 & 0\\\\\n",
       "\t4 & HAL1\\_dup100   & chr1:14842757-14843163:-   & NA & not-enough-length & HAL1 & L1 & LINE & ESC-1 & 0\\\\\n",
       "\t5 & HAL1\\_dup1000  & chr1:150866514-150866665:+ & NA & not-enough-length & HAL1 & L1 & LINE & ESC-1 & 0\\\\\n",
       "\t6 & HAL1\\_dup10000 & chr7:29781941-29781976:+   & NA & not-enough-length & HAL1 & L1 & LINE & ESC-1 & 0\\\\\n",
       "\\end{tabular}\n"
      ],
      "text/markdown": [
       "\n",
       "A data.frame: 6 × 9\n",
       "\n",
       "| <!--/--> | transcriptID &lt;chr&gt; | location &lt;chr&gt; | subfamily &lt;chr&gt; | class.x &lt;chr&gt; | gene &lt;chr&gt; | family &lt;chr&gt; | class.y &lt;chr&gt; | sample &lt;chr&gt; | expression &lt;int&gt; |\n",
       "|---|---|---|---|---|---|---|---|---|---|\n",
       "| 1 | HAL1          | chr1:50331337-50332274:+   | NA | not-enough-length | HAL1 | L1 | LINE | ESC-1 | 0 |\n",
       "| 2 | HAL1_dup1     | chr1:114294733-114297115:+ | NA | not-enough-length | HAL1 | L1 | LINE | ESC-1 | 0 |\n",
       "| 3 | HAL1_dup10    | chr1:1130956-1131376:-     | NA | not-enough-length | HAL1 | L1 | LINE | ESC-1 | 0 |\n",
       "| 4 | HAL1_dup100   | chr1:14842757-14843163:-   | NA | not-enough-length | HAL1 | L1 | LINE | ESC-1 | 0 |\n",
       "| 5 | HAL1_dup1000  | chr1:150866514-150866665:+ | NA | not-enough-length | HAL1 | L1 | LINE | ESC-1 | 0 |\n",
       "| 6 | HAL1_dup10000 | chr7:29781941-29781976:+   | NA | not-enough-length | HAL1 | L1 | LINE | ESC-1 | 0 |\n",
       "\n"
      ],
      "text/plain": [
       "  transcriptID  location                   subfamily class.x           gene\n",
       "1 HAL1          chr1:50331337-50332274:+   NA        not-enough-length HAL1\n",
       "2 HAL1_dup1     chr1:114294733-114297115:+ NA        not-enough-length HAL1\n",
       "3 HAL1_dup10    chr1:1130956-1131376:-     NA        not-enough-length HAL1\n",
       "4 HAL1_dup100   chr1:14842757-14843163:-   NA        not-enough-length HAL1\n",
       "5 HAL1_dup1000  chr1:150866514-150866665:+ NA        not-enough-length HAL1\n",
       "6 HAL1_dup10000 chr7:29781941-29781976:+   NA        not-enough-length HAL1\n",
       "  family class.y sample expression\n",
       "1 L1     LINE    ESC-1  0         \n",
       "2 L1     LINE    ESC-1  0         \n",
       "3 L1     LINE    ESC-1  0         \n",
       "4 L1     LINE    ESC-1  0         \n",
       "5 L1     LINE    ESC-1  0         \n",
       "6 L1     LINE    ESC-1  0         "
      ]
     },
     "metadata": {},
     "output_type": "display_data"
    }
   ],
   "source": [
    "head(StructureDat_long)"
   ]
  },
  {
   "cell_type": "code",
   "execution_count": 47,
   "id": "77374716-a1e3-447b-93a4-039832b11e99",
   "metadata": {},
   "outputs": [],
   "source": [
    "options(repr.plot.width =12, repr.plot.height =4)"
   ]
  },
  {
   "cell_type": "code",
   "execution_count": 48,
   "id": "26f4f913-d894-4b91-a821-2f0bcc8cc355",
   "metadata": {},
   "outputs": [],
   "source": [
    "p <- ggplot(StructureDat_long,\n",
    "            aes(sample,log10(expression+1),fill = class.x)) +\n",
    "       geom_boxplot(color=\"lightgrey\")+\n",
    "       theme_classic()+\n",
    "           scale_fill_brewer(palette=\"BuGn\")"
   ]
  },
  {
   "cell_type": "code",
   "execution_count": 49,
   "id": "caa6409c-bd1a-4dbf-b20d-b9c1f8caa9d5",
   "metadata": {},
   "outputs": [
    {
     "data": {
      "image/png": "[encoded data removed]",
      "text/plain": [
       "plot without title"
      ]
     },
     "metadata": {
      "image/png": {
       "height": 240,
       "width": 600
      }
     },
     "output_type": "display_data"
    }
   ],
   "source": [
    "p #这张图，就是我一直想要的结果；"
   ]
  },
  {
   "cell_type": "code",
   "execution_count": 50,
   "id": "c7435786-08f5-45ce-8c2c-bdc252766617",
   "metadata": {},
   "outputs": [
    {
     "data": {
      "text/html": [
       "<strong>png:</strong> 2"
      ],
      "text/latex": [
       "\\textbf{png:} 2"
      ],
      "text/markdown": [
       "**png:** 2"
      ],
      "text/plain": [
       "png \n",
       "  2 "
      ]
     },
     "metadata": {},
     "output_type": "display_data"
    }
   ],
   "source": [
    "pdf('L1-structure.pdf',width = 10,height = 4)\n",
    "p\n",
    "dev.off()"
   ]
  }
 ],
 "metadata": {
  "kernelspec": {
   "display_name": "R",
   "language": "R",
   "name": "ir"
  },
  "language_info": {
   "codemirror_mode": "r",
   "file_extension": ".r",
   "mimetype": "text/x-r-source",
   "name": "R",
   "pygments_lexer": "r",
   "version": "4.2.0"
  }
 },
 "nbformat": 4,
 "nbformat_minor": 5
}
