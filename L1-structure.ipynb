{
 "cells": [
  {
   "cell_type": "code",
   "execution_count": 1,
   "id": "d2affe89-0906-4296-81f1-073a8643f464",
   "metadata": {},
   "outputs": [
    {
     "data": {
      "text/html": [
       "'R version 4.2.0 (2022-04-22)'"
      ],
      "text/latex": [
       "'R version 4.2.0 (2022-04-22)'"
      ],
      "text/markdown": [
       "'R version 4.2.0 (2022-04-22)'"
      ],
      "text/plain": [
       "[1] \"R version 4.2.0 (2022-04-22)\""
      ]
     },
     "metadata": {},
     "output_type": "display_data"
    }
   ],
   "source": [
    "R.version.string"
   ]
  },
  {
   "cell_type": "markdown",
   "id": "d2a690fb-5c08-43b7-90b8-363eb0c0085c",
   "metadata": {},
   "source": [
    "```shell\n",
    "cd /home/xxzhang/workplace/software/ #切入到安装目录\n",
    "```"
   ]
  },
  {
   "cell_type": "markdown",
   "id": "44e630ad-eb1c-4a98-9f19-6d2afcf8efcb",
   "metadata": {},
   "source": [
    "```shell\n",
    "wget https://ftp.ncbi.nlm.nih.gov/genomes/TOOLS/ORFfinder/linux-i64/ORFfinder.gz\n",
    "wget https://ftp.ncbi.nlm.nih.gov/genomes/TOOLS/ORFfinder/CHANGELOG.txt\n",
    "wget https://ftp.ncbi.nlm.nih.gov/genomes/TOOLS/ORFfinder/FASTA_example.fsa\n",
    "wget https://ftp.ncbi.nlm.nih.gov/genomes/TOOLS/ORFfinder/ORFfinder.asn_spec.txt\n",
    "./ORFfinder -h\n",
    "```\n",
    "> ./ORFfinder: error while loading shared libraries: libuv.so.1: cannot open shared object file: No such file or directory \\n\n",
    "> 我现在遇到的这个问题是，我不知道非root用户，如何安装系统库libuv.so。 \\n\n",
    "> 可以使用conda来安装吗？ \\n\n",
    "> 我也不了解原理，我想先试一下(在base环境下)。\n",
    "```shell\n",
    "conda install conda-forge::libuv\n",
    "```\n",
    "> 即，虽然感觉安装了，但是并没有什么用处。没找对解决方案；\n",
    "> which  查看可执行文件的位置。\n",
    "> whereis 查看文件的位置。 \n",
    "> \n",
    "find   实际搜寻硬盘查询文件名称\n",
    "\n",
    "最后使用指令“export LD_LIBRARY_PATH=\\$CONDA_PREFIX/lib:\\$LD_LIBRARY_PATH”\n",
    "并且创建了一个新的conda环境，两者相结合，可以实现在新的conda环境下，运行ORFfinder；\n",
    "（我真的懒得写很详细的归纳的文档了）。"
   ]
  },
  {
   "cell_type": "code",
   "execution_count": 1,
   "id": "3d7d5c2c-aaee-4657-a504-956e9ce45ea3",
   "metadata": {},
   "outputs": [],
   "source": [
    "setwd(\"/home/xxzhang/workplace/software/ORFFinder/\")"
   ]
  },
  {
   "cell_type": "code",
   "execution_count": 2,
   "id": "05e4608b-e522-4c3d-9856-35ef485f575a",
   "metadata": {},
   "outputs": [],
   "source": [
    "data<-read.table(\"query-hg38_bedtools_L1.chr1-Y.notAnnotation.txt\")"
   ]
  },
  {
   "cell_type": "code",
   "execution_count": 3,
   "id": "c19814e8-5263-4388-aad7-7c5f33af745b",
   "metadata": {},
   "outputs": [],
   "source": [
    "colnames(data)<-c(\"query.acc.ver\",\"subject.acc.ver\", \"%identity\", \n",
    "                  \"alignment.length\",\n",
    "                  \"mismatches\",\"gap.opens\",\"q.start\",\n",
    "                  \"q.end\",\"s.start\",\"s. end\",\"evalue\",\"bit.score\")"
   ]
  },
  {
   "cell_type": "code",
   "execution_count": 4,
   "id": "af1fe06f-638b-4223-96b2-8cf9fd25ae8b",
   "metadata": {},
   "outputs": [
    {
     "data": {
      "text/html": [
       "<table class=\"dataframe\">\n",
       "<caption>A data.frame: 6 × 12</caption>\n",
       "<thead>\n",
       "\t<tr><th></th><th scope=col>query.acc.ver</th><th scope=col>subject.acc.ver</th><th scope=col>%identity</th><th scope=col>alignment.length</th><th scope=col>mismatches</th><th scope=col>gap.opens</th><th scope=col>q.start</th><th scope=col>q.end</th><th scope=col>s.start</th><th scope=col>s. end</th><th scope=col>evalue</th><th scope=col>bit.score</th></tr>\n",
       "\t<tr><th></th><th scope=col>&lt;chr&gt;</th><th scope=col>&lt;chr&gt;</th><th scope=col>&lt;dbl&gt;</th><th scope=col>&lt;int&gt;</th><th scope=col>&lt;int&gt;</th><th scope=col>&lt;int&gt;</th><th scope=col>&lt;int&gt;</th><th scope=col>&lt;int&gt;</th><th scope=col>&lt;int&gt;</th><th scope=col>&lt;int&gt;</th><th scope=col>&lt;dbl&gt;</th><th scope=col>&lt;dbl&gt;</th></tr>\n",
       "</thead>\n",
       "<tbody>\n",
       "\t<tr><th scope=row>1</th><td>lcl|L1PA2::chr1:73845-74895(-):9-833        </td><td>Human-LINEl-mRNA-ORF2|M19503.1:1957-5784</td><td>97.939</td><td> 825</td><td>17</td><td>0</td><td>1</td><td> 825</td><td>3004</td><td>3828</td><td>0</td><td>1430</td></tr>\n",
       "\t<tr><th scope=row>2</th><td>lcl|L1PA2::chr1:74898-76697(+):83-1798      </td><td>Human-LINEl-mRNA-ORF2|M19503.1:1957-5784</td><td>97.021</td><td>1712</td><td>51</td><td>0</td><td>1</td><td>1712</td><td>1285</td><td>2996</td><td>0</td><td>2887</td></tr>\n",
       "\t<tr><th scope=row>3</th><td>lcl|L1PA3::chr1:2364327-2365707(-):363-1379 </td><td>Human-LINEl-mRNA-ORF2|M19503.1:1957-5784</td><td>95.805</td><td>1025</td><td>34</td><td>3</td><td>1</td><td>1016</td><td>2260</td><td>3284</td><td>0</td><td>1652</td></tr>\n",
       "\t<tr><th scope=row>4</th><td>lcl|L1PA3::chr1:4102544-4105048(+):569-2248 </td><td>Human-LINEl-mRNA-ORF2|M19503.1:1957-5784</td><td>95.595</td><td>1680</td><td>70</td><td>2</td><td>1</td><td>1677</td><td>2105</td><td>3783</td><td>0</td><td>2697</td></tr>\n",
       "\t<tr><th scope=row>5</th><td>lcl|L1PA3::chr1:4244385-4247142(-):824-2188 </td><td>Human-LINEl-mRNA-ORF2|M19503.1:1957-5784</td><td>96.193</td><td>1366</td><td>47</td><td>3</td><td>1</td><td>1362</td><td>2110</td><td>3474</td><td>0</td><td>2237</td></tr>\n",
       "\t<tr><th scope=row>6</th><td>lcl|L1PA4::chr1:7411758-7417922(-):2123-3226</td><td>Human-LINEl-mRNA-ORF2|M19503.1:1957-5784</td><td>97.003</td><td>1101</td><td>33</td><td>0</td><td>1</td><td>1101</td><td>   1</td><td>1101</td><td>0</td><td>1851</td></tr>\n",
       "</tbody>\n",
       "</table>\n"
      ],
      "text/latex": [
       "A data.frame: 6 × 12\n",
       "\\begin{tabular}{r|llllllllllll}\n",
       "  & query.acc.ver & subject.acc.ver & \\%identity & alignment.length & mismatches & gap.opens & q.start & q.end & s.start & s. end & evalue & bit.score\\\\\n",
       "  & <chr> & <chr> & <dbl> & <int> & <int> & <int> & <int> & <int> & <int> & <int> & <dbl> & <dbl>\\\\\n",
       "\\hline\n",
       "\t1 & lcl\\textbar{}L1PA2::chr1:73845-74895(-):9-833         & Human-LINEl-mRNA-ORF2\\textbar{}M19503.1:1957-5784 & 97.939 &  825 & 17 & 0 & 1 &  825 & 3004 & 3828 & 0 & 1430\\\\\n",
       "\t2 & lcl\\textbar{}L1PA2::chr1:74898-76697(+):83-1798       & Human-LINEl-mRNA-ORF2\\textbar{}M19503.1:1957-5784 & 97.021 & 1712 & 51 & 0 & 1 & 1712 & 1285 & 2996 & 0 & 2887\\\\\n",
       "\t3 & lcl\\textbar{}L1PA3::chr1:2364327-2365707(-):363-1379  & Human-LINEl-mRNA-ORF2\\textbar{}M19503.1:1957-5784 & 95.805 & 1025 & 34 & 3 & 1 & 1016 & 2260 & 3284 & 0 & 1652\\\\\n",
       "\t4 & lcl\\textbar{}L1PA3::chr1:4102544-4105048(+):569-2248  & Human-LINEl-mRNA-ORF2\\textbar{}M19503.1:1957-5784 & 95.595 & 1680 & 70 & 2 & 1 & 1677 & 2105 & 3783 & 0 & 2697\\\\\n",
       "\t5 & lcl\\textbar{}L1PA3::chr1:4244385-4247142(-):824-2188  & Human-LINEl-mRNA-ORF2\\textbar{}M19503.1:1957-5784 & 96.193 & 1366 & 47 & 3 & 1 & 1362 & 2110 & 3474 & 0 & 2237\\\\\n",
       "\t6 & lcl\\textbar{}L1PA4::chr1:7411758-7417922(-):2123-3226 & Human-LINEl-mRNA-ORF2\\textbar{}M19503.1:1957-5784 & 97.003 & 1101 & 33 & 0 & 1 & 1101 &    1 & 1101 & 0 & 1851\\\\\n",
       "\\end{tabular}\n"
      ],
      "text/markdown": [
       "\n",
       "A data.frame: 6 × 12\n",
       "\n",
       "| <!--/--> | query.acc.ver &lt;chr&gt; | subject.acc.ver &lt;chr&gt; | %identity &lt;dbl&gt; | alignment.length &lt;int&gt; | mismatches &lt;int&gt; | gap.opens &lt;int&gt; | q.start &lt;int&gt; | q.end &lt;int&gt; | s.start &lt;int&gt; | s. end &lt;int&gt; | evalue &lt;dbl&gt; | bit.score &lt;dbl&gt; |\n",
       "|---|---|---|---|---|---|---|---|---|---|---|---|---|\n",
       "| 1 | lcl|L1PA2::chr1:73845-74895(-):9-833         | Human-LINEl-mRNA-ORF2|M19503.1:1957-5784 | 97.939 |  825 | 17 | 0 | 1 |  825 | 3004 | 3828 | 0 | 1430 |\n",
       "| 2 | lcl|L1PA2::chr1:74898-76697(+):83-1798       | Human-LINEl-mRNA-ORF2|M19503.1:1957-5784 | 97.021 | 1712 | 51 | 0 | 1 | 1712 | 1285 | 2996 | 0 | 2887 |\n",
       "| 3 | lcl|L1PA3::chr1:2364327-2365707(-):363-1379  | Human-LINEl-mRNA-ORF2|M19503.1:1957-5784 | 95.805 | 1025 | 34 | 3 | 1 | 1016 | 2260 | 3284 | 0 | 1652 |\n",
       "| 4 | lcl|L1PA3::chr1:4102544-4105048(+):569-2248  | Human-LINEl-mRNA-ORF2|M19503.1:1957-5784 | 95.595 | 1680 | 70 | 2 | 1 | 1677 | 2105 | 3783 | 0 | 2697 |\n",
       "| 5 | lcl|L1PA3::chr1:4244385-4247142(-):824-2188  | Human-LINEl-mRNA-ORF2|M19503.1:1957-5784 | 96.193 | 1366 | 47 | 3 | 1 | 1362 | 2110 | 3474 | 0 | 2237 |\n",
       "| 6 | lcl|L1PA4::chr1:7411758-7417922(-):2123-3226 | Human-LINEl-mRNA-ORF2|M19503.1:1957-5784 | 97.003 | 1101 | 33 | 0 | 1 | 1101 |    1 | 1101 | 0 | 1851 |\n",
       "\n"
      ],
      "text/plain": [
       "  query.acc.ver                               \n",
       "1 lcl|L1PA2::chr1:73845-74895(-):9-833        \n",
       "2 lcl|L1PA2::chr1:74898-76697(+):83-1798      \n",
       "3 lcl|L1PA3::chr1:2364327-2365707(-):363-1379 \n",
       "4 lcl|L1PA3::chr1:4102544-4105048(+):569-2248 \n",
       "5 lcl|L1PA3::chr1:4244385-4247142(-):824-2188 \n",
       "6 lcl|L1PA4::chr1:7411758-7417922(-):2123-3226\n",
       "  subject.acc.ver                          %identity alignment.length\n",
       "1 Human-LINEl-mRNA-ORF2|M19503.1:1957-5784 97.939     825            \n",
       "2 Human-LINEl-mRNA-ORF2|M19503.1:1957-5784 97.021    1712            \n",
       "3 Human-LINEl-mRNA-ORF2|M19503.1:1957-5784 95.805    1025            \n",
       "4 Human-LINEl-mRNA-ORF2|M19503.1:1957-5784 95.595    1680            \n",
       "5 Human-LINEl-mRNA-ORF2|M19503.1:1957-5784 96.193    1366            \n",
       "6 Human-LINEl-mRNA-ORF2|M19503.1:1957-5784 97.003    1101            \n",
       "  mismatches gap.opens q.start q.end s.start s. end evalue bit.score\n",
       "1 17         0         1        825  3004    3828   0      1430     \n",
       "2 51         0         1       1712  1285    2996   0      2887     \n",
       "3 34         3         1       1016  2260    3284   0      1652     \n",
       "4 70         2         1       1677  2105    3783   0      2697     \n",
       "5 47         3         1       1362  2110    3474   0      2237     \n",
       "6 33         0         1       1101     1    1101   0      1851     "
      ]
     },
     "metadata": {},
     "output_type": "display_data"
    }
   ],
   "source": [
    "head(data)"
   ]
  },
  {
   "cell_type": "code",
   "execution_count": 5,
   "id": "f4d5b466-b766-4521-aae2-28a9514889c1",
   "metadata": {},
   "outputs": [
    {
     "name": "stderr",
     "output_type": "stream",
     "text": [
      "\n",
      "载入程辑包：‘dplyr’\n",
      "\n",
      "\n",
      "The following objects are masked from ‘package:stats’:\n",
      "\n",
      "    filter, lag\n",
      "\n",
      "\n",
      "The following objects are masked from ‘package:base’:\n",
      "\n",
      "    intersect, setdiff, setequal, union\n",
      "\n",
      "\n"
     ]
    }
   ],
   "source": [
    "library(dplyr) #loading packages\n",
    "library(tidyr)\n",
    "library(ggplot2)"
   ]
  },
  {
   "cell_type": "code",
   "execution_count": 6,
   "id": "243f8133-5790-457b-b27a-ba5d4106950e",
   "metadata": {},
   "outputs": [],
   "source": [
    "#library(BiocManager)"
   ]
  },
  {
   "cell_type": "code",
   "execution_count": 7,
   "id": "1894d44e-3e7f-4c6e-8b67-1f6fd2eaca9c",
   "metadata": {},
   "outputs": [],
   "source": [
    "data_ext<-data %>% separate(query.acc.ver, c(\"lcl\",\"subfamily\",\"null\",\"chromsome\",\"start-stop\",\"strand\",\"orf.start-orf.end\"),sep = \"[:|(]\")"
   ]
  },
  {
   "cell_type": "code",
   "execution_count": 8,
   "id": "b1281809-7a6c-4e53-930b-767e43986fca",
   "metadata": {},
   "outputs": [],
   "source": [
    "#head(data_ext)"
   ]
  },
  {
   "cell_type": "code",
   "execution_count": 9,
   "id": "923e013e-f365-4988-99b2-0f16b8fa741d",
   "metadata": {},
   "outputs": [],
   "source": [
    "data_ext2<-data_ext %>% separate(`start-stop`, c(\"start\",\"stop\"),sep = \"[-]\")\n",
    "data_ext3<-data_ext2 %>% separate(`orf.start-orf.end`, c(\"orf.start\",\"orf.end\"),sep = \"[-]\")\n",
    "data_ext3[which(data_ext3$strand==\"+)\"),]$strand<-\"+\"\n",
    "data_ext3[which(data_ext3$strand==\"-)\"),]$strand<-\"-\"\n",
    "data_ext3[grepl(\"ORF2\",data_ext3$subject.acc.ver),\"ORF\"]<-\"ORF2\"\n",
    "data_ext3[grepl(\"ORF1\",data_ext3$subject.acc.ver),\"ORF\"]<-\"ORF1\"\n",
    "#data_ext3[which(data_ext3$subject.acc.ver==\"Human-LINEl-mRNA-ORF1|M19503.1:877-1893\"),]$ORF<-\"ORF1\"\n",
    "data_ext3$Length<-as.numeric(data_ext3$stop)-as.numeric(data_ext3$start)"
   ]
  },
  {
   "cell_type": "code",
   "execution_count": 10,
   "id": "c7ba94cc-293f-4bfb-b9d2-3164e6369913",
   "metadata": {},
   "outputs": [],
   "source": [
    "#table(data_ext3$subject.acc.ver)"
   ]
  },
  {
   "cell_type": "code",
   "execution_count": 11,
   "id": "d402bfd6-95ce-4a13-94f5-4112b612290c",
   "metadata": {},
   "outputs": [
    {
     "data": {
      "text/html": [
       "<table class=\"dataframe\">\n",
       "<caption>A data.frame: 1 × 12</caption>\n",
       "<thead>\n",
       "\t<tr><th></th><th scope=col>subject.acc.ver</th><th scope=col>%identity</th><th scope=col>alignment.length</th><th scope=col>mismatches</th><th scope=col>gap.opens</th><th scope=col>q.start</th><th scope=col>q.end</th><th scope=col>s.start</th><th scope=col>s. end</th><th scope=col>evalue</th><th scope=col>bit.score</th><th scope=col>ORF</th></tr>\n",
       "\t<tr><th></th><th scope=col>&lt;chr&gt;</th><th scope=col>&lt;dbl&gt;</th><th scope=col>&lt;int&gt;</th><th scope=col>&lt;int&gt;</th><th scope=col>&lt;int&gt;</th><th scope=col>&lt;int&gt;</th><th scope=col>&lt;int&gt;</th><th scope=col>&lt;int&gt;</th><th scope=col>&lt;int&gt;</th><th scope=col>&lt;dbl&gt;</th><th scope=col>&lt;dbl&gt;</th><th scope=col>&lt;chr&gt;</th></tr>\n",
       "</thead>\n",
       "<tbody>\n",
       "\t<tr><th scope=row>1</th><td>Human-LINEl-mRNA-ORF2|M19503.1:1957-5784</td><td>97.939</td><td>825</td><td>17</td><td>0</td><td>1</td><td>825</td><td>3004</td><td>3828</td><td>0</td><td>1430</td><td>ORF2</td></tr>\n",
       "</tbody>\n",
       "</table>\n"
      ],
      "text/latex": [
       "A data.frame: 1 × 12\n",
       "\\begin{tabular}{r|llllllllllll}\n",
       "  & subject.acc.ver & \\%identity & alignment.length & mismatches & gap.opens & q.start & q.end & s.start & s. end & evalue & bit.score & ORF\\\\\n",
       "  & <chr> & <dbl> & <int> & <int> & <int> & <int> & <int> & <int> & <int> & <dbl> & <dbl> & <chr>\\\\\n",
       "\\hline\n",
       "\t1 & Human-LINEl-mRNA-ORF2\\textbar{}M19503.1:1957-5784 & 97.939 & 825 & 17 & 0 & 1 & 825 & 3004 & 3828 & 0 & 1430 & ORF2\\\\\n",
       "\\end{tabular}\n"
      ],
      "text/markdown": [
       "\n",
       "A data.frame: 1 × 12\n",
       "\n",
       "| <!--/--> | subject.acc.ver &lt;chr&gt; | %identity &lt;dbl&gt; | alignment.length &lt;int&gt; | mismatches &lt;int&gt; | gap.opens &lt;int&gt; | q.start &lt;int&gt; | q.end &lt;int&gt; | s.start &lt;int&gt; | s. end &lt;int&gt; | evalue &lt;dbl&gt; | bit.score &lt;dbl&gt; | ORF &lt;chr&gt; |\n",
       "|---|---|---|---|---|---|---|---|---|---|---|---|---|\n",
       "| 1 | Human-LINEl-mRNA-ORF2|M19503.1:1957-5784 | 97.939 | 825 | 17 | 0 | 1 | 825 | 3004 | 3828 | 0 | 1430 | ORF2 |\n",
       "\n"
      ],
      "text/plain": [
       "  subject.acc.ver                          %identity alignment.length\n",
       "1 Human-LINEl-mRNA-ORF2|M19503.1:1957-5784 97.939    825             \n",
       "  mismatches gap.opens q.start q.end s.start s. end evalue bit.score ORF \n",
       "1 17         0         1       825   3004    3828   0      1430      ORF2"
      ]
     },
     "metadata": {},
     "output_type": "display_data"
    }
   ],
   "source": [
    "data_ext3[1,10:21]"
   ]
  },
  {
   "cell_type": "code",
   "execution_count": 90,
   "id": "4ce35898-4d61-4554-a005-e518cf6c6b49",
   "metadata": {},
   "outputs": [],
   "source": [
    "data_ext4<-data_ext3[,c(2,4,5,6,7,22,8,9,11,12,13,14,15,16,17,18,21)] #从这边开始，重新做"
   ]
  },
  {
   "cell_type": "code",
   "execution_count": 91,
   "id": "af4a5c59-98c4-432d-9158-03b18bba904b",
   "metadata": {},
   "outputs": [
    {
     "data": {
      "text/html": [
       "<table class=\"dataframe\">\n",
       "<caption>A data.frame: 10 × 17</caption>\n",
       "<thead>\n",
       "\t<tr><th></th><th scope=col>subfamily</th><th scope=col>chromsome</th><th scope=col>start</th><th scope=col>stop</th><th scope=col>strand</th><th scope=col>Length</th><th scope=col>orf.start</th><th scope=col>orf.end</th><th scope=col>%identity</th><th scope=col>alignment.length</th><th scope=col>mismatches</th><th scope=col>gap.opens</th><th scope=col>q.start</th><th scope=col>q.end</th><th scope=col>s.start</th><th scope=col>s. end</th><th scope=col>ORF</th></tr>\n",
       "\t<tr><th></th><th scope=col>&lt;chr&gt;</th><th scope=col>&lt;chr&gt;</th><th scope=col>&lt;chr&gt;</th><th scope=col>&lt;chr&gt;</th><th scope=col>&lt;chr&gt;</th><th scope=col>&lt;dbl&gt;</th><th scope=col>&lt;chr&gt;</th><th scope=col>&lt;chr&gt;</th><th scope=col>&lt;dbl&gt;</th><th scope=col>&lt;int&gt;</th><th scope=col>&lt;int&gt;</th><th scope=col>&lt;int&gt;</th><th scope=col>&lt;int&gt;</th><th scope=col>&lt;int&gt;</th><th scope=col>&lt;int&gt;</th><th scope=col>&lt;int&gt;</th><th scope=col>&lt;chr&gt;</th></tr>\n",
       "</thead>\n",
       "<tbody>\n",
       "\t<tr><th scope=row>1</th><td>L1PA2</td><td>chr1</td><td>73845   </td><td>74895   </td><td>-</td><td>1050</td><td>9   </td><td>833 </td><td>97.939</td><td> 825</td><td>17</td><td>0</td><td>1</td><td> 825</td><td>3004</td><td>3828</td><td>ORF2</td></tr>\n",
       "\t<tr><th scope=row>2</th><td>L1PA2</td><td>chr1</td><td>74898   </td><td>76697   </td><td>+</td><td>1799</td><td>83  </td><td>1798</td><td>97.021</td><td>1712</td><td>51</td><td>0</td><td>1</td><td>1712</td><td>1285</td><td>2996</td><td>ORF2</td></tr>\n",
       "\t<tr><th scope=row>3</th><td>L1PA3</td><td>chr1</td><td>2364327 </td><td>2365707 </td><td>-</td><td>1380</td><td>363 </td><td>1379</td><td>95.805</td><td>1025</td><td>34</td><td>3</td><td>1</td><td>1016</td><td>2260</td><td>3284</td><td>ORF2</td></tr>\n",
       "\t<tr><th scope=row>4</th><td>L1PA3</td><td>chr1</td><td>4102544 </td><td>4105048 </td><td>+</td><td>2504</td><td>569 </td><td>2248</td><td>95.595</td><td>1680</td><td>70</td><td>2</td><td>1</td><td>1677</td><td>2105</td><td>3783</td><td>ORF2</td></tr>\n",
       "\t<tr><th scope=row>5</th><td>L1PA3</td><td>chr1</td><td>4244385 </td><td>4247142 </td><td>-</td><td>2757</td><td>824 </td><td>2188</td><td>96.193</td><td>1366</td><td>47</td><td>3</td><td>1</td><td>1362</td><td>2110</td><td>3474</td><td>ORF2</td></tr>\n",
       "\t<tr><th scope=row>6</th><td>L1PA4</td><td>chr1</td><td>7411758 </td><td>7417922 </td><td>-</td><td>6164</td><td>2123</td><td>3226</td><td>97.003</td><td>1101</td><td>33</td><td>0</td><td>1</td><td>1101</td><td>   1</td><td>1101</td><td>ORF2</td></tr>\n",
       "\t<tr><th scope=row>7</th><td>L1PA4</td><td>chr1</td><td>7411758 </td><td>7417922 </td><td>-</td><td>6164</td><td>3729</td><td>4991</td><td>96.038</td><td>1262</td><td>50</td><td>0</td><td>1</td><td>1262</td><td>1606</td><td>2867</td><td>ORF2</td></tr>\n",
       "\t<tr><th scope=row>8</th><td>L1PA4</td><td>chr1</td><td>7597938 </td><td>7600485 </td><td>-</td><td>2547</td><td>762 </td><td>1967</td><td>94.601</td><td>1204</td><td>62</td><td>2</td><td>1</td><td>1204</td><td>2260</td><td>3460</td><td>ORF2</td></tr>\n",
       "\t<tr><th scope=row>9</th><td>L1PA3</td><td>chr1</td><td>11083624</td><td>11086544</td><td>-</td><td>2920</td><td>166 </td><td>1140</td><td>96.134</td><td> 957</td><td>37</td><td>0</td><td>1</td><td> 957</td><td>1285</td><td>2241</td><td>ORF2</td></tr>\n",
       "\t<tr><th scope=row>10</th><td>L1PA5</td><td>chr1</td><td>11160803</td><td>11164062</td><td>+</td><td>3259</td><td>2300</td><td>3223</td><td>94.067</td><td> 927</td><td>50</td><td>3</td><td>1</td><td> 924</td><td> 197</td><td>1121</td><td>ORF2</td></tr>\n",
       "</tbody>\n",
       "</table>\n"
      ],
      "text/latex": [
       "A data.frame: 10 × 17\n",
       "\\begin{tabular}{r|lllllllllllllllll}\n",
       "  & subfamily & chromsome & start & stop & strand & Length & orf.start & orf.end & \\%identity & alignment.length & mismatches & gap.opens & q.start & q.end & s.start & s. end & ORF\\\\\n",
       "  & <chr> & <chr> & <chr> & <chr> & <chr> & <dbl> & <chr> & <chr> & <dbl> & <int> & <int> & <int> & <int> & <int> & <int> & <int> & <chr>\\\\\n",
       "\\hline\n",
       "\t1 & L1PA2 & chr1 & 73845    & 74895    & - & 1050 & 9    & 833  & 97.939 &  825 & 17 & 0 & 1 &  825 & 3004 & 3828 & ORF2\\\\\n",
       "\t2 & L1PA2 & chr1 & 74898    & 76697    & + & 1799 & 83   & 1798 & 97.021 & 1712 & 51 & 0 & 1 & 1712 & 1285 & 2996 & ORF2\\\\\n",
       "\t3 & L1PA3 & chr1 & 2364327  & 2365707  & - & 1380 & 363  & 1379 & 95.805 & 1025 & 34 & 3 & 1 & 1016 & 2260 & 3284 & ORF2\\\\\n",
       "\t4 & L1PA3 & chr1 & 4102544  & 4105048  & + & 2504 & 569  & 2248 & 95.595 & 1680 & 70 & 2 & 1 & 1677 & 2105 & 3783 & ORF2\\\\\n",
       "\t5 & L1PA3 & chr1 & 4244385  & 4247142  & - & 2757 & 824  & 2188 & 96.193 & 1366 & 47 & 3 & 1 & 1362 & 2110 & 3474 & ORF2\\\\\n",
       "\t6 & L1PA4 & chr1 & 7411758  & 7417922  & - & 6164 & 2123 & 3226 & 97.003 & 1101 & 33 & 0 & 1 & 1101 &    1 & 1101 & ORF2\\\\\n",
       "\t7 & L1PA4 & chr1 & 7411758  & 7417922  & - & 6164 & 3729 & 4991 & 96.038 & 1262 & 50 & 0 & 1 & 1262 & 1606 & 2867 & ORF2\\\\\n",
       "\t8 & L1PA4 & chr1 & 7597938  & 7600485  & - & 2547 & 762  & 1967 & 94.601 & 1204 & 62 & 2 & 1 & 1204 & 2260 & 3460 & ORF2\\\\\n",
       "\t9 & L1PA3 & chr1 & 11083624 & 11086544 & - & 2920 & 166  & 1140 & 96.134 &  957 & 37 & 0 & 1 &  957 & 1285 & 2241 & ORF2\\\\\n",
       "\t10 & L1PA5 & chr1 & 11160803 & 11164062 & + & 3259 & 2300 & 3223 & 94.067 &  927 & 50 & 3 & 1 &  924 &  197 & 1121 & ORF2\\\\\n",
       "\\end{tabular}\n"
      ],
      "text/markdown": [
       "\n",
       "A data.frame: 10 × 17\n",
       "\n",
       "| <!--/--> | subfamily &lt;chr&gt; | chromsome &lt;chr&gt; | start &lt;chr&gt; | stop &lt;chr&gt; | strand &lt;chr&gt; | Length &lt;dbl&gt; | orf.start &lt;chr&gt; | orf.end &lt;chr&gt; | %identity &lt;dbl&gt; | alignment.length &lt;int&gt; | mismatches &lt;int&gt; | gap.opens &lt;int&gt; | q.start &lt;int&gt; | q.end &lt;int&gt; | s.start &lt;int&gt; | s. end &lt;int&gt; | ORF &lt;chr&gt; |\n",
       "|---|---|---|---|---|---|---|---|---|---|---|---|---|---|---|---|---|---|\n",
       "| 1 | L1PA2 | chr1 | 73845    | 74895    | - | 1050 | 9    | 833  | 97.939 |  825 | 17 | 0 | 1 |  825 | 3004 | 3828 | ORF2 |\n",
       "| 2 | L1PA2 | chr1 | 74898    | 76697    | + | 1799 | 83   | 1798 | 97.021 | 1712 | 51 | 0 | 1 | 1712 | 1285 | 2996 | ORF2 |\n",
       "| 3 | L1PA3 | chr1 | 2364327  | 2365707  | - | 1380 | 363  | 1379 | 95.805 | 1025 | 34 | 3 | 1 | 1016 | 2260 | 3284 | ORF2 |\n",
       "| 4 | L1PA3 | chr1 | 4102544  | 4105048  | + | 2504 | 569  | 2248 | 95.595 | 1680 | 70 | 2 | 1 | 1677 | 2105 | 3783 | ORF2 |\n",
       "| 5 | L1PA3 | chr1 | 4244385  | 4247142  | - | 2757 | 824  | 2188 | 96.193 | 1366 | 47 | 3 | 1 | 1362 | 2110 | 3474 | ORF2 |\n",
       "| 6 | L1PA4 | chr1 | 7411758  | 7417922  | - | 6164 | 2123 | 3226 | 97.003 | 1101 | 33 | 0 | 1 | 1101 |    1 | 1101 | ORF2 |\n",
       "| 7 | L1PA4 | chr1 | 7411758  | 7417922  | - | 6164 | 3729 | 4991 | 96.038 | 1262 | 50 | 0 | 1 | 1262 | 1606 | 2867 | ORF2 |\n",
       "| 8 | L1PA4 | chr1 | 7597938  | 7600485  | - | 2547 | 762  | 1967 | 94.601 | 1204 | 62 | 2 | 1 | 1204 | 2260 | 3460 | ORF2 |\n",
       "| 9 | L1PA3 | chr1 | 11083624 | 11086544 | - | 2920 | 166  | 1140 | 96.134 |  957 | 37 | 0 | 1 |  957 | 1285 | 2241 | ORF2 |\n",
       "| 10 | L1PA5 | chr1 | 11160803 | 11164062 | + | 3259 | 2300 | 3223 | 94.067 |  927 | 50 | 3 | 1 |  924 |  197 | 1121 | ORF2 |\n",
       "\n"
      ],
      "text/plain": [
       "   subfamily chromsome start    stop     strand Length orf.start orf.end\n",
       "1  L1PA2     chr1      73845    74895    -      1050   9         833    \n",
       "2  L1PA2     chr1      74898    76697    +      1799   83        1798   \n",
       "3  L1PA3     chr1      2364327  2365707  -      1380   363       1379   \n",
       "4  L1PA3     chr1      4102544  4105048  +      2504   569       2248   \n",
       "5  L1PA3     chr1      4244385  4247142  -      2757   824       2188   \n",
       "6  L1PA4     chr1      7411758  7417922  -      6164   2123      3226   \n",
       "7  L1PA4     chr1      7411758  7417922  -      6164   3729      4991   \n",
       "8  L1PA4     chr1      7597938  7600485  -      2547   762       1967   \n",
       "9  L1PA3     chr1      11083624 11086544 -      2920   166       1140   \n",
       "10 L1PA5     chr1      11160803 11164062 +      3259   2300      3223   \n",
       "   %identity alignment.length mismatches gap.opens q.start q.end s.start s. end\n",
       "1  97.939     825             17         0         1        825  3004    3828  \n",
       "2  97.021    1712             51         0         1       1712  1285    2996  \n",
       "3  95.805    1025             34         3         1       1016  2260    3284  \n",
       "4  95.595    1680             70         2         1       1677  2105    3783  \n",
       "5  96.193    1366             47         3         1       1362  2110    3474  \n",
       "6  97.003    1101             33         0         1       1101     1    1101  \n",
       "7  96.038    1262             50         0         1       1262  1606    2867  \n",
       "8  94.601    1204             62         2         1       1204  2260    3460  \n",
       "9  96.134     957             37         0         1        957  1285    2241  \n",
       "10 94.067     927             50         3         1        924   197    1121  \n",
       "   ORF \n",
       "1  ORF2\n",
       "2  ORF2\n",
       "3  ORF2\n",
       "4  ORF2\n",
       "5  ORF2\n",
       "6  ORF2\n",
       "7  ORF2\n",
       "8  ORF2\n",
       "9  ORF2\n",
       "10 ORF2"
      ]
     },
     "metadata": {},
     "output_type": "display_data"
    }
   ],
   "source": [
    "head(data_ext4,10)"
   ]
  },
  {
   "cell_type": "code",
   "execution_count": 92,
   "id": "bdc46f66-e183-4eb4-9fc9-3f81d0b0681d",
   "metadata": {},
   "outputs": [],
   "source": [
    "data_ext4[,\"label\"]<-\"null\""
   ]
  },
  {
   "cell_type": "code",
   "execution_count": 93,
   "id": "4be893da-f528-4378-9825-fff9c48f0480",
   "metadata": {},
   "outputs": [],
   "source": [
    "data_ext4<-data_ext4[order(data_ext4$subfamily,data_ext4$chromsome,data_ext4$start,\n",
    "                           data_ext4$stop,data_ext4$strand,data_ext4$Length,data_ext4$ORF),] #加上这一行重新开始做；"
   ]
  },
  {
   "cell_type": "code",
   "execution_count": 94,
   "id": "e190744f-8a15-4b03-a343-195ab1f11cb2",
   "metadata": {},
   "outputs": [
    {
     "data": {
      "text/html": [
       "<style>\n",
       ".list-inline {list-style: none; margin:0; padding: 0}\n",
       ".list-inline>li {display: inline-block}\n",
       ".list-inline>li:not(:last-child)::after {content: \"\\00b7\"; padding: 0 .5ex}\n",
       "</style>\n",
       "<ol class=list-inline><li>15201</li><li>18</li></ol>\n"
      ],
      "text/latex": [
       "\\begin{enumerate*}\n",
       "\\item 15201\n",
       "\\item 18\n",
       "\\end{enumerate*}\n"
      ],
      "text/markdown": [
       "1. 15201\n",
       "2. 18\n",
       "\n",
       "\n"
      ],
      "text/plain": [
       "[1] 15201    18"
      ]
     },
     "metadata": {},
     "output_type": "display_data"
    }
   ],
   "source": [
    "dim(data_ext4)"
   ]
  },
  {
   "cell_type": "code",
   "execution_count": 96,
   "id": "8753c867-d1b9-414e-bec6-6132dd4816fd",
   "metadata": {},
   "outputs": [
    {
     "data": {
      "text/html": [
       "<table class=\"dataframe\">\n",
       "<caption>A data.frame: 3 × 18</caption>\n",
       "<thead>\n",
       "\t<tr><th></th><th scope=col>subfamily</th><th scope=col>chromsome</th><th scope=col>start</th><th scope=col>stop</th><th scope=col>strand</th><th scope=col>Length</th><th scope=col>orf.start</th><th scope=col>orf.end</th><th scope=col>%identity</th><th scope=col>alignment.length</th><th scope=col>mismatches</th><th scope=col>gap.opens</th><th scope=col>q.start</th><th scope=col>q.end</th><th scope=col>s.start</th><th scope=col>s. end</th><th scope=col>ORF</th><th scope=col>label</th></tr>\n",
       "\t<tr><th></th><th scope=col>&lt;chr&gt;</th><th scope=col>&lt;chr&gt;</th><th scope=col>&lt;chr&gt;</th><th scope=col>&lt;chr&gt;</th><th scope=col>&lt;chr&gt;</th><th scope=col>&lt;dbl&gt;</th><th scope=col>&lt;chr&gt;</th><th scope=col>&lt;chr&gt;</th><th scope=col>&lt;dbl&gt;</th><th scope=col>&lt;int&gt;</th><th scope=col>&lt;int&gt;</th><th scope=col>&lt;int&gt;</th><th scope=col>&lt;int&gt;</th><th scope=col>&lt;int&gt;</th><th scope=col>&lt;int&gt;</th><th scope=col>&lt;int&gt;</th><th scope=col>&lt;chr&gt;</th><th scope=col>&lt;chr&gt;</th></tr>\n",
       "</thead>\n",
       "<tbody>\n",
       "\t<tr><th scope=row>14262</th><td>L1PA5</td><td>chrX</td><td>77470642</td><td>77476783</td><td>+</td><td>6141</td><td>771 </td><td>2033</td><td>89.577</td><td>1017</td><td>106</td><td>0</td><td>247</td><td>1263</td><td>   1</td><td>1017</td><td>ORF1</td><td>null</td></tr>\n",
       "\t<tr><th scope=row>14261</th><td>L1PA5</td><td>chrX</td><td>77470642</td><td>77476783</td><td>+</td><td>6141</td><td>3929</td><td>5317</td><td>94.831</td><td>1393</td><td> 68</td><td>1</td><td>  1</td><td>1389</td><td>1837</td><td>3229</td><td>ORF2</td><td>null</td></tr>\n",
       "\t<tr><th scope=row>14263</th><td>L1PA5</td><td>chrX</td><td>77470642</td><td>77476783</td><td>+</td><td>6141</td><td>2097</td><td>2957</td><td>93.503</td><td> 862</td><td> 53</td><td>1</td><td>  1</td><td> 859</td><td>   1</td><td> 862</td><td>ORF2</td><td>null</td></tr>\n",
       "</tbody>\n",
       "</table>\n"
      ],
      "text/latex": [
       "A data.frame: 3 × 18\n",
       "\\begin{tabular}{r|llllllllllllllllll}\n",
       "  & subfamily & chromsome & start & stop & strand & Length & orf.start & orf.end & \\%identity & alignment.length & mismatches & gap.opens & q.start & q.end & s.start & s. end & ORF & label\\\\\n",
       "  & <chr> & <chr> & <chr> & <chr> & <chr> & <dbl> & <chr> & <chr> & <dbl> & <int> & <int> & <int> & <int> & <int> & <int> & <int> & <chr> & <chr>\\\\\n",
       "\\hline\n",
       "\t14262 & L1PA5 & chrX & 77470642 & 77476783 & + & 6141 & 771  & 2033 & 89.577 & 1017 & 106 & 0 & 247 & 1263 &    1 & 1017 & ORF1 & null\\\\\n",
       "\t14261 & L1PA5 & chrX & 77470642 & 77476783 & + & 6141 & 3929 & 5317 & 94.831 & 1393 &  68 & 1 &   1 & 1389 & 1837 & 3229 & ORF2 & null\\\\\n",
       "\t14263 & L1PA5 & chrX & 77470642 & 77476783 & + & 6141 & 2097 & 2957 & 93.503 &  862 &  53 & 1 &   1 &  859 &    1 &  862 & ORF2 & null\\\\\n",
       "\\end{tabular}\n"
      ],
      "text/markdown": [
       "\n",
       "A data.frame: 3 × 18\n",
       "\n",
       "| <!--/--> | subfamily &lt;chr&gt; | chromsome &lt;chr&gt; | start &lt;chr&gt; | stop &lt;chr&gt; | strand &lt;chr&gt; | Length &lt;dbl&gt; | orf.start &lt;chr&gt; | orf.end &lt;chr&gt; | %identity &lt;dbl&gt; | alignment.length &lt;int&gt; | mismatches &lt;int&gt; | gap.opens &lt;int&gt; | q.start &lt;int&gt; | q.end &lt;int&gt; | s.start &lt;int&gt; | s. end &lt;int&gt; | ORF &lt;chr&gt; | label &lt;chr&gt; |\n",
       "|---|---|---|---|---|---|---|---|---|---|---|---|---|---|---|---|---|---|---|\n",
       "| 14262 | L1PA5 | chrX | 77470642 | 77476783 | + | 6141 | 771  | 2033 | 89.577 | 1017 | 106 | 0 | 247 | 1263 |    1 | 1017 | ORF1 | null |\n",
       "| 14261 | L1PA5 | chrX | 77470642 | 77476783 | + | 6141 | 3929 | 5317 | 94.831 | 1393 |  68 | 1 |   1 | 1389 | 1837 | 3229 | ORF2 | null |\n",
       "| 14263 | L1PA5 | chrX | 77470642 | 77476783 | + | 6141 | 2097 | 2957 | 93.503 |  862 |  53 | 1 |   1 |  859 |    1 |  862 | ORF2 | null |\n",
       "\n"
      ],
      "text/plain": [
       "      subfamily chromsome start    stop     strand Length orf.start orf.end\n",
       "14262 L1PA5     chrX      77470642 77476783 +      6141   771       2033   \n",
       "14261 L1PA5     chrX      77470642 77476783 +      6141   3929      5317   \n",
       "14263 L1PA5     chrX      77470642 77476783 +      6141   2097      2957   \n",
       "      %identity alignment.length mismatches gap.opens q.start q.end s.start\n",
       "14262 89.577    1017             106        0         247     1263     1   \n",
       "14261 94.831    1393              68        1           1     1389  1837   \n",
       "14263 93.503     862              53        1           1      859     1   \n",
       "      s. end ORF  label\n",
       "14262 1017   ORF1 null \n",
       "14261 3229   ORF2 null \n",
       "14263  862   ORF2 null "
      ]
     },
     "metadata": {},
     "output_type": "display_data"
    }
   ],
   "source": [
    "data_ext4[data_ext4$start==\"77470642\",]"
   ]
  },
  {
   "cell_type": "code",
   "execution_count": 97,
   "id": "420519e1-b61b-41d3-aaa8-61b7b0c7081a",
   "metadata": {},
   "outputs": [],
   "source": [
    "#merge lines\n",
    "for (i in 1:(dim(data_ext4)[1]-1)) {\n",
    "if(sum(data_ext4[i,c(1:6,17)]==data_ext4[i+1,c(1:6,17)])==7){\n",
    "    a=c(data_ext4[i,7],data_ext4[i,8],data_ext4[i+1,7],data_ext4[i+1,8])\n",
    "    data_ext4[i,]$label<-\"1rd\"\n",
    "    data_ext4[i+1,]$label<-\"1rd\"\n",
    "    b=as.data.frame(c(data_ext4[i,1:6],min(a),max(a),rep(NA,8),data_ext4[i,17],\"2rd\"))\n",
    "    colnames(b)<-colnames(data_ext4)\n",
    "    data_ext4<-rbind(data_ext4,b)\n",
    "    i = i+1\n",
    "}\n",
    "    }\n",
    "#这里就不是很会写了，感觉两个相邻行还比较好处理，如果多个这样要怎么办呢？要不断的这样循环的迭代嘛？\n",
    "#而且这里当时发现，对于最后一行是没有下一行的，因此难免会报出错误；之前运行到这里的时候，居然没有报错也是非常的奇怪"
   ]
  },
  {
   "cell_type": "code",
   "execution_count": 98,
   "id": "df4bd44d-f021-4bae-972a-34cde89a8b58",
   "metadata": {},
   "outputs": [
    {
     "data": {
      "text/html": [
       "<table class=\"dataframe\">\n",
       "<caption>A data.frame: 2 × 18</caption>\n",
       "<thead>\n",
       "\t<tr><th></th><th scope=col>subfamily</th><th scope=col>chromsome</th><th scope=col>start</th><th scope=col>stop</th><th scope=col>strand</th><th scope=col>Length</th><th scope=col>orf.start</th><th scope=col>orf.end</th><th scope=col>%identity</th><th scope=col>alignment.length</th><th scope=col>mismatches</th><th scope=col>gap.opens</th><th scope=col>q.start</th><th scope=col>q.end</th><th scope=col>s.start</th><th scope=col>s. end</th><th scope=col>ORF</th><th scope=col>label</th></tr>\n",
       "\t<tr><th></th><th scope=col>&lt;chr&gt;</th><th scope=col>&lt;chr&gt;</th><th scope=col>&lt;chr&gt;</th><th scope=col>&lt;chr&gt;</th><th scope=col>&lt;chr&gt;</th><th scope=col>&lt;dbl&gt;</th><th scope=col>&lt;chr&gt;</th><th scope=col>&lt;chr&gt;</th><th scope=col>&lt;dbl&gt;</th><th scope=col>&lt;int&gt;</th><th scope=col>&lt;int&gt;</th><th scope=col>&lt;int&gt;</th><th scope=col>&lt;int&gt;</th><th scope=col>&lt;int&gt;</th><th scope=col>&lt;int&gt;</th><th scope=col>&lt;int&gt;</th><th scope=col>&lt;chr&gt;</th><th scope=col>&lt;chr&gt;</th></tr>\n",
       "</thead>\n",
       "<tbody>\n",
       "\t<tr><th scope=row>7421</th><td>L1PREC2</td><td>chr3</td><td>110671440</td><td>110676505</td><td>+</td><td>5065</td><td>2684</td><td>3754</td><td>91.511</td><td>1072</td><td> 90</td><td>1</td><td>1</td><td>1071</td><td> 427</td><td>1498</td><td>ORF2</td><td>null</td></tr>\n",
       "\t<tr><th scope=row>14181</th><td>L1PREC2</td><td>chrX</td><td>74758417 </td><td>74760841 </td><td>-</td><td>2424</td><td>248 </td><td>1057</td><td>83.106</td><td> 805</td><td>129</td><td>5</td><td>1</td><td> 801</td><td>1837</td><td>2638</td><td>ORF2</td><td>null</td></tr>\n",
       "</tbody>\n",
       "</table>\n"
      ],
      "text/latex": [
       "A data.frame: 2 × 18\n",
       "\\begin{tabular}{r|llllllllllllllllll}\n",
       "  & subfamily & chromsome & start & stop & strand & Length & orf.start & orf.end & \\%identity & alignment.length & mismatches & gap.opens & q.start & q.end & s.start & s. end & ORF & label\\\\\n",
       "  & <chr> & <chr> & <chr> & <chr> & <chr> & <dbl> & <chr> & <chr> & <dbl> & <int> & <int> & <int> & <int> & <int> & <int> & <int> & <chr> & <chr>\\\\\n",
       "\\hline\n",
       "\t7421 & L1PREC2 & chr3 & 110671440 & 110676505 & + & 5065 & 2684 & 3754 & 91.511 & 1072 &  90 & 1 & 1 & 1071 &  427 & 1498 & ORF2 & null\\\\\n",
       "\t14181 & L1PREC2 & chrX & 74758417  & 74760841  & - & 2424 & 248  & 1057 & 83.106 &  805 & 129 & 5 & 1 &  801 & 1837 & 2638 & ORF2 & null\\\\\n",
       "\\end{tabular}\n"
      ],
      "text/markdown": [
       "\n",
       "A data.frame: 2 × 18\n",
       "\n",
       "| <!--/--> | subfamily &lt;chr&gt; | chromsome &lt;chr&gt; | start &lt;chr&gt; | stop &lt;chr&gt; | strand &lt;chr&gt; | Length &lt;dbl&gt; | orf.start &lt;chr&gt; | orf.end &lt;chr&gt; | %identity &lt;dbl&gt; | alignment.length &lt;int&gt; | mismatches &lt;int&gt; | gap.opens &lt;int&gt; | q.start &lt;int&gt; | q.end &lt;int&gt; | s.start &lt;int&gt; | s. end &lt;int&gt; | ORF &lt;chr&gt; | label &lt;chr&gt; |\n",
       "|---|---|---|---|---|---|---|---|---|---|---|---|---|---|---|---|---|---|---|\n",
       "| 7421 | L1PREC2 | chr3 | 110671440 | 110676505 | + | 5065 | 2684 | 3754 | 91.511 | 1072 |  90 | 1 | 1 | 1071 |  427 | 1498 | ORF2 | null |\n",
       "| 14181 | L1PREC2 | chrX | 74758417  | 74760841  | - | 2424 | 248  | 1057 | 83.106 |  805 | 129 | 5 | 1 |  801 | 1837 | 2638 | ORF2 | null |\n",
       "\n"
      ],
      "text/plain": [
       "      subfamily chromsome start     stop      strand Length orf.start orf.end\n",
       "7421  L1PREC2   chr3      110671440 110676505 +      5065   2684      3754   \n",
       "14181 L1PREC2   chrX      74758417  74760841  -      2424   248       1057   \n",
       "      %identity alignment.length mismatches gap.opens q.start q.end s.start\n",
       "7421  91.511    1072              90        1         1       1071   427   \n",
       "14181 83.106     805             129        5         1        801  1837   \n",
       "      s. end ORF  label\n",
       "7421  1498   ORF2 null \n",
       "14181 2638   ORF2 null "
      ]
     },
     "metadata": {},
     "output_type": "display_data"
    }
   ],
   "source": [
    "data_ext4[c(15200,15201),] #最后一行和上一行并不重复，不需要额外考虑；"
   ]
  },
  {
   "cell_type": "code",
   "execution_count": 99,
   "id": "ae97eeba-7e00-444c-ba04-e83875f519ac",
   "metadata": {},
   "outputs": [],
   "source": [
    "#data_ext4[1,1:6]==data_ext4[2,1:6]"
   ]
  },
  {
   "cell_type": "code",
   "execution_count": 100,
   "id": "f2254e0b-5341-42d2-8469-a4ba02525eca",
   "metadata": {},
   "outputs": [
    {
     "data": {
      "text/html": [
       "<table class=\"dataframe\">\n",
       "<caption>A data.frame: 3 × 18</caption>\n",
       "<thead>\n",
       "\t<tr><th></th><th scope=col>subfamily</th><th scope=col>chromsome</th><th scope=col>start</th><th scope=col>stop</th><th scope=col>strand</th><th scope=col>Length</th><th scope=col>orf.start</th><th scope=col>orf.end</th><th scope=col>%identity</th><th scope=col>alignment.length</th><th scope=col>mismatches</th><th scope=col>gap.opens</th><th scope=col>q.start</th><th scope=col>q.end</th><th scope=col>s.start</th><th scope=col>s. end</th><th scope=col>ORF</th><th scope=col>label</th></tr>\n",
       "\t<tr><th></th><th scope=col>&lt;chr&gt;</th><th scope=col>&lt;chr&gt;</th><th scope=col>&lt;chr&gt;</th><th scope=col>&lt;chr&gt;</th><th scope=col>&lt;chr&gt;</th><th scope=col>&lt;dbl&gt;</th><th scope=col>&lt;chr&gt;</th><th scope=col>&lt;chr&gt;</th><th scope=col>&lt;dbl&gt;</th><th scope=col>&lt;int&gt;</th><th scope=col>&lt;int&gt;</th><th scope=col>&lt;int&gt;</th><th scope=col>&lt;int&gt;</th><th scope=col>&lt;int&gt;</th><th scope=col>&lt;int&gt;</th><th scope=col>&lt;int&gt;</th><th scope=col>&lt;chr&gt;</th><th scope=col>&lt;chr&gt;</th></tr>\n",
       "</thead>\n",
       "<tbody>\n",
       "\t<tr><th scope=row>6</th><td>L1PA4</td><td>chr1</td><td>7411758</td><td>7417922</td><td>-</td><td>6164</td><td>2123</td><td>3226</td><td>97.003</td><td>1101</td><td>33</td><td> 0</td><td> 1</td><td>1101</td><td>   1</td><td>1101</td><td>ORF2</td><td>1rd</td></tr>\n",
       "\t<tr><th scope=row>7</th><td>L1PA4</td><td>chr1</td><td>7411758</td><td>7417922</td><td>-</td><td>6164</td><td>3729</td><td>4991</td><td>96.038</td><td>1262</td><td>50</td><td> 0</td><td> 1</td><td>1262</td><td>1606</td><td>2867</td><td>ORF2</td><td>1rd</td></tr>\n",
       "\t<tr><th scope=row>17303</th><td>L1PA4</td><td>chr1</td><td>7411758</td><td>7417922</td><td>-</td><td>6164</td><td>2123</td><td>4991</td><td>    NA</td><td>  NA</td><td>NA</td><td>NA</td><td>NA</td><td>  NA</td><td>  NA</td><td>  NA</td><td>ORF2</td><td>2rd</td></tr>\n",
       "</tbody>\n",
       "</table>\n"
      ],
      "text/latex": [
       "A data.frame: 3 × 18\n",
       "\\begin{tabular}{r|llllllllllllllllll}\n",
       "  & subfamily & chromsome & start & stop & strand & Length & orf.start & orf.end & \\%identity & alignment.length & mismatches & gap.opens & q.start & q.end & s.start & s. end & ORF & label\\\\\n",
       "  & <chr> & <chr> & <chr> & <chr> & <chr> & <dbl> & <chr> & <chr> & <dbl> & <int> & <int> & <int> & <int> & <int> & <int> & <int> & <chr> & <chr>\\\\\n",
       "\\hline\n",
       "\t6 & L1PA4 & chr1 & 7411758 & 7417922 & - & 6164 & 2123 & 3226 & 97.003 & 1101 & 33 &  0 &  1 & 1101 &    1 & 1101 & ORF2 & 1rd\\\\\n",
       "\t7 & L1PA4 & chr1 & 7411758 & 7417922 & - & 6164 & 3729 & 4991 & 96.038 & 1262 & 50 &  0 &  1 & 1262 & 1606 & 2867 & ORF2 & 1rd\\\\\n",
       "\t17303 & L1PA4 & chr1 & 7411758 & 7417922 & - & 6164 & 2123 & 4991 &     NA &   NA & NA & NA & NA &   NA &   NA &   NA & ORF2 & 2rd\\\\\n",
       "\\end{tabular}\n"
      ],
      "text/markdown": [
       "\n",
       "A data.frame: 3 × 18\n",
       "\n",
       "| <!--/--> | subfamily &lt;chr&gt; | chromsome &lt;chr&gt; | start &lt;chr&gt; | stop &lt;chr&gt; | strand &lt;chr&gt; | Length &lt;dbl&gt; | orf.start &lt;chr&gt; | orf.end &lt;chr&gt; | %identity &lt;dbl&gt; | alignment.length &lt;int&gt; | mismatches &lt;int&gt; | gap.opens &lt;int&gt; | q.start &lt;int&gt; | q.end &lt;int&gt; | s.start &lt;int&gt; | s. end &lt;int&gt; | ORF &lt;chr&gt; | label &lt;chr&gt; |\n",
       "|---|---|---|---|---|---|---|---|---|---|---|---|---|---|---|---|---|---|---|\n",
       "| 6 | L1PA4 | chr1 | 7411758 | 7417922 | - | 6164 | 2123 | 3226 | 97.003 | 1101 | 33 |  0 |  1 | 1101 |    1 | 1101 | ORF2 | 1rd |\n",
       "| 7 | L1PA4 | chr1 | 7411758 | 7417922 | - | 6164 | 3729 | 4991 | 96.038 | 1262 | 50 |  0 |  1 | 1262 | 1606 | 2867 | ORF2 | 1rd |\n",
       "| 17303 | L1PA4 | chr1 | 7411758 | 7417922 | - | 6164 | 2123 | 4991 |     NA |   NA | NA | NA | NA |   NA |   NA |   NA | ORF2 | 2rd |\n",
       "\n"
      ],
      "text/plain": [
       "      subfamily chromsome start   stop    strand Length orf.start orf.end\n",
       "6     L1PA4     chr1      7411758 7417922 -      6164   2123      3226   \n",
       "7     L1PA4     chr1      7411758 7417922 -      6164   3729      4991   \n",
       "17303 L1PA4     chr1      7411758 7417922 -      6164   2123      4991   \n",
       "      %identity alignment.length mismatches gap.opens q.start q.end s.start\n",
       "6     97.003    1101             33          0         1      1101     1   \n",
       "7     96.038    1262             50          0         1      1262  1606   \n",
       "17303     NA      NA             NA         NA        NA        NA    NA   \n",
       "      s. end ORF  label\n",
       "6     1101   ORF2 1rd  \n",
       "7     2867   ORF2 1rd  \n",
       "17303   NA   ORF2 2rd  "
      ]
     },
     "metadata": {},
     "output_type": "display_data"
    },
    {
     "data": {
      "text/html": [
       "<table class=\"dataframe\">\n",
       "<caption>A data.frame: 4 × 18</caption>\n",
       "<thead>\n",
       "\t<tr><th></th><th scope=col>subfamily</th><th scope=col>chromsome</th><th scope=col>start</th><th scope=col>stop</th><th scope=col>strand</th><th scope=col>Length</th><th scope=col>orf.start</th><th scope=col>orf.end</th><th scope=col>%identity</th><th scope=col>alignment.length</th><th scope=col>mismatches</th><th scope=col>gap.opens</th><th scope=col>q.start</th><th scope=col>q.end</th><th scope=col>s.start</th><th scope=col>s. end</th><th scope=col>ORF</th><th scope=col>label</th></tr>\n",
       "\t<tr><th></th><th scope=col>&lt;chr&gt;</th><th scope=col>&lt;chr&gt;</th><th scope=col>&lt;chr&gt;</th><th scope=col>&lt;chr&gt;</th><th scope=col>&lt;chr&gt;</th><th scope=col>&lt;dbl&gt;</th><th scope=col>&lt;chr&gt;</th><th scope=col>&lt;chr&gt;</th><th scope=col>&lt;dbl&gt;</th><th scope=col>&lt;int&gt;</th><th scope=col>&lt;int&gt;</th><th scope=col>&lt;int&gt;</th><th scope=col>&lt;int&gt;</th><th scope=col>&lt;int&gt;</th><th scope=col>&lt;int&gt;</th><th scope=col>&lt;int&gt;</th><th scope=col>&lt;chr&gt;</th><th scope=col>&lt;chr&gt;</th></tr>\n",
       "</thead>\n",
       "<tbody>\n",
       "\t<tr><th scope=row>7917</th><td>L1PA7</td><td>chr4</td><td>3160921</td><td>3167073</td><td>-</td><td>6152</td><td>1034</td><td>1849</td><td>83.111</td><td>823</td><td>116</td><td> 7</td><td> 4</td><td>813</td><td>   1</td><td> 813</td><td>ORF1</td><td>null</td></tr>\n",
       "\t<tr><th scope=row>7916</th><td>L1PA7</td><td>chr4</td><td>3160921</td><td>3167073</td><td>-</td><td>6152</td><td>2308</td><td>3231</td><td>90.409</td><td>928</td><td> 77</td><td> 4</td><td> 1</td><td>922</td><td> 197</td><td>1118</td><td>ORF2</td><td>1rd </td></tr>\n",
       "\t<tr><th scope=row>7918</th><td>L1PA7</td><td>chr4</td><td>3160921</td><td>3167073</td><td>-</td><td>6152</td><td>5090</td><td>5935</td><td>90.307</td><td>846</td><td> 82</td><td> 0</td><td> 1</td><td>846</td><td>2983</td><td>3828</td><td>ORF2</td><td>1rd </td></tr>\n",
       "\t<tr><th scope=row>18212</th><td>L1PA7</td><td>chr4</td><td>3160921</td><td>3167073</td><td>-</td><td>6152</td><td>2308</td><td>5935</td><td>    NA</td><td> NA</td><td> NA</td><td>NA</td><td>NA</td><td> NA</td><td>  NA</td><td>  NA</td><td>ORF2</td><td>2rd </td></tr>\n",
       "</tbody>\n",
       "</table>\n"
      ],
      "text/latex": [
       "A data.frame: 4 × 18\n",
       "\\begin{tabular}{r|llllllllllllllllll}\n",
       "  & subfamily & chromsome & start & stop & strand & Length & orf.start & orf.end & \\%identity & alignment.length & mismatches & gap.opens & q.start & q.end & s.start & s. end & ORF & label\\\\\n",
       "  & <chr> & <chr> & <chr> & <chr> & <chr> & <dbl> & <chr> & <chr> & <dbl> & <int> & <int> & <int> & <int> & <int> & <int> & <int> & <chr> & <chr>\\\\\n",
       "\\hline\n",
       "\t7917 & L1PA7 & chr4 & 3160921 & 3167073 & - & 6152 & 1034 & 1849 & 83.111 & 823 & 116 &  7 &  4 & 813 &    1 &  813 & ORF1 & null\\\\\n",
       "\t7916 & L1PA7 & chr4 & 3160921 & 3167073 & - & 6152 & 2308 & 3231 & 90.409 & 928 &  77 &  4 &  1 & 922 &  197 & 1118 & ORF2 & 1rd \\\\\n",
       "\t7918 & L1PA7 & chr4 & 3160921 & 3167073 & - & 6152 & 5090 & 5935 & 90.307 & 846 &  82 &  0 &  1 & 846 & 2983 & 3828 & ORF2 & 1rd \\\\\n",
       "\t18212 & L1PA7 & chr4 & 3160921 & 3167073 & - & 6152 & 2308 & 5935 &     NA &  NA &  NA & NA & NA &  NA &   NA &   NA & ORF2 & 2rd \\\\\n",
       "\\end{tabular}\n"
      ],
      "text/markdown": [
       "\n",
       "A data.frame: 4 × 18\n",
       "\n",
       "| <!--/--> | subfamily &lt;chr&gt; | chromsome &lt;chr&gt; | start &lt;chr&gt; | stop &lt;chr&gt; | strand &lt;chr&gt; | Length &lt;dbl&gt; | orf.start &lt;chr&gt; | orf.end &lt;chr&gt; | %identity &lt;dbl&gt; | alignment.length &lt;int&gt; | mismatches &lt;int&gt; | gap.opens &lt;int&gt; | q.start &lt;int&gt; | q.end &lt;int&gt; | s.start &lt;int&gt; | s. end &lt;int&gt; | ORF &lt;chr&gt; | label &lt;chr&gt; |\n",
       "|---|---|---|---|---|---|---|---|---|---|---|---|---|---|---|---|---|---|---|\n",
       "| 7917 | L1PA7 | chr4 | 3160921 | 3167073 | - | 6152 | 1034 | 1849 | 83.111 | 823 | 116 |  7 |  4 | 813 |    1 |  813 | ORF1 | null |\n",
       "| 7916 | L1PA7 | chr4 | 3160921 | 3167073 | - | 6152 | 2308 | 3231 | 90.409 | 928 |  77 |  4 |  1 | 922 |  197 | 1118 | ORF2 | 1rd  |\n",
       "| 7918 | L1PA7 | chr4 | 3160921 | 3167073 | - | 6152 | 5090 | 5935 | 90.307 | 846 |  82 |  0 |  1 | 846 | 2983 | 3828 | ORF2 | 1rd  |\n",
       "| 18212 | L1PA7 | chr4 | 3160921 | 3167073 | - | 6152 | 2308 | 5935 |     NA |  NA |  NA | NA | NA |  NA |   NA |   NA | ORF2 | 2rd  |\n",
       "\n"
      ],
      "text/plain": [
       "      subfamily chromsome start   stop    strand Length orf.start orf.end\n",
       "7917  L1PA7     chr4      3160921 3167073 -      6152   1034      1849   \n",
       "7916  L1PA7     chr4      3160921 3167073 -      6152   2308      3231   \n",
       "7918  L1PA7     chr4      3160921 3167073 -      6152   5090      5935   \n",
       "18212 L1PA7     chr4      3160921 3167073 -      6152   2308      5935   \n",
       "      %identity alignment.length mismatches gap.opens q.start q.end s.start\n",
       "7917  83.111    823              116         7         4      813      1   \n",
       "7916  90.409    928               77         4         1      922    197   \n",
       "7918  90.307    846               82         0         1      846   2983   \n",
       "18212     NA     NA               NA        NA        NA       NA     NA   \n",
       "      s. end ORF  label\n",
       "7917   813   ORF1 null \n",
       "7916  1118   ORF2 1rd  \n",
       "7918  3828   ORF2 1rd  \n",
       "18212   NA   ORF2 2rd  "
      ]
     },
     "metadata": {},
     "output_type": "display_data"
    }
   ],
   "source": [
    "#head(data_ext4,20)\n",
    "data_ext4[data_ext4$start==\"7411758\",]\n",
    "data_ext4[data_ext4$start==\"3160921\",]"
   ]
  },
  {
   "cell_type": "code",
   "execution_count": 101,
   "id": "f58c0c4b-f232-4478-a9fb-4a3c4eaee135",
   "metadata": {},
   "outputs": [],
   "source": [
    "data_ext5<-data_ext4[!grepl(\"1rd\", data_ext4$label),] #删除1rd的结果"
   ]
  },
  {
   "cell_type": "code",
   "execution_count": 103,
   "id": "0055cfd7-3eb2-4fd0-a3f0-e4b5dd337ba6",
   "metadata": {},
   "outputs": [
    {
     "data": {
      "text/html": [
       "<table class=\"dataframe\">\n",
       "<caption>A data.frame: 1 × 18</caption>\n",
       "<thead>\n",
       "\t<tr><th></th><th scope=col>subfamily</th><th scope=col>chromsome</th><th scope=col>start</th><th scope=col>stop</th><th scope=col>strand</th><th scope=col>Length</th><th scope=col>orf.start</th><th scope=col>orf.end</th><th scope=col>%identity</th><th scope=col>alignment.length</th><th scope=col>mismatches</th><th scope=col>gap.opens</th><th scope=col>q.start</th><th scope=col>q.end</th><th scope=col>s.start</th><th scope=col>s. end</th><th scope=col>ORF</th><th scope=col>label</th></tr>\n",
       "\t<tr><th></th><th scope=col>&lt;chr&gt;</th><th scope=col>&lt;chr&gt;</th><th scope=col>&lt;chr&gt;</th><th scope=col>&lt;chr&gt;</th><th scope=col>&lt;chr&gt;</th><th scope=col>&lt;dbl&gt;</th><th scope=col>&lt;chr&gt;</th><th scope=col>&lt;chr&gt;</th><th scope=col>&lt;dbl&gt;</th><th scope=col>&lt;int&gt;</th><th scope=col>&lt;int&gt;</th><th scope=col>&lt;int&gt;</th><th scope=col>&lt;int&gt;</th><th scope=col>&lt;int&gt;</th><th scope=col>&lt;int&gt;</th><th scope=col>&lt;int&gt;</th><th scope=col>&lt;chr&gt;</th><th scope=col>&lt;chr&gt;</th></tr>\n",
       "</thead>\n",
       "<tbody>\n",
       "\t<tr><th scope=row>17303</th><td>L1PA4</td><td>chr1</td><td>7411758</td><td>7417922</td><td>-</td><td>6164</td><td>2123</td><td>4991</td><td>NA</td><td>NA</td><td>NA</td><td>NA</td><td>NA</td><td>NA</td><td>NA</td><td>NA</td><td>ORF2</td><td>2rd</td></tr>\n",
       "</tbody>\n",
       "</table>\n"
      ],
      "text/latex": [
       "A data.frame: 1 × 18\n",
       "\\begin{tabular}{r|llllllllllllllllll}\n",
       "  & subfamily & chromsome & start & stop & strand & Length & orf.start & orf.end & \\%identity & alignment.length & mismatches & gap.opens & q.start & q.end & s.start & s. end & ORF & label\\\\\n",
       "  & <chr> & <chr> & <chr> & <chr> & <chr> & <dbl> & <chr> & <chr> & <dbl> & <int> & <int> & <int> & <int> & <int> & <int> & <int> & <chr> & <chr>\\\\\n",
       "\\hline\n",
       "\t17303 & L1PA4 & chr1 & 7411758 & 7417922 & - & 6164 & 2123 & 4991 & NA & NA & NA & NA & NA & NA & NA & NA & ORF2 & 2rd\\\\\n",
       "\\end{tabular}\n"
      ],
      "text/markdown": [
       "\n",
       "A data.frame: 1 × 18\n",
       "\n",
       "| <!--/--> | subfamily &lt;chr&gt; | chromsome &lt;chr&gt; | start &lt;chr&gt; | stop &lt;chr&gt; | strand &lt;chr&gt; | Length &lt;dbl&gt; | orf.start &lt;chr&gt; | orf.end &lt;chr&gt; | %identity &lt;dbl&gt; | alignment.length &lt;int&gt; | mismatches &lt;int&gt; | gap.opens &lt;int&gt; | q.start &lt;int&gt; | q.end &lt;int&gt; | s.start &lt;int&gt; | s. end &lt;int&gt; | ORF &lt;chr&gt; | label &lt;chr&gt; |\n",
       "|---|---|---|---|---|---|---|---|---|---|---|---|---|---|---|---|---|---|---|\n",
       "| 17303 | L1PA4 | chr1 | 7411758 | 7417922 | - | 6164 | 2123 | 4991 | NA | NA | NA | NA | NA | NA | NA | NA | ORF2 | 2rd |\n",
       "\n"
      ],
      "text/plain": [
       "      subfamily chromsome start   stop    strand Length orf.start orf.end\n",
       "17303 L1PA4     chr1      7411758 7417922 -      6164   2123      4991   \n",
       "      %identity alignment.length mismatches gap.opens q.start q.end s.start\n",
       "17303 NA        NA               NA         NA        NA      NA    NA     \n",
       "      s. end ORF  label\n",
       "17303 NA     ORF2 2rd  "
      ]
     },
     "metadata": {},
     "output_type": "display_data"
    },
    {
     "data": {
      "text/html": [
       "<table class=\"dataframe\">\n",
       "<caption>A data.frame: 2 × 18</caption>\n",
       "<thead>\n",
       "\t<tr><th></th><th scope=col>subfamily</th><th scope=col>chromsome</th><th scope=col>start</th><th scope=col>stop</th><th scope=col>strand</th><th scope=col>Length</th><th scope=col>orf.start</th><th scope=col>orf.end</th><th scope=col>%identity</th><th scope=col>alignment.length</th><th scope=col>mismatches</th><th scope=col>gap.opens</th><th scope=col>q.start</th><th scope=col>q.end</th><th scope=col>s.start</th><th scope=col>s. end</th><th scope=col>ORF</th><th scope=col>label</th></tr>\n",
       "\t<tr><th></th><th scope=col>&lt;chr&gt;</th><th scope=col>&lt;chr&gt;</th><th scope=col>&lt;chr&gt;</th><th scope=col>&lt;chr&gt;</th><th scope=col>&lt;chr&gt;</th><th scope=col>&lt;dbl&gt;</th><th scope=col>&lt;chr&gt;</th><th scope=col>&lt;chr&gt;</th><th scope=col>&lt;dbl&gt;</th><th scope=col>&lt;int&gt;</th><th scope=col>&lt;int&gt;</th><th scope=col>&lt;int&gt;</th><th scope=col>&lt;int&gt;</th><th scope=col>&lt;int&gt;</th><th scope=col>&lt;int&gt;</th><th scope=col>&lt;int&gt;</th><th scope=col>&lt;chr&gt;</th><th scope=col>&lt;chr&gt;</th></tr>\n",
       "</thead>\n",
       "<tbody>\n",
       "\t<tr><th scope=row>7917</th><td>L1PA7</td><td>chr4</td><td>3160921</td><td>3167073</td><td>-</td><td>6152</td><td>1034</td><td>1849</td><td>83.111</td><td>823</td><td>116</td><td> 7</td><td> 4</td><td>813</td><td> 1</td><td>813</td><td>ORF1</td><td>null</td></tr>\n",
       "\t<tr><th scope=row>18212</th><td>L1PA7</td><td>chr4</td><td>3160921</td><td>3167073</td><td>-</td><td>6152</td><td>2308</td><td>5935</td><td>    NA</td><td> NA</td><td> NA</td><td>NA</td><td>NA</td><td> NA</td><td>NA</td><td> NA</td><td>ORF2</td><td>2rd </td></tr>\n",
       "</tbody>\n",
       "</table>\n"
      ],
      "text/latex": [
       "A data.frame: 2 × 18\n",
       "\\begin{tabular}{r|llllllllllllllllll}\n",
       "  & subfamily & chromsome & start & stop & strand & Length & orf.start & orf.end & \\%identity & alignment.length & mismatches & gap.opens & q.start & q.end & s.start & s. end & ORF & label\\\\\n",
       "  & <chr> & <chr> & <chr> & <chr> & <chr> & <dbl> & <chr> & <chr> & <dbl> & <int> & <int> & <int> & <int> & <int> & <int> & <int> & <chr> & <chr>\\\\\n",
       "\\hline\n",
       "\t7917 & L1PA7 & chr4 & 3160921 & 3167073 & - & 6152 & 1034 & 1849 & 83.111 & 823 & 116 &  7 &  4 & 813 &  1 & 813 & ORF1 & null\\\\\n",
       "\t18212 & L1PA7 & chr4 & 3160921 & 3167073 & - & 6152 & 2308 & 5935 &     NA &  NA &  NA & NA & NA &  NA & NA &  NA & ORF2 & 2rd \\\\\n",
       "\\end{tabular}\n"
      ],
      "text/markdown": [
       "\n",
       "A data.frame: 2 × 18\n",
       "\n",
       "| <!--/--> | subfamily &lt;chr&gt; | chromsome &lt;chr&gt; | start &lt;chr&gt; | stop &lt;chr&gt; | strand &lt;chr&gt; | Length &lt;dbl&gt; | orf.start &lt;chr&gt; | orf.end &lt;chr&gt; | %identity &lt;dbl&gt; | alignment.length &lt;int&gt; | mismatches &lt;int&gt; | gap.opens &lt;int&gt; | q.start &lt;int&gt; | q.end &lt;int&gt; | s.start &lt;int&gt; | s. end &lt;int&gt; | ORF &lt;chr&gt; | label &lt;chr&gt; |\n",
       "|---|---|---|---|---|---|---|---|---|---|---|---|---|---|---|---|---|---|---|\n",
       "| 7917 | L1PA7 | chr4 | 3160921 | 3167073 | - | 6152 | 1034 | 1849 | 83.111 | 823 | 116 |  7 |  4 | 813 |  1 | 813 | ORF1 | null |\n",
       "| 18212 | L1PA7 | chr4 | 3160921 | 3167073 | - | 6152 | 2308 | 5935 |     NA |  NA |  NA | NA | NA |  NA | NA |  NA | ORF2 | 2rd  |\n",
       "\n"
      ],
      "text/plain": [
       "      subfamily chromsome start   stop    strand Length orf.start orf.end\n",
       "7917  L1PA7     chr4      3160921 3167073 -      6152   1034      1849   \n",
       "18212 L1PA7     chr4      3160921 3167073 -      6152   2308      5935   \n",
       "      %identity alignment.length mismatches gap.opens q.start q.end s.start\n",
       "7917  83.111    823              116         7         4      813    1     \n",
       "18212     NA     NA               NA        NA        NA       NA   NA     \n",
       "      s. end ORF  label\n",
       "7917  813    ORF1 null \n",
       "18212  NA    ORF2 2rd  "
      ]
     },
     "metadata": {},
     "output_type": "display_data"
    }
   ],
   "source": [
    "data_ext5[data_ext5$start==\"7411758\",] #到这一步是没有问题的;\n",
    "data_ext5[data_ext5$start==\"3160921\",]"
   ]
  },
  {
   "cell_type": "code",
   "execution_count": 104,
   "id": "6fe152b8-5a21-4d7c-9b12-aaa829166c43",
   "metadata": {},
   "outputs": [
    {
     "data": {
      "text/html": [
       "<table class=\"dataframe\">\n",
       "<caption>A data.frame: 2 × 18</caption>\n",
       "<thead>\n",
       "\t<tr><th></th><th scope=col>subfamily</th><th scope=col>chromsome</th><th scope=col>start</th><th scope=col>stop</th><th scope=col>strand</th><th scope=col>Length</th><th scope=col>orf.start</th><th scope=col>orf.end</th><th scope=col>%identity</th><th scope=col>alignment.length</th><th scope=col>mismatches</th><th scope=col>gap.opens</th><th scope=col>q.start</th><th scope=col>q.end</th><th scope=col>s.start</th><th scope=col>s. end</th><th scope=col>ORF</th><th scope=col>label</th></tr>\n",
       "\t<tr><th></th><th scope=col>&lt;chr&gt;</th><th scope=col>&lt;chr&gt;</th><th scope=col>&lt;chr&gt;</th><th scope=col>&lt;chr&gt;</th><th scope=col>&lt;chr&gt;</th><th scope=col>&lt;dbl&gt;</th><th scope=col>&lt;chr&gt;</th><th scope=col>&lt;chr&gt;</th><th scope=col>&lt;dbl&gt;</th><th scope=col>&lt;int&gt;</th><th scope=col>&lt;int&gt;</th><th scope=col>&lt;int&gt;</th><th scope=col>&lt;int&gt;</th><th scope=col>&lt;int&gt;</th><th scope=col>&lt;int&gt;</th><th scope=col>&lt;int&gt;</th><th scope=col>&lt;chr&gt;</th><th scope=col>&lt;chr&gt;</th></tr>\n",
       "</thead>\n",
       "<tbody>\n",
       "\t<tr><th scope=row>14262</th><td>L1PA5</td><td>chrX</td><td>77470642</td><td>77476783</td><td>+</td><td>6141</td><td>771 </td><td>2033</td><td>89.577</td><td>1017</td><td>106</td><td> 0</td><td>247</td><td>1263</td><td> 1</td><td>1017</td><td>ORF1</td><td>null</td></tr>\n",
       "\t<tr><th scope=row>18112</th><td>L1PA5</td><td>chrX</td><td>77470642</td><td>77476783</td><td>+</td><td>6141</td><td>2097</td><td>5317</td><td>    NA</td><td>  NA</td><td> NA</td><td>NA</td><td> NA</td><td>  NA</td><td>NA</td><td>  NA</td><td>ORF2</td><td>2rd </td></tr>\n",
       "</tbody>\n",
       "</table>\n"
      ],
      "text/latex": [
       "A data.frame: 2 × 18\n",
       "\\begin{tabular}{r|llllllllllllllllll}\n",
       "  & subfamily & chromsome & start & stop & strand & Length & orf.start & orf.end & \\%identity & alignment.length & mismatches & gap.opens & q.start & q.end & s.start & s. end & ORF & label\\\\\n",
       "  & <chr> & <chr> & <chr> & <chr> & <chr> & <dbl> & <chr> & <chr> & <dbl> & <int> & <int> & <int> & <int> & <int> & <int> & <int> & <chr> & <chr>\\\\\n",
       "\\hline\n",
       "\t14262 & L1PA5 & chrX & 77470642 & 77476783 & + & 6141 & 771  & 2033 & 89.577 & 1017 & 106 &  0 & 247 & 1263 &  1 & 1017 & ORF1 & null\\\\\n",
       "\t18112 & L1PA5 & chrX & 77470642 & 77476783 & + & 6141 & 2097 & 5317 &     NA &   NA &  NA & NA &  NA &   NA & NA &   NA & ORF2 & 2rd \\\\\n",
       "\\end{tabular}\n"
      ],
      "text/markdown": [
       "\n",
       "A data.frame: 2 × 18\n",
       "\n",
       "| <!--/--> | subfamily &lt;chr&gt; | chromsome &lt;chr&gt; | start &lt;chr&gt; | stop &lt;chr&gt; | strand &lt;chr&gt; | Length &lt;dbl&gt; | orf.start &lt;chr&gt; | orf.end &lt;chr&gt; | %identity &lt;dbl&gt; | alignment.length &lt;int&gt; | mismatches &lt;int&gt; | gap.opens &lt;int&gt; | q.start &lt;int&gt; | q.end &lt;int&gt; | s.start &lt;int&gt; | s. end &lt;int&gt; | ORF &lt;chr&gt; | label &lt;chr&gt; |\n",
       "|---|---|---|---|---|---|---|---|---|---|---|---|---|---|---|---|---|---|---|\n",
       "| 14262 | L1PA5 | chrX | 77470642 | 77476783 | + | 6141 | 771  | 2033 | 89.577 | 1017 | 106 |  0 | 247 | 1263 |  1 | 1017 | ORF1 | null |\n",
       "| 18112 | L1PA5 | chrX | 77470642 | 77476783 | + | 6141 | 2097 | 5317 |     NA |   NA |  NA | NA |  NA |   NA | NA |   NA | ORF2 | 2rd  |\n",
       "\n"
      ],
      "text/plain": [
       "      subfamily chromsome start    stop     strand Length orf.start orf.end\n",
       "14262 L1PA5     chrX      77470642 77476783 +      6141   771       2033   \n",
       "18112 L1PA5     chrX      77470642 77476783 +      6141   2097      5317   \n",
       "      %identity alignment.length mismatches gap.opens q.start q.end s.start\n",
       "14262 89.577    1017             106         0        247     1263   1     \n",
       "18112     NA      NA              NA        NA         NA       NA  NA     \n",
       "      s. end ORF  label\n",
       "14262 1017   ORF1 null \n",
       "18112   NA   ORF2 2rd  "
      ]
     },
     "metadata": {},
     "output_type": "display_data"
    }
   ],
   "source": [
    "data_ext5[data_ext5$start==\"77470642\",]"
   ]
  },
  {
   "cell_type": "code",
   "execution_count": 29,
   "id": "d224dacd-9eed-4c80-8a9c-23e643b7451d",
   "metadata": {},
   "outputs": [],
   "source": [
    "#tail(data_ext5,20) #在2nd这边，依然可以看到一些重复，比如17060921"
   ]
  },
  {
   "cell_type": "code",
   "execution_count": 105,
   "id": "3e7eba60-91bd-4c0b-90e8-fe757382c27d",
   "metadata": {},
   "outputs": [
    {
     "data": {
      "text/html": [
       "<table class=\"dataframe\">\n",
       "<caption>A data.frame: 3 × 18</caption>\n",
       "<thead>\n",
       "\t<tr><th></th><th scope=col>subfamily</th><th scope=col>chromsome</th><th scope=col>start</th><th scope=col>stop</th><th scope=col>strand</th><th scope=col>Length</th><th scope=col>orf.start</th><th scope=col>orf.end</th><th scope=col>%identity</th><th scope=col>alignment.length</th><th scope=col>mismatches</th><th scope=col>gap.opens</th><th scope=col>q.start</th><th scope=col>q.end</th><th scope=col>s.start</th><th scope=col>s. end</th><th scope=col>ORF</th><th scope=col>label</th></tr>\n",
       "\t<tr><th></th><th scope=col>&lt;chr&gt;</th><th scope=col>&lt;chr&gt;</th><th scope=col>&lt;chr&gt;</th><th scope=col>&lt;chr&gt;</th><th scope=col>&lt;chr&gt;</th><th scope=col>&lt;dbl&gt;</th><th scope=col>&lt;chr&gt;</th><th scope=col>&lt;chr&gt;</th><th scope=col>&lt;dbl&gt;</th><th scope=col>&lt;int&gt;</th><th scope=col>&lt;int&gt;</th><th scope=col>&lt;int&gt;</th><th scope=col>&lt;int&gt;</th><th scope=col>&lt;int&gt;</th><th scope=col>&lt;int&gt;</th><th scope=col>&lt;int&gt;</th><th scope=col>&lt;chr&gt;</th><th scope=col>&lt;chr&gt;</th></tr>\n",
       "</thead>\n",
       "<tbody>\n",
       "\t<tr><th scope=row>15113</th><td>L1PA2</td><td>chrY</td><td>17060921</td><td>17066963</td><td>-</td><td>6042</td><td>906 </td><td>1922</td><td>97.64</td><td>1017</td><td>24</td><td> 0</td><td> 1</td><td>1017</td><td> 1</td><td>1017</td><td>ORF1</td><td>null</td></tr>\n",
       "\t<tr><th scope=row>16172</th><td>L1PA2</td><td>chrY</td><td>17060921</td><td>17066963</td><td>-</td><td>6042</td><td>1986</td><td>4775</td><td>   NA</td><td>  NA</td><td>NA</td><td>NA</td><td>NA</td><td>  NA</td><td>NA</td><td>  NA</td><td>ORF2</td><td>2rd </td></tr>\n",
       "\t<tr><th scope=row>16173</th><td>L1PA2</td><td>chrY</td><td>17060921</td><td>17066963</td><td>-</td><td>6042</td><td>3603</td><td>5825</td><td>   NA</td><td>  NA</td><td>NA</td><td>NA</td><td>NA</td><td>  NA</td><td>NA</td><td>  NA</td><td>ORF2</td><td>2rd </td></tr>\n",
       "</tbody>\n",
       "</table>\n"
      ],
      "text/latex": [
       "A data.frame: 3 × 18\n",
       "\\begin{tabular}{r|llllllllllllllllll}\n",
       "  & subfamily & chromsome & start & stop & strand & Length & orf.start & orf.end & \\%identity & alignment.length & mismatches & gap.opens & q.start & q.end & s.start & s. end & ORF & label\\\\\n",
       "  & <chr> & <chr> & <chr> & <chr> & <chr> & <dbl> & <chr> & <chr> & <dbl> & <int> & <int> & <int> & <int> & <int> & <int> & <int> & <chr> & <chr>\\\\\n",
       "\\hline\n",
       "\t15113 & L1PA2 & chrY & 17060921 & 17066963 & - & 6042 & 906  & 1922 & 97.64 & 1017 & 24 &  0 &  1 & 1017 &  1 & 1017 & ORF1 & null\\\\\n",
       "\t16172 & L1PA2 & chrY & 17060921 & 17066963 & - & 6042 & 1986 & 4775 &    NA &   NA & NA & NA & NA &   NA & NA &   NA & ORF2 & 2rd \\\\\n",
       "\t16173 & L1PA2 & chrY & 17060921 & 17066963 & - & 6042 & 3603 & 5825 &    NA &   NA & NA & NA & NA &   NA & NA &   NA & ORF2 & 2rd \\\\\n",
       "\\end{tabular}\n"
      ],
      "text/markdown": [
       "\n",
       "A data.frame: 3 × 18\n",
       "\n",
       "| <!--/--> | subfamily &lt;chr&gt; | chromsome &lt;chr&gt; | start &lt;chr&gt; | stop &lt;chr&gt; | strand &lt;chr&gt; | Length &lt;dbl&gt; | orf.start &lt;chr&gt; | orf.end &lt;chr&gt; | %identity &lt;dbl&gt; | alignment.length &lt;int&gt; | mismatches &lt;int&gt; | gap.opens &lt;int&gt; | q.start &lt;int&gt; | q.end &lt;int&gt; | s.start &lt;int&gt; | s. end &lt;int&gt; | ORF &lt;chr&gt; | label &lt;chr&gt; |\n",
       "|---|---|---|---|---|---|---|---|---|---|---|---|---|---|---|---|---|---|---|\n",
       "| 15113 | L1PA2 | chrY | 17060921 | 17066963 | - | 6042 | 906  | 1922 | 97.64 | 1017 | 24 |  0 |  1 | 1017 |  1 | 1017 | ORF1 | null |\n",
       "| 16172 | L1PA2 | chrY | 17060921 | 17066963 | - | 6042 | 1986 | 4775 |    NA |   NA | NA | NA | NA |   NA | NA |   NA | ORF2 | 2rd  |\n",
       "| 16173 | L1PA2 | chrY | 17060921 | 17066963 | - | 6042 | 3603 | 5825 |    NA |   NA | NA | NA | NA |   NA | NA |   NA | ORF2 | 2rd  |\n",
       "\n"
      ],
      "text/plain": [
       "      subfamily chromsome start    stop     strand Length orf.start orf.end\n",
       "15113 L1PA2     chrY      17060921 17066963 -      6042   906       1922   \n",
       "16172 L1PA2     chrY      17060921 17066963 -      6042   1986      4775   \n",
       "16173 L1PA2     chrY      17060921 17066963 -      6042   3603      5825   \n",
       "      %identity alignment.length mismatches gap.opens q.start q.end s.start\n",
       "15113 97.64     1017             24          0         1      1017   1     \n",
       "16172    NA       NA             NA         NA        NA        NA  NA     \n",
       "16173    NA       NA             NA         NA        NA        NA  NA     \n",
       "      s. end ORF  label\n",
       "15113 1017   ORF1 null \n",
       "16172   NA   ORF2 2rd  \n",
       "16173   NA   ORF2 2rd  "
      ]
     },
     "metadata": {},
     "output_type": "display_data"
    }
   ],
   "source": [
    "data_ext5[data_ext5$start==\"17060921\",] #考虑的是相邻的；"
   ]
  },
  {
   "cell_type": "code",
   "execution_count": 106,
   "id": "8552a54c-5057-4a61-806e-00bd246957aa",
   "metadata": {},
   "outputs": [],
   "source": [
    "lines<-c() #这里还是有点问题，有些行没有被记录上"
   ]
  },
  {
   "cell_type": "code",
   "execution_count": 107,
   "id": "bd6b96f6-92e5-4372-ad3b-1f4c8c6d2d23",
   "metadata": {},
   "outputs": [
    {
     "data": {
      "text/html": [
       "12453"
      ],
      "text/latex": [
       "12453"
      ],
      "text/markdown": [
       "12453"
      ],
      "text/plain": [
       "[1] 12453"
      ]
     },
     "metadata": {},
     "output_type": "display_data"
    }
   ],
   "source": [
    "dim(data_ext5)[1]"
   ]
  },
  {
   "cell_type": "code",
   "execution_count": 108,
   "id": "586a1e9a-08c7-4529-a455-9fc6f8590c46",
   "metadata": {},
   "outputs": [
    {
     "data": {
      "text/html": [
       "<table class=\"dataframe\">\n",
       "<caption>A data.frame: 2 × 18</caption>\n",
       "<thead>\n",
       "\t<tr><th></th><th scope=col>subfamily</th><th scope=col>chromsome</th><th scope=col>start</th><th scope=col>stop</th><th scope=col>strand</th><th scope=col>Length</th><th scope=col>orf.start</th><th scope=col>orf.end</th><th scope=col>%identity</th><th scope=col>alignment.length</th><th scope=col>mismatches</th><th scope=col>gap.opens</th><th scope=col>q.start</th><th scope=col>q.end</th><th scope=col>s.start</th><th scope=col>s. end</th><th scope=col>ORF</th><th scope=col>label</th></tr>\n",
       "\t<tr><th></th><th scope=col>&lt;chr&gt;</th><th scope=col>&lt;chr&gt;</th><th scope=col>&lt;chr&gt;</th><th scope=col>&lt;chr&gt;</th><th scope=col>&lt;chr&gt;</th><th scope=col>&lt;dbl&gt;</th><th scope=col>&lt;chr&gt;</th><th scope=col>&lt;chr&gt;</th><th scope=col>&lt;dbl&gt;</th><th scope=col>&lt;int&gt;</th><th scope=col>&lt;int&gt;</th><th scope=col>&lt;int&gt;</th><th scope=col>&lt;int&gt;</th><th scope=col>&lt;int&gt;</th><th scope=col>&lt;int&gt;</th><th scope=col>&lt;int&gt;</th><th scope=col>&lt;chr&gt;</th><th scope=col>&lt;chr&gt;</th></tr>\n",
       "</thead>\n",
       "<tbody>\n",
       "\t<tr><th scope=row>18226</th><td>L1PA8</td><td>chr8</td><td>114580379</td><td>114586371</td><td>-</td><td>5992</td><td>1987</td><td>5153</td><td>NA</td><td>NA</td><td>NA</td><td>NA</td><td>NA</td><td>NA</td><td>NA</td><td>NA</td><td>ORF2</td><td>2rd</td></tr>\n",
       "\t<tr><th scope=row>18227</th><td>L1PA8</td><td>chr9</td><td>109660208</td><td>109666322</td><td>-</td><td>6114</td><td>2290</td><td>4618</td><td>NA</td><td>NA</td><td>NA</td><td>NA</td><td>NA</td><td>NA</td><td>NA</td><td>NA</td><td>ORF2</td><td>2rd</td></tr>\n",
       "</tbody>\n",
       "</table>\n"
      ],
      "text/latex": [
       "A data.frame: 2 × 18\n",
       "\\begin{tabular}{r|llllllllllllllllll}\n",
       "  & subfamily & chromsome & start & stop & strand & Length & orf.start & orf.end & \\%identity & alignment.length & mismatches & gap.opens & q.start & q.end & s.start & s. end & ORF & label\\\\\n",
       "  & <chr> & <chr> & <chr> & <chr> & <chr> & <dbl> & <chr> & <chr> & <dbl> & <int> & <int> & <int> & <int> & <int> & <int> & <int> & <chr> & <chr>\\\\\n",
       "\\hline\n",
       "\t18226 & L1PA8 & chr8 & 114580379 & 114586371 & - & 5992 & 1987 & 5153 & NA & NA & NA & NA & NA & NA & NA & NA & ORF2 & 2rd\\\\\n",
       "\t18227 & L1PA8 & chr9 & 109660208 & 109666322 & - & 6114 & 2290 & 4618 & NA & NA & NA & NA & NA & NA & NA & NA & ORF2 & 2rd\\\\\n",
       "\\end{tabular}\n"
      ],
      "text/markdown": [
       "\n",
       "A data.frame: 2 × 18\n",
       "\n",
       "| <!--/--> | subfamily &lt;chr&gt; | chromsome &lt;chr&gt; | start &lt;chr&gt; | stop &lt;chr&gt; | strand &lt;chr&gt; | Length &lt;dbl&gt; | orf.start &lt;chr&gt; | orf.end &lt;chr&gt; | %identity &lt;dbl&gt; | alignment.length &lt;int&gt; | mismatches &lt;int&gt; | gap.opens &lt;int&gt; | q.start &lt;int&gt; | q.end &lt;int&gt; | s.start &lt;int&gt; | s. end &lt;int&gt; | ORF &lt;chr&gt; | label &lt;chr&gt; |\n",
       "|---|---|---|---|---|---|---|---|---|---|---|---|---|---|---|---|---|---|---|\n",
       "| 18226 | L1PA8 | chr8 | 114580379 | 114586371 | - | 5992 | 1987 | 5153 | NA | NA | NA | NA | NA | NA | NA | NA | ORF2 | 2rd |\n",
       "| 18227 | L1PA8 | chr9 | 109660208 | 109666322 | - | 6114 | 2290 | 4618 | NA | NA | NA | NA | NA | NA | NA | NA | ORF2 | 2rd |\n",
       "\n"
      ],
      "text/plain": [
       "      subfamily chromsome start     stop      strand Length orf.start orf.end\n",
       "18226 L1PA8     chr8      114580379 114586371 -      5992   1987      5153   \n",
       "18227 L1PA8     chr9      109660208 109666322 -      6114   2290      4618   \n",
       "      %identity alignment.length mismatches gap.opens q.start q.end s.start\n",
       "18226 NA        NA               NA         NA        NA      NA    NA     \n",
       "18227 NA        NA               NA         NA        NA      NA    NA     \n",
       "      s. end ORF  label\n",
       "18226 NA     ORF2 2rd  \n",
       "18227 NA     ORF2 2rd  "
      ]
     },
     "metadata": {},
     "output_type": "display_data"
    }
   ],
   "source": [
    "data_ext5[c(12452,12453),]"
   ]
  },
  {
   "cell_type": "code",
   "execution_count": 109,
   "id": "a5ba652f-182e-417c-94f0-fd119aeee660",
   "metadata": {},
   "outputs": [],
   "source": [
    "for (j in 1:(dim(data_ext5)[1]-1)) {\n",
    "if(sum(data_ext5[j,c(1:6,17,18)]==data_ext5[j+1,c(1:6,17,18)])==8){\n",
    "    lines<-append(lines,j) #有一点小聪明\n",
    "    lines<-append(lines,j+1)\n",
    "    a=c(data_ext5[j,7],data_ext5[j,8],data_ext5[j+1,7],data_ext5[j+1,8])\n",
    "    #data_ext5[i,]$label<-\"1rd\"\n",
    "    #data_ext5[i+1,]$label<-\"1rd\"\n",
    "    b=as.data.frame(c(data_ext5[j,1:6],min(a),max(a),rep(NA,8),data_ext5[j,17],\"3rd\"))\n",
    "    colnames(b)<-colnames(data_ext5)\n",
    "    data_ext5<-rbind(data_ext5,b)\n",
    "    j = j+1\n",
    "}\n",
    "    }"
   ]
  },
  {
   "cell_type": "code",
   "execution_count": 110,
   "id": "f2541863-1568-44a8-bff1-18c00fc8e6c2",
   "metadata": {},
   "outputs": [
    {
     "data": {
      "text/html": [
       "<table class=\"dataframe\">\n",
       "<caption>A data.frame: 4 × 18</caption>\n",
       "<thead>\n",
       "\t<tr><th></th><th scope=col>subfamily</th><th scope=col>chromsome</th><th scope=col>start</th><th scope=col>stop</th><th scope=col>strand</th><th scope=col>Length</th><th scope=col>orf.start</th><th scope=col>orf.end</th><th scope=col>%identity</th><th scope=col>alignment.length</th><th scope=col>mismatches</th><th scope=col>gap.opens</th><th scope=col>q.start</th><th scope=col>q.end</th><th scope=col>s.start</th><th scope=col>s. end</th><th scope=col>ORF</th><th scope=col>label</th></tr>\n",
       "\t<tr><th></th><th scope=col>&lt;chr&gt;</th><th scope=col>&lt;chr&gt;</th><th scope=col>&lt;chr&gt;</th><th scope=col>&lt;chr&gt;</th><th scope=col>&lt;chr&gt;</th><th scope=col>&lt;dbl&gt;</th><th scope=col>&lt;chr&gt;</th><th scope=col>&lt;chr&gt;</th><th scope=col>&lt;dbl&gt;</th><th scope=col>&lt;int&gt;</th><th scope=col>&lt;int&gt;</th><th scope=col>&lt;int&gt;</th><th scope=col>&lt;int&gt;</th><th scope=col>&lt;int&gt;</th><th scope=col>&lt;int&gt;</th><th scope=col>&lt;int&gt;</th><th scope=col>&lt;chr&gt;</th><th scope=col>&lt;chr&gt;</th></tr>\n",
       "</thead>\n",
       "<tbody>\n",
       "\t<tr><th scope=row>15113</th><td>L1PA2</td><td>chrY</td><td>17060921</td><td>17066963</td><td>-</td><td>6042</td><td>906 </td><td>1922</td><td>97.64</td><td>1017</td><td>24</td><td> 0</td><td> 1</td><td>1017</td><td> 1</td><td>1017</td><td>ORF1</td><td>null</td></tr>\n",
       "\t<tr><th scope=row>16172</th><td>L1PA2</td><td>chrY</td><td>17060921</td><td>17066963</td><td>-</td><td>6042</td><td>1986</td><td>4775</td><td>   NA</td><td>  NA</td><td>NA</td><td>NA</td><td>NA</td><td>  NA</td><td>NA</td><td>  NA</td><td>ORF2</td><td>2rd </td></tr>\n",
       "\t<tr><th scope=row>16173</th><td>L1PA2</td><td>chrY</td><td>17060921</td><td>17066963</td><td>-</td><td>6042</td><td>3603</td><td>5825</td><td>   NA</td><td>  NA</td><td>NA</td><td>NA</td><td>NA</td><td>  NA</td><td>NA</td><td>  NA</td><td>ORF2</td><td>2rd </td></tr>\n",
       "\t<tr><th scope=row>1244</th><td>L1PA2</td><td>chrY</td><td>17060921</td><td>17066963</td><td>-</td><td>6042</td><td>1986</td><td>5825</td><td>   NA</td><td>  NA</td><td>NA</td><td>NA</td><td>NA</td><td>  NA</td><td>NA</td><td>  NA</td><td>ORF2</td><td>3rd </td></tr>\n",
       "</tbody>\n",
       "</table>\n"
      ],
      "text/latex": [
       "A data.frame: 4 × 18\n",
       "\\begin{tabular}{r|llllllllllllllllll}\n",
       "  & subfamily & chromsome & start & stop & strand & Length & orf.start & orf.end & \\%identity & alignment.length & mismatches & gap.opens & q.start & q.end & s.start & s. end & ORF & label\\\\\n",
       "  & <chr> & <chr> & <chr> & <chr> & <chr> & <dbl> & <chr> & <chr> & <dbl> & <int> & <int> & <int> & <int> & <int> & <int> & <int> & <chr> & <chr>\\\\\n",
       "\\hline\n",
       "\t15113 & L1PA2 & chrY & 17060921 & 17066963 & - & 6042 & 906  & 1922 & 97.64 & 1017 & 24 &  0 &  1 & 1017 &  1 & 1017 & ORF1 & null\\\\\n",
       "\t16172 & L1PA2 & chrY & 17060921 & 17066963 & - & 6042 & 1986 & 4775 &    NA &   NA & NA & NA & NA &   NA & NA &   NA & ORF2 & 2rd \\\\\n",
       "\t16173 & L1PA2 & chrY & 17060921 & 17066963 & - & 6042 & 3603 & 5825 &    NA &   NA & NA & NA & NA &   NA & NA &   NA & ORF2 & 2rd \\\\\n",
       "\t1244 & L1PA2 & chrY & 17060921 & 17066963 & - & 6042 & 1986 & 5825 &    NA &   NA & NA & NA & NA &   NA & NA &   NA & ORF2 & 3rd \\\\\n",
       "\\end{tabular}\n"
      ],
      "text/markdown": [
       "\n",
       "A data.frame: 4 × 18\n",
       "\n",
       "| <!--/--> | subfamily &lt;chr&gt; | chromsome &lt;chr&gt; | start &lt;chr&gt; | stop &lt;chr&gt; | strand &lt;chr&gt; | Length &lt;dbl&gt; | orf.start &lt;chr&gt; | orf.end &lt;chr&gt; | %identity &lt;dbl&gt; | alignment.length &lt;int&gt; | mismatches &lt;int&gt; | gap.opens &lt;int&gt; | q.start &lt;int&gt; | q.end &lt;int&gt; | s.start &lt;int&gt; | s. end &lt;int&gt; | ORF &lt;chr&gt; | label &lt;chr&gt; |\n",
       "|---|---|---|---|---|---|---|---|---|---|---|---|---|---|---|---|---|---|---|\n",
       "| 15113 | L1PA2 | chrY | 17060921 | 17066963 | - | 6042 | 906  | 1922 | 97.64 | 1017 | 24 |  0 |  1 | 1017 |  1 | 1017 | ORF1 | null |\n",
       "| 16172 | L1PA2 | chrY | 17060921 | 17066963 | - | 6042 | 1986 | 4775 |    NA |   NA | NA | NA | NA |   NA | NA |   NA | ORF2 | 2rd  |\n",
       "| 16173 | L1PA2 | chrY | 17060921 | 17066963 | - | 6042 | 3603 | 5825 |    NA |   NA | NA | NA | NA |   NA | NA |   NA | ORF2 | 2rd  |\n",
       "| 1244 | L1PA2 | chrY | 17060921 | 17066963 | - | 6042 | 1986 | 5825 |    NA |   NA | NA | NA | NA |   NA | NA |   NA | ORF2 | 3rd  |\n",
       "\n"
      ],
      "text/plain": [
       "      subfamily chromsome start    stop     strand Length orf.start orf.end\n",
       "15113 L1PA2     chrY      17060921 17066963 -      6042   906       1922   \n",
       "16172 L1PA2     chrY      17060921 17066963 -      6042   1986      4775   \n",
       "16173 L1PA2     chrY      17060921 17066963 -      6042   3603      5825   \n",
       "1244  L1PA2     chrY      17060921 17066963 -      6042   1986      5825   \n",
       "      %identity alignment.length mismatches gap.opens q.start q.end s.start\n",
       "15113 97.64     1017             24          0         1      1017   1     \n",
       "16172    NA       NA             NA         NA        NA        NA  NA     \n",
       "16173    NA       NA             NA         NA        NA        NA  NA     \n",
       "1244     NA       NA             NA         NA        NA        NA  NA     \n",
       "      s. end ORF  label\n",
       "15113 1017   ORF1 null \n",
       "16172   NA   ORF2 2rd  \n",
       "16173   NA   ORF2 2rd  \n",
       "1244    NA   ORF2 3rd  "
      ]
     },
     "metadata": {},
     "output_type": "display_data"
    },
    {
     "data": {
      "text/html": [
       "<style>\n",
       ".list-inline {list-style: none; margin:0; padding: 0}\n",
       ".list-inline>li {display: inline-block}\n",
       ".list-inline>li:not(:last-child)::after {content: \"\\00b7\"; padding: 0 .5ex}\n",
       "</style>\n",
       "<ol class=list-inline><li>2673</li><li>10398</li><li>10399</li><li>12556</li></ol>\n"
      ],
      "text/latex": [
       "\\begin{enumerate*}\n",
       "\\item 2673\n",
       "\\item 10398\n",
       "\\item 10399\n",
       "\\item 12556\n",
       "\\end{enumerate*}\n"
      ],
      "text/markdown": [
       "1. 2673\n",
       "2. 10398\n",
       "3. 10399\n",
       "4. 12556\n",
       "\n",
       "\n"
      ],
      "text/plain": [
       "[1]  2673 10398 10399 12556"
      ]
     },
     "metadata": {},
     "output_type": "display_data"
    }
   ],
   "source": [
    "data_ext5[which(data_ext5$start==\"17060921\",arr.ind=TRUE),] #考虑的是相邻的；\n",
    "which(data_ext5$start==\"17060921\",arr.ind=TRUE)"
   ]
  },
  {
   "cell_type": "code",
   "execution_count": 111,
   "id": "711735f8-6ae4-4627-a981-85f8848a305e",
   "metadata": {},
   "outputs": [],
   "source": [
    "#\"12562\"%in%lines"
   ]
  },
  {
   "cell_type": "code",
   "execution_count": 112,
   "id": "b185edf5-0979-414f-8c40-826319303eca",
   "metadata": {},
   "outputs": [
    {
     "data": {
      "text/html": [
       "<table class=\"dataframe\">\n",
       "<caption>A data.frame: 4 × 18</caption>\n",
       "<thead>\n",
       "\t<tr><th></th><th scope=col>subfamily</th><th scope=col>chromsome</th><th scope=col>start</th><th scope=col>stop</th><th scope=col>strand</th><th scope=col>Length</th><th scope=col>orf.start</th><th scope=col>orf.end</th><th scope=col>%identity</th><th scope=col>alignment.length</th><th scope=col>mismatches</th><th scope=col>gap.opens</th><th scope=col>q.start</th><th scope=col>q.end</th><th scope=col>s.start</th><th scope=col>s. end</th><th scope=col>ORF</th><th scope=col>label</th></tr>\n",
       "\t<tr><th></th><th scope=col>&lt;chr&gt;</th><th scope=col>&lt;chr&gt;</th><th scope=col>&lt;chr&gt;</th><th scope=col>&lt;chr&gt;</th><th scope=col>&lt;chr&gt;</th><th scope=col>&lt;dbl&gt;</th><th scope=col>&lt;chr&gt;</th><th scope=col>&lt;chr&gt;</th><th scope=col>&lt;dbl&gt;</th><th scope=col>&lt;int&gt;</th><th scope=col>&lt;int&gt;</th><th scope=col>&lt;int&gt;</th><th scope=col>&lt;int&gt;</th><th scope=col>&lt;int&gt;</th><th scope=col>&lt;int&gt;</th><th scope=col>&lt;int&gt;</th><th scope=col>&lt;chr&gt;</th><th scope=col>&lt;chr&gt;</th></tr>\n",
       "</thead>\n",
       "<tbody>\n",
       "\t<tr><th scope=row>15113</th><td>L1PA2</td><td>chrY</td><td>17060921</td><td>17066963</td><td>-</td><td>6042</td><td>906 </td><td>1922</td><td>97.64</td><td>1017</td><td>24</td><td> 0</td><td> 1</td><td>1017</td><td> 1</td><td>1017</td><td>ORF1</td><td>null</td></tr>\n",
       "\t<tr><th scope=row>16172</th><td>L1PA2</td><td>chrY</td><td>17060921</td><td>17066963</td><td>-</td><td>6042</td><td>1986</td><td>4775</td><td>   NA</td><td>  NA</td><td>NA</td><td>NA</td><td>NA</td><td>  NA</td><td>NA</td><td>  NA</td><td>ORF2</td><td>2rd </td></tr>\n",
       "\t<tr><th scope=row>16173</th><td>L1PA2</td><td>chrY</td><td>17060921</td><td>17066963</td><td>-</td><td>6042</td><td>3603</td><td>5825</td><td>   NA</td><td>  NA</td><td>NA</td><td>NA</td><td>NA</td><td>  NA</td><td>NA</td><td>  NA</td><td>ORF2</td><td>2rd </td></tr>\n",
       "\t<tr><th scope=row>1244</th><td>L1PA2</td><td>chrY</td><td>17060921</td><td>17066963</td><td>-</td><td>6042</td><td>1986</td><td>5825</td><td>   NA</td><td>  NA</td><td>NA</td><td>NA</td><td>NA</td><td>  NA</td><td>NA</td><td>  NA</td><td>ORF2</td><td>3rd </td></tr>\n",
       "</tbody>\n",
       "</table>\n"
      ],
      "text/latex": [
       "A data.frame: 4 × 18\n",
       "\\begin{tabular}{r|llllllllllllllllll}\n",
       "  & subfamily & chromsome & start & stop & strand & Length & orf.start & orf.end & \\%identity & alignment.length & mismatches & gap.opens & q.start & q.end & s.start & s. end & ORF & label\\\\\n",
       "  & <chr> & <chr> & <chr> & <chr> & <chr> & <dbl> & <chr> & <chr> & <dbl> & <int> & <int> & <int> & <int> & <int> & <int> & <int> & <chr> & <chr>\\\\\n",
       "\\hline\n",
       "\t15113 & L1PA2 & chrY & 17060921 & 17066963 & - & 6042 & 906  & 1922 & 97.64 & 1017 & 24 &  0 &  1 & 1017 &  1 & 1017 & ORF1 & null\\\\\n",
       "\t16172 & L1PA2 & chrY & 17060921 & 17066963 & - & 6042 & 1986 & 4775 &    NA &   NA & NA & NA & NA &   NA & NA &   NA & ORF2 & 2rd \\\\\n",
       "\t16173 & L1PA2 & chrY & 17060921 & 17066963 & - & 6042 & 3603 & 5825 &    NA &   NA & NA & NA & NA &   NA & NA &   NA & ORF2 & 2rd \\\\\n",
       "\t1244 & L1PA2 & chrY & 17060921 & 17066963 & - & 6042 & 1986 & 5825 &    NA &   NA & NA & NA & NA &   NA & NA &   NA & ORF2 & 3rd \\\\\n",
       "\\end{tabular}\n"
      ],
      "text/markdown": [
       "\n",
       "A data.frame: 4 × 18\n",
       "\n",
       "| <!--/--> | subfamily &lt;chr&gt; | chromsome &lt;chr&gt; | start &lt;chr&gt; | stop &lt;chr&gt; | strand &lt;chr&gt; | Length &lt;dbl&gt; | orf.start &lt;chr&gt; | orf.end &lt;chr&gt; | %identity &lt;dbl&gt; | alignment.length &lt;int&gt; | mismatches &lt;int&gt; | gap.opens &lt;int&gt; | q.start &lt;int&gt; | q.end &lt;int&gt; | s.start &lt;int&gt; | s. end &lt;int&gt; | ORF &lt;chr&gt; | label &lt;chr&gt; |\n",
       "|---|---|---|---|---|---|---|---|---|---|---|---|---|---|---|---|---|---|---|\n",
       "| 15113 | L1PA2 | chrY | 17060921 | 17066963 | - | 6042 | 906  | 1922 | 97.64 | 1017 | 24 |  0 |  1 | 1017 |  1 | 1017 | ORF1 | null |\n",
       "| 16172 | L1PA2 | chrY | 17060921 | 17066963 | - | 6042 | 1986 | 4775 |    NA |   NA | NA | NA | NA |   NA | NA |   NA | ORF2 | 2rd  |\n",
       "| 16173 | L1PA2 | chrY | 17060921 | 17066963 | - | 6042 | 3603 | 5825 |    NA |   NA | NA | NA | NA |   NA | NA |   NA | ORF2 | 2rd  |\n",
       "| 1244 | L1PA2 | chrY | 17060921 | 17066963 | - | 6042 | 1986 | 5825 |    NA |   NA | NA | NA | NA |   NA | NA |   NA | ORF2 | 3rd  |\n",
       "\n"
      ],
      "text/plain": [
       "      subfamily chromsome start    stop     strand Length orf.start orf.end\n",
       "15113 L1PA2     chrY      17060921 17066963 -      6042   906       1922   \n",
       "16172 L1PA2     chrY      17060921 17066963 -      6042   1986      4775   \n",
       "16173 L1PA2     chrY      17060921 17066963 -      6042   3603      5825   \n",
       "1244  L1PA2     chrY      17060921 17066963 -      6042   1986      5825   \n",
       "      %identity alignment.length mismatches gap.opens q.start q.end s.start\n",
       "15113 97.64     1017             24          0         1      1017   1     \n",
       "16172    NA       NA             NA         NA        NA        NA  NA     \n",
       "16173    NA       NA             NA         NA        NA        NA  NA     \n",
       "1244     NA       NA             NA         NA        NA        NA  NA     \n",
       "      s. end ORF  label\n",
       "15113 1017   ORF1 null \n",
       "16172   NA   ORF2 2rd  \n",
       "16173   NA   ORF2 2rd  \n",
       "1244    NA   ORF2 3rd  "
      ]
     },
     "metadata": {},
     "output_type": "display_data"
    }
   ],
   "source": [
    "data_ext5[data_ext5$start==\"17060921\",]"
   ]
  },
  {
   "cell_type": "code",
   "execution_count": 113,
   "id": "fb10f213-2d3a-4c73-904a-891390cc3ce0",
   "metadata": {},
   "outputs": [],
   "source": [
    "#data_ext5[-lines,] #好像应该删除重复的，而不应该把所有的都删掉；这里还没有做的很好；"
   ]
  },
  {
   "cell_type": "code",
   "execution_count": 114,
   "id": "6d2de1e9-f730-4d33-b879-75aa25aac3eb",
   "metadata": {},
   "outputs": [],
   "source": [
    "data_ext6<-data_ext5[-lines,] #好像应该删除重复的，而不应该把所有的都删掉；这里还没有做的很好；"
   ]
  },
  {
   "cell_type": "code",
   "execution_count": 115,
   "id": "3c5dd98a-c04c-418c-970a-1552aedbbc44",
   "metadata": {},
   "outputs": [],
   "source": [
    "#应该删除的是，和3rd重复的行"
   ]
  },
  {
   "cell_type": "code",
   "execution_count": 116,
   "id": "8003655a-40f9-49ef-8e57-4da353ed5fd1",
   "metadata": {},
   "outputs": [
    {
     "data": {
      "text/html": [
       "<style>\n",
       ".list-inline {list-style: none; margin:0; padding: 0}\n",
       ".list-inline>li {display: inline-block}\n",
       ".list-inline>li:not(:last-child)::after {content: \"\\00b7\"; padding: 0 .5ex}\n",
       "</style>\n",
       "<ol class=list-inline><li>12179</li><li>18</li></ol>\n"
      ],
      "text/latex": [
       "\\begin{enumerate*}\n",
       "\\item 12179\n",
       "\\item 18\n",
       "\\end{enumerate*}\n"
      ],
      "text/markdown": [
       "1. 12179\n",
       "2. 18\n",
       "\n",
       "\n"
      ],
      "text/plain": [
       "[1] 12179    18"
      ]
     },
     "metadata": {},
     "output_type": "display_data"
    }
   ],
   "source": [
    "dim(data_ext6)"
   ]
  },
  {
   "cell_type": "code",
   "execution_count": 123,
   "id": "1f4189d3-643c-4b98-910b-264441237965",
   "metadata": {},
   "outputs": [
    {
     "data": {
      "text/html": [
       "<table class=\"dataframe\">\n",
       "<caption>A data.frame: 2 × 18</caption>\n",
       "<thead>\n",
       "\t<tr><th></th><th scope=col>subfamily</th><th scope=col>chromsome</th><th scope=col>start</th><th scope=col>stop</th><th scope=col>strand</th><th scope=col>Length</th><th scope=col>orf.start</th><th scope=col>orf.end</th><th scope=col>%identity</th><th scope=col>alignment.length</th><th scope=col>mismatches</th><th scope=col>gap.opens</th><th scope=col>q.start</th><th scope=col>q.end</th><th scope=col>s.start</th><th scope=col>s. end</th><th scope=col>ORF</th><th scope=col>label</th></tr>\n",
       "\t<tr><th></th><th scope=col>&lt;chr&gt;</th><th scope=col>&lt;chr&gt;</th><th scope=col>&lt;chr&gt;</th><th scope=col>&lt;chr&gt;</th><th scope=col>&lt;chr&gt;</th><th scope=col>&lt;dbl&gt;</th><th scope=col>&lt;chr&gt;</th><th scope=col>&lt;chr&gt;</th><th scope=col>&lt;dbl&gt;</th><th scope=col>&lt;int&gt;</th><th scope=col>&lt;int&gt;</th><th scope=col>&lt;int&gt;</th><th scope=col>&lt;int&gt;</th><th scope=col>&lt;int&gt;</th><th scope=col>&lt;int&gt;</th><th scope=col>&lt;int&gt;</th><th scope=col>&lt;chr&gt;</th><th scope=col>&lt;chr&gt;</th></tr>\n",
       "</thead>\n",
       "<tbody>\n",
       "\t<tr><th scope=row>15113</th><td>L1PA2</td><td>chrY</td><td>17060921</td><td>17066963</td><td>-</td><td>6042</td><td>906 </td><td>1922</td><td>97.64</td><td>1017</td><td>24</td><td> 0</td><td> 1</td><td>1017</td><td> 1</td><td>1017</td><td>ORF1</td><td>null</td></tr>\n",
       "\t<tr><th scope=row>1244</th><td>L1PA2</td><td>chrY</td><td>17060921</td><td>17066963</td><td>-</td><td>6042</td><td>1986</td><td>5825</td><td>   NA</td><td>  NA</td><td>NA</td><td>NA</td><td>NA</td><td>  NA</td><td>NA</td><td>  NA</td><td>ORF2</td><td>3rd </td></tr>\n",
       "</tbody>\n",
       "</table>\n"
      ],
      "text/latex": [
       "A data.frame: 2 × 18\n",
       "\\begin{tabular}{r|llllllllllllllllll}\n",
       "  & subfamily & chromsome & start & stop & strand & Length & orf.start & orf.end & \\%identity & alignment.length & mismatches & gap.opens & q.start & q.end & s.start & s. end & ORF & label\\\\\n",
       "  & <chr> & <chr> & <chr> & <chr> & <chr> & <dbl> & <chr> & <chr> & <dbl> & <int> & <int> & <int> & <int> & <int> & <int> & <int> & <chr> & <chr>\\\\\n",
       "\\hline\n",
       "\t15113 & L1PA2 & chrY & 17060921 & 17066963 & - & 6042 & 906  & 1922 & 97.64 & 1017 & 24 &  0 &  1 & 1017 &  1 & 1017 & ORF1 & null\\\\\n",
       "\t1244 & L1PA2 & chrY & 17060921 & 17066963 & - & 6042 & 1986 & 5825 &    NA &   NA & NA & NA & NA &   NA & NA &   NA & ORF2 & 3rd \\\\\n",
       "\\end{tabular}\n"
      ],
      "text/markdown": [
       "\n",
       "A data.frame: 2 × 18\n",
       "\n",
       "| <!--/--> | subfamily &lt;chr&gt; | chromsome &lt;chr&gt; | start &lt;chr&gt; | stop &lt;chr&gt; | strand &lt;chr&gt; | Length &lt;dbl&gt; | orf.start &lt;chr&gt; | orf.end &lt;chr&gt; | %identity &lt;dbl&gt; | alignment.length &lt;int&gt; | mismatches &lt;int&gt; | gap.opens &lt;int&gt; | q.start &lt;int&gt; | q.end &lt;int&gt; | s.start &lt;int&gt; | s. end &lt;int&gt; | ORF &lt;chr&gt; | label &lt;chr&gt; |\n",
       "|---|---|---|---|---|---|---|---|---|---|---|---|---|---|---|---|---|---|---|\n",
       "| 15113 | L1PA2 | chrY | 17060921 | 17066963 | - | 6042 | 906  | 1922 | 97.64 | 1017 | 24 |  0 |  1 | 1017 |  1 | 1017 | ORF1 | null |\n",
       "| 1244 | L1PA2 | chrY | 17060921 | 17066963 | - | 6042 | 1986 | 5825 |    NA |   NA | NA | NA | NA |   NA | NA |   NA | ORF2 | 3rd  |\n",
       "\n"
      ],
      "text/plain": [
       "      subfamily chromsome start    stop     strand Length orf.start orf.end\n",
       "15113 L1PA2     chrY      17060921 17066963 -      6042   906       1922   \n",
       "1244  L1PA2     chrY      17060921 17066963 -      6042   1986      5825   \n",
       "      %identity alignment.length mismatches gap.opens q.start q.end s.start\n",
       "15113 97.64     1017             24          0         1      1017   1     \n",
       "1244     NA       NA             NA         NA        NA        NA  NA     \n",
       "      s. end ORF  label\n",
       "15113 1017   ORF1 null \n",
       "1244    NA   ORF2 3rd  "
      ]
     },
     "metadata": {},
     "output_type": "display_data"
    }
   ],
   "source": [
    "data_ext6[data_ext6$start==\"17060921\",]"
   ]
  },
  {
   "cell_type": "code",
   "execution_count": 124,
   "id": "2a911f8c-eeea-4e05-9fd8-f425838eb622",
   "metadata": {},
   "outputs": [
    {
     "data": {
      "text/html": [
       "<table class=\"dataframe\">\n",
       "<caption>A data.frame: 2 × 18</caption>\n",
       "<thead>\n",
       "\t<tr><th></th><th scope=col>subfamily</th><th scope=col>chromsome</th><th scope=col>start</th><th scope=col>stop</th><th scope=col>strand</th><th scope=col>Length</th><th scope=col>orf.start</th><th scope=col>orf.end</th><th scope=col>%identity</th><th scope=col>alignment.length</th><th scope=col>mismatches</th><th scope=col>gap.opens</th><th scope=col>q.start</th><th scope=col>q.end</th><th scope=col>s.start</th><th scope=col>s. end</th><th scope=col>ORF</th><th scope=col>label</th></tr>\n",
       "\t<tr><th></th><th scope=col>&lt;chr&gt;</th><th scope=col>&lt;chr&gt;</th><th scope=col>&lt;chr&gt;</th><th scope=col>&lt;chr&gt;</th><th scope=col>&lt;chr&gt;</th><th scope=col>&lt;dbl&gt;</th><th scope=col>&lt;chr&gt;</th><th scope=col>&lt;chr&gt;</th><th scope=col>&lt;dbl&gt;</th><th scope=col>&lt;int&gt;</th><th scope=col>&lt;int&gt;</th><th scope=col>&lt;int&gt;</th><th scope=col>&lt;int&gt;</th><th scope=col>&lt;int&gt;</th><th scope=col>&lt;int&gt;</th><th scope=col>&lt;int&gt;</th><th scope=col>&lt;chr&gt;</th><th scope=col>&lt;chr&gt;</th></tr>\n",
       "</thead>\n",
       "<tbody>\n",
       "\t<tr><th scope=row>14262</th><td>L1PA5</td><td>chrX</td><td>77470642</td><td>77476783</td><td>+</td><td>6141</td><td>771 </td><td>2033</td><td>89.577</td><td>1017</td><td>106</td><td> 0</td><td>247</td><td>1263</td><td> 1</td><td>1017</td><td>ORF1</td><td>null</td></tr>\n",
       "\t<tr><th scope=row>18112</th><td>L1PA5</td><td>chrX</td><td>77470642</td><td>77476783</td><td>+</td><td>6141</td><td>2097</td><td>5317</td><td>    NA</td><td>  NA</td><td> NA</td><td>NA</td><td> NA</td><td>  NA</td><td>NA</td><td>  NA</td><td>ORF2</td><td>2rd </td></tr>\n",
       "</tbody>\n",
       "</table>\n"
      ],
      "text/latex": [
       "A data.frame: 2 × 18\n",
       "\\begin{tabular}{r|llllllllllllllllll}\n",
       "  & subfamily & chromsome & start & stop & strand & Length & orf.start & orf.end & \\%identity & alignment.length & mismatches & gap.opens & q.start & q.end & s.start & s. end & ORF & label\\\\\n",
       "  & <chr> & <chr> & <chr> & <chr> & <chr> & <dbl> & <chr> & <chr> & <dbl> & <int> & <int> & <int> & <int> & <int> & <int> & <int> & <chr> & <chr>\\\\\n",
       "\\hline\n",
       "\t14262 & L1PA5 & chrX & 77470642 & 77476783 & + & 6141 & 771  & 2033 & 89.577 & 1017 & 106 &  0 & 247 & 1263 &  1 & 1017 & ORF1 & null\\\\\n",
       "\t18112 & L1PA5 & chrX & 77470642 & 77476783 & + & 6141 & 2097 & 5317 &     NA &   NA &  NA & NA &  NA &   NA & NA &   NA & ORF2 & 2rd \\\\\n",
       "\\end{tabular}\n"
      ],
      "text/markdown": [
       "\n",
       "A data.frame: 2 × 18\n",
       "\n",
       "| <!--/--> | subfamily &lt;chr&gt; | chromsome &lt;chr&gt; | start &lt;chr&gt; | stop &lt;chr&gt; | strand &lt;chr&gt; | Length &lt;dbl&gt; | orf.start &lt;chr&gt; | orf.end &lt;chr&gt; | %identity &lt;dbl&gt; | alignment.length &lt;int&gt; | mismatches &lt;int&gt; | gap.opens &lt;int&gt; | q.start &lt;int&gt; | q.end &lt;int&gt; | s.start &lt;int&gt; | s. end &lt;int&gt; | ORF &lt;chr&gt; | label &lt;chr&gt; |\n",
       "|---|---|---|---|---|---|---|---|---|---|---|---|---|---|---|---|---|---|---|\n",
       "| 14262 | L1PA5 | chrX | 77470642 | 77476783 | + | 6141 | 771  | 2033 | 89.577 | 1017 | 106 |  0 | 247 | 1263 |  1 | 1017 | ORF1 | null |\n",
       "| 18112 | L1PA5 | chrX | 77470642 | 77476783 | + | 6141 | 2097 | 5317 |     NA |   NA |  NA | NA |  NA |   NA | NA |   NA | ORF2 | 2rd  |\n",
       "\n"
      ],
      "text/plain": [
       "      subfamily chromsome start    stop     strand Length orf.start orf.end\n",
       "14262 L1PA5     chrX      77470642 77476783 +      6141   771       2033   \n",
       "18112 L1PA5     chrX      77470642 77476783 +      6141   2097      5317   \n",
       "      %identity alignment.length mismatches gap.opens q.start q.end s.start\n",
       "14262 89.577    1017             106         0        247     1263   1     \n",
       "18112     NA      NA              NA        NA         NA       NA  NA     \n",
       "      s. end ORF  label\n",
       "14262 1017   ORF1 null \n",
       "18112   NA   ORF2 2rd  "
      ]
     },
     "metadata": {},
     "output_type": "display_data"
    }
   ],
   "source": [
    "data_ext6[data_ext6$start==\"77470642\",]"
   ]
  },
  {
   "cell_type": "code",
   "execution_count": 125,
   "id": "10d27b01-32ee-4427-9903-77b8b19d51c2",
   "metadata": {},
   "outputs": [
    {
     "data": {
      "text/html": [
       "12179"
      ],
      "text/latex": [
       "12179"
      ],
      "text/markdown": [
       "12179"
      ],
      "text/plain": [
       "[1] 12179"
      ]
     },
     "metadata": {},
     "output_type": "display_data"
    }
   ],
   "source": [
    "dim(data_ext6)[1]"
   ]
  },
  {
   "cell_type": "code",
   "execution_count": 127,
   "id": "54eed169-4266-47d1-bf6d-dcb5d3f41e20",
   "metadata": {},
   "outputs": [
    {
     "data": {
      "text/html": [
       "<table class=\"dataframe\">\n",
       "<caption>A data.frame: 2 × 18</caption>\n",
       "<thead>\n",
       "\t<tr><th></th><th scope=col>subfamily</th><th scope=col>chromsome</th><th scope=col>start</th><th scope=col>stop</th><th scope=col>strand</th><th scope=col>Length</th><th scope=col>orf.start</th><th scope=col>orf.end</th><th scope=col>%identity</th><th scope=col>alignment.length</th><th scope=col>mismatches</th><th scope=col>gap.opens</th><th scope=col>q.start</th><th scope=col>q.end</th><th scope=col>s.start</th><th scope=col>s. end</th><th scope=col>ORF</th><th scope=col>label</th></tr>\n",
       "\t<tr><th></th><th scope=col>&lt;chr&gt;</th><th scope=col>&lt;chr&gt;</th><th scope=col>&lt;chr&gt;</th><th scope=col>&lt;chr&gt;</th><th scope=col>&lt;chr&gt;</th><th scope=col>&lt;dbl&gt;</th><th scope=col>&lt;chr&gt;</th><th scope=col>&lt;chr&gt;</th><th scope=col>&lt;dbl&gt;</th><th scope=col>&lt;int&gt;</th><th scope=col>&lt;int&gt;</th><th scope=col>&lt;int&gt;</th><th scope=col>&lt;int&gt;</th><th scope=col>&lt;int&gt;</th><th scope=col>&lt;int&gt;</th><th scope=col>&lt;int&gt;</th><th scope=col>&lt;chr&gt;</th><th scope=col>&lt;chr&gt;</th></tr>\n",
       "</thead>\n",
       "<tbody>\n",
       "\t<tr><th scope=row>1646</th><td>L1PA6</td><td>chr9</td><td>7277686 </td><td>7283833 </td><td>-</td><td>6147</td><td>2246</td><td>5931</td><td>NA</td><td>NA</td><td>NA</td><td>NA</td><td>NA</td><td>NA</td><td>NA</td><td>NA</td><td>ORF2</td><td>3rd</td></tr>\n",
       "\t<tr><th scope=row>1647</th><td>L1PA6</td><td>chrX</td><td>55443238</td><td>55449415</td><td>+</td><td>6177</td><td>2108</td><td>4889</td><td>NA</td><td>NA</td><td>NA</td><td>NA</td><td>NA</td><td>NA</td><td>NA</td><td>NA</td><td>ORF2</td><td>3rd</td></tr>\n",
       "</tbody>\n",
       "</table>\n"
      ],
      "text/latex": [
       "A data.frame: 2 × 18\n",
       "\\begin{tabular}{r|llllllllllllllllll}\n",
       "  & subfamily & chromsome & start & stop & strand & Length & orf.start & orf.end & \\%identity & alignment.length & mismatches & gap.opens & q.start & q.end & s.start & s. end & ORF & label\\\\\n",
       "  & <chr> & <chr> & <chr> & <chr> & <chr> & <dbl> & <chr> & <chr> & <dbl> & <int> & <int> & <int> & <int> & <int> & <int> & <int> & <chr> & <chr>\\\\\n",
       "\\hline\n",
       "\t1646 & L1PA6 & chr9 & 7277686  & 7283833  & - & 6147 & 2246 & 5931 & NA & NA & NA & NA & NA & NA & NA & NA & ORF2 & 3rd\\\\\n",
       "\t1647 & L1PA6 & chrX & 55443238 & 55449415 & + & 6177 & 2108 & 4889 & NA & NA & NA & NA & NA & NA & NA & NA & ORF2 & 3rd\\\\\n",
       "\\end{tabular}\n"
      ],
      "text/markdown": [
       "\n",
       "A data.frame: 2 × 18\n",
       "\n",
       "| <!--/--> | subfamily &lt;chr&gt; | chromsome &lt;chr&gt; | start &lt;chr&gt; | stop &lt;chr&gt; | strand &lt;chr&gt; | Length &lt;dbl&gt; | orf.start &lt;chr&gt; | orf.end &lt;chr&gt; | %identity &lt;dbl&gt; | alignment.length &lt;int&gt; | mismatches &lt;int&gt; | gap.opens &lt;int&gt; | q.start &lt;int&gt; | q.end &lt;int&gt; | s.start &lt;int&gt; | s. end &lt;int&gt; | ORF &lt;chr&gt; | label &lt;chr&gt; |\n",
       "|---|---|---|---|---|---|---|---|---|---|---|---|---|---|---|---|---|---|---|\n",
       "| 1646 | L1PA6 | chr9 | 7277686  | 7283833  | - | 6147 | 2246 | 5931 | NA | NA | NA | NA | NA | NA | NA | NA | ORF2 | 3rd |\n",
       "| 1647 | L1PA6 | chrX | 55443238 | 55449415 | + | 6177 | 2108 | 4889 | NA | NA | NA | NA | NA | NA | NA | NA | ORF2 | 3rd |\n",
       "\n"
      ],
      "text/plain": [
       "     subfamily chromsome start    stop     strand Length orf.start orf.end\n",
       "1646 L1PA6     chr9      7277686  7283833  -      6147   2246      5931   \n",
       "1647 L1PA6     chrX      55443238 55449415 +      6177   2108      4889   \n",
       "     %identity alignment.length mismatches gap.opens q.start q.end s.start\n",
       "1646 NA        NA               NA         NA        NA      NA    NA     \n",
       "1647 NA        NA               NA         NA        NA      NA    NA     \n",
       "     s. end ORF  label\n",
       "1646 NA     ORF2 3rd  \n",
       "1647 NA     ORF2 3rd  "
      ]
     },
     "metadata": {},
     "output_type": "display_data"
    }
   ],
   "source": [
    "data_ext6[c(12178,12179),]"
   ]
  },
  {
   "cell_type": "code",
   "execution_count": 128,
   "id": "ca35d4c7-3c9e-4fa7-8fcc-69cbc8c68732",
   "metadata": {},
   "outputs": [],
   "source": [
    "lines2<-c()"
   ]
  },
  {
   "cell_type": "code",
   "execution_count": 129,
   "id": "5df6b297-d49e-48a7-b860-7229e3483d16",
   "metadata": {},
   "outputs": [],
   "source": [
    "for (m in 1:(dim(data_ext6)[1]-1)) {\n",
    "if(sum(data_ext6[m,c(1:6,17)]==data_ext6[m+1,c(1:6,17)])==7){\n",
    "    a=c(data_ext6[m,7],data_ext6[m,8],data_ext6[m+1,7],data_ext6[m+1,8])\n",
    "    lines2<-append(lines2,m) #有一点小聪明\n",
    "    lines2<-append(lines2,m+1)\n",
    "    #data_ext6[i,]$label<-\"1rd\"\n",
    "    #data_ext6[i+1,]$label<-\"1rd\"\n",
    "    b=as.data.frame(c(data_ext6[m,1:6],min(a),max(a),rep(NA,8),data_ext6[m,17],\"4rd\"))\n",
    "    colnames(b)<-colnames(data_ext6)\n",
    "    data_ext6<-rbind(data_ext6,b)\n",
    "    m = i+1\n",
    "}\n",
    "    }"
   ]
  },
  {
   "cell_type": "code",
   "execution_count": 130,
   "id": "3401f5e0-53a4-49f5-ac05-203d8f66e8ad",
   "metadata": {},
   "outputs": [],
   "source": [
    "#data_ext6[grepl(\"4rd\", data_ext6$label),]"
   ]
  },
  {
   "cell_type": "code",
   "execution_count": 131,
   "id": "d5d897c3-3076-4e64-bd2c-7abc5312934b",
   "metadata": {},
   "outputs": [],
   "source": [
    "#tail(data_ext6,20)"
   ]
  },
  {
   "cell_type": "code",
   "execution_count": 132,
   "id": "a7d10537-71d6-4b8a-8e9d-60c4c99d1e28",
   "metadata": {},
   "outputs": [
    {
     "data": {
      "text/html": [
       "<table class=\"dataframe\">\n",
       "<caption>A data.frame: 3 × 18</caption>\n",
       "<thead>\n",
       "\t<tr><th></th><th scope=col>subfamily</th><th scope=col>chromsome</th><th scope=col>start</th><th scope=col>stop</th><th scope=col>strand</th><th scope=col>Length</th><th scope=col>orf.start</th><th scope=col>orf.end</th><th scope=col>%identity</th><th scope=col>alignment.length</th><th scope=col>mismatches</th><th scope=col>gap.opens</th><th scope=col>q.start</th><th scope=col>q.end</th><th scope=col>s.start</th><th scope=col>s. end</th><th scope=col>ORF</th><th scope=col>label</th></tr>\n",
       "\t<tr><th></th><th scope=col>&lt;chr&gt;</th><th scope=col>&lt;chr&gt;</th><th scope=col>&lt;chr&gt;</th><th scope=col>&lt;chr&gt;</th><th scope=col>&lt;chr&gt;</th><th scope=col>&lt;dbl&gt;</th><th scope=col>&lt;chr&gt;</th><th scope=col>&lt;chr&gt;</th><th scope=col>&lt;dbl&gt;</th><th scope=col>&lt;int&gt;</th><th scope=col>&lt;int&gt;</th><th scope=col>&lt;int&gt;</th><th scope=col>&lt;int&gt;</th><th scope=col>&lt;int&gt;</th><th scope=col>&lt;int&gt;</th><th scope=col>&lt;int&gt;</th><th scope=col>&lt;chr&gt;</th><th scope=col>&lt;chr&gt;</th></tr>\n",
       "</thead>\n",
       "<tbody>\n",
       "\t<tr><th scope=row>1339</th><td>L1PA3</td><td>chr18</td><td>32228076</td><td>32233934</td><td>-</td><td>5858</td><td>3680</td><td>5641</td><td>NA</td><td>NA</td><td>NA</td><td>NA</td><td>NA</td><td>NA</td><td>NA</td><td>NA</td><td>ORF2</td><td>3rd</td></tr>\n",
       "\t<tr><th scope=row>1341</th><td>L1PA3</td><td>chr18</td><td>32228076</td><td>32233934</td><td>-</td><td>5858</td><td>1974</td><td>5641</td><td>NA</td><td>NA</td><td>NA</td><td>NA</td><td>NA</td><td>NA</td><td>NA</td><td>NA</td><td>ORF2</td><td>3rd</td></tr>\n",
       "\t<tr><th scope=row>1662</th><td>L1PA3</td><td>chr18</td><td>32228076</td><td>32233934</td><td>-</td><td>5858</td><td>1974</td><td>5641</td><td>NA</td><td>NA</td><td>NA</td><td>NA</td><td>NA</td><td>NA</td><td>NA</td><td>NA</td><td>ORF2</td><td>4rd</td></tr>\n",
       "</tbody>\n",
       "</table>\n"
      ],
      "text/latex": [
       "A data.frame: 3 × 18\n",
       "\\begin{tabular}{r|llllllllllllllllll}\n",
       "  & subfamily & chromsome & start & stop & strand & Length & orf.start & orf.end & \\%identity & alignment.length & mismatches & gap.opens & q.start & q.end & s.start & s. end & ORF & label\\\\\n",
       "  & <chr> & <chr> & <chr> & <chr> & <chr> & <dbl> & <chr> & <chr> & <dbl> & <int> & <int> & <int> & <int> & <int> & <int> & <int> & <chr> & <chr>\\\\\n",
       "\\hline\n",
       "\t1339 & L1PA3 & chr18 & 32228076 & 32233934 & - & 5858 & 3680 & 5641 & NA & NA & NA & NA & NA & NA & NA & NA & ORF2 & 3rd\\\\\n",
       "\t1341 & L1PA3 & chr18 & 32228076 & 32233934 & - & 5858 & 1974 & 5641 & NA & NA & NA & NA & NA & NA & NA & NA & ORF2 & 3rd\\\\\n",
       "\t1662 & L1PA3 & chr18 & 32228076 & 32233934 & - & 5858 & 1974 & 5641 & NA & NA & NA & NA & NA & NA & NA & NA & ORF2 & 4rd\\\\\n",
       "\\end{tabular}\n"
      ],
      "text/markdown": [
       "\n",
       "A data.frame: 3 × 18\n",
       "\n",
       "| <!--/--> | subfamily &lt;chr&gt; | chromsome &lt;chr&gt; | start &lt;chr&gt; | stop &lt;chr&gt; | strand &lt;chr&gt; | Length &lt;dbl&gt; | orf.start &lt;chr&gt; | orf.end &lt;chr&gt; | %identity &lt;dbl&gt; | alignment.length &lt;int&gt; | mismatches &lt;int&gt; | gap.opens &lt;int&gt; | q.start &lt;int&gt; | q.end &lt;int&gt; | s.start &lt;int&gt; | s. end &lt;int&gt; | ORF &lt;chr&gt; | label &lt;chr&gt; |\n",
       "|---|---|---|---|---|---|---|---|---|---|---|---|---|---|---|---|---|---|---|\n",
       "| 1339 | L1PA3 | chr18 | 32228076 | 32233934 | - | 5858 | 3680 | 5641 | NA | NA | NA | NA | NA | NA | NA | NA | ORF2 | 3rd |\n",
       "| 1341 | L1PA3 | chr18 | 32228076 | 32233934 | - | 5858 | 1974 | 5641 | NA | NA | NA | NA | NA | NA | NA | NA | ORF2 | 3rd |\n",
       "| 1662 | L1PA3 | chr18 | 32228076 | 32233934 | - | 5858 | 1974 | 5641 | NA | NA | NA | NA | NA | NA | NA | NA | ORF2 | 4rd |\n",
       "\n"
      ],
      "text/plain": [
       "     subfamily chromsome start    stop     strand Length orf.start orf.end\n",
       "1339 L1PA3     chr18     32228076 32233934 -      5858   3680      5641   \n",
       "1341 L1PA3     chr18     32228076 32233934 -      5858   1974      5641   \n",
       "1662 L1PA3     chr18     32228076 32233934 -      5858   1974      5641   \n",
       "     %identity alignment.length mismatches gap.opens q.start q.end s.start\n",
       "1339 NA        NA               NA         NA        NA      NA    NA     \n",
       "1341 NA        NA               NA         NA        NA      NA    NA     \n",
       "1662 NA        NA               NA         NA        NA      NA    NA     \n",
       "     s. end ORF  label\n",
       "1339 NA     ORF2 3rd  \n",
       "1341 NA     ORF2 3rd  \n",
       "1662 NA     ORF2 4rd  "
      ]
     },
     "metadata": {},
     "output_type": "display_data"
    }
   ],
   "source": [
    "data_ext6[data_ext6$start==\"32228076\",]"
   ]
  },
  {
   "cell_type": "code",
   "execution_count": 133,
   "id": "9db1d8db-d27d-4f99-848c-13569048c9af",
   "metadata": {},
   "outputs": [
    {
     "data": {
      "text/html": [
       "<style>\n",
       ".list-inline {list-style: none; margin:0; padding: 0}\n",
       ".list-inline>li {display: inline-block}\n",
       ".list-inline>li:not(:last-child)::after {content: \"\\00b7\"; padding: 0 .5ex}\n",
       "</style>\n",
       "<ol class=list-inline><li>11949</li><li>11950</li><li>11972</li><li>11973</li><li>12041</li><li>12042</li><li>12080</li><li>12081</li></ol>\n"
      ],
      "text/latex": [
       "\\begin{enumerate*}\n",
       "\\item 11949\n",
       "\\item 11950\n",
       "\\item 11972\n",
       "\\item 11973\n",
       "\\item 12041\n",
       "\\item 12042\n",
       "\\item 12080\n",
       "\\item 12081\n",
       "\\end{enumerate*}\n"
      ],
      "text/markdown": [
       "1. 11949\n",
       "2. 11950\n",
       "3. 11972\n",
       "4. 11973\n",
       "5. 12041\n",
       "6. 12042\n",
       "7. 12080\n",
       "8. 12081\n",
       "\n",
       "\n"
      ],
      "text/plain": [
       "[1] 11949 11950 11972 11973 12041 12042 12080 12081"
      ]
     },
     "metadata": {},
     "output_type": "display_data"
    }
   ],
   "source": [
    "lines2"
   ]
  },
  {
   "cell_type": "code",
   "execution_count": 134,
   "id": "afdfb193-61cd-4345-8c6f-2631845ed9fc",
   "metadata": {},
   "outputs": [],
   "source": [
    "data_ext7<-data_ext6[-lines2,]"
   ]
  },
  {
   "cell_type": "code",
   "execution_count": 135,
   "id": "7644c829-1c76-4b85-9b7c-74f437d89142",
   "metadata": {},
   "outputs": [],
   "source": [
    "#data_ext7<-data_ext6[!grepl(\"3rd\", data_ext6$label),] #这下就比较干净了；"
   ]
  },
  {
   "cell_type": "code",
   "execution_count": 136,
   "id": "7af7a261-388f-47da-b13e-fda550bed016",
   "metadata": {},
   "outputs": [],
   "source": [
    "#tail(data_ext7,20) #到4rd的时候，每一个4rd都不重复了"
   ]
  },
  {
   "cell_type": "code",
   "execution_count": 137,
   "id": "f93b6177-e0a4-44b3-886f-342be3c00ecf",
   "metadata": {},
   "outputs": [
    {
     "data": {
      "text/html": [
       "<table class=\"dataframe\">\n",
       "<caption>A data.frame: 1 × 18</caption>\n",
       "<thead>\n",
       "\t<tr><th></th><th scope=col>subfamily</th><th scope=col>chromsome</th><th scope=col>start</th><th scope=col>stop</th><th scope=col>strand</th><th scope=col>Length</th><th scope=col>orf.start</th><th scope=col>orf.end</th><th scope=col>%identity</th><th scope=col>alignment.length</th><th scope=col>mismatches</th><th scope=col>gap.opens</th><th scope=col>q.start</th><th scope=col>q.end</th><th scope=col>s.start</th><th scope=col>s. end</th><th scope=col>ORF</th><th scope=col>label</th></tr>\n",
       "\t<tr><th></th><th scope=col>&lt;chr&gt;</th><th scope=col>&lt;chr&gt;</th><th scope=col>&lt;chr&gt;</th><th scope=col>&lt;chr&gt;</th><th scope=col>&lt;chr&gt;</th><th scope=col>&lt;dbl&gt;</th><th scope=col>&lt;chr&gt;</th><th scope=col>&lt;chr&gt;</th><th scope=col>&lt;dbl&gt;</th><th scope=col>&lt;int&gt;</th><th scope=col>&lt;int&gt;</th><th scope=col>&lt;int&gt;</th><th scope=col>&lt;int&gt;</th><th scope=col>&lt;int&gt;</th><th scope=col>&lt;int&gt;</th><th scope=col>&lt;int&gt;</th><th scope=col>&lt;chr&gt;</th><th scope=col>&lt;chr&gt;</th></tr>\n",
       "</thead>\n",
       "<tbody>\n",
       "\t<tr><th scope=row>1662</th><td>L1PA3</td><td>chr18</td><td>32228076</td><td>32233934</td><td>-</td><td>5858</td><td>1974</td><td>5641</td><td>NA</td><td>NA</td><td>NA</td><td>NA</td><td>NA</td><td>NA</td><td>NA</td><td>NA</td><td>ORF2</td><td>4rd</td></tr>\n",
       "</tbody>\n",
       "</table>\n"
      ],
      "text/latex": [
       "A data.frame: 1 × 18\n",
       "\\begin{tabular}{r|llllllllllllllllll}\n",
       "  & subfamily & chromsome & start & stop & strand & Length & orf.start & orf.end & \\%identity & alignment.length & mismatches & gap.opens & q.start & q.end & s.start & s. end & ORF & label\\\\\n",
       "  & <chr> & <chr> & <chr> & <chr> & <chr> & <dbl> & <chr> & <chr> & <dbl> & <int> & <int> & <int> & <int> & <int> & <int> & <int> & <chr> & <chr>\\\\\n",
       "\\hline\n",
       "\t1662 & L1PA3 & chr18 & 32228076 & 32233934 & - & 5858 & 1974 & 5641 & NA & NA & NA & NA & NA & NA & NA & NA & ORF2 & 4rd\\\\\n",
       "\\end{tabular}\n"
      ],
      "text/markdown": [
       "\n",
       "A data.frame: 1 × 18\n",
       "\n",
       "| <!--/--> | subfamily &lt;chr&gt; | chromsome &lt;chr&gt; | start &lt;chr&gt; | stop &lt;chr&gt; | strand &lt;chr&gt; | Length &lt;dbl&gt; | orf.start &lt;chr&gt; | orf.end &lt;chr&gt; | %identity &lt;dbl&gt; | alignment.length &lt;int&gt; | mismatches &lt;int&gt; | gap.opens &lt;int&gt; | q.start &lt;int&gt; | q.end &lt;int&gt; | s.start &lt;int&gt; | s. end &lt;int&gt; | ORF &lt;chr&gt; | label &lt;chr&gt; |\n",
       "|---|---|---|---|---|---|---|---|---|---|---|---|---|---|---|---|---|---|---|\n",
       "| 1662 | L1PA3 | chr18 | 32228076 | 32233934 | - | 5858 | 1974 | 5641 | NA | NA | NA | NA | NA | NA | NA | NA | ORF2 | 4rd |\n",
       "\n"
      ],
      "text/plain": [
       "     subfamily chromsome start    stop     strand Length orf.start orf.end\n",
       "1662 L1PA3     chr18     32228076 32233934 -      5858   1974      5641   \n",
       "     %identity alignment.length mismatches gap.opens q.start q.end s.start\n",
       "1662 NA        NA               NA         NA        NA      NA    NA     \n",
       "     s. end ORF  label\n",
       "1662 NA     ORF2 4rd  "
      ]
     },
     "metadata": {},
     "output_type": "display_data"
    }
   ],
   "source": [
    "data_ext7[data_ext7$start==\"32228076\",]"
   ]
  },
  {
   "cell_type": "code",
   "execution_count": 212,
   "id": "3adf3288-9cbe-4874-ae23-993f44ff912d",
   "metadata": {},
   "outputs": [],
   "source": [
    "#write.table(data_ext7,\"data_ext7.txt\",row.names=F,quote=F) #到这里，从序列整合的角度上来看，差不多了；#以上代码，不能重复运行，否则会爆出错误；"
   ]
  },
  {
   "cell_type": "code",
   "execution_count": 58,
   "id": "47d4adde-449c-4179-b30d-5076760b8e90",
   "metadata": {},
   "outputs": [
    {
     "data": {
      "text/plain": [
       "\n",
       " 2rd  3rd  4rd null \n",
       "2377  246    4 9693 "
      ]
     },
     "metadata": {},
     "output_type": "display_data"
    }
   ],
   "source": [
    "#table(data_ext7$label) #before"
   ]
  },
  {
   "cell_type": "code",
   "execution_count": 138,
   "id": "e7c7e9b0-8d3d-4475-a9e8-a6ca0ba8afdd",
   "metadata": {},
   "outputs": [
    {
     "data": {
      "text/plain": [
       "\n",
       " 2rd  3rd  4rd null \n",
       "2474  270    4 9427 "
      ]
     },
     "metadata": {},
     "output_type": "display_data"
    }
   ],
   "source": [
    "table(data_ext7$label)"
   ]
  },
  {
   "cell_type": "code",
   "execution_count": 214,
   "id": "c53dc5e5-af92-410d-a70e-a37da77417ef",
   "metadata": {},
   "outputs": [
    {
     "data": {
      "text/plain": [
       "\n",
       " ORF1  ORF2 \n",
       " 1147 11173 "
      ]
     },
     "metadata": {},
     "output_type": "display_data"
    }
   ],
   "source": [
    "#table(data_ext7$ORF) #before"
   ]
  },
  {
   "cell_type": "code",
   "execution_count": 140,
   "id": "19948dcb-5f9a-4ee0-8afa-4c700f271758",
   "metadata": {},
   "outputs": [
    {
     "data": {
      "text/plain": [
       "\n",
       " ORF1  ORF2 \n",
       " 1147 11028 "
      ]
     },
     "metadata": {},
     "output_type": "display_data"
    }
   ],
   "source": [
    "table(data_ext7$ORF)"
   ]
  },
  {
   "cell_type": "code",
   "execution_count": 141,
   "id": "867c7024-096c-4277-8176-60534aca5a9e",
   "metadata": {},
   "outputs": [],
   "source": [
    "#先对data_ext7进行排序\n",
    "data_ext8<-data_ext7[order(data_ext7$subfamily,data_ext7$chromsome,data_ext7$start,\n",
    "                           data_ext7$stop,data_ext7$strand,data_ext7$Length,\n",
    "                          data_ext7$ORF),]"
   ]
  },
  {
   "cell_type": "code",
   "execution_count": 142,
   "id": "fd8631e5-f0be-4601-aae3-3ef31c8742b4",
   "metadata": {},
   "outputs": [],
   "source": [
    "write.table(data_ext8,\"data_ext8_ordered.v2.txt\",row.names=F,quote=F,sep=\"\\t\")"
   ]
  },
  {
   "cell_type": "code",
   "execution_count": 143,
   "id": "e5db9001-fea8-40e6-8b82-e0836cb81409",
   "metadata": {},
   "outputs": [],
   "source": [
    "setwd(\"/home/xxzhang/workplace/software/ORFFinder/\")\n",
    "data_ext8<-read.table(\"data_ext8_ordered.v2.txt\",sep=\"\\t\",header=T)"
   ]
  },
  {
   "cell_type": "code",
   "execution_count": 144,
   "id": "e3b82cf0-4332-40b4-be8b-3a65c0c13c28",
   "metadata": {},
   "outputs": [
    {
     "data": {
      "text/html": [
       "<table class=\"dataframe\">\n",
       "<caption>A data.frame: 10 × 18</caption>\n",
       "<thead>\n",
       "\t<tr><th></th><th scope=col>subfamily</th><th scope=col>chromsome</th><th scope=col>start</th><th scope=col>stop</th><th scope=col>strand</th><th scope=col>Length</th><th scope=col>orf.start</th><th scope=col>orf.end</th><th scope=col>X.identity</th><th scope=col>alignment.length</th><th scope=col>mismatches</th><th scope=col>gap.opens</th><th scope=col>q.start</th><th scope=col>q.end</th><th scope=col>s.start</th><th scope=col>s..end</th><th scope=col>ORF</th><th scope=col>label</th></tr>\n",
       "\t<tr><th></th><th scope=col>&lt;chr&gt;</th><th scope=col>&lt;chr&gt;</th><th scope=col>&lt;int&gt;</th><th scope=col>&lt;int&gt;</th><th scope=col>&lt;chr&gt;</th><th scope=col>&lt;int&gt;</th><th scope=col>&lt;int&gt;</th><th scope=col>&lt;chr&gt;</th><th scope=col>&lt;dbl&gt;</th><th scope=col>&lt;int&gt;</th><th scope=col>&lt;int&gt;</th><th scope=col>&lt;int&gt;</th><th scope=col>&lt;int&gt;</th><th scope=col>&lt;int&gt;</th><th scope=col>&lt;int&gt;</th><th scope=col>&lt;int&gt;</th><th scope=col>&lt;chr&gt;</th><th scope=col>&lt;chr&gt;</th></tr>\n",
       "</thead>\n",
       "<tbody>\n",
       "\t<tr><th scope=row>1</th><td>L1HS</td><td>chr1</td><td>103922066</td><td>103925398</td><td>+</td><td>3332</td><td> 420</td><td>1334</td><td>96.831</td><td> 915</td><td>29</td><td> 0</td><td> 1</td><td> 915</td><td> 103</td><td>1017</td><td>ORF1</td><td>null</td></tr>\n",
       "\t<tr><th scope=row>2</th><td>L1HS</td><td>chr1</td><td>104770248</td><td>104776278</td><td>-</td><td>6030</td><td> 907</td><td>1923</td><td>98.230</td><td>1017</td><td>18</td><td> 0</td><td> 1</td><td>1017</td><td>   1</td><td>1017</td><td>ORF1</td><td>null</td></tr>\n",
       "\t<tr><th scope=row>3</th><td>L1HS</td><td>chr1</td><td>104770248</td><td>104776278</td><td>-</td><td>6030</td><td>2281</td><td>5814</td><td>98.387</td><td>3534</td><td>57</td><td> 0</td><td> 1</td><td>3534</td><td> 295</td><td>3828</td><td>ORF2</td><td>null</td></tr>\n",
       "\t<tr><th scope=row>4</th><td>L1HS</td><td>chr1</td><td>104843834</td><td>104849864</td><td>-</td><td>6030</td><td>1986</td><td>5813</td><td>    NA</td><td>  NA</td><td>NA</td><td>NA</td><td>NA</td><td>  NA</td><td>  NA</td><td>  NA</td><td>ORF2</td><td>2rd </td></tr>\n",
       "\t<tr><th scope=row>5</th><td>L1HS</td><td>chr1</td><td>113341608</td><td>113345790</td><td>+</td><td>4182</td><td>1150</td><td>3962</td><td>    NA</td><td>  NA</td><td>NA</td><td>NA</td><td>NA</td><td>  NA</td><td>  NA</td><td>  NA</td><td>ORF2</td><td>2rd </td></tr>\n",
       "\t<tr><th scope=row>6</th><td>L1HS</td><td>chr1</td><td>113497221</td><td>113500000</td><td>+</td><td>2779</td><td> 885</td><td>1901</td><td>97.837</td><td>1017</td><td>22</td><td> 0</td><td> 1</td><td>1017</td><td>   1</td><td>1017</td><td>ORF1</td><td>null</td></tr>\n",
       "\t<tr><th scope=row>7</th><td>L1HS</td><td>chr1</td><td>113497221</td><td>113500000</td><td>+</td><td>2779</td><td>1965</td><td>2777</td><td>98.893</td><td> 813</td><td> 9</td><td> 0</td><td> 1</td><td> 813</td><td>   1</td><td> 813</td><td>ORF2</td><td>null</td></tr>\n",
       "\t<tr><th scope=row>8</th><td>L1HS</td><td>chr1</td><td>113500001</td><td>113503257</td><td>+</td><td>3256</td><td> 469</td><td>3012</td><td>98.153</td><td>2544</td><td>47</td><td> 0</td><td> 1</td><td>2544</td><td>1285</td><td>3828</td><td>ORF2</td><td>null</td></tr>\n",
       "\t<tr><th scope=row>9</th><td>L1HS</td><td>chr1</td><td>116717925</td><td>116719731</td><td>+</td><td>1806</td><td>  20</td><td>1588</td><td>98.853</td><td>1569</td><td>18</td><td> 0</td><td> 1</td><td>1569</td><td>2260</td><td>3828</td><td>ORF2</td><td>null</td></tr>\n",
       "\t<tr><th scope=row>10</th><td>L1HS</td><td>chr1</td><td>118852352</td><td>118858380</td><td>+</td><td>6028</td><td> 905</td><td>1921</td><td>98.132</td><td>1017</td><td>19</td><td> 0</td><td> 1</td><td>1017</td><td>   1</td><td>1017</td><td>ORF1</td><td>null</td></tr>\n",
       "</tbody>\n",
       "</table>\n"
      ],
      "text/latex": [
       "A data.frame: 10 × 18\n",
       "\\begin{tabular}{r|llllllllllllllllll}\n",
       "  & subfamily & chromsome & start & stop & strand & Length & orf.start & orf.end & X.identity & alignment.length & mismatches & gap.opens & q.start & q.end & s.start & s..end & ORF & label\\\\\n",
       "  & <chr> & <chr> & <int> & <int> & <chr> & <int> & <int> & <chr> & <dbl> & <int> & <int> & <int> & <int> & <int> & <int> & <int> & <chr> & <chr>\\\\\n",
       "\\hline\n",
       "\t1 & L1HS & chr1 & 103922066 & 103925398 & + & 3332 &  420 & 1334 & 96.831 &  915 & 29 &  0 &  1 &  915 &  103 & 1017 & ORF1 & null\\\\\n",
       "\t2 & L1HS & chr1 & 104770248 & 104776278 & - & 6030 &  907 & 1923 & 98.230 & 1017 & 18 &  0 &  1 & 1017 &    1 & 1017 & ORF1 & null\\\\\n",
       "\t3 & L1HS & chr1 & 104770248 & 104776278 & - & 6030 & 2281 & 5814 & 98.387 & 3534 & 57 &  0 &  1 & 3534 &  295 & 3828 & ORF2 & null\\\\\n",
       "\t4 & L1HS & chr1 & 104843834 & 104849864 & - & 6030 & 1986 & 5813 &     NA &   NA & NA & NA & NA &   NA &   NA &   NA & ORF2 & 2rd \\\\\n",
       "\t5 & L1HS & chr1 & 113341608 & 113345790 & + & 4182 & 1150 & 3962 &     NA &   NA & NA & NA & NA &   NA &   NA &   NA & ORF2 & 2rd \\\\\n",
       "\t6 & L1HS & chr1 & 113497221 & 113500000 & + & 2779 &  885 & 1901 & 97.837 & 1017 & 22 &  0 &  1 & 1017 &    1 & 1017 & ORF1 & null\\\\\n",
       "\t7 & L1HS & chr1 & 113497221 & 113500000 & + & 2779 & 1965 & 2777 & 98.893 &  813 &  9 &  0 &  1 &  813 &    1 &  813 & ORF2 & null\\\\\n",
       "\t8 & L1HS & chr1 & 113500001 & 113503257 & + & 3256 &  469 & 3012 & 98.153 & 2544 & 47 &  0 &  1 & 2544 & 1285 & 3828 & ORF2 & null\\\\\n",
       "\t9 & L1HS & chr1 & 116717925 & 116719731 & + & 1806 &   20 & 1588 & 98.853 & 1569 & 18 &  0 &  1 & 1569 & 2260 & 3828 & ORF2 & null\\\\\n",
       "\t10 & L1HS & chr1 & 118852352 & 118858380 & + & 6028 &  905 & 1921 & 98.132 & 1017 & 19 &  0 &  1 & 1017 &    1 & 1017 & ORF1 & null\\\\\n",
       "\\end{tabular}\n"
      ],
      "text/markdown": [
       "\n",
       "A data.frame: 10 × 18\n",
       "\n",
       "| <!--/--> | subfamily &lt;chr&gt; | chromsome &lt;chr&gt; | start &lt;int&gt; | stop &lt;int&gt; | strand &lt;chr&gt; | Length &lt;int&gt; | orf.start &lt;int&gt; | orf.end &lt;chr&gt; | X.identity &lt;dbl&gt; | alignment.length &lt;int&gt; | mismatches &lt;int&gt; | gap.opens &lt;int&gt; | q.start &lt;int&gt; | q.end &lt;int&gt; | s.start &lt;int&gt; | s..end &lt;int&gt; | ORF &lt;chr&gt; | label &lt;chr&gt; |\n",
       "|---|---|---|---|---|---|---|---|---|---|---|---|---|---|---|---|---|---|---|\n",
       "| 1 | L1HS | chr1 | 103922066 | 103925398 | + | 3332 |  420 | 1334 | 96.831 |  915 | 29 |  0 |  1 |  915 |  103 | 1017 | ORF1 | null |\n",
       "| 2 | L1HS | chr1 | 104770248 | 104776278 | - | 6030 |  907 | 1923 | 98.230 | 1017 | 18 |  0 |  1 | 1017 |    1 | 1017 | ORF1 | null |\n",
       "| 3 | L1HS | chr1 | 104770248 | 104776278 | - | 6030 | 2281 | 5814 | 98.387 | 3534 | 57 |  0 |  1 | 3534 |  295 | 3828 | ORF2 | null |\n",
       "| 4 | L1HS | chr1 | 104843834 | 104849864 | - | 6030 | 1986 | 5813 |     NA |   NA | NA | NA | NA |   NA |   NA |   NA | ORF2 | 2rd  |\n",
       "| 5 | L1HS | chr1 | 113341608 | 113345790 | + | 4182 | 1150 | 3962 |     NA |   NA | NA | NA | NA |   NA |   NA |   NA | ORF2 | 2rd  |\n",
       "| 6 | L1HS | chr1 | 113497221 | 113500000 | + | 2779 |  885 | 1901 | 97.837 | 1017 | 22 |  0 |  1 | 1017 |    1 | 1017 | ORF1 | null |\n",
       "| 7 | L1HS | chr1 | 113497221 | 113500000 | + | 2779 | 1965 | 2777 | 98.893 |  813 |  9 |  0 |  1 |  813 |    1 |  813 | ORF2 | null |\n",
       "| 8 | L1HS | chr1 | 113500001 | 113503257 | + | 3256 |  469 | 3012 | 98.153 | 2544 | 47 |  0 |  1 | 2544 | 1285 | 3828 | ORF2 | null |\n",
       "| 9 | L1HS | chr1 | 116717925 | 116719731 | + | 1806 |   20 | 1588 | 98.853 | 1569 | 18 |  0 |  1 | 1569 | 2260 | 3828 | ORF2 | null |\n",
       "| 10 | L1HS | chr1 | 118852352 | 118858380 | + | 6028 |  905 | 1921 | 98.132 | 1017 | 19 |  0 |  1 | 1017 |    1 | 1017 | ORF1 | null |\n",
       "\n"
      ],
      "text/plain": [
       "   subfamily chromsome start     stop      strand Length orf.start orf.end\n",
       "1  L1HS      chr1      103922066 103925398 +      3332    420      1334   \n",
       "2  L1HS      chr1      104770248 104776278 -      6030    907      1923   \n",
       "3  L1HS      chr1      104770248 104776278 -      6030   2281      5814   \n",
       "4  L1HS      chr1      104843834 104849864 -      6030   1986      5813   \n",
       "5  L1HS      chr1      113341608 113345790 +      4182   1150      3962   \n",
       "6  L1HS      chr1      113497221 113500000 +      2779    885      1901   \n",
       "7  L1HS      chr1      113497221 113500000 +      2779   1965      2777   \n",
       "8  L1HS      chr1      113500001 113503257 +      3256    469      3012   \n",
       "9  L1HS      chr1      116717925 116719731 +      1806     20      1588   \n",
       "10 L1HS      chr1      118852352 118858380 +      6028    905      1921   \n",
       "   X.identity alignment.length mismatches gap.opens q.start q.end s.start\n",
       "1  96.831      915             29          0         1       915   103   \n",
       "2  98.230     1017             18          0         1      1017     1   \n",
       "3  98.387     3534             57          0         1      3534   295   \n",
       "4      NA       NA             NA         NA        NA        NA    NA   \n",
       "5      NA       NA             NA         NA        NA        NA    NA   \n",
       "6  97.837     1017             22          0         1      1017     1   \n",
       "7  98.893      813              9          0         1       813     1   \n",
       "8  98.153     2544             47          0         1      2544  1285   \n",
       "9  98.853     1569             18          0         1      1569  2260   \n",
       "10 98.132     1017             19          0         1      1017     1   \n",
       "   s..end ORF  label\n",
       "1  1017   ORF1 null \n",
       "2  1017   ORF1 null \n",
       "3  3828   ORF2 null \n",
       "4    NA   ORF2 2rd  \n",
       "5    NA   ORF2 2rd  \n",
       "6  1017   ORF1 null \n",
       "7   813   ORF2 null \n",
       "8  3828   ORF2 null \n",
       "9  3828   ORF2 null \n",
       "10 1017   ORF1 null "
      ]
     },
     "metadata": {},
     "output_type": "display_data"
    }
   ],
   "source": [
    "head(data_ext8,10)"
   ]
  },
  {
   "cell_type": "code",
   "execution_count": 65,
   "id": "a6d06b91-9ae0-4002-9f25-95c5520d8879",
   "metadata": {},
   "outputs": [],
   "source": [
    "#这里就涉及到，我们怎样对这些L1s进行分类了。目前，可以将其按照有没有ORF，将其分成这四类\n",
    "#only ORF1\n",
    "#only ORF2\n",
    "#both ORF1-ORF2\n",
    "#not-enough-length"
   ]
  },
  {
   "cell_type": "code",
   "execution_count": 145,
   "id": "6bee54b4-5e46-43fb-a983-d028f0366f76",
   "metadata": {},
   "outputs": [],
   "source": [
    "data_ext8[,\"class\"]<-\"null\""
   ]
  },
  {
   "cell_type": "code",
   "execution_count": 146,
   "id": "ac85f21b-192d-44cb-8960-e629bfc66c3c",
   "metadata": {},
   "outputs": [
    {
     "data": {
      "text/html": [
       "<table class=\"dataframe\">\n",
       "<caption>A data.frame: 6 × 19</caption>\n",
       "<thead>\n",
       "\t<tr><th></th><th scope=col>subfamily</th><th scope=col>chromsome</th><th scope=col>start</th><th scope=col>stop</th><th scope=col>strand</th><th scope=col>Length</th><th scope=col>orf.start</th><th scope=col>orf.end</th><th scope=col>X.identity</th><th scope=col>alignment.length</th><th scope=col>mismatches</th><th scope=col>gap.opens</th><th scope=col>q.start</th><th scope=col>q.end</th><th scope=col>s.start</th><th scope=col>s..end</th><th scope=col>ORF</th><th scope=col>label</th><th scope=col>class</th></tr>\n",
       "\t<tr><th></th><th scope=col>&lt;chr&gt;</th><th scope=col>&lt;chr&gt;</th><th scope=col>&lt;int&gt;</th><th scope=col>&lt;int&gt;</th><th scope=col>&lt;chr&gt;</th><th scope=col>&lt;int&gt;</th><th scope=col>&lt;int&gt;</th><th scope=col>&lt;chr&gt;</th><th scope=col>&lt;dbl&gt;</th><th scope=col>&lt;int&gt;</th><th scope=col>&lt;int&gt;</th><th scope=col>&lt;int&gt;</th><th scope=col>&lt;int&gt;</th><th scope=col>&lt;int&gt;</th><th scope=col>&lt;int&gt;</th><th scope=col>&lt;int&gt;</th><th scope=col>&lt;chr&gt;</th><th scope=col>&lt;chr&gt;</th><th scope=col>&lt;chr&gt;</th></tr>\n",
       "</thead>\n",
       "<tbody>\n",
       "\t<tr><th scope=row>1</th><td>L1HS</td><td>chr1</td><td>103922066</td><td>103925398</td><td>+</td><td>3332</td><td> 420</td><td>1334</td><td>96.831</td><td> 915</td><td>29</td><td> 0</td><td> 1</td><td> 915</td><td>103</td><td>1017</td><td>ORF1</td><td>null</td><td>null</td></tr>\n",
       "\t<tr><th scope=row>2</th><td>L1HS</td><td>chr1</td><td>104770248</td><td>104776278</td><td>-</td><td>6030</td><td> 907</td><td>1923</td><td>98.230</td><td>1017</td><td>18</td><td> 0</td><td> 1</td><td>1017</td><td>  1</td><td>1017</td><td>ORF1</td><td>null</td><td>null</td></tr>\n",
       "\t<tr><th scope=row>3</th><td>L1HS</td><td>chr1</td><td>104770248</td><td>104776278</td><td>-</td><td>6030</td><td>2281</td><td>5814</td><td>98.387</td><td>3534</td><td>57</td><td> 0</td><td> 1</td><td>3534</td><td>295</td><td>3828</td><td>ORF2</td><td>null</td><td>null</td></tr>\n",
       "\t<tr><th scope=row>4</th><td>L1HS</td><td>chr1</td><td>104843834</td><td>104849864</td><td>-</td><td>6030</td><td>1986</td><td>5813</td><td>    NA</td><td>  NA</td><td>NA</td><td>NA</td><td>NA</td><td>  NA</td><td> NA</td><td>  NA</td><td>ORF2</td><td>2rd </td><td>null</td></tr>\n",
       "\t<tr><th scope=row>5</th><td>L1HS</td><td>chr1</td><td>113341608</td><td>113345790</td><td>+</td><td>4182</td><td>1150</td><td>3962</td><td>    NA</td><td>  NA</td><td>NA</td><td>NA</td><td>NA</td><td>  NA</td><td> NA</td><td>  NA</td><td>ORF2</td><td>2rd </td><td>null</td></tr>\n",
       "\t<tr><th scope=row>6</th><td>L1HS</td><td>chr1</td><td>113497221</td><td>113500000</td><td>+</td><td>2779</td><td> 885</td><td>1901</td><td>97.837</td><td>1017</td><td>22</td><td> 0</td><td> 1</td><td>1017</td><td>  1</td><td>1017</td><td>ORF1</td><td>null</td><td>null</td></tr>\n",
       "</tbody>\n",
       "</table>\n"
      ],
      "text/latex": [
       "A data.frame: 6 × 19\n",
       "\\begin{tabular}{r|lllllllllllllllllll}\n",
       "  & subfamily & chromsome & start & stop & strand & Length & orf.start & orf.end & X.identity & alignment.length & mismatches & gap.opens & q.start & q.end & s.start & s..end & ORF & label & class\\\\\n",
       "  & <chr> & <chr> & <int> & <int> & <chr> & <int> & <int> & <chr> & <dbl> & <int> & <int> & <int> & <int> & <int> & <int> & <int> & <chr> & <chr> & <chr>\\\\\n",
       "\\hline\n",
       "\t1 & L1HS & chr1 & 103922066 & 103925398 & + & 3332 &  420 & 1334 & 96.831 &  915 & 29 &  0 &  1 &  915 & 103 & 1017 & ORF1 & null & null\\\\\n",
       "\t2 & L1HS & chr1 & 104770248 & 104776278 & - & 6030 &  907 & 1923 & 98.230 & 1017 & 18 &  0 &  1 & 1017 &   1 & 1017 & ORF1 & null & null\\\\\n",
       "\t3 & L1HS & chr1 & 104770248 & 104776278 & - & 6030 & 2281 & 5814 & 98.387 & 3534 & 57 &  0 &  1 & 3534 & 295 & 3828 & ORF2 & null & null\\\\\n",
       "\t4 & L1HS & chr1 & 104843834 & 104849864 & - & 6030 & 1986 & 5813 &     NA &   NA & NA & NA & NA &   NA &  NA &   NA & ORF2 & 2rd  & null\\\\\n",
       "\t5 & L1HS & chr1 & 113341608 & 113345790 & + & 4182 & 1150 & 3962 &     NA &   NA & NA & NA & NA &   NA &  NA &   NA & ORF2 & 2rd  & null\\\\\n",
       "\t6 & L1HS & chr1 & 113497221 & 113500000 & + & 2779 &  885 & 1901 & 97.837 & 1017 & 22 &  0 &  1 & 1017 &   1 & 1017 & ORF1 & null & null\\\\\n",
       "\\end{tabular}\n"
      ],
      "text/markdown": [
       "\n",
       "A data.frame: 6 × 19\n",
       "\n",
       "| <!--/--> | subfamily &lt;chr&gt; | chromsome &lt;chr&gt; | start &lt;int&gt; | stop &lt;int&gt; | strand &lt;chr&gt; | Length &lt;int&gt; | orf.start &lt;int&gt; | orf.end &lt;chr&gt; | X.identity &lt;dbl&gt; | alignment.length &lt;int&gt; | mismatches &lt;int&gt; | gap.opens &lt;int&gt; | q.start &lt;int&gt; | q.end &lt;int&gt; | s.start &lt;int&gt; | s..end &lt;int&gt; | ORF &lt;chr&gt; | label &lt;chr&gt; | class &lt;chr&gt; |\n",
       "|---|---|---|---|---|---|---|---|---|---|---|---|---|---|---|---|---|---|---|---|\n",
       "| 1 | L1HS | chr1 | 103922066 | 103925398 | + | 3332 |  420 | 1334 | 96.831 |  915 | 29 |  0 |  1 |  915 | 103 | 1017 | ORF1 | null | null |\n",
       "| 2 | L1HS | chr1 | 104770248 | 104776278 | - | 6030 |  907 | 1923 | 98.230 | 1017 | 18 |  0 |  1 | 1017 |   1 | 1017 | ORF1 | null | null |\n",
       "| 3 | L1HS | chr1 | 104770248 | 104776278 | - | 6030 | 2281 | 5814 | 98.387 | 3534 | 57 |  0 |  1 | 3534 | 295 | 3828 | ORF2 | null | null |\n",
       "| 4 | L1HS | chr1 | 104843834 | 104849864 | - | 6030 | 1986 | 5813 |     NA |   NA | NA | NA | NA |   NA |  NA |   NA | ORF2 | 2rd  | null |\n",
       "| 5 | L1HS | chr1 | 113341608 | 113345790 | + | 4182 | 1150 | 3962 |     NA |   NA | NA | NA | NA |   NA |  NA |   NA | ORF2 | 2rd  | null |\n",
       "| 6 | L1HS | chr1 | 113497221 | 113500000 | + | 2779 |  885 | 1901 | 97.837 | 1017 | 22 |  0 |  1 | 1017 |   1 | 1017 | ORF1 | null | null |\n",
       "\n"
      ],
      "text/plain": [
       "  subfamily chromsome start     stop      strand Length orf.start orf.end\n",
       "1 L1HS      chr1      103922066 103925398 +      3332    420      1334   \n",
       "2 L1HS      chr1      104770248 104776278 -      6030    907      1923   \n",
       "3 L1HS      chr1      104770248 104776278 -      6030   2281      5814   \n",
       "4 L1HS      chr1      104843834 104849864 -      6030   1986      5813   \n",
       "5 L1HS      chr1      113341608 113345790 +      4182   1150      3962   \n",
       "6 L1HS      chr1      113497221 113500000 +      2779    885      1901   \n",
       "  X.identity alignment.length mismatches gap.opens q.start q.end s.start s..end\n",
       "1 96.831      915             29          0         1       915  103     1017  \n",
       "2 98.230     1017             18          0         1      1017    1     1017  \n",
       "3 98.387     3534             57          0         1      3534  295     3828  \n",
       "4     NA       NA             NA         NA        NA        NA   NA       NA  \n",
       "5     NA       NA             NA         NA        NA        NA   NA       NA  \n",
       "6 97.837     1017             22          0         1      1017    1     1017  \n",
       "  ORF  label class\n",
       "1 ORF1 null  null \n",
       "2 ORF1 null  null \n",
       "3 ORF2 null  null \n",
       "4 ORF2 2rd   null \n",
       "5 ORF2 2rd   null \n",
       "6 ORF1 null  null "
      ]
     },
     "metadata": {},
     "output_type": "display_data"
    }
   ],
   "source": [
    "head(data_ext8)"
   ]
  },
  {
   "cell_type": "code",
   "execution_count": 28,
   "id": "d1ad6737-2256-472e-a102-d1827dbb56d2",
   "metadata": {},
   "outputs": [
    {
     "data": {
      "text/html": [
       "<style>\n",
       ".list-inline {list-style: none; margin:0; padding: 0}\n",
       ".list-inline>li {display: inline-block}\n",
       ".list-inline>li:not(:last-child)::after {content: \"\\00b7\"; padding: 0 .5ex}\n",
       "</style>\n",
       "<ol class=list-inline><li>12320</li><li>19</li></ol>\n"
      ],
      "text/latex": [
       "\\begin{enumerate*}\n",
       "\\item 12320\n",
       "\\item 19\n",
       "\\end{enumerate*}\n"
      ],
      "text/markdown": [
       "1. 12320\n",
       "2. 19\n",
       "\n",
       "\n"
      ],
      "text/plain": [
       "[1] 12320    19"
      ]
     },
     "metadata": {},
     "output_type": "display_data"
    }
   ],
   "source": [
    "dim(data_ext8) #before"
   ]
  },
  {
   "cell_type": "code",
   "execution_count": 147,
   "id": "547a97f4-07f8-4caa-9147-d8a5c8f94e4e",
   "metadata": {},
   "outputs": [
    {
     "data": {
      "text/html": [
       "<style>\n",
       ".list-inline {list-style: none; margin:0; padding: 0}\n",
       ".list-inline>li {display: inline-block}\n",
       ".list-inline>li:not(:last-child)::after {content: \"\\00b7\"; padding: 0 .5ex}\n",
       "</style>\n",
       "<ol class=list-inline><li>12175</li><li>19</li></ol>\n"
      ],
      "text/latex": [
       "\\begin{enumerate*}\n",
       "\\item 12175\n",
       "\\item 19\n",
       "\\end{enumerate*}\n"
      ],
      "text/markdown": [
       "1. 12175\n",
       "2. 19\n",
       "\n",
       "\n"
      ],
      "text/plain": [
       "[1] 12175    19"
      ]
     },
     "metadata": {},
     "output_type": "display_data"
    }
   ],
   "source": [
    "dim(data_ext8)"
   ]
  },
  {
   "cell_type": "code",
   "execution_count": 69,
   "id": "c5b8e529-38ca-4820-93d9-1316a29d55fe",
   "metadata": {},
   "outputs": [],
   "source": [
    "# sum(data_ext8[10000,c(1:6)]==data_ext8[10000+1,c(1:6)])"
   ]
  },
  {
   "cell_type": "code",
   "execution_count": 70,
   "id": "3597c1e4-6547-4522-bd6d-ef7dc32d41e9",
   "metadata": {},
   "outputs": [],
   "source": [
    "# if(sum(c(NA,1,NA)==c(NA,1,NA))==6){\n",
    "#     s=1\n",
    "# } #找到原因了，一点点排查"
   ]
  },
  {
   "cell_type": "code",
   "execution_count": 71,
   "id": "6d5e299c-6322-47c6-94b6-814bd8290d7e",
   "metadata": {},
   "outputs": [],
   "source": [
    "#class(data_ext8)"
   ]
  },
  {
   "cell_type": "code",
   "execution_count": 72,
   "id": "271ccca6-9e8d-4360-a023-dd2ce43fac8c",
   "metadata": {},
   "outputs": [],
   "source": [
    "#data_ext8[is.na(data_ext8$start),]\n",
    "#data_ext8[is.na(data_ext8$alignment.length),]\n",
    "#data_ext8[which(data_ext8$stop==\"NA\"),]\n",
    "#data_ext8[which(data_ext8$stand==\"NA\"),]\n",
    "#data_ext8[which(data_ext8$Length==\"NA\"),]\n",
    "#data_ext8[which(data_ext8$orf.end==\"NA\"),]"
   ]
  },
  {
   "cell_type": "code",
   "execution_count": 73,
   "id": "6019f058-6833-4742-82af-9f3cf17d0fe8",
   "metadata": {},
   "outputs": [],
   "source": [
    "#dim(data_ext8)"
   ]
  },
  {
   "cell_type": "code",
   "execution_count": 74,
   "id": "f7805ecc-6f34-44e7-b0a8-a3bacbb8e617",
   "metadata": {},
   "outputs": [],
   "source": [
    "#1:dim(data_ext8)[1]"
   ]
  },
  {
   "cell_type": "code",
   "execution_count": 75,
   "id": "5a064db6-60c7-4f3b-9bba-43fc94d8e764",
   "metadata": {},
   "outputs": [],
   "source": [
    "#data_ext8[1,17]"
   ]
  },
  {
   "cell_type": "code",
   "execution_count": 148,
   "id": "6e10fbf9-70e4-48d4-8553-e287b845ccfd",
   "metadata": {},
   "outputs": [],
   "source": [
    "for (m in 1:(dim(data_ext8)[1]-1)) {\n",
    "#print(m)\n",
    "if(sum(data_ext8[m,c(1:6)]==data_ext8[m+1,c(1:6)])==6){\n",
    "    #if(data_ext8[m,17]==\"ORF1\"& data_ext8[m+1,17]==\"ORF2\"){\n",
    "        data_ext8[m,19]<-\"ORF1-ORF2\"\n",
    "        data_ext8[m+1,19]<-\"ORF1-ORF2\" #注意区分\n",
    "        #print(m)\n",
    "        m = m+2 #即使程序运行完了加2，都无法改变1，2，3，4遍历的事实（想一下办法怎么改变这个局面）\n",
    "        #print(m)\n",
    "    #}\n",
    "}  \n",
    "}\n",
    "    #print(m)"
   ]
  },
  {
   "cell_type": "code",
   "execution_count": 149,
   "id": "1fabab71-f2a6-4b7a-960d-d295114add8b",
   "metadata": {},
   "outputs": [],
   "source": [
    "for (m in 1:(dim(data_ext8)[1]-1)) {\n",
    "#print(m)\n",
    "if(data_ext8[m,19]!=\"ORF1-ORF2\"){\n",
    "     if(data_ext8[m,17]==\"ORF1\"){\n",
    "        data_ext8[m,19]<-\"ORF1\"\n",
    "    }else{\n",
    "        data_ext8[m,19]<-\"ORF2\"\n",
    "}  \n",
    "}\n",
    "    }\n",
    "#很好，一次解决不了的问题，那我们就分两次来解决;"
   ]
  },
  {
   "cell_type": "code",
   "execution_count": 150,
   "id": "7b0b5e0f-c0e1-4310-9b6f-b583f00bab03",
   "metadata": {},
   "outputs": [
    {
     "data": {
      "text/html": [
       "<table class=\"dataframe\">\n",
       "<caption>A data.frame: 16 × 19</caption>\n",
       "<thead>\n",
       "\t<tr><th></th><th scope=col>subfamily</th><th scope=col>chromsome</th><th scope=col>start</th><th scope=col>stop</th><th scope=col>strand</th><th scope=col>Length</th><th scope=col>orf.start</th><th scope=col>orf.end</th><th scope=col>X.identity</th><th scope=col>alignment.length</th><th scope=col>mismatches</th><th scope=col>gap.opens</th><th scope=col>q.start</th><th scope=col>q.end</th><th scope=col>s.start</th><th scope=col>s..end</th><th scope=col>ORF</th><th scope=col>label</th><th scope=col>class</th></tr>\n",
       "\t<tr><th></th><th scope=col>&lt;chr&gt;</th><th scope=col>&lt;chr&gt;</th><th scope=col>&lt;int&gt;</th><th scope=col>&lt;int&gt;</th><th scope=col>&lt;chr&gt;</th><th scope=col>&lt;int&gt;</th><th scope=col>&lt;int&gt;</th><th scope=col>&lt;chr&gt;</th><th scope=col>&lt;dbl&gt;</th><th scope=col>&lt;int&gt;</th><th scope=col>&lt;int&gt;</th><th scope=col>&lt;int&gt;</th><th scope=col>&lt;int&gt;</th><th scope=col>&lt;int&gt;</th><th scope=col>&lt;int&gt;</th><th scope=col>&lt;int&gt;</th><th scope=col>&lt;chr&gt;</th><th scope=col>&lt;chr&gt;</th><th scope=col>&lt;chr&gt;</th></tr>\n",
       "</thead>\n",
       "<tbody>\n",
       "\t<tr><th scope=row>1</th><td>L1HS</td><td>chr1</td><td>103922066</td><td>103925398</td><td>+</td><td>3332</td><td> 420</td><td>1334</td><td>96.831</td><td> 915</td><td>29</td><td> 0</td><td> 1</td><td> 915</td><td> 103</td><td>1017</td><td>ORF1</td><td>null</td><td>ORF1     </td></tr>\n",
       "\t<tr><th scope=row>2</th><td>L1HS</td><td>chr1</td><td>104770248</td><td>104776278</td><td>-</td><td>6030</td><td> 907</td><td>1923</td><td>98.230</td><td>1017</td><td>18</td><td> 0</td><td> 1</td><td>1017</td><td>   1</td><td>1017</td><td>ORF1</td><td>null</td><td>ORF1-ORF2</td></tr>\n",
       "\t<tr><th scope=row>3</th><td>L1HS</td><td>chr1</td><td>104770248</td><td>104776278</td><td>-</td><td>6030</td><td>2281</td><td>5814</td><td>98.387</td><td>3534</td><td>57</td><td> 0</td><td> 1</td><td>3534</td><td> 295</td><td>3828</td><td>ORF2</td><td>null</td><td>ORF1-ORF2</td></tr>\n",
       "\t<tr><th scope=row>4</th><td>L1HS</td><td>chr1</td><td>104843834</td><td>104849864</td><td>-</td><td>6030</td><td>1986</td><td>5813</td><td>    NA</td><td>  NA</td><td>NA</td><td>NA</td><td>NA</td><td>  NA</td><td>  NA</td><td>  NA</td><td>ORF2</td><td>2rd </td><td>ORF2     </td></tr>\n",
       "\t<tr><th scope=row>5</th><td>L1HS</td><td>chr1</td><td>113341608</td><td>113345790</td><td>+</td><td>4182</td><td>1150</td><td>3962</td><td>    NA</td><td>  NA</td><td>NA</td><td>NA</td><td>NA</td><td>  NA</td><td>  NA</td><td>  NA</td><td>ORF2</td><td>2rd </td><td>ORF2     </td></tr>\n",
       "\t<tr><th scope=row>6</th><td>L1HS</td><td>chr1</td><td>113497221</td><td>113500000</td><td>+</td><td>2779</td><td> 885</td><td>1901</td><td>97.837</td><td>1017</td><td>22</td><td> 0</td><td> 1</td><td>1017</td><td>   1</td><td>1017</td><td>ORF1</td><td>null</td><td>ORF1-ORF2</td></tr>\n",
       "\t<tr><th scope=row>7</th><td>L1HS</td><td>chr1</td><td>113497221</td><td>113500000</td><td>+</td><td>2779</td><td>1965</td><td>2777</td><td>98.893</td><td> 813</td><td> 9</td><td> 0</td><td> 1</td><td> 813</td><td>   1</td><td> 813</td><td>ORF2</td><td>null</td><td>ORF1-ORF2</td></tr>\n",
       "\t<tr><th scope=row>8</th><td>L1HS</td><td>chr1</td><td>113500001</td><td>113503257</td><td>+</td><td>3256</td><td> 469</td><td>3012</td><td>98.153</td><td>2544</td><td>47</td><td> 0</td><td> 1</td><td>2544</td><td>1285</td><td>3828</td><td>ORF2</td><td>null</td><td>ORF2     </td></tr>\n",
       "\t<tr><th scope=row>9</th><td>L1HS</td><td>chr1</td><td>116717925</td><td>116719731</td><td>+</td><td>1806</td><td>  20</td><td>1588</td><td>98.853</td><td>1569</td><td>18</td><td> 0</td><td> 1</td><td>1569</td><td>2260</td><td>3828</td><td>ORF2</td><td>null</td><td>ORF2     </td></tr>\n",
       "\t<tr><th scope=row>10</th><td>L1HS</td><td>chr1</td><td>118852352</td><td>118858380</td><td>+</td><td>6028</td><td> 905</td><td>1921</td><td>98.132</td><td>1017</td><td>19</td><td> 0</td><td> 1</td><td>1017</td><td>   1</td><td>1017</td><td>ORF1</td><td>null</td><td>ORF1-ORF2</td></tr>\n",
       "\t<tr><th scope=row>11</th><td>L1HS</td><td>chr1</td><td>118852352</td><td>118858380</td><td>+</td><td>6028</td><td>1985</td><td>5812</td><td>98.485</td><td>3828</td><td>58</td><td> 0</td><td> 1</td><td>3828</td><td>   1</td><td>3828</td><td>ORF2</td><td>null</td><td>ORF1-ORF2</td></tr>\n",
       "\t<tr><th scope=row>12</th><td>L1HS</td><td>chr1</td><td>121532231</td><td>121538261</td><td>-</td><td>6030</td><td> 907</td><td>1923</td><td>98.033</td><td>1017</td><td>20</td><td> 0</td><td> 1</td><td>1017</td><td>   1</td><td>1017</td><td>ORF1</td><td>null</td><td>ORF1-ORF2</td></tr>\n",
       "\t<tr><th scope=row>13</th><td>L1HS</td><td>chr1</td><td>121532231</td><td>121538261</td><td>-</td><td>6030</td><td>1987</td><td>5811</td><td>    NA</td><td>  NA</td><td>NA</td><td>NA</td><td>NA</td><td>  NA</td><td>  NA</td><td>  NA</td><td>ORF2</td><td>3rd </td><td>ORF1-ORF2</td></tr>\n",
       "\t<tr><th scope=row>14</th><td>L1HS</td><td>chr1</td><td>121734419</td><td>121736567</td><td>+</td><td>2148</td><td> 545</td><td>1930</td><td>97.114</td><td>1386</td><td>40</td><td> 0</td><td> 1</td><td>1386</td><td>2443</td><td>3828</td><td>ORF2</td><td>null</td><td>ORF2     </td></tr>\n",
       "\t<tr><th scope=row>15</th><td>L1HS</td><td>chr1</td><td>146717193</td><td>146723218</td><td>-</td><td>6025</td><td>1987</td><td>5202</td><td>    NA</td><td>  NA</td><td>NA</td><td>NA</td><td>NA</td><td>  NA</td><td>  NA</td><td>  NA</td><td>ORF2</td><td>2rd </td><td>ORF2     </td></tr>\n",
       "\t<tr><th scope=row>16</th><td>L1HS</td><td>chr1</td><td>152489882</td><td>152491692</td><td>-</td><td>1810</td><td>  25</td><td>1593</td><td>98.407</td><td>1569</td><td>25</td><td> 0</td><td> 1</td><td>1569</td><td>2260</td><td>3828</td><td>ORF2</td><td>null</td><td>ORF2     </td></tr>\n",
       "</tbody>\n",
       "</table>\n"
      ],
      "text/latex": [
       "A data.frame: 16 × 19\n",
       "\\begin{tabular}{r|lllllllllllllllllll}\n",
       "  & subfamily & chromsome & start & stop & strand & Length & orf.start & orf.end & X.identity & alignment.length & mismatches & gap.opens & q.start & q.end & s.start & s..end & ORF & label & class\\\\\n",
       "  & <chr> & <chr> & <int> & <int> & <chr> & <int> & <int> & <chr> & <dbl> & <int> & <int> & <int> & <int> & <int> & <int> & <int> & <chr> & <chr> & <chr>\\\\\n",
       "\\hline\n",
       "\t1 & L1HS & chr1 & 103922066 & 103925398 & + & 3332 &  420 & 1334 & 96.831 &  915 & 29 &  0 &  1 &  915 &  103 & 1017 & ORF1 & null & ORF1     \\\\\n",
       "\t2 & L1HS & chr1 & 104770248 & 104776278 & - & 6030 &  907 & 1923 & 98.230 & 1017 & 18 &  0 &  1 & 1017 &    1 & 1017 & ORF1 & null & ORF1-ORF2\\\\\n",
       "\t3 & L1HS & chr1 & 104770248 & 104776278 & - & 6030 & 2281 & 5814 & 98.387 & 3534 & 57 &  0 &  1 & 3534 &  295 & 3828 & ORF2 & null & ORF1-ORF2\\\\\n",
       "\t4 & L1HS & chr1 & 104843834 & 104849864 & - & 6030 & 1986 & 5813 &     NA &   NA & NA & NA & NA &   NA &   NA &   NA & ORF2 & 2rd  & ORF2     \\\\\n",
       "\t5 & L1HS & chr1 & 113341608 & 113345790 & + & 4182 & 1150 & 3962 &     NA &   NA & NA & NA & NA &   NA &   NA &   NA & ORF2 & 2rd  & ORF2     \\\\\n",
       "\t6 & L1HS & chr1 & 113497221 & 113500000 & + & 2779 &  885 & 1901 & 97.837 & 1017 & 22 &  0 &  1 & 1017 &    1 & 1017 & ORF1 & null & ORF1-ORF2\\\\\n",
       "\t7 & L1HS & chr1 & 113497221 & 113500000 & + & 2779 & 1965 & 2777 & 98.893 &  813 &  9 &  0 &  1 &  813 &    1 &  813 & ORF2 & null & ORF1-ORF2\\\\\n",
       "\t8 & L1HS & chr1 & 113500001 & 113503257 & + & 3256 &  469 & 3012 & 98.153 & 2544 & 47 &  0 &  1 & 2544 & 1285 & 3828 & ORF2 & null & ORF2     \\\\\n",
       "\t9 & L1HS & chr1 & 116717925 & 116719731 & + & 1806 &   20 & 1588 & 98.853 & 1569 & 18 &  0 &  1 & 1569 & 2260 & 3828 & ORF2 & null & ORF2     \\\\\n",
       "\t10 & L1HS & chr1 & 118852352 & 118858380 & + & 6028 &  905 & 1921 & 98.132 & 1017 & 19 &  0 &  1 & 1017 &    1 & 1017 & ORF1 & null & ORF1-ORF2\\\\\n",
       "\t11 & L1HS & chr1 & 118852352 & 118858380 & + & 6028 & 1985 & 5812 & 98.485 & 3828 & 58 &  0 &  1 & 3828 &    1 & 3828 & ORF2 & null & ORF1-ORF2\\\\\n",
       "\t12 & L1HS & chr1 & 121532231 & 121538261 & - & 6030 &  907 & 1923 & 98.033 & 1017 & 20 &  0 &  1 & 1017 &    1 & 1017 & ORF1 & null & ORF1-ORF2\\\\\n",
       "\t13 & L1HS & chr1 & 121532231 & 121538261 & - & 6030 & 1987 & 5811 &     NA &   NA & NA & NA & NA &   NA &   NA &   NA & ORF2 & 3rd  & ORF1-ORF2\\\\\n",
       "\t14 & L1HS & chr1 & 121734419 & 121736567 & + & 2148 &  545 & 1930 & 97.114 & 1386 & 40 &  0 &  1 & 1386 & 2443 & 3828 & ORF2 & null & ORF2     \\\\\n",
       "\t15 & L1HS & chr1 & 146717193 & 146723218 & - & 6025 & 1987 & 5202 &     NA &   NA & NA & NA & NA &   NA &   NA &   NA & ORF2 & 2rd  & ORF2     \\\\\n",
       "\t16 & L1HS & chr1 & 152489882 & 152491692 & - & 1810 &   25 & 1593 & 98.407 & 1569 & 25 &  0 &  1 & 1569 & 2260 & 3828 & ORF2 & null & ORF2     \\\\\n",
       "\\end{tabular}\n"
      ],
      "text/markdown": [
       "\n",
       "A data.frame: 16 × 19\n",
       "\n",
       "| <!--/--> | subfamily &lt;chr&gt; | chromsome &lt;chr&gt; | start &lt;int&gt; | stop &lt;int&gt; | strand &lt;chr&gt; | Length &lt;int&gt; | orf.start &lt;int&gt; | orf.end &lt;chr&gt; | X.identity &lt;dbl&gt; | alignment.length &lt;int&gt; | mismatches &lt;int&gt; | gap.opens &lt;int&gt; | q.start &lt;int&gt; | q.end &lt;int&gt; | s.start &lt;int&gt; | s..end &lt;int&gt; | ORF &lt;chr&gt; | label &lt;chr&gt; | class &lt;chr&gt; |\n",
       "|---|---|---|---|---|---|---|---|---|---|---|---|---|---|---|---|---|---|---|---|\n",
       "| 1 | L1HS | chr1 | 103922066 | 103925398 | + | 3332 |  420 | 1334 | 96.831 |  915 | 29 |  0 |  1 |  915 |  103 | 1017 | ORF1 | null | ORF1      |\n",
       "| 2 | L1HS | chr1 | 104770248 | 104776278 | - | 6030 |  907 | 1923 | 98.230 | 1017 | 18 |  0 |  1 | 1017 |    1 | 1017 | ORF1 | null | ORF1-ORF2 |\n",
       "| 3 | L1HS | chr1 | 104770248 | 104776278 | - | 6030 | 2281 | 5814 | 98.387 | 3534 | 57 |  0 |  1 | 3534 |  295 | 3828 | ORF2 | null | ORF1-ORF2 |\n",
       "| 4 | L1HS | chr1 | 104843834 | 104849864 | - | 6030 | 1986 | 5813 |     NA |   NA | NA | NA | NA |   NA |   NA |   NA | ORF2 | 2rd  | ORF2      |\n",
       "| 5 | L1HS | chr1 | 113341608 | 113345790 | + | 4182 | 1150 | 3962 |     NA |   NA | NA | NA | NA |   NA |   NA |   NA | ORF2 | 2rd  | ORF2      |\n",
       "| 6 | L1HS | chr1 | 113497221 | 113500000 | + | 2779 |  885 | 1901 | 97.837 | 1017 | 22 |  0 |  1 | 1017 |    1 | 1017 | ORF1 | null | ORF1-ORF2 |\n",
       "| 7 | L1HS | chr1 | 113497221 | 113500000 | + | 2779 | 1965 | 2777 | 98.893 |  813 |  9 |  0 |  1 |  813 |    1 |  813 | ORF2 | null | ORF1-ORF2 |\n",
       "| 8 | L1HS | chr1 | 113500001 | 113503257 | + | 3256 |  469 | 3012 | 98.153 | 2544 | 47 |  0 |  1 | 2544 | 1285 | 3828 | ORF2 | null | ORF2      |\n",
       "| 9 | L1HS | chr1 | 116717925 | 116719731 | + | 1806 |   20 | 1588 | 98.853 | 1569 | 18 |  0 |  1 | 1569 | 2260 | 3828 | ORF2 | null | ORF2      |\n",
       "| 10 | L1HS | chr1 | 118852352 | 118858380 | + | 6028 |  905 | 1921 | 98.132 | 1017 | 19 |  0 |  1 | 1017 |    1 | 1017 | ORF1 | null | ORF1-ORF2 |\n",
       "| 11 | L1HS | chr1 | 118852352 | 118858380 | + | 6028 | 1985 | 5812 | 98.485 | 3828 | 58 |  0 |  1 | 3828 |    1 | 3828 | ORF2 | null | ORF1-ORF2 |\n",
       "| 12 | L1HS | chr1 | 121532231 | 121538261 | - | 6030 |  907 | 1923 | 98.033 | 1017 | 20 |  0 |  1 | 1017 |    1 | 1017 | ORF1 | null | ORF1-ORF2 |\n",
       "| 13 | L1HS | chr1 | 121532231 | 121538261 | - | 6030 | 1987 | 5811 |     NA |   NA | NA | NA | NA |   NA |   NA |   NA | ORF2 | 3rd  | ORF1-ORF2 |\n",
       "| 14 | L1HS | chr1 | 121734419 | 121736567 | + | 2148 |  545 | 1930 | 97.114 | 1386 | 40 |  0 |  1 | 1386 | 2443 | 3828 | ORF2 | null | ORF2      |\n",
       "| 15 | L1HS | chr1 | 146717193 | 146723218 | - | 6025 | 1987 | 5202 |     NA |   NA | NA | NA | NA |   NA |   NA |   NA | ORF2 | 2rd  | ORF2      |\n",
       "| 16 | L1HS | chr1 | 152489882 | 152491692 | - | 1810 |   25 | 1593 | 98.407 | 1569 | 25 |  0 |  1 | 1569 | 2260 | 3828 | ORF2 | null | ORF2      |\n",
       "\n"
      ],
      "text/plain": [
       "   subfamily chromsome start     stop      strand Length orf.start orf.end\n",
       "1  L1HS      chr1      103922066 103925398 +      3332    420      1334   \n",
       "2  L1HS      chr1      104770248 104776278 -      6030    907      1923   \n",
       "3  L1HS      chr1      104770248 104776278 -      6030   2281      5814   \n",
       "4  L1HS      chr1      104843834 104849864 -      6030   1986      5813   \n",
       "5  L1HS      chr1      113341608 113345790 +      4182   1150      3962   \n",
       "6  L1HS      chr1      113497221 113500000 +      2779    885      1901   \n",
       "7  L1HS      chr1      113497221 113500000 +      2779   1965      2777   \n",
       "8  L1HS      chr1      113500001 113503257 +      3256    469      3012   \n",
       "9  L1HS      chr1      116717925 116719731 +      1806     20      1588   \n",
       "10 L1HS      chr1      118852352 118858380 +      6028    905      1921   \n",
       "11 L1HS      chr1      118852352 118858380 +      6028   1985      5812   \n",
       "12 L1HS      chr1      121532231 121538261 -      6030    907      1923   \n",
       "13 L1HS      chr1      121532231 121538261 -      6030   1987      5811   \n",
       "14 L1HS      chr1      121734419 121736567 +      2148    545      1930   \n",
       "15 L1HS      chr1      146717193 146723218 -      6025   1987      5202   \n",
       "16 L1HS      chr1      152489882 152491692 -      1810     25      1593   \n",
       "   X.identity alignment.length mismatches gap.opens q.start q.end s.start\n",
       "1  96.831      915             29          0         1       915   103   \n",
       "2  98.230     1017             18          0         1      1017     1   \n",
       "3  98.387     3534             57          0         1      3534   295   \n",
       "4      NA       NA             NA         NA        NA        NA    NA   \n",
       "5      NA       NA             NA         NA        NA        NA    NA   \n",
       "6  97.837     1017             22          0         1      1017     1   \n",
       "7  98.893      813              9          0         1       813     1   \n",
       "8  98.153     2544             47          0         1      2544  1285   \n",
       "9  98.853     1569             18          0         1      1569  2260   \n",
       "10 98.132     1017             19          0         1      1017     1   \n",
       "11 98.485     3828             58          0         1      3828     1   \n",
       "12 98.033     1017             20          0         1      1017     1   \n",
       "13     NA       NA             NA         NA        NA        NA    NA   \n",
       "14 97.114     1386             40          0         1      1386  2443   \n",
       "15     NA       NA             NA         NA        NA        NA    NA   \n",
       "16 98.407     1569             25          0         1      1569  2260   \n",
       "   s..end ORF  label class    \n",
       "1  1017   ORF1 null  ORF1     \n",
       "2  1017   ORF1 null  ORF1-ORF2\n",
       "3  3828   ORF2 null  ORF1-ORF2\n",
       "4    NA   ORF2 2rd   ORF2     \n",
       "5    NA   ORF2 2rd   ORF2     \n",
       "6  1017   ORF1 null  ORF1-ORF2\n",
       "7   813   ORF2 null  ORF1-ORF2\n",
       "8  3828   ORF2 null  ORF2     \n",
       "9  3828   ORF2 null  ORF2     \n",
       "10 1017   ORF1 null  ORF1-ORF2\n",
       "11 3828   ORF2 null  ORF1-ORF2\n",
       "12 1017   ORF1 null  ORF1-ORF2\n",
       "13   NA   ORF2 3rd   ORF1-ORF2\n",
       "14 3828   ORF2 null  ORF2     \n",
       "15   NA   ORF2 2rd   ORF2     \n",
       "16 3828   ORF2 null  ORF2     "
      ]
     },
     "metadata": {},
     "output_type": "display_data"
    }
   ],
   "source": [
    "head(data_ext8,16) #12连续出现两次，说明是紧接着的重复2次"
   ]
  },
  {
   "cell_type": "code",
   "execution_count": 151,
   "id": "e45c6953-0e8b-484e-9b91-ee52b27d51ce",
   "metadata": {},
   "outputs": [
    {
     "data": {
      "text/html": [
       "<table class=\"dataframe\">\n",
       "<caption>A data.frame: 6 × 19</caption>\n",
       "<thead>\n",
       "\t<tr><th></th><th scope=col>subfamily</th><th scope=col>chromsome</th><th scope=col>start</th><th scope=col>stop</th><th scope=col>strand</th><th scope=col>Length</th><th scope=col>orf.start</th><th scope=col>orf.end</th><th scope=col>X.identity</th><th scope=col>alignment.length</th><th scope=col>mismatches</th><th scope=col>gap.opens</th><th scope=col>q.start</th><th scope=col>q.end</th><th scope=col>s.start</th><th scope=col>s..end</th><th scope=col>ORF</th><th scope=col>label</th><th scope=col>class</th></tr>\n",
       "\t<tr><th></th><th scope=col>&lt;chr&gt;</th><th scope=col>&lt;chr&gt;</th><th scope=col>&lt;int&gt;</th><th scope=col>&lt;int&gt;</th><th scope=col>&lt;chr&gt;</th><th scope=col>&lt;int&gt;</th><th scope=col>&lt;int&gt;</th><th scope=col>&lt;chr&gt;</th><th scope=col>&lt;dbl&gt;</th><th scope=col>&lt;int&gt;</th><th scope=col>&lt;int&gt;</th><th scope=col>&lt;int&gt;</th><th scope=col>&lt;int&gt;</th><th scope=col>&lt;int&gt;</th><th scope=col>&lt;int&gt;</th><th scope=col>&lt;int&gt;</th><th scope=col>&lt;chr&gt;</th><th scope=col>&lt;chr&gt;</th><th scope=col>&lt;chr&gt;</th></tr>\n",
       "</thead>\n",
       "<tbody>\n",
       "\t<tr><th scope=row>12170</th><td>L1PA8A </td><td>chrX </td><td> 34343977</td><td> 34346565</td><td>+</td><td>2588</td><td> 662</td><td>1465</td><td>86.667</td><td> 795</td><td>102</td><td>4</td><td>10</td><td> 802</td><td>2095</td><td>2887</td><td>ORF2</td><td>null</td><td>ORF2</td></tr>\n",
       "\t<tr><th scope=row>12171</th><td>L1PB1  </td><td>chr14</td><td> 51125216</td><td> 51127997</td><td>-</td><td>2781</td><td>  25</td><td>876 </td><td>79.343</td><td> 852</td><td>169</td><td>7</td><td> 1</td><td> 849</td><td>1285</td><td>2132</td><td>ORF2</td><td>null</td><td>ORF2</td></tr>\n",
       "\t<tr><th scope=row>12172</th><td>L1PB1  </td><td>chr2 </td><td>151471244</td><td>151473198</td><td>-</td><td>1954</td><td> 568</td><td>1953</td><td>93.290</td><td>1386</td><td> 93</td><td>0</td><td> 1</td><td>1386</td><td>1783</td><td>3168</td><td>ORF2</td><td>null</td><td>ORF2</td></tr>\n",
       "\t<tr><th scope=row>12173</th><td>L1PB4  </td><td>chr8 </td><td>118531004</td><td>118536089</td><td>-</td><td>5085</td><td>2881</td><td>3702</td><td>94.526</td><td> 822</td><td> 43</td><td>2</td><td> 1</td><td> 822</td><td> 773</td><td>1592</td><td>ORF2</td><td>null</td><td>ORF2</td></tr>\n",
       "\t<tr><th scope=row>12174</th><td>L1PREC2</td><td>chr3 </td><td>110671440</td><td>110676505</td><td>+</td><td>5065</td><td>2684</td><td>3754</td><td>91.511</td><td>1072</td><td> 90</td><td>1</td><td> 1</td><td>1071</td><td> 427</td><td>1498</td><td>ORF2</td><td>null</td><td>ORF2</td></tr>\n",
       "\t<tr><th scope=row>12175</th><td>L1PREC2</td><td>chrX </td><td> 74758417</td><td> 74760841</td><td>-</td><td>2424</td><td> 248</td><td>1057</td><td>83.106</td><td> 805</td><td>129</td><td>5</td><td> 1</td><td> 801</td><td>1837</td><td>2638</td><td>ORF2</td><td>null</td><td>null</td></tr>\n",
       "</tbody>\n",
       "</table>\n"
      ],
      "text/latex": [
       "A data.frame: 6 × 19\n",
       "\\begin{tabular}{r|lllllllllllllllllll}\n",
       "  & subfamily & chromsome & start & stop & strand & Length & orf.start & orf.end & X.identity & alignment.length & mismatches & gap.opens & q.start & q.end & s.start & s..end & ORF & label & class\\\\\n",
       "  & <chr> & <chr> & <int> & <int> & <chr> & <int> & <int> & <chr> & <dbl> & <int> & <int> & <int> & <int> & <int> & <int> & <int> & <chr> & <chr> & <chr>\\\\\n",
       "\\hline\n",
       "\t12170 & L1PA8A  & chrX  &  34343977 &  34346565 & + & 2588 &  662 & 1465 & 86.667 &  795 & 102 & 4 & 10 &  802 & 2095 & 2887 & ORF2 & null & ORF2\\\\\n",
       "\t12171 & L1PB1   & chr14 &  51125216 &  51127997 & - & 2781 &   25 & 876  & 79.343 &  852 & 169 & 7 &  1 &  849 & 1285 & 2132 & ORF2 & null & ORF2\\\\\n",
       "\t12172 & L1PB1   & chr2  & 151471244 & 151473198 & - & 1954 &  568 & 1953 & 93.290 & 1386 &  93 & 0 &  1 & 1386 & 1783 & 3168 & ORF2 & null & ORF2\\\\\n",
       "\t12173 & L1PB4   & chr8  & 118531004 & 118536089 & - & 5085 & 2881 & 3702 & 94.526 &  822 &  43 & 2 &  1 &  822 &  773 & 1592 & ORF2 & null & ORF2\\\\\n",
       "\t12174 & L1PREC2 & chr3  & 110671440 & 110676505 & + & 5065 & 2684 & 3754 & 91.511 & 1072 &  90 & 1 &  1 & 1071 &  427 & 1498 & ORF2 & null & ORF2\\\\\n",
       "\t12175 & L1PREC2 & chrX  &  74758417 &  74760841 & - & 2424 &  248 & 1057 & 83.106 &  805 & 129 & 5 &  1 &  801 & 1837 & 2638 & ORF2 & null & null\\\\\n",
       "\\end{tabular}\n"
      ],
      "text/markdown": [
       "\n",
       "A data.frame: 6 × 19\n",
       "\n",
       "| <!--/--> | subfamily &lt;chr&gt; | chromsome &lt;chr&gt; | start &lt;int&gt; | stop &lt;int&gt; | strand &lt;chr&gt; | Length &lt;int&gt; | orf.start &lt;int&gt; | orf.end &lt;chr&gt; | X.identity &lt;dbl&gt; | alignment.length &lt;int&gt; | mismatches &lt;int&gt; | gap.opens &lt;int&gt; | q.start &lt;int&gt; | q.end &lt;int&gt; | s.start &lt;int&gt; | s..end &lt;int&gt; | ORF &lt;chr&gt; | label &lt;chr&gt; | class &lt;chr&gt; |\n",
       "|---|---|---|---|---|---|---|---|---|---|---|---|---|---|---|---|---|---|---|---|\n",
       "| 12170 | L1PA8A  | chrX  |  34343977 |  34346565 | + | 2588 |  662 | 1465 | 86.667 |  795 | 102 | 4 | 10 |  802 | 2095 | 2887 | ORF2 | null | ORF2 |\n",
       "| 12171 | L1PB1   | chr14 |  51125216 |  51127997 | - | 2781 |   25 | 876  | 79.343 |  852 | 169 | 7 |  1 |  849 | 1285 | 2132 | ORF2 | null | ORF2 |\n",
       "| 12172 | L1PB1   | chr2  | 151471244 | 151473198 | - | 1954 |  568 | 1953 | 93.290 | 1386 |  93 | 0 |  1 | 1386 | 1783 | 3168 | ORF2 | null | ORF2 |\n",
       "| 12173 | L1PB4   | chr8  | 118531004 | 118536089 | - | 5085 | 2881 | 3702 | 94.526 |  822 |  43 | 2 |  1 |  822 |  773 | 1592 | ORF2 | null | ORF2 |\n",
       "| 12174 | L1PREC2 | chr3  | 110671440 | 110676505 | + | 5065 | 2684 | 3754 | 91.511 | 1072 |  90 | 1 |  1 | 1071 |  427 | 1498 | ORF2 | null | ORF2 |\n",
       "| 12175 | L1PREC2 | chrX  |  74758417 |  74760841 | - | 2424 |  248 | 1057 | 83.106 |  805 | 129 | 5 |  1 |  801 | 1837 | 2638 | ORF2 | null | null |\n",
       "\n"
      ],
      "text/plain": [
       "      subfamily chromsome start     stop      strand Length orf.start orf.end\n",
       "12170 L1PA8A    chrX       34343977  34346565 +      2588    662      1465   \n",
       "12171 L1PB1     chr14      51125216  51127997 -      2781     25      876    \n",
       "12172 L1PB1     chr2      151471244 151473198 -      1954    568      1953   \n",
       "12173 L1PB4     chr8      118531004 118536089 -      5085   2881      3702   \n",
       "12174 L1PREC2   chr3      110671440 110676505 +      5065   2684      3754   \n",
       "12175 L1PREC2   chrX       74758417  74760841 -      2424    248      1057   \n",
       "      X.identity alignment.length mismatches gap.opens q.start q.end s.start\n",
       "12170 86.667      795             102        4         10       802  2095   \n",
       "12171 79.343      852             169        7          1       849  1285   \n",
       "12172 93.290     1386              93        0          1      1386  1783   \n",
       "12173 94.526      822              43        2          1       822   773   \n",
       "12174 91.511     1072              90        1          1      1071   427   \n",
       "12175 83.106      805             129        5          1       801  1837   \n",
       "      s..end ORF  label class\n",
       "12170 2887   ORF2 null  ORF2 \n",
       "12171 2132   ORF2 null  ORF2 \n",
       "12172 3168   ORF2 null  ORF2 \n",
       "12173 1592   ORF2 null  ORF2 \n",
       "12174 1498   ORF2 null  ORF2 \n",
       "12175 2638   ORF2 null  null "
      ]
     },
     "metadata": {},
     "output_type": "display_data"
    }
   ],
   "source": [
    "tail(data_ext8)"
   ]
  },
  {
   "cell_type": "code",
   "execution_count": 42,
   "id": "efa3080c-2ad6-4d94-b5fe-5e46ee82a5d7",
   "metadata": {},
   "outputs": [
    {
     "data": {
      "text/html": [
       "<style>\n",
       ".list-inline {list-style: none; margin:0; padding: 0}\n",
       ".list-inline>li {display: inline-block}\n",
       ".list-inline>li:not(:last-child)::after {content: \"\\00b7\"; padding: 0 .5ex}\n",
       "</style>\n",
       "<ol class=list-inline><li>12320</li><li>19</li></ol>\n"
      ],
      "text/latex": [
       "\\begin{enumerate*}\n",
       "\\item 12320\n",
       "\\item 19\n",
       "\\end{enumerate*}\n"
      ],
      "text/markdown": [
       "1. 12320\n",
       "2. 19\n",
       "\n",
       "\n"
      ],
      "text/plain": [
       "[1] 12320    19"
      ]
     },
     "metadata": {},
     "output_type": "display_data"
    }
   ],
   "source": [
    "#dim(data_ext8) #before"
   ]
  },
  {
   "cell_type": "code",
   "execution_count": 152,
   "id": "210d0078-0398-453a-928b-3b474863e47a",
   "metadata": {},
   "outputs": [
    {
     "data": {
      "text/html": [
       "<style>\n",
       ".list-inline {list-style: none; margin:0; padding: 0}\n",
       ".list-inline>li {display: inline-block}\n",
       ".list-inline>li:not(:last-child)::after {content: \"\\00b7\"; padding: 0 .5ex}\n",
       "</style>\n",
       "<ol class=list-inline><li>12175</li><li>19</li></ol>\n"
      ],
      "text/latex": [
       "\\begin{enumerate*}\n",
       "\\item 12175\n",
       "\\item 19\n",
       "\\end{enumerate*}\n"
      ],
      "text/markdown": [
       "1. 12175\n",
       "2. 19\n",
       "\n",
       "\n"
      ],
      "text/plain": [
       "[1] 12175    19"
      ]
     },
     "metadata": {},
     "output_type": "display_data"
    }
   ],
   "source": [
    "dim(data_ext8)"
   ]
  },
  {
   "cell_type": "code",
   "execution_count": 153,
   "id": "c886fa92-dc9a-46b9-b2d4-b0afbd0e48eb",
   "metadata": {},
   "outputs": [],
   "source": [
    "data_ext8[12175,19]<-\"ORF2\""
   ]
  },
  {
   "cell_type": "code",
   "execution_count": 44,
   "id": "d0de28d2-96b0-4cb1-b362-0985057da120",
   "metadata": {},
   "outputs": [],
   "source": [
    "#暂时找不到原因，明天继续弄了；\n",
    "#前面是ORF1-ORF2，那么重复的一定是ORF2，不会是ORF1"
   ]
  },
  {
   "cell_type": "code",
   "execution_count": 45,
   "id": "46c27535-6aec-4ac2-acc0-55a0075a1e15",
   "metadata": {},
   "outputs": [
    {
     "data": {
      "text/plain": [
       "\n",
       "     ORF1 ORF1-ORF2      ORF2 \n",
       "      132      2175     10013 "
      ]
     },
     "metadata": {},
     "output_type": "display_data"
    }
   ],
   "source": [
    "#table(data_ext8$class) #before"
   ]
  },
  {
   "cell_type": "code",
   "execution_count": 154,
   "id": "e418d485-9d50-493f-8ff4-70eda3b23b95",
   "metadata": {},
   "outputs": [
    {
     "data": {
      "text/plain": [
       "\n",
       "     ORF1 ORF1-ORF2      ORF2 \n",
       "      132      2030     10013 "
      ]
     },
     "metadata": {},
     "output_type": "display_data"
    }
   ],
   "source": [
    "table(data_ext8$class) #这样就对了"
   ]
  },
  {
   "cell_type": "code",
   "execution_count": 84,
   "id": "dcb326a4-b575-4f42-ba70-210551c2b5c5",
   "metadata": {},
   "outputs": [
    {
     "data": {
      "text/html": [
       "9868"
      ],
      "text/latex": [
       "9868"
      ],
      "text/markdown": [
       "9868"
      ],
      "text/plain": [
       "[1] 9868"
      ]
     },
     "metadata": {},
     "output_type": "display_data"
    }
   ],
   "source": [
    "12320-(132+1160+1160) #9868是ORF2的真实的片段的数目；"
   ]
  },
  {
   "cell_type": "code",
   "execution_count": 155,
   "id": "712f4690-89f3-449a-a544-7dcb73b05be9",
   "metadata": {},
   "outputs": [
    {
     "data": {
      "text/html": [
       "12175"
      ],
      "text/latex": [
       "12175"
      ],
      "text/markdown": [
       "12175"
      ],
      "text/plain": [
       "[1] 12175"
      ]
     },
     "metadata": {},
     "output_type": "display_data"
    }
   ],
   "source": [
    "2030+132+10013 #这样就对了，一点点小小的区别，就会导致结果的差异；"
   ]
  },
  {
   "cell_type": "code",
   "execution_count": 158,
   "id": "e6131e47-efcd-405c-adab-953f603186f8",
   "metadata": {},
   "outputs": [
    {
     "data": {
      "text/html": [
       "<table class=\"dataframe\">\n",
       "<caption>A data.frame: 2030 × 19</caption>\n",
       "<thead>\n",
       "\t<tr><th></th><th scope=col>subfamily</th><th scope=col>chromsome</th><th scope=col>start</th><th scope=col>stop</th><th scope=col>strand</th><th scope=col>Length</th><th scope=col>orf.start</th><th scope=col>orf.end</th><th scope=col>X.identity</th><th scope=col>alignment.length</th><th scope=col>mismatches</th><th scope=col>gap.opens</th><th scope=col>q.start</th><th scope=col>q.end</th><th scope=col>s.start</th><th scope=col>s..end</th><th scope=col>ORF</th><th scope=col>label</th><th scope=col>class</th></tr>\n",
       "\t<tr><th></th><th scope=col>&lt;chr&gt;</th><th scope=col>&lt;chr&gt;</th><th scope=col>&lt;int&gt;</th><th scope=col>&lt;int&gt;</th><th scope=col>&lt;chr&gt;</th><th scope=col>&lt;int&gt;</th><th scope=col>&lt;int&gt;</th><th scope=col>&lt;chr&gt;</th><th scope=col>&lt;dbl&gt;</th><th scope=col>&lt;int&gt;</th><th scope=col>&lt;int&gt;</th><th scope=col>&lt;int&gt;</th><th scope=col>&lt;int&gt;</th><th scope=col>&lt;int&gt;</th><th scope=col>&lt;int&gt;</th><th scope=col>&lt;int&gt;</th><th scope=col>&lt;chr&gt;</th><th scope=col>&lt;chr&gt;</th><th scope=col>&lt;chr&gt;</th></tr>\n",
       "</thead>\n",
       "<tbody>\n",
       "\t<tr><th scope=row>2</th><td>L1HS</td><td>chr1</td><td>104770248</td><td>104776278</td><td>-</td><td>6030</td><td> 907</td><td>1923</td><td>98.230</td><td>1017</td><td>18</td><td> 0</td><td> 1</td><td>1017</td><td>  1</td><td>1017</td><td>ORF1</td><td>null</td><td>ORF1-ORF2</td></tr>\n",
       "\t<tr><th scope=row>3</th><td>L1HS</td><td>chr1</td><td>104770248</td><td>104776278</td><td>-</td><td>6030</td><td>2281</td><td>5814</td><td>98.387</td><td>3534</td><td>57</td><td> 0</td><td> 1</td><td>3534</td><td>295</td><td>3828</td><td>ORF2</td><td>null</td><td>ORF1-ORF2</td></tr>\n",
       "\t<tr><th scope=row>6</th><td>L1HS</td><td>chr1</td><td>113497221</td><td>113500000</td><td>+</td><td>2779</td><td> 885</td><td>1901</td><td>97.837</td><td>1017</td><td>22</td><td> 0</td><td> 1</td><td>1017</td><td>  1</td><td>1017</td><td>ORF1</td><td>null</td><td>ORF1-ORF2</td></tr>\n",
       "\t<tr><th scope=row>7</th><td>L1HS</td><td>chr1</td><td>113497221</td><td>113500000</td><td>+</td><td>2779</td><td>1965</td><td>2777</td><td>98.893</td><td> 813</td><td> 9</td><td> 0</td><td> 1</td><td> 813</td><td>  1</td><td> 813</td><td>ORF2</td><td>null</td><td>ORF1-ORF2</td></tr>\n",
       "\t<tr><th scope=row>10</th><td>L1HS</td><td>chr1</td><td>118852352</td><td>118858380</td><td>+</td><td>6028</td><td> 905</td><td>1921</td><td>98.132</td><td>1017</td><td>19</td><td> 0</td><td> 1</td><td>1017</td><td>  1</td><td>1017</td><td>ORF1</td><td>null</td><td>ORF1-ORF2</td></tr>\n",
       "\t<tr><th scope=row>11</th><td>L1HS</td><td>chr1</td><td>118852352</td><td>118858380</td><td>+</td><td>6028</td><td>1985</td><td>5812</td><td>98.485</td><td>3828</td><td>58</td><td> 0</td><td> 1</td><td>3828</td><td>  1</td><td>3828</td><td>ORF2</td><td>null</td><td>ORF1-ORF2</td></tr>\n",
       "\t<tr><th scope=row>12</th><td>L1HS</td><td>chr1</td><td>121532231</td><td>121538261</td><td>-</td><td>6030</td><td> 907</td><td>1923</td><td>98.033</td><td>1017</td><td>20</td><td> 0</td><td> 1</td><td>1017</td><td>  1</td><td>1017</td><td>ORF1</td><td>null</td><td>ORF1-ORF2</td></tr>\n",
       "\t<tr><th scope=row>13</th><td>L1HS</td><td>chr1</td><td>121532231</td><td>121538261</td><td>-</td><td>6030</td><td>1987</td><td>5811</td><td>    NA</td><td>  NA</td><td>NA</td><td>NA</td><td>NA</td><td>  NA</td><td> NA</td><td>  NA</td><td>ORF2</td><td>3rd </td><td>ORF1-ORF2</td></tr>\n",
       "\t<tr><th scope=row>19</th><td>L1HS</td><td>chr1</td><td>174590324</td><td>174596379</td><td>-</td><td>6055</td><td> 905</td><td>1921</td><td>98.132</td><td>1017</td><td>19</td><td> 0</td><td> 1</td><td>1017</td><td>  1</td><td>1017</td><td>ORF1</td><td>null</td><td>ORF1-ORF2</td></tr>\n",
       "\t<tr><th scope=row>20</th><td>L1HS</td><td>chr1</td><td>174590324</td><td>174596379</td><td>-</td><td>6055</td><td>1985</td><td>5812</td><td>98.459</td><td>3828</td><td>59</td><td> 0</td><td> 1</td><td>3828</td><td>  1</td><td>3828</td><td>ORF2</td><td>null</td><td>ORF1-ORF2</td></tr>\n",
       "\t<tr><th scope=row>24</th><td>L1HS</td><td>chr1</td><td>180866812</td><td>180872843</td><td>-</td><td>6031</td><td> 907</td><td>1923</td><td>98.033</td><td>1017</td><td>20</td><td> 0</td><td> 1</td><td>1017</td><td>  1</td><td>1017</td><td>ORF1</td><td>null</td><td>ORF1-ORF2</td></tr>\n",
       "\t<tr><th scope=row>25</th><td>L1HS</td><td>chr1</td><td>180866812</td><td>180872843</td><td>-</td><td>6031</td><td>1987</td><td>5895</td><td>98.379</td><td>3825</td><td>62</td><td> 0</td><td> 1</td><td>3825</td><td>  1</td><td>3825</td><td>ORF2</td><td>null</td><td>ORF1-ORF2</td></tr>\n",
       "\t<tr><th scope=row>27</th><td>L1HS</td><td>chr1</td><td>187343765</td><td>187349794</td><td>-</td><td>6029</td><td> 905</td><td>1921</td><td>98.033</td><td>1017</td><td>20</td><td> 0</td><td> 1</td><td>1017</td><td>  1</td><td>1017</td><td>ORF1</td><td>null</td><td>ORF1-ORF2</td></tr>\n",
       "\t<tr><th scope=row>28</th><td>L1HS</td><td>chr1</td><td>187343765</td><td>187349794</td><td>-</td><td>6029</td><td>1985</td><td>5812</td><td>98.380</td><td>3828</td><td>62</td><td> 0</td><td> 1</td><td>3828</td><td>  1</td><td>3828</td><td>ORF2</td><td>null</td><td>ORF1-ORF2</td></tr>\n",
       "\t<tr><th scope=row>29</th><td>L1HS</td><td>chr1</td><td>187597672</td><td>187603699</td><td>+</td><td>6027</td><td> 902</td><td>1918</td><td>97.738</td><td>1017</td><td>23</td><td> 0</td><td> 1</td><td>1017</td><td>  1</td><td>1017</td><td>ORF1</td><td>null</td><td>ORF1-ORF2</td></tr>\n",
       "\t<tr><th scope=row>30</th><td>L1HS</td><td>chr1</td><td>187597672</td><td>187603699</td><td>+</td><td>6027</td><td>1982</td><td>5809</td><td>98.537</td><td>3828</td><td>56</td><td> 0</td><td> 1</td><td>3828</td><td>  1</td><td>3828</td><td>ORF2</td><td>null</td><td>ORF1-ORF2</td></tr>\n",
       "\t<tr><th scope=row>32</th><td>L1HS</td><td>chr1</td><td>193717838</td><td>193723892</td><td>-</td><td>6054</td><td> 905</td><td>1921</td><td>98.132</td><td>1017</td><td>19</td><td> 0</td><td> 1</td><td>1017</td><td>  1</td><td>1017</td><td>ORF1</td><td>null</td><td>ORF1-ORF2</td></tr>\n",
       "\t<tr><th scope=row>33</th><td>L1HS</td><td>chr1</td><td>193717838</td><td>193723892</td><td>-</td><td>6054</td><td>2780</td><td>5811</td><td>    NA</td><td>  NA</td><td>NA</td><td>NA</td><td>NA</td><td>  NA</td><td> NA</td><td>  NA</td><td>ORF2</td><td>2rd </td><td>ORF1-ORF2</td></tr>\n",
       "\t<tr><th scope=row>35</th><td>L1HS</td><td>chr1</td><td>196219371</td><td>196225402</td><td>-</td><td>6031</td><td> 907</td><td>1923</td><td>97.738</td><td>1017</td><td>23</td><td> 0</td><td> 1</td><td>1017</td><td>  1</td><td>1017</td><td>ORF1</td><td>null</td><td>ORF1-ORF2</td></tr>\n",
       "\t<tr><th scope=row>36</th><td>L1HS</td><td>chr1</td><td>196219371</td><td>196225402</td><td>-</td><td>6031</td><td>1987</td><td>5814</td><td>    NA</td><td>  NA</td><td>NA</td><td>NA</td><td>NA</td><td>  NA</td><td> NA</td><td>  NA</td><td>ORF2</td><td>2rd </td><td>ORF1-ORF2</td></tr>\n",
       "\t<tr><th scope=row>38</th><td>L1HS</td><td>chr1</td><td>197707715</td><td>197713746</td><td>+</td><td>6031</td><td> 906</td><td>1922</td><td>98.033</td><td>1017</td><td>20</td><td> 0</td><td> 1</td><td>1017</td><td>  1</td><td>1017</td><td>ORF1</td><td>null</td><td>ORF1-ORF2</td></tr>\n",
       "\t<tr><th scope=row>39</th><td>L1HS</td><td>chr1</td><td>197707715</td><td>197713746</td><td>+</td><td>6031</td><td>1986</td><td>5553</td><td>    NA</td><td>  NA</td><td>NA</td><td>NA</td><td>NA</td><td>  NA</td><td> NA</td><td>  NA</td><td>ORF2</td><td>2rd </td><td>ORF1-ORF2</td></tr>\n",
       "\t<tr><th scope=row>41</th><td>L1HS</td><td>chr1</td><td>209913772</td><td>209919823</td><td>-</td><td>6051</td><td> 906</td><td>1922</td><td>97.738</td><td>1017</td><td>23</td><td> 0</td><td> 1</td><td>1017</td><td>  1</td><td>1017</td><td>ORF1</td><td>null</td><td>ORF1-ORF2</td></tr>\n",
       "\t<tr><th scope=row>42</th><td>L1HS</td><td>chr1</td><td>209913772</td><td>209919823</td><td>-</td><td>6051</td><td>1986</td><td>5813</td><td>98.328</td><td>3828</td><td>64</td><td> 0</td><td> 1</td><td>3828</td><td>  1</td><td>3828</td><td>ORF2</td><td>null</td><td>ORF1-ORF2</td></tr>\n",
       "\t<tr><th scope=row>44</th><td>L1HS</td><td>chr1</td><td>218009228</td><td>218015252</td><td>-</td><td>6024</td><td> 905</td><td>1921</td><td>97.935</td><td>1017</td><td>21</td><td> 0</td><td> 1</td><td>1017</td><td>  1</td><td>1017</td><td>ORF1</td><td>null</td><td>ORF1-ORF2</td></tr>\n",
       "\t<tr><th scope=row>45</th><td>L1HS</td><td>chr1</td><td>218009228</td><td>218015252</td><td>-</td><td>6024</td><td>1985</td><td>4171</td><td>98.307</td><td>2185</td><td>37</td><td> 0</td><td> 1</td><td>2185</td><td>  1</td><td>2185</td><td>ORF2</td><td>null</td><td>ORF1-ORF2</td></tr>\n",
       "\t<tr><th scope=row>49</th><td>L1HS</td><td>chr1</td><td>237019468</td><td>237025494</td><td>-</td><td>6026</td><td> 904</td><td>1920</td><td>98.033</td><td>1017</td><td>20</td><td> 0</td><td> 1</td><td>1017</td><td>  1</td><td>1017</td><td>ORF1</td><td>null</td><td>ORF1-ORF2</td></tr>\n",
       "\t<tr><th scope=row>50</th><td>L1HS</td><td>chr1</td><td>237019468</td><td>237025494</td><td>-</td><td>6026</td><td>1985</td><td>5812</td><td>98.563</td><td>3828</td><td>55</td><td> 0</td><td> 1</td><td>3828</td><td>  1</td><td>3828</td><td>ORF2</td><td>null</td><td>ORF1-ORF2</td></tr>\n",
       "\t<tr><th scope=row>52</th><td>L1HS</td><td>chr1</td><td>239623499</td><td>239629523</td><td>-</td><td>6024</td><td>1003</td><td>1917</td><td>97.705</td><td> 915</td><td>21</td><td> 0</td><td> 1</td><td> 915</td><td>103</td><td>1017</td><td>ORF1</td><td>null</td><td>ORF1-ORF2</td></tr>\n",
       "\t<tr><th scope=row>53</th><td>L1HS</td><td>chr1</td><td>239623499</td><td>239629523</td><td>-</td><td>6024</td><td>1981</td><td>5808</td><td>98.433</td><td>3828</td><td>60</td><td> 0</td><td> 1</td><td>3828</td><td>  1</td><td>3828</td><td>ORF2</td><td>null</td><td>ORF1-ORF2</td></tr>\n",
       "\t<tr><th scope=row>⋮</th><td>⋮</td><td>⋮</td><td>⋮</td><td>⋮</td><td>⋮</td><td>⋮</td><td>⋮</td><td>⋮</td><td>⋮</td><td>⋮</td><td>⋮</td><td>⋮</td><td>⋮</td><td>⋮</td><td>⋮</td><td>⋮</td><td>⋮</td><td>⋮</td><td>⋮</td></tr>\n",
       "\t<tr><th scope=row>10905</th><td>L1PA5</td><td>chr9 </td><td>105563176</td><td>105569299</td><td>+</td><td>6123</td><td>1015</td><td>2031</td><td>91.378</td><td>1009</td><td> 87</td><td> 0</td><td>  1</td><td>1009</td><td>   1</td><td>1009</td><td>ORF1</td><td>null</td><td>ORF1-ORF2</td></tr>\n",
       "\t<tr><th scope=row>10906</th><td>L1PA5</td><td>chr9 </td><td>105563176</td><td>105569299</td><td>+</td><td>6123</td><td>2095</td><td>3336</td><td>94.359</td><td>1241</td><td> 70</td><td> 0</td><td>  1</td><td>1241</td><td>   1</td><td>1241</td><td>ORF2</td><td>null</td><td>ORF1-ORF2</td></tr>\n",
       "\t<tr><th scope=row>11002</th><td>L1PA5</td><td>chrX </td><td>138455845</td><td>138461988</td><td>+</td><td>6143</td><td>1025</td><td>2098</td><td>91.650</td><td>1018</td><td> 84</td><td> 1</td><td>  1</td><td>1018</td><td>   1</td><td>1017</td><td>ORF1</td><td>null</td><td>ORF1-ORF2</td></tr>\n",
       "\t<tr><th scope=row>11003</th><td>L1PA5</td><td>chrX </td><td>138455845</td><td>138461988</td><td>+</td><td>6143</td><td>2532</td><td>4801</td><td>    NA</td><td>  NA</td><td> NA</td><td>NA</td><td> NA</td><td>  NA</td><td>  NA</td><td>  NA</td><td>ORF2</td><td>2rd </td><td>ORF1-ORF2</td></tr>\n",
       "\t<tr><th scope=row>11032</th><td>L1PA5</td><td>chrX </td><td> 20771375</td><td> 20777325</td><td>+</td><td>5950</td><td> 822</td><td>1673</td><td>87.309</td><td> 851</td><td> 97</td><td> 6</td><td>  1</td><td> 850</td><td>   1</td><td> 841</td><td>ORF1</td><td>null</td><td>ORF1-ORF2</td></tr>\n",
       "\t<tr><th scope=row>11033</th><td>L1PA5</td><td>chrX </td><td> 20771375</td><td> 20777325</td><td>+</td><td>5950</td><td>4169</td><td>5125</td><td>93.298</td><td> 955</td><td> 60</td><td> 1</td><td>  1</td><td> 951</td><td>2260</td><td>3214</td><td>ORF2</td><td>null</td><td>ORF1-ORF2</td></tr>\n",
       "\t<tr><th scope=row>11091</th><td>L1PA5</td><td>chrX </td><td> 77470642</td><td> 77476783</td><td>+</td><td>6141</td><td> 771</td><td>2033</td><td>89.577</td><td>1017</td><td>106</td><td> 0</td><td>247</td><td>1263</td><td>   1</td><td>1017</td><td>ORF1</td><td>null</td><td>ORF1-ORF2</td></tr>\n",
       "\t<tr><th scope=row>11092</th><td>L1PA5</td><td>chrX </td><td> 77470642</td><td> 77476783</td><td>+</td><td>6141</td><td>2097</td><td>5317</td><td>    NA</td><td>  NA</td><td> NA</td><td>NA</td><td> NA</td><td>  NA</td><td>  NA</td><td>  NA</td><td>ORF2</td><td>2rd </td><td>ORF1-ORF2</td></tr>\n",
       "\t<tr><th scope=row>11138</th><td>L1PA6</td><td>chr1 </td><td>173811695</td><td>173816857</td><td>+</td><td>5162</td><td>1017</td><td>2039</td><td>86.842</td><td>1026</td><td>123</td><td> 6</td><td>  1</td><td>1023</td><td>   1</td><td>1017</td><td>ORF1</td><td>null</td><td>ORF1-ORF2</td></tr>\n",
       "\t<tr><th scope=row>11139</th><td>L1PA6</td><td>chr1 </td><td>173811695</td><td>173816857</td><td>+</td><td>5162</td><td>2443</td><td>3243</td><td>91.343</td><td> 797</td><td> 67</td><td> 2</td><td>  5</td><td> 801</td><td> 338</td><td>1132</td><td>ORF2</td><td>null</td><td>ORF1-ORF2</td></tr>\n",
       "\t<tr><th scope=row>11153</th><td>L1PA6</td><td>chr1 </td><td>210953900</td><td>210960045</td><td>-</td><td>6145</td><td>1008</td><td>1871</td><td>85.155</td><td> 869</td><td>114</td><td> 7</td><td>  1</td><td> 864</td><td>   1</td><td> 859</td><td>ORF1</td><td>null</td><td>ORF1-ORF2</td></tr>\n",
       "\t<tr><th scope=row>11154</th><td>L1PA6</td><td>chr1 </td><td>210953900</td><td>210960045</td><td>-</td><td>6145</td><td>3808</td><td>4794</td><td>92.269</td><td> 983</td><td> 76</td><td> 0</td><td>  1</td><td> 983</td><td>1708</td><td>2690</td><td>ORF2</td><td>null</td><td>ORF1-ORF2</td></tr>\n",
       "\t<tr><th scope=row>11195</th><td>L1PA6</td><td>chr10</td><td> 61002941</td><td> 61009034</td><td>-</td><td>6093</td><td>1312</td><td>2190</td><td>89.037</td><td> 748</td><td> 81</td><td> 1</td><td>  1</td><td> 748</td><td> 271</td><td>1017</td><td>ORF1</td><td>null</td><td>ORF1-ORF2</td></tr>\n",
       "\t<tr><th scope=row>11196</th><td>L1PA6</td><td>chr10</td><td> 61002941</td><td> 61009034</td><td>-</td><td>6093</td><td>1312</td><td>2190</td><td>88.235</td><td>  68</td><td>  8</td><td> 0</td><td>812</td><td> 879</td><td>   1</td><td>  68</td><td>ORF2</td><td>null</td><td>ORF1-ORF2</td></tr>\n",
       "\t<tr><th scope=row>11344</th><td>L1PA6</td><td>chr2 </td><td>135380868</td><td>135387000</td><td>+</td><td>6132</td><td>1018</td><td>2031</td><td>91.197</td><td>1011</td><td> 86</td><td> 1</td><td>  1</td><td>1008</td><td>   1</td><td>1011</td><td>ORF1</td><td>null</td><td>ORF1-ORF2</td></tr>\n",
       "\t<tr><th scope=row>11345</th><td>L1PA6</td><td>chr2 </td><td>135380868</td><td>135387000</td><td>+</td><td>6132</td><td>2526</td><td>4738</td><td>    NA</td><td>  NA</td><td> NA</td><td>NA</td><td> NA</td><td>  NA</td><td>  NA</td><td>  NA</td><td>ORF2</td><td>2rd </td><td>ORF1-ORF2</td></tr>\n",
       "\t<tr><th scope=row>11358</th><td>L1PA6</td><td>chr2 </td><td>191092577</td><td>191098769</td><td>+</td><td>6192</td><td>1325</td><td>2203</td><td>89.892</td><td> 742</td><td> 72</td><td> 3</td><td>  6</td><td> 746</td><td> 276</td><td>1015</td><td>ORF1</td><td>null</td><td>ORF1-ORF2</td></tr>\n",
       "\t<tr><th scope=row>11359</th><td>L1PA6</td><td>chr2 </td><td>191092577</td><td>191098769</td><td>+</td><td>6192</td><td>2332</td><td>3294</td><td>90.966</td><td> 952</td><td> 60</td><td>14</td><td> 18</td><td> 963</td><td> 201</td><td>1132</td><td>ORF2</td><td>null</td><td>ORF1-ORF2</td></tr>\n",
       "\t<tr><th scope=row>11367</th><td>L1PA6</td><td>chr2 </td><td> 47973524</td><td> 47979858</td><td>+</td><td>6334</td><td>2437</td><td>3240</td><td>94.737</td><td>  38</td><td>  2</td><td> 0</td><td>767</td><td> 804</td><td> 699</td><td> 662</td><td>ORF1</td><td>null</td><td>ORF1-ORF2</td></tr>\n",
       "\t<tr><th scope=row>11368</th><td>L1PA6</td><td>chr2 </td><td> 47973524</td><td> 47979858</td><td>+</td><td>6334</td><td>2437</td><td>3240</td><td>91.678</td><td> 709</td><td> 59</td><td> 0</td><td>  1</td><td> 709</td><td> 310</td><td>1018</td><td>ORF2</td><td>null</td><td>ORF1-ORF2</td></tr>\n",
       "\t<tr><th scope=row>11624</th><td>L1PA6</td><td>chr8 </td><td> 93774363</td><td> 93780507</td><td>-</td><td>6144</td><td>1025</td><td>1891</td><td>85.616</td><td> 869</td><td>113</td><td> 7</td><td>  1</td><td> 867</td><td>   1</td><td> 859</td><td>ORF1</td><td>null</td><td>ORF1-ORF2</td></tr>\n",
       "\t<tr><th scope=row>11625</th><td>L1PA6</td><td>chr8 </td><td> 93774363</td><td> 93780507</td><td>-</td><td>6144</td><td>2225</td><td>5258</td><td>    NA</td><td>  NA</td><td> NA</td><td>NA</td><td> NA</td><td>  NA</td><td>  NA</td><td>  NA</td><td>ORF2</td><td>2rd </td><td>ORF1-ORF2</td></tr>\n",
       "\t<tr><th scope=row>11895</th><td>L1PA7</td><td>chr3 </td><td> 27815984</td><td> 27821983</td><td>-</td><td>5999</td><td> 906</td><td>1922</td><td>96.853</td><td>1017</td><td> 32</td><td> 0</td><td>  1</td><td>1017</td><td>   1</td><td>1017</td><td>ORF1</td><td>null</td><td>ORF1-ORF2</td></tr>\n",
       "\t<tr><th scope=row>11896</th><td>L1PA7</td><td>chr3 </td><td> 27815984</td><td> 27821983</td><td>-</td><td>5999</td><td>2407</td><td>5017</td><td>    NA</td><td>  NA</td><td> NA</td><td>NA</td><td> NA</td><td>  NA</td><td>  NA</td><td>  NA</td><td>ORF2</td><td>2rd </td><td>ORF1-ORF2</td></tr>\n",
       "\t<tr><th scope=row>11930</th><td>L1PA7</td><td>chr4 </td><td>  3160921</td><td>  3167073</td><td>-</td><td>6152</td><td>1034</td><td>1849</td><td>83.111</td><td> 823</td><td>116</td><td> 7</td><td>  4</td><td> 813</td><td>   1</td><td> 813</td><td>ORF1</td><td>null</td><td>ORF1-ORF2</td></tr>\n",
       "\t<tr><th scope=row>11931</th><td>L1PA7</td><td>chr4 </td><td>  3160921</td><td>  3167073</td><td>-</td><td>6152</td><td>2308</td><td>5935</td><td>    NA</td><td>  NA</td><td> NA</td><td>NA</td><td> NA</td><td>  NA</td><td>  NA</td><td>  NA</td><td>ORF2</td><td>2rd </td><td>ORF1-ORF2</td></tr>\n",
       "\t<tr><th scope=row>12010</th><td>L1PA7</td><td>chr7 </td><td> 70838050</td><td> 70844315</td><td>+</td><td>6265</td><td> 908</td><td>2023</td><td>83.314</td><td> 869</td><td>130</td><td> 8</td><td>253</td><td>1116</td><td>   1</td><td> 859</td><td>ORF1</td><td>null</td><td>ORF1-ORF2</td></tr>\n",
       "\t<tr><th scope=row>12011</th><td>L1PA7</td><td>chr7 </td><td> 70838050</td><td> 70844315</td><td>+</td><td>6265</td><td>3849</td><td>4649</td><td>90.640</td><td> 812</td><td> 60</td><td>12</td><td>  1</td><td> 801</td><td>1616</td><td>2422</td><td>ORF2</td><td>null</td><td>ORF1-ORF2</td></tr>\n",
       "\t<tr><th scope=row>12031</th><td>L1PA7</td><td>chr9 </td><td>113437561</td><td>113443590</td><td>-</td><td>6029</td><td> 906</td><td>1919</td><td>97.640</td><td>1017</td><td> 21</td><td> 1</td><td>  1</td><td>1014</td><td>   1</td><td>1017</td><td>ORF1</td><td>null</td><td>ORF1-ORF2</td></tr>\n",
       "\t<tr><th scope=row>12032</th><td>L1PA7</td><td>chr9 </td><td>113437561</td><td>113443590</td><td>-</td><td>6029</td><td>1983</td><td>4646</td><td>    NA</td><td>  NA</td><td> NA</td><td>NA</td><td> NA</td><td>  NA</td><td>  NA</td><td>  NA</td><td>ORF2</td><td>2rd </td><td>ORF1-ORF2</td></tr>\n",
       "</tbody>\n",
       "</table>\n"
      ],
      "text/latex": [
       "A data.frame: 2030 × 19\n",
       "\\begin{tabular}{r|lllllllllllllllllll}\n",
       "  & subfamily & chromsome & start & stop & strand & Length & orf.start & orf.end & X.identity & alignment.length & mismatches & gap.opens & q.start & q.end & s.start & s..end & ORF & label & class\\\\\n",
       "  & <chr> & <chr> & <int> & <int> & <chr> & <int> & <int> & <chr> & <dbl> & <int> & <int> & <int> & <int> & <int> & <int> & <int> & <chr> & <chr> & <chr>\\\\\n",
       "\\hline\n",
       "\t2 & L1HS & chr1 & 104770248 & 104776278 & - & 6030 &  907 & 1923 & 98.230 & 1017 & 18 &  0 &  1 & 1017 &   1 & 1017 & ORF1 & null & ORF1-ORF2\\\\\n",
       "\t3 & L1HS & chr1 & 104770248 & 104776278 & - & 6030 & 2281 & 5814 & 98.387 & 3534 & 57 &  0 &  1 & 3534 & 295 & 3828 & ORF2 & null & ORF1-ORF2\\\\\n",
       "\t6 & L1HS & chr1 & 113497221 & 113500000 & + & 2779 &  885 & 1901 & 97.837 & 1017 & 22 &  0 &  1 & 1017 &   1 & 1017 & ORF1 & null & ORF1-ORF2\\\\\n",
       "\t7 & L1HS & chr1 & 113497221 & 113500000 & + & 2779 & 1965 & 2777 & 98.893 &  813 &  9 &  0 &  1 &  813 &   1 &  813 & ORF2 & null & ORF1-ORF2\\\\\n",
       "\t10 & L1HS & chr1 & 118852352 & 118858380 & + & 6028 &  905 & 1921 & 98.132 & 1017 & 19 &  0 &  1 & 1017 &   1 & 1017 & ORF1 & null & ORF1-ORF2\\\\\n",
       "\t11 & L1HS & chr1 & 118852352 & 118858380 & + & 6028 & 1985 & 5812 & 98.485 & 3828 & 58 &  0 &  1 & 3828 &   1 & 3828 & ORF2 & null & ORF1-ORF2\\\\\n",
       "\t12 & L1HS & chr1 & 121532231 & 121538261 & - & 6030 &  907 & 1923 & 98.033 & 1017 & 20 &  0 &  1 & 1017 &   1 & 1017 & ORF1 & null & ORF1-ORF2\\\\\n",
       "\t13 & L1HS & chr1 & 121532231 & 121538261 & - & 6030 & 1987 & 5811 &     NA &   NA & NA & NA & NA &   NA &  NA &   NA & ORF2 & 3rd  & ORF1-ORF2\\\\\n",
       "\t19 & L1HS & chr1 & 174590324 & 174596379 & - & 6055 &  905 & 1921 & 98.132 & 1017 & 19 &  0 &  1 & 1017 &   1 & 1017 & ORF1 & null & ORF1-ORF2\\\\\n",
       "\t20 & L1HS & chr1 & 174590324 & 174596379 & - & 6055 & 1985 & 5812 & 98.459 & 3828 & 59 &  0 &  1 & 3828 &   1 & 3828 & ORF2 & null & ORF1-ORF2\\\\\n",
       "\t24 & L1HS & chr1 & 180866812 & 180872843 & - & 6031 &  907 & 1923 & 98.033 & 1017 & 20 &  0 &  1 & 1017 &   1 & 1017 & ORF1 & null & ORF1-ORF2\\\\\n",
       "\t25 & L1HS & chr1 & 180866812 & 180872843 & - & 6031 & 1987 & 5895 & 98.379 & 3825 & 62 &  0 &  1 & 3825 &   1 & 3825 & ORF2 & null & ORF1-ORF2\\\\\n",
       "\t27 & L1HS & chr1 & 187343765 & 187349794 & - & 6029 &  905 & 1921 & 98.033 & 1017 & 20 &  0 &  1 & 1017 &   1 & 1017 & ORF1 & null & ORF1-ORF2\\\\\n",
       "\t28 & L1HS & chr1 & 187343765 & 187349794 & - & 6029 & 1985 & 5812 & 98.380 & 3828 & 62 &  0 &  1 & 3828 &   1 & 3828 & ORF2 & null & ORF1-ORF2\\\\\n",
       "\t29 & L1HS & chr1 & 187597672 & 187603699 & + & 6027 &  902 & 1918 & 97.738 & 1017 & 23 &  0 &  1 & 1017 &   1 & 1017 & ORF1 & null & ORF1-ORF2\\\\\n",
       "\t30 & L1HS & chr1 & 187597672 & 187603699 & + & 6027 & 1982 & 5809 & 98.537 & 3828 & 56 &  0 &  1 & 3828 &   1 & 3828 & ORF2 & null & ORF1-ORF2\\\\\n",
       "\t32 & L1HS & chr1 & 193717838 & 193723892 & - & 6054 &  905 & 1921 & 98.132 & 1017 & 19 &  0 &  1 & 1017 &   1 & 1017 & ORF1 & null & ORF1-ORF2\\\\\n",
       "\t33 & L1HS & chr1 & 193717838 & 193723892 & - & 6054 & 2780 & 5811 &     NA &   NA & NA & NA & NA &   NA &  NA &   NA & ORF2 & 2rd  & ORF1-ORF2\\\\\n",
       "\t35 & L1HS & chr1 & 196219371 & 196225402 & - & 6031 &  907 & 1923 & 97.738 & 1017 & 23 &  0 &  1 & 1017 &   1 & 1017 & ORF1 & null & ORF1-ORF2\\\\\n",
       "\t36 & L1HS & chr1 & 196219371 & 196225402 & - & 6031 & 1987 & 5814 &     NA &   NA & NA & NA & NA &   NA &  NA &   NA & ORF2 & 2rd  & ORF1-ORF2\\\\\n",
       "\t38 & L1HS & chr1 & 197707715 & 197713746 & + & 6031 &  906 & 1922 & 98.033 & 1017 & 20 &  0 &  1 & 1017 &   1 & 1017 & ORF1 & null & ORF1-ORF2\\\\\n",
       "\t39 & L1HS & chr1 & 197707715 & 197713746 & + & 6031 & 1986 & 5553 &     NA &   NA & NA & NA & NA &   NA &  NA &   NA & ORF2 & 2rd  & ORF1-ORF2\\\\\n",
       "\t41 & L1HS & chr1 & 209913772 & 209919823 & - & 6051 &  906 & 1922 & 97.738 & 1017 & 23 &  0 &  1 & 1017 &   1 & 1017 & ORF1 & null & ORF1-ORF2\\\\\n",
       "\t42 & L1HS & chr1 & 209913772 & 209919823 & - & 6051 & 1986 & 5813 & 98.328 & 3828 & 64 &  0 &  1 & 3828 &   1 & 3828 & ORF2 & null & ORF1-ORF2\\\\\n",
       "\t44 & L1HS & chr1 & 218009228 & 218015252 & - & 6024 &  905 & 1921 & 97.935 & 1017 & 21 &  0 &  1 & 1017 &   1 & 1017 & ORF1 & null & ORF1-ORF2\\\\\n",
       "\t45 & L1HS & chr1 & 218009228 & 218015252 & - & 6024 & 1985 & 4171 & 98.307 & 2185 & 37 &  0 &  1 & 2185 &   1 & 2185 & ORF2 & null & ORF1-ORF2\\\\\n",
       "\t49 & L1HS & chr1 & 237019468 & 237025494 & - & 6026 &  904 & 1920 & 98.033 & 1017 & 20 &  0 &  1 & 1017 &   1 & 1017 & ORF1 & null & ORF1-ORF2\\\\\n",
       "\t50 & L1HS & chr1 & 237019468 & 237025494 & - & 6026 & 1985 & 5812 & 98.563 & 3828 & 55 &  0 &  1 & 3828 &   1 & 3828 & ORF2 & null & ORF1-ORF2\\\\\n",
       "\t52 & L1HS & chr1 & 239623499 & 239629523 & - & 6024 & 1003 & 1917 & 97.705 &  915 & 21 &  0 &  1 &  915 & 103 & 1017 & ORF1 & null & ORF1-ORF2\\\\\n",
       "\t53 & L1HS & chr1 & 239623499 & 239629523 & - & 6024 & 1981 & 5808 & 98.433 & 3828 & 60 &  0 &  1 & 3828 &   1 & 3828 & ORF2 & null & ORF1-ORF2\\\\\n",
       "\t⋮ & ⋮ & ⋮ & ⋮ & ⋮ & ⋮ & ⋮ & ⋮ & ⋮ & ⋮ & ⋮ & ⋮ & ⋮ & ⋮ & ⋮ & ⋮ & ⋮ & ⋮ & ⋮ & ⋮\\\\\n",
       "\t10905 & L1PA5 & chr9  & 105563176 & 105569299 & + & 6123 & 1015 & 2031 & 91.378 & 1009 &  87 &  0 &   1 & 1009 &    1 & 1009 & ORF1 & null & ORF1-ORF2\\\\\n",
       "\t10906 & L1PA5 & chr9  & 105563176 & 105569299 & + & 6123 & 2095 & 3336 & 94.359 & 1241 &  70 &  0 &   1 & 1241 &    1 & 1241 & ORF2 & null & ORF1-ORF2\\\\\n",
       "\t11002 & L1PA5 & chrX  & 138455845 & 138461988 & + & 6143 & 1025 & 2098 & 91.650 & 1018 &  84 &  1 &   1 & 1018 &    1 & 1017 & ORF1 & null & ORF1-ORF2\\\\\n",
       "\t11003 & L1PA5 & chrX  & 138455845 & 138461988 & + & 6143 & 2532 & 4801 &     NA &   NA &  NA & NA &  NA &   NA &   NA &   NA & ORF2 & 2rd  & ORF1-ORF2\\\\\n",
       "\t11032 & L1PA5 & chrX  &  20771375 &  20777325 & + & 5950 &  822 & 1673 & 87.309 &  851 &  97 &  6 &   1 &  850 &    1 &  841 & ORF1 & null & ORF1-ORF2\\\\\n",
       "\t11033 & L1PA5 & chrX  &  20771375 &  20777325 & + & 5950 & 4169 & 5125 & 93.298 &  955 &  60 &  1 &   1 &  951 & 2260 & 3214 & ORF2 & null & ORF1-ORF2\\\\\n",
       "\t11091 & L1PA5 & chrX  &  77470642 &  77476783 & + & 6141 &  771 & 2033 & 89.577 & 1017 & 106 &  0 & 247 & 1263 &    1 & 1017 & ORF1 & null & ORF1-ORF2\\\\\n",
       "\t11092 & L1PA5 & chrX  &  77470642 &  77476783 & + & 6141 & 2097 & 5317 &     NA &   NA &  NA & NA &  NA &   NA &   NA &   NA & ORF2 & 2rd  & ORF1-ORF2\\\\\n",
       "\t11138 & L1PA6 & chr1  & 173811695 & 173816857 & + & 5162 & 1017 & 2039 & 86.842 & 1026 & 123 &  6 &   1 & 1023 &    1 & 1017 & ORF1 & null & ORF1-ORF2\\\\\n",
       "\t11139 & L1PA6 & chr1  & 173811695 & 173816857 & + & 5162 & 2443 & 3243 & 91.343 &  797 &  67 &  2 &   5 &  801 &  338 & 1132 & ORF2 & null & ORF1-ORF2\\\\\n",
       "\t11153 & L1PA6 & chr1  & 210953900 & 210960045 & - & 6145 & 1008 & 1871 & 85.155 &  869 & 114 &  7 &   1 &  864 &    1 &  859 & ORF1 & null & ORF1-ORF2\\\\\n",
       "\t11154 & L1PA6 & chr1  & 210953900 & 210960045 & - & 6145 & 3808 & 4794 & 92.269 &  983 &  76 &  0 &   1 &  983 & 1708 & 2690 & ORF2 & null & ORF1-ORF2\\\\\n",
       "\t11195 & L1PA6 & chr10 &  61002941 &  61009034 & - & 6093 & 1312 & 2190 & 89.037 &  748 &  81 &  1 &   1 &  748 &  271 & 1017 & ORF1 & null & ORF1-ORF2\\\\\n",
       "\t11196 & L1PA6 & chr10 &  61002941 &  61009034 & - & 6093 & 1312 & 2190 & 88.235 &   68 &   8 &  0 & 812 &  879 &    1 &   68 & ORF2 & null & ORF1-ORF2\\\\\n",
       "\t11344 & L1PA6 & chr2  & 135380868 & 135387000 & + & 6132 & 1018 & 2031 & 91.197 & 1011 &  86 &  1 &   1 & 1008 &    1 & 1011 & ORF1 & null & ORF1-ORF2\\\\\n",
       "\t11345 & L1PA6 & chr2  & 135380868 & 135387000 & + & 6132 & 2526 & 4738 &     NA &   NA &  NA & NA &  NA &   NA &   NA &   NA & ORF2 & 2rd  & ORF1-ORF2\\\\\n",
       "\t11358 & L1PA6 & chr2  & 191092577 & 191098769 & + & 6192 & 1325 & 2203 & 89.892 &  742 &  72 &  3 &   6 &  746 &  276 & 1015 & ORF1 & null & ORF1-ORF2\\\\\n",
       "\t11359 & L1PA6 & chr2  & 191092577 & 191098769 & + & 6192 & 2332 & 3294 & 90.966 &  952 &  60 & 14 &  18 &  963 &  201 & 1132 & ORF2 & null & ORF1-ORF2\\\\\n",
       "\t11367 & L1PA6 & chr2  &  47973524 &  47979858 & + & 6334 & 2437 & 3240 & 94.737 &   38 &   2 &  0 & 767 &  804 &  699 &  662 & ORF1 & null & ORF1-ORF2\\\\\n",
       "\t11368 & L1PA6 & chr2  &  47973524 &  47979858 & + & 6334 & 2437 & 3240 & 91.678 &  709 &  59 &  0 &   1 &  709 &  310 & 1018 & ORF2 & null & ORF1-ORF2\\\\\n",
       "\t11624 & L1PA6 & chr8  &  93774363 &  93780507 & - & 6144 & 1025 & 1891 & 85.616 &  869 & 113 &  7 &   1 &  867 &    1 &  859 & ORF1 & null & ORF1-ORF2\\\\\n",
       "\t11625 & L1PA6 & chr8  &  93774363 &  93780507 & - & 6144 & 2225 & 5258 &     NA &   NA &  NA & NA &  NA &   NA &   NA &   NA & ORF2 & 2rd  & ORF1-ORF2\\\\\n",
       "\t11895 & L1PA7 & chr3  &  27815984 &  27821983 & - & 5999 &  906 & 1922 & 96.853 & 1017 &  32 &  0 &   1 & 1017 &    1 & 1017 & ORF1 & null & ORF1-ORF2\\\\\n",
       "\t11896 & L1PA7 & chr3  &  27815984 &  27821983 & - & 5999 & 2407 & 5017 &     NA &   NA &  NA & NA &  NA &   NA &   NA &   NA & ORF2 & 2rd  & ORF1-ORF2\\\\\n",
       "\t11930 & L1PA7 & chr4  &   3160921 &   3167073 & - & 6152 & 1034 & 1849 & 83.111 &  823 & 116 &  7 &   4 &  813 &    1 &  813 & ORF1 & null & ORF1-ORF2\\\\\n",
       "\t11931 & L1PA7 & chr4  &   3160921 &   3167073 & - & 6152 & 2308 & 5935 &     NA &   NA &  NA & NA &  NA &   NA &   NA &   NA & ORF2 & 2rd  & ORF1-ORF2\\\\\n",
       "\t12010 & L1PA7 & chr7  &  70838050 &  70844315 & + & 6265 &  908 & 2023 & 83.314 &  869 & 130 &  8 & 253 & 1116 &    1 &  859 & ORF1 & null & ORF1-ORF2\\\\\n",
       "\t12011 & L1PA7 & chr7  &  70838050 &  70844315 & + & 6265 & 3849 & 4649 & 90.640 &  812 &  60 & 12 &   1 &  801 & 1616 & 2422 & ORF2 & null & ORF1-ORF2\\\\\n",
       "\t12031 & L1PA7 & chr9  & 113437561 & 113443590 & - & 6029 &  906 & 1919 & 97.640 & 1017 &  21 &  1 &   1 & 1014 &    1 & 1017 & ORF1 & null & ORF1-ORF2\\\\\n",
       "\t12032 & L1PA7 & chr9  & 113437561 & 113443590 & - & 6029 & 1983 & 4646 &     NA &   NA &  NA & NA &  NA &   NA &   NA &   NA & ORF2 & 2rd  & ORF1-ORF2\\\\\n",
       "\\end{tabular}\n"
      ],
      "text/markdown": [
       "\n",
       "A data.frame: 2030 × 19\n",
       "\n",
       "| <!--/--> | subfamily &lt;chr&gt; | chromsome &lt;chr&gt; | start &lt;int&gt; | stop &lt;int&gt; | strand &lt;chr&gt; | Length &lt;int&gt; | orf.start &lt;int&gt; | orf.end &lt;chr&gt; | X.identity &lt;dbl&gt; | alignment.length &lt;int&gt; | mismatches &lt;int&gt; | gap.opens &lt;int&gt; | q.start &lt;int&gt; | q.end &lt;int&gt; | s.start &lt;int&gt; | s..end &lt;int&gt; | ORF &lt;chr&gt; | label &lt;chr&gt; | class &lt;chr&gt; |\n",
       "|---|---|---|---|---|---|---|---|---|---|---|---|---|---|---|---|---|---|---|---|\n",
       "| 2 | L1HS | chr1 | 104770248 | 104776278 | - | 6030 |  907 | 1923 | 98.230 | 1017 | 18 |  0 |  1 | 1017 |   1 | 1017 | ORF1 | null | ORF1-ORF2 |\n",
       "| 3 | L1HS | chr1 | 104770248 | 104776278 | - | 6030 | 2281 | 5814 | 98.387 | 3534 | 57 |  0 |  1 | 3534 | 295 | 3828 | ORF2 | null | ORF1-ORF2 |\n",
       "| 6 | L1HS | chr1 | 113497221 | 113500000 | + | 2779 |  885 | 1901 | 97.837 | 1017 | 22 |  0 |  1 | 1017 |   1 | 1017 | ORF1 | null | ORF1-ORF2 |\n",
       "| 7 | L1HS | chr1 | 113497221 | 113500000 | + | 2779 | 1965 | 2777 | 98.893 |  813 |  9 |  0 |  1 |  813 |   1 |  813 | ORF2 | null | ORF1-ORF2 |\n",
       "| 10 | L1HS | chr1 | 118852352 | 118858380 | + | 6028 |  905 | 1921 | 98.132 | 1017 | 19 |  0 |  1 | 1017 |   1 | 1017 | ORF1 | null | ORF1-ORF2 |\n",
       "| 11 | L1HS | chr1 | 118852352 | 118858380 | + | 6028 | 1985 | 5812 | 98.485 | 3828 | 58 |  0 |  1 | 3828 |   1 | 3828 | ORF2 | null | ORF1-ORF2 |\n",
       "| 12 | L1HS | chr1 | 121532231 | 121538261 | - | 6030 |  907 | 1923 | 98.033 | 1017 | 20 |  0 |  1 | 1017 |   1 | 1017 | ORF1 | null | ORF1-ORF2 |\n",
       "| 13 | L1HS | chr1 | 121532231 | 121538261 | - | 6030 | 1987 | 5811 |     NA |   NA | NA | NA | NA |   NA |  NA |   NA | ORF2 | 3rd  | ORF1-ORF2 |\n",
       "| 19 | L1HS | chr1 | 174590324 | 174596379 | - | 6055 |  905 | 1921 | 98.132 | 1017 | 19 |  0 |  1 | 1017 |   1 | 1017 | ORF1 | null | ORF1-ORF2 |\n",
       "| 20 | L1HS | chr1 | 174590324 | 174596379 | - | 6055 | 1985 | 5812 | 98.459 | 3828 | 59 |  0 |  1 | 3828 |   1 | 3828 | ORF2 | null | ORF1-ORF2 |\n",
       "| 24 | L1HS | chr1 | 180866812 | 180872843 | - | 6031 |  907 | 1923 | 98.033 | 1017 | 20 |  0 |  1 | 1017 |   1 | 1017 | ORF1 | null | ORF1-ORF2 |\n",
       "| 25 | L1HS | chr1 | 180866812 | 180872843 | - | 6031 | 1987 | 5895 | 98.379 | 3825 | 62 |  0 |  1 | 3825 |   1 | 3825 | ORF2 | null | ORF1-ORF2 |\n",
       "| 27 | L1HS | chr1 | 187343765 | 187349794 | - | 6029 |  905 | 1921 | 98.033 | 1017 | 20 |  0 |  1 | 1017 |   1 | 1017 | ORF1 | null | ORF1-ORF2 |\n",
       "| 28 | L1HS | chr1 | 187343765 | 187349794 | - | 6029 | 1985 | 5812 | 98.380 | 3828 | 62 |  0 |  1 | 3828 |   1 | 3828 | ORF2 | null | ORF1-ORF2 |\n",
       "| 29 | L1HS | chr1 | 187597672 | 187603699 | + | 6027 |  902 | 1918 | 97.738 | 1017 | 23 |  0 |  1 | 1017 |   1 | 1017 | ORF1 | null | ORF1-ORF2 |\n",
       "| 30 | L1HS | chr1 | 187597672 | 187603699 | + | 6027 | 1982 | 5809 | 98.537 | 3828 | 56 |  0 |  1 | 3828 |   1 | 3828 | ORF2 | null | ORF1-ORF2 |\n",
       "| 32 | L1HS | chr1 | 193717838 | 193723892 | - | 6054 |  905 | 1921 | 98.132 | 1017 | 19 |  0 |  1 | 1017 |   1 | 1017 | ORF1 | null | ORF1-ORF2 |\n",
       "| 33 | L1HS | chr1 | 193717838 | 193723892 | - | 6054 | 2780 | 5811 |     NA |   NA | NA | NA | NA |   NA |  NA |   NA | ORF2 | 2rd  | ORF1-ORF2 |\n",
       "| 35 | L1HS | chr1 | 196219371 | 196225402 | - | 6031 |  907 | 1923 | 97.738 | 1017 | 23 |  0 |  1 | 1017 |   1 | 1017 | ORF1 | null | ORF1-ORF2 |\n",
       "| 36 | L1HS | chr1 | 196219371 | 196225402 | - | 6031 | 1987 | 5814 |     NA |   NA | NA | NA | NA |   NA |  NA |   NA | ORF2 | 2rd  | ORF1-ORF2 |\n",
       "| 38 | L1HS | chr1 | 197707715 | 197713746 | + | 6031 |  906 | 1922 | 98.033 | 1017 | 20 |  0 |  1 | 1017 |   1 | 1017 | ORF1 | null | ORF1-ORF2 |\n",
       "| 39 | L1HS | chr1 | 197707715 | 197713746 | + | 6031 | 1986 | 5553 |     NA |   NA | NA | NA | NA |   NA |  NA |   NA | ORF2 | 2rd  | ORF1-ORF2 |\n",
       "| 41 | L1HS | chr1 | 209913772 | 209919823 | - | 6051 |  906 | 1922 | 97.738 | 1017 | 23 |  0 |  1 | 1017 |   1 | 1017 | ORF1 | null | ORF1-ORF2 |\n",
       "| 42 | L1HS | chr1 | 209913772 | 209919823 | - | 6051 | 1986 | 5813 | 98.328 | 3828 | 64 |  0 |  1 | 3828 |   1 | 3828 | ORF2 | null | ORF1-ORF2 |\n",
       "| 44 | L1HS | chr1 | 218009228 | 218015252 | - | 6024 |  905 | 1921 | 97.935 | 1017 | 21 |  0 |  1 | 1017 |   1 | 1017 | ORF1 | null | ORF1-ORF2 |\n",
       "| 45 | L1HS | chr1 | 218009228 | 218015252 | - | 6024 | 1985 | 4171 | 98.307 | 2185 | 37 |  0 |  1 | 2185 |   1 | 2185 | ORF2 | null | ORF1-ORF2 |\n",
       "| 49 | L1HS | chr1 | 237019468 | 237025494 | - | 6026 |  904 | 1920 | 98.033 | 1017 | 20 |  0 |  1 | 1017 |   1 | 1017 | ORF1 | null | ORF1-ORF2 |\n",
       "| 50 | L1HS | chr1 | 237019468 | 237025494 | - | 6026 | 1985 | 5812 | 98.563 | 3828 | 55 |  0 |  1 | 3828 |   1 | 3828 | ORF2 | null | ORF1-ORF2 |\n",
       "| 52 | L1HS | chr1 | 239623499 | 239629523 | - | 6024 | 1003 | 1917 | 97.705 |  915 | 21 |  0 |  1 |  915 | 103 | 1017 | ORF1 | null | ORF1-ORF2 |\n",
       "| 53 | L1HS | chr1 | 239623499 | 239629523 | - | 6024 | 1981 | 5808 | 98.433 | 3828 | 60 |  0 |  1 | 3828 |   1 | 3828 | ORF2 | null | ORF1-ORF2 |\n",
       "| ⋮ | ⋮ | ⋮ | ⋮ | ⋮ | ⋮ | ⋮ | ⋮ | ⋮ | ⋮ | ⋮ | ⋮ | ⋮ | ⋮ | ⋮ | ⋮ | ⋮ | ⋮ | ⋮ | ⋮ |\n",
       "| 10905 | L1PA5 | chr9  | 105563176 | 105569299 | + | 6123 | 1015 | 2031 | 91.378 | 1009 |  87 |  0 |   1 | 1009 |    1 | 1009 | ORF1 | null | ORF1-ORF2 |\n",
       "| 10906 | L1PA5 | chr9  | 105563176 | 105569299 | + | 6123 | 2095 | 3336 | 94.359 | 1241 |  70 |  0 |   1 | 1241 |    1 | 1241 | ORF2 | null | ORF1-ORF2 |\n",
       "| 11002 | L1PA5 | chrX  | 138455845 | 138461988 | + | 6143 | 1025 | 2098 | 91.650 | 1018 |  84 |  1 |   1 | 1018 |    1 | 1017 | ORF1 | null | ORF1-ORF2 |\n",
       "| 11003 | L1PA5 | chrX  | 138455845 | 138461988 | + | 6143 | 2532 | 4801 |     NA |   NA |  NA | NA |  NA |   NA |   NA |   NA | ORF2 | 2rd  | ORF1-ORF2 |\n",
       "| 11032 | L1PA5 | chrX  |  20771375 |  20777325 | + | 5950 |  822 | 1673 | 87.309 |  851 |  97 |  6 |   1 |  850 |    1 |  841 | ORF1 | null | ORF1-ORF2 |\n",
       "| 11033 | L1PA5 | chrX  |  20771375 |  20777325 | + | 5950 | 4169 | 5125 | 93.298 |  955 |  60 |  1 |   1 |  951 | 2260 | 3214 | ORF2 | null | ORF1-ORF2 |\n",
       "| 11091 | L1PA5 | chrX  |  77470642 |  77476783 | + | 6141 |  771 | 2033 | 89.577 | 1017 | 106 |  0 | 247 | 1263 |    1 | 1017 | ORF1 | null | ORF1-ORF2 |\n",
       "| 11092 | L1PA5 | chrX  |  77470642 |  77476783 | + | 6141 | 2097 | 5317 |     NA |   NA |  NA | NA |  NA |   NA |   NA |   NA | ORF2 | 2rd  | ORF1-ORF2 |\n",
       "| 11138 | L1PA6 | chr1  | 173811695 | 173816857 | + | 5162 | 1017 | 2039 | 86.842 | 1026 | 123 |  6 |   1 | 1023 |    1 | 1017 | ORF1 | null | ORF1-ORF2 |\n",
       "| 11139 | L1PA6 | chr1  | 173811695 | 173816857 | + | 5162 | 2443 | 3243 | 91.343 |  797 |  67 |  2 |   5 |  801 |  338 | 1132 | ORF2 | null | ORF1-ORF2 |\n",
       "| 11153 | L1PA6 | chr1  | 210953900 | 210960045 | - | 6145 | 1008 | 1871 | 85.155 |  869 | 114 |  7 |   1 |  864 |    1 |  859 | ORF1 | null | ORF1-ORF2 |\n",
       "| 11154 | L1PA6 | chr1  | 210953900 | 210960045 | - | 6145 | 3808 | 4794 | 92.269 |  983 |  76 |  0 |   1 |  983 | 1708 | 2690 | ORF2 | null | ORF1-ORF2 |\n",
       "| 11195 | L1PA6 | chr10 |  61002941 |  61009034 | - | 6093 | 1312 | 2190 | 89.037 |  748 |  81 |  1 |   1 |  748 |  271 | 1017 | ORF1 | null | ORF1-ORF2 |\n",
       "| 11196 | L1PA6 | chr10 |  61002941 |  61009034 | - | 6093 | 1312 | 2190 | 88.235 |   68 |   8 |  0 | 812 |  879 |    1 |   68 | ORF2 | null | ORF1-ORF2 |\n",
       "| 11344 | L1PA6 | chr2  | 135380868 | 135387000 | + | 6132 | 1018 | 2031 | 91.197 | 1011 |  86 |  1 |   1 | 1008 |    1 | 1011 | ORF1 | null | ORF1-ORF2 |\n",
       "| 11345 | L1PA6 | chr2  | 135380868 | 135387000 | + | 6132 | 2526 | 4738 |     NA |   NA |  NA | NA |  NA |   NA |   NA |   NA | ORF2 | 2rd  | ORF1-ORF2 |\n",
       "| 11358 | L1PA6 | chr2  | 191092577 | 191098769 | + | 6192 | 1325 | 2203 | 89.892 |  742 |  72 |  3 |   6 |  746 |  276 | 1015 | ORF1 | null | ORF1-ORF2 |\n",
       "| 11359 | L1PA6 | chr2  | 191092577 | 191098769 | + | 6192 | 2332 | 3294 | 90.966 |  952 |  60 | 14 |  18 |  963 |  201 | 1132 | ORF2 | null | ORF1-ORF2 |\n",
       "| 11367 | L1PA6 | chr2  |  47973524 |  47979858 | + | 6334 | 2437 | 3240 | 94.737 |   38 |   2 |  0 | 767 |  804 |  699 |  662 | ORF1 | null | ORF1-ORF2 |\n",
       "| 11368 | L1PA6 | chr2  |  47973524 |  47979858 | + | 6334 | 2437 | 3240 | 91.678 |  709 |  59 |  0 |   1 |  709 |  310 | 1018 | ORF2 | null | ORF1-ORF2 |\n",
       "| 11624 | L1PA6 | chr8  |  93774363 |  93780507 | - | 6144 | 1025 | 1891 | 85.616 |  869 | 113 |  7 |   1 |  867 |    1 |  859 | ORF1 | null | ORF1-ORF2 |\n",
       "| 11625 | L1PA6 | chr8  |  93774363 |  93780507 | - | 6144 | 2225 | 5258 |     NA |   NA |  NA | NA |  NA |   NA |   NA |   NA | ORF2 | 2rd  | ORF1-ORF2 |\n",
       "| 11895 | L1PA7 | chr3  |  27815984 |  27821983 | - | 5999 |  906 | 1922 | 96.853 | 1017 |  32 |  0 |   1 | 1017 |    1 | 1017 | ORF1 | null | ORF1-ORF2 |\n",
       "| 11896 | L1PA7 | chr3  |  27815984 |  27821983 | - | 5999 | 2407 | 5017 |     NA |   NA |  NA | NA |  NA |   NA |   NA |   NA | ORF2 | 2rd  | ORF1-ORF2 |\n",
       "| 11930 | L1PA7 | chr4  |   3160921 |   3167073 | - | 6152 | 1034 | 1849 | 83.111 |  823 | 116 |  7 |   4 |  813 |    1 |  813 | ORF1 | null | ORF1-ORF2 |\n",
       "| 11931 | L1PA7 | chr4  |   3160921 |   3167073 | - | 6152 | 2308 | 5935 |     NA |   NA |  NA | NA |  NA |   NA |   NA |   NA | ORF2 | 2rd  | ORF1-ORF2 |\n",
       "| 12010 | L1PA7 | chr7  |  70838050 |  70844315 | + | 6265 |  908 | 2023 | 83.314 |  869 | 130 |  8 | 253 | 1116 |    1 |  859 | ORF1 | null | ORF1-ORF2 |\n",
       "| 12011 | L1PA7 | chr7  |  70838050 |  70844315 | + | 6265 | 3849 | 4649 | 90.640 |  812 |  60 | 12 |   1 |  801 | 1616 | 2422 | ORF2 | null | ORF1-ORF2 |\n",
       "| 12031 | L1PA7 | chr9  | 113437561 | 113443590 | - | 6029 |  906 | 1919 | 97.640 | 1017 |  21 |  1 |   1 | 1014 |    1 | 1017 | ORF1 | null | ORF1-ORF2 |\n",
       "| 12032 | L1PA7 | chr9  | 113437561 | 113443590 | - | 6029 | 1983 | 4646 |     NA |   NA |  NA | NA |  NA |   NA |   NA |   NA | ORF2 | 2rd  | ORF1-ORF2 |\n",
       "\n"
      ],
      "text/plain": [
       "      subfamily chromsome start     stop      strand Length orf.start orf.end\n",
       "2     L1HS      chr1      104770248 104776278 -      6030    907      1923   \n",
       "3     L1HS      chr1      104770248 104776278 -      6030   2281      5814   \n",
       "6     L1HS      chr1      113497221 113500000 +      2779    885      1901   \n",
       "7     L1HS      chr1      113497221 113500000 +      2779   1965      2777   \n",
       "10    L1HS      chr1      118852352 118858380 +      6028    905      1921   \n",
       "11    L1HS      chr1      118852352 118858380 +      6028   1985      5812   \n",
       "12    L1HS      chr1      121532231 121538261 -      6030    907      1923   \n",
       "13    L1HS      chr1      121532231 121538261 -      6030   1987      5811   \n",
       "19    L1HS      chr1      174590324 174596379 -      6055    905      1921   \n",
       "20    L1HS      chr1      174590324 174596379 -      6055   1985      5812   \n",
       "24    L1HS      chr1      180866812 180872843 -      6031    907      1923   \n",
       "25    L1HS      chr1      180866812 180872843 -      6031   1987      5895   \n",
       "27    L1HS      chr1      187343765 187349794 -      6029    905      1921   \n",
       "28    L1HS      chr1      187343765 187349794 -      6029   1985      5812   \n",
       "29    L1HS      chr1      187597672 187603699 +      6027    902      1918   \n",
       "30    L1HS      chr1      187597672 187603699 +      6027   1982      5809   \n",
       "32    L1HS      chr1      193717838 193723892 -      6054    905      1921   \n",
       "33    L1HS      chr1      193717838 193723892 -      6054   2780      5811   \n",
       "35    L1HS      chr1      196219371 196225402 -      6031    907      1923   \n",
       "36    L1HS      chr1      196219371 196225402 -      6031   1987      5814   \n",
       "38    L1HS      chr1      197707715 197713746 +      6031    906      1922   \n",
       "39    L1HS      chr1      197707715 197713746 +      6031   1986      5553   \n",
       "41    L1HS      chr1      209913772 209919823 -      6051    906      1922   \n",
       "42    L1HS      chr1      209913772 209919823 -      6051   1986      5813   \n",
       "44    L1HS      chr1      218009228 218015252 -      6024    905      1921   \n",
       "45    L1HS      chr1      218009228 218015252 -      6024   1985      4171   \n",
       "49    L1HS      chr1      237019468 237025494 -      6026    904      1920   \n",
       "50    L1HS      chr1      237019468 237025494 -      6026   1985      5812   \n",
       "52    L1HS      chr1      239623499 239629523 -      6024   1003      1917   \n",
       "53    L1HS      chr1      239623499 239629523 -      6024   1981      5808   \n",
       "⋮     ⋮         ⋮         ⋮         ⋮         ⋮      ⋮      ⋮         ⋮      \n",
       "10905 L1PA5     chr9      105563176 105569299 +      6123   1015      2031   \n",
       "10906 L1PA5     chr9      105563176 105569299 +      6123   2095      3336   \n",
       "11002 L1PA5     chrX      138455845 138461988 +      6143   1025      2098   \n",
       "11003 L1PA5     chrX      138455845 138461988 +      6143   2532      4801   \n",
       "11032 L1PA5     chrX       20771375  20777325 +      5950    822      1673   \n",
       "11033 L1PA5     chrX       20771375  20777325 +      5950   4169      5125   \n",
       "11091 L1PA5     chrX       77470642  77476783 +      6141    771      2033   \n",
       "11092 L1PA5     chrX       77470642  77476783 +      6141   2097      5317   \n",
       "11138 L1PA6     chr1      173811695 173816857 +      5162   1017      2039   \n",
       "11139 L1PA6     chr1      173811695 173816857 +      5162   2443      3243   \n",
       "11153 L1PA6     chr1      210953900 210960045 -      6145   1008      1871   \n",
       "11154 L1PA6     chr1      210953900 210960045 -      6145   3808      4794   \n",
       "11195 L1PA6     chr10      61002941  61009034 -      6093   1312      2190   \n",
       "11196 L1PA6     chr10      61002941  61009034 -      6093   1312      2190   \n",
       "11344 L1PA6     chr2      135380868 135387000 +      6132   1018      2031   \n",
       "11345 L1PA6     chr2      135380868 135387000 +      6132   2526      4738   \n",
       "11358 L1PA6     chr2      191092577 191098769 +      6192   1325      2203   \n",
       "11359 L1PA6     chr2      191092577 191098769 +      6192   2332      3294   \n",
       "11367 L1PA6     chr2       47973524  47979858 +      6334   2437      3240   \n",
       "11368 L1PA6     chr2       47973524  47979858 +      6334   2437      3240   \n",
       "11624 L1PA6     chr8       93774363  93780507 -      6144   1025      1891   \n",
       "11625 L1PA6     chr8       93774363  93780507 -      6144   2225      5258   \n",
       "11895 L1PA7     chr3       27815984  27821983 -      5999    906      1922   \n",
       "11896 L1PA7     chr3       27815984  27821983 -      5999   2407      5017   \n",
       "11930 L1PA7     chr4        3160921   3167073 -      6152   1034      1849   \n",
       "11931 L1PA7     chr4        3160921   3167073 -      6152   2308      5935   \n",
       "12010 L1PA7     chr7       70838050  70844315 +      6265    908      2023   \n",
       "12011 L1PA7     chr7       70838050  70844315 +      6265   3849      4649   \n",
       "12031 L1PA7     chr9      113437561 113443590 -      6029    906      1919   \n",
       "12032 L1PA7     chr9      113437561 113443590 -      6029   1983      4646   \n",
       "      X.identity alignment.length mismatches gap.opens q.start q.end s.start\n",
       "2     98.230     1017             18          0         1      1017    1    \n",
       "3     98.387     3534             57          0         1      3534  295    \n",
       "6     97.837     1017             22          0         1      1017    1    \n",
       "7     98.893      813              9          0         1       813    1    \n",
       "10    98.132     1017             19          0         1      1017    1    \n",
       "11    98.485     3828             58          0         1      3828    1    \n",
       "12    98.033     1017             20          0         1      1017    1    \n",
       "13        NA       NA             NA         NA        NA        NA   NA    \n",
       "19    98.132     1017             19          0         1      1017    1    \n",
       "20    98.459     3828             59          0         1      3828    1    \n",
       "24    98.033     1017             20          0         1      1017    1    \n",
       "25    98.379     3825             62          0         1      3825    1    \n",
       "27    98.033     1017             20          0         1      1017    1    \n",
       "28    98.380     3828             62          0         1      3828    1    \n",
       "29    97.738     1017             23          0         1      1017    1    \n",
       "30    98.537     3828             56          0         1      3828    1    \n",
       "32    98.132     1017             19          0         1      1017    1    \n",
       "33        NA       NA             NA         NA        NA        NA   NA    \n",
       "35    97.738     1017             23          0         1      1017    1    \n",
       "36        NA       NA             NA         NA        NA        NA   NA    \n",
       "38    98.033     1017             20          0         1      1017    1    \n",
       "39        NA       NA             NA         NA        NA        NA   NA    \n",
       "41    97.738     1017             23          0         1      1017    1    \n",
       "42    98.328     3828             64          0         1      3828    1    \n",
       "44    97.935     1017             21          0         1      1017    1    \n",
       "45    98.307     2185             37          0         1      2185    1    \n",
       "49    98.033     1017             20          0         1      1017    1    \n",
       "50    98.563     3828             55          0         1      3828    1    \n",
       "52    97.705      915             21          0         1       915  103    \n",
       "53    98.433     3828             60          0         1      3828    1    \n",
       "⋮     ⋮          ⋮                ⋮          ⋮         ⋮       ⋮     ⋮      \n",
       "10905 91.378     1009              87         0          1     1009     1   \n",
       "10906 94.359     1241              70         0          1     1241     1   \n",
       "11002 91.650     1018              84         1          1     1018     1   \n",
       "11003     NA       NA              NA        NA         NA       NA    NA   \n",
       "11032 87.309      851              97         6          1      850     1   \n",
       "11033 93.298      955              60         1          1      951  2260   \n",
       "11091 89.577     1017             106         0        247     1263     1   \n",
       "11092     NA       NA              NA        NA         NA       NA    NA   \n",
       "11138 86.842     1026             123         6          1     1023     1   \n",
       "11139 91.343      797              67         2          5      801   338   \n",
       "11153 85.155      869             114         7          1      864     1   \n",
       "11154 92.269      983              76         0          1      983  1708   \n",
       "11195 89.037      748              81         1          1      748   271   \n",
       "11196 88.235       68               8         0        812      879     1   \n",
       "11344 91.197     1011              86         1          1     1008     1   \n",
       "11345     NA       NA              NA        NA         NA       NA    NA   \n",
       "11358 89.892      742              72         3          6      746   276   \n",
       "11359 90.966      952              60        14         18      963   201   \n",
       "11367 94.737       38               2         0        767      804   699   \n",
       "11368 91.678      709              59         0          1      709   310   \n",
       "11624 85.616      869             113         7          1      867     1   \n",
       "11625     NA       NA              NA        NA         NA       NA    NA   \n",
       "11895 96.853     1017              32         0          1     1017     1   \n",
       "11896     NA       NA              NA        NA         NA       NA    NA   \n",
       "11930 83.111      823             116         7          4      813     1   \n",
       "11931     NA       NA              NA        NA         NA       NA    NA   \n",
       "12010 83.314      869             130         8        253     1116     1   \n",
       "12011 90.640      812              60        12          1      801  1616   \n",
       "12031 97.640     1017              21         1          1     1014     1   \n",
       "12032     NA       NA              NA        NA         NA       NA    NA   \n",
       "      s..end ORF  label class    \n",
       "2     1017   ORF1 null  ORF1-ORF2\n",
       "3     3828   ORF2 null  ORF1-ORF2\n",
       "6     1017   ORF1 null  ORF1-ORF2\n",
       "7      813   ORF2 null  ORF1-ORF2\n",
       "10    1017   ORF1 null  ORF1-ORF2\n",
       "11    3828   ORF2 null  ORF1-ORF2\n",
       "12    1017   ORF1 null  ORF1-ORF2\n",
       "13      NA   ORF2 3rd   ORF1-ORF2\n",
       "19    1017   ORF1 null  ORF1-ORF2\n",
       "20    3828   ORF2 null  ORF1-ORF2\n",
       "24    1017   ORF1 null  ORF1-ORF2\n",
       "25    3825   ORF2 null  ORF1-ORF2\n",
       "27    1017   ORF1 null  ORF1-ORF2\n",
       "28    3828   ORF2 null  ORF1-ORF2\n",
       "29    1017   ORF1 null  ORF1-ORF2\n",
       "30    3828   ORF2 null  ORF1-ORF2\n",
       "32    1017   ORF1 null  ORF1-ORF2\n",
       "33      NA   ORF2 2rd   ORF1-ORF2\n",
       "35    1017   ORF1 null  ORF1-ORF2\n",
       "36      NA   ORF2 2rd   ORF1-ORF2\n",
       "38    1017   ORF1 null  ORF1-ORF2\n",
       "39      NA   ORF2 2rd   ORF1-ORF2\n",
       "41    1017   ORF1 null  ORF1-ORF2\n",
       "42    3828   ORF2 null  ORF1-ORF2\n",
       "44    1017   ORF1 null  ORF1-ORF2\n",
       "45    2185   ORF2 null  ORF1-ORF2\n",
       "49    1017   ORF1 null  ORF1-ORF2\n",
       "50    3828   ORF2 null  ORF1-ORF2\n",
       "52    1017   ORF1 null  ORF1-ORF2\n",
       "53    3828   ORF2 null  ORF1-ORF2\n",
       "⋮     ⋮      ⋮    ⋮     ⋮        \n",
       "10905 1009   ORF1 null  ORF1-ORF2\n",
       "10906 1241   ORF2 null  ORF1-ORF2\n",
       "11002 1017   ORF1 null  ORF1-ORF2\n",
       "11003   NA   ORF2 2rd   ORF1-ORF2\n",
       "11032  841   ORF1 null  ORF1-ORF2\n",
       "11033 3214   ORF2 null  ORF1-ORF2\n",
       "11091 1017   ORF1 null  ORF1-ORF2\n",
       "11092   NA   ORF2 2rd   ORF1-ORF2\n",
       "11138 1017   ORF1 null  ORF1-ORF2\n",
       "11139 1132   ORF2 null  ORF1-ORF2\n",
       "11153  859   ORF1 null  ORF1-ORF2\n",
       "11154 2690   ORF2 null  ORF1-ORF2\n",
       "11195 1017   ORF1 null  ORF1-ORF2\n",
       "11196   68   ORF2 null  ORF1-ORF2\n",
       "11344 1011   ORF1 null  ORF1-ORF2\n",
       "11345   NA   ORF2 2rd   ORF1-ORF2\n",
       "11358 1015   ORF1 null  ORF1-ORF2\n",
       "11359 1132   ORF2 null  ORF1-ORF2\n",
       "11367  662   ORF1 null  ORF1-ORF2\n",
       "11368 1018   ORF2 null  ORF1-ORF2\n",
       "11624  859   ORF1 null  ORF1-ORF2\n",
       "11625   NA   ORF2 2rd   ORF1-ORF2\n",
       "11895 1017   ORF1 null  ORF1-ORF2\n",
       "11896   NA   ORF2 2rd   ORF1-ORF2\n",
       "11930  813   ORF1 null  ORF1-ORF2\n",
       "11931   NA   ORF2 2rd   ORF1-ORF2\n",
       "12010  859   ORF1 null  ORF1-ORF2\n",
       "12011 2422   ORF2 null  ORF1-ORF2\n",
       "12031 1017   ORF1 null  ORF1-ORF2\n",
       "12032   NA   ORF2 2rd   ORF1-ORF2"
      ]
     },
     "metadata": {},
     "output_type": "display_data"
    }
   ],
   "source": [
    "data_ext8[data_ext8$class==\"ORF1-ORF2\",]"
   ]
  },
  {
   "cell_type": "code",
   "execution_count": 312,
   "id": "9e234d4a-defd-4083-9be0-f5db8c5f7808",
   "metadata": {},
   "outputs": [],
   "source": [
    "#现在大致可以可以对每一个fragment的结构进行分类；\n",
    "#在分类的基础之上，可以统计他们表达值的差异；\n",
    "#以及每一个subfamily，各个类型所占的比例。"
   ]
  },
  {
   "cell_type": "code",
   "execution_count": 159,
   "id": "7652e2d8-98ec-48e3-a2a4-e8942630ed10",
   "metadata": {},
   "outputs": [],
   "source": [
    "write.table(data_ext8,\"data_ext8_ordered.final.txt\",row.names=F,quote=F,sep=\"\\t\")"
   ]
  },
  {
   "cell_type": "code",
   "execution_count": 162,
   "id": "b0541ff7-6b6c-4d0a-80eb-d4fd6de60967",
   "metadata": {},
   "outputs": [],
   "source": [
    "#按照家族，对数据进行计数\n",
    "#data_ext8%>% count(subfamily,class,name = 'count') #好的，这个计数到了，我现在回顾一下原先的数据，看一下他们需要什么？"
   ]
  },
  {
   "cell_type": "code",
   "execution_count": 168,
   "id": "ba0c1a63-440b-43c6-b49b-63aafd93abdc",
   "metadata": {},
   "outputs": [],
   "source": [
    "data_ext8$label<-paste(paste(paste(paste(data_ext8$chromsome,data_ext8$start,sep=\":\"),data_ext8$stop,sep=\"-\"),data_ext8$strand,sep=\"(\"),\"\",sep=\")\")"
   ]
  },
  {
   "cell_type": "code",
   "execution_count": 172,
   "id": "c92caabf-817e-428e-822f-1b0f2bec6c65",
   "metadata": {},
   "outputs": [],
   "source": [
    "data_ext8$label2<-paste(paste(paste(data_ext8$chromsome,data_ext8$start,sep=\":\"),data_ext8$stop,sep=\"-\"),data_ext8$strand,sep=\":\")"
   ]
  },
  {
   "cell_type": "code",
   "execution_count": 174,
   "id": "c3bceafc-bf4b-4e56-92be-8f4843672bad",
   "metadata": {
    "scrolled": true
   },
   "outputs": [
    {
     "data": {
      "text/html": [
       "<table class=\"dataframe\">\n",
       "<caption>A data.frame: 6 × 20</caption>\n",
       "<thead>\n",
       "\t<tr><th></th><th scope=col>subfamily</th><th scope=col>chromsome</th><th scope=col>start</th><th scope=col>stop</th><th scope=col>strand</th><th scope=col>Length</th><th scope=col>orf.start</th><th scope=col>orf.end</th><th scope=col>X.identity</th><th scope=col>alignment.length</th><th scope=col>mismatches</th><th scope=col>gap.opens</th><th scope=col>q.start</th><th scope=col>q.end</th><th scope=col>s.start</th><th scope=col>s..end</th><th scope=col>ORF</th><th scope=col>label</th><th scope=col>class</th><th scope=col>label2</th></tr>\n",
       "\t<tr><th></th><th scope=col>&lt;chr&gt;</th><th scope=col>&lt;chr&gt;</th><th scope=col>&lt;int&gt;</th><th scope=col>&lt;int&gt;</th><th scope=col>&lt;chr&gt;</th><th scope=col>&lt;int&gt;</th><th scope=col>&lt;int&gt;</th><th scope=col>&lt;chr&gt;</th><th scope=col>&lt;dbl&gt;</th><th scope=col>&lt;int&gt;</th><th scope=col>&lt;int&gt;</th><th scope=col>&lt;int&gt;</th><th scope=col>&lt;int&gt;</th><th scope=col>&lt;int&gt;</th><th scope=col>&lt;int&gt;</th><th scope=col>&lt;int&gt;</th><th scope=col>&lt;chr&gt;</th><th scope=col>&lt;chr&gt;</th><th scope=col>&lt;chr&gt;</th><th scope=col>&lt;chr&gt;</th></tr>\n",
       "</thead>\n",
       "<tbody>\n",
       "\t<tr><th scope=row>1</th><td>L1HS</td><td>chr1</td><td>103922066</td><td>103925398</td><td>+</td><td>3332</td><td> 420</td><td>1334</td><td>96.831</td><td> 915</td><td>29</td><td> 0</td><td> 1</td><td> 915</td><td>103</td><td>1017</td><td>ORF1</td><td>chr1:103922066-103925398(+)</td><td>ORF1     </td><td>chr1:103922066-103925398:+</td></tr>\n",
       "\t<tr><th scope=row>2</th><td>L1HS</td><td>chr1</td><td>104770248</td><td>104776278</td><td>-</td><td>6030</td><td> 907</td><td>1923</td><td>98.230</td><td>1017</td><td>18</td><td> 0</td><td> 1</td><td>1017</td><td>  1</td><td>1017</td><td>ORF1</td><td>chr1:104770248-104776278(-)</td><td>ORF1-ORF2</td><td>chr1:104770248-104776278:-</td></tr>\n",
       "\t<tr><th scope=row>3</th><td>L1HS</td><td>chr1</td><td>104770248</td><td>104776278</td><td>-</td><td>6030</td><td>2281</td><td>5814</td><td>98.387</td><td>3534</td><td>57</td><td> 0</td><td> 1</td><td>3534</td><td>295</td><td>3828</td><td>ORF2</td><td>chr1:104770248-104776278(-)</td><td>ORF1-ORF2</td><td>chr1:104770248-104776278:-</td></tr>\n",
       "\t<tr><th scope=row>4</th><td>L1HS</td><td>chr1</td><td>104843834</td><td>104849864</td><td>-</td><td>6030</td><td>1986</td><td>5813</td><td>    NA</td><td>  NA</td><td>NA</td><td>NA</td><td>NA</td><td>  NA</td><td> NA</td><td>  NA</td><td>ORF2</td><td>chr1:104843834-104849864(-)</td><td>ORF2     </td><td>chr1:104843834-104849864:-</td></tr>\n",
       "\t<tr><th scope=row>5</th><td>L1HS</td><td>chr1</td><td>113341608</td><td>113345790</td><td>+</td><td>4182</td><td>1150</td><td>3962</td><td>    NA</td><td>  NA</td><td>NA</td><td>NA</td><td>NA</td><td>  NA</td><td> NA</td><td>  NA</td><td>ORF2</td><td>chr1:113341608-113345790(+)</td><td>ORF2     </td><td>chr1:113341608-113345790:+</td></tr>\n",
       "\t<tr><th scope=row>6</th><td>L1HS</td><td>chr1</td><td>113497221</td><td>113500000</td><td>+</td><td>2779</td><td> 885</td><td>1901</td><td>97.837</td><td>1017</td><td>22</td><td> 0</td><td> 1</td><td>1017</td><td>  1</td><td>1017</td><td>ORF1</td><td>chr1:113497221-113500000(+)</td><td>ORF1-ORF2</td><td>chr1:113497221-113500000:+</td></tr>\n",
       "</tbody>\n",
       "</table>\n"
      ],
      "text/latex": [
       "A data.frame: 6 × 20\n",
       "\\begin{tabular}{r|llllllllllllllllllll}\n",
       "  & subfamily & chromsome & start & stop & strand & Length & orf.start & orf.end & X.identity & alignment.length & mismatches & gap.opens & q.start & q.end & s.start & s..end & ORF & label & class & label2\\\\\n",
       "  & <chr> & <chr> & <int> & <int> & <chr> & <int> & <int> & <chr> & <dbl> & <int> & <int> & <int> & <int> & <int> & <int> & <int> & <chr> & <chr> & <chr> & <chr>\\\\\n",
       "\\hline\n",
       "\t1 & L1HS & chr1 & 103922066 & 103925398 & + & 3332 &  420 & 1334 & 96.831 &  915 & 29 &  0 &  1 &  915 & 103 & 1017 & ORF1 & chr1:103922066-103925398(+) & ORF1      & chr1:103922066-103925398:+\\\\\n",
       "\t2 & L1HS & chr1 & 104770248 & 104776278 & - & 6030 &  907 & 1923 & 98.230 & 1017 & 18 &  0 &  1 & 1017 &   1 & 1017 & ORF1 & chr1:104770248-104776278(-) & ORF1-ORF2 & chr1:104770248-104776278:-\\\\\n",
       "\t3 & L1HS & chr1 & 104770248 & 104776278 & - & 6030 & 2281 & 5814 & 98.387 & 3534 & 57 &  0 &  1 & 3534 & 295 & 3828 & ORF2 & chr1:104770248-104776278(-) & ORF1-ORF2 & chr1:104770248-104776278:-\\\\\n",
       "\t4 & L1HS & chr1 & 104843834 & 104849864 & - & 6030 & 1986 & 5813 &     NA &   NA & NA & NA & NA &   NA &  NA &   NA & ORF2 & chr1:104843834-104849864(-) & ORF2      & chr1:104843834-104849864:-\\\\\n",
       "\t5 & L1HS & chr1 & 113341608 & 113345790 & + & 4182 & 1150 & 3962 &     NA &   NA & NA & NA & NA &   NA &  NA &   NA & ORF2 & chr1:113341608-113345790(+) & ORF2      & chr1:113341608-113345790:+\\\\\n",
       "\t6 & L1HS & chr1 & 113497221 & 113500000 & + & 2779 &  885 & 1901 & 97.837 & 1017 & 22 &  0 &  1 & 1017 &   1 & 1017 & ORF1 & chr1:113497221-113500000(+) & ORF1-ORF2 & chr1:113497221-113500000:+\\\\\n",
       "\\end{tabular}\n"
      ],
      "text/markdown": [
       "\n",
       "A data.frame: 6 × 20\n",
       "\n",
       "| <!--/--> | subfamily &lt;chr&gt; | chromsome &lt;chr&gt; | start &lt;int&gt; | stop &lt;int&gt; | strand &lt;chr&gt; | Length &lt;int&gt; | orf.start &lt;int&gt; | orf.end &lt;chr&gt; | X.identity &lt;dbl&gt; | alignment.length &lt;int&gt; | mismatches &lt;int&gt; | gap.opens &lt;int&gt; | q.start &lt;int&gt; | q.end &lt;int&gt; | s.start &lt;int&gt; | s..end &lt;int&gt; | ORF &lt;chr&gt; | label &lt;chr&gt; | class &lt;chr&gt; | label2 &lt;chr&gt; |\n",
       "|---|---|---|---|---|---|---|---|---|---|---|---|---|---|---|---|---|---|---|---|---|\n",
       "| 1 | L1HS | chr1 | 103922066 | 103925398 | + | 3332 |  420 | 1334 | 96.831 |  915 | 29 |  0 |  1 |  915 | 103 | 1017 | ORF1 | chr1:103922066-103925398(+) | ORF1      | chr1:103922066-103925398:+ |\n",
       "| 2 | L1HS | chr1 | 104770248 | 104776278 | - | 6030 |  907 | 1923 | 98.230 | 1017 | 18 |  0 |  1 | 1017 |   1 | 1017 | ORF1 | chr1:104770248-104776278(-) | ORF1-ORF2 | chr1:104770248-104776278:- |\n",
       "| 3 | L1HS | chr1 | 104770248 | 104776278 | - | 6030 | 2281 | 5814 | 98.387 | 3534 | 57 |  0 |  1 | 3534 | 295 | 3828 | ORF2 | chr1:104770248-104776278(-) | ORF1-ORF2 | chr1:104770248-104776278:- |\n",
       "| 4 | L1HS | chr1 | 104843834 | 104849864 | - | 6030 | 1986 | 5813 |     NA |   NA | NA | NA | NA |   NA |  NA |   NA | ORF2 | chr1:104843834-104849864(-) | ORF2      | chr1:104843834-104849864:- |\n",
       "| 5 | L1HS | chr1 | 113341608 | 113345790 | + | 4182 | 1150 | 3962 |     NA |   NA | NA | NA | NA |   NA |  NA |   NA | ORF2 | chr1:113341608-113345790(+) | ORF2      | chr1:113341608-113345790:+ |\n",
       "| 6 | L1HS | chr1 | 113497221 | 113500000 | + | 2779 |  885 | 1901 | 97.837 | 1017 | 22 |  0 |  1 | 1017 |   1 | 1017 | ORF1 | chr1:113497221-113500000(+) | ORF1-ORF2 | chr1:113497221-113500000:+ |\n",
       "\n"
      ],
      "text/plain": [
       "  subfamily chromsome start     stop      strand Length orf.start orf.end\n",
       "1 L1HS      chr1      103922066 103925398 +      3332    420      1334   \n",
       "2 L1HS      chr1      104770248 104776278 -      6030    907      1923   \n",
       "3 L1HS      chr1      104770248 104776278 -      6030   2281      5814   \n",
       "4 L1HS      chr1      104843834 104849864 -      6030   1986      5813   \n",
       "5 L1HS      chr1      113341608 113345790 +      4182   1150      3962   \n",
       "6 L1HS      chr1      113497221 113500000 +      2779    885      1901   \n",
       "  X.identity alignment.length mismatches gap.opens q.start q.end s.start s..end\n",
       "1 96.831      915             29          0         1       915  103     1017  \n",
       "2 98.230     1017             18          0         1      1017    1     1017  \n",
       "3 98.387     3534             57          0         1      3534  295     3828  \n",
       "4     NA       NA             NA         NA        NA        NA   NA       NA  \n",
       "5     NA       NA             NA         NA        NA        NA   NA       NA  \n",
       "6 97.837     1017             22          0         1      1017    1     1017  \n",
       "  ORF  label                       class     label2                    \n",
       "1 ORF1 chr1:103922066-103925398(+) ORF1      chr1:103922066-103925398:+\n",
       "2 ORF1 chr1:104770248-104776278(-) ORF1-ORF2 chr1:104770248-104776278:-\n",
       "3 ORF2 chr1:104770248-104776278(-) ORF1-ORF2 chr1:104770248-104776278:-\n",
       "4 ORF2 chr1:104843834-104849864(-) ORF2      chr1:104843834-104849864:-\n",
       "5 ORF2 chr1:113341608-113345790(+) ORF2      chr1:113341608-113345790:+\n",
       "6 ORF1 chr1:113497221-113500000(+) ORF1-ORF2 chr1:113497221-113500000:+"
      ]
     },
     "metadata": {},
     "output_type": "display_data"
    }
   ],
   "source": [
    "head(data_ext8)"
   ]
  },
  {
   "cell_type": "code",
   "execution_count": 175,
   "id": "a022e466-a246-498e-9a98-004075028f9c",
   "metadata": {},
   "outputs": [],
   "source": [
    "write.table(data_ext8,\"data_ext8_ordered.final.txt\",row.names=F,quote=F,sep=\"\\t\")"
   ]
  },
  {
   "cell_type": "code",
   "execution_count": null,
   "id": "1ec45b92-b959-431d-9cf4-750e0ec6d1d5",
   "metadata": {},
   "outputs": [],
   "source": []
  }
 ],
 "metadata": {
  "kernelspec": {
   "display_name": "R",
   "language": "R",
   "name": "ir"
  },
  "language_info": {
   "codemirror_mode": "r",
   "file_extension": ".r",
   "mimetype": "text/x-r-source",
   "name": "R",
   "pygments_lexer": "r",
   "version": "4.2.0"
  }
 },
 "nbformat": 4,
 "nbformat_minor": 5
}
