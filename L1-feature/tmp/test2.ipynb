{
 "cells": [
  {
   "cell_type": "markdown",
   "metadata": {},
   "source": [
    "### Project1"
   ]
  },
  {
   "cell_type": "code",
   "execution_count": 1,
   "metadata": {
    "collapsed": true,
    "jupyter": {
     "outputs_hidden": true
    }
   },
   "outputs": [],
   "source": [
    "setwd(\"/home/xxzhang/data/TE/L1PA/\")"
   ]
  },
  {
   "cell_type": "code",
   "execution_count": 2,
   "metadata": {
    "collapsed": true,
    "jupyter": {
     "outputs_hidden": true
    }
   },
   "outputs": [],
   "source": [
    "df<-data.frame(chr=c(rep(\"L1HS\",2),rep(\"L1PA2\",2)),\n",
    "               x=c(1,6019,1,6020),\n",
    "               y=c(0,1,0,1))"
   ]
  },
  {
   "cell_type": "code",
   "execution_count": 3,
   "metadata": {},
   "outputs": [
    {
     "data": {
      "text/html": [
       "<table>\n",
       "<thead><tr><th scope=col>chr</th><th scope=col>x</th><th scope=col>y</th></tr></thead>\n",
       "<tbody>\n",
       "\t<tr><td>L1HS </td><td>   1 </td><td>0    </td></tr>\n",
       "\t<tr><td>L1HS </td><td>6019 </td><td>1    </td></tr>\n",
       "\t<tr><td>L1PA2</td><td>   1 </td><td>0    </td></tr>\n",
       "\t<tr><td>L1PA2</td><td>6020 </td><td>1    </td></tr>\n",
       "</tbody>\n",
       "</table>\n"
      ],
      "text/latex": [
       "\\begin{tabular}{r|lll}\n",
       " chr & x & y\\\\\n",
       "\\hline\n",
       "\t L1HS  &    1  & 0    \\\\\n",
       "\t L1HS  & 6019  & 1    \\\\\n",
       "\t L1PA2 &    1  & 0    \\\\\n",
       "\t L1PA2 & 6020  & 1    \\\\\n",
       "\\end{tabular}\n"
      ],
      "text/markdown": [
       "\n",
       "chr | x | y | \n",
       "|---|---|---|---|\n",
       "| L1HS  |    1  | 0     | \n",
       "| L1HS  | 6019  | 1     | \n",
       "| L1PA2 |    1  | 0     | \n",
       "| L1PA2 | 6020  | 1     | \n",
       "\n",
       "\n"
      ],
      "text/plain": [
       "  chr   x    y\n",
       "1 L1HS     1 0\n",
       "2 L1HS  6019 1\n",
       "3 L1PA2    1 0\n",
       "4 L1PA2 6020 1"
      ]
     },
     "metadata": {},
     "output_type": "display_data"
    }
   ],
   "source": [
    "df"
   ]
  },
  {
   "cell_type": "code",
   "execution_count": 4,
   "metadata": {
    "collapsed": true,
    "jupyter": {
     "outputs_hidden": true
    }
   },
   "outputs": [],
   "source": [
    "df1<-read.csv(\"L1HS_L1PA2.txt\",stringsAsFactors = F,header=F,sep=\"\\t\")"
   ]
  },
  {
   "cell_type": "code",
   "execution_count": 1,
   "metadata": {
    "scrolled": true
   },
   "outputs": [
    {
     "name": "stderr",
     "output_type": "stream",
     "text": [
      "========================================\n",
      "circlize version 0.4.4\n",
      "CRAN page: https://cran.r-project.org/package=circlize\n",
      "Github page: https://github.com/jokergoo/circlize\n",
      "Documentation: http://jokergoo.github.io/circlize_book/book/\n",
      "\n",
      "If you use it in published research, please cite:\n",
      "Gu, Z. circlize implements and enhances circular visualization \n",
      "  in R. Bioinformatics 2014.\n",
      "========================================\n",
      "\n"
     ]
    },
    {
     "ename": "ERROR",
     "evalue": "Error in df$chr: 类别为'closure'的对象不可以取子集\n",
     "output_type": "error",
     "traceback": [
      "Error in df$chr: 类别为'closure'的对象不可以取子集\nTraceback:\n",
      "1. circos.initialize(factors = df$chr, x = df$x)"
     ]
    }
   ],
   "source": [
    "library(circlize)\n",
    "library(RColorBrewer)\n",
    "#library(ComplexHeatmap)\n",
    "col<-RColorBrewer::brewer.pal(6,\"Paired\")\n",
    "circos.par(\"start.degree\" = 130)\n",
    "circos.initialize(factors = df$chr,x=df$x)\n",
    "circos.trackPlotRegion(factors = df$chr,y=df$y,\n",
    "                       panel.fun = function(x,y){\n",
    "                         circos.axis()\n",
    "                       },track.height = 0.1)\n",
    "highlight.sector(sector.index = \"L1HS\",col=col[1])\n",
    "highlight.sector(sector.index = \"L1PA2\",col=col[2])\n",
    "circos.text(x=70000,y=0.5,\n",
    "            labels = \"L1HS\",\n",
    "            sector.index = \"L1HS\")\n",
    "circos.text(x=220000,y=0.5,\n",
    "            labels = \"L1PA2\",\n",
    "            sector.index = \"L1PA2\",\n",
    "            facing = \"outside\")\n",
    "col_fun = colorRamp2(c(70,90,100),\n",
    "                     c(\"green\", \"yellow\", \"red\"))\n",
    "for (i in 1:13){\n",
    "  x<-sort(c(df1[i,8],df1[i,7]))\n",
    "  y<-sort(c(df1[i,10],df1[i,9]))\n",
    "  z<-df1[i,3]\n",
    "  circos.link(\"L1HS\",x,\"L1PA2\",y,\n",
    "              col=add_transparency(col_fun(z)))\n",
    "}\n",
    "circos.clear()\n",
    "lgd_links = Legend(at = c(70, 80, 90, 100), \n",
    "                   col_fun = col_fun, \n",
    "                   title_position = \"topleft\",\n",
    "                   title = \"identity(%)\")\n",
    "lgd_list_vertical = packLegend(lgd_links)\n",
    "\n",
    "#draw(lgd_list_vertical, x = unit(10, \"mm\"), \n",
    "#     y = unit(10, \"mm\"), just = c(\"left\", \"bottom\"))"
   ]
  },
  {
   "cell_type": "markdown",
   "metadata": {
    "collapsed": true,
    "jupyter": {
     "outputs_hidden": true
    }
   },
   "source": [
    "### Project2"
   ]
  },
  {
   "cell_type": "code",
   "execution_count": 12,
   "metadata": {
    "collapsed": true,
    "jupyter": {
     "outputs_hidden": true
    }
   },
   "outputs": [],
   "source": [
    "setwd(\"/home/xxzhang/workplace/project/CRISPRa/expression/ESC-div/TElocal/\")"
   ]
  },
  {
   "cell_type": "code",
   "execution_count": 4,
   "metadata": {},
   "outputs": [
    {
     "name": "stderr",
     "output_type": "stream",
     "text": [
      "\n",
      "Attaching package: ‘dplyr’\n",
      "\n",
      "The following objects are masked from ‘package:stats’:\n",
      "\n",
      "    filter, lag\n",
      "\n",
      "The following objects are masked from ‘package:base’:\n",
      "\n",
      "    intersect, setdiff, setequal, union\n",
      "\n"
     ]
    }
   ],
   "source": [
    "library(dplyr)"
   ]
  },
  {
   "cell_type": "code",
   "execution_count": 18,
   "metadata": {},
   "outputs": [
    {
     "name": "stderr",
     "output_type": "stream",
     "text": [
      "── Attaching packages ────────────────────────────────────────────────────────────────────────────────────────────────────────────────────── tidyverse 1.2.1 ──\n",
      "✔ ggplot2 3.1.0     ✔ readr   1.1.1\n",
      "✔ tibble  1.4.2     ✔ purrr   0.2.5\n",
      "✔ tidyr   0.8.1     ✔ stringr 1.2.0\n",
      "✔ ggplot2 3.1.0     ✔ forcats 0.3.0\n",
      "── Conflicts ───────────────────────────────────────────────────────────────────────────────────────────────────────────────────────── tidyverse_conflicts() ──\n",
      "✖ dplyr::filter() masks stats::filter()\n",
      "✖ dplyr::lag()    masks stats::lag()\n"
     ]
    }
   ],
   "source": [
    "library(tidyverse)"
   ]
  },
  {
   "cell_type": "code",
   "execution_count": 4,
   "metadata": {
    "collapsed": true,
    "jupyter": {
     "outputs_hidden": true
    }
   },
   "outputs": [],
   "source": [
    "data<-read.table(\"multi_ERR5208492_ESC_1.TE.cntTable\",header=T)"
   ]
  },
  {
   "cell_type": "code",
   "execution_count": 5,
   "metadata": {},
   "outputs": [
    {
     "data": {
      "text/html": [
       "<table>\n",
       "<thead><tr><th scope=col>gene.TE</th><th scope=col>X.home.xxzhang.workplace.project.CRISPRa.expression.ESC.div.STAR.multi.multi_ERR5208492_ESC_1Aligned.sortedByCoord.out.bam</th></tr></thead>\n",
       "<tbody>\n",
       "\t<tr><td>(CATTC)n:(CATTC)n:Satellite:Satellite      </td><td>0                                          </td></tr>\n",
       "\t<tr><td>(CATTC)n_dup10:(CATTC)n:Satellite:Satellite</td><td>0                                          </td></tr>\n",
       "\t<tr><td>(CATTC)n_dup11:(CATTC)n:Satellite:Satellite</td><td>0                                          </td></tr>\n",
       "\t<tr><td>(CATTC)n_dup12:(CATTC)n:Satellite:Satellite</td><td>1                                          </td></tr>\n",
       "\t<tr><td>(CATTC)n_dup13:(CATTC)n:Satellite:Satellite</td><td>0                                          </td></tr>\n",
       "\t<tr><td>(CATTC)n_dup14:(CATTC)n:Satellite:Satellite</td><td>0                                          </td></tr>\n",
       "</tbody>\n",
       "</table>\n"
      ],
      "text/latex": [
       "\\begin{tabular}{r|ll}\n",
       " gene.TE & X.home.xxzhang.workplace.project.CRISPRa.expression.ESC.div.STAR.multi.multi\\_ERR5208492\\_ESC\\_1Aligned.sortedByCoord.out.bam\\\\\n",
       "\\hline\n",
       "\t (CATTC)n:(CATTC)n:Satellite:Satellite       & 0                                          \\\\\n",
       "\t (CATTC)n\\_dup10:(CATTC)n:Satellite:Satellite & 0                                            \\\\\n",
       "\t (CATTC)n\\_dup11:(CATTC)n:Satellite:Satellite & 0                                            \\\\\n",
       "\t (CATTC)n\\_dup12:(CATTC)n:Satellite:Satellite & 1                                            \\\\\n",
       "\t (CATTC)n\\_dup13:(CATTC)n:Satellite:Satellite & 0                                            \\\\\n",
       "\t (CATTC)n\\_dup14:(CATTC)n:Satellite:Satellite & 0                                            \\\\\n",
       "\\end{tabular}\n"
      ],
      "text/markdown": [
       "\n",
       "gene.TE | X.home.xxzhang.workplace.project.CRISPRa.expression.ESC.div.STAR.multi.multi_ERR5208492_ESC_1Aligned.sortedByCoord.out.bam | \n",
       "|---|---|---|---|---|---|\n",
       "| (CATTC)n:(CATTC)n:Satellite:Satellite       | 0                                           | \n",
       "| (CATTC)n_dup10:(CATTC)n:Satellite:Satellite | 0                                           | \n",
       "| (CATTC)n_dup11:(CATTC)n:Satellite:Satellite | 0                                           | \n",
       "| (CATTC)n_dup12:(CATTC)n:Satellite:Satellite | 1                                           | \n",
       "| (CATTC)n_dup13:(CATTC)n:Satellite:Satellite | 0                                           | \n",
       "| (CATTC)n_dup14:(CATTC)n:Satellite:Satellite | 0                                           | \n",
       "\n",
       "\n"
      ],
      "text/plain": [
       "  gene.TE                                    \n",
       "1 (CATTC)n:(CATTC)n:Satellite:Satellite      \n",
       "2 (CATTC)n_dup10:(CATTC)n:Satellite:Satellite\n",
       "3 (CATTC)n_dup11:(CATTC)n:Satellite:Satellite\n",
       "4 (CATTC)n_dup12:(CATTC)n:Satellite:Satellite\n",
       "5 (CATTC)n_dup13:(CATTC)n:Satellite:Satellite\n",
       "6 (CATTC)n_dup14:(CATTC)n:Satellite:Satellite\n",
       "  X.home.xxzhang.workplace.project.CRISPRa.expression.ESC.div.STAR.multi.multi_ERR5208492_ESC_1Aligned.sortedByCoord.out.bam\n",
       "1 0                                                                                                                         \n",
       "2 0                                                                                                                         \n",
       "3 0                                                                                                                         \n",
       "4 1                                                                                                                         \n",
       "5 0                                                                                                                         \n",
       "6 0                                                                                                                         "
      ]
     },
     "metadata": {},
     "output_type": "display_data"
    }
   ],
   "source": [
    "head(data)"
   ]
  },
  {
   "cell_type": "code",
   "execution_count": 6,
   "metadata": {
    "collapsed": true,
    "jupyter": {
     "outputs_hidden": true
    }
   },
   "outputs": [],
   "source": [
    "colnames(data)<-c(\"TE\",\"num\")"
   ]
  },
  {
   "cell_type": "code",
   "execution_count": 9,
   "metadata": {
    "collapsed": true,
    "jupyter": {
     "outputs_hidden": true
    }
   },
   "outputs": [],
   "source": [
    "#df<-data %>% filter(grepl('L1HS', TE))"
   ]
  },
  {
   "cell_type": "code",
   "execution_count": 79,
   "metadata": {
    "collapsed": true,
    "jupyter": {
     "outputs_hidden": true
    }
   },
   "outputs": [],
   "source": [
    "#head(df)"
   ]
  },
  {
   "cell_type": "code",
   "execution_count": 18,
   "metadata": {
    "collapsed": true,
    "jupyter": {
     "outputs_hidden": true
    }
   },
   "outputs": [],
   "source": [
    "df<-data %>% separate(TE, c(\"transcript\",\"gene\",\"family\",\"class\"),sep = \":\")"
   ]
  },
  {
   "cell_type": "code",
   "execution_count": 85,
   "metadata": {
    "collapsed": true,
    "jupyter": {
     "outputs_hidden": true
    }
   },
   "outputs": [],
   "source": [
    "test<-df[df$num!=0,]"
   ]
  },
  {
   "cell_type": "code",
   "execution_count": 86,
   "metadata": {},
   "outputs": [
    {
     "data": {
      "text/html": [
       "<table>\n",
       "<thead><tr><th></th><th scope=col>transcript</th><th scope=col>gene</th><th scope=col>family</th><th scope=col>class</th><th scope=col>num</th></tr></thead>\n",
       "<tbody>\n",
       "\t<tr><th scope=row>4</th><td>(CATTC)n_dup12</td><td>(CATTC)n      </td><td>Satellite     </td><td>Satellite     </td><td>1             </td></tr>\n",
       "\t<tr><th scope=row>20</th><td>(GAATG)n      </td><td>(GAATG)n      </td><td>Satellite     </td><td>Satellite     </td><td>1             </td></tr>\n",
       "\t<tr><th scope=row>22</th><td>(GAATG)n_dup11</td><td>(GAATG)n      </td><td>Satellite     </td><td>Satellite     </td><td>1             </td></tr>\n",
       "\t<tr><th scope=row>52</th><td>(GAATG)n_dup6 </td><td>(GAATG)n      </td><td>Satellite     </td><td>Satellite     </td><td>1             </td></tr>\n",
       "\t<tr><th scope=row>74</th><td>7SK_dup116    </td><td>7SK           </td><td>RNA           </td><td>RNA           </td><td>2             </td></tr>\n",
       "\t<tr><th scope=row>75</th><td>7SK_dup117    </td><td>7SK           </td><td>RNA           </td><td>RNA           </td><td>6             </td></tr>\n",
       "</tbody>\n",
       "</table>\n"
      ],
      "text/latex": [
       "\\begin{tabular}{r|lllll}\n",
       "  & transcript & gene & family & class & num\\\\\n",
       "\\hline\n",
       "\t4 & (CATTC)n\\_dup12 & (CATTC)n         & Satellite        & Satellite        & 1               \\\\\n",
       "\t20 & (GAATG)n       & (GAATG)n       & Satellite      & Satellite      & 1             \\\\\n",
       "\t22 & (GAATG)n\\_dup11 & (GAATG)n         & Satellite        & Satellite        & 1               \\\\\n",
       "\t52 & (GAATG)n\\_dup6  & (GAATG)n         & Satellite        & Satellite        & 1               \\\\\n",
       "\t74 & 7SK\\_dup116     & 7SK              & RNA              & RNA              & 2               \\\\\n",
       "\t75 & 7SK\\_dup117     & 7SK              & RNA              & RNA              & 6               \\\\\n",
       "\\end{tabular}\n"
      ],
      "text/markdown": [
       "\n",
       "| <!--/--> | transcript | gene | family | class | num | \n",
       "|---|---|---|---|---|---|\n",
       "| 4 | (CATTC)n_dup12 | (CATTC)n       | Satellite      | Satellite      | 1              | \n",
       "| 20 | (GAATG)n       | (GAATG)n       | Satellite      | Satellite      | 1              | \n",
       "| 22 | (GAATG)n_dup11 | (GAATG)n       | Satellite      | Satellite      | 1              | \n",
       "| 52 | (GAATG)n_dup6  | (GAATG)n       | Satellite      | Satellite      | 1              | \n",
       "| 74 | 7SK_dup116     | 7SK            | RNA            | RNA            | 2              | \n",
       "| 75 | 7SK_dup117     | 7SK            | RNA            | RNA            | 6              | \n",
       "\n",
       "\n"
      ],
      "text/plain": [
       "   transcript     gene     family    class     num\n",
       "4  (CATTC)n_dup12 (CATTC)n Satellite Satellite 1  \n",
       "20 (GAATG)n       (GAATG)n Satellite Satellite 1  \n",
       "22 (GAATG)n_dup11 (GAATG)n Satellite Satellite 1  \n",
       "52 (GAATG)n_dup6  (GAATG)n Satellite Satellite 1  \n",
       "74 7SK_dup116     7SK      RNA       RNA       2  \n",
       "75 7SK_dup117     7SK      RNA       RNA       6  "
      ]
     },
     "metadata": {},
     "output_type": "display_data"
    }
   ],
   "source": [
    "head(test)"
   ]
  },
  {
   "cell_type": "code",
   "execution_count": 117,
   "metadata": {
    "collapsed": true,
    "jupyter": {
     "outputs_hidden": true
    }
   },
   "outputs": [],
   "source": [
    "noZerooutput<-test%>% filter(gene%in%c(\"L1HS\"))"
   ]
  },
  {
   "cell_type": "code",
   "execution_count": 119,
   "metadata": {
    "collapsed": true,
    "jupyter": {
     "outputs_hidden": true
    }
   },
   "outputs": [],
   "source": [
    "#write.table(noZerooutput,\"multi_ERR5208492_ESC_1.L1HS.txt\",row.names=F)"
   ]
  },
  {
   "cell_type": "code",
   "execution_count": 15,
   "metadata": {
    "collapsed": true,
    "jupyter": {
     "outputs_hidden": true
    }
   },
   "outputs": [],
   "source": [
    "countDat<-read.table(\"multi_ERR5208492_ESC_1.L1HS.txt\",header=T)"
   ]
  },
  {
   "cell_type": "code",
   "execution_count": 44,
   "metadata": {},
   "outputs": [
    {
     "data": {
      "text/html": [
       "<ol class=list-inline>\n",
       "\t<li>509</li>\n",
       "\t<li>5</li>\n",
       "</ol>\n"
      ],
      "text/latex": [
       "\\begin{enumerate*}\n",
       "\\item 509\n",
       "\\item 5\n",
       "\\end{enumerate*}\n"
      ],
      "text/markdown": [
       "1. 509\n",
       "2. 5\n",
       "\n",
       "\n"
      ],
      "text/plain": [
       "[1] 509   5"
      ]
     },
     "metadata": {},
     "output_type": "display_data"
    }
   ],
   "source": [
    "dim(countDat)"
   ]
  },
  {
   "cell_type": "code",
   "execution_count": 16,
   "metadata": {},
   "outputs": [
    {
     "data": {
      "text/html": [
       "<table>\n",
       "<thead><tr><th scope=col>transcript</th><th scope=col>gene</th><th scope=col>family</th><th scope=col>class</th><th scope=col>num</th></tr></thead>\n",
       "<tbody>\n",
       "\t<tr><td>L1HS_dup1000</td><td>L1HS        </td><td>L1          </td><td>LINE        </td><td> 1          </td></tr>\n",
       "\t<tr><td>L1HS_dup1004</td><td>L1HS        </td><td>L1          </td><td>LINE        </td><td> 3          </td></tr>\n",
       "\t<tr><td>L1HS_dup1005</td><td>L1HS        </td><td>L1          </td><td>LINE        </td><td>17          </td></tr>\n",
       "\t<tr><td>L1HS_dup1006</td><td>L1HS        </td><td>L1          </td><td>LINE        </td><td> 1          </td></tr>\n",
       "\t<tr><td>L1HS_dup1009</td><td>L1HS        </td><td>L1          </td><td>LINE        </td><td> 4          </td></tr>\n",
       "\t<tr><td>L1HS_dup1010</td><td>L1HS        </td><td>L1          </td><td>LINE        </td><td> 1          </td></tr>\n",
       "</tbody>\n",
       "</table>\n"
      ],
      "text/latex": [
       "\\begin{tabular}{r|lllll}\n",
       " transcript & gene & family & class & num\\\\\n",
       "\\hline\n",
       "\t L1HS\\_dup1000 & L1HS           & L1             & LINE           &  1            \\\\\n",
       "\t L1HS\\_dup1004 & L1HS           & L1             & LINE           &  3            \\\\\n",
       "\t L1HS\\_dup1005 & L1HS           & L1             & LINE           & 17            \\\\\n",
       "\t L1HS\\_dup1006 & L1HS           & L1             & LINE           &  1            \\\\\n",
       "\t L1HS\\_dup1009 & L1HS           & L1             & LINE           &  4            \\\\\n",
       "\t L1HS\\_dup1010 & L1HS           & L1             & LINE           &  1            \\\\\n",
       "\\end{tabular}\n"
      ],
      "text/markdown": [
       "\n",
       "transcript | gene | family | class | num | \n",
       "|---|---|---|---|---|---|\n",
       "| L1HS_dup1000 | L1HS         | L1           | LINE         |  1           | \n",
       "| L1HS_dup1004 | L1HS         | L1           | LINE         |  3           | \n",
       "| L1HS_dup1005 | L1HS         | L1           | LINE         | 17           | \n",
       "| L1HS_dup1006 | L1HS         | L1           | LINE         |  1           | \n",
       "| L1HS_dup1009 | L1HS         | L1           | LINE         |  4           | \n",
       "| L1HS_dup1010 | L1HS         | L1           | LINE         |  1           | \n",
       "\n",
       "\n"
      ],
      "text/plain": [
       "  transcript   gene family class num\n",
       "1 L1HS_dup1000 L1HS L1     LINE   1 \n",
       "2 L1HS_dup1004 L1HS L1     LINE   3 \n",
       "3 L1HS_dup1005 L1HS L1     LINE  17 \n",
       "4 L1HS_dup1006 L1HS L1     LINE   1 \n",
       "5 L1HS_dup1009 L1HS L1     LINE   4 \n",
       "6 L1HS_dup1010 L1HS L1     LINE   1 "
      ]
     },
     "metadata": {},
     "output_type": "display_data"
    }
   ],
   "source": [
    "head(countDat)"
   ]
  },
  {
   "cell_type": "code",
   "execution_count": 121,
   "metadata": {
    "collapsed": true,
    "jupyter": {
     "outputs_hidden": true
    }
   },
   "outputs": [],
   "source": [
    "gtf<-read.table(\"/home/xxzhang/data/Genome_reference/GTF/TE_gtf/hg38_rmsk_TE.gtf.locInd.locations\",header=T)"
   ]
  },
  {
   "cell_type": "code",
   "execution_count": 8,
   "metadata": {
    "collapsed": true,
    "jupyter": {
     "outputs_hidden": true
    }
   },
   "outputs": [],
   "source": [
    "gtf<-read.table(\"/home/xxzhang/data/Genome_reference/GTF/TE_gtf/L1HS.locInd.locations\")"
   ]
  },
  {
   "cell_type": "code",
   "execution_count": 9,
   "metadata": {},
   "outputs": [
    {
     "data": {
      "text/html": [
       "<table>\n",
       "<thead><tr><th scope=col>V1</th><th scope=col>V2</th></tr></thead>\n",
       "<tbody>\n",
       "\t<tr><td>L1HS_dup45                </td><td>chr1:102230800-102231031:-</td></tr>\n",
       "\t<tr><td>L1HS_dup46                </td><td>chr1:102231032-102231475:+</td></tr>\n",
       "\t<tr><td>L1HS_dup47                </td><td>chr1:103922001-103922098:+</td></tr>\n",
       "\t<tr><td>L1HS_dup48                </td><td>chr1:103922066-103925398:+</td></tr>\n",
       "\t<tr><td>L1HS_dup49                </td><td>chr1:104035269-104035972:-</td></tr>\n",
       "\t<tr><td>L1HS_dup50                </td><td>chr1:104035973-104036669:+</td></tr>\n",
       "</tbody>\n",
       "</table>\n"
      ],
      "text/latex": [
       "\\begin{tabular}{r|ll}\n",
       " V1 & V2\\\\\n",
       "\\hline\n",
       "\t L1HS\\_dup45               & chr1:102230800-102231031:-\\\\\n",
       "\t L1HS\\_dup46               & chr1:102231032-102231475:+\\\\\n",
       "\t L1HS\\_dup47               & chr1:103922001-103922098:+\\\\\n",
       "\t L1HS\\_dup48               & chr1:103922066-103925398:+\\\\\n",
       "\t L1HS\\_dup49               & chr1:104035269-104035972:-\\\\\n",
       "\t L1HS\\_dup50               & chr1:104035973-104036669:+\\\\\n",
       "\\end{tabular}\n"
      ],
      "text/markdown": [
       "\n",
       "V1 | V2 | \n",
       "|---|---|---|---|---|---|\n",
       "| L1HS_dup45                 | chr1:102230800-102231031:- | \n",
       "| L1HS_dup46                 | chr1:102231032-102231475:+ | \n",
       "| L1HS_dup47                 | chr1:103922001-103922098:+ | \n",
       "| L1HS_dup48                 | chr1:103922066-103925398:+ | \n",
       "| L1HS_dup49                 | chr1:104035269-104035972:- | \n",
       "| L1HS_dup50                 | chr1:104035973-104036669:+ | \n",
       "\n",
       "\n"
      ],
      "text/plain": [
       "  V1         V2                        \n",
       "1 L1HS_dup45 chr1:102230800-102231031:-\n",
       "2 L1HS_dup46 chr1:102231032-102231475:+\n",
       "3 L1HS_dup47 chr1:103922001-103922098:+\n",
       "4 L1HS_dup48 chr1:103922066-103925398:+\n",
       "5 L1HS_dup49 chr1:104035269-104035972:-\n",
       "6 L1HS_dup50 chr1:104035973-104036669:+"
      ]
     },
     "metadata": {},
     "output_type": "display_data"
    }
   ],
   "source": [
    "head(gtf)"
   ]
  },
  {
   "cell_type": "code",
   "execution_count": 48,
   "metadata": {},
   "outputs": [
    {
     "data": {
      "text/html": [
       "<ol class=list-inline>\n",
       "\t<li>1686</li>\n",
       "\t<li>2</li>\n",
       "</ol>\n"
      ],
      "text/latex": [
       "\\begin{enumerate*}\n",
       "\\item 1686\n",
       "\\item 2\n",
       "\\end{enumerate*}\n"
      ],
      "text/markdown": [
       "1. 1686\n",
       "2. 2\n",
       "\n",
       "\n"
      ],
      "text/plain": [
       "[1] 1686    2"
      ]
     },
     "metadata": {},
     "output_type": "display_data"
    }
   ],
   "source": [
    "dim(gtf)"
   ]
  },
  {
   "cell_type": "code",
   "execution_count": 27,
   "metadata": {},
   "outputs": [
    {
     "name": "stderr",
     "output_type": "stream",
     "text": [
      "Warning message:\n",
      "“Expected 4 pieces. Additional pieces discarded in 871 rows [1, 5, 7, 8, 9, 11, 19, 22, 24, 27, 28, 29, 30, 31, 33, 34, 37, 38, 39, 40, ...].”"
     ]
    }
   ],
   "source": [
    "gtff<-gtf %>% separate(V2, c(\"chromsome\",\"start\",\"stop\",\"strand\"),sep = \"[-|:]\")"
   ]
  },
  {
   "cell_type": "code",
   "execution_count": 28,
   "metadata": {},
   "outputs": [
    {
     "data": {
      "text/html": [
       "<table>\n",
       "<thead><tr><th scope=col>V1</th><th scope=col>chromsome</th><th scope=col>start</th><th scope=col>stop</th><th scope=col>strand</th></tr></thead>\n",
       "<tbody>\n",
       "\t<tr><td>L1HS_dup45</td><td>chr1      </td><td>102230800 </td><td>102231031 </td><td>          </td></tr>\n",
       "\t<tr><td>L1HS_dup46</td><td>chr1      </td><td>102231032 </td><td>102231475 </td><td>+         </td></tr>\n",
       "\t<tr><td>L1HS_dup47</td><td>chr1      </td><td>103922001 </td><td>103922098 </td><td>+         </td></tr>\n",
       "\t<tr><td>L1HS_dup48</td><td>chr1      </td><td>103922066 </td><td>103925398 </td><td>+         </td></tr>\n",
       "\t<tr><td>L1HS_dup49</td><td>chr1      </td><td>104035269 </td><td>104035972 </td><td>          </td></tr>\n",
       "\t<tr><td>L1HS_dup50</td><td>chr1      </td><td>104035973 </td><td>104036669 </td><td>+         </td></tr>\n",
       "</tbody>\n",
       "</table>\n"
      ],
      "text/latex": [
       "\\begin{tabular}{r|lllll}\n",
       " V1 & chromsome & start & stop & strand\\\\\n",
       "\\hline\n",
       "\t L1HS\\_dup45 & chr1         & 102230800    & 102231031    &             \\\\\n",
       "\t L1HS\\_dup46 & chr1         & 102231032    & 102231475    & +           \\\\\n",
       "\t L1HS\\_dup47 & chr1         & 103922001    & 103922098    & +           \\\\\n",
       "\t L1HS\\_dup48 & chr1         & 103922066    & 103925398    & +           \\\\\n",
       "\t L1HS\\_dup49 & chr1         & 104035269    & 104035972    &             \\\\\n",
       "\t L1HS\\_dup50 & chr1         & 104035973    & 104036669    & +           \\\\\n",
       "\\end{tabular}\n"
      ],
      "text/markdown": [
       "\n",
       "V1 | chromsome | start | stop | strand | \n",
       "|---|---|---|---|---|---|\n",
       "| L1HS_dup45 | chr1       | 102230800  | 102231031  |            | \n",
       "| L1HS_dup46 | chr1       | 102231032  | 102231475  | +          | \n",
       "| L1HS_dup47 | chr1       | 103922001  | 103922098  | +          | \n",
       "| L1HS_dup48 | chr1       | 103922066  | 103925398  | +          | \n",
       "| L1HS_dup49 | chr1       | 104035269  | 104035972  |            | \n",
       "| L1HS_dup50 | chr1       | 104035973  | 104036669  | +          | \n",
       "\n",
       "\n"
      ],
      "text/plain": [
       "  V1         chromsome start     stop      strand\n",
       "1 L1HS_dup45 chr1      102230800 102231031       \n",
       "2 L1HS_dup46 chr1      102231032 102231475 +     \n",
       "3 L1HS_dup47 chr1      103922001 103922098 +     \n",
       "4 L1HS_dup48 chr1      103922066 103925398 +     \n",
       "5 L1HS_dup49 chr1      104035269 104035972       \n",
       "6 L1HS_dup50 chr1      104035973 104036669 +     "
      ]
     },
     "metadata": {},
     "output_type": "display_data"
    }
   ],
   "source": [
    "head(gtff)"
   ]
  },
  {
   "cell_type": "code",
   "execution_count": 47,
   "metadata": {},
   "outputs": [
    {
     "data": {
      "text/html": [
       "<ol class=list-inline>\n",
       "\t<li>1686</li>\n",
       "\t<li>6</li>\n",
       "</ol>\n"
      ],
      "text/latex": [
       "\\begin{enumerate*}\n",
       "\\item 1686\n",
       "\\item 6\n",
       "\\end{enumerate*}\n"
      ],
      "text/markdown": [
       "1. 1686\n",
       "2. 6\n",
       "\n",
       "\n"
      ],
      "text/plain": [
       "[1] 1686    6"
      ]
     },
     "metadata": {},
     "output_type": "display_data"
    }
   ],
   "source": [
    "dim(gtff)"
   ]
  },
  {
   "cell_type": "code",
   "execution_count": 29,
   "metadata": {
    "collapsed": true,
    "jupyter": {
     "outputs_hidden": true
    }
   },
   "outputs": [],
   "source": [
    "colnames(gtff)[1]<-\"transcript\""
   ]
  },
  {
   "cell_type": "code",
   "execution_count": 31,
   "metadata": {
    "collapsed": true,
    "jupyter": {
     "outputs_hidden": true
    }
   },
   "outputs": [],
   "source": [
    "gtff$start<-as.numeric(gtff$start)"
   ]
  },
  {
   "cell_type": "code",
   "execution_count": 32,
   "metadata": {
    "collapsed": true,
    "jupyter": {
     "outputs_hidden": true
    }
   },
   "outputs": [],
   "source": [
    "gtff$stop<-as.numeric(gtff$stop)"
   ]
  },
  {
   "cell_type": "code",
   "execution_count": 33,
   "metadata": {
    "collapsed": true,
    "jupyter": {
     "outputs_hidden": true
    }
   },
   "outputs": [],
   "source": [
    "gtff$length<-gtff$stop-gtff$start"
   ]
  },
  {
   "cell_type": "code",
   "execution_count": 34,
   "metadata": {},
   "outputs": [
    {
     "data": {
      "text/html": [
       "<table>\n",
       "<thead><tr><th scope=col>transcript</th><th scope=col>chromsome</th><th scope=col>start</th><th scope=col>stop</th><th scope=col>strand</th><th scope=col>length</th></tr></thead>\n",
       "<tbody>\n",
       "\t<tr><td>L1HS_dup45</td><td>chr1      </td><td>102230800 </td><td>102231031 </td><td>          </td><td> 231      </td></tr>\n",
       "\t<tr><td>L1HS_dup46</td><td>chr1      </td><td>102231032 </td><td>102231475 </td><td>+         </td><td> 443      </td></tr>\n",
       "\t<tr><td>L1HS_dup47</td><td>chr1      </td><td>103922001 </td><td>103922098 </td><td>+         </td><td>  97      </td></tr>\n",
       "\t<tr><td>L1HS_dup48</td><td>chr1      </td><td>103922066 </td><td>103925398 </td><td>+         </td><td>3332      </td></tr>\n",
       "\t<tr><td>L1HS_dup49</td><td>chr1      </td><td>104035269 </td><td>104035972 </td><td>          </td><td> 703      </td></tr>\n",
       "\t<tr><td>L1HS_dup50</td><td>chr1      </td><td>104035973 </td><td>104036669 </td><td>+         </td><td> 696      </td></tr>\n",
       "</tbody>\n",
       "</table>\n"
      ],
      "text/latex": [
       "\\begin{tabular}{r|llllll}\n",
       " transcript & chromsome & start & stop & strand & length\\\\\n",
       "\\hline\n",
       "\t L1HS\\_dup45 & chr1         & 102230800    & 102231031    &              &  231        \\\\\n",
       "\t L1HS\\_dup46 & chr1         & 102231032    & 102231475    & +            &  443        \\\\\n",
       "\t L1HS\\_dup47 & chr1         & 103922001    & 103922098    & +            &   97        \\\\\n",
       "\t L1HS\\_dup48 & chr1         & 103922066    & 103925398    & +            & 3332        \\\\\n",
       "\t L1HS\\_dup49 & chr1         & 104035269    & 104035972    &              &  703        \\\\\n",
       "\t L1HS\\_dup50 & chr1         & 104035973    & 104036669    & +            &  696        \\\\\n",
       "\\end{tabular}\n"
      ],
      "text/markdown": [
       "\n",
       "transcript | chromsome | start | stop | strand | length | \n",
       "|---|---|---|---|---|---|\n",
       "| L1HS_dup45 | chr1       | 102230800  | 102231031  |            |  231       | \n",
       "| L1HS_dup46 | chr1       | 102231032  | 102231475  | +          |  443       | \n",
       "| L1HS_dup47 | chr1       | 103922001  | 103922098  | +          |   97       | \n",
       "| L1HS_dup48 | chr1       | 103922066  | 103925398  | +          | 3332       | \n",
       "| L1HS_dup49 | chr1       | 104035269  | 104035972  |            |  703       | \n",
       "| L1HS_dup50 | chr1       | 104035973  | 104036669  | +          |  696       | \n",
       "\n",
       "\n"
      ],
      "text/plain": [
       "  transcript chromsome start     stop      strand length\n",
       "1 L1HS_dup45 chr1      102230800 102231031         231  \n",
       "2 L1HS_dup46 chr1      102231032 102231475 +       443  \n",
       "3 L1HS_dup47 chr1      103922001 103922098 +        97  \n",
       "4 L1HS_dup48 chr1      103922066 103925398 +      3332  \n",
       "5 L1HS_dup49 chr1      104035269 104035972         703  \n",
       "6 L1HS_dup50 chr1      104035973 104036669 +       696  "
      ]
     },
     "metadata": {},
     "output_type": "display_data"
    }
   ],
   "source": [
    "head(gtff)"
   ]
  },
  {
   "cell_type": "code",
   "execution_count": 50,
   "metadata": {},
   "outputs": [
    {
     "data": {
      "text/html": [
       "322"
      ],
      "text/latex": [
       "322"
      ],
      "text/markdown": [
       "322"
      ],
      "text/plain": [
       "[1] 322"
      ]
     },
     "metadata": {},
     "output_type": "display_data"
    }
   ],
   "source": [
    "length(gtff[gtff$length>6000,\"length\"])"
   ]
  },
  {
   "cell_type": "code",
   "execution_count": 35,
   "metadata": {
    "collapsed": true,
    "jupyter": {
     "outputs_hidden": true
    }
   },
   "outputs": [],
   "source": [
    "finalDat<-merge(gtff,countDat)"
   ]
  },
  {
   "cell_type": "code",
   "execution_count": 36,
   "metadata": {
    "scrolled": true
   },
   "outputs": [
    {
     "data": {
      "text/html": [
       "<table>\n",
       "<thead><tr><th scope=col>transcript</th><th scope=col>chromsome</th><th scope=col>start</th><th scope=col>stop</th><th scope=col>strand</th><th scope=col>length</th><th scope=col>gene</th><th scope=col>family</th><th scope=col>class</th><th scope=col>num</th></tr></thead>\n",
       "<tbody>\n",
       "\t<tr><td>L1HS_dup1000</td><td>chrX        </td><td> 58468090   </td><td> 58469168   </td><td>+           </td><td>1078        </td><td>L1HS        </td><td>L1          </td><td>LINE        </td><td> 1          </td></tr>\n",
       "\t<tr><td>L1HS_dup1004</td><td>chrX        </td><td> 63318640   </td><td> 63320440   </td><td>+           </td><td>1800        </td><td>L1HS        </td><td>L1          </td><td>LINE        </td><td> 3          </td></tr>\n",
       "\t<tr><td>L1HS_dup1005</td><td>chrX        </td><td> 64013268   </td><td> 64019286   </td><td>            </td><td>6018        </td><td>L1HS        </td><td>L1          </td><td>LINE        </td><td>17          </td></tr>\n",
       "\t<tr><td>L1HS_dup1006</td><td>chrX        </td><td> 64114184   </td><td> 64115120   </td><td>            </td><td> 936        </td><td>L1HS        </td><td>L1          </td><td>LINE        </td><td> 1          </td></tr>\n",
       "\t<tr><td>L1HS_dup1009</td><td>chrX        </td><td> 64517528   </td><td> 64520007   </td><td>+           </td><td>2479        </td><td>L1HS        </td><td>L1          </td><td>LINE        </td><td> 4          </td></tr>\n",
       "\t<tr><td>L1HS_dup101 </td><td>chr1        </td><td>195925004   </td><td>195929320   </td><td>            </td><td>4316        </td><td>L1HS        </td><td>L1          </td><td>LINE        </td><td> 2          </td></tr>\n",
       "</tbody>\n",
       "</table>\n"
      ],
      "text/latex": [
       "\\begin{tabular}{r|llllllllll}\n",
       " transcript & chromsome & start & stop & strand & length & gene & family & class & num\\\\\n",
       "\\hline\n",
       "\t L1HS\\_dup1000 & chrX           &  58468090      &  58469168      & +              & 1078           & L1HS           & L1             & LINE           &  1            \\\\\n",
       "\t L1HS\\_dup1004 & chrX           &  63318640      &  63320440      & +              & 1800           & L1HS           & L1             & LINE           &  3            \\\\\n",
       "\t L1HS\\_dup1005 & chrX           &  64013268      &  64019286      &                & 6018           & L1HS           & L1             & LINE           & 17            \\\\\n",
       "\t L1HS\\_dup1006 & chrX           &  64114184      &  64115120      &                &  936           & L1HS           & L1             & LINE           &  1            \\\\\n",
       "\t L1HS\\_dup1009 & chrX           &  64517528      &  64520007      & +              & 2479           & L1HS           & L1             & LINE           &  4            \\\\\n",
       "\t L1HS\\_dup101  & chr1           & 195925004      & 195929320      &                & 4316           & L1HS           & L1             & LINE           &  2            \\\\\n",
       "\\end{tabular}\n"
      ],
      "text/markdown": [
       "\n",
       "transcript | chromsome | start | stop | strand | length | gene | family | class | num | \n",
       "|---|---|---|---|---|---|\n",
       "| L1HS_dup1000 | chrX         |  58468090    |  58469168    | +            | 1078         | L1HS         | L1           | LINE         |  1           | \n",
       "| L1HS_dup1004 | chrX         |  63318640    |  63320440    | +            | 1800         | L1HS         | L1           | LINE         |  3           | \n",
       "| L1HS_dup1005 | chrX         |  64013268    |  64019286    |              | 6018         | L1HS         | L1           | LINE         | 17           | \n",
       "| L1HS_dup1006 | chrX         |  64114184    |  64115120    |              |  936         | L1HS         | L1           | LINE         |  1           | \n",
       "| L1HS_dup1009 | chrX         |  64517528    |  64520007    | +            | 2479         | L1HS         | L1           | LINE         |  4           | \n",
       "| L1HS_dup101  | chr1         | 195925004    | 195929320    |              | 4316         | L1HS         | L1           | LINE         |  2           | \n",
       "\n",
       "\n"
      ],
      "text/plain": [
       "  transcript   chromsome start     stop      strand length gene family class\n",
       "1 L1HS_dup1000 chrX       58468090  58469168 +      1078   L1HS L1     LINE \n",
       "2 L1HS_dup1004 chrX       63318640  63320440 +      1800   L1HS L1     LINE \n",
       "3 L1HS_dup1005 chrX       64013268  64019286        6018   L1HS L1     LINE \n",
       "4 L1HS_dup1006 chrX       64114184  64115120         936   L1HS L1     LINE \n",
       "5 L1HS_dup1009 chrX       64517528  64520007 +      2479   L1HS L1     LINE \n",
       "6 L1HS_dup101  chr1      195925004 195929320        4316   L1HS L1     LINE \n",
       "  num\n",
       "1  1 \n",
       "2  3 \n",
       "3 17 \n",
       "4  1 \n",
       "5  4 \n",
       "6  2 "
      ]
     },
     "metadata": {},
     "output_type": "display_data"
    }
   ],
   "source": [
    "head(finalDat)"
   ]
  },
  {
   "cell_type": "code",
   "execution_count": 46,
   "metadata": {},
   "outputs": [
    {
     "data": {
      "text/html": [
       "240"
      ],
      "text/latex": [
       "240"
      ],
      "text/markdown": [
       "240"
      ],
      "text/plain": [
       "[1] 240"
      ]
     },
     "metadata": {},
     "output_type": "display_data"
    }
   ],
   "source": [
    "length(finalDat[finalDat$length>6000,\"num\"])"
   ]
  },
  {
   "cell_type": "code",
   "execution_count": 38,
   "metadata": {},
   "outputs": [
    {
     "name": "stderr",
     "output_type": "stream",
     "text": [
      "Warning message:\n",
      "“Ignoring unknown parameters: mult”"
     ]
    }
   ],
   "source": [
    "p1 <- ggplot(finalDat,\n",
    "            aes(gene, length)) +\n",
    "       geom_violin(trim=FALSE)+\n",
    "       geom_boxplot(width=0.1)+\n",
    "#coord_cartesian(ylim = c(0, 10))+\n",
    "       stat_summary(fun.data=mean_sdl, mult=1,\n",
    "                 geom=\"pointrange\", color=\"red\")"
   ]
  },
  {
   "cell_type": "code",
   "execution_count": 39,
   "metadata": {},
   "outputs": [
    {
     "name": "stderr",
     "output_type": "stream",
     "text": [
      "Warning message:\n",
      "“Computation failed in `stat_summary()`:\n",
      "Hmisc package required for this function”"
     ]
    },
    {
     "data": {},
     "metadata": {},
     "output_type": "display_data"
    },
    {
     "data": {
      "image/png": "[encoded data removed]",
      "text/plain": [
       "plot without title"
      ]
     },
     "metadata": {},
     "output_type": "display_data"
    }
   ],
   "source": [
    "p1"
   ]
  },
  {
   "cell_type": "code",
   "execution_count": 110,
   "metadata": {},
   "outputs": [
    {
     "name": "stderr",
     "output_type": "stream",
     "text": [
      "Warning message:\n",
      "“Ignoring unknown parameters: mult”"
     ]
    }
   ],
   "source": [
    "p1 <- ggplot(test%>% filter(gene%in%c(\"L1HS\",\"L1PA2\",\"L1PA3\",\"L1PA4\",\"L1PA5\",\"AluY\",\"AluJo\",\"AluSx\",\"LTR5_Hs\",\"L1P3b\",\"L1MEb\")),\n",
    "            aes(gene, num)) +\n",
    "       geom_violin(trim=FALSE)+\n",
    "       geom_boxplot(width=0.1)+\n",
    "coord_cartesian(ylim = c(0, 10))+\n",
    "       stat_summary(fun.data=mean_sdl, mult=1,\n",
    "                 geom=\"pointrange\", color=\"red\")"
   ]
  },
  {
   "cell_type": "code",
   "execution_count": 111,
   "metadata": {
    "collapsed": true,
    "jupyter": {
     "outputs_hidden": true
    }
   },
   "outputs": [],
   "source": [
    "#test[order(test$num,decreasing=TRUE),1:5]"
   ]
  },
  {
   "cell_type": "code",
   "execution_count": 112,
   "metadata": {},
   "outputs": [
    {
     "name": "stderr",
     "output_type": "stream",
     "text": [
      "Warning message:\n",
      "“Computation failed in `stat_summary()`:\n",
      "Hmisc package required for this function”"
     ]
    },
    {
     "data": {},
     "metadata": {},
     "output_type": "display_data"
    },
    {
     "data": {
      "image/png": "[encoded data removed]",
      "text/plain": [
       "plot without title"
      ]
     },
     "metadata": {},
     "output_type": "display_data"
    }
   ],
   "source": [
    "p1"
   ]
  },
  {
   "cell_type": "code",
   "execution_count": 33,
   "metadata": {
    "collapsed": true,
    "jupyter": {
     "outputs_hidden": true
    }
   },
   "outputs": [],
   "source": [
    "CountTable<-df %>% group_by(gene) %>% summarize(notZero = sum(num!=0),total=sum(!is.na(num)))"
   ]
  },
  {
   "cell_type": "code",
   "execution_count": 34,
   "metadata": {
    "collapsed": true,
    "jupyter": {
     "outputs_hidden": true
    }
   },
   "outputs": [],
   "source": [
    "#df %>% count(gene) "
   ]
  },
  {
   "cell_type": "code",
   "execution_count": 35,
   "metadata": {
    "collapsed": true,
    "jupyter": {
     "outputs_hidden": true
    }
   },
   "outputs": [],
   "source": [
    "#df %>% filter(num!=0) %>% count(gene) "
   ]
  },
  {
   "cell_type": "code",
   "execution_count": 36,
   "metadata": {
    "scrolled": true
   },
   "outputs": [
    {
     "data": {
      "text/html": [
       "<table>\n",
       "<thead><tr><th scope=col>gene</th><th scope=col>notZero</th><th scope=col>total</th></tr></thead>\n",
       "<tbody>\n",
       "\t<tr><td>(CATTC)n </td><td>  1      </td><td>  19     </td></tr>\n",
       "\t<tr><td>(GAATG)n </td><td>  3      </td><td>  36     </td></tr>\n",
       "\t<tr><td>7SK      </td><td> 25      </td><td> 704     </td></tr>\n",
       "\t<tr><td>ACRO1    </td><td>  1      </td><td>  86     </td></tr>\n",
       "\t<tr><td>ALR/Alpha</td><td> 28      </td><td>1860     </td></tr>\n",
       "\t<tr><td>Alu      </td><td>157      </td><td>4658     </td></tr>\n",
       "</tbody>\n",
       "</table>\n"
      ],
      "text/latex": [
       "\\begin{tabular}{r|lll}\n",
       " gene & notZero & total\\\\\n",
       "\\hline\n",
       "\t (CATTC)n  &   1       &   19     \\\\\n",
       "\t (GAATG)n  &   3       &   36     \\\\\n",
       "\t 7SK       &  25       &  704     \\\\\n",
       "\t ACRO1     &   1       &   86     \\\\\n",
       "\t ALR/Alpha &  28       & 1860     \\\\\n",
       "\t Alu       & 157       & 4658     \\\\\n",
       "\\end{tabular}\n"
      ],
      "text/markdown": [
       "\n",
       "gene | notZero | total | \n",
       "|---|---|---|---|---|---|\n",
       "| (CATTC)n  |   1       |   19      | \n",
       "| (GAATG)n  |   3       |   36      | \n",
       "| 7SK       |  25       |  704      | \n",
       "| ACRO1     |   1       |   86      | \n",
       "| ALR/Alpha |  28       | 1860      | \n",
       "| Alu       | 157       | 4658      | \n",
       "\n",
       "\n"
      ],
      "text/plain": [
       "  gene      notZero total\n",
       "1 (CATTC)n    1       19 \n",
       "2 (GAATG)n    3       36 \n",
       "3 7SK        25      704 \n",
       "4 ACRO1       1       86 \n",
       "5 ALR/Alpha  28     1860 \n",
       "6 Alu       157     4658 "
      ]
     },
     "metadata": {},
     "output_type": "display_data"
    }
   ],
   "source": [
    "head(CountTable)"
   ]
  },
  {
   "cell_type": "code",
   "execution_count": 38,
   "metadata": {},
   "outputs": [
    {
     "data": {
      "text/html": [
       "<ol class=list-inline>\n",
       "\t<li>'tbl_df'</li>\n",
       "\t<li>'tbl'</li>\n",
       "\t<li>'data.frame'</li>\n",
       "</ol>\n"
      ],
      "text/latex": [
       "\\begin{enumerate*}\n",
       "\\item 'tbl\\_df'\n",
       "\\item 'tbl'\n",
       "\\item 'data.frame'\n",
       "\\end{enumerate*}\n"
      ],
      "text/markdown": [
       "1. 'tbl_df'\n",
       "2. 'tbl'\n",
       "3. 'data.frame'\n",
       "\n",
       "\n"
      ],
      "text/plain": [
       "[1] \"tbl_df\"     \"tbl\"        \"data.frame\""
      ]
     },
     "metadata": {},
     "output_type": "display_data"
    }
   ],
   "source": [
    "class(CountTable)"
   ]
  },
  {
   "cell_type": "code",
   "execution_count": 42,
   "metadata": {
    "collapsed": true,
    "jupyter": {
     "outputs_hidden": true
    }
   },
   "outputs": [],
   "source": [
    "CountTable$Percentage<-CountTable$notZero/CountTable$total"
   ]
  },
  {
   "cell_type": "code",
   "execution_count": 43,
   "metadata": {},
   "outputs": [
    {
     "data": {
      "text/html": [
       "<table>\n",
       "<thead><tr><th scope=col>gene</th><th scope=col>notZero</th><th scope=col>total</th><th scope=col>Percentage</th></tr></thead>\n",
       "<tbody>\n",
       "\t<tr><td>(CATTC)n  </td><td>  1       </td><td>  19      </td><td>0.05263158</td></tr>\n",
       "\t<tr><td>(GAATG)n  </td><td>  3       </td><td>  36      </td><td>0.08333333</td></tr>\n",
       "\t<tr><td>7SK       </td><td> 25       </td><td> 704      </td><td>0.03551136</td></tr>\n",
       "\t<tr><td>ACRO1     </td><td>  1       </td><td>  86      </td><td>0.01162791</td></tr>\n",
       "\t<tr><td>ALR/Alpha </td><td> 28       </td><td>1860      </td><td>0.01505376</td></tr>\n",
       "\t<tr><td>Alu       </td><td>157       </td><td>4658      </td><td>0.03370545</td></tr>\n",
       "</tbody>\n",
       "</table>\n"
      ],
      "text/latex": [
       "\\begin{tabular}{r|llll}\n",
       " gene & notZero & total & Percentage\\\\\n",
       "\\hline\n",
       "\t (CATTC)n   &   1        &   19       & 0.05263158\\\\\n",
       "\t (GAATG)n   &   3        &   36       & 0.08333333\\\\\n",
       "\t 7SK        &  25        &  704       & 0.03551136\\\\\n",
       "\t ACRO1      &   1        &   86       & 0.01162791\\\\\n",
       "\t ALR/Alpha  &  28        & 1860       & 0.01505376\\\\\n",
       "\t Alu        & 157        & 4658       & 0.03370545\\\\\n",
       "\\end{tabular}\n"
      ],
      "text/markdown": [
       "\n",
       "gene | notZero | total | Percentage | \n",
       "|---|---|---|---|---|---|\n",
       "| (CATTC)n   |   1        |   19       | 0.05263158 | \n",
       "| (GAATG)n   |   3        |   36       | 0.08333333 | \n",
       "| 7SK        |  25        |  704       | 0.03551136 | \n",
       "| ACRO1      |   1        |   86       | 0.01162791 | \n",
       "| ALR/Alpha  |  28        | 1860       | 0.01505376 | \n",
       "| Alu        | 157        | 4658       | 0.03370545 | \n",
       "\n",
       "\n"
      ],
      "text/plain": [
       "  gene      notZero total Percentage\n",
       "1 (CATTC)n    1       19  0.05263158\n",
       "2 (GAATG)n    3       36  0.08333333\n",
       "3 7SK        25      704  0.03551136\n",
       "4 ACRO1       1       86  0.01162791\n",
       "5 ALR/Alpha  28     1860  0.01505376\n",
       "6 Alu       157     4658  0.03370545"
      ]
     },
     "metadata": {},
     "output_type": "display_data"
    }
   ],
   "source": [
    "head(CountTable)"
   ]
  },
  {
   "cell_type": "code",
   "execution_count": 65,
   "metadata": {},
   "outputs": [
    {
     "data": {
      "text/html": [
       "<table>\n",
       "<thead><tr><th scope=col>gene</th><th scope=col>notZero</th><th scope=col>total</th><th scope=col>Percentage</th></tr></thead>\n",
       "<tbody>\n",
       "\t<tr><td>AluJo     </td><td> 7230     </td><td> 81375    </td><td>0.08884793</td></tr>\n",
       "\t<tr><td>AluSx     </td><td>11453     </td><td>123022    </td><td>0.09309717</td></tr>\n",
       "\t<tr><td>AluY      </td><td> 9330     </td><td>110881    </td><td>0.08414426</td></tr>\n",
       "\t<tr><td>L1HS      </td><td>  509     </td><td>  1686    </td><td>0.30189798</td></tr>\n",
       "\t<tr><td>L1MEb     </td><td>  108     </td><td>  1799    </td><td>0.06003335</td></tr>\n",
       "\t<tr><td>L1P3b     </td><td>    7     </td><td>    90    </td><td>0.07777778</td></tr>\n",
       "\t<tr><td>L1PA2     </td><td> 1400     </td><td>  5113    </td><td>0.27381185</td></tr>\n",
       "\t<tr><td>L1PA3     </td><td> 2062     </td><td> 11089    </td><td>0.18595004</td></tr>\n",
       "\t<tr><td>L1PA4     </td><td> 1462     </td><td> 12272    </td><td>0.11913299</td></tr>\n",
       "\t<tr><td>L1PA5     </td><td> 1344     </td><td> 11616    </td><td>0.11570248</td></tr>\n",
       "\t<tr><td>LTR5_Hs   </td><td>  204     </td><td>   697    </td><td>0.29268293</td></tr>\n",
       "</tbody>\n",
       "</table>\n"
      ],
      "text/latex": [
       "\\begin{tabular}{r|llll}\n",
       " gene & notZero & total & Percentage\\\\\n",
       "\\hline\n",
       "\t AluJo      &  7230      &  81375     & 0.08884793\\\\\n",
       "\t AluSx      & 11453      & 123022     & 0.09309717\\\\\n",
       "\t AluY       &  9330      & 110881     & 0.08414426\\\\\n",
       "\t L1HS       &   509      &   1686     & 0.30189798\\\\\n",
       "\t L1MEb      &   108      &   1799     & 0.06003335\\\\\n",
       "\t L1P3b      &     7      &     90     & 0.07777778\\\\\n",
       "\t L1PA2      &  1400      &   5113     & 0.27381185\\\\\n",
       "\t L1PA3      &  2062      &  11089     & 0.18595004\\\\\n",
       "\t L1PA4      &  1462      &  12272     & 0.11913299\\\\\n",
       "\t L1PA5      &  1344      &  11616     & 0.11570248\\\\\n",
       "\t LTR5\\_Hs  &   204      &    697     & 0.29268293\\\\\n",
       "\\end{tabular}\n"
      ],
      "text/markdown": [
       "\n",
       "gene | notZero | total | Percentage | \n",
       "|---|---|---|---|---|---|---|---|---|---|---|\n",
       "| AluJo      |  7230      |  81375     | 0.08884793 | \n",
       "| AluSx      | 11453      | 123022     | 0.09309717 | \n",
       "| AluY       |  9330      | 110881     | 0.08414426 | \n",
       "| L1HS       |   509      |   1686     | 0.30189798 | \n",
       "| L1MEb      |   108      |   1799     | 0.06003335 | \n",
       "| L1P3b      |     7      |     90     | 0.07777778 | \n",
       "| L1PA2      |  1400      |   5113     | 0.27381185 | \n",
       "| L1PA3      |  2062      |  11089     | 0.18595004 | \n",
       "| L1PA4      |  1462      |  12272     | 0.11913299 | \n",
       "| L1PA5      |  1344      |  11616     | 0.11570248 | \n",
       "| LTR5_Hs    |   204      |    697     | 0.29268293 | \n",
       "\n",
       "\n"
      ],
      "text/plain": [
       "   gene    notZero total  Percentage\n",
       "1  AluJo    7230    81375 0.08884793\n",
       "2  AluSx   11453   123022 0.09309717\n",
       "3  AluY     9330   110881 0.08414426\n",
       "4  L1HS      509     1686 0.30189798\n",
       "5  L1MEb     108     1799 0.06003335\n",
       "6  L1P3b       7       90 0.07777778\n",
       "7  L1PA2    1400     5113 0.27381185\n",
       "8  L1PA3    2062    11089 0.18595004\n",
       "9  L1PA4    1462    12272 0.11913299\n",
       "10 L1PA5    1344    11616 0.11570248\n",
       "11 LTR5_Hs   204      697 0.29268293"
      ]
     },
     "metadata": {},
     "output_type": "display_data"
    }
   ],
   "source": [
    "CountTable %>% filter(gene%in%c(\"L1HS\",\"L1PA2\",\"L1PA3\",\"L1PA4\",\"L1PA5\",\"AluY\",\"AluJo\",\"AluSx\",\"LTR5_Hs\",\"L1P3b\",\"L1MEb\"))"
   ]
  },
  {
   "cell_type": "code",
   "execution_count": 61,
   "metadata": {
    "collapsed": true,
    "jupyter": {
     "outputs_hidden": true
    }
   },
   "outputs": [],
   "source": [
    "library(ggplot2)"
   ]
  },
  {
   "cell_type": "code",
   "execution_count": 66,
   "metadata": {
    "collapsed": true,
    "jupyter": {
     "outputs_hidden": true
    }
   },
   "outputs": [],
   "source": [
    "p <- ggplot(CountTable %>% filter(gene%in%c(\"L1HS\",\"L1PA2\",\"L1PA3\",\"L1PA4\",\"L1PA5\",\"AluY\",\"AluJo\",\"AluSx\",\"LTR5_Hs\",\"L1P3b\",\"L1MEb\")), aes(gene, Percentage)) +\n",
    "geom_col(position = 'stack', width = 0.6) +\n",
    "labs(x = '', y = 'Relative Abundance') +\n",
    "theme(axis.text = element_text(size = 12), axis.title = element_text(size = 13)) +\n",
    "theme(legend.text = element_text(size = 11))"
   ]
  },
  {
   "cell_type": "code",
   "execution_count": 67,
   "metadata": {
    "scrolled": true
   },
   "outputs": [
    {
     "data": {},
     "metadata": {},
     "output_type": "display_data"
    },
    {
     "data": {
      "image/png": "[encoded data removed]",
      "text/plain": [
       "plot without title"
      ]
     },
     "metadata": {},
     "output_type": "display_data"
    }
   ],
   "source": [
    "p"
   ]
  },
  {
   "cell_type": "markdown",
   "metadata": {
    "collapsed": true,
    "jupyter": {
     "outputs_hidden": true
    }
   },
   "source": [
    "### Project3"
   ]
  },
  {
   "cell_type": "code",
   "execution_count": 1,
   "metadata": {
    "collapsed": true,
    "jupyter": {
     "outputs_hidden": true
    }
   },
   "outputs": [],
   "source": [
    "#setwd(\"/home/xxzhang/workplace/project/CRISPRa/expression/ESC-div/TElocal/tmp/\")"
   ]
  },
  {
   "cell_type": "code",
   "execution_count": 6,
   "metadata": {
    "collapsed": true,
    "jupyter": {
     "outputs_hidden": true
    }
   },
   "outputs": [],
   "source": [
    "#data<-read.table(\"TE_8sample.cntTable\",header=TRUE)"
   ]
  },
  {
   "cell_type": "code",
   "execution_count": 1,
   "metadata": {
    "collapsed": true,
    "jupyter": {
     "outputs_hidden": true
    }
   },
   "outputs": [],
   "source": [
    "setwd(\"/home/xxzhang/workplace/project/CRISPRa/expression/ESC-div/TElocal/\") #完整运行的数据"
   ]
  },
  {
   "cell_type": "code",
   "execution_count": 2,
   "metadata": {
    "collapsed": true,
    "jupyter": {
     "outputs_hidden": true
    }
   },
   "outputs": [],
   "source": [
    "data<-read.table(\"TE.cntTable\",header=TRUE)"
   ]
  },
  {
   "cell_type": "code",
   "execution_count": 3,
   "metadata": {},
   "outputs": [
    {
     "data": {
      "text/html": [
       "<table>\n",
       "<thead><tr><th scope=col>gene.TE</th><th scope=col>X.home.xxzhang.workplace.project.CRISPRa.expression.ESC.div.STAR.multi.multi_ERR5208492_ESC_1Aligned.sortedByCoord.out.bam</th><th scope=col>X.home.xxzhang.workplace.project.CRISPRa.expression.ESC.div.STAR.multi.multi_ERR5208493_ESC_1Aligned.sortedByCoord.out.bam</th><th scope=col>X.home.xxzhang.workplace.project.CRISPRa.expression.ESC.div.STAR.multi.multi_ERR5208494_ESC_1Aligned.sortedByCoord.out.bam</th><th scope=col>X.home.xxzhang.workplace.project.CRISPRa.expression.ESC.div.STAR.multi.multi_ERR5208495_ESC_1Aligned.sortedByCoord.out.bam</th><th scope=col>X.home.xxzhang.workplace.project.CRISPRa.expression.ESC.div.STAR.multi.multi_ERR5208496_ESC_1Aligned.sortedByCoord.out.bam</th><th scope=col>X.home.xxzhang.workplace.project.CRISPRa.expression.ESC.div.STAR.multi.multi_ERR5208497_ESC_1Aligned.sortedByCoord.out.bam</th><th scope=col>X.home.xxzhang.workplace.project.CRISPRa.expression.ESC.div.STAR.multi.multi_ERR5208498_ESC_1Aligned.sortedByCoord.out.bam</th><th scope=col>X.home.xxzhang.workplace.project.CRISPRa.expression.ESC.div.STAR.multi.multi_ERR5208499_ESC_1Aligned.sortedByCoord.out.bam</th><th scope=col>X.home.xxzhang.workplace.project.CRISPRa.expression.ESC.div.STAR.multi.multi_ERR5208500_ESC_1Aligned.sortedByCoord.out.bam</th></tr></thead>\n",
       "<tbody>\n",
       "\t<tr><td>(CATTC)n:(CATTC)n:Satellite:Satellite      </td><td>0                                          </td><td>0                                          </td><td>0                                          </td><td>0                                          </td><td>0                                          </td><td>0                                          </td><td>0                                          </td><td>0                                          </td><td>2                                          </td></tr>\n",
       "\t<tr><td>(CATTC)n_dup10:(CATTC)n:Satellite:Satellite</td><td>0                                          </td><td>0                                          </td><td>0                                          </td><td>0                                          </td><td>0                                          </td><td>0                                          </td><td>0                                          </td><td>0                                          </td><td>0                                          </td></tr>\n",
       "\t<tr><td>(CATTC)n_dup11:(CATTC)n:Satellite:Satellite</td><td>0                                          </td><td>0                                          </td><td>0                                          </td><td>0                                          </td><td>0                                          </td><td>0                                          </td><td>0                                          </td><td>0                                          </td><td>0                                          </td></tr>\n",
       "\t<tr><td>(CATTC)n_dup12:(CATTC)n:Satellite:Satellite</td><td>1                                          </td><td>0                                          </td><td>0                                          </td><td>0                                          </td><td>0                                          </td><td>0                                          </td><td>0                                          </td><td>0                                          </td><td>0                                          </td></tr>\n",
       "\t<tr><td>(CATTC)n_dup13:(CATTC)n:Satellite:Satellite</td><td>0                                          </td><td>0                                          </td><td>0                                          </td><td>0                                          </td><td>0                                          </td><td>0                                          </td><td>0                                          </td><td>0                                          </td><td>0                                          </td></tr>\n",
       "\t<tr><td>(CATTC)n_dup14:(CATTC)n:Satellite:Satellite</td><td>0                                          </td><td>0                                          </td><td>0                                          </td><td>1                                          </td><td>0                                          </td><td>0                                          </td><td>0                                          </td><td>0                                          </td><td>1                                          </td></tr>\n",
       "</tbody>\n",
       "</table>\n"
      ],
      "text/latex": [
       "\\begin{tabular}{r|llllllllll}\n",
       " gene.TE & X.home.xxzhang.workplace.project.CRISPRa.expression.ESC.div.STAR.multi.multi\\_ERR5208492\\_ESC\\_1Aligned.sortedByCoord.out.bam & X.home.xxzhang.workplace.project.CRISPRa.expression.ESC.div.STAR.multi.multi\\_ERR5208493\\_ESC\\_1Aligned.sortedByCoord.out.bam & X.home.xxzhang.workplace.project.CRISPRa.expression.ESC.div.STAR.multi.multi\\_ERR5208494\\_ESC\\_1Aligned.sortedByCoord.out.bam & X.home.xxzhang.workplace.project.CRISPRa.expression.ESC.div.STAR.multi.multi\\_ERR5208495\\_ESC\\_1Aligned.sortedByCoord.out.bam & X.home.xxzhang.workplace.project.CRISPRa.expression.ESC.div.STAR.multi.multi\\_ERR5208496\\_ESC\\_1Aligned.sortedByCoord.out.bam & X.home.xxzhang.workplace.project.CRISPRa.expression.ESC.div.STAR.multi.multi\\_ERR5208497\\_ESC\\_1Aligned.sortedByCoord.out.bam & X.home.xxzhang.workplace.project.CRISPRa.expression.ESC.div.STAR.multi.multi\\_ERR5208498\\_ESC\\_1Aligned.sortedByCoord.out.bam & X.home.xxzhang.workplace.project.CRISPRa.expression.ESC.div.STAR.multi.multi\\_ERR5208499\\_ESC\\_1Aligned.sortedByCoord.out.bam & X.home.xxzhang.workplace.project.CRISPRa.expression.ESC.div.STAR.multi.multi\\_ERR5208500\\_ESC\\_1Aligned.sortedByCoord.out.bam\\\\\n",
       "\\hline\n",
       "\t (CATTC)n:(CATTC)n:Satellite:Satellite       & 0                                           & 0                                           & 0                                           & 0                                           & 0                                           & 0                                           & 0                                           & 0                                           & 2                                          \\\\\n",
       "\t (CATTC)n\\_dup10:(CATTC)n:Satellite:Satellite & 0                                             & 0                                             & 0                                             & 0                                             & 0                                             & 0                                             & 0                                             & 0                                             & 0                                            \\\\\n",
       "\t (CATTC)n\\_dup11:(CATTC)n:Satellite:Satellite & 0                                             & 0                                             & 0                                             & 0                                             & 0                                             & 0                                             & 0                                             & 0                                             & 0                                            \\\\\n",
       "\t (CATTC)n\\_dup12:(CATTC)n:Satellite:Satellite & 1                                             & 0                                             & 0                                             & 0                                             & 0                                             & 0                                             & 0                                             & 0                                             & 0                                            \\\\\n",
       "\t (CATTC)n\\_dup13:(CATTC)n:Satellite:Satellite & 0                                             & 0                                             & 0                                             & 0                                             & 0                                             & 0                                             & 0                                             & 0                                             & 0                                            \\\\\n",
       "\t (CATTC)n\\_dup14:(CATTC)n:Satellite:Satellite & 0                                             & 0                                             & 0                                             & 1                                             & 0                                             & 0                                             & 0                                             & 0                                             & 1                                            \\\\\n",
       "\\end{tabular}\n"
      ],
      "text/markdown": [
       "\n",
       "gene.TE | X.home.xxzhang.workplace.project.CRISPRa.expression.ESC.div.STAR.multi.multi_ERR5208492_ESC_1Aligned.sortedByCoord.out.bam | X.home.xxzhang.workplace.project.CRISPRa.expression.ESC.div.STAR.multi.multi_ERR5208493_ESC_1Aligned.sortedByCoord.out.bam | X.home.xxzhang.workplace.project.CRISPRa.expression.ESC.div.STAR.multi.multi_ERR5208494_ESC_1Aligned.sortedByCoord.out.bam | X.home.xxzhang.workplace.project.CRISPRa.expression.ESC.div.STAR.multi.multi_ERR5208495_ESC_1Aligned.sortedByCoord.out.bam | X.home.xxzhang.workplace.project.CRISPRa.expression.ESC.div.STAR.multi.multi_ERR5208496_ESC_1Aligned.sortedByCoord.out.bam | X.home.xxzhang.workplace.project.CRISPRa.expression.ESC.div.STAR.multi.multi_ERR5208497_ESC_1Aligned.sortedByCoord.out.bam | X.home.xxzhang.workplace.project.CRISPRa.expression.ESC.div.STAR.multi.multi_ERR5208498_ESC_1Aligned.sortedByCoord.out.bam | X.home.xxzhang.workplace.project.CRISPRa.expression.ESC.div.STAR.multi.multi_ERR5208499_ESC_1Aligned.sortedByCoord.out.bam | X.home.xxzhang.workplace.project.CRISPRa.expression.ESC.div.STAR.multi.multi_ERR5208500_ESC_1Aligned.sortedByCoord.out.bam | \n",
       "|---|---|---|---|---|---|\n",
       "| (CATTC)n:(CATTC)n:Satellite:Satellite       | 0                                           | 0                                           | 0                                           | 0                                           | 0                                           | 0                                           | 0                                           | 0                                           | 2                                           | \n",
       "| (CATTC)n_dup10:(CATTC)n:Satellite:Satellite | 0                                           | 0                                           | 0                                           | 0                                           | 0                                           | 0                                           | 0                                           | 0                                           | 0                                           | \n",
       "| (CATTC)n_dup11:(CATTC)n:Satellite:Satellite | 0                                           | 0                                           | 0                                           | 0                                           | 0                                           | 0                                           | 0                                           | 0                                           | 0                                           | \n",
       "| (CATTC)n_dup12:(CATTC)n:Satellite:Satellite | 1                                           | 0                                           | 0                                           | 0                                           | 0                                           | 0                                           | 0                                           | 0                                           | 0                                           | \n",
       "| (CATTC)n_dup13:(CATTC)n:Satellite:Satellite | 0                                           | 0                                           | 0                                           | 0                                           | 0                                           | 0                                           | 0                                           | 0                                           | 0                                           | \n",
       "| (CATTC)n_dup14:(CATTC)n:Satellite:Satellite | 0                                           | 0                                           | 0                                           | 1                                           | 0                                           | 0                                           | 0                                           | 0                                           | 1                                           | \n",
       "\n",
       "\n"
      ],
      "text/plain": [
       "  gene.TE                                    \n",
       "1 (CATTC)n:(CATTC)n:Satellite:Satellite      \n",
       "2 (CATTC)n_dup10:(CATTC)n:Satellite:Satellite\n",
       "3 (CATTC)n_dup11:(CATTC)n:Satellite:Satellite\n",
       "4 (CATTC)n_dup12:(CATTC)n:Satellite:Satellite\n",
       "5 (CATTC)n_dup13:(CATTC)n:Satellite:Satellite\n",
       "6 (CATTC)n_dup14:(CATTC)n:Satellite:Satellite\n",
       "  X.home.xxzhang.workplace.project.CRISPRa.expression.ESC.div.STAR.multi.multi_ERR5208492_ESC_1Aligned.sortedByCoord.out.bam\n",
       "1 0                                                                                                                         \n",
       "2 0                                                                                                                         \n",
       "3 0                                                                                                                         \n",
       "4 1                                                                                                                         \n",
       "5 0                                                                                                                         \n",
       "6 0                                                                                                                         \n",
       "  X.home.xxzhang.workplace.project.CRISPRa.expression.ESC.div.STAR.multi.multi_ERR5208493_ESC_1Aligned.sortedByCoord.out.bam\n",
       "1 0                                                                                                                         \n",
       "2 0                                                                                                                         \n",
       "3 0                                                                                                                         \n",
       "4 0                                                                                                                         \n",
       "5 0                                                                                                                         \n",
       "6 0                                                                                                                         \n",
       "  X.home.xxzhang.workplace.project.CRISPRa.expression.ESC.div.STAR.multi.multi_ERR5208494_ESC_1Aligned.sortedByCoord.out.bam\n",
       "1 0                                                                                                                         \n",
       "2 0                                                                                                                         \n",
       "3 0                                                                                                                         \n",
       "4 0                                                                                                                         \n",
       "5 0                                                                                                                         \n",
       "6 0                                                                                                                         \n",
       "  X.home.xxzhang.workplace.project.CRISPRa.expression.ESC.div.STAR.multi.multi_ERR5208495_ESC_1Aligned.sortedByCoord.out.bam\n",
       "1 0                                                                                                                         \n",
       "2 0                                                                                                                         \n",
       "3 0                                                                                                                         \n",
       "4 0                                                                                                                         \n",
       "5 0                                                                                                                         \n",
       "6 1                                                                                                                         \n",
       "  X.home.xxzhang.workplace.project.CRISPRa.expression.ESC.div.STAR.multi.multi_ERR5208496_ESC_1Aligned.sortedByCoord.out.bam\n",
       "1 0                                                                                                                         \n",
       "2 0                                                                                                                         \n",
       "3 0                                                                                                                         \n",
       "4 0                                                                                                                         \n",
       "5 0                                                                                                                         \n",
       "6 0                                                                                                                         \n",
       "  X.home.xxzhang.workplace.project.CRISPRa.expression.ESC.div.STAR.multi.multi_ERR5208497_ESC_1Aligned.sortedByCoord.out.bam\n",
       "1 0                                                                                                                         \n",
       "2 0                                                                                                                         \n",
       "3 0                                                                                                                         \n",
       "4 0                                                                                                                         \n",
       "5 0                                                                                                                         \n",
       "6 0                                                                                                                         \n",
       "  X.home.xxzhang.workplace.project.CRISPRa.expression.ESC.div.STAR.multi.multi_ERR5208498_ESC_1Aligned.sortedByCoord.out.bam\n",
       "1 0                                                                                                                         \n",
       "2 0                                                                                                                         \n",
       "3 0                                                                                                                         \n",
       "4 0                                                                                                                         \n",
       "5 0                                                                                                                         \n",
       "6 0                                                                                                                         \n",
       "  X.home.xxzhang.workplace.project.CRISPRa.expression.ESC.div.STAR.multi.multi_ERR5208499_ESC_1Aligned.sortedByCoord.out.bam\n",
       "1 0                                                                                                                         \n",
       "2 0                                                                                                                         \n",
       "3 0                                                                                                                         \n",
       "4 0                                                                                                                         \n",
       "5 0                                                                                                                         \n",
       "6 0                                                                                                                         \n",
       "  X.home.xxzhang.workplace.project.CRISPRa.expression.ESC.div.STAR.multi.multi_ERR5208500_ESC_1Aligned.sortedByCoord.out.bam\n",
       "1 2                                                                                                                         \n",
       "2 0                                                                                                                         \n",
       "3 0                                                                                                                         \n",
       "4 0                                                                                                                         \n",
       "5 0                                                                                                                         \n",
       "6 1                                                                                                                         "
      ]
     },
     "metadata": {},
     "output_type": "display_data"
    }
   ],
   "source": [
    "head(data)"
   ]
  },
  {
   "cell_type": "code",
   "execution_count": 4,
   "metadata": {},
   "outputs": [
    {
     "name": "stderr",
     "output_type": "stream",
     "text": [
      "\n",
      "Attaching package: ‘dplyr’\n",
      "\n",
      "The following objects are masked from ‘package:stats’:\n",
      "\n",
      "    filter, lag\n",
      "\n",
      "The following objects are masked from ‘package:base’:\n",
      "\n",
      "    intersect, setdiff, setequal, union\n",
      "\n",
      "── Attaching packages ────────────────────────────────────────────────────────────────────────── tidyverse 1.2.1 ──\n",
      "✔ ggplot2 3.1.0     ✔ readr   1.1.1\n",
      "✔ tibble  1.4.2     ✔ purrr   0.2.5\n",
      "✔ tidyr   0.8.1     ✔ stringr 1.2.0\n",
      "✔ ggplot2 3.1.0     ✔ forcats 0.3.0\n",
      "── Conflicts ───────────────────────────────────────────────────────────────────────────── tidyverse_conflicts() ──\n",
      "✖ dplyr::filter() masks stats::filter()\n",
      "✖ dplyr::lag()    masks stats::lag()\n"
     ]
    }
   ],
   "source": [
    "library(dplyr) #loading packages\n",
    "library(tidyverse)\n",
    "library(ggplot2)"
   ]
  },
  {
   "cell_type": "markdown",
   "metadata": {},
   "source": [
    "#### 3.1 求在不同的样本中，指定家族中非0的比例；"
   ]
  },
  {
   "cell_type": "code",
   "execution_count": 5,
   "metadata": {
    "collapsed": true,
    "jupyter": {
     "outputs_hidden": true
    }
   },
   "outputs": [],
   "source": [
    "ExtensionDat<- data %>% separate(gene.TE, c(\"transcript\",\"gene\",\"family\",\"class\"),sep = \":\")"
   ]
  },
  {
   "cell_type": "code",
   "execution_count": 6,
   "metadata": {
    "collapsed": true,
    "jupyter": {
     "outputs_hidden": true
    }
   },
   "outputs": [],
   "source": [
    "#head(ExtensionDat,20)"
   ]
  },
  {
   "cell_type": "code",
   "execution_count": 15,
   "metadata": {
    "collapsed": true,
    "jupyter": {
     "outputs_hidden": true
    }
   },
   "outputs": [],
   "source": [
    "#table(ExtensionDat$gene)"
   ]
  },
  {
   "cell_type": "code",
   "execution_count": 53,
   "metadata": {
    "collapsed": true,
    "jupyter": {
     "outputs_hidden": true
    }
   },
   "outputs": [],
   "source": [
    "#FilterDat<-ExtensionDat %>% filter(gene%in%c(\"L1HS\",\"LTR5_Hs\",\"SVA_F\",\"SVA_E\",\"AluYa5\",\"AluYb8\",\"L1PA2\",\"L1PA3\",\"L1PA4\",\"L1PA5\",\"AluY\",\"AluJo\",\"AluSx\",\"(CATTC)n\",\"(GAATG)n\",\"L1P3b\",\"L1MEb\"))"
   ]
  },
  {
   "cell_type": "code",
   "execution_count": 7,
   "metadata": {
    "collapsed": true,
    "jupyter": {
     "outputs_hidden": true
    }
   },
   "outputs": [],
   "source": [
    "FilterDat<-ExtensionDat"
   ]
  },
  {
   "cell_type": "code",
   "execution_count": 8,
   "metadata": {
    "collapsed": true,
    "jupyter": {
     "outputs_hidden": true
    }
   },
   "outputs": [],
   "source": [
    "#FilterDat<-ExtensionDat %>% filter(class%in%c(\"DNA\",\"SINE\",\"LINE\",\"LTR\",\"Retroposon\"))"
   ]
  },
  {
   "cell_type": "code",
   "execution_count": 9,
   "metadata": {
    "collapsed": true,
    "jupyter": {
     "outputs_hidden": true
    }
   },
   "outputs": [],
   "source": [
    "#head(FilterDat) #对数据进行筛选，按照家族进行计数"
   ]
  },
  {
   "cell_type": "code",
   "execution_count": 10,
   "metadata": {
    "collapsed": true,
    "jupyter": {
     "outputs_hidden": true
    }
   },
   "outputs": [],
   "source": [
    "#colnames(FilterDat)[5:12]<-c(\"ESC-1\",\"ESC-2\",\"ESC-3\",\"Neuron-1\",\"Neuron-2\",\n",
    "#            \"Neuron-3\",\"Neuron_pro-1\",\"Neuron_pro-2\")"
   ]
  },
  {
   "cell_type": "code",
   "execution_count": 11,
   "metadata": {
    "collapsed": true,
    "jupyter": {
     "outputs_hidden": true
    }
   },
   "outputs": [],
   "source": [
    "colnames(FilterDat)[5:13]<-c(\"ESC-1\",\"ESC-2\",\"ESC-3\",\"Neuron-1\",\"Neuron-2\",\n",
    "            \"Neuron-3\",\"Neuron_pro-1\",\"Neuron_pro-2\",\"Neuron_pro-3\")"
   ]
  },
  {
   "cell_type": "code",
   "execution_count": 12,
   "metadata": {
    "collapsed": true,
    "jupyter": {
     "outputs_hidden": true
    }
   },
   "outputs": [],
   "source": [
    "#data<-read.table(\"TE_8sample.cntTable\",header=TRUE)"
   ]
  },
  {
   "cell_type": "code",
   "execution_count": 13,
   "metadata": {
    "collapsed": true,
    "jupyter": {
     "outputs_hidden": true
    }
   },
   "outputs": [],
   "source": [
    "FilterDat_long <- gather(FilterDat, key = \"sample\", value = \"expression\",\n",
    "                    -`transcript`, -`gene`, -`family`, -`class`)"
   ]
  },
  {
   "cell_type": "code",
   "execution_count": 14,
   "metadata": {},
   "outputs": [
    {
     "data": {
      "text/html": [
       "<table>\n",
       "<thead><tr><th scope=col>transcript</th><th scope=col>gene</th><th scope=col>family</th><th scope=col>class</th><th scope=col>sample</th><th scope=col>expression</th></tr></thead>\n",
       "<tbody>\n",
       "\t<tr><td>(CATTC)n      </td><td>(CATTC)n      </td><td>Satellite     </td><td>Satellite     </td><td>ESC-1         </td><td>0             </td></tr>\n",
       "\t<tr><td>(CATTC)n_dup10</td><td>(CATTC)n      </td><td>Satellite     </td><td>Satellite     </td><td>ESC-1         </td><td>0             </td></tr>\n",
       "\t<tr><td>(CATTC)n_dup11</td><td>(CATTC)n      </td><td>Satellite     </td><td>Satellite     </td><td>ESC-1         </td><td>0             </td></tr>\n",
       "\t<tr><td>(CATTC)n_dup12</td><td>(CATTC)n      </td><td>Satellite     </td><td>Satellite     </td><td>ESC-1         </td><td>1             </td></tr>\n",
       "\t<tr><td>(CATTC)n_dup13</td><td>(CATTC)n      </td><td>Satellite     </td><td>Satellite     </td><td>ESC-1         </td><td>0             </td></tr>\n",
       "\t<tr><td>(CATTC)n_dup14</td><td>(CATTC)n      </td><td>Satellite     </td><td>Satellite     </td><td>ESC-1         </td><td>0             </td></tr>\n",
       "</tbody>\n",
       "</table>\n"
      ],
      "text/latex": [
       "\\begin{tabular}{r|llllll}\n",
       " transcript & gene & family & class & sample & expression\\\\\n",
       "\\hline\n",
       "\t (CATTC)n       & (CATTC)n       & Satellite      & Satellite      & ESC-1          & 0             \\\\\n",
       "\t (CATTC)n\\_dup10 & (CATTC)n         & Satellite        & Satellite        & ESC-1            & 0               \\\\\n",
       "\t (CATTC)n\\_dup11 & (CATTC)n         & Satellite        & Satellite        & ESC-1            & 0               \\\\\n",
       "\t (CATTC)n\\_dup12 & (CATTC)n         & Satellite        & Satellite        & ESC-1            & 1               \\\\\n",
       "\t (CATTC)n\\_dup13 & (CATTC)n         & Satellite        & Satellite        & ESC-1            & 0               \\\\\n",
       "\t (CATTC)n\\_dup14 & (CATTC)n         & Satellite        & Satellite        & ESC-1            & 0               \\\\\n",
       "\\end{tabular}\n"
      ],
      "text/markdown": [
       "\n",
       "transcript | gene | family | class | sample | expression | \n",
       "|---|---|---|---|---|---|\n",
       "| (CATTC)n       | (CATTC)n       | Satellite      | Satellite      | ESC-1          | 0              | \n",
       "| (CATTC)n_dup10 | (CATTC)n       | Satellite      | Satellite      | ESC-1          | 0              | \n",
       "| (CATTC)n_dup11 | (CATTC)n       | Satellite      | Satellite      | ESC-1          | 0              | \n",
       "| (CATTC)n_dup12 | (CATTC)n       | Satellite      | Satellite      | ESC-1          | 1              | \n",
       "| (CATTC)n_dup13 | (CATTC)n       | Satellite      | Satellite      | ESC-1          | 0              | \n",
       "| (CATTC)n_dup14 | (CATTC)n       | Satellite      | Satellite      | ESC-1          | 0              | \n",
       "\n",
       "\n"
      ],
      "text/plain": [
       "  transcript     gene     family    class     sample expression\n",
       "1 (CATTC)n       (CATTC)n Satellite Satellite ESC-1  0         \n",
       "2 (CATTC)n_dup10 (CATTC)n Satellite Satellite ESC-1  0         \n",
       "3 (CATTC)n_dup11 (CATTC)n Satellite Satellite ESC-1  0         \n",
       "4 (CATTC)n_dup12 (CATTC)n Satellite Satellite ESC-1  1         \n",
       "5 (CATTC)n_dup13 (CATTC)n Satellite Satellite ESC-1  0         \n",
       "6 (CATTC)n_dup14 (CATTC)n Satellite Satellite ESC-1  0         "
      ]
     },
     "metadata": {},
     "output_type": "display_data"
    }
   ],
   "source": [
    "head(FilterDat_long)"
   ]
  },
  {
   "cell_type": "code",
   "execution_count": 15,
   "metadata": {
    "collapsed": true,
    "jupyter": {
     "outputs_hidden": true
    }
   },
   "outputs": [],
   "source": [
    "CountTable<-FilterDat_long %>% group_by(sample,gene) %>% summarize(notZero = sum(expression!=0),total=sum(!is.na(expression)))"
   ]
  },
  {
   "cell_type": "code",
   "execution_count": 16,
   "metadata": {
    "collapsed": true,
    "jupyter": {
     "outputs_hidden": true
    }
   },
   "outputs": [],
   "source": [
    "#CountTable<-FilterDat_long %>% group_by(sample,class) %>% summarize(notZero = sum(expression!=0),total=sum(!is.na(expression)))"
   ]
  },
  {
   "cell_type": "code",
   "execution_count": 17,
   "metadata": {},
   "outputs": [
    {
     "data": {
      "text/html": [
       "<table>\n",
       "<thead><tr><th scope=col>sample</th><th scope=col>gene</th><th scope=col>notZero</th><th scope=col>total</th></tr></thead>\n",
       "<tbody>\n",
       "\t<tr><td>ESC-1    </td><td>(CATTC)n </td><td>    1    </td><td>    19   </td></tr>\n",
       "\t<tr><td>ESC-1    </td><td>(GAATG)n </td><td>    3    </td><td>    36   </td></tr>\n",
       "\t<tr><td>ESC-1    </td><td>7SK      </td><td>   25    </td><td>   704   </td></tr>\n",
       "\t<tr><td>ESC-1    </td><td>ACRO1    </td><td>    1    </td><td>    86   </td></tr>\n",
       "\t<tr><td>ESC-1    </td><td>ALR/Alpha</td><td>   28    </td><td>  1860   </td></tr>\n",
       "\t<tr><td>ESC-1    </td><td>Alu      </td><td>  157    </td><td>  4658   </td></tr>\n",
       "\t<tr><td>ESC-1    </td><td>AluJb    </td><td>12869    </td><td>131759   </td></tr>\n",
       "\t<tr><td>ESC-1    </td><td>AluJo    </td><td> 7230    </td><td> 81375   </td></tr>\n",
       "\t<tr><td>ESC-1    </td><td>AluJr    </td><td> 8248    </td><td> 88503   </td></tr>\n",
       "\t<tr><td>ESC-1    </td><td>AluJr4   </td><td> 1784    </td><td> 20966   </td></tr>\n",
       "\t<tr><td>ESC-1    </td><td>AluSc    </td><td> 3050    </td><td> 36338   </td></tr>\n",
       "\t<tr><td>ESC-1    </td><td>AluSc5   </td><td>  596    </td><td>  7018   </td></tr>\n",
       "\t<tr><td>ESC-1    </td><td>AluSc8   </td><td> 2053    </td><td> 23028   </td></tr>\n",
       "\t<tr><td>ESC-1    </td><td>AluSg    </td><td> 3893    </td><td> 38681   </td></tr>\n",
       "\t<tr><td>ESC-1    </td><td>AluSg4   </td><td>  782    </td><td>  7603   </td></tr>\n",
       "\t<tr><td>ESC-1    </td><td>AluSg7   </td><td>  845    </td><td>  9159   </td></tr>\n",
       "\t<tr><td>ESC-1    </td><td>AluSp    </td><td> 5629    </td><td> 53809   </td></tr>\n",
       "\t<tr><td>ESC-1    </td><td>AluSq    </td><td> 1876    </td><td> 19866   </td></tr>\n",
       "\t<tr><td>ESC-1    </td><td>AluSq10  </td><td>  176    </td><td>  2165   </td></tr>\n",
       "\t<tr><td>ESC-1    </td><td>AluSq2   </td><td> 6083    </td><td> 63875   </td></tr>\n",
       "</tbody>\n",
       "</table>\n"
      ],
      "text/latex": [
       "\\begin{tabular}{r|llll}\n",
       " sample & gene & notZero & total\\\\\n",
       "\\hline\n",
       "\t ESC-1     & (CATTC)n  &     1     &     19   \\\\\n",
       "\t ESC-1     & (GAATG)n  &     3     &     36   \\\\\n",
       "\t ESC-1     & 7SK       &    25     &    704   \\\\\n",
       "\t ESC-1     & ACRO1     &     1     &     86   \\\\\n",
       "\t ESC-1     & ALR/Alpha &    28     &   1860   \\\\\n",
       "\t ESC-1     & Alu       &   157     &   4658   \\\\\n",
       "\t ESC-1     & AluJb     & 12869     & 131759   \\\\\n",
       "\t ESC-1     & AluJo     &  7230     &  81375   \\\\\n",
       "\t ESC-1     & AluJr     &  8248     &  88503   \\\\\n",
       "\t ESC-1     & AluJr4    &  1784     &  20966   \\\\\n",
       "\t ESC-1     & AluSc     &  3050     &  36338   \\\\\n",
       "\t ESC-1     & AluSc5    &   596     &   7018   \\\\\n",
       "\t ESC-1     & AluSc8    &  2053     &  23028   \\\\\n",
       "\t ESC-1     & AluSg     &  3893     &  38681   \\\\\n",
       "\t ESC-1     & AluSg4    &   782     &   7603   \\\\\n",
       "\t ESC-1     & AluSg7    &   845     &   9159   \\\\\n",
       "\t ESC-1     & AluSp     &  5629     &  53809   \\\\\n",
       "\t ESC-1     & AluSq     &  1876     &  19866   \\\\\n",
       "\t ESC-1     & AluSq10   &   176     &   2165   \\\\\n",
       "\t ESC-1     & AluSq2    &  6083     &  63875   \\\\\n",
       "\\end{tabular}\n"
      ],
      "text/markdown": [
       "\n",
       "sample | gene | notZero | total | \n",
       "|---|---|---|---|---|---|---|---|---|---|---|---|---|---|---|---|---|---|---|---|\n",
       "| ESC-1     | (CATTC)n  |     1     |     19    | \n",
       "| ESC-1     | (GAATG)n  |     3     |     36    | \n",
       "| ESC-1     | 7SK       |    25     |    704    | \n",
       "| ESC-1     | ACRO1     |     1     |     86    | \n",
       "| ESC-1     | ALR/Alpha |    28     |   1860    | \n",
       "| ESC-1     | Alu       |   157     |   4658    | \n",
       "| ESC-1     | AluJb     | 12869     | 131759    | \n",
       "| ESC-1     | AluJo     |  7230     |  81375    | \n",
       "| ESC-1     | AluJr     |  8248     |  88503    | \n",
       "| ESC-1     | AluJr4    |  1784     |  20966    | \n",
       "| ESC-1     | AluSc     |  3050     |  36338    | \n",
       "| ESC-1     | AluSc5    |   596     |   7018    | \n",
       "| ESC-1     | AluSc8    |  2053     |  23028    | \n",
       "| ESC-1     | AluSg     |  3893     |  38681    | \n",
       "| ESC-1     | AluSg4    |   782     |   7603    | \n",
       "| ESC-1     | AluSg7    |   845     |   9159    | \n",
       "| ESC-1     | AluSp     |  5629     |  53809    | \n",
       "| ESC-1     | AluSq     |  1876     |  19866    | \n",
       "| ESC-1     | AluSq10   |   176     |   2165    | \n",
       "| ESC-1     | AluSq2    |  6083     |  63875    | \n",
       "\n",
       "\n"
      ],
      "text/plain": [
       "   sample gene      notZero total \n",
       "1  ESC-1  (CATTC)n      1       19\n",
       "2  ESC-1  (GAATG)n      3       36\n",
       "3  ESC-1  7SK          25      704\n",
       "4  ESC-1  ACRO1         1       86\n",
       "5  ESC-1  ALR/Alpha    28     1860\n",
       "6  ESC-1  Alu         157     4658\n",
       "7  ESC-1  AluJb     12869   131759\n",
       "8  ESC-1  AluJo      7230    81375\n",
       "9  ESC-1  AluJr      8248    88503\n",
       "10 ESC-1  AluJr4     1784    20966\n",
       "11 ESC-1  AluSc      3050    36338\n",
       "12 ESC-1  AluSc5      596     7018\n",
       "13 ESC-1  AluSc8     2053    23028\n",
       "14 ESC-1  AluSg      3893    38681\n",
       "15 ESC-1  AluSg4      782     7603\n",
       "16 ESC-1  AluSg7      845     9159\n",
       "17 ESC-1  AluSp      5629    53809\n",
       "18 ESC-1  AluSq      1876    19866\n",
       "19 ESC-1  AluSq10     176     2165\n",
       "20 ESC-1  AluSq2     6083    63875"
      ]
     },
     "metadata": {},
     "output_type": "display_data"
    }
   ],
   "source": [
    "head(CountTable,20) #这个就是我们想要的结果"
   ]
  },
  {
   "cell_type": "code",
   "execution_count": 18,
   "metadata": {
    "collapsed": true,
    "jupyter": {
     "outputs_hidden": true
    }
   },
   "outputs": [],
   "source": [
    "CountTable$Percentage<-CountTable$notZero/CountTable$total"
   ]
  },
  {
   "cell_type": "code",
   "execution_count": 21,
   "metadata": {
    "collapsed": true,
    "jupyter": {
     "outputs_hidden": true
    }
   },
   "outputs": [],
   "source": [
    "write.csv(CountTable,\"CountTable.csv\")"
   ]
  },
  {
   "cell_type": "code",
   "execution_count": 22,
   "metadata": {
    "collapsed": true,
    "jupyter": {
     "outputs_hidden": true
    }
   },
   "outputs": [],
   "source": [
    "colnames(CountTable)[2]<-\"TE_subfamily\""
   ]
  },
  {
   "cell_type": "code",
   "execution_count": 28,
   "metadata": {},
   "outputs": [
    {
     "data": {
      "text/html": [
       "<table>\n",
       "<thead><tr><th scope=col>sample</th><th scope=col>TE_subfamily</th><th scope=col>notZero</th><th scope=col>total</th><th scope=col>Percentage</th></tr></thead>\n",
       "<tbody>\n",
       "\t<tr><td>ESC-1     </td><td>(CATTC)n  </td><td>  1       </td><td>  19      </td><td>0.05263158</td></tr>\n",
       "\t<tr><td>ESC-1     </td><td>(GAATG)n  </td><td>  3       </td><td>  36      </td><td>0.08333333</td></tr>\n",
       "\t<tr><td>ESC-1     </td><td>7SK       </td><td> 25       </td><td> 704      </td><td>0.03551136</td></tr>\n",
       "\t<tr><td>ESC-1     </td><td>ACRO1     </td><td>  1       </td><td>  86      </td><td>0.01162791</td></tr>\n",
       "\t<tr><td>ESC-1     </td><td>ALR/Alpha </td><td> 28       </td><td>1860      </td><td>0.01505376</td></tr>\n",
       "\t<tr><td>ESC-1     </td><td>Alu       </td><td>157       </td><td>4658      </td><td>0.03370545</td></tr>\n",
       "</tbody>\n",
       "</table>\n"
      ],
      "text/latex": [
       "\\begin{tabular}{r|lllll}\n",
       " sample & TE\\_subfamily & notZero & total & Percentage\\\\\n",
       "\\hline\n",
       "\t ESC-1      & (CATTC)n   &   1        &   19       & 0.05263158\\\\\n",
       "\t ESC-1      & (GAATG)n   &   3        &   36       & 0.08333333\\\\\n",
       "\t ESC-1      & 7SK        &  25        &  704       & 0.03551136\\\\\n",
       "\t ESC-1      & ACRO1      &   1        &   86       & 0.01162791\\\\\n",
       "\t ESC-1      & ALR/Alpha  &  28        & 1860       & 0.01505376\\\\\n",
       "\t ESC-1      & Alu        & 157        & 4658       & 0.03370545\\\\\n",
       "\\end{tabular}\n"
      ],
      "text/markdown": [
       "\n",
       "sample | TE_subfamily | notZero | total | Percentage | \n",
       "|---|---|---|---|---|---|\n",
       "| ESC-1      | (CATTC)n   |   1        |   19       | 0.05263158 | \n",
       "| ESC-1      | (GAATG)n   |   3        |   36       | 0.08333333 | \n",
       "| ESC-1      | 7SK        |  25        |  704       | 0.03551136 | \n",
       "| ESC-1      | ACRO1      |   1        |   86       | 0.01162791 | \n",
       "| ESC-1      | ALR/Alpha  |  28        | 1860       | 0.01505376 | \n",
       "| ESC-1      | Alu        | 157        | 4658       | 0.03370545 | \n",
       "\n",
       "\n"
      ],
      "text/plain": [
       "  sample TE_subfamily notZero total Percentage\n",
       "1 ESC-1  (CATTC)n       1       19  0.05263158\n",
       "2 ESC-1  (GAATG)n       3       36  0.08333333\n",
       "3 ESC-1  7SK           25      704  0.03551136\n",
       "4 ESC-1  ACRO1          1       86  0.01162791\n",
       "5 ESC-1  ALR/Alpha     28     1860  0.01505376\n",
       "6 ESC-1  Alu          157     4658  0.03370545"
      ]
     },
     "metadata": {},
     "output_type": "display_data"
    }
   ],
   "source": [
    "head(CountTable)"
   ]
  },
  {
   "cell_type": "code",
   "execution_count": 26,
   "metadata": {
    "collapsed": true,
    "jupyter": {
     "outputs_hidden": true
    }
   },
   "outputs": [],
   "source": [
    "annotation<-read.csv(\"./DEseq2/finalDat.csv\",row.names=1)"
   ]
  },
  {
   "cell_type": "code",
   "execution_count": 27,
   "metadata": {},
   "outputs": [
    {
     "data": {
      "text/html": [
       "<table>\n",
       "<thead><tr><th scope=col>TE_subfamily</th><th scope=col>info.x</th><th scope=col>avg_length</th><th scope=col>avg_perc_div</th><th scope=col>Freq</th></tr></thead>\n",
       "<tbody>\n",
       "\t<tr><td>(A)n         </td><td>Simple_repeat</td><td>23.75065     </td><td>5.354792     </td><td>24540        </td></tr>\n",
       "\t<tr><td>(AA)n        </td><td>Simple_repeat</td><td>23.00000     </td><td>0.000000     </td><td>    2        </td></tr>\n",
       "\t<tr><td>(AAA)n       </td><td>Simple_repeat</td><td>18.50000     </td><td>0.000000     </td><td>    2        </td></tr>\n",
       "\t<tr><td>(AAAAAAC)n   </td><td>Simple_repeat</td><td>38.85714     </td><td>5.494286     </td><td>   35        </td></tr>\n",
       "\t<tr><td>(AAAAAAG)n   </td><td>Simple_repeat</td><td>42.10000     </td><td>7.730000     </td><td>   10        </td></tr>\n",
       "\t<tr><td>(AAAAAAT)n   </td><td>Simple_repeat</td><td>42.15385     </td><td>7.200000     </td><td>   13        </td></tr>\n",
       "</tbody>\n",
       "</table>\n"
      ],
      "text/latex": [
       "\\begin{tabular}{r|lllll}\n",
       " TE\\_subfamily & info.x & avg\\_length & avg\\_perc\\_div & Freq\\\\\n",
       "\\hline\n",
       "\t (A)n            & Simple\\_repeat & 23.75065        & 5.354792        & 24540          \\\\\n",
       "\t (AA)n           & Simple\\_repeat & 23.00000        & 0.000000        &     2          \\\\\n",
       "\t (AAA)n          & Simple\\_repeat & 18.50000        & 0.000000        &     2          \\\\\n",
       "\t (AAAAAAC)n      & Simple\\_repeat & 38.85714        & 5.494286        &    35          \\\\\n",
       "\t (AAAAAAG)n      & Simple\\_repeat & 42.10000        & 7.730000        &    10          \\\\\n",
       "\t (AAAAAAT)n      & Simple\\_repeat & 42.15385        & 7.200000        &    13          \\\\\n",
       "\\end{tabular}\n"
      ],
      "text/markdown": [
       "\n",
       "TE_subfamily | info.x | avg_length | avg_perc_div | Freq | \n",
       "|---|---|---|---|---|---|\n",
       "| (A)n          | Simple_repeat | 23.75065      | 5.354792      | 24540         | \n",
       "| (AA)n         | Simple_repeat | 23.00000      | 0.000000      |     2         | \n",
       "| (AAA)n        | Simple_repeat | 18.50000      | 0.000000      |     2         | \n",
       "| (AAAAAAC)n    | Simple_repeat | 38.85714      | 5.494286      |    35         | \n",
       "| (AAAAAAG)n    | Simple_repeat | 42.10000      | 7.730000      |    10         | \n",
       "| (AAAAAAT)n    | Simple_repeat | 42.15385      | 7.200000      |    13         | \n",
       "\n",
       "\n"
      ],
      "text/plain": [
       "  TE_subfamily info.x        avg_length avg_perc_div Freq \n",
       "1 (A)n         Simple_repeat 23.75065   5.354792     24540\n",
       "2 (AA)n        Simple_repeat 23.00000   0.000000         2\n",
       "3 (AAA)n       Simple_repeat 18.50000   0.000000         2\n",
       "4 (AAAAAAC)n   Simple_repeat 38.85714   5.494286        35\n",
       "5 (AAAAAAG)n   Simple_repeat 42.10000   7.730000        10\n",
       "6 (AAAAAAT)n   Simple_repeat 42.15385   7.200000        13"
      ]
     },
     "metadata": {},
     "output_type": "display_data"
    }
   ],
   "source": [
    "head(annotation)"
   ]
  },
  {
   "cell_type": "code",
   "execution_count": 44,
   "metadata": {},
   "outputs": [],
   "source": [
    "annotationDat<-merge(annotation,CountTable,by=\"TE_subfamily\")[,c(-2,-3,-4,-5,-7,-8)]"
   ]
  },
  {
   "cell_type": "code",
   "execution_count": 47,
   "metadata": {},
   "outputs": [],
   "source": [
    "annotationDat<-merge(annotation,CountTable,by=\"TE_subfamily\")"
   ]
  },
  {
   "cell_type": "code",
   "execution_count": 57,
   "metadata": {},
   "outputs": [],
   "source": [
    "write.csv(annotationDat,\"heatmap.csv\")"
   ]
  },
  {
   "cell_type": "code",
   "execution_count": 1,
   "metadata": {
    "collapsed": true,
    "jupyter": {
     "outputs_hidden": true
    }
   },
   "outputs": [],
   "source": [
    "setwd(\"/home/xxzhang/workplace/project/CRISPRa/expression/ESC-div/TElocal/\")"
   ]
  },
  {
   "cell_type": "code",
   "execution_count": 2,
   "metadata": {
    "collapsed": true,
    "jupyter": {
     "outputs_hidden": true
    }
   },
   "outputs": [],
   "source": [
    "annotationDat<-read.csv(\"heatmap.csv\",row.names=1)"
   ]
  },
  {
   "cell_type": "code",
   "execution_count": 3,
   "metadata": {},
   "outputs": [
    {
     "data": {
      "text/html": [
       "<table>\n",
       "<thead><tr><th scope=col>TE_subfamily</th><th scope=col>info.x</th><th scope=col>avg_length</th><th scope=col>avg_perc_div</th><th scope=col>Freq</th><th scope=col>sample</th><th scope=col>notZero</th><th scope=col>total</th><th scope=col>Percentage</th></tr></thead>\n",
       "<tbody>\n",
       "\t<tr><td>(CATTC)n    </td><td>Satellite   </td><td>5714.176    </td><td>19.35294    </td><td>71          </td><td>ESC-1       </td><td>1           </td><td>19          </td><td>0.05263158  </td></tr>\n",
       "\t<tr><td>(CATTC)n    </td><td>Satellite   </td><td>5714.176    </td><td>19.35294    </td><td>71          </td><td>Neuron_pro-3</td><td>2           </td><td>19          </td><td>0.10526316  </td></tr>\n",
       "\t<tr><td>(CATTC)n    </td><td>Satellite   </td><td>5714.176    </td><td>19.35294    </td><td>71          </td><td>Neuron-1    </td><td>1           </td><td>19          </td><td>0.05263158  </td></tr>\n",
       "\t<tr><td>(CATTC)n    </td><td>Satellite   </td><td>5714.176    </td><td>19.35294    </td><td>71          </td><td>ESC-2       </td><td>0           </td><td>19          </td><td>0.00000000  </td></tr>\n",
       "\t<tr><td>(CATTC)n    </td><td>Satellite   </td><td>5714.176    </td><td>19.35294    </td><td>71          </td><td>Neuron-2    </td><td>0           </td><td>19          </td><td>0.00000000  </td></tr>\n",
       "\t<tr><td>(CATTC)n    </td><td>Satellite   </td><td>5714.176    </td><td>19.35294    </td><td>71          </td><td>ESC-3       </td><td>0           </td><td>19          </td><td>0.00000000  </td></tr>\n",
       "</tbody>\n",
       "</table>\n"
      ],
      "text/latex": [
       "\\begin{tabular}{r|lllllllll}\n",
       " TE\\_subfamily & info.x & avg\\_length & avg\\_perc\\_div & Freq & sample & notZero & total & Percentage\\\\\n",
       "\\hline\n",
       "\t (CATTC)n     & Satellite    & 5714.176     & 19.35294     & 71           & ESC-1        & 1            & 19           & 0.05263158  \\\\\n",
       "\t (CATTC)n       & Satellite      & 5714.176       & 19.35294       & 71             & Neuron\\_pro-3 & 2              & 19             & 0.10526316    \\\\\n",
       "\t (CATTC)n     & Satellite    & 5714.176     & 19.35294     & 71           & Neuron-1     & 1            & 19           & 0.05263158  \\\\\n",
       "\t (CATTC)n     & Satellite    & 5714.176     & 19.35294     & 71           & ESC-2        & 0            & 19           & 0.00000000  \\\\\n",
       "\t (CATTC)n     & Satellite    & 5714.176     & 19.35294     & 71           & Neuron-2     & 0            & 19           & 0.00000000  \\\\\n",
       "\t (CATTC)n     & Satellite    & 5714.176     & 19.35294     & 71           & ESC-3        & 0            & 19           & 0.00000000  \\\\\n",
       "\\end{tabular}\n"
      ],
      "text/markdown": [
       "\n",
       "TE_subfamily | info.x | avg_length | avg_perc_div | Freq | sample | notZero | total | Percentage | \n",
       "|---|---|---|---|---|---|\n",
       "| (CATTC)n     | Satellite    | 5714.176     | 19.35294     | 71           | ESC-1        | 1            | 19           | 0.05263158   | \n",
       "| (CATTC)n     | Satellite    | 5714.176     | 19.35294     | 71           | Neuron_pro-3 | 2            | 19           | 0.10526316   | \n",
       "| (CATTC)n     | Satellite    | 5714.176     | 19.35294     | 71           | Neuron-1     | 1            | 19           | 0.05263158   | \n",
       "| (CATTC)n     | Satellite    | 5714.176     | 19.35294     | 71           | ESC-2        | 0            | 19           | 0.00000000   | \n",
       "| (CATTC)n     | Satellite    | 5714.176     | 19.35294     | 71           | Neuron-2     | 0            | 19           | 0.00000000   | \n",
       "| (CATTC)n     | Satellite    | 5714.176     | 19.35294     | 71           | ESC-3        | 0            | 19           | 0.00000000   | \n",
       "\n",
       "\n"
      ],
      "text/plain": [
       "  TE_subfamily info.x    avg_length avg_perc_div Freq sample       notZero\n",
       "1 (CATTC)n     Satellite 5714.176   19.35294     71   ESC-1        1      \n",
       "2 (CATTC)n     Satellite 5714.176   19.35294     71   Neuron_pro-3 2      \n",
       "3 (CATTC)n     Satellite 5714.176   19.35294     71   Neuron-1     1      \n",
       "4 (CATTC)n     Satellite 5714.176   19.35294     71   ESC-2        0      \n",
       "5 (CATTC)n     Satellite 5714.176   19.35294     71   Neuron-2     0      \n",
       "6 (CATTC)n     Satellite 5714.176   19.35294     71   ESC-3        0      \n",
       "  total Percentage\n",
       "1 19    0.05263158\n",
       "2 19    0.10526316\n",
       "3 19    0.05263158\n",
       "4 19    0.00000000\n",
       "5 19    0.00000000\n",
       "6 19    0.00000000"
      ]
     },
     "metadata": {},
     "output_type": "display_data"
    }
   ],
   "source": [
    "head(annotationDat)"
   ]
  },
  {
   "cell_type": "code",
   "execution_count": 15,
   "metadata": {},
   "outputs": [],
   "source": [
    "annotationDat.2 <- aggregate(annotationDat$Percentage, by=list(annotationDat$TE_subfamily,annotationDat$avg_perc_div),mean)"
   ]
  },
  {
   "cell_type": "code",
   "execution_count": 6,
   "metadata": {},
   "outputs": [],
   "source": [
    "annotationDat.2 <- aggregate(annotationDat$Percentage, by=list(annotationDat$TE_subfamily,annotationDat$avg_length),mean)"
   ]
  },
  {
   "cell_type": "code",
   "execution_count": 16,
   "metadata": {},
   "outputs": [
    {
     "data": {
      "text/html": [
       "<table>\n",
       "<thead><tr><th scope=col>Group.1</th><th scope=col>Group.2</th><th scope=col>x</th></tr></thead>\n",
       "<tbody>\n",
       "\t<tr><td>AluYa5   </td><td>3.185398 </td><td>0.1137593</td></tr>\n",
       "\t<tr><td>AluYb8   </td><td>3.291881 </td><td>0.1396204</td></tr>\n",
       "\t<tr><td>L1HS     </td><td>3.365601 </td><td>0.3293792</td></tr>\n",
       "\t<tr><td>L1PA2    </td><td>3.629639 </td><td>0.3018884</td></tr>\n",
       "\t<tr><td>L1PA3    </td><td>3.718378 </td><td>0.2473222</td></tr>\n",
       "\t<tr><td>L1PA4    </td><td>4.648318 </td><td>0.1768977</td></tr>\n",
       "</tbody>\n",
       "</table>\n"
      ],
      "text/latex": [
       "\\begin{tabular}{r|lll}\n",
       " Group.1 & Group.2 & x\\\\\n",
       "\\hline\n",
       "\t AluYa5    & 3.185398  & 0.1137593\\\\\n",
       "\t AluYb8    & 3.291881  & 0.1396204\\\\\n",
       "\t L1HS      & 3.365601  & 0.3293792\\\\\n",
       "\t L1PA2     & 3.629639  & 0.3018884\\\\\n",
       "\t L1PA3     & 3.718378  & 0.2473222\\\\\n",
       "\t L1PA4     & 4.648318  & 0.1768977\\\\\n",
       "\\end{tabular}\n"
      ],
      "text/markdown": [
       "\n",
       "Group.1 | Group.2 | x | \n",
       "|---|---|---|---|---|---|\n",
       "| AluYa5    | 3.185398  | 0.1137593 | \n",
       "| AluYb8    | 3.291881  | 0.1396204 | \n",
       "| L1HS      | 3.365601  | 0.3293792 | \n",
       "| L1PA2     | 3.629639  | 0.3018884 | \n",
       "| L1PA3     | 3.718378  | 0.2473222 | \n",
       "| L1PA4     | 4.648318  | 0.1768977 | \n",
       "\n",
       "\n"
      ],
      "text/plain": [
       "  Group.1 Group.2  x        \n",
       "1 AluYa5  3.185398 0.1137593\n",
       "2 AluYb8  3.291881 0.1396204\n",
       "3 L1HS    3.365601 0.3293792\n",
       "4 L1PA2   3.629639 0.3018884\n",
       "5 L1PA3   3.718378 0.2473222\n",
       "6 L1PA4   4.648318 0.1768977"
      ]
     },
     "metadata": {},
     "output_type": "display_data"
    }
   ],
   "source": [
    "head(annotationDat.2)"
   ]
  },
  {
   "cell_type": "code",
   "execution_count": 17,
   "metadata": {},
   "outputs": [
    {
     "data": {
      "text/html": [
       "<table>\n",
       "<thead><tr><th scope=col>Group.1</th><th scope=col>Group.2</th><th scope=col>x</th></tr></thead>\n",
       "<tbody>\n",
       "\t<tr><td>AluYa5       </td><td>3.185398     </td><td>0.11375927   </td></tr>\n",
       "\t<tr><td>AluYb8       </td><td>3.291881     </td><td>0.13962038   </td></tr>\n",
       "\t<tr><td>L1HS         </td><td>3.365601     </td><td>0.32937920   </td></tr>\n",
       "\t<tr><td>L1PA2        </td><td>3.629639     </td><td>0.30188843   </td></tr>\n",
       "\t<tr><td>L1PA3        </td><td>3.718378     </td><td>0.24732217   </td></tr>\n",
       "\t<tr><td>L1PA4        </td><td>4.648318     </td><td>0.17689773   </td></tr>\n",
       "\t<tr><td>HERV-Fc1_LTR3</td><td>5.060000     </td><td>0.00000000   </td></tr>\n",
       "\t<tr><td>HERV-Fc1_LTR2</td><td>5.366667     </td><td>0.37037037   </td></tr>\n",
       "\t<tr><td>L1PA5        </td><td>5.537647     </td><td>0.16695363   </td></tr>\n",
       "\t<tr><td>MER11D       </td><td>5.591729     </td><td>0.15588723   </td></tr>\n",
       "\t<tr><td>SVA_D        </td><td>5.744755     </td><td>0.43028604   </td></tr>\n",
       "\t<tr><td>MER9a1       </td><td>6.082380     </td><td>0.09686610   </td></tr>\n",
       "\t<tr><td>MER9a2       </td><td>6.235741     </td><td>0.13077985   </td></tr>\n",
       "\t<tr><td>L1P1         </td><td>6.722999     </td><td>0.15107387   </td></tr>\n",
       "\t<tr><td>LTR5_Hs      </td><td>7.092285     </td><td>0.32823211   </td></tr>\n",
       "\t<tr><td>HERVK11D-int </td><td>7.120930     </td><td>0.20155039   </td></tr>\n",
       "\t<tr><td>HERV1_LTRc   </td><td>7.125000     </td><td>0.11764706   </td></tr>\n",
       "\t<tr><td>MER9a3       </td><td>7.176471     </td><td>0.10326797   </td></tr>\n",
       "\t<tr><td>AluYe5       </td><td>7.209503     </td><td>0.11611030   </td></tr>\n",
       "\t<tr><td>AluYb9       </td><td>7.220609     </td><td>0.11864962   </td></tr>\n",
       "\t<tr><td>L1PA6        </td><td>7.245427     </td><td>0.18472697   </td></tr>\n",
       "\t<tr><td>AluY         </td><td>7.367320     </td><td>0.11978107   </td></tr>\n",
       "\t<tr><td>SVA_F        </td><td>7.451011     </td><td>0.30311891   </td></tr>\n",
       "\t<tr><td>HERVK9-int   </td><td>7.489335     </td><td>0.18953346   </td></tr>\n",
       "\t<tr><td>LTR7         </td><td>7.519247     </td><td>0.18238213   </td></tr>\n",
       "\t<tr><td>AluYk3       </td><td>7.536797     </td><td>0.11221578   </td></tr>\n",
       "\t<tr><td>AluYk4       </td><td>7.689828     </td><td>0.10688233   </td></tr>\n",
       "\t<tr><td>LTR14A       </td><td>7.753896     </td><td>0.08101852   </td></tr>\n",
       "\t<tr><td>L1PA7        </td><td>7.839556     </td><td>0.13855467   </td></tr>\n",
       "\t<tr><td>AluYm1       </td><td>7.847518     </td><td>0.10879676   </td></tr>\n",
       "\t<tr><td>⋮</td><td>⋮</td><td>⋮</td></tr>\n",
       "\t<tr><td>L3           </td><td>35.02020     </td><td>0.09151163   </td></tr>\n",
       "\t<tr><td>MER124       </td><td>35.02642     </td><td>0.07231995   </td></tr>\n",
       "\t<tr><td>LTR104_Mam   </td><td>35.03396     </td><td>0.05343915   </td></tr>\n",
       "\t<tr><td>LTR89        </td><td>35.03541     </td><td>0.07612422   </td></tr>\n",
       "\t<tr><td>MLT1O-int    </td><td>35.08312     </td><td>0.08333333   </td></tr>\n",
       "\t<tr><td>LTR85c       </td><td>35.09116     </td><td>0.05693804   </td></tr>\n",
       "\t<tr><td>CR1-3_Croc   </td><td>35.12558     </td><td>0.07562669   </td></tr>\n",
       "\t<tr><td>LTR101_Mam   </td><td>35.13419     </td><td>0.06371271   </td></tr>\n",
       "\t<tr><td>MER130       </td><td>35.15000     </td><td>0.08576998   </td></tr>\n",
       "\t<tr><td>UCON66       </td><td>35.18700     </td><td>0.09743590   </td></tr>\n",
       "\t<tr><td>Plat_L3      </td><td>35.24307     </td><td>0.08706728   </td></tr>\n",
       "\t<tr><td>MamGypLTR3a  </td><td>35.25588     </td><td>0.06302844   </td></tr>\n",
       "\t<tr><td>LTR103b_Mam  </td><td>35.27150     </td><td>0.06745329   </td></tr>\n",
       "\t<tr><td>LTR103_Mam   </td><td>35.31979     </td><td>0.05914236   </td></tr>\n",
       "\t<tr><td>UCON55       </td><td>35.33051     </td><td>0.08544686   </td></tr>\n",
       "\t<tr><td>L3b          </td><td>35.37879     </td><td>0.09067612   </td></tr>\n",
       "\t<tr><td>UCON26       </td><td>35.40712     </td><td>0.04468599   </td></tr>\n",
       "\t<tr><td>UCON8        </td><td>35.43763     </td><td>0.07273769   </td></tr>\n",
       "\t<tr><td>LTR88c       </td><td>35.70317     </td><td>0.04990293   </td></tr>\n",
       "\t<tr><td>L2           </td><td>35.70435     </td><td>0.10885647   </td></tr>\n",
       "\t<tr><td>MLT1L-int    </td><td>35.79490     </td><td>0.06462585   </td></tr>\n",
       "\t<tr><td>LTR88a       </td><td>35.97005     </td><td>0.05721890   </td></tr>\n",
       "\t<tr><td>Chompy-6_Croc</td><td>36.00000     </td><td>0.07407407   </td></tr>\n",
       "\t<tr><td>UCON101      </td><td>36.00900     </td><td>0.06018519   </td></tr>\n",
       "\t<tr><td>CR1-L3B_Croc </td><td>36.12857     </td><td>0.04166667   </td></tr>\n",
       "\t<tr><td>L2-1_AMi     </td><td>36.29010     </td><td>0.09838473   </td></tr>\n",
       "\t<tr><td>CR1-L3A_Croc </td><td>36.66667     </td><td>0.06460774   </td></tr>\n",
       "\t<tr><td>MLT1K-int    </td><td>36.93537     </td><td>0.07870370   </td></tr>\n",
       "\t<tr><td>MamRTE1      </td><td>37.07692     </td><td>0.08396686   </td></tr>\n",
       "\t<tr><td>MamGyp-int   </td><td>37.40777     </td><td>0.06575298   </td></tr>\n",
       "</tbody>\n",
       "</table>\n"
      ],
      "text/latex": [
       "\\begin{tabular}{r|lll}\n",
       " Group.1 & Group.2 & x\\\\\n",
       "\\hline\n",
       "\t AluYa5        & 3.185398      & 0.11375927   \\\\\n",
       "\t AluYb8        & 3.291881      & 0.13962038   \\\\\n",
       "\t L1HS          & 3.365601      & 0.32937920   \\\\\n",
       "\t L1PA2         & 3.629639      & 0.30188843   \\\\\n",
       "\t L1PA3         & 3.718378      & 0.24732217   \\\\\n",
       "\t L1PA4         & 4.648318      & 0.17689773   \\\\\n",
       "\t HERV-Fc1\\_LTR3 & 5.060000        & 0.00000000     \\\\\n",
       "\t HERV-Fc1\\_LTR2 & 5.366667        & 0.37037037     \\\\\n",
       "\t L1PA5         & 5.537647      & 0.16695363   \\\\\n",
       "\t MER11D        & 5.591729      & 0.15588723   \\\\\n",
       "\t SVA\\_D         & 5.744755        & 0.43028604     \\\\\n",
       "\t MER9a1        & 6.082380      & 0.09686610   \\\\\n",
       "\t MER9a2        & 6.235741      & 0.13077985   \\\\\n",
       "\t L1P1          & 6.722999      & 0.15107387   \\\\\n",
       "\t LTR5\\_Hs       & 7.092285        & 0.32823211     \\\\\n",
       "\t HERVK11D-int  & 7.120930      & 0.20155039   \\\\\n",
       "\t HERV1\\_LTRc    & 7.125000        & 0.11764706     \\\\\n",
       "\t MER9a3        & 7.176471      & 0.10326797   \\\\\n",
       "\t AluYe5        & 7.209503      & 0.11611030   \\\\\n",
       "\t AluYb9        & 7.220609      & 0.11864962   \\\\\n",
       "\t L1PA6         & 7.245427      & 0.18472697   \\\\\n",
       "\t AluY          & 7.367320      & 0.11978107   \\\\\n",
       "\t SVA\\_F         & 7.451011        & 0.30311891     \\\\\n",
       "\t HERVK9-int    & 7.489335      & 0.18953346   \\\\\n",
       "\t LTR7          & 7.519247      & 0.18238213   \\\\\n",
       "\t AluYk3        & 7.536797      & 0.11221578   \\\\\n",
       "\t AluYk4        & 7.689828      & 0.10688233   \\\\\n",
       "\t LTR14A        & 7.753896      & 0.08101852   \\\\\n",
       "\t L1PA7         & 7.839556      & 0.13855467   \\\\\n",
       "\t AluYm1        & 7.847518      & 0.10879676   \\\\\n",
       "\t ⋮ & ⋮ & ⋮\\\\\n",
       "\t L3            & 35.02020      & 0.09151163   \\\\\n",
       "\t MER124        & 35.02642      & 0.07231995   \\\\\n",
       "\t LTR104\\_Mam    & 35.03396        & 0.05343915     \\\\\n",
       "\t LTR89         & 35.03541      & 0.07612422   \\\\\n",
       "\t MLT1O-int     & 35.08312      & 0.08333333   \\\\\n",
       "\t LTR85c        & 35.09116      & 0.05693804   \\\\\n",
       "\t CR1-3\\_Croc    & 35.12558        & 0.07562669     \\\\\n",
       "\t LTR101\\_Mam    & 35.13419        & 0.06371271     \\\\\n",
       "\t MER130        & 35.15000      & 0.08576998   \\\\\n",
       "\t UCON66        & 35.18700      & 0.09743590   \\\\\n",
       "\t Plat\\_L3       & 35.24307        & 0.08706728     \\\\\n",
       "\t MamGypLTR3a   & 35.25588      & 0.06302844   \\\\\n",
       "\t LTR103b\\_Mam   & 35.27150        & 0.06745329     \\\\\n",
       "\t LTR103\\_Mam    & 35.31979        & 0.05914236     \\\\\n",
       "\t UCON55        & 35.33051      & 0.08544686   \\\\\n",
       "\t L3b           & 35.37879      & 0.09067612   \\\\\n",
       "\t UCON26        & 35.40712      & 0.04468599   \\\\\n",
       "\t UCON8         & 35.43763      & 0.07273769   \\\\\n",
       "\t LTR88c        & 35.70317      & 0.04990293   \\\\\n",
       "\t L2            & 35.70435      & 0.10885647   \\\\\n",
       "\t MLT1L-int     & 35.79490      & 0.06462585   \\\\\n",
       "\t LTR88a        & 35.97005      & 0.05721890   \\\\\n",
       "\t Chompy-6\\_Croc & 36.00000        & 0.07407407     \\\\\n",
       "\t UCON101       & 36.00900      & 0.06018519   \\\\\n",
       "\t CR1-L3B\\_Croc  & 36.12857        & 0.04166667     \\\\\n",
       "\t L2-1\\_AMi      & 36.29010        & 0.09838473     \\\\\n",
       "\t CR1-L3A\\_Croc  & 36.66667        & 0.06460774     \\\\\n",
       "\t MLT1K-int     & 36.93537      & 0.07870370   \\\\\n",
       "\t MamRTE1       & 37.07692      & 0.08396686   \\\\\n",
       "\t MamGyp-int    & 37.40777      & 0.06575298   \\\\\n",
       "\\end{tabular}\n"
      ],
      "text/markdown": [
       "\n",
       "Group.1 | Group.2 | x | \n",
       "|---|---|---|---|---|---|---|---|---|---|---|---|---|---|---|---|---|---|---|---|---|---|---|---|---|---|---|---|---|---|---|---|---|---|---|---|---|---|---|---|---|---|---|---|---|---|---|---|---|---|---|---|---|---|---|---|---|---|---|---|---|\n",
       "| AluYa5        | 3.185398      | 0.11375927    | \n",
       "| AluYb8        | 3.291881      | 0.13962038    | \n",
       "| L1HS          | 3.365601      | 0.32937920    | \n",
       "| L1PA2         | 3.629639      | 0.30188843    | \n",
       "| L1PA3         | 3.718378      | 0.24732217    | \n",
       "| L1PA4         | 4.648318      | 0.17689773    | \n",
       "| HERV-Fc1_LTR3 | 5.060000      | 0.00000000    | \n",
       "| HERV-Fc1_LTR2 | 5.366667      | 0.37037037    | \n",
       "| L1PA5         | 5.537647      | 0.16695363    | \n",
       "| MER11D        | 5.591729      | 0.15588723    | \n",
       "| SVA_D         | 5.744755      | 0.43028604    | \n",
       "| MER9a1        | 6.082380      | 0.09686610    | \n",
       "| MER9a2        | 6.235741      | 0.13077985    | \n",
       "| L1P1          | 6.722999      | 0.15107387    | \n",
       "| LTR5_Hs       | 7.092285      | 0.32823211    | \n",
       "| HERVK11D-int  | 7.120930      | 0.20155039    | \n",
       "| HERV1_LTRc    | 7.125000      | 0.11764706    | \n",
       "| MER9a3        | 7.176471      | 0.10326797    | \n",
       "| AluYe5        | 7.209503      | 0.11611030    | \n",
       "| AluYb9        | 7.220609      | 0.11864962    | \n",
       "| L1PA6         | 7.245427      | 0.18472697    | \n",
       "| AluY          | 7.367320      | 0.11978107    | \n",
       "| SVA_F         | 7.451011      | 0.30311891    | \n",
       "| HERVK9-int    | 7.489335      | 0.18953346    | \n",
       "| LTR7          | 7.519247      | 0.18238213    | \n",
       "| AluYk3        | 7.536797      | 0.11221578    | \n",
       "| AluYk4        | 7.689828      | 0.10688233    | \n",
       "| LTR14A        | 7.753896      | 0.08101852    | \n",
       "| L1PA7         | 7.839556      | 0.13855467    | \n",
       "| AluYm1        | 7.847518      | 0.10879676    | \n",
       "| ⋮ | ⋮ | ⋮ | \n",
       "| L3            | 35.02020      | 0.09151163    | \n",
       "| MER124        | 35.02642      | 0.07231995    | \n",
       "| LTR104_Mam    | 35.03396      | 0.05343915    | \n",
       "| LTR89         | 35.03541      | 0.07612422    | \n",
       "| MLT1O-int     | 35.08312      | 0.08333333    | \n",
       "| LTR85c        | 35.09116      | 0.05693804    | \n",
       "| CR1-3_Croc    | 35.12558      | 0.07562669    | \n",
       "| LTR101_Mam    | 35.13419      | 0.06371271    | \n",
       "| MER130        | 35.15000      | 0.08576998    | \n",
       "| UCON66        | 35.18700      | 0.09743590    | \n",
       "| Plat_L3       | 35.24307      | 0.08706728    | \n",
       "| MamGypLTR3a   | 35.25588      | 0.06302844    | \n",
       "| LTR103b_Mam   | 35.27150      | 0.06745329    | \n",
       "| LTR103_Mam    | 35.31979      | 0.05914236    | \n",
       "| UCON55        | 35.33051      | 0.08544686    | \n",
       "| L3b           | 35.37879      | 0.09067612    | \n",
       "| UCON26        | 35.40712      | 0.04468599    | \n",
       "| UCON8         | 35.43763      | 0.07273769    | \n",
       "| LTR88c        | 35.70317      | 0.04990293    | \n",
       "| L2            | 35.70435      | 0.10885647    | \n",
       "| MLT1L-int     | 35.79490      | 0.06462585    | \n",
       "| LTR88a        | 35.97005      | 0.05721890    | \n",
       "| Chompy-6_Croc | 36.00000      | 0.07407407    | \n",
       "| UCON101       | 36.00900      | 0.06018519    | \n",
       "| CR1-L3B_Croc  | 36.12857      | 0.04166667    | \n",
       "| L2-1_AMi      | 36.29010      | 0.09838473    | \n",
       "| CR1-L3A_Croc  | 36.66667      | 0.06460774    | \n",
       "| MLT1K-int     | 36.93537      | 0.07870370    | \n",
       "| MamRTE1       | 37.07692      | 0.08396686    | \n",
       "| MamGyp-int    | 37.40777      | 0.06575298    | \n",
       "\n",
       "\n"
      ],
      "text/plain": [
       "     Group.1       Group.2  x         \n",
       "1    AluYa5        3.185398 0.11375927\n",
       "2    AluYb8        3.291881 0.13962038\n",
       "3    L1HS          3.365601 0.32937920\n",
       "4    L1PA2         3.629639 0.30188843\n",
       "5    L1PA3         3.718378 0.24732217\n",
       "6    L1PA4         4.648318 0.17689773\n",
       "7    HERV-Fc1_LTR3 5.060000 0.00000000\n",
       "8    HERV-Fc1_LTR2 5.366667 0.37037037\n",
       "9    L1PA5         5.537647 0.16695363\n",
       "10   MER11D        5.591729 0.15588723\n",
       "11   SVA_D         5.744755 0.43028604\n",
       "12   MER9a1        6.082380 0.09686610\n",
       "13   MER9a2        6.235741 0.13077985\n",
       "14   L1P1          6.722999 0.15107387\n",
       "15   LTR5_Hs       7.092285 0.32823211\n",
       "16   HERVK11D-int  7.120930 0.20155039\n",
       "17   HERV1_LTRc    7.125000 0.11764706\n",
       "18   MER9a3        7.176471 0.10326797\n",
       "19   AluYe5        7.209503 0.11611030\n",
       "20   AluYb9        7.220609 0.11864962\n",
       "21   L1PA6         7.245427 0.18472697\n",
       "22   AluY          7.367320 0.11978107\n",
       "23   SVA_F         7.451011 0.30311891\n",
       "24   HERVK9-int    7.489335 0.18953346\n",
       "25   LTR7          7.519247 0.18238213\n",
       "26   AluYk3        7.536797 0.11221578\n",
       "27   AluYk4        7.689828 0.10688233\n",
       "28   LTR14A        7.753896 0.08101852\n",
       "29   L1PA7         7.839556 0.13855467\n",
       "30   AluYm1        7.847518 0.10879676\n",
       "⋮    ⋮             ⋮        ⋮         \n",
       "1124 L3            35.02020 0.09151163\n",
       "1125 MER124        35.02642 0.07231995\n",
       "1126 LTR104_Mam    35.03396 0.05343915\n",
       "1127 LTR89         35.03541 0.07612422\n",
       "1128 MLT1O-int     35.08312 0.08333333\n",
       "1129 LTR85c        35.09116 0.05693804\n",
       "1130 CR1-3_Croc    35.12558 0.07562669\n",
       "1131 LTR101_Mam    35.13419 0.06371271\n",
       "1132 MER130        35.15000 0.08576998\n",
       "1133 UCON66        35.18700 0.09743590\n",
       "1134 Plat_L3       35.24307 0.08706728\n",
       "1135 MamGypLTR3a   35.25588 0.06302844\n",
       "1136 LTR103b_Mam   35.27150 0.06745329\n",
       "1137 LTR103_Mam    35.31979 0.05914236\n",
       "1138 UCON55        35.33051 0.08544686\n",
       "1139 L3b           35.37879 0.09067612\n",
       "1140 UCON26        35.40712 0.04468599\n",
       "1141 UCON8         35.43763 0.07273769\n",
       "1142 LTR88c        35.70317 0.04990293\n",
       "1143 L2            35.70435 0.10885647\n",
       "1144 MLT1L-int     35.79490 0.06462585\n",
       "1145 LTR88a        35.97005 0.05721890\n",
       "1146 Chompy-6_Croc 36.00000 0.07407407\n",
       "1147 UCON101       36.00900 0.06018519\n",
       "1148 CR1-L3B_Croc  36.12857 0.04166667\n",
       "1149 L2-1_AMi      36.29010 0.09838473\n",
       "1150 CR1-L3A_Croc  36.66667 0.06460774\n",
       "1151 MLT1K-int     36.93537 0.07870370\n",
       "1152 MamRTE1       37.07692 0.08396686\n",
       "1153 MamGyp-int    37.40777 0.06575298"
      ]
     },
     "metadata": {},
     "output_type": "display_data"
    }
   ],
   "source": [
    "annotationDat.2"
   ]
  },
  {
   "cell_type": "code",
   "execution_count": 18,
   "metadata": {
    "collapsed": true,
    "jupyter": {
     "outputs_hidden": true
    }
   },
   "outputs": [],
   "source": [
    "colnames(annotationDat.2)<-c(\"TE_subfamily\",\"avg_perc_div\",\"mean_perc\")"
   ]
  },
  {
   "cell_type": "code",
   "execution_count": 23,
   "metadata": {},
   "outputs": [
    {
     "data": {
      "text/html": [
       "<table>\n",
       "<thead><tr><th></th><th scope=col>TE_subfamily</th><th scope=col>avg_perc_div</th><th scope=col>mean_perc</th></tr></thead>\n",
       "<tbody>\n",
       "\t<tr><th scope=row>7</th><td>HERV-Fc1_LTR3</td><td> 5.060000    </td><td>0.00000000   </td></tr>\n",
       "\t<tr><th scope=row>12</th><td>MER9a1       </td><td> 6.082380    </td><td>0.09686610   </td></tr>\n",
       "\t<tr><th scope=row>28</th><td>LTR14A       </td><td> 7.753896    </td><td>0.08101852   </td></tr>\n",
       "\t<tr><th scope=row>33</th><td>MER85        </td><td> 7.969892    </td><td>0.07562724   </td></tr>\n",
       "\t<tr><th scope=row>37</th><td>LTR15        </td><td> 8.294249    </td><td>0.09003215   </td></tr>\n",
       "\t<tr><th scope=row>46</th><td>LTR14C       </td><td> 8.749242    </td><td>0.05028386   </td></tr>\n",
       "\t<tr><th scope=row>47</th><td>L1PA8        </td><td> 8.773723    </td><td>0.08882521   </td></tr>\n",
       "\t<tr><th scope=row>49</th><td>AluYj4       </td><td> 8.831762    </td><td>0.08054116   </td></tr>\n",
       "\t<tr><th scope=row>52</th><td>AluYh3       </td><td> 8.997762    </td><td>0.09189103   </td></tr>\n",
       "\t<tr><th scope=row>53</th><td>AluYc        </td><td> 9.035985    </td><td>0.08484638   </td></tr>\n",
       "\t<tr><th scope=row>55</th><td>LTR22        </td><td> 9.204854    </td><td>0.04320988   </td></tr>\n",
       "\t<tr><th scope=row>56</th><td>LTR19B       </td><td> 9.283444    </td><td>0.08573626   </td></tr>\n",
       "\t<tr><th scope=row>57</th><td>AluYd8       </td><td> 9.365976    </td><td>0.09774089   </td></tr>\n",
       "\t<tr><th scope=row>59</th><td>MER75B       </td><td> 9.420000    </td><td>0.05866667   </td></tr>\n",
       "\t<tr><th scope=row>61</th><td>MER41A       </td><td> 9.610769    </td><td>0.09792347   </td></tr>\n",
       "\t<tr><th scope=row>62</th><td>LTR10F       </td><td> 9.645759    </td><td>0.09516692   </td></tr>\n",
       "\t<tr><th scope=row>73</th><td>HSATI        </td><td>10.068966    </td><td>0.03954802   </td></tr>\n",
       "\t<tr><th scope=row>74</th><td>MER107       </td><td>10.086875    </td><td>0.09914058   </td></tr>\n",
       "\t<tr><th scope=row>76</th><td>LTR66        </td><td>10.108356    </td><td>0.07676295   </td></tr>\n",
       "\t<tr><th scope=row>78</th><td>L1P3         </td><td>10.182217    </td><td>0.08247518   </td></tr>\n",
       "\t<tr><th scope=row>80</th><td>LTR30        </td><td>10.257051    </td><td>0.06338553   </td></tr>\n",
       "\t<tr><th scope=row>82</th><td>AluYg6       </td><td>10.359747    </td><td>0.07168459   </td></tr>\n",
       "\t<tr><th scope=row>85</th><td>MER4E1       </td><td>10.467130    </td><td>0.08661020   </td></tr>\n",
       "\t<tr><th scope=row>86</th><td>THE1A        </td><td>10.510102    </td><td>0.06892289   </td></tr>\n",
       "\t<tr><th scope=row>91</th><td>MLT2A1       </td><td>10.678446    </td><td>0.06004285   </td></tr>\n",
       "\t<tr><th scope=row>96</th><td>MADE1        </td><td>10.875381    </td><td>0.03405264   </td></tr>\n",
       "\t<tr><th scope=row>103</th><td>LTR21C       </td><td>11.104545    </td><td>0.05246914   </td></tr>\n",
       "\t<tr><th scope=row>110</th><td>MLT2A2       </td><td>11.359183    </td><td>0.06732043   </td></tr>\n",
       "\t<tr><th scope=row>111</th><td>AluYk12      </td><td>11.378829    </td><td>0.08320649   </td></tr>\n",
       "\t<tr><th scope=row>114</th><td>MER4A1       </td><td>11.551093    </td><td>0.09855618   </td></tr>\n",
       "\t<tr><th scope=row>⋮</th><td>⋮</td><td>⋮</td><td>⋮</td></tr>\n",
       "\t<tr><th scope=row>1123</th><td>CR1-13_AMi   </td><td>34.99091     </td><td>0.07590759   </td></tr>\n",
       "\t<tr><th scope=row>1124</th><td>L3           </td><td>35.02020     </td><td>0.09151163   </td></tr>\n",
       "\t<tr><th scope=row>1125</th><td>MER124       </td><td>35.02642     </td><td>0.07231995   </td></tr>\n",
       "\t<tr><th scope=row>1126</th><td>LTR104_Mam   </td><td>35.03396     </td><td>0.05343915   </td></tr>\n",
       "\t<tr><th scope=row>1127</th><td>LTR89        </td><td>35.03541     </td><td>0.07612422   </td></tr>\n",
       "\t<tr><th scope=row>1128</th><td>MLT1O-int    </td><td>35.08312     </td><td>0.08333333   </td></tr>\n",
       "\t<tr><th scope=row>1129</th><td>LTR85c       </td><td>35.09116     </td><td>0.05693804   </td></tr>\n",
       "\t<tr><th scope=row>1130</th><td>CR1-3_Croc   </td><td>35.12558     </td><td>0.07562669   </td></tr>\n",
       "\t<tr><th scope=row>1131</th><td>LTR101_Mam   </td><td>35.13419     </td><td>0.06371271   </td></tr>\n",
       "\t<tr><th scope=row>1132</th><td>MER130       </td><td>35.15000     </td><td>0.08576998   </td></tr>\n",
       "\t<tr><th scope=row>1133</th><td>UCON66       </td><td>35.18700     </td><td>0.09743590   </td></tr>\n",
       "\t<tr><th scope=row>1134</th><td>Plat_L3      </td><td>35.24307     </td><td>0.08706728   </td></tr>\n",
       "\t<tr><th scope=row>1135</th><td>MamGypLTR3a  </td><td>35.25588     </td><td>0.06302844   </td></tr>\n",
       "\t<tr><th scope=row>1136</th><td>LTR103b_Mam  </td><td>35.27150     </td><td>0.06745329   </td></tr>\n",
       "\t<tr><th scope=row>1137</th><td>LTR103_Mam   </td><td>35.31979     </td><td>0.05914236   </td></tr>\n",
       "\t<tr><th scope=row>1138</th><td>UCON55       </td><td>35.33051     </td><td>0.08544686   </td></tr>\n",
       "\t<tr><th scope=row>1139</th><td>L3b          </td><td>35.37879     </td><td>0.09067612   </td></tr>\n",
       "\t<tr><th scope=row>1140</th><td>UCON26       </td><td>35.40712     </td><td>0.04468599   </td></tr>\n",
       "\t<tr><th scope=row>1141</th><td>UCON8        </td><td>35.43763     </td><td>0.07273769   </td></tr>\n",
       "\t<tr><th scope=row>1142</th><td>LTR88c       </td><td>35.70317     </td><td>0.04990293   </td></tr>\n",
       "\t<tr><th scope=row>1144</th><td>MLT1L-int    </td><td>35.79490     </td><td>0.06462585   </td></tr>\n",
       "\t<tr><th scope=row>1145</th><td>LTR88a       </td><td>35.97005     </td><td>0.05721890   </td></tr>\n",
       "\t<tr><th scope=row>1146</th><td>Chompy-6_Croc</td><td>36.00000     </td><td>0.07407407   </td></tr>\n",
       "\t<tr><th scope=row>1147</th><td>UCON101      </td><td>36.00900     </td><td>0.06018519   </td></tr>\n",
       "\t<tr><th scope=row>1148</th><td>CR1-L3B_Croc </td><td>36.12857     </td><td>0.04166667   </td></tr>\n",
       "\t<tr><th scope=row>1149</th><td>L2-1_AMi     </td><td>36.29010     </td><td>0.09838473   </td></tr>\n",
       "\t<tr><th scope=row>1150</th><td>CR1-L3A_Croc </td><td>36.66667     </td><td>0.06460774   </td></tr>\n",
       "\t<tr><th scope=row>1151</th><td>MLT1K-int    </td><td>36.93537     </td><td>0.07870370   </td></tr>\n",
       "\t<tr><th scope=row>1152</th><td>MamRTE1      </td><td>37.07692     </td><td>0.08396686   </td></tr>\n",
       "\t<tr><th scope=row>1153</th><td>MamGyp-int   </td><td>37.40777     </td><td>0.06575298   </td></tr>\n",
       "</tbody>\n",
       "</table>\n"
      ],
      "text/latex": [
       "\\begin{tabular}{r|lll}\n",
       "  & TE\\_subfamily & avg\\_perc\\_div & mean\\_perc\\\\\n",
       "\\hline\n",
       "\t7 & HERV-Fc1\\_LTR3 &  5.060000       & 0.00000000     \\\\\n",
       "\t12 & MER9a1        &  6.082380     & 0.09686610   \\\\\n",
       "\t28 & LTR14A        &  7.753896     & 0.08101852   \\\\\n",
       "\t33 & MER85         &  7.969892     & 0.07562724   \\\\\n",
       "\t37 & LTR15         &  8.294249     & 0.09003215   \\\\\n",
       "\t46 & LTR14C        &  8.749242     & 0.05028386   \\\\\n",
       "\t47 & L1PA8         &  8.773723     & 0.08882521   \\\\\n",
       "\t49 & AluYj4        &  8.831762     & 0.08054116   \\\\\n",
       "\t52 & AluYh3        &  8.997762     & 0.09189103   \\\\\n",
       "\t53 & AluYc         &  9.035985     & 0.08484638   \\\\\n",
       "\t55 & LTR22         &  9.204854     & 0.04320988   \\\\\n",
       "\t56 & LTR19B        &  9.283444     & 0.08573626   \\\\\n",
       "\t57 & AluYd8        &  9.365976     & 0.09774089   \\\\\n",
       "\t59 & MER75B        &  9.420000     & 0.05866667   \\\\\n",
       "\t61 & MER41A        &  9.610769     & 0.09792347   \\\\\n",
       "\t62 & LTR10F        &  9.645759     & 0.09516692   \\\\\n",
       "\t73 & HSATI         & 10.068966     & 0.03954802   \\\\\n",
       "\t74 & MER107        & 10.086875     & 0.09914058   \\\\\n",
       "\t76 & LTR66         & 10.108356     & 0.07676295   \\\\\n",
       "\t78 & L1P3          & 10.182217     & 0.08247518   \\\\\n",
       "\t80 & LTR30         & 10.257051     & 0.06338553   \\\\\n",
       "\t82 & AluYg6        & 10.359747     & 0.07168459   \\\\\n",
       "\t85 & MER4E1        & 10.467130     & 0.08661020   \\\\\n",
       "\t86 & THE1A         & 10.510102     & 0.06892289   \\\\\n",
       "\t91 & MLT2A1        & 10.678446     & 0.06004285   \\\\\n",
       "\t96 & MADE1         & 10.875381     & 0.03405264   \\\\\n",
       "\t103 & LTR21C        & 11.104545     & 0.05246914   \\\\\n",
       "\t110 & MLT2A2        & 11.359183     & 0.06732043   \\\\\n",
       "\t111 & AluYk12       & 11.378829     & 0.08320649   \\\\\n",
       "\t114 & MER4A1        & 11.551093     & 0.09855618   \\\\\n",
       "\t⋮ & ⋮ & ⋮ & ⋮\\\\\n",
       "\t1123 & CR1-13\\_AMi    & 34.99091        & 0.07590759     \\\\\n",
       "\t1124 & L3            & 35.02020      & 0.09151163   \\\\\n",
       "\t1125 & MER124        & 35.02642      & 0.07231995   \\\\\n",
       "\t1126 & LTR104\\_Mam    & 35.03396        & 0.05343915     \\\\\n",
       "\t1127 & LTR89         & 35.03541      & 0.07612422   \\\\\n",
       "\t1128 & MLT1O-int     & 35.08312      & 0.08333333   \\\\\n",
       "\t1129 & LTR85c        & 35.09116      & 0.05693804   \\\\\n",
       "\t1130 & CR1-3\\_Croc    & 35.12558        & 0.07562669     \\\\\n",
       "\t1131 & LTR101\\_Mam    & 35.13419        & 0.06371271     \\\\\n",
       "\t1132 & MER130        & 35.15000      & 0.08576998   \\\\\n",
       "\t1133 & UCON66        & 35.18700      & 0.09743590   \\\\\n",
       "\t1134 & Plat\\_L3       & 35.24307        & 0.08706728     \\\\\n",
       "\t1135 & MamGypLTR3a   & 35.25588      & 0.06302844   \\\\\n",
       "\t1136 & LTR103b\\_Mam   & 35.27150        & 0.06745329     \\\\\n",
       "\t1137 & LTR103\\_Mam    & 35.31979        & 0.05914236     \\\\\n",
       "\t1138 & UCON55        & 35.33051      & 0.08544686   \\\\\n",
       "\t1139 & L3b           & 35.37879      & 0.09067612   \\\\\n",
       "\t1140 & UCON26        & 35.40712      & 0.04468599   \\\\\n",
       "\t1141 & UCON8         & 35.43763      & 0.07273769   \\\\\n",
       "\t1142 & LTR88c        & 35.70317      & 0.04990293   \\\\\n",
       "\t1144 & MLT1L-int     & 35.79490      & 0.06462585   \\\\\n",
       "\t1145 & LTR88a        & 35.97005      & 0.05721890   \\\\\n",
       "\t1146 & Chompy-6\\_Croc & 36.00000        & 0.07407407     \\\\\n",
       "\t1147 & UCON101       & 36.00900      & 0.06018519   \\\\\n",
       "\t1148 & CR1-L3B\\_Croc  & 36.12857        & 0.04166667     \\\\\n",
       "\t1149 & L2-1\\_AMi      & 36.29010        & 0.09838473     \\\\\n",
       "\t1150 & CR1-L3A\\_Croc  & 36.66667        & 0.06460774     \\\\\n",
       "\t1151 & MLT1K-int     & 36.93537      & 0.07870370   \\\\\n",
       "\t1152 & MamRTE1       & 37.07692      & 0.08396686   \\\\\n",
       "\t1153 & MamGyp-int    & 37.40777      & 0.06575298   \\\\\n",
       "\\end{tabular}\n"
      ],
      "text/markdown": [
       "\n",
       "| <!--/--> | TE_subfamily | avg_perc_div | mean_perc | \n",
       "|---|---|---|---|---|---|---|---|---|---|---|---|---|---|---|---|---|---|---|---|---|---|---|---|---|---|---|---|---|---|---|---|---|---|---|---|---|---|---|---|---|---|---|---|---|---|---|---|---|---|---|---|---|---|---|---|---|---|---|---|---|\n",
       "| 7 | HERV-Fc1_LTR3 |  5.060000     | 0.00000000    | \n",
       "| 12 | MER9a1        |  6.082380     | 0.09686610    | \n",
       "| 28 | LTR14A        |  7.753896     | 0.08101852    | \n",
       "| 33 | MER85         |  7.969892     | 0.07562724    | \n",
       "| 37 | LTR15         |  8.294249     | 0.09003215    | \n",
       "| 46 | LTR14C        |  8.749242     | 0.05028386    | \n",
       "| 47 | L1PA8         |  8.773723     | 0.08882521    | \n",
       "| 49 | AluYj4        |  8.831762     | 0.08054116    | \n",
       "| 52 | AluYh3        |  8.997762     | 0.09189103    | \n",
       "| 53 | AluYc         |  9.035985     | 0.08484638    | \n",
       "| 55 | LTR22         |  9.204854     | 0.04320988    | \n",
       "| 56 | LTR19B        |  9.283444     | 0.08573626    | \n",
       "| 57 | AluYd8        |  9.365976     | 0.09774089    | \n",
       "| 59 | MER75B        |  9.420000     | 0.05866667    | \n",
       "| 61 | MER41A        |  9.610769     | 0.09792347    | \n",
       "| 62 | LTR10F        |  9.645759     | 0.09516692    | \n",
       "| 73 | HSATI         | 10.068966     | 0.03954802    | \n",
       "| 74 | MER107        | 10.086875     | 0.09914058    | \n",
       "| 76 | LTR66         | 10.108356     | 0.07676295    | \n",
       "| 78 | L1P3          | 10.182217     | 0.08247518    | \n",
       "| 80 | LTR30         | 10.257051     | 0.06338553    | \n",
       "| 82 | AluYg6        | 10.359747     | 0.07168459    | \n",
       "| 85 | MER4E1        | 10.467130     | 0.08661020    | \n",
       "| 86 | THE1A         | 10.510102     | 0.06892289    | \n",
       "| 91 | MLT2A1        | 10.678446     | 0.06004285    | \n",
       "| 96 | MADE1         | 10.875381     | 0.03405264    | \n",
       "| 103 | LTR21C        | 11.104545     | 0.05246914    | \n",
       "| 110 | MLT2A2        | 11.359183     | 0.06732043    | \n",
       "| 111 | AluYk12       | 11.378829     | 0.08320649    | \n",
       "| 114 | MER4A1        | 11.551093     | 0.09855618    | \n",
       "| ⋮ | ⋮ | ⋮ | ⋮ | \n",
       "| 1123 | CR1-13_AMi    | 34.99091      | 0.07590759    | \n",
       "| 1124 | L3            | 35.02020      | 0.09151163    | \n",
       "| 1125 | MER124        | 35.02642      | 0.07231995    | \n",
       "| 1126 | LTR104_Mam    | 35.03396      | 0.05343915    | \n",
       "| 1127 | LTR89         | 35.03541      | 0.07612422    | \n",
       "| 1128 | MLT1O-int     | 35.08312      | 0.08333333    | \n",
       "| 1129 | LTR85c        | 35.09116      | 0.05693804    | \n",
       "| 1130 | CR1-3_Croc    | 35.12558      | 0.07562669    | \n",
       "| 1131 | LTR101_Mam    | 35.13419      | 0.06371271    | \n",
       "| 1132 | MER130        | 35.15000      | 0.08576998    | \n",
       "| 1133 | UCON66        | 35.18700      | 0.09743590    | \n",
       "| 1134 | Plat_L3       | 35.24307      | 0.08706728    | \n",
       "| 1135 | MamGypLTR3a   | 35.25588      | 0.06302844    | \n",
       "| 1136 | LTR103b_Mam   | 35.27150      | 0.06745329    | \n",
       "| 1137 | LTR103_Mam    | 35.31979      | 0.05914236    | \n",
       "| 1138 | UCON55        | 35.33051      | 0.08544686    | \n",
       "| 1139 | L3b           | 35.37879      | 0.09067612    | \n",
       "| 1140 | UCON26        | 35.40712      | 0.04468599    | \n",
       "| 1141 | UCON8         | 35.43763      | 0.07273769    | \n",
       "| 1142 | LTR88c        | 35.70317      | 0.04990293    | \n",
       "| 1144 | MLT1L-int     | 35.79490      | 0.06462585    | \n",
       "| 1145 | LTR88a        | 35.97005      | 0.05721890    | \n",
       "| 1146 | Chompy-6_Croc | 36.00000      | 0.07407407    | \n",
       "| 1147 | UCON101       | 36.00900      | 0.06018519    | \n",
       "| 1148 | CR1-L3B_Croc  | 36.12857      | 0.04166667    | \n",
       "| 1149 | L2-1_AMi      | 36.29010      | 0.09838473    | \n",
       "| 1150 | CR1-L3A_Croc  | 36.66667      | 0.06460774    | \n",
       "| 1151 | MLT1K-int     | 36.93537      | 0.07870370    | \n",
       "| 1152 | MamRTE1       | 37.07692      | 0.08396686    | \n",
       "| 1153 | MamGyp-int    | 37.40777      | 0.06575298    | \n",
       "\n",
       "\n"
      ],
      "text/plain": [
       "     TE_subfamily  avg_perc_div mean_perc \n",
       "7    HERV-Fc1_LTR3  5.060000    0.00000000\n",
       "12   MER9a1         6.082380    0.09686610\n",
       "28   LTR14A         7.753896    0.08101852\n",
       "33   MER85          7.969892    0.07562724\n",
       "37   LTR15          8.294249    0.09003215\n",
       "46   LTR14C         8.749242    0.05028386\n",
       "47   L1PA8          8.773723    0.08882521\n",
       "49   AluYj4         8.831762    0.08054116\n",
       "52   AluYh3         8.997762    0.09189103\n",
       "53   AluYc          9.035985    0.08484638\n",
       "55   LTR22          9.204854    0.04320988\n",
       "56   LTR19B         9.283444    0.08573626\n",
       "57   AluYd8         9.365976    0.09774089\n",
       "59   MER75B         9.420000    0.05866667\n",
       "61   MER41A         9.610769    0.09792347\n",
       "62   LTR10F         9.645759    0.09516692\n",
       "73   HSATI         10.068966    0.03954802\n",
       "74   MER107        10.086875    0.09914058\n",
       "76   LTR66         10.108356    0.07676295\n",
       "78   L1P3          10.182217    0.08247518\n",
       "80   LTR30         10.257051    0.06338553\n",
       "82   AluYg6        10.359747    0.07168459\n",
       "85   MER4E1        10.467130    0.08661020\n",
       "86   THE1A         10.510102    0.06892289\n",
       "91   MLT2A1        10.678446    0.06004285\n",
       "96   MADE1         10.875381    0.03405264\n",
       "103  LTR21C        11.104545    0.05246914\n",
       "110  MLT2A2        11.359183    0.06732043\n",
       "111  AluYk12       11.378829    0.08320649\n",
       "114  MER4A1        11.551093    0.09855618\n",
       "⋮    ⋮             ⋮            ⋮         \n",
       "1123 CR1-13_AMi    34.99091     0.07590759\n",
       "1124 L3            35.02020     0.09151163\n",
       "1125 MER124        35.02642     0.07231995\n",
       "1126 LTR104_Mam    35.03396     0.05343915\n",
       "1127 LTR89         35.03541     0.07612422\n",
       "1128 MLT1O-int     35.08312     0.08333333\n",
       "1129 LTR85c        35.09116     0.05693804\n",
       "1130 CR1-3_Croc    35.12558     0.07562669\n",
       "1131 LTR101_Mam    35.13419     0.06371271\n",
       "1132 MER130        35.15000     0.08576998\n",
       "1133 UCON66        35.18700     0.09743590\n",
       "1134 Plat_L3       35.24307     0.08706728\n",
       "1135 MamGypLTR3a   35.25588     0.06302844\n",
       "1136 LTR103b_Mam   35.27150     0.06745329\n",
       "1137 LTR103_Mam    35.31979     0.05914236\n",
       "1138 UCON55        35.33051     0.08544686\n",
       "1139 L3b           35.37879     0.09067612\n",
       "1140 UCON26        35.40712     0.04468599\n",
       "1141 UCON8         35.43763     0.07273769\n",
       "1142 LTR88c        35.70317     0.04990293\n",
       "1144 MLT1L-int     35.79490     0.06462585\n",
       "1145 LTR88a        35.97005     0.05721890\n",
       "1146 Chompy-6_Croc 36.00000     0.07407407\n",
       "1147 UCON101       36.00900     0.06018519\n",
       "1148 CR1-L3B_Croc  36.12857     0.04166667\n",
       "1149 L2-1_AMi      36.29010     0.09838473\n",
       "1150 CR1-L3A_Croc  36.66667     0.06460774\n",
       "1151 MLT1K-int     36.93537     0.07870370\n",
       "1152 MamRTE1       37.07692     0.08396686\n",
       "1153 MamGyp-int    37.40777     0.06575298"
      ]
     },
     "metadata": {},
     "output_type": "display_data"
    }
   ],
   "source": [
    "annotationDat.2[annotationDat.2$mean_perc<0.1,]"
   ]
  },
  {
   "cell_type": "code",
   "execution_count": 9,
   "metadata": {
    "collapsed": true,
    "jupyter": {
     "outputs_hidden": true
    }
   },
   "outputs": [],
   "source": [
    "colnames(annotationDat.2)<-c(\"TE_subfamily\",\"avg_length\",\"mean_perc\")"
   ]
  },
  {
   "cell_type": "code",
   "execution_count": 10,
   "metadata": {
    "collapsed": true,
    "jupyter": {
     "outputs_hidden": true
    }
   },
   "outputs": [],
   "source": [
    "library(ggplot2)"
   ]
  },
  {
   "cell_type": "code",
   "execution_count": 17,
   "metadata": {
    "collapsed": true,
    "jupyter": {
     "outputs_hidden": true
    }
   },
   "outputs": [],
   "source": [
    "options(repr.plot.width =10, repr.plot.height =10)"
   ]
  },
  {
   "cell_type": "code",
   "execution_count": 20,
   "metadata": {
    "collapsed": true,
    "jupyter": {
     "outputs_hidden": true
    }
   },
   "outputs": [],
   "source": [
    "p<-ggplot(annotationDat.2,aes(x=avg_perc_div,y=mean_perc))+\n",
    "    geom_point(size=1,shape=15)+\n",
    "    geom_smooth(method=lm)+\n",
    "    theme_minimal()"
   ]
  },
  {
   "cell_type": "code",
   "execution_count": 13,
   "metadata": {
    "collapsed": true,
    "jupyter": {
     "outputs_hidden": true
    }
   },
   "outputs": [],
   "source": [
    "p<-ggplot(annotationDat.2,aes(x=avg_length,y=mean_perc))+\n",
    "    geom_point(size=1,shape=15)+\n",
    "    geom_smooth(method=lm)+\n",
    "    theme_minimal()"
   ]
  },
  {
   "cell_type": "code",
   "execution_count": 14,
   "metadata": {},
   "outputs": [
    {
     "data": {},
     "metadata": {},
     "output_type": "display_data"
    },
    {
     "data": {
      "image/png": "[encoded data removed]",
      "text/plain": [
       "plot without title"
      ]
     },
     "metadata": {},
     "output_type": "display_data"
    }
   ],
   "source": [
    "p"
   ]
  },
  {
   "cell_type": "code",
   "execution_count": 25,
   "metadata": {},
   "outputs": [
    {
     "data": {},
     "metadata": {},
     "output_type": "display_data"
    },
    {
     "data": {
      "text/html": [
       "<strong>png:</strong> 2"
      ],
      "text/latex": [
       "\\textbf{png:} 2"
      ],
      "text/markdown": [
       "**png:** 2"
      ],
      "text/plain": [
       "png \n",
       "  2 "
      ]
     },
     "metadata": {},
     "output_type": "display_data"
    }
   ],
   "source": [
    "pdf('cor.pdf',width = 4,height = 4)\n",
    "p\n",
    "dev.off()"
   ]
  },
  {
   "cell_type": "code",
   "execution_count": 49,
   "metadata": {
    "collapsed": true,
    "jupyter": {
     "outputs_hidden": true
    }
   },
   "outputs": [],
   "source": [
    "#annotationDat_wide <- annotationDat %>% \n",
    "#    spread(sample,Percentage)"
   ]
  },
  {
   "cell_type": "code",
   "execution_count": 68,
   "metadata": {},
   "outputs": [
    {
     "data": {},
     "metadata": {},
     "output_type": "display_data"
    },
    {
     "data": {
      "text/html": [
       "<strong>png:</strong> 2"
      ],
      "text/latex": [
       "\\textbf{png:} 2"
      ],
      "text/markdown": [
       "**png:** 2"
      ],
      "text/plain": [
       "png \n",
       "  2 "
      ]
     },
     "metadata": {},
     "output_type": "display_data"
    }
   ],
   "source": [
    "pdf('correlaton.pdf',width = 12,height = 4)\n",
    "p\n",
    "dev.off()"
   ]
  },
  {
   "cell_type": "code",
   "execution_count": null,
   "metadata": {
    "collapsed": true,
    "jupyter": {
     "outputs_hidden": true
    }
   },
   "outputs": [],
   "source": [
    "Pathway <- rownames(A) %>% as.data.frame() %>%\n",
    "  mutate(group=rep(c(\"Wnt\",\"TNF\",\"HIF\"),\n",
    "                   times=c(16,17,13))) %>%\n",
    "  mutate(p=\"\")%>%\n",
    "  ggplot(aes(p,.,fill=group))+\n",
    "  geom_tile() + \n",
    "  scale_y_discrete(position=\"right\") +\n",
    "  theme_minimal()+xlab(NULL) + ylab(NULL) +\n",
    "  theme(axis.text.y = element_blank(),\n",
    "        axis.text.x =element_text(\n",
    "          angle =90,hjust =0.5,vjust = 0.5))+\n",
    "  labs(fill = \"Pathway\")"
   ]
  },
  {
   "cell_type": "code",
   "execution_count": null,
   "metadata": {
    "collapsed": true,
    "jupyter": {
     "outputs_hidden": true
    }
   },
   "outputs": [],
   "source": [
    "p <- A %>% scale(center = T) %>% as.data.frame()\n",
    "phr <- hclust(dist(p)) %>% \n",
    "  ggtree(layout=\"rectangular\",branch.length=\"none\")\n",
    "phc <- hclust(dist(t(p))) %>% \n",
    "  ggtree() + layout_dendrogram()"
   ]
  },
  {
   "cell_type": "code",
   "execution_count": 58,
   "metadata": {
    "collapsed": true,
    "jupyter": {
     "outputs_hidden": true
    }
   },
   "outputs": [],
   "source": [
    "options(repr.plot.width =10, repr.plot.height =100)"
   ]
  },
  {
   "cell_type": "code",
   "execution_count": 59,
   "metadata": {},
   "outputs": [
    {
     "ename": "ERROR",
     "evalue": "Error in insert_left(Pathway, width = 0.05): 没有\"insert_left\"这个函数\n",
     "output_type": "error",
     "traceback": [
      "Error in insert_left(Pathway, width = 0.05): 没有\"insert_left\"这个函数\nTraceback:\n"
     ]
    }
   ],
   "source": [
    "p1<-ggplot(annotationDat,aes(x=sample,y=TE_subfamily,fill=Percentage))+\n",
    "   geom_raster()+scale_fill_gradient2(low=\"#003366\", high=\"#990033\", mid=\"white\")+\n",
    "   geom_tile()+\n",
    "   theme_minimal()+\n",
    "   theme(axis.text.x =element_text(angle =90,hjust =0.5,vjust = 0.5))+\n",
    "   xlab(NULL) + ylab(NULL)+\n",
    "   insert_left(Pathway, width = .05)"
   ]
  },
  {
   "cell_type": "code",
   "execution_count": 60,
   "metadata": {
    "collapsed": true,
    "jupyter": {
     "outputs_hidden": true
    }
   },
   "outputs": [],
   "source": [
    "p1<-ggplot(annotationDat,aes(x=sample,y=TE_subfamily,fill=Percentage))+\n",
    "   geom_raster()+scale_fill_gradient2(low=\"#003366\", high=\"#990033\", mid=\"white\")+\n",
    "   geom_tile()+\n",
    "   theme_minimal()+\n",
    "   theme(axis.text.x =element_text(angle =90,hjust =0.5,vjust = 0.5))+\n",
    "   xlab(NULL) + ylab(NULL)"
   ]
  },
  {
   "cell_type": "code",
   "execution_count": 3,
   "metadata": {},
   "outputs": [],
   "source": [
    "#p1"
   ]
  },
  {
   "cell_type": "code",
   "execution_count": 62,
   "metadata": {},
   "outputs": [
    {
     "data": {},
     "metadata": {},
     "output_type": "display_data"
    },
    {
     "data": {
      "text/html": [
       "<strong>png:</strong> 2"
      ],
      "text/latex": [
       "\\textbf{png:} 2"
      ],
      "text/markdown": [
       "**png:** 2"
      ],
      "text/plain": [
       "png \n",
       "  2 "
      ]
     },
     "metadata": {},
     "output_type": "display_data"
    }
   ],
   "source": [
    "pdf('heatmap.test.pdf',width = 12,height = 4)\n",
    "p1\n",
    "dev.off()"
   ]
  },
  {
   "cell_type": "code",
   "execution_count": 32,
   "metadata": {},
   "outputs": [
    {
     "data": {
      "text/html": [
       "<ol class=list-inline>\n",
       "\t<li>10539</li>\n",
       "\t<li>9</li>\n",
       "</ol>\n"
      ],
      "text/latex": [
       "\\begin{enumerate*}\n",
       "\\item 10539\n",
       "\\item 9\n",
       "\\end{enumerate*}\n"
      ],
      "text/markdown": [
       "1. 10539\n",
       "2. 9\n",
       "\n",
       "\n"
      ],
      "text/plain": [
       "[1] 10539     9"
      ]
     },
     "metadata": {},
     "output_type": "display_data"
    }
   ],
   "source": [
    "dim(annotationDat)"
   ]
  },
  {
   "cell_type": "code",
   "execution_count": 34,
   "metadata": {},
   "outputs": [
    {
     "ename": "ERROR",
     "evalue": "Error in library(pheatmap): there is no package called ‘pheatmap’\n",
     "output_type": "error",
     "traceback": [
      "Error in library(pheatmap): there is no package called ‘pheatmap’\nTraceback:\n",
      "1. library(pheatmap)",
      "2. stop(txt, domain = NA)"
     ]
    }
   ],
   "source": [
    "library(pheatmap)"
   ]
  },
  {
   "cell_type": "code",
   "execution_count": null,
   "metadata": {
    "collapsed": true,
    "jupyter": {
     "outputs_hidden": true
    }
   },
   "outputs": [],
   "source": []
  },
  {
   "cell_type": "code",
   "execution_count": 48,
   "metadata": {
    "collapsed": true,
    "jupyter": {
     "outputs_hidden": true
    }
   },
   "outputs": [],
   "source": [
    "#CountTable$gene<-factor(CountTable$gene,levels=c(\"L1HS\",\"L1PA2\",\"L1PA3\",\"L1PA4\",\"L1PA5\",\"AluY\",\"AluJo\",\"AluSx\",\"LTR5_Hs\",\"L1P3b\",\"L1MEb\"))"
   ]
  },
  {
   "cell_type": "code",
   "execution_count": 22,
   "metadata": {
    "collapsed": true,
    "jupyter": {
     "outputs_hidden": true
    }
   },
   "outputs": [],
   "source": [
    "#CountTable$gene<-factor(CountTable$gene,levels=c(\"L1HS\",\"LTR5_Hs\",\"SVA_F\",\"SVA_E\",\"AluYa5\",\"AluYb8\",\"L1PA2\",\"L1PA3\",\"L1PA4\",\"L1PA5\",\"AluY\",\"AluJo\",\"AluSx\",\"(CATTC)n\",\"(GAATG)n\",\"L1P3b\",\"L1MEb\"))"
   ]
  },
  {
   "cell_type": "code",
   "execution_count": 23,
   "metadata": {
    "collapsed": true,
    "jupyter": {
     "outputs_hidden": true
    }
   },
   "outputs": [],
   "source": [
    "#CountTable$gene<-factor(CountTable$class,levels=c(\"DNA\",\"SINE\",\"LINE\",\"LTR\",\"Retroposon\"))"
   ]
  },
  {
   "cell_type": "code",
   "execution_count": 20,
   "metadata": {},
   "outputs": [
    {
     "data": {
      "text/html": [
       "<table>\n",
       "<thead><tr><th scope=col>sample</th><th scope=col>gene</th><th scope=col>notZero</th><th scope=col>total</th><th scope=col>Percentage</th></tr></thead>\n",
       "<tbody>\n",
       "\t<tr><td>ESC-1     </td><td>(CATTC)n  </td><td>    1     </td><td>    19    </td><td>0.05263158</td></tr>\n",
       "\t<tr><td>ESC-1     </td><td>(GAATG)n  </td><td>    3     </td><td>    36    </td><td>0.08333333</td></tr>\n",
       "\t<tr><td>ESC-1     </td><td>7SK       </td><td>   25     </td><td>   704    </td><td>0.03551136</td></tr>\n",
       "\t<tr><td>ESC-1     </td><td>ACRO1     </td><td>    1     </td><td>    86    </td><td>0.01162791</td></tr>\n",
       "\t<tr><td>ESC-1     </td><td>ALR/Alpha </td><td>   28     </td><td>  1860    </td><td>0.01505376</td></tr>\n",
       "\t<tr><td>ESC-1     </td><td>Alu       </td><td>  157     </td><td>  4658    </td><td>0.03370545</td></tr>\n",
       "\t<tr><td>ESC-1     </td><td>AluJb     </td><td>12869     </td><td>131759    </td><td>0.09767075</td></tr>\n",
       "\t<tr><td>ESC-1     </td><td>AluJo     </td><td> 7230     </td><td> 81375    </td><td>0.08884793</td></tr>\n",
       "\t<tr><td>ESC-1     </td><td>AluJr     </td><td> 8248     </td><td> 88503    </td><td>0.09319458</td></tr>\n",
       "\t<tr><td>ESC-1     </td><td>AluJr4    </td><td> 1784     </td><td> 20966    </td><td>0.08509015</td></tr>\n",
       "\t<tr><td>ESC-1     </td><td>AluSc     </td><td> 3050     </td><td> 36338    </td><td>0.08393417</td></tr>\n",
       "\t<tr><td>ESC-1     </td><td>AluSc5    </td><td>  596     </td><td>  7018    </td><td>0.08492448</td></tr>\n",
       "\t<tr><td>ESC-1     </td><td>AluSc8    </td><td> 2053     </td><td> 23028    </td><td>0.08915234</td></tr>\n",
       "\t<tr><td>ESC-1     </td><td>AluSg     </td><td> 3893     </td><td> 38681    </td><td>0.10064373</td></tr>\n",
       "\t<tr><td>ESC-1     </td><td>AluSg4    </td><td>  782     </td><td>  7603    </td><td>0.10285414</td></tr>\n",
       "</tbody>\n",
       "</table>\n"
      ],
      "text/latex": [
       "\\begin{tabular}{r|lllll}\n",
       " sample & gene & notZero & total & Percentage\\\\\n",
       "\\hline\n",
       "\t ESC-1      & (CATTC)n   &     1      &     19     & 0.05263158\\\\\n",
       "\t ESC-1      & (GAATG)n   &     3      &     36     & 0.08333333\\\\\n",
       "\t ESC-1      & 7SK        &    25      &    704     & 0.03551136\\\\\n",
       "\t ESC-1      & ACRO1      &     1      &     86     & 0.01162791\\\\\n",
       "\t ESC-1      & ALR/Alpha  &    28      &   1860     & 0.01505376\\\\\n",
       "\t ESC-1      & Alu        &   157      &   4658     & 0.03370545\\\\\n",
       "\t ESC-1      & AluJb      & 12869      & 131759     & 0.09767075\\\\\n",
       "\t ESC-1      & AluJo      &  7230      &  81375     & 0.08884793\\\\\n",
       "\t ESC-1      & AluJr      &  8248      &  88503     & 0.09319458\\\\\n",
       "\t ESC-1      & AluJr4     &  1784      &  20966     & 0.08509015\\\\\n",
       "\t ESC-1      & AluSc      &  3050      &  36338     & 0.08393417\\\\\n",
       "\t ESC-1      & AluSc5     &   596      &   7018     & 0.08492448\\\\\n",
       "\t ESC-1      & AluSc8     &  2053      &  23028     & 0.08915234\\\\\n",
       "\t ESC-1      & AluSg      &  3893      &  38681     & 0.10064373\\\\\n",
       "\t ESC-1      & AluSg4     &   782      &   7603     & 0.10285414\\\\\n",
       "\\end{tabular}\n"
      ],
      "text/markdown": [
       "\n",
       "sample | gene | notZero | total | Percentage | \n",
       "|---|---|---|---|---|---|---|---|---|---|---|---|---|---|---|\n",
       "| ESC-1      | (CATTC)n   |     1      |     19     | 0.05263158 | \n",
       "| ESC-1      | (GAATG)n   |     3      |     36     | 0.08333333 | \n",
       "| ESC-1      | 7SK        |    25      |    704     | 0.03551136 | \n",
       "| ESC-1      | ACRO1      |     1      |     86     | 0.01162791 | \n",
       "| ESC-1      | ALR/Alpha  |    28      |   1860     | 0.01505376 | \n",
       "| ESC-1      | Alu        |   157      |   4658     | 0.03370545 | \n",
       "| ESC-1      | AluJb      | 12869      | 131759     | 0.09767075 | \n",
       "| ESC-1      | AluJo      |  7230      |  81375     | 0.08884793 | \n",
       "| ESC-1      | AluJr      |  8248      |  88503     | 0.09319458 | \n",
       "| ESC-1      | AluJr4     |  1784      |  20966     | 0.08509015 | \n",
       "| ESC-1      | AluSc      |  3050      |  36338     | 0.08393417 | \n",
       "| ESC-1      | AluSc5     |   596      |   7018     | 0.08492448 | \n",
       "| ESC-1      | AluSc8     |  2053      |  23028     | 0.08915234 | \n",
       "| ESC-1      | AluSg      |  3893      |  38681     | 0.10064373 | \n",
       "| ESC-1      | AluSg4     |   782      |   7603     | 0.10285414 | \n",
       "\n",
       "\n"
      ],
      "text/plain": [
       "   sample gene      notZero total  Percentage\n",
       "1  ESC-1  (CATTC)n      1       19 0.05263158\n",
       "2  ESC-1  (GAATG)n      3       36 0.08333333\n",
       "3  ESC-1  7SK          25      704 0.03551136\n",
       "4  ESC-1  ACRO1         1       86 0.01162791\n",
       "5  ESC-1  ALR/Alpha    28     1860 0.01505376\n",
       "6  ESC-1  Alu         157     4658 0.03370545\n",
       "7  ESC-1  AluJb     12869   131759 0.09767075\n",
       "8  ESC-1  AluJo      7230    81375 0.08884793\n",
       "9  ESC-1  AluJr      8248    88503 0.09319458\n",
       "10 ESC-1  AluJr4     1784    20966 0.08509015\n",
       "11 ESC-1  AluSc      3050    36338 0.08393417\n",
       "12 ESC-1  AluSc5      596     7018 0.08492448\n",
       "13 ESC-1  AluSc8     2053    23028 0.08915234\n",
       "14 ESC-1  AluSg      3893    38681 0.10064373\n",
       "15 ESC-1  AluSg4      782     7603 0.10285414"
      ]
     },
     "metadata": {},
     "output_type": "display_data"
    }
   ],
   "source": [
    "head(CountTable,15)"
   ]
  },
  {
   "cell_type": "code",
   "execution_count": 57,
   "metadata": {
    "collapsed": true,
    "jupyter": {
     "outputs_hidden": true
    }
   },
   "outputs": [],
   "source": [
    "options(repr.plot.width =20, repr.plot.height =4)"
   ]
  },
  {
   "cell_type": "code",
   "execution_count": 58,
   "metadata": {
    "collapsed": true,
    "jupyter": {
     "outputs_hidden": true
    }
   },
   "outputs": [],
   "source": [
    "library(ggplot2)"
   ]
  },
  {
   "cell_type": "code",
   "execution_count": 59,
   "metadata": {},
   "outputs": [
    {
     "data": {},
     "metadata": {},
     "output_type": "display_data"
    },
    {
     "data": {
      "image/png": "[encoded data removed]",
      "text/plain": [
       "plot without title"
      ]
     },
     "metadata": {},
     "output_type": "display_data"
    }
   ],
   "source": [
    "# ggplot(CountTable, aes(sample,100*Percentage,fill = gene))+\n",
    "#     geom_col(position = 'dodge', width = 0.7)+\n",
    "#     theme_classic()"
   ]
  },
  {
   "cell_type": "code",
   "execution_count": 62,
   "metadata": {
    "collapsed": true,
    "jupyter": {
     "outputs_hidden": true
    }
   },
   "outputs": [],
   "source": [
    "library(RColorBrewer)"
   ]
  },
  {
   "cell_type": "code",
   "execution_count": 63,
   "metadata": {
    "collapsed": true,
    "jupyter": {
     "outputs_hidden": true
    }
   },
   "outputs": [],
   "source": [
    "colourCount <-  length(unique(CountTable$gene))"
   ]
  },
  {
   "cell_type": "code",
   "execution_count": 66,
   "metadata": {
    "collapsed": true,
    "jupyter": {
     "outputs_hidden": true
    }
   },
   "outputs": [],
   "source": [
    "p<-ggplot(CountTable, aes(sample,100*Percentage,fill = gene))+\n",
    "    geom_col(position = 'dodge', width = 0.7) +\n",
    "    labs(x = '', y = 'Relative Abundance(%)') +\n",
    "    theme(axis.text = element_text(size = 12), axis.title = element_text(size = 13)) +\n",
    "    theme(legend.text = element_text(size = 11))+\n",
    "    theme_classic()+\n",
    "    scale_fill_manual(values = colorRampPalette(brewer.pal(8, \"Set2\"))(colourCount))+\n",
    "    theme(legend.position = \"bottom\" ,legend.box = \"horizontal\")\n",
    "    #scale_fill_manual(values =  rev(c('blue', 'orange', 'green', 'yellow', 'red', 'hotpink', 'cyan','purple', 'burlywood1', 'skyblue', 'gray',\n",
    "    #                                 \"＃A52A2A\",\"＃E9967A\",\"＃FFA07A\",\"＃DAA520\",\"＃F0E68C\",\"＃9ACD32\"))) \n",
    "#problem occurs in the last sentence;"
   ]
  },
  {
   "cell_type": "code",
   "execution_count": 67,
   "metadata": {
    "collapsed": true,
    "jupyter": {
     "outputs_hidden": true
    }
   },
   "outputs": [],
   "source": [
    "#p <- ggplot(CountTable, aes(sample,100*Percentage,fill = class))+\n",
    "#    geom_col(position = 'dodge', width = 0.7) +\n",
    "#    labs(x = '', y = 'Relative Abundance(%)') +\n",
    "#    theme(axis.text = element_text(size = 12), axis.title = element_text(size = 13)) +\n",
    "#    theme(legend.text = element_text(size = 11))+\n",
    " #   theme_classic()+\n",
    "  #  scale_fill_manual(values =  rev(c('blue', 'orange', 'green', 'yellow', 'red'))) "
   ]
  },
  {
   "cell_type": "code",
   "execution_count": 68,
   "metadata": {},
   "outputs": [
    {
     "data": {},
     "metadata": {},
     "output_type": "display_data"
    },
    {
     "data": {
      "image/png": "[encoded data removed]",
      "text/plain": [
       "plot without title"
      ]
     },
     "metadata": {},
     "output_type": "display_data"
    }
   ],
   "source": [
    "p"
   ]
  },
  {
   "cell_type": "code",
   "execution_count": 69,
   "metadata": {},
   "outputs": [
    {
     "data": {},
     "metadata": {},
     "output_type": "display_data"
    },
    {
     "data": {
      "text/html": [
       "<strong>png:</strong> 2"
      ],
      "text/latex": [
       "\\textbf{png:} 2"
      ],
      "text/markdown": [
       "**png:** 2"
      ],
      "text/plain": [
       "png \n",
       "  2 "
      ]
     },
     "metadata": {},
     "output_type": "display_data"
    }
   ],
   "source": [
    "pdf('noZero_class-3.pdf',width = 12,height = 4)\n",
    "p\n",
    "dev.off()"
   ]
  },
  {
   "cell_type": "markdown",
   "metadata": {},
   "source": [
    "> 我觉得我尚未接近最佳的解决方法；目前我只是按照自己的经验，挑选了部分的subfamily来进行展示，但是我认为这样仍然是不够完善的；目前还有哪些工作需要做：\n",
    "（1）选择了低复杂度的2个序列；选择了人特异性的四个家族；\n",
    "（2）只是统计了转录的位点的数目(也可以说了，这个家族中开放的位点的比例是很高的，相较于比较ancient的家族，其实那篇文字的那个图，也就是想说这个事情，但是它只是针对的L1，我感觉我可以找一下他们的源代码，怎么获取每个家族的年龄以及长度以及其它的一些信息的)；"
   ]
  },
  {
   "cell_type": "markdown",
   "metadata": {},
   "source": [
    "#### 3.2 统计开放的位点的长度具有怎样的特征-以L1HS为例"
   ]
  },
  {
   "cell_type": "code",
   "execution_count": 3,
   "metadata": {},
   "outputs": [
    {
     "name": "stderr",
     "output_type": "stream",
     "text": [
      "Warning message:\n",
      "“Expected 4 pieces. Additional pieces discarded in 2561 rows [1, 2, 3, 4, 5, 7, 11, 13, 15, 16, 17, 20, 23, 27, 31, 33, 34, 35, 36, 38, ...].”"
     ]
    }
   ],
   "source": [
    "#gtf<-read.table(\"/home/xxzhang/data/Genome_reference/GTF/TE_gtf/L1HS.locInd.locations\")\n",
    "gtf<-read.table(\"/home/xxzhang/data/Genome_reference/GTF/TE_gtf/L1PA2.locInd.locations\")\n",
    "gtff<-gtf %>% separate(V2, c(\"chromsome\",\"start\",\"stop\",\"strand\"),sep = \"[-|:]\")\n",
    "colnames(gtff)[1]<-\"transcript\"\n",
    "gtff$start<-as.numeric(gtff$start)\n",
    "gtff$stop<-as.numeric(gtff$stop)\n",
    "gtff$length<-gtff$stop-gtff$start"
   ]
  },
  {
   "cell_type": "code",
   "execution_count": 4,
   "metadata": {},
   "outputs": [
    {
     "data": {
      "text/html": [
       "<table>\n",
       "<thead><tr><th scope=col>transcript</th><th scope=col>chromsome</th><th scope=col>start</th><th scope=col>stop</th><th scope=col>strand</th><th scope=col>length</th></tr></thead>\n",
       "<tbody>\n",
       "\t<tr><td>L1PA2_dup126</td><td>chr1        </td><td>101115483   </td><td>101115747   </td><td>            </td><td> 264        </td></tr>\n",
       "\t<tr><td>L1PA2_dup127</td><td>chr1        </td><td>102314212   </td><td>102314616   </td><td>            </td><td> 404        </td></tr>\n",
       "\t<tr><td>L1PA2_dup128</td><td>chr1        </td><td>102402308   </td><td>102402451   </td><td>            </td><td> 143        </td></tr>\n",
       "\t<tr><td>L1PA2_dup129</td><td>chr1        </td><td>102511033   </td><td>102511927   </td><td>            </td><td> 894        </td></tr>\n",
       "\t<tr><td>L1PA2_dup130</td><td>chr1        </td><td>102928103   </td><td>102934113   </td><td>            </td><td>6010        </td></tr>\n",
       "\t<tr><td>L1PA2_dup131</td><td>chr1        </td><td>103355358   </td><td>103356611   </td><td>+           </td><td>1253        </td></tr>\n",
       "</tbody>\n",
       "</table>\n"
      ],
      "text/latex": [
       "\\begin{tabular}{r|llllll}\n",
       " transcript & chromsome & start & stop & strand & length\\\\\n",
       "\\hline\n",
       "\t L1PA2\\_dup126 & chr1           & 101115483      & 101115747      &                &  264          \\\\\n",
       "\t L1PA2\\_dup127 & chr1           & 102314212      & 102314616      &                &  404          \\\\\n",
       "\t L1PA2\\_dup128 & chr1           & 102402308      & 102402451      &                &  143          \\\\\n",
       "\t L1PA2\\_dup129 & chr1           & 102511033      & 102511927      &                &  894          \\\\\n",
       "\t L1PA2\\_dup130 & chr1           & 102928103      & 102934113      &                & 6010          \\\\\n",
       "\t L1PA2\\_dup131 & chr1           & 103355358      & 103356611      & +              & 1253          \\\\\n",
       "\\end{tabular}\n"
      ],
      "text/markdown": [
       "\n",
       "transcript | chromsome | start | stop | strand | length | \n",
       "|---|---|---|---|---|---|\n",
       "| L1PA2_dup126 | chr1         | 101115483    | 101115747    |              |  264         | \n",
       "| L1PA2_dup127 | chr1         | 102314212    | 102314616    |              |  404         | \n",
       "| L1PA2_dup128 | chr1         | 102402308    | 102402451    |              |  143         | \n",
       "| L1PA2_dup129 | chr1         | 102511033    | 102511927    |              |  894         | \n",
       "| L1PA2_dup130 | chr1         | 102928103    | 102934113    |              | 6010         | \n",
       "| L1PA2_dup131 | chr1         | 103355358    | 103356611    | +            | 1253         | \n",
       "\n",
       "\n"
      ],
      "text/plain": [
       "  transcript   chromsome start     stop      strand length\n",
       "1 L1PA2_dup126 chr1      101115483 101115747         264  \n",
       "2 L1PA2_dup127 chr1      102314212 102314616         404  \n",
       "3 L1PA2_dup128 chr1      102402308 102402451         143  \n",
       "4 L1PA2_dup129 chr1      102511033 102511927         894  \n",
       "5 L1PA2_dup130 chr1      102928103 102934113        6010  \n",
       "6 L1PA2_dup131 chr1      103355358 103356611 +      1253  "
      ]
     },
     "metadata": {},
     "output_type": "display_data"
    }
   ],
   "source": [
    "head(gtff)"
   ]
  },
  {
   "cell_type": "code",
   "execution_count": 11,
   "metadata": {},
   "outputs": [
    {
     "data": {
      "text/html": [
       "<table>\n",
       "<thead><tr><th scope=col>transcript</th><th scope=col>gene</th><th scope=col>family</th><th scope=col>class</th><th scope=col>ESC-1</th><th scope=col>ESC-2</th><th scope=col>ESC-3</th><th scope=col>Neuron-1</th><th scope=col>Neuron-2</th><th scope=col>Neuron-3</th><th scope=col>Neuron_pro-1</th><th scope=col>Neuron_pro-2</th><th scope=col>Neuron_pro-3</th></tr></thead>\n",
       "<tbody>\n",
       "\t<tr><td>(CATTC)n      </td><td>(CATTC)n      </td><td>Satellite     </td><td>Satellite     </td><td>0             </td><td>0             </td><td>0             </td><td>0             </td><td>0             </td><td>0             </td><td>0             </td><td>0             </td><td>2             </td></tr>\n",
       "\t<tr><td>(CATTC)n_dup10</td><td>(CATTC)n      </td><td>Satellite     </td><td>Satellite     </td><td>0             </td><td>0             </td><td>0             </td><td>0             </td><td>0             </td><td>0             </td><td>0             </td><td>0             </td><td>0             </td></tr>\n",
       "\t<tr><td>(CATTC)n_dup11</td><td>(CATTC)n      </td><td>Satellite     </td><td>Satellite     </td><td>0             </td><td>0             </td><td>0             </td><td>0             </td><td>0             </td><td>0             </td><td>0             </td><td>0             </td><td>0             </td></tr>\n",
       "\t<tr><td>(CATTC)n_dup12</td><td>(CATTC)n      </td><td>Satellite     </td><td>Satellite     </td><td>1             </td><td>0             </td><td>0             </td><td>0             </td><td>0             </td><td>0             </td><td>0             </td><td>0             </td><td>0             </td></tr>\n",
       "\t<tr><td>(CATTC)n_dup13</td><td>(CATTC)n      </td><td>Satellite     </td><td>Satellite     </td><td>0             </td><td>0             </td><td>0             </td><td>0             </td><td>0             </td><td>0             </td><td>0             </td><td>0             </td><td>0             </td></tr>\n",
       "\t<tr><td>(CATTC)n_dup14</td><td>(CATTC)n      </td><td>Satellite     </td><td>Satellite     </td><td>0             </td><td>0             </td><td>0             </td><td>1             </td><td>0             </td><td>0             </td><td>0             </td><td>0             </td><td>1             </td></tr>\n",
       "</tbody>\n",
       "</table>\n"
      ],
      "text/latex": [
       "\\begin{tabular}{r|lllllllllllll}\n",
       " transcript & gene & family & class & ESC-1 & ESC-2 & ESC-3 & Neuron-1 & Neuron-2 & Neuron-3 & Neuron\\_pro-1 & Neuron\\_pro-2 & Neuron\\_pro-3\\\\\n",
       "\\hline\n",
       "\t (CATTC)n       & (CATTC)n       & Satellite      & Satellite      & 0              & 0              & 0              & 0              & 0              & 0              & 0              & 0              & 2             \\\\\n",
       "\t (CATTC)n\\_dup10 & (CATTC)n         & Satellite        & Satellite        & 0                & 0                & 0                & 0                & 0                & 0                & 0                & 0                & 0               \\\\\n",
       "\t (CATTC)n\\_dup11 & (CATTC)n         & Satellite        & Satellite        & 0                & 0                & 0                & 0                & 0                & 0                & 0                & 0                & 0               \\\\\n",
       "\t (CATTC)n\\_dup12 & (CATTC)n         & Satellite        & Satellite        & 1                & 0                & 0                & 0                & 0                & 0                & 0                & 0                & 0               \\\\\n",
       "\t (CATTC)n\\_dup13 & (CATTC)n         & Satellite        & Satellite        & 0                & 0                & 0                & 0                & 0                & 0                & 0                & 0                & 0               \\\\\n",
       "\t (CATTC)n\\_dup14 & (CATTC)n         & Satellite        & Satellite        & 0                & 0                & 0                & 1                & 0                & 0                & 0                & 0                & 1               \\\\\n",
       "\\end{tabular}\n"
      ],
      "text/markdown": [
       "\n",
       "transcript | gene | family | class | ESC-1 | ESC-2 | ESC-3 | Neuron-1 | Neuron-2 | Neuron-3 | Neuron_pro-1 | Neuron_pro-2 | Neuron_pro-3 | \n",
       "|---|---|---|---|---|---|\n",
       "| (CATTC)n       | (CATTC)n       | Satellite      | Satellite      | 0              | 0              | 0              | 0              | 0              | 0              | 0              | 0              | 2              | \n",
       "| (CATTC)n_dup10 | (CATTC)n       | Satellite      | Satellite      | 0              | 0              | 0              | 0              | 0              | 0              | 0              | 0              | 0              | \n",
       "| (CATTC)n_dup11 | (CATTC)n       | Satellite      | Satellite      | 0              | 0              | 0              | 0              | 0              | 0              | 0              | 0              | 0              | \n",
       "| (CATTC)n_dup12 | (CATTC)n       | Satellite      | Satellite      | 1              | 0              | 0              | 0              | 0              | 0              | 0              | 0              | 0              | \n",
       "| (CATTC)n_dup13 | (CATTC)n       | Satellite      | Satellite      | 0              | 0              | 0              | 0              | 0              | 0              | 0              | 0              | 0              | \n",
       "| (CATTC)n_dup14 | (CATTC)n       | Satellite      | Satellite      | 0              | 0              | 0              | 1              | 0              | 0              | 0              | 0              | 1              | \n",
       "\n",
       "\n"
      ],
      "text/plain": [
       "  transcript     gene     family    class     ESC-1 ESC-2 ESC-3 Neuron-1\n",
       "1 (CATTC)n       (CATTC)n Satellite Satellite 0     0     0     0       \n",
       "2 (CATTC)n_dup10 (CATTC)n Satellite Satellite 0     0     0     0       \n",
       "3 (CATTC)n_dup11 (CATTC)n Satellite Satellite 0     0     0     0       \n",
       "4 (CATTC)n_dup12 (CATTC)n Satellite Satellite 1     0     0     0       \n",
       "5 (CATTC)n_dup13 (CATTC)n Satellite Satellite 0     0     0     0       \n",
       "6 (CATTC)n_dup14 (CATTC)n Satellite Satellite 0     0     0     1       \n",
       "  Neuron-2 Neuron-3 Neuron_pro-1 Neuron_pro-2 Neuron_pro-3\n",
       "1 0        0        0            0            2           \n",
       "2 0        0        0            0            0           \n",
       "3 0        0        0            0            0           \n",
       "4 0        0        0            0            0           \n",
       "5 0        0        0            0            0           \n",
       "6 0        0        0            0            1           "
      ]
     },
     "metadata": {},
     "output_type": "display_data"
    }
   ],
   "source": [
    "head(FilterDat)"
   ]
  },
  {
   "cell_type": "code",
   "execution_count": 12,
   "metadata": {
    "collapsed": true,
    "jupyter": {
     "outputs_hidden": true
    }
   },
   "outputs": [],
   "source": [
    "LengthDat<-merge(gtff,FilterDat)"
   ]
  },
  {
   "cell_type": "code",
   "execution_count": 13,
   "metadata": {},
   "outputs": [
    {
     "data": {
      "text/html": [
       "<table>\n",
       "<thead><tr><th scope=col>transcript</th><th scope=col>chromsome</th><th scope=col>start</th><th scope=col>stop</th><th scope=col>strand</th><th scope=col>length</th><th scope=col>gene</th><th scope=col>family</th><th scope=col>class</th><th scope=col>ESC-1</th><th scope=col>ESC-2</th><th scope=col>ESC-3</th><th scope=col>Neuron-1</th><th scope=col>Neuron-2</th><th scope=col>Neuron-3</th><th scope=col>Neuron_pro-1</th><th scope=col>Neuron_pro-2</th><th scope=col>Neuron_pro-3</th></tr></thead>\n",
       "<tbody>\n",
       "\t<tr><td>L1PA2        </td><td>chr1         </td><td> 49282508    </td><td> 49288376    </td><td>+            </td><td>5868         </td><td>L1PA2        </td><td>L1           </td><td>LINE         </td><td>1            </td><td>1            </td><td>0            </td><td>4            </td><td>5            </td><td>1            </td><td>7            </td><td>0            </td><td>0            </td></tr>\n",
       "\t<tr><td>L1PA2_dup1   </td><td>chr1         </td><td> 74448282    </td><td> 74449467    </td><td>             </td><td>1185         </td><td>L1PA2        </td><td>L1           </td><td>LINE         </td><td>0            </td><td>1            </td><td>0            </td><td>0            </td><td>0            </td><td>0            </td><td>1            </td><td>0            </td><td>0            </td></tr>\n",
       "\t<tr><td>L1PA2_dup10  </td><td>chr1         </td><td> 13715984    </td><td> 13716460    </td><td>+            </td><td> 476         </td><td>L1PA2        </td><td>L1           </td><td>LINE         </td><td>0            </td><td>0            </td><td>0            </td><td>0            </td><td>0            </td><td>0            </td><td>1            </td><td>0            </td><td>2            </td></tr>\n",
       "\t<tr><td>L1PA2_dup100 </td><td>chr1         </td><td> 86529554    </td><td> 86529941    </td><td>             </td><td> 387         </td><td>L1PA2        </td><td>L1           </td><td>LINE         </td><td>0            </td><td>0            </td><td>1            </td><td>0            </td><td>0            </td><td>0            </td><td>0            </td><td>0            </td><td>0            </td></tr>\n",
       "\t<tr><td>L1PA2_dup1000</td><td>chr3         </td><td>160973878    </td><td>160977113    </td><td>             </td><td>3235         </td><td>L1PA2        </td><td>L1           </td><td>LINE         </td><td>1            </td><td>0            </td><td>0            </td><td>0            </td><td>1            </td><td>0            </td><td>1            </td><td>0            </td><td>0            </td></tr>\n",
       "\t<tr><td>L1PA2_dup1001</td><td>chr3         </td><td>162379054    </td><td>162381945    </td><td>             </td><td>2891         </td><td>L1PA2        </td><td>L1           </td><td>LINE         </td><td>3            </td><td>0            </td><td>0            </td><td>4            </td><td>0            </td><td>0            </td><td>3            </td><td>0            </td><td>0            </td></tr>\n",
       "</tbody>\n",
       "</table>\n"
      ],
      "text/latex": [
       "\\begin{tabular}{r|llllllllllllllllll}\n",
       " transcript & chromsome & start & stop & strand & length & gene & family & class & ESC-1 & ESC-2 & ESC-3 & Neuron-1 & Neuron-2 & Neuron-3 & Neuron\\_pro-1 & Neuron\\_pro-2 & Neuron\\_pro-3\\\\\n",
       "\\hline\n",
       "\t L1PA2         & chr1          &  49282508     &  49288376     & +             & 5868          & L1PA2         & L1            & LINE          & 1             & 1             & 0             & 4             & 5             & 1             & 7             & 0             & 0            \\\\\n",
       "\t L1PA2\\_dup1    & chr1            &  74448282       &  74449467       &                 & 1185            & L1PA2           & L1              & LINE            & 0               & 1               & 0               & 0               & 0               & 0               & 1               & 0               & 0              \\\\\n",
       "\t L1PA2\\_dup10   & chr1            &  13715984       &  13716460       & +               &  476            & L1PA2           & L1              & LINE            & 0               & 0               & 0               & 0               & 0               & 0               & 1               & 0               & 2              \\\\\n",
       "\t L1PA2\\_dup100  & chr1            &  86529554       &  86529941       &                 &  387            & L1PA2           & L1              & LINE            & 0               & 0               & 1               & 0               & 0               & 0               & 0               & 0               & 0              \\\\\n",
       "\t L1PA2\\_dup1000 & chr3            & 160973878       & 160977113       &                 & 3235            & L1PA2           & L1              & LINE            & 1               & 0               & 0               & 0               & 1               & 0               & 1               & 0               & 0              \\\\\n",
       "\t L1PA2\\_dup1001 & chr3            & 162379054       & 162381945       &                 & 2891            & L1PA2           & L1              & LINE            & 3               & 0               & 0               & 4               & 0               & 0               & 3               & 0               & 0              \\\\\n",
       "\\end{tabular}\n"
      ],
      "text/markdown": [
       "\n",
       "transcript | chromsome | start | stop | strand | length | gene | family | class | ESC-1 | ESC-2 | ESC-3 | Neuron-1 | Neuron-2 | Neuron-3 | Neuron_pro-1 | Neuron_pro-2 | Neuron_pro-3 | \n",
       "|---|---|---|---|---|---|\n",
       "| L1PA2         | chr1          |  49282508     |  49288376     | +             | 5868          | L1PA2         | L1            | LINE          | 1             | 1             | 0             | 4             | 5             | 1             | 7             | 0             | 0             | \n",
       "| L1PA2_dup1    | chr1          |  74448282     |  74449467     |               | 1185          | L1PA2         | L1            | LINE          | 0             | 1             | 0             | 0             | 0             | 0             | 1             | 0             | 0             | \n",
       "| L1PA2_dup10   | chr1          |  13715984     |  13716460     | +             |  476          | L1PA2         | L1            | LINE          | 0             | 0             | 0             | 0             | 0             | 0             | 1             | 0             | 2             | \n",
       "| L1PA2_dup100  | chr1          |  86529554     |  86529941     |               |  387          | L1PA2         | L1            | LINE          | 0             | 0             | 1             | 0             | 0             | 0             | 0             | 0             | 0             | \n",
       "| L1PA2_dup1000 | chr3          | 160973878     | 160977113     |               | 3235          | L1PA2         | L1            | LINE          | 1             | 0             | 0             | 0             | 1             | 0             | 1             | 0             | 0             | \n",
       "| L1PA2_dup1001 | chr3          | 162379054     | 162381945     |               | 2891          | L1PA2         | L1            | LINE          | 3             | 0             | 0             | 4             | 0             | 0             | 3             | 0             | 0             | \n",
       "\n",
       "\n"
      ],
      "text/plain": [
       "  transcript    chromsome start     stop      strand length gene  family class\n",
       "1 L1PA2         chr1       49282508  49288376 +      5868   L1PA2 L1     LINE \n",
       "2 L1PA2_dup1    chr1       74448282  74449467        1185   L1PA2 L1     LINE \n",
       "3 L1PA2_dup10   chr1       13715984  13716460 +       476   L1PA2 L1     LINE \n",
       "4 L1PA2_dup100  chr1       86529554  86529941         387   L1PA2 L1     LINE \n",
       "5 L1PA2_dup1000 chr3      160973878 160977113        3235   L1PA2 L1     LINE \n",
       "6 L1PA2_dup1001 chr3      162379054 162381945        2891   L1PA2 L1     LINE \n",
       "  ESC-1 ESC-2 ESC-3 Neuron-1 Neuron-2 Neuron-3 Neuron_pro-1 Neuron_pro-2\n",
       "1 1     1     0     4        5        1        7            0           \n",
       "2 0     1     0     0        0        0        1            0           \n",
       "3 0     0     0     0        0        0        1            0           \n",
       "4 0     0     1     0        0        0        0            0           \n",
       "5 1     0     0     0        1        0        1            0           \n",
       "6 3     0     0     4        0        0        3            0           \n",
       "  Neuron_pro-3\n",
       "1 0           \n",
       "2 0           \n",
       "3 2           \n",
       "4 0           \n",
       "5 0           \n",
       "6 0           "
      ]
     },
     "metadata": {},
     "output_type": "display_data"
    }
   ],
   "source": [
    "head(LengthDat)"
   ]
  },
  {
   "cell_type": "code",
   "execution_count": 14,
   "metadata": {
    "collapsed": true,
    "jupyter": {
     "outputs_hidden": true
    }
   },
   "outputs": [],
   "source": [
    "LengthDat_long <- gather(LengthDat, key = \"sample\", value = \"expression\",\n",
    "                    -`transcript`,-`chromsome`, -`start`, -`stop`, -`strand` ,-`length`, -`gene`, -`family`, -`class`)"
   ]
  },
  {
   "cell_type": "code",
   "execution_count": 15,
   "metadata": {},
   "outputs": [
    {
     "data": {
      "text/html": [
       "<table>\n",
       "<thead><tr><th scope=col>transcript</th><th scope=col>chromsome</th><th scope=col>start</th><th scope=col>stop</th><th scope=col>strand</th><th scope=col>length</th><th scope=col>gene</th><th scope=col>family</th><th scope=col>class</th><th scope=col>sample</th><th scope=col>expression</th></tr></thead>\n",
       "<tbody>\n",
       "\t<tr><td>L1PA2        </td><td>chr1         </td><td> 49282508    </td><td> 49288376    </td><td>+            </td><td>5868         </td><td>L1PA2        </td><td>L1           </td><td>LINE         </td><td>ESC-1        </td><td>1            </td></tr>\n",
       "\t<tr><td>L1PA2_dup1   </td><td>chr1         </td><td> 74448282    </td><td> 74449467    </td><td>             </td><td>1185         </td><td>L1PA2        </td><td>L1           </td><td>LINE         </td><td>ESC-1        </td><td>0            </td></tr>\n",
       "\t<tr><td>L1PA2_dup10  </td><td>chr1         </td><td> 13715984    </td><td> 13716460    </td><td>+            </td><td> 476         </td><td>L1PA2        </td><td>L1           </td><td>LINE         </td><td>ESC-1        </td><td>0            </td></tr>\n",
       "\t<tr><td>L1PA2_dup100 </td><td>chr1         </td><td> 86529554    </td><td> 86529941    </td><td>             </td><td> 387         </td><td>L1PA2        </td><td>L1           </td><td>LINE         </td><td>ESC-1        </td><td>0            </td></tr>\n",
       "\t<tr><td>L1PA2_dup1000</td><td>chr3         </td><td>160973878    </td><td>160977113    </td><td>             </td><td>3235         </td><td>L1PA2        </td><td>L1           </td><td>LINE         </td><td>ESC-1        </td><td>1            </td></tr>\n",
       "\t<tr><td>L1PA2_dup1001</td><td>chr3         </td><td>162379054    </td><td>162381945    </td><td>             </td><td>2891         </td><td>L1PA2        </td><td>L1           </td><td>LINE         </td><td>ESC-1        </td><td>3            </td></tr>\n",
       "</tbody>\n",
       "</table>\n"
      ],
      "text/latex": [
       "\\begin{tabular}{r|lllllllllll}\n",
       " transcript & chromsome & start & stop & strand & length & gene & family & class & sample & expression\\\\\n",
       "\\hline\n",
       "\t L1PA2         & chr1          &  49282508     &  49288376     & +             & 5868          & L1PA2         & L1            & LINE          & ESC-1         & 1            \\\\\n",
       "\t L1PA2\\_dup1    & chr1            &  74448282       &  74449467       &                 & 1185            & L1PA2           & L1              & LINE            & ESC-1           & 0              \\\\\n",
       "\t L1PA2\\_dup10   & chr1            &  13715984       &  13716460       & +               &  476            & L1PA2           & L1              & LINE            & ESC-1           & 0              \\\\\n",
       "\t L1PA2\\_dup100  & chr1            &  86529554       &  86529941       &                 &  387            & L1PA2           & L1              & LINE            & ESC-1           & 0              \\\\\n",
       "\t L1PA2\\_dup1000 & chr3            & 160973878       & 160977113       &                 & 3235            & L1PA2           & L1              & LINE            & ESC-1           & 1              \\\\\n",
       "\t L1PA2\\_dup1001 & chr3            & 162379054       & 162381945       &                 & 2891            & L1PA2           & L1              & LINE            & ESC-1           & 3              \\\\\n",
       "\\end{tabular}\n"
      ],
      "text/markdown": [
       "\n",
       "transcript | chromsome | start | stop | strand | length | gene | family | class | sample | expression | \n",
       "|---|---|---|---|---|---|\n",
       "| L1PA2         | chr1          |  49282508     |  49288376     | +             | 5868          | L1PA2         | L1            | LINE          | ESC-1         | 1             | \n",
       "| L1PA2_dup1    | chr1          |  74448282     |  74449467     |               | 1185          | L1PA2         | L1            | LINE          | ESC-1         | 0             | \n",
       "| L1PA2_dup10   | chr1          |  13715984     |  13716460     | +             |  476          | L1PA2         | L1            | LINE          | ESC-1         | 0             | \n",
       "| L1PA2_dup100  | chr1          |  86529554     |  86529941     |               |  387          | L1PA2         | L1            | LINE          | ESC-1         | 0             | \n",
       "| L1PA2_dup1000 | chr3          | 160973878     | 160977113     |               | 3235          | L1PA2         | L1            | LINE          | ESC-1         | 1             | \n",
       "| L1PA2_dup1001 | chr3          | 162379054     | 162381945     |               | 2891          | L1PA2         | L1            | LINE          | ESC-1         | 3             | \n",
       "\n",
       "\n"
      ],
      "text/plain": [
       "  transcript    chromsome start     stop      strand length gene  family class\n",
       "1 L1PA2         chr1       49282508  49288376 +      5868   L1PA2 L1     LINE \n",
       "2 L1PA2_dup1    chr1       74448282  74449467        1185   L1PA2 L1     LINE \n",
       "3 L1PA2_dup10   chr1       13715984  13716460 +       476   L1PA2 L1     LINE \n",
       "4 L1PA2_dup100  chr1       86529554  86529941         387   L1PA2 L1     LINE \n",
       "5 L1PA2_dup1000 chr3      160973878 160977113        3235   L1PA2 L1     LINE \n",
       "6 L1PA2_dup1001 chr3      162379054 162381945        2891   L1PA2 L1     LINE \n",
       "  sample expression\n",
       "1 ESC-1  1         \n",
       "2 ESC-1  0         \n",
       "3 ESC-1  0         \n",
       "4 ESC-1  0         \n",
       "5 ESC-1  1         \n",
       "6 ESC-1  3         "
      ]
     },
     "metadata": {},
     "output_type": "display_data"
    }
   ],
   "source": [
    "head(LengthDat_long)"
   ]
  },
  {
   "cell_type": "code",
   "execution_count": 16,
   "metadata": {
    "collapsed": true,
    "jupyter": {
     "outputs_hidden": true
    }
   },
   "outputs": [],
   "source": [
    "LengthDat_long$length<-as.numeric(LengthDat_long$length)"
   ]
  },
  {
   "cell_type": "code",
   "execution_count": 17,
   "metadata": {
    "collapsed": true,
    "jupyter": {
     "outputs_hidden": true
    }
   },
   "outputs": [],
   "source": [
    "LengthDat_long$Length_label[LengthDat_long$length>6000] <-\">6k\"\n",
    "LengthDat_long$Length_label[LengthDat_long$length<=6000 & LengthDat_long$length>4000 ] <-\"4k-6k\"\n",
    "LengthDat_long$Length_label[LengthDat_long$length<=4000 & LengthDat_long$length>2000 ] <-\"2k-4k\"\n",
    "#LengthDat_long$Length_label[2000<LengthDat_long$length< 4000] <-\"2k-4k\"\n",
    "LengthDat_long$Length_label[LengthDat_long$length<= 2000] <-\"<=2k\""
   ]
  },
  {
   "cell_type": "code",
   "execution_count": 18,
   "metadata": {},
   "outputs": [],
   "source": [
    "LengthDat_long$Length_label<-factor(LengthDat_long$Length_label,levels=c(\"<=2k\",\"2k-4k\",\"4k-6k\",\">6k\"))"
   ]
  },
  {
   "cell_type": "code",
   "execution_count": 50,
   "metadata": {
    "collapsed": true,
    "jupyter": {
     "outputs_hidden": true
    }
   },
   "outputs": [],
   "source": [
    "#head(LengthDat_long,30)"
   ]
  },
  {
   "cell_type": "code",
   "execution_count": 26,
   "metadata": {
    "collapsed": true,
    "jupyter": {
     "outputs_hidden": true
    }
   },
   "outputs": [],
   "source": [
    "options(repr.plot.width =10, repr.plot.height =4)"
   ]
  },
  {
   "cell_type": "code",
   "execution_count": 27,
   "metadata": {
    "collapsed": true,
    "jupyter": {
     "outputs_hidden": true
    }
   },
   "outputs": [],
   "source": [
    "# p2 <- ggplot(LengthDat_long,\n",
    "#             aes(sample, log10(expression),fill = Length_label)) +\n",
    "#        #geom_violin(trim=FALSE)+\n",
    "#        #geom_boxplot(width=0.1)+\n",
    "#        geom_boxplot(color=\"lightgrey\")+\n",
    "#        theme_classic()+\n",
    "#        # coord_cartesian(ylim = c(0, 10))+\n",
    "#        # scale_fill_brewer(palette=\"Blues\")\n",
    "#        scale_fill_brewer(palette=\"BuGn\")"
   ]
  },
  {
   "cell_type": "code",
   "execution_count": 28,
   "metadata": {
    "collapsed": true,
    "jupyter": {
     "outputs_hidden": true
    }
   },
   "outputs": [],
   "source": [
    "p2 <- ggplot(LengthDat_long,\n",
    "            aes(sample,log10(expression+1),fill = Length_label)) +\n",
    "       #geom_violin(trim=FALSE)+\n",
    "       #geom_boxplot(width=0.1)+\n",
    "       geom_boxplot(color=\"lightgrey\")+\n",
    "       theme_classic()+\n",
    "       #coord_cartesian(ylim = c(0, 10))+\n",
    "       # scale_fill_brewer(palette=\"Blues\")\n",
    "           scale_fill_brewer(palette=\"BuGn\")"
   ]
  },
  {
   "cell_type": "code",
   "execution_count": 29,
   "metadata": {},
   "outputs": [
    {
     "data": {},
     "metadata": {},
     "output_type": "display_data"
    },
    {
     "data": {
      "image/png": "[encoded data removed]",
      "text/plain": [
       "plot without title"
      ]
     },
     "metadata": {},
     "output_type": "display_data"
    }
   ],
   "source": [
    "p2"
   ]
  },
  {
   "cell_type": "code",
   "execution_count": 41,
   "metadata": {
    "collapsed": true,
    "jupyter": {
     "outputs_hidden": true
    }
   },
   "outputs": [],
   "source": [
    "# 安装devtools包（如果尚未安装）\n",
    "#install.packages(\"devtools\")"
   ]
  },
  {
   "cell_type": "code",
   "execution_count": 42,
   "metadata": {
    "collapsed": true,
    "jupyter": {
     "outputs_hidden": true
    }
   },
   "outputs": [],
   "source": [
    "#library(devtools)"
   ]
  },
  {
   "cell_type": "code",
   "execution_count": 43,
   "metadata": {
    "collapsed": true,
    "jupyter": {
     "outputs_hidden": true
    }
   },
   "outputs": [],
   "source": [
    "# 使用devtools包安装installr包\n",
    "#devtools::install_github(\"talgalili/installr\")"
   ]
  },
  {
   "cell_type": "code",
   "execution_count": 44,
   "metadata": {
    "collapsed": true,
    "jupyter": {
     "outputs_hidden": true
    }
   },
   "outputs": [],
   "source": [
    "# 加载installr包\n",
    "#library(installr)"
   ]
  },
  {
   "cell_type": "code",
   "execution_count": 45,
   "metadata": {
    "collapsed": true,
    "jupyter": {
     "outputs_hidden": true
    }
   },
   "outputs": [],
   "source": [
    "# 更新R版本\n",
    "#updateR()"
   ]
  },
  {
   "cell_type": "code",
   "execution_count": 47,
   "metadata": {
    "collapsed": true,
    "jupyter": {
     "outputs_hidden": true
    }
   },
   "outputs": [],
   "source": [
    "#想组内进行置信度检验\n",
    "#library(ggpubr)\n",
    "#library(rstatix)"
   ]
  },
  {
   "cell_type": "code",
   "execution_count": 39,
   "metadata": {
    "collapsed": true,
    "jupyter": {
     "outputs_hidden": true
    }
   },
   "outputs": [],
   "source": [
    "#if (!require(\"BiocManager\", quietly = TRUE))\n",
    "#    install.packages(\"BiocManager\")\n",
    "#BiocManager::install()"
   ]
  },
  {
   "cell_type": "code",
   "execution_count": 40,
   "metadata": {
    "collapsed": true,
    "jupyter": {
     "outputs_hidden": true
    }
   },
   "outputs": [],
   "source": [
    "#BiocManager::install(c(\"ggpubr\", \"rstatix\")"
   ]
  },
  {
   "cell_type": "code",
   "execution_count": 129,
   "metadata": {},
   "outputs": [
    {
     "data": {},
     "metadata": {},
     "output_type": "display_data"
    },
    {
     "data": {
      "text/html": [
       "<strong>png:</strong> 2"
      ],
      "text/latex": [
       "\\textbf{png:} 2"
      ],
      "text/markdown": [
       "**png:** 2"
      ],
      "text/plain": [
       "png \n",
       "  2 "
      ]
     },
     "metadata": {},
     "output_type": "display_data"
    }
   ],
   "source": [
    "pdf('L1HS-Length2.pdf',width = 8,height = 4)\n",
    "p2\n",
    "dev.off()"
   ]
  },
  {
   "cell_type": "code",
   "execution_count": 48,
   "metadata": {},
   "outputs": [
    {
     "data": {},
     "metadata": {},
     "output_type": "display_data"
    },
    {
     "data": {
      "text/html": [
       "<strong>png:</strong> 2"
      ],
      "text/latex": [
       "\\textbf{png:} 2"
      ],
      "text/markdown": [
       "**png:** 2"
      ],
      "text/plain": [
       "png \n",
       "  2 "
      ]
     },
     "metadata": {},
     "output_type": "display_data"
    }
   ],
   "source": [
    "pdf('L1PA2-Length2.pdf',width = 10,height = 4)\n",
    "p2\n",
    "dev.off()"
   ]
  },
  {
   "cell_type": "markdown",
   "metadata": {
    "collapsed": true,
    "jupyter": {
     "outputs_hidden": true
    }
   },
   "source": [
    "#### 3.3 找各个组织，转录的L1的位点，并求取三个重复实验的交集"
   ]
  },
  {
   "cell_type": "code",
   "execution_count": 49,
   "metadata": {
    "collapsed": true,
    "jupyter": {
     "outputs_hidden": true
    }
   },
   "outputs": [],
   "source": [
    "#library(DESeq2)#可能需要调整一下，这边安装不上DEseq2的原因,我感觉我可以不用在jupyter这边考虑做差异分析了；"
   ]
  },
  {
   "cell_type": "code",
   "execution_count": 61,
   "metadata": {},
   "outputs": [
    {
     "data": {
      "text/html": [
       "<table>\n",
       "<thead><tr><th scope=col>transcript</th><th scope=col>gene</th><th scope=col>family</th><th scope=col>class</th><th scope=col>sample</th><th scope=col>expression</th></tr></thead>\n",
       "<tbody>\n",
       "\t<tr><td>(CATTC)n      </td><td>(CATTC)n      </td><td>Satellite     </td><td>Satellite     </td><td>ESC-1         </td><td>0             </td></tr>\n",
       "\t<tr><td>(CATTC)n_dup10</td><td>(CATTC)n      </td><td>Satellite     </td><td>Satellite     </td><td>ESC-1         </td><td>0             </td></tr>\n",
       "\t<tr><td>(CATTC)n_dup11</td><td>(CATTC)n      </td><td>Satellite     </td><td>Satellite     </td><td>ESC-1         </td><td>0             </td></tr>\n",
       "\t<tr><td>(CATTC)n_dup12</td><td>(CATTC)n      </td><td>Satellite     </td><td>Satellite     </td><td>ESC-1         </td><td>1             </td></tr>\n",
       "\t<tr><td>(CATTC)n_dup13</td><td>(CATTC)n      </td><td>Satellite     </td><td>Satellite     </td><td>ESC-1         </td><td>0             </td></tr>\n",
       "\t<tr><td>(CATTC)n_dup14</td><td>(CATTC)n      </td><td>Satellite     </td><td>Satellite     </td><td>ESC-1         </td><td>0             </td></tr>\n",
       "</tbody>\n",
       "</table>\n"
      ],
      "text/latex": [
       "\\begin{tabular}{r|llllll}\n",
       " transcript & gene & family & class & sample & expression\\\\\n",
       "\\hline\n",
       "\t (CATTC)n       & (CATTC)n       & Satellite      & Satellite      & ESC-1          & 0             \\\\\n",
       "\t (CATTC)n\\_dup10 & (CATTC)n         & Satellite        & Satellite        & ESC-1            & 0               \\\\\n",
       "\t (CATTC)n\\_dup11 & (CATTC)n         & Satellite        & Satellite        & ESC-1            & 0               \\\\\n",
       "\t (CATTC)n\\_dup12 & (CATTC)n         & Satellite        & Satellite        & ESC-1            & 1               \\\\\n",
       "\t (CATTC)n\\_dup13 & (CATTC)n         & Satellite        & Satellite        & ESC-1            & 0               \\\\\n",
       "\t (CATTC)n\\_dup14 & (CATTC)n         & Satellite        & Satellite        & ESC-1            & 0               \\\\\n",
       "\\end{tabular}\n"
      ],
      "text/markdown": [
       "\n",
       "transcript | gene | family | class | sample | expression | \n",
       "|---|---|---|---|---|---|\n",
       "| (CATTC)n       | (CATTC)n       | Satellite      | Satellite      | ESC-1          | 0              | \n",
       "| (CATTC)n_dup10 | (CATTC)n       | Satellite      | Satellite      | ESC-1          | 0              | \n",
       "| (CATTC)n_dup11 | (CATTC)n       | Satellite      | Satellite      | ESC-1          | 0              | \n",
       "| (CATTC)n_dup12 | (CATTC)n       | Satellite      | Satellite      | ESC-1          | 1              | \n",
       "| (CATTC)n_dup13 | (CATTC)n       | Satellite      | Satellite      | ESC-1          | 0              | \n",
       "| (CATTC)n_dup14 | (CATTC)n       | Satellite      | Satellite      | ESC-1          | 0              | \n",
       "\n",
       "\n"
      ],
      "text/plain": [
       "  transcript     gene     family    class     sample expression\n",
       "1 (CATTC)n       (CATTC)n Satellite Satellite ESC-1  0         \n",
       "2 (CATTC)n_dup10 (CATTC)n Satellite Satellite ESC-1  0         \n",
       "3 (CATTC)n_dup11 (CATTC)n Satellite Satellite ESC-1  0         \n",
       "4 (CATTC)n_dup12 (CATTC)n Satellite Satellite ESC-1  1         \n",
       "5 (CATTC)n_dup13 (CATTC)n Satellite Satellite ESC-1  0         \n",
       "6 (CATTC)n_dup14 (CATTC)n Satellite Satellite ESC-1  0         "
      ]
     },
     "metadata": {},
     "output_type": "display_data"
    }
   ],
   "source": [
    "head(FilterDat_long)"
   ]
  },
  {
   "cell_type": "code",
   "execution_count": 64,
   "metadata": {
    "collapsed": true,
    "jupyter": {
     "outputs_hidden": true
    }
   },
   "outputs": [],
   "source": [
    "FilterDat_noZero_L1<-FilterDat_long %>% filter(expression!=0,gene%in%c(\"L1HS\",\"L1PA2\",\"L1PA3\",\"L1PA4\"))"
   ]
  },
  {
   "cell_type": "code",
   "execution_count": 66,
   "metadata": {
    "collapsed": true,
    "jupyter": {
     "outputs_hidden": true
    }
   },
   "outputs": [],
   "source": [
    "rm(FilterDat_noZero)"
   ]
  },
  {
   "cell_type": "code",
   "execution_count": 67,
   "metadata": {},
   "outputs": [
    {
     "data": {
      "text/html": [
       "<table>\n",
       "<thead><tr><th scope=col>transcript</th><th scope=col>gene</th><th scope=col>family</th><th scope=col>class</th><th scope=col>sample</th><th scope=col>expression</th></tr></thead>\n",
       "<tbody>\n",
       "\t<tr><td>L1HS_dup1000</td><td>L1HS        </td><td>L1          </td><td>LINE        </td><td>ESC-1       </td><td> 1          </td></tr>\n",
       "\t<tr><td>L1HS_dup1004</td><td>L1HS        </td><td>L1          </td><td>LINE        </td><td>ESC-1       </td><td> 3          </td></tr>\n",
       "\t<tr><td>L1HS_dup1005</td><td>L1HS        </td><td>L1          </td><td>LINE        </td><td>ESC-1       </td><td>17          </td></tr>\n",
       "\t<tr><td>L1HS_dup1006</td><td>L1HS        </td><td>L1          </td><td>LINE        </td><td>ESC-1       </td><td> 1          </td></tr>\n",
       "\t<tr><td>L1HS_dup1009</td><td>L1HS        </td><td>L1          </td><td>LINE        </td><td>ESC-1       </td><td> 4          </td></tr>\n",
       "\t<tr><td>L1HS_dup1010</td><td>L1HS        </td><td>L1          </td><td>LINE        </td><td>ESC-1       </td><td> 1          </td></tr>\n",
       "</tbody>\n",
       "</table>\n"
      ],
      "text/latex": [
       "\\begin{tabular}{r|llllll}\n",
       " transcript & gene & family & class & sample & expression\\\\\n",
       "\\hline\n",
       "\t L1HS\\_dup1000 & L1HS           & L1             & LINE           & ESC-1          &  1            \\\\\n",
       "\t L1HS\\_dup1004 & L1HS           & L1             & LINE           & ESC-1          &  3            \\\\\n",
       "\t L1HS\\_dup1005 & L1HS           & L1             & LINE           & ESC-1          & 17            \\\\\n",
       "\t L1HS\\_dup1006 & L1HS           & L1             & LINE           & ESC-1          &  1            \\\\\n",
       "\t L1HS\\_dup1009 & L1HS           & L1             & LINE           & ESC-1          &  4            \\\\\n",
       "\t L1HS\\_dup1010 & L1HS           & L1             & LINE           & ESC-1          &  1            \\\\\n",
       "\\end{tabular}\n"
      ],
      "text/markdown": [
       "\n",
       "transcript | gene | family | class | sample | expression | \n",
       "|---|---|---|---|---|---|\n",
       "| L1HS_dup1000 | L1HS         | L1           | LINE         | ESC-1        |  1           | \n",
       "| L1HS_dup1004 | L1HS         | L1           | LINE         | ESC-1        |  3           | \n",
       "| L1HS_dup1005 | L1HS         | L1           | LINE         | ESC-1        | 17           | \n",
       "| L1HS_dup1006 | L1HS         | L1           | LINE         | ESC-1        |  1           | \n",
       "| L1HS_dup1009 | L1HS         | L1           | LINE         | ESC-1        |  4           | \n",
       "| L1HS_dup1010 | L1HS         | L1           | LINE         | ESC-1        |  1           | \n",
       "\n",
       "\n"
      ],
      "text/plain": [
       "  transcript   gene family class sample expression\n",
       "1 L1HS_dup1000 L1HS L1     LINE  ESC-1   1        \n",
       "2 L1HS_dup1004 L1HS L1     LINE  ESC-1   3        \n",
       "3 L1HS_dup1005 L1HS L1     LINE  ESC-1  17        \n",
       "4 L1HS_dup1006 L1HS L1     LINE  ESC-1   1        \n",
       "5 L1HS_dup1009 L1HS L1     LINE  ESC-1   4        \n",
       "6 L1HS_dup1010 L1HS L1     LINE  ESC-1   1        "
      ]
     },
     "metadata": {},
     "output_type": "display_data"
    }
   ],
   "source": [
    "head(FilterDat_noZero_L1)"
   ]
  },
  {
   "cell_type": "code",
   "execution_count": 69,
   "metadata": {
    "collapsed": true,
    "jupyter": {
     "outputs_hidden": true
    }
   },
   "outputs": [],
   "source": [
    "FilterDat_noZero_L1$group[FilterDat_noZero_L1$sample%in%c(\"ESC-1\",\"ESC-2\",\"ESC-3\")] <-\"ESC\"\n",
    "FilterDat_noZero_L1$group[FilterDat_noZero_L1$sample%in%c(\"Neuron_pro-1\",\"Neuron_pro-2\",\"Neuron_pro-3\")] <-\"Neuron_pro\"\n",
    "FilterDat_noZero_L1$group[FilterDat_noZero_L1$sample%in%c(\"Neuron-1\",\"Neuron-2\",\"Neuron-3\")] <-\"Neuron\""
   ]
  },
  {
   "cell_type": "code",
   "execution_count": 70,
   "metadata": {},
   "outputs": [
    {
     "data": {
      "text/html": [
       "<table>\n",
       "<thead><tr><th scope=col>transcript</th><th scope=col>gene</th><th scope=col>family</th><th scope=col>class</th><th scope=col>sample</th><th scope=col>expression</th><th scope=col>group</th></tr></thead>\n",
       "<tbody>\n",
       "\t<tr><td>L1HS_dup1000</td><td>L1HS        </td><td>L1          </td><td>LINE        </td><td>ESC-1       </td><td> 1          </td><td>ESC         </td></tr>\n",
       "\t<tr><td>L1HS_dup1004</td><td>L1HS        </td><td>L1          </td><td>LINE        </td><td>ESC-1       </td><td> 3          </td><td>ESC         </td></tr>\n",
       "\t<tr><td>L1HS_dup1005</td><td>L1HS        </td><td>L1          </td><td>LINE        </td><td>ESC-1       </td><td>17          </td><td>ESC         </td></tr>\n",
       "\t<tr><td>L1HS_dup1006</td><td>L1HS        </td><td>L1          </td><td>LINE        </td><td>ESC-1       </td><td> 1          </td><td>ESC         </td></tr>\n",
       "\t<tr><td>L1HS_dup1009</td><td>L1HS        </td><td>L1          </td><td>LINE        </td><td>ESC-1       </td><td> 4          </td><td>ESC         </td></tr>\n",
       "\t<tr><td>L1HS_dup1010</td><td>L1HS        </td><td>L1          </td><td>LINE        </td><td>ESC-1       </td><td> 1          </td><td>ESC         </td></tr>\n",
       "</tbody>\n",
       "</table>\n"
      ],
      "text/latex": [
       "\\begin{tabular}{r|lllllll}\n",
       " transcript & gene & family & class & sample & expression & group\\\\\n",
       "\\hline\n",
       "\t L1HS\\_dup1000 & L1HS           & L1             & LINE           & ESC-1          &  1             & ESC           \\\\\n",
       "\t L1HS\\_dup1004 & L1HS           & L1             & LINE           & ESC-1          &  3             & ESC           \\\\\n",
       "\t L1HS\\_dup1005 & L1HS           & L1             & LINE           & ESC-1          & 17             & ESC           \\\\\n",
       "\t L1HS\\_dup1006 & L1HS           & L1             & LINE           & ESC-1          &  1             & ESC           \\\\\n",
       "\t L1HS\\_dup1009 & L1HS           & L1             & LINE           & ESC-1          &  4             & ESC           \\\\\n",
       "\t L1HS\\_dup1010 & L1HS           & L1             & LINE           & ESC-1          &  1             & ESC           \\\\\n",
       "\\end{tabular}\n"
      ],
      "text/markdown": [
       "\n",
       "transcript | gene | family | class | sample | expression | group | \n",
       "|---|---|---|---|---|---|\n",
       "| L1HS_dup1000 | L1HS         | L1           | LINE         | ESC-1        |  1           | ESC          | \n",
       "| L1HS_dup1004 | L1HS         | L1           | LINE         | ESC-1        |  3           | ESC          | \n",
       "| L1HS_dup1005 | L1HS         | L1           | LINE         | ESC-1        | 17           | ESC          | \n",
       "| L1HS_dup1006 | L1HS         | L1           | LINE         | ESC-1        |  1           | ESC          | \n",
       "| L1HS_dup1009 | L1HS         | L1           | LINE         | ESC-1        |  4           | ESC          | \n",
       "| L1HS_dup1010 | L1HS         | L1           | LINE         | ESC-1        |  1           | ESC          | \n",
       "\n",
       "\n"
      ],
      "text/plain": [
       "  transcript   gene family class sample expression group\n",
       "1 L1HS_dup1000 L1HS L1     LINE  ESC-1   1         ESC  \n",
       "2 L1HS_dup1004 L1HS L1     LINE  ESC-1   3         ESC  \n",
       "3 L1HS_dup1005 L1HS L1     LINE  ESC-1  17         ESC  \n",
       "4 L1HS_dup1006 L1HS L1     LINE  ESC-1   1         ESC  \n",
       "5 L1HS_dup1009 L1HS L1     LINE  ESC-1   4         ESC  \n",
       "6 L1HS_dup1010 L1HS L1     LINE  ESC-1   1         ESC  "
      ]
     },
     "metadata": {},
     "output_type": "display_data"
    }
   ],
   "source": [
    "head(FilterDat_noZero_L1)"
   ]
  },
  {
   "cell_type": "code",
   "execution_count": 83,
   "metadata": {
    "collapsed": true,
    "jupyter": {
     "outputs_hidden": true
    }
   },
   "outputs": [],
   "source": [
    "repFilterDat_noZero_L1<-FilterDat_noZero_L1 %>% count(group,transcript,gene, sort = TRUE)"
   ]
  },
  {
   "cell_type": "code",
   "execution_count": 84,
   "metadata": {},
   "outputs": [
    {
     "data": {
      "text/html": [
       "<table>\n",
       "<thead><tr><th scope=col>group</th><th scope=col>transcript</th><th scope=col>gene</th><th scope=col>n</th></tr></thead>\n",
       "<tbody>\n",
       "\t<tr><td>ESC         </td><td>L1HS_dup1005</td><td>L1HS        </td><td>3           </td></tr>\n",
       "\t<tr><td>ESC         </td><td>L1HS_dup1006</td><td>L1HS        </td><td>3           </td></tr>\n",
       "\t<tr><td>ESC         </td><td>L1HS_dup1012</td><td>L1HS        </td><td>3           </td></tr>\n",
       "\t<tr><td>ESC         </td><td>L1HS_dup1014</td><td>L1HS        </td><td>3           </td></tr>\n",
       "\t<tr><td>ESC         </td><td>L1HS_dup1019</td><td>L1HS        </td><td>3           </td></tr>\n",
       "\t<tr><td>ESC         </td><td>L1HS_dup102 </td><td>L1HS        </td><td>3           </td></tr>\n",
       "</tbody>\n",
       "</table>\n"
      ],
      "text/latex": [
       "\\begin{tabular}{r|llll}\n",
       " group & transcript & gene & n\\\\\n",
       "\\hline\n",
       "\t ESC            & L1HS\\_dup1005 & L1HS           & 3             \\\\\n",
       "\t ESC            & L1HS\\_dup1006 & L1HS           & 3             \\\\\n",
       "\t ESC            & L1HS\\_dup1012 & L1HS           & 3             \\\\\n",
       "\t ESC            & L1HS\\_dup1014 & L1HS           & 3             \\\\\n",
       "\t ESC            & L1HS\\_dup1019 & L1HS           & 3             \\\\\n",
       "\t ESC            & L1HS\\_dup102  & L1HS           & 3             \\\\\n",
       "\\end{tabular}\n"
      ],
      "text/markdown": [
       "\n",
       "group | transcript | gene | n | \n",
       "|---|---|---|---|---|---|\n",
       "| ESC          | L1HS_dup1005 | L1HS         | 3            | \n",
       "| ESC          | L1HS_dup1006 | L1HS         | 3            | \n",
       "| ESC          | L1HS_dup1012 | L1HS         | 3            | \n",
       "| ESC          | L1HS_dup1014 | L1HS         | 3            | \n",
       "| ESC          | L1HS_dup1019 | L1HS         | 3            | \n",
       "| ESC          | L1HS_dup102  | L1HS         | 3            | \n",
       "\n",
       "\n"
      ],
      "text/plain": [
       "  group transcript   gene n\n",
       "1 ESC   L1HS_dup1005 L1HS 3\n",
       "2 ESC   L1HS_dup1006 L1HS 3\n",
       "3 ESC   L1HS_dup1012 L1HS 3\n",
       "4 ESC   L1HS_dup1014 L1HS 3\n",
       "5 ESC   L1HS_dup1019 L1HS 3\n",
       "6 ESC   L1HS_dup102  L1HS 3"
      ]
     },
     "metadata": {},
     "output_type": "display_data"
    }
   ],
   "source": [
    "head(repFilterDat_noZero_L1)"
   ]
  },
  {
   "cell_type": "code",
   "execution_count": 85,
   "metadata": {
    "collapsed": true,
    "jupyter": {
     "outputs_hidden": true
    }
   },
   "outputs": [],
   "source": [
    "Savedfiles_repFilterDat_noZero_L1<-repFilterDat_noZero_L1 %>% filter(n==3)"
   ]
  },
  {
   "cell_type": "code",
   "execution_count": 86,
   "metadata": {},
   "outputs": [
    {
     "data": {
      "text/html": [
       "<table>\n",
       "<thead><tr><th scope=col>group</th><th scope=col>transcript</th><th scope=col>gene</th><th scope=col>n</th></tr></thead>\n",
       "<tbody>\n",
       "\t<tr><td>ESC         </td><td>L1HS_dup1005</td><td>L1HS        </td><td>3           </td></tr>\n",
       "\t<tr><td>ESC         </td><td>L1HS_dup1006</td><td>L1HS        </td><td>3           </td></tr>\n",
       "\t<tr><td>ESC         </td><td>L1HS_dup1012</td><td>L1HS        </td><td>3           </td></tr>\n",
       "\t<tr><td>ESC         </td><td>L1HS_dup1014</td><td>L1HS        </td><td>3           </td></tr>\n",
       "\t<tr><td>ESC         </td><td>L1HS_dup1019</td><td>L1HS        </td><td>3           </td></tr>\n",
       "\t<tr><td>ESC         </td><td>L1HS_dup102 </td><td>L1HS        </td><td>3           </td></tr>\n",
       "</tbody>\n",
       "</table>\n"
      ],
      "text/latex": [
       "\\begin{tabular}{r|llll}\n",
       " group & transcript & gene & n\\\\\n",
       "\\hline\n",
       "\t ESC            & L1HS\\_dup1005 & L1HS           & 3             \\\\\n",
       "\t ESC            & L1HS\\_dup1006 & L1HS           & 3             \\\\\n",
       "\t ESC            & L1HS\\_dup1012 & L1HS           & 3             \\\\\n",
       "\t ESC            & L1HS\\_dup1014 & L1HS           & 3             \\\\\n",
       "\t ESC            & L1HS\\_dup1019 & L1HS           & 3             \\\\\n",
       "\t ESC            & L1HS\\_dup102  & L1HS           & 3             \\\\\n",
       "\\end{tabular}\n"
      ],
      "text/markdown": [
       "\n",
       "group | transcript | gene | n | \n",
       "|---|---|---|---|---|---|\n",
       "| ESC          | L1HS_dup1005 | L1HS         | 3            | \n",
       "| ESC          | L1HS_dup1006 | L1HS         | 3            | \n",
       "| ESC          | L1HS_dup1012 | L1HS         | 3            | \n",
       "| ESC          | L1HS_dup1014 | L1HS         | 3            | \n",
       "| ESC          | L1HS_dup1019 | L1HS         | 3            | \n",
       "| ESC          | L1HS_dup102  | L1HS         | 3            | \n",
       "\n",
       "\n"
      ],
      "text/plain": [
       "  group transcript   gene n\n",
       "1 ESC   L1HS_dup1005 L1HS 3\n",
       "2 ESC   L1HS_dup1006 L1HS 3\n",
       "3 ESC   L1HS_dup1012 L1HS 3\n",
       "4 ESC   L1HS_dup1014 L1HS 3\n",
       "5 ESC   L1HS_dup1019 L1HS 3\n",
       "6 ESC   L1HS_dup102  L1HS 3"
      ]
     },
     "metadata": {},
     "output_type": "display_data"
    }
   ],
   "source": [
    "head(Savedfiles_repFilterDat_noZero_L1)"
   ]
  },
  {
   "cell_type": "code",
   "execution_count": 88,
   "metadata": {},
   "outputs": [
    {
     "data": {
      "text/plain": [
       "\n",
       "       ESC     Neuron Neuron_pro \n",
       "       276        283        292 "
      ]
     },
     "metadata": {},
     "output_type": "display_data"
    }
   ],
   "source": [
    "table(Savedfiles_repFilterDat_noZero_L1[which(Savedfiles_repFilterDat_noZero_L1$gene==\"L1HS\"),]$group)"
   ]
  },
  {
   "cell_type": "code",
   "execution_count": 89,
   "metadata": {},
   "outputs": [
    {
     "data": {
      "text/plain": [
       "\n",
       "       ESC     Neuron Neuron_pro \n",
       "       766        836        891 "
      ]
     },
     "metadata": {},
     "output_type": "display_data"
    }
   ],
   "source": [
    "table(Savedfiles_repFilterDat_noZero_L1[which(Savedfiles_repFilterDat_noZero_L1$gene==\"L1PA2\"),]$group)"
   ]
  },
  {
   "cell_type": "code",
   "execution_count": 90,
   "metadata": {},
   "outputs": [
    {
     "data": {
      "text/plain": [
       "\n",
       "       ESC     Neuron Neuron_pro \n",
       "       855       1431       1384 "
      ]
     },
     "metadata": {},
     "output_type": "display_data"
    }
   ],
   "source": [
    "table(Savedfiles_repFilterDat_noZero_L1[which(Savedfiles_repFilterDat_noZero_L1$gene==\"L1PA3\"),]$group)"
   ]
  },
  {
   "cell_type": "code",
   "execution_count": 91,
   "metadata": {},
   "outputs": [
    {
     "data": {
      "text/plain": [
       "\n",
       "       ESC     Neuron Neuron_pro \n",
       "       586       1174       1074 "
      ]
     },
     "metadata": {},
     "output_type": "display_data"
    }
   ],
   "source": [
    "table(Savedfiles_repFilterDat_noZero_L1[which(Savedfiles_repFilterDat_noZero_L1$gene==\"L1PA4\"),]$group)"
   ]
  },
  {
   "cell_type": "code",
   "execution_count": 92,
   "metadata": {
    "collapsed": true,
    "jupyter": {
     "outputs_hidden": true
    }
   },
   "outputs": [],
   "source": [
    "write.csv(Savedfiles_repFilterDat_noZero_L1,\"Savedfiles_repFilterDat_noZero_L1.csv\",row.names=F)"
   ]
  },
  {
   "cell_type": "code",
   "execution_count": 93,
   "metadata": {},
   "outputs": [
    {
     "name": "stderr",
     "output_type": "stream",
     "text": [
      "Warning message:\n",
      "“Expected 4 pieces. Additional pieces discarded in 15090 rows [1, 2, 4, 5, 6, 7, 8, 9, 11, 12, 13, 14, 16, 17, 18, 22, 23, 25, 26, 30, ...].”"
     ]
    }
   ],
   "source": [
    "#gtf<-read.table(\"/home/xxzhang/data/Genome_reference/GTF/TE_gtf/L1HS.locInd.locations\")\n",
    "gtf<-read.table(\"/home/xxzhang/data/Genome_reference/GTF/TE_gtf/L1PA1-4.locInd.locations\")\n",
    "gtff<-gtf %>% separate(V2, c(\"chromsome\",\"start\",\"stop\",\"strand\"),sep = \"[-|:]\")\n",
    "colnames(gtff)[1]<-\"transcript\"\n",
    "gtff$start<-as.numeric(gtff$start)\n",
    "gtff$stop<-as.numeric(gtff$stop)\n",
    "gtff$length<-gtff$stop-gtff$start"
   ]
  },
  {
   "cell_type": "code",
   "execution_count": 94,
   "metadata": {
    "collapsed": true,
    "jupyter": {
     "outputs_hidden": true
    }
   },
   "outputs": [],
   "source": [
    "Merge_Savedfiles_repFilterDat_noZero_L1<-merge(gtff,Savedfiles_repFilterDat_noZero_L1)"
   ]
  },
  {
   "cell_type": "code",
   "execution_count": 102,
   "metadata": {},
   "outputs": [
    {
     "data": {
      "text/html": [
       "<table>\n",
       "<thead><tr><th scope=col>transcript</th><th scope=col>chromsome</th><th scope=col>start</th><th scope=col>stop</th><th scope=col>strand</th><th scope=col>length</th><th scope=col>group</th><th scope=col>gene</th><th scope=col>n</th></tr></thead>\n",
       "<tbody>\n",
       "\t<tr><td>L1HS_dup1004</td><td>chrX        </td><td> 63318640   </td><td> 63320440   </td><td>(+)         </td><td>1800        </td><td>Neuron      </td><td>L1HS        </td><td>3           </td></tr>\n",
       "\t<tr><td>L1HS_dup1005</td><td>chrX        </td><td> 64013268   </td><td> 64019286   </td><td>(-)         </td><td>6018        </td><td>Neuron_pro  </td><td>L1HS        </td><td>3           </td></tr>\n",
       "\t<tr><td>L1HS_dup1005</td><td>chrX        </td><td> 64013268   </td><td> 64019286   </td><td>(-)         </td><td>6018        </td><td>Neuron      </td><td>L1HS        </td><td>3           </td></tr>\n",
       "\t<tr><td>L1HS_dup1005</td><td>chrX        </td><td> 64013268   </td><td> 64019286   </td><td>(-)         </td><td>6018        </td><td>ESC         </td><td>L1HS        </td><td>3           </td></tr>\n",
       "\t<tr><td>L1HS_dup1006</td><td>chrX        </td><td> 64114184   </td><td> 64115120   </td><td>(-)         </td><td> 936        </td><td>ESC         </td><td>L1HS        </td><td>3           </td></tr>\n",
       "\t<tr><td>L1HS_dup101 </td><td>chr1        </td><td>195925004   </td><td>195929320   </td><td>(-)         </td><td>4316        </td><td>Neuron_pro  </td><td>L1HS        </td><td>3           </td></tr>\n",
       "</tbody>\n",
       "</table>\n"
      ],
      "text/latex": [
       "\\begin{tabular}{r|lllllllll}\n",
       " transcript & chromsome & start & stop & strand & length & group & gene & n\\\\\n",
       "\\hline\n",
       "\t L1HS\\_dup1004 & chrX           &  63318640      &  63320440      & (+)            & 1800           & Neuron         & L1HS           & 3             \\\\\n",
       "\t L1HS\\_dup1005 & chrX           &  64013268      &  64019286      & (-)            & 6018           & Neuron\\_pro   & L1HS           & 3             \\\\\n",
       "\t L1HS\\_dup1005 & chrX           &  64013268      &  64019286      & (-)            & 6018           & Neuron         & L1HS           & 3             \\\\\n",
       "\t L1HS\\_dup1005 & chrX           &  64013268      &  64019286      & (-)            & 6018           & ESC            & L1HS           & 3             \\\\\n",
       "\t L1HS\\_dup1006 & chrX           &  64114184      &  64115120      & (-)            &  936           & ESC            & L1HS           & 3             \\\\\n",
       "\t L1HS\\_dup101  & chr1           & 195925004      & 195929320      & (-)            & 4316           & Neuron\\_pro   & L1HS           & 3             \\\\\n",
       "\\end{tabular}\n"
      ],
      "text/markdown": [
       "\n",
       "transcript | chromsome | start | stop | strand | length | group | gene | n | \n",
       "|---|---|---|---|---|---|\n",
       "| L1HS_dup1004 | chrX         |  63318640    |  63320440    | (+)          | 1800         | Neuron       | L1HS         | 3            | \n",
       "| L1HS_dup1005 | chrX         |  64013268    |  64019286    | (-)          | 6018         | Neuron_pro   | L1HS         | 3            | \n",
       "| L1HS_dup1005 | chrX         |  64013268    |  64019286    | (-)          | 6018         | Neuron       | L1HS         | 3            | \n",
       "| L1HS_dup1005 | chrX         |  64013268    |  64019286    | (-)          | 6018         | ESC          | L1HS         | 3            | \n",
       "| L1HS_dup1006 | chrX         |  64114184    |  64115120    | (-)          |  936         | ESC          | L1HS         | 3            | \n",
       "| L1HS_dup101  | chr1         | 195925004    | 195929320    | (-)          | 4316         | Neuron_pro   | L1HS         | 3            | \n",
       "\n",
       "\n"
      ],
      "text/plain": [
       "  transcript   chromsome start     stop      strand length group      gene n\n",
       "1 L1HS_dup1004 chrX       63318640  63320440 (+)    1800   Neuron     L1HS 3\n",
       "2 L1HS_dup1005 chrX       64013268  64019286 (-)    6018   Neuron_pro L1HS 3\n",
       "3 L1HS_dup1005 chrX       64013268  64019286 (-)    6018   Neuron     L1HS 3\n",
       "4 L1HS_dup1005 chrX       64013268  64019286 (-)    6018   ESC        L1HS 3\n",
       "5 L1HS_dup1006 chrX       64114184  64115120 (-)     936   ESC        L1HS 3\n",
       "6 L1HS_dup101  chr1      195925004 195929320 (-)    4316   Neuron_pro L1HS 3"
      ]
     },
     "metadata": {},
     "output_type": "display_data"
    }
   ],
   "source": [
    "head(Merge_Savedfiles_repFilterDat_noZero_L1)"
   ]
  },
  {
   "cell_type": "code",
   "execution_count": 97,
   "metadata": {
    "collapsed": true,
    "jupyter": {
     "outputs_hidden": true
    }
   },
   "outputs": [],
   "source": [
    "Merge_Savedfiles_repFilterDat_noZero_L1$strand[Merge_Savedfiles_repFilterDat_noZero_L1$strand%in%c(\"\")] <-\"-\""
   ]
  },
  {
   "cell_type": "code",
   "execution_count": 101,
   "metadata": {},
   "outputs": [
    {
     "data": {
      "text/html": [
       "<table>\n",
       "<thead><tr><th scope=col>transcript</th><th scope=col>chromsome</th><th scope=col>start</th><th scope=col>stop</th><th scope=col>strand</th><th scope=col>length</th><th scope=col>group</th><th scope=col>gene</th><th scope=col>n</th></tr></thead>\n",
       "<tbody>\n",
       "\t<tr><td>L1HS_dup1004</td><td>chrX        </td><td> 63318640   </td><td> 63320440   </td><td>(+)         </td><td>1800        </td><td>Neuron      </td><td>L1HS        </td><td>3           </td></tr>\n",
       "\t<tr><td>L1HS_dup1005</td><td>chrX        </td><td> 64013268   </td><td> 64019286   </td><td>(-)         </td><td>6018        </td><td>Neuron_pro  </td><td>L1HS        </td><td>3           </td></tr>\n",
       "\t<tr><td>L1HS_dup1005</td><td>chrX        </td><td> 64013268   </td><td> 64019286   </td><td>(-)         </td><td>6018        </td><td>Neuron      </td><td>L1HS        </td><td>3           </td></tr>\n",
       "\t<tr><td>L1HS_dup1005</td><td>chrX        </td><td> 64013268   </td><td> 64019286   </td><td>(-)         </td><td>6018        </td><td>ESC         </td><td>L1HS        </td><td>3           </td></tr>\n",
       "\t<tr><td>L1HS_dup1006</td><td>chrX        </td><td> 64114184   </td><td> 64115120   </td><td>(-)         </td><td> 936        </td><td>ESC         </td><td>L1HS        </td><td>3           </td></tr>\n",
       "\t<tr><td>L1HS_dup101 </td><td>chr1        </td><td>195925004   </td><td>195929320   </td><td>(-)         </td><td>4316        </td><td>Neuron_pro  </td><td>L1HS        </td><td>3           </td></tr>\n",
       "</tbody>\n",
       "</table>\n"
      ],
      "text/latex": [
       "\\begin{tabular}{r|lllllllll}\n",
       " transcript & chromsome & start & stop & strand & length & group & gene & n\\\\\n",
       "\\hline\n",
       "\t L1HS\\_dup1004 & chrX           &  63318640      &  63320440      & (+)            & 1800           & Neuron         & L1HS           & 3             \\\\\n",
       "\t L1HS\\_dup1005 & chrX           &  64013268      &  64019286      & (-)            & 6018           & Neuron\\_pro   & L1HS           & 3             \\\\\n",
       "\t L1HS\\_dup1005 & chrX           &  64013268      &  64019286      & (-)            & 6018           & Neuron         & L1HS           & 3             \\\\\n",
       "\t L1HS\\_dup1005 & chrX           &  64013268      &  64019286      & (-)            & 6018           & ESC            & L1HS           & 3             \\\\\n",
       "\t L1HS\\_dup1006 & chrX           &  64114184      &  64115120      & (-)            &  936           & ESC            & L1HS           & 3             \\\\\n",
       "\t L1HS\\_dup101  & chr1           & 195925004      & 195929320      & (-)            & 4316           & Neuron\\_pro   & L1HS           & 3             \\\\\n",
       "\\end{tabular}\n"
      ],
      "text/markdown": [
       "\n",
       "transcript | chromsome | start | stop | strand | length | group | gene | n | \n",
       "|---|---|---|---|---|---|\n",
       "| L1HS_dup1004 | chrX         |  63318640    |  63320440    | (+)          | 1800         | Neuron       | L1HS         | 3            | \n",
       "| L1HS_dup1005 | chrX         |  64013268    |  64019286    | (-)          | 6018         | Neuron_pro   | L1HS         | 3            | \n",
       "| L1HS_dup1005 | chrX         |  64013268    |  64019286    | (-)          | 6018         | Neuron       | L1HS         | 3            | \n",
       "| L1HS_dup1005 | chrX         |  64013268    |  64019286    | (-)          | 6018         | ESC          | L1HS         | 3            | \n",
       "| L1HS_dup1006 | chrX         |  64114184    |  64115120    | (-)          |  936         | ESC          | L1HS         | 3            | \n",
       "| L1HS_dup101  | chr1         | 195925004    | 195929320    | (-)          | 4316         | Neuron_pro   | L1HS         | 3            | \n",
       "\n",
       "\n"
      ],
      "text/plain": [
       "  transcript   chromsome start     stop      strand length group      gene n\n",
       "1 L1HS_dup1004 chrX       63318640  63320440 (+)    1800   Neuron     L1HS 3\n",
       "2 L1HS_dup1005 chrX       64013268  64019286 (-)    6018   Neuron_pro L1HS 3\n",
       "3 L1HS_dup1005 chrX       64013268  64019286 (-)    6018   Neuron     L1HS 3\n",
       "4 L1HS_dup1005 chrX       64013268  64019286 (-)    6018   ESC        L1HS 3\n",
       "5 L1HS_dup1006 chrX       64114184  64115120 (-)     936   ESC        L1HS 3\n",
       "6 L1HS_dup101  chr1      195925004 195929320 (-)    4316   Neuron_pro L1HS 3"
      ]
     },
     "metadata": {},
     "output_type": "display_data"
    }
   ],
   "source": [
    "head(Merge_Savedfiles_repFilterDat_noZero_L1)"
   ]
  },
  {
   "cell_type": "code",
   "execution_count": 99,
   "metadata": {
    "collapsed": true,
    "jupyter": {
     "outputs_hidden": true
    }
   },
   "outputs": [],
   "source": [
    "write.csv(Merge_Savedfiles_repFilterDat_noZero_L1,\"Savedfiles_repFilterDat_noZero_L1.csv\",row.names=F)"
   ]
  },
  {
   "cell_type": "code",
   "execution_count": null,
   "metadata": {
    "collapsed": true,
    "jupyter": {
     "outputs_hidden": true
    }
   },
   "outputs": [],
   "source": [
    "#感觉最后可以整理成一张表；blast的结果中，指定gRNA靶向的是哪些dups，然后最后合并一下；\n",
    "#我们回到那个gRNA_blast的环节"
   ]
  },
  {
   "cell_type": "code",
   "execution_count": 100,
   "metadata": {
    "collapsed": true,
    "jupyter": {
     "outputs_hidden": true
    }
   },
   "outputs": [],
   "source": [
    "Merge_Savedfiles_repFilterDat_noZero_L1$strand[Merge_Savedfiles_repFilterDat_noZero_L1$strand%in%c(\"-\")] <-\"(-)\"\n",
    "Merge_Savedfiles_repFilterDat_noZero_L1$strand[Merge_Savedfiles_repFilterDat_noZero_L1$strand%in%c(\"+\")] <-\"(+)\""
   ]
  },
  {
   "cell_type": "code",
   "execution_count": 105,
   "metadata": {
    "collapsed": true,
    "jupyter": {
     "outputs_hidden": true
    }
   },
   "outputs": [],
   "source": [
    "Merge_Savedfiles_repFilterDat_noZero_L1$label<-paste(paste(Merge_Savedfiles_repFilterDat_noZero_L1$chromsome,paste(Merge_Savedfiles_repFilterDat_noZero_L1$start, Merge_Savedfiles_repFilterDat_noZero_L1$stop, sep=\"-\"),sep=\":\"),\n",
    "     Merge_Savedfiles_repFilterDat_noZero_L1$strand,sep=\"\")"
   ]
  },
  {
   "cell_type": "code",
   "execution_count": 106,
   "metadata": {},
   "outputs": [
    {
     "data": {
      "text/html": [
       "<table>\n",
       "<thead><tr><th scope=col>transcript</th><th scope=col>chromsome</th><th scope=col>start</th><th scope=col>stop</th><th scope=col>strand</th><th scope=col>length</th><th scope=col>group</th><th scope=col>gene</th><th scope=col>n</th><th scope=col>label</th></tr></thead>\n",
       "<tbody>\n",
       "\t<tr><td>L1HS_dup1004               </td><td>chrX                       </td><td> 63318640                  </td><td> 63320440                  </td><td>(+)                        </td><td>1800                       </td><td>Neuron                     </td><td>L1HS                       </td><td>3                          </td><td>chrX:63318640-63320440(+)  </td></tr>\n",
       "\t<tr><td>L1HS_dup1005               </td><td>chrX                       </td><td> 64013268                  </td><td> 64019286                  </td><td>(-)                        </td><td>6018                       </td><td>Neuron_pro                 </td><td>L1HS                       </td><td>3                          </td><td>chrX:64013268-64019286(-)  </td></tr>\n",
       "\t<tr><td>L1HS_dup1005               </td><td>chrX                       </td><td> 64013268                  </td><td> 64019286                  </td><td>(-)                        </td><td>6018                       </td><td>Neuron                     </td><td>L1HS                       </td><td>3                          </td><td>chrX:64013268-64019286(-)  </td></tr>\n",
       "\t<tr><td>L1HS_dup1005               </td><td>chrX                       </td><td> 64013268                  </td><td> 64019286                  </td><td>(-)                        </td><td>6018                       </td><td>ESC                        </td><td>L1HS                       </td><td>3                          </td><td>chrX:64013268-64019286(-)  </td></tr>\n",
       "\t<tr><td>L1HS_dup1006               </td><td>chrX                       </td><td> 64114184                  </td><td> 64115120                  </td><td>(-)                        </td><td> 936                       </td><td>ESC                        </td><td>L1HS                       </td><td>3                          </td><td>chrX:64114184-64115120(-)  </td></tr>\n",
       "\t<tr><td>L1HS_dup101                </td><td>chr1                       </td><td>195925004                  </td><td>195929320                  </td><td>(-)                        </td><td>4316                       </td><td>Neuron_pro                 </td><td>L1HS                       </td><td>3                          </td><td>chr1:195925004-195929320(-)</td></tr>\n",
       "</tbody>\n",
       "</table>\n"
      ],
      "text/latex": [
       "\\begin{tabular}{r|llllllllll}\n",
       " transcript & chromsome & start & stop & strand & length & group & gene & n & label\\\\\n",
       "\\hline\n",
       "\t L1HS\\_dup1004              & chrX                        &  63318640                   &  63320440                   & (+)                         & 1800                        & Neuron                      & L1HS                        & 3                           & chrX:63318640-63320440(+)  \\\\\n",
       "\t L1HS\\_dup1005              & chrX                        &  64013268                   &  64019286                   & (-)                         & 6018                        & Neuron\\_pro                & L1HS                        & 3                           & chrX:64013268-64019286(-)  \\\\\n",
       "\t L1HS\\_dup1005              & chrX                        &  64013268                   &  64019286                   & (-)                         & 6018                        & Neuron                      & L1HS                        & 3                           & chrX:64013268-64019286(-)  \\\\\n",
       "\t L1HS\\_dup1005              & chrX                        &  64013268                   &  64019286                   & (-)                         & 6018                        & ESC                         & L1HS                        & 3                           & chrX:64013268-64019286(-)  \\\\\n",
       "\t L1HS\\_dup1006              & chrX                        &  64114184                   &  64115120                   & (-)                         &  936                        & ESC                         & L1HS                        & 3                           & chrX:64114184-64115120(-)  \\\\\n",
       "\t L1HS\\_dup101               & chr1                        & 195925004                   & 195929320                   & (-)                         & 4316                        & Neuron\\_pro                & L1HS                        & 3                           & chr1:195925004-195929320(-)\\\\\n",
       "\\end{tabular}\n"
      ],
      "text/markdown": [
       "\n",
       "transcript | chromsome | start | stop | strand | length | group | gene | n | label | \n",
       "|---|---|---|---|---|---|\n",
       "| L1HS_dup1004                | chrX                        |  63318640                   |  63320440                   | (+)                         | 1800                        | Neuron                      | L1HS                        | 3                           | chrX:63318640-63320440(+)   | \n",
       "| L1HS_dup1005                | chrX                        |  64013268                   |  64019286                   | (-)                         | 6018                        | Neuron_pro                  | L1HS                        | 3                           | chrX:64013268-64019286(-)   | \n",
       "| L1HS_dup1005                | chrX                        |  64013268                   |  64019286                   | (-)                         | 6018                        | Neuron                      | L1HS                        | 3                           | chrX:64013268-64019286(-)   | \n",
       "| L1HS_dup1005                | chrX                        |  64013268                   |  64019286                   | (-)                         | 6018                        | ESC                         | L1HS                        | 3                           | chrX:64013268-64019286(-)   | \n",
       "| L1HS_dup1006                | chrX                        |  64114184                   |  64115120                   | (-)                         |  936                        | ESC                         | L1HS                        | 3                           | chrX:64114184-64115120(-)   | \n",
       "| L1HS_dup101                 | chr1                        | 195925004                   | 195929320                   | (-)                         | 4316                        | Neuron_pro                  | L1HS                        | 3                           | chr1:195925004-195929320(-) | \n",
       "\n",
       "\n"
      ],
      "text/plain": [
       "  transcript   chromsome start     stop      strand length group      gene n\n",
       "1 L1HS_dup1004 chrX       63318640  63320440 (+)    1800   Neuron     L1HS 3\n",
       "2 L1HS_dup1005 chrX       64013268  64019286 (-)    6018   Neuron_pro L1HS 3\n",
       "3 L1HS_dup1005 chrX       64013268  64019286 (-)    6018   Neuron     L1HS 3\n",
       "4 L1HS_dup1005 chrX       64013268  64019286 (-)    6018   ESC        L1HS 3\n",
       "5 L1HS_dup1006 chrX       64114184  64115120 (-)     936   ESC        L1HS 3\n",
       "6 L1HS_dup101  chr1      195925004 195929320 (-)    4316   Neuron_pro L1HS 3\n",
       "  label                      \n",
       "1 chrX:63318640-63320440(+)  \n",
       "2 chrX:64013268-64019286(-)  \n",
       "3 chrX:64013268-64019286(-)  \n",
       "4 chrX:64013268-64019286(-)  \n",
       "5 chrX:64114184-64115120(-)  \n",
       "6 chr1:195925004-195929320(-)"
      ]
     },
     "metadata": {},
     "output_type": "display_data"
    }
   ],
   "source": [
    "head(Merge_Savedfiles_repFilterDat_noZero_L1)"
   ]
  },
  {
   "cell_type": "markdown",
   "metadata": {},
   "source": [
    "#### 3.4 与blast的结果合并"
   ]
  },
  {
   "cell_type": "code",
   "execution_count": 107,
   "metadata": {
    "collapsed": true,
    "jupyter": {
     "outputs_hidden": true
    }
   },
   "outputs": [],
   "source": [
    "blast_Result<-read.table(\"/home/xxzhang/data/TE/Result/blast.txt\")"
   ]
  },
  {
   "cell_type": "code",
   "execution_count": 108,
   "metadata": {},
   "outputs": [
    {
     "data": {
      "text/html": [
       "<table>\n",
       "<thead><tr><th scope=col>V1</th><th scope=col>V2</th><th scope=col>V3</th><th scope=col>V4</th><th scope=col>V5</th><th scope=col>V6</th><th scope=col>V7</th><th scope=col>V8</th><th scope=col>V9</th><th scope=col>V10</th><th scope=col>V11</th><th scope=col>V12</th></tr></thead>\n",
       "<tbody>\n",
       "\t<tr><td>CCGGCTTAAGAAACGGCGCACCACGAGACT   </td><td>L1HS::chrY:10855136-10855667(-)  </td><td>100                              </td><td>30                               </td><td>0                                </td><td>0                                </td><td>1                                </td><td>30                               </td><td>305                              </td><td>334                              </td><td>5.83e-09                         </td><td>60                               </td></tr>\n",
       "\t<tr><td>CCGGCTTAAGAAACGGCGCACCACGAGACT   </td><td>L1HS::chrY:9941131-9947151(+)    </td><td>100                              </td><td>30                               </td><td>0                                </td><td>0                                </td><td>1                                </td><td>30                               </td><td>302                              </td><td>331                              </td><td>5.83e-09                         </td><td>60                               </td></tr>\n",
       "\t<tr><td>CCGGCTTAAGAAACGGCGCACCACGAGACT   </td><td>L1HS::chrY:5606145-5612199(-)    </td><td>100                              </td><td>30                               </td><td>0                                </td><td>0                                </td><td>1                                </td><td>30                               </td><td>305                              </td><td>334                              </td><td>5.83e-09                         </td><td>60                               </td></tr>\n",
       "\t<tr><td>CCGGCTTAAGAAACGGCGCACCACGAGACT   </td><td>L1HS::chrY:4948914-4954938(-)    </td><td>100                              </td><td>30                               </td><td>0                                </td><td>0                                </td><td>1                                </td><td>30                               </td><td>302                              </td><td>331                              </td><td>5.83e-09                         </td><td>60                               </td></tr>\n",
       "\t<tr><td>CCGGCTTAAGAAACGGCGCACCACGAGACT   </td><td>L1HS::chrY:3443551-3449565(+)    </td><td>100                              </td><td>30                               </td><td>0                                </td><td>0                                </td><td>1                                </td><td>30                               </td><td>302                              </td><td>331                              </td><td>5.83e-09                         </td><td>60                               </td></tr>\n",
       "\t<tr><td>CCGGCTTAAGAAACGGCGCACCACGAGACT   </td><td>L1HS::chrX:155516017-155522048(-)</td><td>100                              </td><td>30                               </td><td>0                                </td><td>0                                </td><td>1                                </td><td>30                               </td><td>305                              </td><td>334                              </td><td>5.83e-09                         </td><td>60                               </td></tr>\n",
       "</tbody>\n",
       "</table>\n"
      ],
      "text/latex": [
       "\\begin{tabular}{r|llllllllllll}\n",
       " V1 & V2 & V3 & V4 & V5 & V6 & V7 & V8 & V9 & V10 & V11 & V12\\\\\n",
       "\\hline\n",
       "\t CCGGCTTAAGAAACGGCGCACCACGAGACT    & L1HS::chrY:10855136-10855667(-)   & 100                               & 30                                & 0                                 & 0                                 & 1                                 & 30                                & 305                               & 334                               & 5.83e-09                          & 60                               \\\\\n",
       "\t CCGGCTTAAGAAACGGCGCACCACGAGACT    & L1HS::chrY:9941131-9947151(+)     & 100                               & 30                                & 0                                 & 0                                 & 1                                 & 30                                & 302                               & 331                               & 5.83e-09                          & 60                               \\\\\n",
       "\t CCGGCTTAAGAAACGGCGCACCACGAGACT    & L1HS::chrY:5606145-5612199(-)     & 100                               & 30                                & 0                                 & 0                                 & 1                                 & 30                                & 305                               & 334                               & 5.83e-09                          & 60                               \\\\\n",
       "\t CCGGCTTAAGAAACGGCGCACCACGAGACT    & L1HS::chrY:4948914-4954938(-)     & 100                               & 30                                & 0                                 & 0                                 & 1                                 & 30                                & 302                               & 331                               & 5.83e-09                          & 60                               \\\\\n",
       "\t CCGGCTTAAGAAACGGCGCACCACGAGACT    & L1HS::chrY:3443551-3449565(+)     & 100                               & 30                                & 0                                 & 0                                 & 1                                 & 30                                & 302                               & 331                               & 5.83e-09                          & 60                               \\\\\n",
       "\t CCGGCTTAAGAAACGGCGCACCACGAGACT    & L1HS::chrX:155516017-155522048(-) & 100                               & 30                                & 0                                 & 0                                 & 1                                 & 30                                & 305                               & 334                               & 5.83e-09                          & 60                               \\\\\n",
       "\\end{tabular}\n"
      ],
      "text/markdown": [
       "\n",
       "V1 | V2 | V3 | V4 | V5 | V6 | V7 | V8 | V9 | V10 | V11 | V12 | \n",
       "|---|---|---|---|---|---|\n",
       "| CCGGCTTAAGAAACGGCGCACCACGAGACT    | L1HS::chrY:10855136-10855667(-)   | 100                               | 30                                | 0                                 | 0                                 | 1                                 | 30                                | 305                               | 334                               | 5.83e-09                          | 60                                | \n",
       "| CCGGCTTAAGAAACGGCGCACCACGAGACT    | L1HS::chrY:9941131-9947151(+)     | 100                               | 30                                | 0                                 | 0                                 | 1                                 | 30                                | 302                               | 331                               | 5.83e-09                          | 60                                | \n",
       "| CCGGCTTAAGAAACGGCGCACCACGAGACT    | L1HS::chrY:5606145-5612199(-)     | 100                               | 30                                | 0                                 | 0                                 | 1                                 | 30                                | 305                               | 334                               | 5.83e-09                          | 60                                | \n",
       "| CCGGCTTAAGAAACGGCGCACCACGAGACT    | L1HS::chrY:4948914-4954938(-)     | 100                               | 30                                | 0                                 | 0                                 | 1                                 | 30                                | 302                               | 331                               | 5.83e-09                          | 60                                | \n",
       "| CCGGCTTAAGAAACGGCGCACCACGAGACT    | L1HS::chrY:3443551-3449565(+)     | 100                               | 30                                | 0                                 | 0                                 | 1                                 | 30                                | 302                               | 331                               | 5.83e-09                          | 60                                | \n",
       "| CCGGCTTAAGAAACGGCGCACCACGAGACT    | L1HS::chrX:155516017-155522048(-) | 100                               | 30                                | 0                                 | 0                                 | 1                                 | 30                                | 305                               | 334                               | 5.83e-09                          | 60                                | \n",
       "\n",
       "\n"
      ],
      "text/plain": [
       "  V1                             V2                                V3  V4 V5 V6\n",
       "1 CCGGCTTAAGAAACGGCGCACCACGAGACT L1HS::chrY:10855136-10855667(-)   100 30 0  0 \n",
       "2 CCGGCTTAAGAAACGGCGCACCACGAGACT L1HS::chrY:9941131-9947151(+)     100 30 0  0 \n",
       "3 CCGGCTTAAGAAACGGCGCACCACGAGACT L1HS::chrY:5606145-5612199(-)     100 30 0  0 \n",
       "4 CCGGCTTAAGAAACGGCGCACCACGAGACT L1HS::chrY:4948914-4954938(-)     100 30 0  0 \n",
       "5 CCGGCTTAAGAAACGGCGCACCACGAGACT L1HS::chrY:3443551-3449565(+)     100 30 0  0 \n",
       "6 CCGGCTTAAGAAACGGCGCACCACGAGACT L1HS::chrX:155516017-155522048(-) 100 30 0  0 \n",
       "  V7 V8 V9  V10 V11      V12\n",
       "1 1  30 305 334 5.83e-09 60 \n",
       "2 1  30 302 331 5.83e-09 60 \n",
       "3 1  30 305 334 5.83e-09 60 \n",
       "4 1  30 302 331 5.83e-09 60 \n",
       "5 1  30 302 331 5.83e-09 60 \n",
       "6 1  30 305 334 5.83e-09 60 "
      ]
     },
     "metadata": {},
     "output_type": "display_data"
    }
   ],
   "source": [
    "head(blast_Result)"
   ]
  },
  {
   "cell_type": "code",
   "execution_count": 118,
   "metadata": {
    "collapsed": true,
    "jupyter": {
     "outputs_hidden": true
    }
   },
   "outputs": [],
   "source": [
    "blast_Result2<-blast_Result %>% separate(V2, c(\"gene\",\"label\"),sep = \"::\")"
   ]
  },
  {
   "cell_type": "code",
   "execution_count": 119,
   "metadata": {},
   "outputs": [
    {
     "data": {
      "text/html": [
       "<table>\n",
       "<thead><tr><th scope=col>V1</th><th scope=col>gene</th><th scope=col>label</th><th scope=col>V3</th><th scope=col>V4</th><th scope=col>V5</th><th scope=col>V6</th><th scope=col>V7</th><th scope=col>V8</th><th scope=col>V9</th><th scope=col>V10</th><th scope=col>V11</th><th scope=col>V12</th></tr></thead>\n",
       "<tbody>\n",
       "\t<tr><td>CCGGCTTAAGAAACGGCGCACCACGAGACT</td><td>L1HS                          </td><td>chrY:10855136-10855667(-)     </td><td>100                           </td><td>30                            </td><td>0                             </td><td>0                             </td><td>1                             </td><td>30                            </td><td>305                           </td><td>334                           </td><td>5.83e-09                      </td><td>60                            </td></tr>\n",
       "\t<tr><td>CCGGCTTAAGAAACGGCGCACCACGAGACT</td><td>L1HS                          </td><td>chrY:9941131-9947151(+)       </td><td>100                           </td><td>30                            </td><td>0                             </td><td>0                             </td><td>1                             </td><td>30                            </td><td>302                           </td><td>331                           </td><td>5.83e-09                      </td><td>60                            </td></tr>\n",
       "\t<tr><td>CCGGCTTAAGAAACGGCGCACCACGAGACT</td><td>L1HS                          </td><td>chrY:5606145-5612199(-)       </td><td>100                           </td><td>30                            </td><td>0                             </td><td>0                             </td><td>1                             </td><td>30                            </td><td>305                           </td><td>334                           </td><td>5.83e-09                      </td><td>60                            </td></tr>\n",
       "\t<tr><td>CCGGCTTAAGAAACGGCGCACCACGAGACT</td><td>L1HS                          </td><td>chrY:4948914-4954938(-)       </td><td>100                           </td><td>30                            </td><td>0                             </td><td>0                             </td><td>1                             </td><td>30                            </td><td>302                           </td><td>331                           </td><td>5.83e-09                      </td><td>60                            </td></tr>\n",
       "\t<tr><td>CCGGCTTAAGAAACGGCGCACCACGAGACT</td><td>L1HS                          </td><td>chrY:3443551-3449565(+)       </td><td>100                           </td><td>30                            </td><td>0                             </td><td>0                             </td><td>1                             </td><td>30                            </td><td>302                           </td><td>331                           </td><td>5.83e-09                      </td><td>60                            </td></tr>\n",
       "\t<tr><td>CCGGCTTAAGAAACGGCGCACCACGAGACT</td><td>L1HS                          </td><td>chrX:155516017-155522048(-)   </td><td>100                           </td><td>30                            </td><td>0                             </td><td>0                             </td><td>1                             </td><td>30                            </td><td>305                           </td><td>334                           </td><td>5.83e-09                      </td><td>60                            </td></tr>\n",
       "</tbody>\n",
       "</table>\n"
      ],
      "text/latex": [
       "\\begin{tabular}{r|lllllllllllll}\n",
       " V1 & gene & label & V3 & V4 & V5 & V6 & V7 & V8 & V9 & V10 & V11 & V12\\\\\n",
       "\\hline\n",
       "\t CCGGCTTAAGAAACGGCGCACCACGAGACT & L1HS                           & chrY:10855136-10855667(-)      & 100                            & 30                             & 0                              & 0                              & 1                              & 30                             & 305                            & 334                            & 5.83e-09                       & 60                            \\\\\n",
       "\t CCGGCTTAAGAAACGGCGCACCACGAGACT & L1HS                           & chrY:9941131-9947151(+)        & 100                            & 30                             & 0                              & 0                              & 1                              & 30                             & 302                            & 331                            & 5.83e-09                       & 60                            \\\\\n",
       "\t CCGGCTTAAGAAACGGCGCACCACGAGACT & L1HS                           & chrY:5606145-5612199(-)        & 100                            & 30                             & 0                              & 0                              & 1                              & 30                             & 305                            & 334                            & 5.83e-09                       & 60                            \\\\\n",
       "\t CCGGCTTAAGAAACGGCGCACCACGAGACT & L1HS                           & chrY:4948914-4954938(-)        & 100                            & 30                             & 0                              & 0                              & 1                              & 30                             & 302                            & 331                            & 5.83e-09                       & 60                            \\\\\n",
       "\t CCGGCTTAAGAAACGGCGCACCACGAGACT & L1HS                           & chrY:3443551-3449565(+)        & 100                            & 30                             & 0                              & 0                              & 1                              & 30                             & 302                            & 331                            & 5.83e-09                       & 60                            \\\\\n",
       "\t CCGGCTTAAGAAACGGCGCACCACGAGACT & L1HS                           & chrX:155516017-155522048(-)    & 100                            & 30                             & 0                              & 0                              & 1                              & 30                             & 305                            & 334                            & 5.83e-09                       & 60                            \\\\\n",
       "\\end{tabular}\n"
      ],
      "text/markdown": [
       "\n",
       "V1 | gene | label | V3 | V4 | V5 | V6 | V7 | V8 | V9 | V10 | V11 | V12 | \n",
       "|---|---|---|---|---|---|\n",
       "| CCGGCTTAAGAAACGGCGCACCACGAGACT | L1HS                           | chrY:10855136-10855667(-)      | 100                            | 30                             | 0                              | 0                              | 1                              | 30                             | 305                            | 334                            | 5.83e-09                       | 60                             | \n",
       "| CCGGCTTAAGAAACGGCGCACCACGAGACT | L1HS                           | chrY:9941131-9947151(+)        | 100                            | 30                             | 0                              | 0                              | 1                              | 30                             | 302                            | 331                            | 5.83e-09                       | 60                             | \n",
       "| CCGGCTTAAGAAACGGCGCACCACGAGACT | L1HS                           | chrY:5606145-5612199(-)        | 100                            | 30                             | 0                              | 0                              | 1                              | 30                             | 305                            | 334                            | 5.83e-09                       | 60                             | \n",
       "| CCGGCTTAAGAAACGGCGCACCACGAGACT | L1HS                           | chrY:4948914-4954938(-)        | 100                            | 30                             | 0                              | 0                              | 1                              | 30                             | 302                            | 331                            | 5.83e-09                       | 60                             | \n",
       "| CCGGCTTAAGAAACGGCGCACCACGAGACT | L1HS                           | chrY:3443551-3449565(+)        | 100                            | 30                             | 0                              | 0                              | 1                              | 30                             | 302                            | 331                            | 5.83e-09                       | 60                             | \n",
       "| CCGGCTTAAGAAACGGCGCACCACGAGACT | L1HS                           | chrX:155516017-155522048(-)    | 100                            | 30                             | 0                              | 0                              | 1                              | 30                             | 305                            | 334                            | 5.83e-09                       | 60                             | \n",
       "\n",
       "\n"
      ],
      "text/plain": [
       "  V1                             gene label                       V3  V4 V5 V6\n",
       "1 CCGGCTTAAGAAACGGCGCACCACGAGACT L1HS chrY:10855136-10855667(-)   100 30 0  0 \n",
       "2 CCGGCTTAAGAAACGGCGCACCACGAGACT L1HS chrY:9941131-9947151(+)     100 30 0  0 \n",
       "3 CCGGCTTAAGAAACGGCGCACCACGAGACT L1HS chrY:5606145-5612199(-)     100 30 0  0 \n",
       "4 CCGGCTTAAGAAACGGCGCACCACGAGACT L1HS chrY:4948914-4954938(-)     100 30 0  0 \n",
       "5 CCGGCTTAAGAAACGGCGCACCACGAGACT L1HS chrY:3443551-3449565(+)     100 30 0  0 \n",
       "6 CCGGCTTAAGAAACGGCGCACCACGAGACT L1HS chrX:155516017-155522048(-) 100 30 0  0 \n",
       "  V7 V8 V9  V10 V11      V12\n",
       "1 1  30 305 334 5.83e-09 60 \n",
       "2 1  30 302 331 5.83e-09 60 \n",
       "3 1  30 305 334 5.83e-09 60 \n",
       "4 1  30 302 331 5.83e-09 60 \n",
       "5 1  30 302 331 5.83e-09 60 \n",
       "6 1  30 305 334 5.83e-09 60 "
      ]
     },
     "metadata": {},
     "output_type": "display_data"
    }
   ],
   "source": [
    "head(blast_Result2)"
   ]
  },
  {
   "cell_type": "code",
   "execution_count": 123,
   "metadata": {
    "collapsed": true,
    "jupyter": {
     "outputs_hidden": true
    }
   },
   "outputs": [],
   "source": [
    "blast_Merge_Savedfiles_repFilterDat_noZero_L1<-merge(blast_Result2,Merge_Savedfiles_repFilterDat_noZero_L1,by=\"label\",all=TRUE)"
   ]
  },
  {
   "cell_type": "code",
   "execution_count": 124,
   "metadata": {},
   "outputs": [
    {
     "data": {
      "text/html": [
       "<table>\n",
       "<thead><tr><th scope=col>label</th><th scope=col>V1</th><th scope=col>gene.x</th><th scope=col>V3</th><th scope=col>V4</th><th scope=col>V5</th><th scope=col>V6</th><th scope=col>V7</th><th scope=col>V8</th><th scope=col>V9</th><th scope=col>⋯</th><th scope=col>V12</th><th scope=col>transcript</th><th scope=col>chromsome</th><th scope=col>start</th><th scope=col>stop</th><th scope=col>strand</th><th scope=col>length</th><th scope=col>group</th><th scope=col>gene.y</th><th scope=col>n</th></tr></thead>\n",
       "<tbody>\n",
       "\t<tr><td>chr1_KI270706v1_random:7846-13993(-) </td><td>NA                                   </td><td>NA                                   </td><td>NA                                   </td><td>NA                                   </td><td>NA                                   </td><td>NA                                   </td><td>NA                                   </td><td>NA                                   </td><td>NA                                   </td><td>⋯                                    </td><td>NA                                   </td><td>L1PA2_dup5083                        </td><td>chr1_KI270706v1_random               </td><td>     7846                            </td><td>    13993                            </td><td>(-)                                  </td><td>6147                                 </td><td>Neuron                               </td><td>L1PA2                                </td><td>3                                    </td></tr>\n",
       "\t<tr><td>chr1_KI270711v1_random:14597-15248(-)</td><td>NA                                   </td><td>NA                                   </td><td>NA                                   </td><td>NA                                   </td><td>NA                                   </td><td>NA                                   </td><td>NA                                   </td><td>NA                                   </td><td>NA                                   </td><td>⋯                                    </td><td>NA                                   </td><td>L1PA4_dup12230                       </td><td>chr1_KI270711v1_random               </td><td>    14597                            </td><td>    15248                            </td><td>(-)                                  </td><td> 651                                 </td><td>Neuron                               </td><td>L1PA4                                </td><td>3                                    </td></tr>\n",
       "\t<tr><td>chr1_KI270711v1_random:14597-15248(-)</td><td>NA                                   </td><td>NA                                   </td><td>NA                                   </td><td>NA                                   </td><td>NA                                   </td><td>NA                                   </td><td>NA                                   </td><td>NA                                   </td><td>NA                                   </td><td>⋯                                    </td><td>NA                                   </td><td>L1PA4_dup12230                       </td><td>chr1_KI270711v1_random               </td><td>    14597                            </td><td>    15248                            </td><td>(-)                                  </td><td> 651                                 </td><td>Neuron_pro                           </td><td>L1PA4                                </td><td>3                                    </td></tr>\n",
       "\t<tr><td>chr1:100258333-100261123(-)          </td><td>NA                                   </td><td>NA                                   </td><td>NA                                   </td><td>NA                                   </td><td>NA                                   </td><td>NA                                   </td><td>NA                                   </td><td>NA                                   </td><td>NA                                   </td><td>⋯                                    </td><td>NA                                   </td><td>L1PA4_dup323                         </td><td>chr1                                 </td><td>100258333                            </td><td>100261123                            </td><td>(-)                                  </td><td>2790                                 </td><td>Neuron_pro                           </td><td>L1PA4                                </td><td>3                                    </td></tr>\n",
       "\t<tr><td>chr1:102073412-102074162(-)          </td><td>NA                                   </td><td>NA                                   </td><td>NA                                   </td><td>NA                                   </td><td>NA                                   </td><td>NA                                   </td><td>NA                                   </td><td>NA                                   </td><td>NA                                   </td><td>⋯                                    </td><td>NA                                   </td><td>L1PA3_dup301                         </td><td>chr1                                 </td><td>102073412                            </td><td>102074162                            </td><td>(-)                                  </td><td> 750                                 </td><td>Neuron                               </td><td>L1PA3                                </td><td>3                                    </td></tr>\n",
       "\t<tr><td>chr1:102307171-102309328(-)          </td><td>NA                                   </td><td>NA                                   </td><td>NA                                   </td><td>NA                                   </td><td>NA                                   </td><td>NA                                   </td><td>NA                                   </td><td>NA                                   </td><td>NA                                   </td><td>⋯                                    </td><td>NA                                   </td><td>L1PA4_dup335                         </td><td>chr1                                 </td><td>102307171                            </td><td>102309328                            </td><td>(-)                                  </td><td>2157                                 </td><td>ESC                                  </td><td>L1PA4                                </td><td>3                                    </td></tr>\n",
       "</tbody>\n",
       "</table>\n"
      ],
      "text/latex": [
       "\\begin{tabular}{r|llllllllllllllllllllll}\n",
       " label & V1 & gene.x & V3 & V4 & V5 & V6 & V7 & V8 & V9 & ⋯ & V12 & transcript & chromsome & start & stop & strand & length & group & gene.y & n\\\\\n",
       "\\hline\n",
       "\t chr1\\_KI270706v1\\_random:7846-13993(-)  & NA                                        & NA                                        & NA                                        & NA                                        & NA                                        & NA                                        & NA                                        & NA                                        & NA                                        & ⋯                                         & NA                                        & L1PA2\\_dup5083                           & chr1\\_KI270706v1\\_random                &      7846                                 &     13993                                 & (-)                                       & 6147                                      & Neuron                                    & L1PA2                                     & 3                                        \\\\\n",
       "\t chr1\\_KI270711v1\\_random:14597-15248(-) & NA                                        & NA                                        & NA                                        & NA                                        & NA                                        & NA                                        & NA                                        & NA                                        & NA                                        & ⋯                                         & NA                                        & L1PA4\\_dup12230                          & chr1\\_KI270711v1\\_random                &     14597                                 &     15248                                 & (-)                                       &  651                                      & Neuron                                    & L1PA4                                     & 3                                        \\\\\n",
       "\t chr1\\_KI270711v1\\_random:14597-15248(-) & NA                                        & NA                                        & NA                                        & NA                                        & NA                                        & NA                                        & NA                                        & NA                                        & NA                                        & ⋯                                         & NA                                        & L1PA4\\_dup12230                          & chr1\\_KI270711v1\\_random                &     14597                                 &     15248                                 & (-)                                       &  651                                      & Neuron\\_pro                              & L1PA4                                     & 3                                        \\\\\n",
       "\t chr1:100258333-100261123(-)           & NA                                    & NA                                    & NA                                    & NA                                    & NA                                    & NA                                    & NA                                    & NA                                    & NA                                    & ⋯                                     & NA                                    & L1PA4\\_dup323                        & chr1                                  & 100258333                             & 100261123                             & (-)                                   & 2790                                  & Neuron\\_pro                          & L1PA4                                 & 3                                    \\\\\n",
       "\t chr1:102073412-102074162(-)           & NA                                    & NA                                    & NA                                    & NA                                    & NA                                    & NA                                    & NA                                    & NA                                    & NA                                    & ⋯                                     & NA                                    & L1PA3\\_dup301                        & chr1                                  & 102073412                             & 102074162                             & (-)                                   &  750                                  & Neuron                                & L1PA3                                 & 3                                    \\\\\n",
       "\t chr1:102307171-102309328(-)           & NA                                    & NA                                    & NA                                    & NA                                    & NA                                    & NA                                    & NA                                    & NA                                    & NA                                    & ⋯                                     & NA                                    & L1PA4\\_dup335                        & chr1                                  & 102307171                             & 102309328                             & (-)                                   & 2157                                  & ESC                                   & L1PA4                                 & 3                                    \\\\\n",
       "\\end{tabular}\n"
      ],
      "text/markdown": [
       "\n",
       "label | V1 | gene.x | V3 | V4 | V5 | V6 | V7 | V8 | V9 | ⋯ | V12 | transcript | chromsome | start | stop | strand | length | group | gene.y | n | \n",
       "|---|---|---|---|---|---|\n",
       "| chr1_KI270706v1_random:7846-13993(-)  | NA                                    | NA                                    | NA                                    | NA                                    | NA                                    | NA                                    | NA                                    | NA                                    | NA                                    | ⋯                                     | NA                                    | L1PA2_dup5083                         | chr1_KI270706v1_random                |      7846                             |     13993                             | (-)                                   | 6147                                  | Neuron                                | L1PA2                                 | 3                                     | \n",
       "| chr1_KI270711v1_random:14597-15248(-) | NA                                    | NA                                    | NA                                    | NA                                    | NA                                    | NA                                    | NA                                    | NA                                    | NA                                    | ⋯                                     | NA                                    | L1PA4_dup12230                        | chr1_KI270711v1_random                |     14597                             |     15248                             | (-)                                   |  651                                  | Neuron                                | L1PA4                                 | 3                                     | \n",
       "| chr1_KI270711v1_random:14597-15248(-) | NA                                    | NA                                    | NA                                    | NA                                    | NA                                    | NA                                    | NA                                    | NA                                    | NA                                    | ⋯                                     | NA                                    | L1PA4_dup12230                        | chr1_KI270711v1_random                |     14597                             |     15248                             | (-)                                   |  651                                  | Neuron_pro                            | L1PA4                                 | 3                                     | \n",
       "| chr1:100258333-100261123(-)           | NA                                    | NA                                    | NA                                    | NA                                    | NA                                    | NA                                    | NA                                    | NA                                    | NA                                    | ⋯                                     | NA                                    | L1PA4_dup323                          | chr1                                  | 100258333                             | 100261123                             | (-)                                   | 2790                                  | Neuron_pro                            | L1PA4                                 | 3                                     | \n",
       "| chr1:102073412-102074162(-)           | NA                                    | NA                                    | NA                                    | NA                                    | NA                                    | NA                                    | NA                                    | NA                                    | NA                                    | ⋯                                     | NA                                    | L1PA3_dup301                          | chr1                                  | 102073412                             | 102074162                             | (-)                                   |  750                                  | Neuron                                | L1PA3                                 | 3                                     | \n",
       "| chr1:102307171-102309328(-)           | NA                                    | NA                                    | NA                                    | NA                                    | NA                                    | NA                                    | NA                                    | NA                                    | NA                                    | ⋯                                     | NA                                    | L1PA4_dup335                          | chr1                                  | 102307171                             | 102309328                             | (-)                                   | 2157                                  | ESC                                   | L1PA4                                 | 3                                     | \n",
       "\n",
       "\n"
      ],
      "text/plain": [
       "  label                                 V1 gene.x V3 V4 V5 V6 V7 V8 V9 ⋯ V12\n",
       "1 chr1_KI270706v1_random:7846-13993(-)  NA NA     NA NA NA NA NA NA NA ⋯ NA \n",
       "2 chr1_KI270711v1_random:14597-15248(-) NA NA     NA NA NA NA NA NA NA ⋯ NA \n",
       "3 chr1_KI270711v1_random:14597-15248(-) NA NA     NA NA NA NA NA NA NA ⋯ NA \n",
       "4 chr1:100258333-100261123(-)           NA NA     NA NA NA NA NA NA NA ⋯ NA \n",
       "5 chr1:102073412-102074162(-)           NA NA     NA NA NA NA NA NA NA ⋯ NA \n",
       "6 chr1:102307171-102309328(-)           NA NA     NA NA NA NA NA NA NA ⋯ NA \n",
       "  transcript     chromsome              start     stop      strand length\n",
       "1 L1PA2_dup5083  chr1_KI270706v1_random      7846     13993 (-)    6147  \n",
       "2 L1PA4_dup12230 chr1_KI270711v1_random     14597     15248 (-)     651  \n",
       "3 L1PA4_dup12230 chr1_KI270711v1_random     14597     15248 (-)     651  \n",
       "4 L1PA4_dup323   chr1                   100258333 100261123 (-)    2790  \n",
       "5 L1PA3_dup301   chr1                   102073412 102074162 (-)     750  \n",
       "6 L1PA4_dup335   chr1                   102307171 102309328 (-)    2157  \n",
       "  group      gene.y n\n",
       "1 Neuron     L1PA2  3\n",
       "2 Neuron     L1PA4  3\n",
       "3 Neuron_pro L1PA4  3\n",
       "4 Neuron_pro L1PA4  3\n",
       "5 Neuron     L1PA3  3\n",
       "6 ESC        L1PA4  3"
      ]
     },
     "metadata": {},
     "output_type": "display_data"
    }
   ],
   "source": [
    "head(blast_Merge_Savedfiles_repFilterDat_noZero_L1)"
   ]
  },
  {
   "cell_type": "code",
   "execution_count": 125,
   "metadata": {
    "collapsed": true,
    "jupyter": {
     "outputs_hidden": true
    }
   },
   "outputs": [],
   "source": [
    "write.csv(blast_Merge_Savedfiles_repFilterDat_noZero_L1,\"blast_Merge_Savedfiles_repFilterDat_noZero_L1.csv\",row.names=F)"
   ]
  },
  {
   "cell_type": "markdown",
   "metadata": {},
   "source": [
    "#### 3.5 绘制韦恩图"
   ]
  },
  {
   "cell_type": "code",
   "execution_count": 132,
   "metadata": {
    "collapsed": true,
    "jupyter": {
     "outputs_hidden": true
    }
   },
   "outputs": [],
   "source": [
    "#install.packages(\"VennDiagram\")"
   ]
  },
  {
   "cell_type": "code",
   "execution_count": 131,
   "metadata": {},
   "outputs": [
    {
     "name": "stderr",
     "output_type": "stream",
     "text": [
      "Loading required package: grid\n",
      "Loading required package: futile.logger\n"
     ]
    }
   ],
   "source": [
    "library(VennDiagram)"
   ]
  },
  {
   "cell_type": "code",
   "execution_count": 128,
   "metadata": {
    "collapsed": true,
    "jupyter": {
     "outputs_hidden": true
    }
   },
   "outputs": [],
   "source": [
    "gRNA1<-blast_Result2[blast_Result2$V1==\"TGGGAGATATACCTAATGCTAGATGACACA\",]$label\n",
    "gRNA2<-blast_Result2[blast_Result2$V1==\"CCGGCTTAAGAAACGGCGCACCACGAGACT\",]$label\n",
    "gRNA4<-blast_Result2[blast_Result2$V1==\"TATCCGCTGTTCTGCAGCCACCGCTGCTGA\",]$label\n",
    "gRNA5<-blast_Result2[blast_Result2$V1==\"GAAACTTCCAGAGGAACGATCAGGCAGCAA\",]$label"
   ]
  },
  {
   "cell_type": "code",
   "execution_count": 163,
   "metadata": {
    "collapsed": true,
    "jupyter": {
     "outputs_hidden": true
    }
   },
   "outputs": [],
   "source": [
    "L1HS<-Merge_Savedfiles_repFilterDat_noZero_L1[Merge_Savedfiles_repFilterDat_noZero_L1$gene==\"L1HS\"&Merge_Savedfiles_repFilterDat_noZero_L1$group==\"ESC\",]$label\n",
    "L1PA2<-Merge_Savedfiles_repFilterDat_noZero_L1[Merge_Savedfiles_repFilterDat_noZero_L1$gene==\"L1PA2\"&Merge_Savedfiles_repFilterDat_noZero_L1$group==\"ESC\",]$label\n",
    "L1PA3<-Merge_Savedfiles_repFilterDat_noZero_L1[Merge_Savedfiles_repFilterDat_noZero_L1$gene==\"L1PA3\"&Merge_Savedfiles_repFilterDat_noZero_L1$group==\"ESC\",]$label\n",
    "L1PA4<-Merge_Savedfiles_repFilterDat_noZero_L1[Merge_Savedfiles_repFilterDat_noZero_L1$gene==\"L1PA4\"&Merge_Savedfiles_repFilterDat_noZero_L1$group==\"ESC\",]$label"
   ]
  },
  {
   "cell_type": "code",
   "execution_count": 164,
   "metadata": {
    "collapsed": true,
    "jupyter": {
     "outputs_hidden": true
    }
   },
   "outputs": [],
   "source": [
    "#table(Merge_Savedfiles_repFilterDat_noZero_L1[which(Merge_Savedfiles_repFilterDat_noZero_L1$gene==\"L1HS\"),]$group)"
   ]
  },
  {
   "cell_type": "code",
   "execution_count": 165,
   "metadata": {
    "collapsed": true,
    "jupyter": {
     "outputs_hidden": true
    }
   },
   "outputs": [],
   "source": [
    "#L1HS<-Merge_Savedfiles_repFilterDat_noZero_L1[Merge_Savedfiles_repFilterDat_noZero_L1$gene==\"L1HS\"&Merge_Savedfiles_repFilterDat_noZero_L1$group==\"ESC\",]$label"
   ]
  },
  {
   "cell_type": "code",
   "execution_count": 166,
   "metadata": {
    "collapsed": true,
    "jupyter": {
     "outputs_hidden": true
    }
   },
   "outputs": [],
   "source": [
    "#dim(Merge_Savedfiles_repFilterDat_noZero_L1[Merge_Savedfiles_repFilterDat_noZero_L1$gene==\"L1HS\"&Merge_Savedfiles_repFilterDat_noZero_L1$group==\"ESC\",])"
   ]
  },
  {
   "cell_type": "code",
   "execution_count": 167,
   "metadata": {},
   "outputs": [
    {
     "data": {
      "text/html": [
       "1"
      ],
      "text/latex": [
       "1"
      ],
      "text/markdown": [
       "1"
      ],
      "text/plain": [
       "[1] 1"
      ]
     },
     "metadata": {},
     "output_type": "display_data"
    }
   ],
   "source": [
    "venn.diagram(x=list(gRNA1,L1HS,L1PA2,L1PA3,L1PA4),\n",
    "             scaled = F, # 根据比例显示大小\n",
    "             alpha= 1, #透明度\n",
    "             lwd=1,lty=1,col=c(\"#b0c8e9\",\"#ffbc79\",\"#99de8b\",\"#227ab5\", \"#966bbd\"), #圆圈线条粗细、形状、颜色；1 实线, 2 虚线, blank无线条\n",
    "             label.col ='black' , # 数字颜色abel.col=c('#FFFFCC','#CCFFFF',......)根据不同颜色显示数值颜色\n",
    "             cex = 0.8, # 数字大小\n",
    "             fill=c(\"#b0c8e9\",\"#ffbc79\",\"#99de8b\",\"#227ab5\", \"#966bbd\"), # 填充色 配色https://www.58pic.com/\n",
    "             category.names = c(\"gRNA1\", \"L1HS\",\"L1PA2\",\"L1PA3\",\"L1PA4\") , #标签名\n",
    "             cat.dist = c(0.2, 0.2, 0.2, 0.2, 0.2), # 标签距离圆圈的远近\n",
    "             cat.pos = c(0, -10, 240, 120, 20), # 标签相对于圆圈的角度cat.pos = c(-10, 10, 135)\n",
    "             cat.cex = 1, #标签字体大小\n",
    "             fontfamily=3,\n",
    "             cat.fontfamily=3,\n",
    "             cat.col=c('black','black',\"black\",\"black\", \"black\"),   #cat.col=c('#FFFFCC','#CCFFFF',.....)根据相应颜色改变标签颜色\n",
    "             cat.default.pos = \"outer\",  # 标签位置, outer内;text 外\n",
    "             output=TRUE,\n",
    "             filename='./gRNA1_ESC.png',# 文件保存\n",
    "             imagetype=\"png\",  # 类型（tiff png svg）\n",
    "             resolution = 400,  # 分辨率\n",
    "             compression = \"lzw\",# 压缩算法\n",
    "             main=\"ESC\",\n",
    "             main.cex = 2, main.fontfamily = 3,\n",
    " \n",
    ")"
   ]
  },
  {
   "cell_type": "code",
   "execution_count": 168,
   "metadata": {
    "collapsed": true,
    "jupyter": {
     "outputs_hidden": true
    }
   },
   "outputs": [],
   "source": [
    "# L1HS<-Merge_Savedfiles_repFilterDat_noZero_L1[Merge_Savedfiles_repFilterDat_noZero_L1$gene==\"L1HS\"&Merge_Savedfiles_repFilterDat_noZero_L1$group==\"Neuron_pro\",]$label\n",
    "# L1PA2<-Merge_Savedfiles_repFilterDat_noZero_L1[Merge_Savedfiles_repFilterDat_noZero_L1$gene==\"L1PA2\"&Merge_Savedfiles_repFilterDat_noZero_L1$group==\"Neuron_pro\",]$label\n",
    "# L1PA3<-Merge_Savedfiles_repFilterDat_noZero_L1[Merge_Savedfiles_repFilterDat_noZero_L1$gene==\"L1PA3\"&Merge_Savedfiles_repFilterDat_noZero_L1$group==\"Neuron_pro\",]$label\n",
    "# L1PA4<-Merge_Savedfiles_repFilterDat_noZero_L1[Merge_Savedfiles_repFilterDat_noZero_L1$gene==\"L1PA4\"&Merge_Savedfiles_repFilterDat_noZero_L1$group==\"Neuron_pro\",]$label"
   ]
  },
  {
   "cell_type": "code",
   "execution_count": 169,
   "metadata": {},
   "outputs": [
    {
     "data": {
      "text/html": [
       "1"
      ],
      "text/latex": [
       "1"
      ],
      "text/markdown": [
       "1"
      ],
      "text/plain": [
       "[1] 1"
      ]
     },
     "metadata": {},
     "output_type": "display_data"
    }
   ],
   "source": [
    "# venn.diagram(x=list(gRNA1,L1HS,L1PA2,L1PA3,L1PA4),\n",
    "#              scaled = F, # 根据比例显示大小\n",
    "#              alpha= 1, #透明度\n",
    "#              lwd=1,lty=1,col=c(\"#b0c8e9\",\"#ffbc79\",\"#99de8b\",\"#227ab5\", \"#966bbd\"), #圆圈线条粗细、形状、颜色；1 实线, 2 虚线, blank无线条\n",
    "#              label.col ='black' , # 数字颜色abel.col=c('#FFFFCC','#CCFFFF',......)根据不同颜色显示数值颜色\n",
    "#              cex = 0.8, # 数字大小\n",
    "#              fill=c(\"#b0c8e9\",\"#ffbc79\",\"#99de8b\",\"#227ab5\", \"#966bbd\"), # 填充色 配色https://www.58pic.com/\n",
    "#              category.names = c(\"gRNA1\", \"L1HS\",\"L1PA2\",\"L1PA3\",\"L1PA4\") , #标签名\n",
    "#              cat.dist = c(0.2, 0.2, 0.2, 0.2, 0.2), # 标签距离圆圈的远近\n",
    "#              cat.pos = c(0, -10, 240, 120, 20), # 标签相对于圆圈的角度cat.pos = c(-10, 10, 135)\n",
    "#              cat.cex = 1, #标签字体大小\n",
    "#              fontfamily=3,\n",
    "#              cat.fontfamily=3,\n",
    "#              cat.col=c('black','black',\"black\",\"black\", \"black\"),   #cat.col=c('#FFFFCC','#CCFFFF',.....)根据相应颜色改变标签颜色\n",
    "#              cat.default.pos = \"outer\",  # 标签位置, outer内;text 外\n",
    "#              output=TRUE,\n",
    "#              filename='./gRNA1_Neuron_pro.png',# 文件保存\n",
    "#              imagetype=\"png\",  # 类型（tiff png svg）\n",
    "#              resolution = 400,  # 分辨率\n",
    "#              compression = \"lzw\",# 压缩算法\n",
    "#              main=\"Neuron_pro\",\n",
    "#              main.cex = 2, main.fontfamily = 3,\n",
    " \n",
    "# )"
   ]
  },
  {
   "cell_type": "code",
   "execution_count": 170,
   "metadata": {
    "collapsed": true,
    "jupyter": {
     "outputs_hidden": true
    }
   },
   "outputs": [],
   "source": [
    "# L1HS<-Merge_Savedfiles_repFilterDat_noZero_L1[Merge_Savedfiles_repFilterDat_noZero_L1$gene==\"L1HS\"&Merge_Savedfiles_repFilterDat_noZero_L1$group==\"Neuron\",]$label\n",
    "# L1PA2<-Merge_Savedfiles_repFilterDat_noZero_L1[Merge_Savedfiles_repFilterDat_noZero_L1$gene==\"L1PA2\"&Merge_Savedfiles_repFilterDat_noZero_L1$group==\"Neuron\",]$label\n",
    "# L1PA3<-Merge_Savedfiles_repFilterDat_noZero_L1[Merge_Savedfiles_repFilterDat_noZero_L1$gene==\"L1PA3\"&Merge_Savedfiles_repFilterDat_noZero_L1$group==\"Neuron\",]$label\n",
    "# L1PA4<-Merge_Savedfiles_repFilterDat_noZero_L1[Merge_Savedfiles_repFilterDat_noZero_L1$gene==\"L1PA4\"&Merge_Savedfiles_repFilterDat_noZero_L1$group==\"Neuron\",]$label"
   ]
  },
  {
   "cell_type": "code",
   "execution_count": 171,
   "metadata": {},
   "outputs": [
    {
     "data": {
      "text/html": [
       "1"
      ],
      "text/latex": [
       "1"
      ],
      "text/markdown": [
       "1"
      ],
      "text/plain": [
       "[1] 1"
      ]
     },
     "metadata": {},
     "output_type": "display_data"
    }
   ],
   "source": [
    "# venn.diagram(x=list(gRNA1,L1HS,L1PA2,L1PA3,L1PA4),\n",
    "#              scaled = F, # 根据比例显示大小\n",
    "#              alpha= 1, #透明度\n",
    "#              lwd=1,lty=1,col=c(\"#b0c8e9\",\"#ffbc79\",\"#99de8b\",\"#227ab5\", \"#966bbd\"), #圆圈线条粗细、形状、颜色；1 实线, 2 虚线, blank无线条\n",
    "#              label.col ='black' , # 数字颜色abel.col=c('#FFFFCC','#CCFFFF',......)根据不同颜色显示数值颜色\n",
    "#              cex = 0.8, # 数字大小\n",
    "#              fill=c(\"#b0c8e9\",\"#ffbc79\",\"#99de8b\",\"#227ab5\", \"#966bbd\"), # 填充色 配色https://www.58pic.com/\n",
    "#              category.names = c(\"gRNA1\", \"L1HS\",\"L1PA2\",\"L1PA3\",\"L1PA4\") , #标签名\n",
    "#              cat.dist = c(0.2, 0.2, 0.2, 0.2, 0.2), # 标签距离圆圈的远近\n",
    "#              cat.pos = c(0, -10, 240, 120, 20), # 标签相对于圆圈的角度cat.pos = c(-10, 10, 135)\n",
    "#              cat.cex = 1, #标签字体大小\n",
    "#              fontfamily=3,\n",
    "#              cat.fontfamily=3,\n",
    "#              cat.col=c('black','black',\"black\",\"black\", \"black\"),   #cat.col=c('#FFFFCC','#CCFFFF',.....)根据相应颜色改变标签颜色\n",
    "#              cat.default.pos = \"outer\",  # 标签位置, outer内;text 外\n",
    "#              output=TRUE,\n",
    "#              filename='./gRNA1_Neuron.png',# 文件保存\n",
    "#              imagetype=\"png\",  # 类型（tiff png svg）\n",
    "#              resolution = 400,  # 分辨率\n",
    "#              compression = \"lzw\",# 压缩算法\n",
    "#              main=\"Neuron\",\n",
    "#              main.cex = 2, main.fontfamily = 3,\n",
    " \n",
    "# )"
   ]
  },
  {
   "cell_type": "code",
   "execution_count": 173,
   "metadata": {},
   "outputs": [
    {
     "data": {
      "text/html": [
       "'gRNA.ESC.png'"
      ],
      "text/latex": [
       "'gRNA.ESC.png'"
      ],
      "text/markdown": [
       "'gRNA.ESC.png'"
      ],
      "text/plain": [
       "[1] \"gRNA.ESC.png\""
      ]
     },
     "metadata": {},
     "output_type": "display_data"
    }
   ],
   "source": [
    "paste(\"gRNA\",\"ESC\",\"png\",sep=\".\")"
   ]
  },
  {
   "cell_type": "code",
   "execution_count": 176,
   "metadata": {
    "collapsed": true,
    "jupyter": {
     "outputs_hidden": true
    }
   },
   "outputs": [],
   "source": [
    "Vennplot_gRNA<-function(gRNA,gRNA_name,celltype){\n",
    "    L1HS<-Merge_Savedfiles_repFilterDat_noZero_L1[Merge_Savedfiles_repFilterDat_noZero_L1$gene==\"L1HS\"&Merge_Savedfiles_repFilterDat_noZero_L1$group==celltype,]$label\n",
    "    L1PA2<-Merge_Savedfiles_repFilterDat_noZero_L1[Merge_Savedfiles_repFilterDat_noZero_L1$gene==\"L1PA2\"&Merge_Savedfiles_repFilterDat_noZero_L1$group==celltype,]$label\n",
    "    L1PA3<-Merge_Savedfiles_repFilterDat_noZero_L1[Merge_Savedfiles_repFilterDat_noZero_L1$gene==\"L1PA3\"&Merge_Savedfiles_repFilterDat_noZero_L1$group==celltype,]$label\n",
    "    L1PA4<-Merge_Savedfiles_repFilterDat_noZero_L1[Merge_Savedfiles_repFilterDat_noZero_L1$gene==\"L1PA4\"&Merge_Savedfiles_repFilterDat_noZero_L1$group==celltype,]$label\n",
    "    \n",
    "    \n",
    "    venn.diagram(x=list(gRNA,L1HS,L1PA2,L1PA3,L1PA4),\n",
    "             scaled = F, # 根据比例显示大小\n",
    "             alpha= 1, #透明度\n",
    "             lwd=1,lty=1,col=c(\"#b0c8e9\",\"#ffbc79\",\"#99de8b\",\"#227ab5\", \"#966bbd\"), #圆圈线条粗细、形状、颜色；1 实线, 2 虚线, blank无线条\n",
    "             label.col ='black' , # 数字颜色abel.col=c('#FFFFCC','#CCFFFF',......)根据不同颜色显示数值颜色\n",
    "             cex = 0.8, # 数字大小\n",
    "             fill=c(\"#b0c8e9\",\"#ffbc79\",\"#99de8b\",\"#227ab5\", \"#966bbd\"), # 填充色 配色https://www.58pic.com/\n",
    "             category.names = c(gRNA_name, \"L1HS\",\"L1PA2\",\"L1PA3\",\"L1PA4\") , #标签名\n",
    "             cat.dist = c(0.2, 0.2, 0.2, 0.2, 0.2), # 标签距离圆圈的远近\n",
    "             cat.pos = c(0, -10, 240, 120, 20), # 标签相对于圆圈的角度cat.pos = c(-10, 10, 135)\n",
    "             cat.cex = 1, #标签字体大小\n",
    "             fontfamily=3,\n",
    "             cat.fontfamily=3,\n",
    "             cat.col=c('black','black',\"black\",\"black\", \"black\"),   #cat.col=c('#FFFFCC','#CCFFFF',.....)根据相应颜色改变标签颜色\n",
    "             cat.default.pos = \"outer\",  # 标签位置, outer内;text 外\n",
    "             output=TRUE,\n",
    "             filename=paste(gRNA_name,celltype,\"png\",sep=\".\"),# 文件保存\n",
    "             imagetype=\"png\",  # 类型（tiff png svg）\n",
    "             resolution = 400,  # 分辨率\n",
    "             compression = \"lzw\",# 压缩算法\n",
    "             main=celltype,\n",
    "             main.cex = 2, main.fontfamily = 3,\n",
    " \n",
    ")\n",
    "    \n",
    "}"
   ]
  },
  {
   "cell_type": "code",
   "execution_count": 177,
   "metadata": {},
   "outputs": [
    {
     "data": {
      "text/html": [
       "1"
      ],
      "text/latex": [
       "1"
      ],
      "text/markdown": [
       "1"
      ],
      "text/plain": [
       "[1] 1"
      ]
     },
     "metadata": {},
     "output_type": "display_data"
    },
    {
     "data": {
      "text/html": [
       "1"
      ],
      "text/latex": [
       "1"
      ],
      "text/markdown": [
       "1"
      ],
      "text/plain": [
       "[1] 1"
      ]
     },
     "metadata": {},
     "output_type": "display_data"
    },
    {
     "data": {
      "text/html": [
       "1"
      ],
      "text/latex": [
       "1"
      ],
      "text/markdown": [
       "1"
      ],
      "text/plain": [
       "[1] 1"
      ]
     },
     "metadata": {},
     "output_type": "display_data"
    }
   ],
   "source": [
    "Vennplot_gRNA(gRNA2,\"gRNA2\",\"ESC\")\n",
    "Vennplot_gRNA(gRNA2,\"gRNA2\",\"Neuron_pro\")\n",
    "Vennplot_gRNA(gRNA2,\"gRNA2\",\"Neuron\")"
   ]
  },
  {
   "cell_type": "code",
   "execution_count": 178,
   "metadata": {},
   "outputs": [
    {
     "data": {
      "text/html": [
       "1"
      ],
      "text/latex": [
       "1"
      ],
      "text/markdown": [
       "1"
      ],
      "text/plain": [
       "[1] 1"
      ]
     },
     "metadata": {},
     "output_type": "display_data"
    },
    {
     "data": {
      "text/html": [
       "1"
      ],
      "text/latex": [
       "1"
      ],
      "text/markdown": [
       "1"
      ],
      "text/plain": [
       "[1] 1"
      ]
     },
     "metadata": {},
     "output_type": "display_data"
    },
    {
     "data": {
      "text/html": [
       "1"
      ],
      "text/latex": [
       "1"
      ],
      "text/markdown": [
       "1"
      ],
      "text/plain": [
       "[1] 1"
      ]
     },
     "metadata": {},
     "output_type": "display_data"
    }
   ],
   "source": [
    "Vennplot_gRNA(gRNA4,\"gRNA4\",\"ESC\")\n",
    "Vennplot_gRNA(gRNA4,\"gRNA4\",\"Neuron_pro\")\n",
    "Vennplot_gRNA(gRNA4,\"gRNA4\",\"Neuron\")"
   ]
  },
  {
   "cell_type": "code",
   "execution_count": null,
   "metadata": {
    "collapsed": true,
    "jupyter": {
     "outputs_hidden": true
    }
   },
   "outputs": [],
   "source": [
    "# Vennplot_gRNA(gRNA2,\"gRNA2\",\"ESC\")\n",
    "# Vennplot_gRNA(gRNA2,\"gRNA2\",\"Neuron_pro\")\n",
    "# Vennplot_gRNA(gRNA2,\"gRNA2\",\"Neuron\")"
   ]
  },
  {
   "cell_type": "markdown",
   "metadata": {},
   "source": [
    "> 这里，发现了一个问题就是，gRNA5的blast结果只有26个；这让我有点怀疑之前的那个barplot的结果对不对，可能其中参数上会有一些出入；\n",
    "> 这个需要再确认一下；\n",
    "> 随后与琪柯确认了之后，发现是word size参数的区别；"
   ]
  },
  {
   "cell_type": "markdown",
   "metadata": {
    "collapsed": true,
    "jupyter": {
     "outputs_hidden": true
    }
   },
   "source": [
    "#### 3.6 统计差异基因的数目（不同subfamily在差异loci数目的比较，前面看到的这种差异性是由整体所贡献的，还是由特定的位点所贡献的）"
   ]
  },
  {
   "cell_type": "code",
   "execution_count": 1,
   "metadata": {
    "collapsed": true,
    "jupyter": {
     "outputs_hidden": true
    }
   },
   "outputs": [],
   "source": [
    "setwd(\"/home/xxzhang/workplace/project/CRISPRa/expression/ESC-div/TElocal/DEseq2/\")"
   ]
  },
  {
   "cell_type": "code",
   "execution_count": 2,
   "metadata": {
    "collapsed": true,
    "jupyter": {
     "outputs_hidden": true
    }
   },
   "outputs": [],
   "source": [
    "data<-read.table(\"/home/xxzhang/workplace/project/CRISPRa/expression/ESC-div/TElocal/DEseq2/ESC_sigdiff_gene_TE.txt\")"
   ]
  },
  {
   "cell_type": "code",
   "execution_count": 39,
   "metadata": {
    "collapsed": true,
    "jupyter": {
     "outputs_hidden": true
    }
   },
   "outputs": [],
   "source": [
    "#all<-read.table(\"/home/xxzhang/workplace/project/CRISPRa/expression/ESC-div/TElocal/DEseq2/ESC_gene_TE_analysis.txt\")"
   ]
  },
  {
   "cell_type": "code",
   "execution_count": 40,
   "metadata": {},
   "outputs": [
    {
     "data": {
      "text/html": [
       "<table>\n",
       "<thead><tr><th></th><th scope=col>baseMean</th><th scope=col>log2FoldChange</th><th scope=col>lfcSE</th><th scope=col>stat</th><th scope=col>pvalue</th><th scope=col>padj</th></tr></thead>\n",
       "<tbody>\n",
       "\t<tr><th scope=row>ENSG00000000003.16</th><td>4490.54898  </td><td>0.8092213   </td><td>0.2129813   </td><td>3.799495    </td><td>1.449913e-04</td><td>1.498165e-03</td></tr>\n",
       "\t<tr><th scope=row>ENSG00000000005.6</th><td>  31.71647  </td><td>3.3382329   </td><td>1.1743493   </td><td>2.842623    </td><td>4.474391e-03</td><td>2.567622e-02</td></tr>\n",
       "\t<tr><th scope=row>ENSG00000000419.14</th><td>1772.79722  </td><td>1.4945335   </td><td>0.2130003   </td><td>7.016579    </td><td>2.273657e-12</td><td>8.494782e-11</td></tr>\n",
       "\t<tr><th scope=row>ENSG00000000460.17</th><td>1142.82586  </td><td>0.9568054   </td><td>0.2221036   </td><td>4.307923    </td><td>1.647947e-05</td><td>2.197900e-04</td></tr>\n",
       "\t<tr><th scope=row>ENSG00000000938.13</th><td>  12.08565  </td><td>4.0009233   </td><td>0.6668084   </td><td>6.000109    </td><td>1.971847e-09</td><td>5.184800e-08</td></tr>\n",
       "\t<tr><th scope=row>ENSG00000001036.14</th><td>1330.06057  </td><td>2.2549635   </td><td>0.2870315   </td><td>7.856154    </td><td>3.961087e-15</td><td>1.950521e-13</td></tr>\n",
       "</tbody>\n",
       "</table>\n"
      ],
      "text/latex": [
       "\\begin{tabular}{r|llllll}\n",
       "  & baseMean & log2FoldChange & lfcSE & stat & pvalue & padj\\\\\n",
       "\\hline\n",
       "\tENSG00000000003.16 & 4490.54898   & 0.8092213    & 0.2129813    & 3.799495     & 1.449913e-04 & 1.498165e-03\\\\\n",
       "\tENSG00000000005.6 &   31.71647   & 3.3382329    & 1.1743493    & 2.842623     & 4.474391e-03 & 2.567622e-02\\\\\n",
       "\tENSG00000000419.14 & 1772.79722   & 1.4945335    & 0.2130003    & 7.016579     & 2.273657e-12 & 8.494782e-11\\\\\n",
       "\tENSG00000000460.17 & 1142.82586   & 0.9568054    & 0.2221036    & 4.307923     & 1.647947e-05 & 2.197900e-04\\\\\n",
       "\tENSG00000000938.13 &   12.08565   & 4.0009233    & 0.6668084    & 6.000109     & 1.971847e-09 & 5.184800e-08\\\\\n",
       "\tENSG00000001036.14 & 1330.06057   & 2.2549635    & 0.2870315    & 7.856154     & 3.961087e-15 & 1.950521e-13\\\\\n",
       "\\end{tabular}\n"
      ],
      "text/markdown": [
       "\n",
       "| <!--/--> | baseMean | log2FoldChange | lfcSE | stat | pvalue | padj | \n",
       "|---|---|---|---|---|---|\n",
       "| ENSG00000000003.16 | 4490.54898   | 0.8092213    | 0.2129813    | 3.799495     | 1.449913e-04 | 1.498165e-03 | \n",
       "| ENSG00000000005.6 |   31.71647   | 3.3382329    | 1.1743493    | 2.842623     | 4.474391e-03 | 2.567622e-02 | \n",
       "| ENSG00000000419.14 | 1772.79722   | 1.4945335    | 0.2130003    | 7.016579     | 2.273657e-12 | 8.494782e-11 | \n",
       "| ENSG00000000460.17 | 1142.82586   | 0.9568054    | 0.2221036    | 4.307923     | 1.647947e-05 | 2.197900e-04 | \n",
       "| ENSG00000000938.13 |   12.08565   | 4.0009233    | 0.6668084    | 6.000109     | 1.971847e-09 | 5.184800e-08 | \n",
       "| ENSG00000001036.14 | 1330.06057   | 2.2549635    | 0.2870315    | 7.856154     | 3.961087e-15 | 1.950521e-13 | \n",
       "\n",
       "\n"
      ],
      "text/plain": [
       "                   baseMean   log2FoldChange lfcSE     stat     pvalue      \n",
       "ENSG00000000003.16 4490.54898 0.8092213      0.2129813 3.799495 1.449913e-04\n",
       "ENSG00000000005.6    31.71647 3.3382329      1.1743493 2.842623 4.474391e-03\n",
       "ENSG00000000419.14 1772.79722 1.4945335      0.2130003 7.016579 2.273657e-12\n",
       "ENSG00000000460.17 1142.82586 0.9568054      0.2221036 4.307923 1.647947e-05\n",
       "ENSG00000000938.13   12.08565 4.0009233      0.6668084 6.000109 1.971847e-09\n",
       "ENSG00000001036.14 1330.06057 2.2549635      0.2870315 7.856154 3.961087e-15\n",
       "                   padj        \n",
       "ENSG00000000003.16 1.498165e-03\n",
       "ENSG00000000005.6  2.567622e-02\n",
       "ENSG00000000419.14 8.494782e-11\n",
       "ENSG00000000460.17 2.197900e-04\n",
       "ENSG00000000938.13 5.184800e-08\n",
       "ENSG00000001036.14 1.950521e-13"
      ]
     },
     "metadata": {},
     "output_type": "display_data"
    }
   ],
   "source": [
    "head(data)"
   ]
  },
  {
   "cell_type": "code",
   "execution_count": 72,
   "metadata": {
    "collapsed": true,
    "jupyter": {
     "outputs_hidden": true
    }
   },
   "outputs": [],
   "source": [
    "TE.esc<-cbind(row.names(data[!grepl(\"ENSG*\", row.names(data)),]),data[!grepl(\"ENSG*\", row.names(data)),])  "
   ]
  },
  {
   "cell_type": "code",
   "execution_count": 73,
   "metadata": {},
   "outputs": [
    {
     "data": {
      "text/html": [
       "<table>\n",
       "<thead><tr><th></th><th scope=col>row.names(data[!grepl(\"ENSG*\", row.names(data)), ])</th><th scope=col>baseMean</th><th scope=col>log2FoldChange</th><th scope=col>lfcSE</th><th scope=col>stat</th><th scope=col>pvalue</th><th scope=col>padj</th></tr></thead>\n",
       "<tbody>\n",
       "\t<tr><th scope=row>Zaphod_dup1605:Zaphod:hAT-Tip100:DNA</th><td>Zaphod_dup1605:Zaphod:hAT-Tip100:DNA       </td><td>17.027765                                  </td><td>-2.810748                                  </td><td>0.7043251                                  </td><td>-3.990697                                  </td><td>6.587953e-05                               </td><td>0.0007537590                               </td></tr>\n",
       "\t<tr><th scope=row>Zaphod_dup1906:Zaphod:hAT-Tip100:DNA</th><td>Zaphod_dup1906:Zaphod:hAT-Tip100:DNA       </td><td> 5.289250                                  </td><td>-3.867529                                  </td><td>1.3814975                                  </td><td>-2.799519                                  </td><td>5.117878e-03                               </td><td>0.0285448705                               </td></tr>\n",
       "\t<tr><th scope=row>Zaphod_dup527:Zaphod:hAT-Tip100:DNA</th><td>Zaphod_dup527:Zaphod:hAT-Tip100:DNA        </td><td> 3.686694                                  </td><td>-4.339655                                  </td><td>1.6506349                                  </td><td>-2.629082                                  </td><td>8.561561e-03                               </td><td>0.0424004829                               </td></tr>\n",
       "\t<tr><th scope=row>hAT-16_Crp_dup16:hAT-16_Crp:hAT-Charlie:DNA</th><td>hAT-16_Crp_dup16:hAT-16_Crp:hAT-Charlie:DNA</td><td>60.143209                                  </td><td>-1.425464                                  </td><td>0.5034694                                  </td><td>-2.831283                                  </td><td>4.636174e-03                               </td><td>0.0263973028                               </td></tr>\n",
       "\t<tr><th scope=row>hAT-N1_Mam_dup301:hAT-N1_Mam:hAT-Tip100:DNA</th><td>hAT-N1_Mam_dup301:hAT-N1_Mam:hAT-Tip100:DNA</td><td> 7.861651                                  </td><td>-2.876709                                  </td><td>1.0423221                                  </td><td>-2.759904                                  </td><td>5.781830e-03                               </td><td>0.0313786141                               </td></tr>\n",
       "\t<tr><th scope=row>hAT-N1_Mam_dup418:hAT-N1_Mam:hAT-Tip100:DNA</th><td>hAT-N1_Mam_dup418:hAT-N1_Mam:hAT-Tip100:DNA</td><td>19.906817                                  </td><td>-2.811848                                  </td><td>0.7125403                                  </td><td>-3.946231                                  </td><td>7.939107e-05                               </td><td>0.0008870786                               </td></tr>\n",
       "</tbody>\n",
       "</table>\n"
      ],
      "text/latex": [
       "\\begin{tabular}{r|lllllll}\n",
       "  & row.names(data{[}!grepl(\"ENSG*\", row.names(data)), {]}) & baseMean & log2FoldChange & lfcSE & stat & pvalue & padj\\\\\n",
       "\\hline\n",
       "\tZaphod\\_dup1605:Zaphod:hAT-Tip100:DNA & Zaphod\\_dup1605:Zaphod:hAT-Tip100:DNA        & 17.027765                                     & -2.810748                                     & 0.7043251                                     & -3.990697                                     & 6.587953e-05                                  & 0.0007537590                                 \\\\\n",
       "\tZaphod\\_dup1906:Zaphod:hAT-Tip100:DNA & Zaphod\\_dup1906:Zaphod:hAT-Tip100:DNA        &  5.289250                                     & -3.867529                                     & 1.3814975                                     & -2.799519                                     & 5.117878e-03                                  & 0.0285448705                                 \\\\\n",
       "\tZaphod\\_dup527:Zaphod:hAT-Tip100:DNA & Zaphod\\_dup527:Zaphod:hAT-Tip100:DNA         &  3.686694                                     & -4.339655                                     & 1.6506349                                     & -2.629082                                     & 8.561561e-03                                  & 0.0424004829                                 \\\\\n",
       "\thAT-16\\_Crp\\_dup16:hAT-16\\_Crp:hAT-Charlie:DNA & hAT-16\\_Crp\\_dup16:hAT-16\\_Crp:hAT-Charlie:DNA & 60.143209                                         & -1.425464                                         & 0.5034694                                         & -2.831283                                         & 4.636174e-03                                      & 0.0263973028                                     \\\\\n",
       "\thAT-N1\\_Mam\\_dup301:hAT-N1\\_Mam:hAT-Tip100:DNA & hAT-N1\\_Mam\\_dup301:hAT-N1\\_Mam:hAT-Tip100:DNA &  7.861651                                         & -2.876709                                         & 1.0423221                                         & -2.759904                                         & 5.781830e-03                                      & 0.0313786141                                     \\\\\n",
       "\thAT-N1\\_Mam\\_dup418:hAT-N1\\_Mam:hAT-Tip100:DNA & hAT-N1\\_Mam\\_dup418:hAT-N1\\_Mam:hAT-Tip100:DNA & 19.906817                                         & -2.811848                                         & 0.7125403                                         & -3.946231                                         & 7.939107e-05                                      & 0.0008870786                                     \\\\\n",
       "\\end{tabular}\n"
      ],
      "text/markdown": [
       "\n",
       "| <!--/--> | row.names(data[!grepl(\"ENSG*\", row.names(data)), ]) | baseMean | log2FoldChange | lfcSE | stat | pvalue | padj | \n",
       "|---|---|---|---|---|---|\n",
       "| Zaphod_dup1605:Zaphod:hAT-Tip100:DNA | Zaphod_dup1605:Zaphod:hAT-Tip100:DNA        | 17.027765                                   | -2.810748                                   | 0.7043251                                   | -3.990697                                   | 6.587953e-05                                | 0.0007537590                                | \n",
       "| Zaphod_dup1906:Zaphod:hAT-Tip100:DNA | Zaphod_dup1906:Zaphod:hAT-Tip100:DNA        |  5.289250                                   | -3.867529                                   | 1.3814975                                   | -2.799519                                   | 5.117878e-03                                | 0.0285448705                                | \n",
       "| Zaphod_dup527:Zaphod:hAT-Tip100:DNA | Zaphod_dup527:Zaphod:hAT-Tip100:DNA         |  3.686694                                   | -4.339655                                   | 1.6506349                                   | -2.629082                                   | 8.561561e-03                                | 0.0424004829                                | \n",
       "| hAT-16_Crp_dup16:hAT-16_Crp:hAT-Charlie:DNA | hAT-16_Crp_dup16:hAT-16_Crp:hAT-Charlie:DNA | 60.143209                                   | -1.425464                                   | 0.5034694                                   | -2.831283                                   | 4.636174e-03                                | 0.0263973028                                | \n",
       "| hAT-N1_Mam_dup301:hAT-N1_Mam:hAT-Tip100:DNA | hAT-N1_Mam_dup301:hAT-N1_Mam:hAT-Tip100:DNA |  7.861651                                   | -2.876709                                   | 1.0423221                                   | -2.759904                                   | 5.781830e-03                                | 0.0313786141                                | \n",
       "| hAT-N1_Mam_dup418:hAT-N1_Mam:hAT-Tip100:DNA | hAT-N1_Mam_dup418:hAT-N1_Mam:hAT-Tip100:DNA | 19.906817                                   | -2.811848                                   | 0.7125403                                   | -3.946231                                   | 7.939107e-05                                | 0.0008870786                                | \n",
       "\n",
       "\n"
      ],
      "text/plain": [
       "                                            row.names(data[!grepl(\"ENSG*\", row.names(data)), ])\n",
       "Zaphod_dup1605:Zaphod:hAT-Tip100:DNA        Zaphod_dup1605:Zaphod:hAT-Tip100:DNA               \n",
       "Zaphod_dup1906:Zaphod:hAT-Tip100:DNA        Zaphod_dup1906:Zaphod:hAT-Tip100:DNA               \n",
       "Zaphod_dup527:Zaphod:hAT-Tip100:DNA         Zaphod_dup527:Zaphod:hAT-Tip100:DNA                \n",
       "hAT-16_Crp_dup16:hAT-16_Crp:hAT-Charlie:DNA hAT-16_Crp_dup16:hAT-16_Crp:hAT-Charlie:DNA        \n",
       "hAT-N1_Mam_dup301:hAT-N1_Mam:hAT-Tip100:DNA hAT-N1_Mam_dup301:hAT-N1_Mam:hAT-Tip100:DNA        \n",
       "hAT-N1_Mam_dup418:hAT-N1_Mam:hAT-Tip100:DNA hAT-N1_Mam_dup418:hAT-N1_Mam:hAT-Tip100:DNA        \n",
       "                                            baseMean  log2FoldChange lfcSE    \n",
       "Zaphod_dup1605:Zaphod:hAT-Tip100:DNA        17.027765 -2.810748      0.7043251\n",
       "Zaphod_dup1906:Zaphod:hAT-Tip100:DNA         5.289250 -3.867529      1.3814975\n",
       "Zaphod_dup527:Zaphod:hAT-Tip100:DNA          3.686694 -4.339655      1.6506349\n",
       "hAT-16_Crp_dup16:hAT-16_Crp:hAT-Charlie:DNA 60.143209 -1.425464      0.5034694\n",
       "hAT-N1_Mam_dup301:hAT-N1_Mam:hAT-Tip100:DNA  7.861651 -2.876709      1.0423221\n",
       "hAT-N1_Mam_dup418:hAT-N1_Mam:hAT-Tip100:DNA 19.906817 -2.811848      0.7125403\n",
       "                                            stat      pvalue       padj        \n",
       "Zaphod_dup1605:Zaphod:hAT-Tip100:DNA        -3.990697 6.587953e-05 0.0007537590\n",
       "Zaphod_dup1906:Zaphod:hAT-Tip100:DNA        -2.799519 5.117878e-03 0.0285448705\n",
       "Zaphod_dup527:Zaphod:hAT-Tip100:DNA         -2.629082 8.561561e-03 0.0424004829\n",
       "hAT-16_Crp_dup16:hAT-16_Crp:hAT-Charlie:DNA -2.831283 4.636174e-03 0.0263973028\n",
       "hAT-N1_Mam_dup301:hAT-N1_Mam:hAT-Tip100:DNA -2.759904 5.781830e-03 0.0313786141\n",
       "hAT-N1_Mam_dup418:hAT-N1_Mam:hAT-Tip100:DNA -3.946231 7.939107e-05 0.0008870786"
      ]
     },
     "metadata": {},
     "output_type": "display_data"
    }
   ],
   "source": [
    "tail(TE.esc)"
   ]
  },
  {
   "cell_type": "code",
   "execution_count": 74,
   "metadata": {
    "collapsed": true,
    "jupyter": {
     "outputs_hidden": true
    }
   },
   "outputs": [],
   "source": [
    "colnames(TE.esc)[1]<-\"TE\""
   ]
  },
  {
   "cell_type": "code",
   "execution_count": 77,
   "metadata": {
    "collapsed": true,
    "jupyter": {
     "outputs_hidden": true
    }
   },
   "outputs": [],
   "source": [
    "TE.esc.row.names<- TE.esc %>% separate(TE, c(\"transcript\",\"gene\",\"family\",\"class\"),sep = \":\")"
   ]
  },
  {
   "cell_type": "code",
   "execution_count": 78,
   "metadata": {},
   "outputs": [
    {
     "data": {
      "text/html": [
       "<table>\n",
       "<thead><tr><th></th><th scope=col>transcript</th><th scope=col>gene</th><th scope=col>family</th><th scope=col>class</th><th scope=col>baseMean</th><th scope=col>log2FoldChange</th><th scope=col>lfcSE</th><th scope=col>stat</th><th scope=col>pvalue</th><th scope=col>padj</th></tr></thead>\n",
       "<tbody>\n",
       "\t<tr><th scope=row>ALR/Alpha_dup355:ALR/Alpha:centr:Satellite</th><td>ALR/Alpha_dup355</td><td>ALR/Alpha       </td><td>centr           </td><td>Satellite       </td><td> 4.011983       </td><td>-4.456798       </td><td>1.6427790       </td><td>-2.712963       </td><td>6.668460e-03    </td><td>3.506316e-02    </td></tr>\n",
       "\t<tr><th scope=row>ALR/Alpha_dup584:ALR/Alpha:centr:Satellite</th><td>ALR/Alpha_dup584</td><td>ALR/Alpha       </td><td>centr           </td><td>Satellite       </td><td>86.679991       </td><td>-4.311820       </td><td>0.6087355       </td><td>-7.083240       </td><td>1.408221e-12    </td><td>5.367661e-11    </td></tr>\n",
       "\t<tr><th scope=row>ALR/Alpha_dup596:ALR/Alpha:centr:Satellite</th><td>ALR/Alpha_dup596</td><td>ALR/Alpha       </td><td>centr           </td><td>Satellite       </td><td>32.927873       </td><td>-2.649787       </td><td>0.5925597       </td><td>-4.471763       </td><td>7.757724e-06    </td><td>1.120894e-04    </td></tr>\n",
       "\t<tr><th scope=row>ALR/Alpha_dup597:ALR/Alpha:centr:Satellite</th><td>ALR/Alpha_dup597</td><td>ALR/Alpha       </td><td>centr           </td><td>Satellite       </td><td>48.452224       </td><td>-6.214210       </td><td>1.3358276       </td><td>-4.651955       </td><td>3.288024e-06    </td><td>5.153732e-05    </td></tr>\n",
       "\t<tr><th scope=row>ALR/Alpha_dup598:ALR/Alpha:centr:Satellite</th><td>ALR/Alpha_dup598</td><td>ALR/Alpha       </td><td>centr           </td><td>Satellite       </td><td> 9.549158       </td><td>-5.716389       </td><td>1.3463900       </td><td>-4.245715       </td><td>2.178971e-05    </td><td>2.826982e-04    </td></tr>\n",
       "\t<tr><th scope=row>ALR/Alpha_dup601:ALR/Alpha:centr:Satellite</th><td>ALR/Alpha_dup601</td><td>ALR/Alpha       </td><td>centr           </td><td>Satellite       </td><td> 5.012565       </td><td>-3.775011       </td><td>1.4211187       </td><td>-2.656365       </td><td>7.898798e-03    </td><td>3.989856e-02    </td></tr>\n",
       "</tbody>\n",
       "</table>\n"
      ],
      "text/latex": [
       "\\begin{tabular}{r|llllllllll}\n",
       "  & transcript & gene & family & class & baseMean & log2FoldChange & lfcSE & stat & pvalue & padj\\\\\n",
       "\\hline\n",
       "\tALR/Alpha\\_dup355:ALR/Alpha:centr:Satellite & ALR/Alpha\\_dup355 & ALR/Alpha          & centr              & Satellite          &  4.011983          & -4.456798          & 1.6427790          & -2.712963          & 6.668460e-03       & 3.506316e-02      \\\\\n",
       "\tALR/Alpha\\_dup584:ALR/Alpha:centr:Satellite & ALR/Alpha\\_dup584 & ALR/Alpha          & centr              & Satellite          & 86.679991          & -4.311820          & 0.6087355          & -7.083240          & 1.408221e-12       & 5.367661e-11      \\\\\n",
       "\tALR/Alpha\\_dup596:ALR/Alpha:centr:Satellite & ALR/Alpha\\_dup596 & ALR/Alpha          & centr              & Satellite          & 32.927873          & -2.649787          & 0.5925597          & -4.471763          & 7.757724e-06       & 1.120894e-04      \\\\\n",
       "\tALR/Alpha\\_dup597:ALR/Alpha:centr:Satellite & ALR/Alpha\\_dup597 & ALR/Alpha          & centr              & Satellite          & 48.452224          & -6.214210          & 1.3358276          & -4.651955          & 3.288024e-06       & 5.153732e-05      \\\\\n",
       "\tALR/Alpha\\_dup598:ALR/Alpha:centr:Satellite & ALR/Alpha\\_dup598 & ALR/Alpha          & centr              & Satellite          &  9.549158          & -5.716389          & 1.3463900          & -4.245715          & 2.178971e-05       & 2.826982e-04      \\\\\n",
       "\tALR/Alpha\\_dup601:ALR/Alpha:centr:Satellite & ALR/Alpha\\_dup601 & ALR/Alpha          & centr              & Satellite          &  5.012565          & -3.775011          & 1.4211187          & -2.656365          & 7.898798e-03       & 3.989856e-02      \\\\\n",
       "\\end{tabular}\n"
      ],
      "text/markdown": [
       "\n",
       "| <!--/--> | transcript | gene | family | class | baseMean | log2FoldChange | lfcSE | stat | pvalue | padj | \n",
       "|---|---|---|---|---|---|\n",
       "| ALR/Alpha_dup355:ALR/Alpha:centr:Satellite | ALR/Alpha_dup355 | ALR/Alpha        | centr            | Satellite        |  4.011983        | -4.456798        | 1.6427790        | -2.712963        | 6.668460e-03     | 3.506316e-02     | \n",
       "| ALR/Alpha_dup584:ALR/Alpha:centr:Satellite | ALR/Alpha_dup584 | ALR/Alpha        | centr            | Satellite        | 86.679991        | -4.311820        | 0.6087355        | -7.083240        | 1.408221e-12     | 5.367661e-11     | \n",
       "| ALR/Alpha_dup596:ALR/Alpha:centr:Satellite | ALR/Alpha_dup596 | ALR/Alpha        | centr            | Satellite        | 32.927873        | -2.649787        | 0.5925597        | -4.471763        | 7.757724e-06     | 1.120894e-04     | \n",
       "| ALR/Alpha_dup597:ALR/Alpha:centr:Satellite | ALR/Alpha_dup597 | ALR/Alpha        | centr            | Satellite        | 48.452224        | -6.214210        | 1.3358276        | -4.651955        | 3.288024e-06     | 5.153732e-05     | \n",
       "| ALR/Alpha_dup598:ALR/Alpha:centr:Satellite | ALR/Alpha_dup598 | ALR/Alpha        | centr            | Satellite        |  9.549158        | -5.716389        | 1.3463900        | -4.245715        | 2.178971e-05     | 2.826982e-04     | \n",
       "| ALR/Alpha_dup601:ALR/Alpha:centr:Satellite | ALR/Alpha_dup601 | ALR/Alpha        | centr            | Satellite        |  5.012565        | -3.775011        | 1.4211187        | -2.656365        | 7.898798e-03     | 3.989856e-02     | \n",
       "\n",
       "\n"
      ],
      "text/plain": [
       "                                           transcript       gene      family\n",
       "ALR/Alpha_dup355:ALR/Alpha:centr:Satellite ALR/Alpha_dup355 ALR/Alpha centr \n",
       "ALR/Alpha_dup584:ALR/Alpha:centr:Satellite ALR/Alpha_dup584 ALR/Alpha centr \n",
       "ALR/Alpha_dup596:ALR/Alpha:centr:Satellite ALR/Alpha_dup596 ALR/Alpha centr \n",
       "ALR/Alpha_dup597:ALR/Alpha:centr:Satellite ALR/Alpha_dup597 ALR/Alpha centr \n",
       "ALR/Alpha_dup598:ALR/Alpha:centr:Satellite ALR/Alpha_dup598 ALR/Alpha centr \n",
       "ALR/Alpha_dup601:ALR/Alpha:centr:Satellite ALR/Alpha_dup601 ALR/Alpha centr \n",
       "                                           class     baseMean  log2FoldChange\n",
       "ALR/Alpha_dup355:ALR/Alpha:centr:Satellite Satellite  4.011983 -4.456798     \n",
       "ALR/Alpha_dup584:ALR/Alpha:centr:Satellite Satellite 86.679991 -4.311820     \n",
       "ALR/Alpha_dup596:ALR/Alpha:centr:Satellite Satellite 32.927873 -2.649787     \n",
       "ALR/Alpha_dup597:ALR/Alpha:centr:Satellite Satellite 48.452224 -6.214210     \n",
       "ALR/Alpha_dup598:ALR/Alpha:centr:Satellite Satellite  9.549158 -5.716389     \n",
       "ALR/Alpha_dup601:ALR/Alpha:centr:Satellite Satellite  5.012565 -3.775011     \n",
       "                                           lfcSE     stat      pvalue      \n",
       "ALR/Alpha_dup355:ALR/Alpha:centr:Satellite 1.6427790 -2.712963 6.668460e-03\n",
       "ALR/Alpha_dup584:ALR/Alpha:centr:Satellite 0.6087355 -7.083240 1.408221e-12\n",
       "ALR/Alpha_dup596:ALR/Alpha:centr:Satellite 0.5925597 -4.471763 7.757724e-06\n",
       "ALR/Alpha_dup597:ALR/Alpha:centr:Satellite 1.3358276 -4.651955 3.288024e-06\n",
       "ALR/Alpha_dup598:ALR/Alpha:centr:Satellite 1.3463900 -4.245715 2.178971e-05\n",
       "ALR/Alpha_dup601:ALR/Alpha:centr:Satellite 1.4211187 -2.656365 7.898798e-03\n",
       "                                           padj        \n",
       "ALR/Alpha_dup355:ALR/Alpha:centr:Satellite 3.506316e-02\n",
       "ALR/Alpha_dup584:ALR/Alpha:centr:Satellite 5.367661e-11\n",
       "ALR/Alpha_dup596:ALR/Alpha:centr:Satellite 1.120894e-04\n",
       "ALR/Alpha_dup597:ALR/Alpha:centr:Satellite 5.153732e-05\n",
       "ALR/Alpha_dup598:ALR/Alpha:centr:Satellite 2.826982e-04\n",
       "ALR/Alpha_dup601:ALR/Alpha:centr:Satellite 3.989856e-02"
      ]
     },
     "metadata": {},
     "output_type": "display_data"
    }
   ],
   "source": [
    "head(TE.esc.row.names)"
   ]
  },
  {
   "cell_type": "code",
   "execution_count": 2,
   "metadata": {},
   "outputs": [],
   "source": [
    "#TE.esc.row.names[TE.esc.row.names$log2FoldChange<0,]"
   ]
  },
  {
   "cell_type": "code",
   "execution_count": 83,
   "metadata": {
    "collapsed": true,
    "jupyter": {
     "outputs_hidden": true
    }
   },
   "outputs": [],
   "source": [
    "TE.neuron.count<-as.data.frame(table(TE.esc.row.names[TE.esc.row.names$log2FoldChange<0,\"gene\"]))\n",
    "TE.esc.count<-as.data.frame(table(TE.esc.row.names[TE.esc.row.names$log2FoldChange>0,\"gene\"]))"
   ]
  },
  {
   "cell_type": "code",
   "execution_count": 85,
   "metadata": {
    "collapsed": true,
    "jupyter": {
     "outputs_hidden": true
    }
   },
   "outputs": [],
   "source": [
    "mergeDat<-merge(TE.esc.count,TE.neuron.count,by=\"Var1\",all=TRUE)"
   ]
  },
  {
   "cell_type": "code",
   "execution_count": 88,
   "metadata": {
    "collapsed": true,
    "jupyter": {
     "outputs_hidden": true
    }
   },
   "outputs": [],
   "source": [
    "colnames(mergeDat)<-c(\"subfamily\",\"ESC\",\"neuron/neuronalprogentor\")"
   ]
  },
  {
   "cell_type": "code",
   "execution_count": 90,
   "metadata": {},
   "outputs": [
    {
     "data": {
      "text/html": [
       "<table>\n",
       "<thead><tr><th scope=col>subfamily</th><th scope=col>ESC</th><th scope=col>neuron/neuronalprogentor</th></tr></thead>\n",
       "<tbody>\n",
       "\t<tr><td>Alu   </td><td>  8   </td><td>  5   </td></tr>\n",
       "\t<tr><td>AluJb </td><td>450   </td><td>944   </td></tr>\n",
       "\t<tr><td>AluJo </td><td>263   </td><td>559   </td></tr>\n",
       "\t<tr><td>AluJr </td><td>282   </td><td>594   </td></tr>\n",
       "\t<tr><td>AluJr4</td><td> 42   </td><td>132   </td></tr>\n",
       "\t<tr><td>AluSc </td><td>111   </td><td>233   </td></tr>\n",
       "\t<tr><td>AluSc5</td><td> 21   </td><td> 34   </td></tr>\n",
       "\t<tr><td>AluSc8</td><td> 71   </td><td>171   </td></tr>\n",
       "\t<tr><td>AluSg </td><td>142   </td><td>315   </td></tr>\n",
       "\t<tr><td>AluSg4</td><td> 24   </td><td> 66   </td></tr>\n",
       "</tbody>\n",
       "</table>\n"
      ],
      "text/latex": [
       "\\begin{tabular}{r|lll}\n",
       " subfamily & ESC & neuron/neuronalprogentor\\\\\n",
       "\\hline\n",
       "\t Alu    &   8    &   5   \\\\\n",
       "\t AluJb  & 450    & 944   \\\\\n",
       "\t AluJo  & 263    & 559   \\\\\n",
       "\t AluJr  & 282    & 594   \\\\\n",
       "\t AluJr4 &  42    & 132   \\\\\n",
       "\t AluSc  & 111    & 233   \\\\\n",
       "\t AluSc5 &  21    &  34   \\\\\n",
       "\t AluSc8 &  71    & 171   \\\\\n",
       "\t AluSg  & 142    & 315   \\\\\n",
       "\t AluSg4 &  24    &  66   \\\\\n",
       "\\end{tabular}\n"
      ],
      "text/markdown": [
       "\n",
       "subfamily | ESC | neuron/neuronalprogentor | \n",
       "|---|---|---|---|---|---|---|---|---|---|\n",
       "| Alu    |   8    |   5    | \n",
       "| AluJb  | 450    | 944    | \n",
       "| AluJo  | 263    | 559    | \n",
       "| AluJr  | 282    | 594    | \n",
       "| AluJr4 |  42    | 132    | \n",
       "| AluSc  | 111    | 233    | \n",
       "| AluSc5 |  21    |  34    | \n",
       "| AluSc8 |  71    | 171    | \n",
       "| AluSg  | 142    | 315    | \n",
       "| AluSg4 |  24    |  66    | \n",
       "\n",
       "\n"
      ],
      "text/plain": [
       "   subfamily ESC neuron/neuronalprogentor\n",
       "1  Alu         8   5                     \n",
       "2  AluJb     450 944                     \n",
       "3  AluJo     263 559                     \n",
       "4  AluJr     282 594                     \n",
       "5  AluJr4     42 132                     \n",
       "6  AluSc     111 233                     \n",
       "7  AluSc5     21  34                     \n",
       "8  AluSc8     71 171                     \n",
       "9  AluSg     142 315                     \n",
       "10 AluSg4     24  66                     "
      ]
     },
     "metadata": {},
     "output_type": "display_data"
    }
   ],
   "source": [
    "head(mergeDat,10)"
   ]
  },
  {
   "cell_type": "code",
   "execution_count": 91,
   "metadata": {
    "collapsed": true,
    "jupyter": {
     "outputs_hidden": true
    }
   },
   "outputs": [],
   "source": [
    "mergeDat_long <- gather(mergeDat, key = \"group\", value = \"lDEoci\",\n",
    "                    -`subfamily`)"
   ]
  },
  {
   "cell_type": "code",
   "execution_count": 92,
   "metadata": {},
   "outputs": [
    {
     "data": {
      "text/html": [
       "<table>\n",
       "<thead><tr><th scope=col>subfamily</th><th scope=col>group</th><th scope=col>lDEoci</th></tr></thead>\n",
       "<tbody>\n",
       "\t<tr><td>Alu   </td><td>ESC   </td><td>  8   </td></tr>\n",
       "\t<tr><td>AluJb </td><td>ESC   </td><td>450   </td></tr>\n",
       "\t<tr><td>AluJo </td><td>ESC   </td><td>263   </td></tr>\n",
       "\t<tr><td>AluJr </td><td>ESC   </td><td>282   </td></tr>\n",
       "\t<tr><td>AluJr4</td><td>ESC   </td><td> 42   </td></tr>\n",
       "\t<tr><td>AluSc </td><td>ESC   </td><td>111   </td></tr>\n",
       "</tbody>\n",
       "</table>\n"
      ],
      "text/latex": [
       "\\begin{tabular}{r|lll}\n",
       " subfamily & group & lDEoci\\\\\n",
       "\\hline\n",
       "\t Alu    & ESC    &   8   \\\\\n",
       "\t AluJb  & ESC    & 450   \\\\\n",
       "\t AluJo  & ESC    & 263   \\\\\n",
       "\t AluJr  & ESC    & 282   \\\\\n",
       "\t AluJr4 & ESC    &  42   \\\\\n",
       "\t AluSc  & ESC    & 111   \\\\\n",
       "\\end{tabular}\n"
      ],
      "text/markdown": [
       "\n",
       "subfamily | group | lDEoci | \n",
       "|---|---|---|---|---|---|\n",
       "| Alu    | ESC    |   8    | \n",
       "| AluJb  | ESC    | 450    | \n",
       "| AluJo  | ESC    | 263    | \n",
       "| AluJr  | ESC    | 282    | \n",
       "| AluJr4 | ESC    |  42    | \n",
       "| AluSc  | ESC    | 111    | \n",
       "\n",
       "\n"
      ],
      "text/plain": [
       "  subfamily group lDEoci\n",
       "1 Alu       ESC     8   \n",
       "2 AluJb     ESC   450   \n",
       "3 AluJo     ESC   263   \n",
       "4 AluJr     ESC   282   \n",
       "5 AluJr4    ESC    42   \n",
       "6 AluSc     ESC   111   "
      ]
     },
     "metadata": {},
     "output_type": "display_data"
    }
   ],
   "source": [
    "head(mergeDat_long)"
   ]
  },
  {
   "cell_type": "code",
   "execution_count": 108,
   "metadata": {
    "collapsed": true,
    "jupyter": {
     "outputs_hidden": true
    }
   },
   "outputs": [],
   "source": [
    "options(repr.plot.width =6, repr.plot.height =100)"
   ]
  },
  {
   "cell_type": "code",
   "execution_count": 109,
   "metadata": {
    "collapsed": true,
    "jupyter": {
     "outputs_hidden": true
    }
   },
   "outputs": [],
   "source": [
    "library(RColorBrewer)\n",
    "colourCount <-  length(unique(mergeDat_long$group))\n",
    "\n",
    "    #scale_fill_manual(values =  rev(c('blue', 'orange', 'green', 'yellow', 'red', 'hotpink', 'cyan','purple', 'burlywood1', 'skyblue', 'gray',\n",
    "    #                                 \"＃A52A2A\",\"＃E9967A\",\"＃FFA07A\",\"＃DAA520\",\"＃F0E68C\",\"＃9ACD32\"))) \n",
    "#problem occurs in the last sentence;"
   ]
  },
  {
   "cell_type": "code",
   "execution_count": 110,
   "metadata": {
    "collapsed": true,
    "jupyter": {
     "outputs_hidden": true
    }
   },
   "outputs": [],
   "source": [
    "p<-ggplot(mergeDat_long, aes(subfamily,log10(lDEoci+1),fill = group))+\n",
    "    geom_col(position = 'dodge', width = 0.7) +\n",
    "    labs(x = 'subfamily', y = 'log10(DEloci)') +\n",
    "    theme(axis.text = element_text(size = 4), axis.title = element_text(size = 5)) +\n",
    "    theme(legend.text = element_text(size = 11))+\n",
    "    theme_classic()+\n",
    "    scale_fill_manual(values = colorRampPalette(brewer.pal(8, \"Set2\"))(colourCount))+\n",
    "    theme(legend.position = \"bottom\" ,legend.box = \"horizontal\")+\n",
    "    coord_flip()"
   ]
  },
  {
   "cell_type": "code",
   "execution_count": 1,
   "metadata": {},
   "outputs": [],
   "source": [
    "#p"
   ]
  },
  {
   "cell_type": "code",
   "execution_count": 112,
   "metadata": {},
   "outputs": [
    {
     "name": "stderr",
     "output_type": "stream",
     "text": [
      "Warning message:\n",
      "“Removed 219 rows containing missing values (geom_col).”"
     ]
    },
    {
     "data": {},
     "metadata": {},
     "output_type": "display_data"
    },
    {
     "data": {
      "text/html": [
       "<strong>png:</strong> 2"
      ],
      "text/latex": [
       "\\textbf{png:} 2"
      ],
      "text/markdown": [
       "**png:** 2"
      ],
      "text/plain": [
       "png \n",
       "  2 "
      ]
     },
     "metadata": {},
     "output_type": "display_data"
    }
   ],
   "source": [
    "pdf('TE-DEloci.pdf',width = 6,height = 100)\n",
    "p\n",
    "dev.off()"
   ]
  },
  {
   "cell_type": "markdown",
   "metadata": {},
   "source": [
    "> 这边感觉依然找不到什么规律，觉得应该把一些信息加进去，就是他们画热图的时候的一些比如长度，年龄，数量这方面的信息；可以参考一下那篇文章中的代码；"
   ]
  },
  {
   "cell_type": "code",
   "execution_count": 60,
   "metadata": {
    "collapsed": true,
    "jupyter": {
     "outputs_hidden": true
    },
    "scrolled": true
   },
   "outputs": [],
   "source": [
    "#L1HS_esc[L1HS_esc$log2FoldChange<0,]"
   ]
  },
  {
   "cell_type": "code",
   "execution_count": 61,
   "metadata": {
    "collapsed": true,
    "jupyter": {
     "outputs_hidden": true
    },
    "scrolled": true
   },
   "outputs": [],
   "source": [
    "#L1HS_esc[L1HS_esc$log2FoldChange>0,]"
   ]
  },
  {
   "cell_type": "code",
   "execution_count": 62,
   "metadata": {
    "collapsed": true,
    "jupyter": {
     "outputs_hidden": true
    }
   },
   "outputs": [],
   "source": [
    "#dim(L1HS_esc[L1HS_esc$log2FoldChange>0,])"
   ]
  },
  {
   "cell_type": "code",
   "execution_count": 45,
   "metadata": {
    "collapsed": true,
    "jupyter": {
     "outputs_hidden": true
    }
   },
   "outputs": [],
   "source": [
    "# Neuron<-read.table(\"/home/xxzhang/workplace/project/CRISPRa/expression/ESC-div/TElocal/DEseq2/Neron_sigdiff_gene_TE.txt\")\n",
    "# Neuron_pre<-read.table(\"/home/xxzhang/workplace/project/CRISPRa/expression/ESC-div/TElocal/DEseq2/Neron-pre_sigdiff_gene_TE.txt\")\n",
    "# L1HS_neuron<-Neuron[grep(\"L1PA2\", row.names(Neuron)),]  \n",
    "# L1HS_neuron_pre<-Neuron_pre[grep(\"L1PA2\", row.names(Neuron_pre)),]  \n",
    "# dim(L1HS_neuron)\n",
    "# dim(L1HS_neuron_pre)"
   ]
  },
  {
   "cell_type": "markdown",
   "metadata": {
    "collapsed": true,
    "jupyter": {
     "outputs_hidden": true
    }
   },
   "source": [
    "### Project4"
   ]
  },
  {
   "cell_type": "code",
   "execution_count": 3,
   "metadata": {
    "collapsed": true,
    "jupyter": {
     "outputs_hidden": true
    }
   },
   "outputs": [],
   "source": [
    "library(data.table)"
   ]
  },
  {
   "cell_type": "code",
   "execution_count": 4,
   "metadata": {
    "collapsed": true,
    "jupyter": {
     "outputs_hidden": true
    }
   },
   "outputs": [],
   "source": [
    "setwd(\"/home/xxzhang/workplace/project/CRISPRa/expression/ESC-div/TElocal/DEseq2/\")"
   ]
  },
  {
   "cell_type": "code",
   "execution_count": 6,
   "metadata": {
    "collapsed": true,
    "jupyter": {
     "outputs_hidden": true
    }
   },
   "outputs": [],
   "source": [
    "fa.bed.o<-fread(\"hg38.fa.out\",fill=T,header=T)"
   ]
  },
  {
   "cell_type": "code",
   "execution_count": 7,
   "metadata": {
    "collapsed": true,
    "jupyter": {
     "outputs_hidden": true
    }
   },
   "outputs": [],
   "source": [
    "fa.bed<-fa.bed.o[c(-1,-2),]"
   ]
  },
  {
   "cell_type": "code",
   "execution_count": 8,
   "metadata": {
    "collapsed": true,
    "jupyter": {
     "outputs_hidden": true
    }
   },
   "outputs": [],
   "source": [
    "colnames(fa.bed) <- c(\"SW_score\", \"perc_div\", \"perc_del\", \"perc_ins\", \"query_seq\", \"pos_in_query_begin\", \"pos_in_query_end\", \"pos_in_query_left\", \"strand\", \"TE_subfamily\", \"class_family\", \"pos_in_repeat_begin\", \"pos_in_repeat_end\", \"pos_in_repeat_left\", \"ID\")"
   ]
  },
  {
   "cell_type": "code",
   "execution_count": 9,
   "metadata": {
    "collapsed": true,
    "jupyter": {
     "outputs_hidden": true
    }
   },
   "outputs": [],
   "source": [
    "fa.bed$length <- as.numeric(fa.bed$pos_in_query_end) - as.numeric(fa.bed$pos_in_query_begin)"
   ]
  },
  {
   "cell_type": "code",
   "execution_count": 10,
   "metadata": {
    "collapsed": true,
    "jupyter": {
     "outputs_hidden": true
    }
   },
   "outputs": [],
   "source": [
    "mean_length <- aggregate(fa.bed$length, by=list(fa.bed$TE_subfamily, fa.bed$class_family), FUN=mean)"
   ]
  },
  {
   "cell_type": "code",
   "execution_count": 11,
   "metadata": {
    "collapsed": true,
    "jupyter": {
     "outputs_hidden": true
    }
   },
   "outputs": [],
   "source": [
    "colnames(mean_length) <- c(\"TE_subfamily\", \"info\", \"avg_length\")"
   ]
  },
  {
   "cell_type": "code",
   "execution_count": 12,
   "metadata": {},
   "outputs": [
    {
     "data": {
      "text/html": [
       "<table>\n",
       "<thead><tr><th scope=col>TE_subfamily</th><th scope=col>info</th><th scope=col>avg_length</th></tr></thead>\n",
       "<tbody>\n",
       "\t<tr><td>DNA-12_Crp</td><td>DNA       </td><td>151.0000  </td></tr>\n",
       "\t<tr><td>Eulor1    </td><td>DNA       </td><td>186.0222  </td></tr>\n",
       "\t<tr><td>Eulor11   </td><td>DNA       </td><td>205.9504  </td></tr>\n",
       "\t<tr><td>Eulor9A   </td><td>DNA       </td><td>151.0897  </td></tr>\n",
       "\t<tr><td>Eulor9B   </td><td>DNA       </td><td>126.0794  </td></tr>\n",
       "\t<tr><td>Eulor9C   </td><td>DNA       </td><td>116.5057  </td></tr>\n",
       "</tbody>\n",
       "</table>\n"
      ],
      "text/latex": [
       "\\begin{tabular}{r|lll}\n",
       " TE\\_subfamily & info & avg\\_length\\\\\n",
       "\\hline\n",
       "\t DNA-12\\_Crp & DNA          & 151.0000    \\\\\n",
       "\t Eulor1     & DNA        & 186.0222  \\\\\n",
       "\t Eulor11    & DNA        & 205.9504  \\\\\n",
       "\t Eulor9A    & DNA        & 151.0897  \\\\\n",
       "\t Eulor9B    & DNA        & 126.0794  \\\\\n",
       "\t Eulor9C    & DNA        & 116.5057  \\\\\n",
       "\\end{tabular}\n"
      ],
      "text/markdown": [
       "\n",
       "TE_subfamily | info | avg_length | \n",
       "|---|---|---|---|---|---|\n",
       "| DNA-12_Crp | DNA        | 151.0000   | \n",
       "| Eulor1     | DNA        | 186.0222   | \n",
       "| Eulor11    | DNA        | 205.9504   | \n",
       "| Eulor9A    | DNA        | 151.0897   | \n",
       "| Eulor9B    | DNA        | 126.0794   | \n",
       "| Eulor9C    | DNA        | 116.5057   | \n",
       "\n",
       "\n"
      ],
      "text/plain": [
       "  TE_subfamily info avg_length\n",
       "1 DNA-12_Crp   DNA  151.0000  \n",
       "2 Eulor1       DNA  186.0222  \n",
       "3 Eulor11      DNA  205.9504  \n",
       "4 Eulor9A      DNA  151.0897  \n",
       "5 Eulor9B      DNA  126.0794  \n",
       "6 Eulor9C      DNA  116.5057  "
      ]
     },
     "metadata": {},
     "output_type": "display_data"
    }
   ],
   "source": [
    "head(mean_length)"
   ]
  },
  {
   "cell_type": "code",
   "execution_count": 13,
   "metadata": {
    "collapsed": true,
    "jupyter": {
     "outputs_hidden": true
    }
   },
   "outputs": [],
   "source": [
    "mean_per_div <- aggregate(as.numeric(fa.bed$perc_div), by=list(fa.bed$TE_subfamily, fa.bed$class_family), FUN=mean)\n",
    "colnames(mean_per_div) <- c(\"TE_subfamily\", \"info\", \"avg_perc_div\")"
   ]
  },
  {
   "cell_type": "code",
   "execution_count": 14,
   "metadata": {},
   "outputs": [
    {
     "data": {
      "text/html": [
       "<table>\n",
       "<thead><tr><th scope=col>TE_subfamily</th><th scope=col>info</th><th scope=col>avg_perc_div</th></tr></thead>\n",
       "<tbody>\n",
       "\t<tr><td>DNA-12_Crp</td><td>DNA       </td><td>34.00000  </td></tr>\n",
       "\t<tr><td>Eulor1    </td><td>DNA       </td><td>30.43111  </td></tr>\n",
       "\t<tr><td>Eulor11   </td><td>DNA       </td><td>31.72231  </td></tr>\n",
       "\t<tr><td>Eulor9A   </td><td>DNA       </td><td>33.01586  </td></tr>\n",
       "\t<tr><td>Eulor9B   </td><td>DNA       </td><td>31.16032  </td></tr>\n",
       "\t<tr><td>Eulor9C   </td><td>DNA       </td><td>31.95547  </td></tr>\n",
       "</tbody>\n",
       "</table>\n"
      ],
      "text/latex": [
       "\\begin{tabular}{r|lll}\n",
       " TE\\_subfamily & info & avg\\_perc\\_div\\\\\n",
       "\\hline\n",
       "\t DNA-12\\_Crp & DNA          & 34.00000    \\\\\n",
       "\t Eulor1     & DNA        & 30.43111  \\\\\n",
       "\t Eulor11    & DNA        & 31.72231  \\\\\n",
       "\t Eulor9A    & DNA        & 33.01586  \\\\\n",
       "\t Eulor9B    & DNA        & 31.16032  \\\\\n",
       "\t Eulor9C    & DNA        & 31.95547  \\\\\n",
       "\\end{tabular}\n"
      ],
      "text/markdown": [
       "\n",
       "TE_subfamily | info | avg_perc_div | \n",
       "|---|---|---|---|---|---|\n",
       "| DNA-12_Crp | DNA        | 34.00000   | \n",
       "| Eulor1     | DNA        | 30.43111   | \n",
       "| Eulor11    | DNA        | 31.72231   | \n",
       "| Eulor9A    | DNA        | 33.01586   | \n",
       "| Eulor9B    | DNA        | 31.16032   | \n",
       "| Eulor9C    | DNA        | 31.95547   | \n",
       "\n",
       "\n"
      ],
      "text/plain": [
       "  TE_subfamily info avg_perc_div\n",
       "1 DNA-12_Crp   DNA  34.00000    \n",
       "2 Eulor1       DNA  30.43111    \n",
       "3 Eulor11      DNA  31.72231    \n",
       "4 Eulor9A      DNA  33.01586    \n",
       "5 Eulor9B      DNA  31.16032    \n",
       "6 Eulor9C      DNA  31.95547    "
      ]
     },
     "metadata": {},
     "output_type": "display_data"
    }
   ],
   "source": [
    "head(mean_per_div)"
   ]
  },
  {
   "cell_type": "code",
   "execution_count": 15,
   "metadata": {
    "collapsed": true,
    "jupyter": {
     "outputs_hidden": true
    }
   },
   "outputs": [],
   "source": [
    "te_freq <- as.data.frame(table(fa.bed$TE_subfamily))\n",
    "te_freq <- merge(te_freq, fa.bed[,c(\"TE_subfamily\", \"class_family\")], by.x=\"Var1\", by.y=\"TE_subfamily\")\n",
    "colnames(te_freq) <- c(\"TE_subfamily\", \"Freq\", \"info\")"
   ]
  },
  {
   "cell_type": "code",
   "execution_count": 16,
   "metadata": {},
   "outputs": [
    {
     "data": {
      "text/html": [
       "<table>\n",
       "<thead><tr><th scope=col>TE_subfamily</th><th scope=col>Freq</th><th scope=col>info</th></tr></thead>\n",
       "<tbody>\n",
       "\t<tr><td>(A)n         </td><td>24540        </td><td>Simple_repeat</td></tr>\n",
       "\t<tr><td>(A)n         </td><td>24540        </td><td>Simple_repeat</td></tr>\n",
       "\t<tr><td>(A)n         </td><td>24540        </td><td>Simple_repeat</td></tr>\n",
       "\t<tr><td>(A)n         </td><td>24540        </td><td>Simple_repeat</td></tr>\n",
       "\t<tr><td>(A)n         </td><td>24540        </td><td>Simple_repeat</td></tr>\n",
       "\t<tr><td>(A)n         </td><td>24540        </td><td>Simple_repeat</td></tr>\n",
       "</tbody>\n",
       "</table>\n"
      ],
      "text/latex": [
       "\\begin{tabular}{r|lll}\n",
       " TE\\_subfamily & Freq & info\\\\\n",
       "\\hline\n",
       "\t (A)n            & 24540           & Simple\\_repeat\\\\\n",
       "\t (A)n            & 24540           & Simple\\_repeat\\\\\n",
       "\t (A)n            & 24540           & Simple\\_repeat\\\\\n",
       "\t (A)n            & 24540           & Simple\\_repeat\\\\\n",
       "\t (A)n            & 24540           & Simple\\_repeat\\\\\n",
       "\t (A)n            & 24540           & Simple\\_repeat\\\\\n",
       "\\end{tabular}\n"
      ],
      "text/markdown": [
       "\n",
       "TE_subfamily | Freq | info | \n",
       "|---|---|---|---|---|---|\n",
       "| (A)n          | 24540         | Simple_repeat | \n",
       "| (A)n          | 24540         | Simple_repeat | \n",
       "| (A)n          | 24540         | Simple_repeat | \n",
       "| (A)n          | 24540         | Simple_repeat | \n",
       "| (A)n          | 24540         | Simple_repeat | \n",
       "| (A)n          | 24540         | Simple_repeat | \n",
       "\n",
       "\n"
      ],
      "text/plain": [
       "  TE_subfamily Freq  info         \n",
       "1 (A)n         24540 Simple_repeat\n",
       "2 (A)n         24540 Simple_repeat\n",
       "3 (A)n         24540 Simple_repeat\n",
       "4 (A)n         24540 Simple_repeat\n",
       "5 (A)n         24540 Simple_repeat\n",
       "6 (A)n         24540 Simple_repeat"
      ]
     },
     "metadata": {},
     "output_type": "display_data"
    }
   ],
   "source": [
    "head(te_freq)"
   ]
  },
  {
   "cell_type": "code",
   "execution_count": 20,
   "metadata": {},
   "outputs": [
    {
     "name": "stderr",
     "output_type": "stream",
     "text": [
      "\n",
      "Attaching package: ‘dplyr’\n",
      "\n",
      "The following objects are masked from ‘package:data.table’:\n",
      "\n",
      "    between, first, last\n",
      "\n",
      "The following objects are masked from ‘package:stats’:\n",
      "\n",
      "    filter, lag\n",
      "\n",
      "The following objects are masked from ‘package:base’:\n",
      "\n",
      "    intersect, setdiff, setequal, union\n",
      "\n"
     ]
    }
   ],
   "source": [
    "library(dplyr)\n",
    "te_freq.2<-distinct(te_freq)"
   ]
  },
  {
   "cell_type": "code",
   "execution_count": 17,
   "metadata": {
    "collapsed": true,
    "jupyter": {
     "outputs_hidden": true
    }
   },
   "outputs": [],
   "source": [
    "mergeDat<-merge(mean_length,mean_per_div,by=\"TE_subfamily\")"
   ]
  },
  {
   "cell_type": "code",
   "execution_count": 21,
   "metadata": {},
   "outputs": [
    {
     "data": {
      "text/html": [
       "<table>\n",
       "<thead><tr><th scope=col>TE_subfamily</th><th scope=col>info.x</th><th scope=col>avg_length</th><th scope=col>info.y</th><th scope=col>avg_perc_div</th></tr></thead>\n",
       "<tbody>\n",
       "\t<tr><td>(A)n         </td><td>Simple_repeat</td><td>23.75065     </td><td>Simple_repeat</td><td>5.354792     </td></tr>\n",
       "\t<tr><td>(AA)n        </td><td>Simple_repeat</td><td>23.00000     </td><td>Simple_repeat</td><td>0.000000     </td></tr>\n",
       "\t<tr><td>(AAA)n       </td><td>Simple_repeat</td><td>18.50000     </td><td>Simple_repeat</td><td>0.000000     </td></tr>\n",
       "\t<tr><td>(AAAAAAC)n   </td><td>Simple_repeat</td><td>38.85714     </td><td>Simple_repeat</td><td>5.494286     </td></tr>\n",
       "\t<tr><td>(AAAAAAG)n   </td><td>Simple_repeat</td><td>42.10000     </td><td>Simple_repeat</td><td>7.730000     </td></tr>\n",
       "\t<tr><td>(AAAAAAT)n   </td><td>Simple_repeat</td><td>42.15385     </td><td>Simple_repeat</td><td>7.200000     </td></tr>\n",
       "</tbody>\n",
       "</table>\n"
      ],
      "text/latex": [
       "\\begin{tabular}{r|lllll}\n",
       " TE\\_subfamily & info.x & avg\\_length & info.y & avg\\_perc\\_div\\\\\n",
       "\\hline\n",
       "\t (A)n            & Simple\\_repeat & 23.75065        & Simple\\_repeat & 5.354792       \\\\\n",
       "\t (AA)n           & Simple\\_repeat & 23.00000        & Simple\\_repeat & 0.000000       \\\\\n",
       "\t (AAA)n          & Simple\\_repeat & 18.50000        & Simple\\_repeat & 0.000000       \\\\\n",
       "\t (AAAAAAC)n      & Simple\\_repeat & 38.85714        & Simple\\_repeat & 5.494286       \\\\\n",
       "\t (AAAAAAG)n      & Simple\\_repeat & 42.10000        & Simple\\_repeat & 7.730000       \\\\\n",
       "\t (AAAAAAT)n      & Simple\\_repeat & 42.15385        & Simple\\_repeat & 7.200000       \\\\\n",
       "\\end{tabular}\n"
      ],
      "text/markdown": [
       "\n",
       "TE_subfamily | info.x | avg_length | info.y | avg_perc_div | \n",
       "|---|---|---|---|---|---|\n",
       "| (A)n          | Simple_repeat | 23.75065      | Simple_repeat | 5.354792      | \n",
       "| (AA)n         | Simple_repeat | 23.00000      | Simple_repeat | 0.000000      | \n",
       "| (AAA)n        | Simple_repeat | 18.50000      | Simple_repeat | 0.000000      | \n",
       "| (AAAAAAC)n    | Simple_repeat | 38.85714      | Simple_repeat | 5.494286      | \n",
       "| (AAAAAAG)n    | Simple_repeat | 42.10000      | Simple_repeat | 7.730000      | \n",
       "| (AAAAAAT)n    | Simple_repeat | 42.15385      | Simple_repeat | 7.200000      | \n",
       "\n",
       "\n"
      ],
      "text/plain": [
       "  TE_subfamily info.x        avg_length info.y        avg_perc_div\n",
       "1 (A)n         Simple_repeat 23.75065   Simple_repeat 5.354792    \n",
       "2 (AA)n        Simple_repeat 23.00000   Simple_repeat 0.000000    \n",
       "3 (AAA)n       Simple_repeat 18.50000   Simple_repeat 0.000000    \n",
       "4 (AAAAAAC)n   Simple_repeat 38.85714   Simple_repeat 5.494286    \n",
       "5 (AAAAAAG)n   Simple_repeat 42.10000   Simple_repeat 7.730000    \n",
       "6 (AAAAAAT)n   Simple_repeat 42.15385   Simple_repeat 7.200000    "
      ]
     },
     "metadata": {},
     "output_type": "display_data"
    }
   ],
   "source": [
    "head(mergeDat)"
   ]
  },
  {
   "cell_type": "code",
   "execution_count": 23,
   "metadata": {},
   "outputs": [
    {
     "data": {
      "text/html": [
       "<ol class=list-inline>\n",
       "\t<li>14951</li>\n",
       "\t<li>5</li>\n",
       "</ol>\n"
      ],
      "text/latex": [
       "\\begin{enumerate*}\n",
       "\\item 14951\n",
       "\\item 5\n",
       "\\end{enumerate*}\n"
      ],
      "text/markdown": [
       "1. 14951\n",
       "2. 5\n",
       "\n",
       "\n"
      ],
      "text/plain": [
       "[1] 14951     5"
      ]
     },
     "metadata": {},
     "output_type": "display_data"
    },
    {
     "data": {
      "text/html": [
       "<ol class=list-inline>\n",
       "\t<li>14945</li>\n",
       "\t<li>3</li>\n",
       "</ol>\n"
      ],
      "text/latex": [
       "\\begin{enumerate*}\n",
       "\\item 14945\n",
       "\\item 3\n",
       "\\end{enumerate*}\n"
      ],
      "text/markdown": [
       "1. 14945\n",
       "2. 3\n",
       "\n",
       "\n"
      ],
      "text/plain": [
       "[1] 14945     3"
      ]
     },
     "metadata": {},
     "output_type": "display_data"
    }
   ],
   "source": [
    "dim(mergeDat)\n",
    "dim(te_freq.2)"
   ]
  },
  {
   "cell_type": "code",
   "execution_count": 24,
   "metadata": {
    "collapsed": true,
    "jupyter": {
     "outputs_hidden": true
    }
   },
   "outputs": [],
   "source": [
    "mergeDat.2<-merge(mergeDat,te_freq.2,by=\"TE_subfamily\")"
   ]
  },
  {
   "cell_type": "code",
   "execution_count": 25,
   "metadata": {},
   "outputs": [
    {
     "data": {
      "text/html": [
       "<table>\n",
       "<thead><tr><th scope=col>TE_subfamily</th><th scope=col>info.x</th><th scope=col>avg_length</th><th scope=col>info.y</th><th scope=col>avg_perc_div</th><th scope=col>Freq</th><th scope=col>info</th></tr></thead>\n",
       "<tbody>\n",
       "\t<tr><td>(A)n         </td><td>Simple_repeat</td><td>23.75065     </td><td>Simple_repeat</td><td>5.354792     </td><td>24540        </td><td>Simple_repeat</td></tr>\n",
       "\t<tr><td>(AA)n        </td><td>Simple_repeat</td><td>23.00000     </td><td>Simple_repeat</td><td>0.000000     </td><td>    2        </td><td>Simple_repeat</td></tr>\n",
       "\t<tr><td>(AAA)n       </td><td>Simple_repeat</td><td>18.50000     </td><td>Simple_repeat</td><td>0.000000     </td><td>    2        </td><td>Simple_repeat</td></tr>\n",
       "\t<tr><td>(AAAAAAC)n   </td><td>Simple_repeat</td><td>38.85714     </td><td>Simple_repeat</td><td>5.494286     </td><td>   35        </td><td>Simple_repeat</td></tr>\n",
       "\t<tr><td>(AAAAAAG)n   </td><td>Simple_repeat</td><td>42.10000     </td><td>Simple_repeat</td><td>7.730000     </td><td>   10        </td><td>Simple_repeat</td></tr>\n",
       "\t<tr><td>(AAAAAAT)n   </td><td>Simple_repeat</td><td>42.15385     </td><td>Simple_repeat</td><td>7.200000     </td><td>   13        </td><td>Simple_repeat</td></tr>\n",
       "</tbody>\n",
       "</table>\n"
      ],
      "text/latex": [
       "\\begin{tabular}{r|lllllll}\n",
       " TE\\_subfamily & info.x & avg\\_length & info.y & avg\\_perc\\_div & Freq & info\\\\\n",
       "\\hline\n",
       "\t (A)n            & Simple\\_repeat & 23.75065        & Simple\\_repeat & 5.354792        & 24540           & Simple\\_repeat\\\\\n",
       "\t (AA)n           & Simple\\_repeat & 23.00000        & Simple\\_repeat & 0.000000        &     2           & Simple\\_repeat\\\\\n",
       "\t (AAA)n          & Simple\\_repeat & 18.50000        & Simple\\_repeat & 0.000000        &     2           & Simple\\_repeat\\\\\n",
       "\t (AAAAAAC)n      & Simple\\_repeat & 38.85714        & Simple\\_repeat & 5.494286        &    35           & Simple\\_repeat\\\\\n",
       "\t (AAAAAAG)n      & Simple\\_repeat & 42.10000        & Simple\\_repeat & 7.730000        &    10           & Simple\\_repeat\\\\\n",
       "\t (AAAAAAT)n      & Simple\\_repeat & 42.15385        & Simple\\_repeat & 7.200000        &    13           & Simple\\_repeat\\\\\n",
       "\\end{tabular}\n"
      ],
      "text/markdown": [
       "\n",
       "TE_subfamily | info.x | avg_length | info.y | avg_perc_div | Freq | info | \n",
       "|---|---|---|---|---|---|\n",
       "| (A)n          | Simple_repeat | 23.75065      | Simple_repeat | 5.354792      | 24540         | Simple_repeat | \n",
       "| (AA)n         | Simple_repeat | 23.00000      | Simple_repeat | 0.000000      |     2         | Simple_repeat | \n",
       "| (AAA)n        | Simple_repeat | 18.50000      | Simple_repeat | 0.000000      |     2         | Simple_repeat | \n",
       "| (AAAAAAC)n    | Simple_repeat | 38.85714      | Simple_repeat | 5.494286      |    35         | Simple_repeat | \n",
       "| (AAAAAAG)n    | Simple_repeat | 42.10000      | Simple_repeat | 7.730000      |    10         | Simple_repeat | \n",
       "| (AAAAAAT)n    | Simple_repeat | 42.15385      | Simple_repeat | 7.200000      |    13         | Simple_repeat | \n",
       "\n",
       "\n"
      ],
      "text/plain": [
       "  TE_subfamily info.x        avg_length info.y        avg_perc_div Freq \n",
       "1 (A)n         Simple_repeat 23.75065   Simple_repeat 5.354792     24540\n",
       "2 (AA)n        Simple_repeat 23.00000   Simple_repeat 0.000000         2\n",
       "3 (AAA)n       Simple_repeat 18.50000   Simple_repeat 0.000000         2\n",
       "4 (AAAAAAC)n   Simple_repeat 38.85714   Simple_repeat 5.494286        35\n",
       "5 (AAAAAAG)n   Simple_repeat 42.10000   Simple_repeat 7.730000        10\n",
       "6 (AAAAAAT)n   Simple_repeat 42.15385   Simple_repeat 7.200000        13\n",
       "  info         \n",
       "1 Simple_repeat\n",
       "2 Simple_repeat\n",
       "3 Simple_repeat\n",
       "4 Simple_repeat\n",
       "5 Simple_repeat\n",
       "6 Simple_repeat"
      ]
     },
     "metadata": {},
     "output_type": "display_data"
    }
   ],
   "source": [
    "head(mergeDat.2)"
   ]
  },
  {
   "cell_type": "code",
   "execution_count": 26,
   "metadata": {
    "collapsed": true,
    "jupyter": {
     "outputs_hidden": true
    }
   },
   "outputs": [],
   "source": [
    "finalDat<-mergeDat.2[,c(1,2,3,5,6)]"
   ]
  },
  {
   "cell_type": "code",
   "execution_count": 27,
   "metadata": {
    "collapsed": true,
    "jupyter": {
     "outputs_hidden": true
    }
   },
   "outputs": [],
   "source": [
    "write.csv(finalDat,\"finalDat.csv\") #这个结果就是我们想要的"
   ]
  },
  {
   "cell_type": "code",
   "execution_count": null,
   "metadata": {
    "collapsed": true,
    "jupyter": {
     "outputs_hidden": true
    }
   },
   "outputs": [],
   "source": [
    "#fa.bed <- fread(\"/Volumes/MyPassport/annotations/human/repeatmasker/hg38.retro.fa.out\", fill=T)\n",
    "#colnames(fa.bed) <- c(\"SW_score\", \"perc_div\", \"perc_del\", \"perc_ins\", \"query_seq\", \"pos_in_query_begin\", \"pos_in_query_end\", \"pos_in_query_left\", \"strand\", \"TE_subfamily\", \"class_family\", \"pos_in_repeat_begin\", \"pos_in_repeat_end\", \"pos_in_repeat_left\", \"ID\")\n",
    "#fa.bed$length <- fa.bed$pos_in_query_end - fa.bed$pos_in_query_begin\n",
    "#mean_length <- aggregate(fa.bed$length, by=list(fa.bed$TE_subfamily, fa.bed$class_family), FUN=mean)\n",
    "#colnames(mean_length) <- c(\"TE_subfamily\", \"info\", \"avg_length\")\n",
    "#mean_per_div <- aggregate(fa.bed$perc_div, by=list(fa.bed$TE_subfamily, fa.bed$class_family), FUN=mean)\n",
    "#colnames(mean_per_div) <- c(\"TE_subfamily\", \"info\", \"avg_perc_div\")\n",
    "#te_freq <- as.data.frame(table(fa.bed$TE_subfamily))\n",
    "#te_freq <- merge(te_freq, fa.bed[,c(\"TE_subfamily\", \"class_family\")], by.x=\"Var1\", by.y=\"TE_subfamily\")\n",
    "#colnames(te_freq) <- c(\"TE_subfamily\", \"Freq\", \"info\")\n"
   ]
  },
  {
   "cell_type": "code",
   "execution_count": null,
   "metadata": {
    "collapsed": true,
    "jupyter": {
     "outputs_hidden": true
    }
   },
   "outputs": [],
   "source": []
  }
 ],
 "metadata": {
  "kernelspec": {
   "display_name": "R",
   "language": "R",
   "name": "ir"
  },
  "language_info": {
   "codemirror_mode": "r",
   "file_extension": ".r",
   "mimetype": "text/x-r-source",
   "name": "R",
   "pygments_lexer": "r",
   "version": "4.2.0"
  }
 },
 "nbformat": 4,
 "nbformat_minor": 4
}
